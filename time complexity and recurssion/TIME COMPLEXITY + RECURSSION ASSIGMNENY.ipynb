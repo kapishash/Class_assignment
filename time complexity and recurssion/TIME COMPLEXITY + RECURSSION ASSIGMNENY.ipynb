{
 "cells": [
  {
   "cell_type": "markdown",
   "id": "399ba3a5-6dce-412f-aac7-856ddbe0a0a9",
   "metadata": {},
   "source": [
    "Problem 6 : Sum of Digits\n",
    "Write a recursive function to calculate the sum of digits of a given positive integer.\n",
    "sum_of_digits(123) -> 6"
   ]
  },
  {
   "cell_type": "code",
   "execution_count": 2,
   "id": "d7e212c8-af05-438c-8dc6-384f401f1da2",
   "metadata": {},
   "outputs": [
    {
     "name": "stdout",
     "output_type": "stream",
     "text": [
      "6\n"
     ]
    }
   ],
   "source": [
    "def sum_of_digit(n):\n",
    "    if n == 0:\n",
    "        return n\n",
    "    else:\n",
    "        return (n % 10 +  sum_of_digit(int(n/10)))\n",
    "    \n",
    "n = 123\n",
    "result = sum_of_digit(n)\n",
    "print(result)"
   ]
  },
  {
   "cell_type": "markdown",
   "id": "31ebf66e-e49d-4c02-87cd-8673c4841cb1",
   "metadata": {},
   "source": [
    "Problem 7: Fibonacci Series\n",
    "Write a recursive function to generate the first n numbers of the Fibonacci series.\n",
    "fibonacci_series(6) -> [0, 1, 1, 2, 3, 5]"
   ]
  },
  {
   "cell_type": "code",
   "execution_count": 25,
   "id": "64658280-e533-4b5e-8cbe-49b1128268f7",
   "metadata": {},
   "outputs": [
    {
     "name": "stdout",
     "output_type": "stream",
     "text": [
      "0 1 1 2 3 5 "
     ]
    }
   ],
   "source": [
    "def fib_series(n):\n",
    "    if n <= 1:\n",
    "        return n\n",
    "    else:\n",
    "        return fib_series(n-1) + fib_series(n-2)\n",
    "    \n",
    "n = 6\n",
    "for i in range(n):\n",
    "    print(fib_series(i), end = ' ' )"
   ]
  },
  {
   "cell_type": "markdown",
   "id": "3d5c5d38-6c9f-4e5d-a6ac-257688338eac",
   "metadata": {},
   "source": [
    "Problem 8 : Subset Sum\n",
    "Given a set of positive integers and a target sum, write a recursive function to determine if there exists a subset\n",
    "of the integers that adds up to the target sum.\n",
    "subset_sum([3, 34, 4, 12, 5, 2], 9) -> True\n"
   ]
  },
  {
   "cell_type": "code",
   "execution_count": 26,
   "id": "c7b18f1d-50dc-4c22-9525-286e53eab74b",
   "metadata": {},
   "outputs": [
    {
     "name": "stdout",
     "output_type": "stream",
     "text": [
      "False\n"
     ]
    }
   ],
   "source": [
    "def isSubsetSum(set, n, sum):\n",
    "    if (sum == 0):\n",
    "        return True\n",
    "    if (n == 0):\n",
    "        return False\n",
    "    if (set[n - 1] > sum):\n",
    "        return isSubsetSum(set, n - 1, sum)\n",
    "    return isSubsetSum(\n",
    "        set, n-1, sum) or isSubsetSum(\n",
    "        set, n-1, sum-set[n-1])\n",
    "\n",
    "\n",
    "set = [2, 6, 56, 1, 91, 0]\n",
    "n = 6\n",
    "sum = 101\n",
    "print(isSubsetSum(set, n, sum))"
   ]
  },
  {
   "cell_type": "markdown",
   "id": "c26a2285-34df-4c6d-b350-e69646e8adcb",
   "metadata": {},
   "source": [
    "Problem 9: Word Break\n",
    "Given a non-empty string and a dictionary of words, write a recursive function to determine if the string can be\n",
    "segmented into a space-separated sequence of dictionary words.\n",
    "word_break( leetcode , [ leet , code ]) -> True"
   ]
  },
  {
   "cell_type": "code",
   "execution_count": 27,
   "id": "8ece51c1-7711-409c-a650-603b6cdc70a9",
   "metadata": {},
   "outputs": [
    {
     "name": "stdout",
     "output_type": "stream",
     "text": [
      "True\n"
     ]
    }
   ],
   "source": [
    "def wordBreak(wordList , word):\n",
    "  if word == \"\":\n",
    "    return True\n",
    "  else :\n",
    "    wordLen = len(word)\n",
    "    for i in range(1, wordLen+1):\n",
    "      if word[:i] in wordList and wordBreak(wordList, word[i:]):\n",
    "        return True\n",
    "    return False\n",
    "\n",
    "wordList = [\"leet\", \"code\"]\n",
    "word = 'leetcode'\n",
    "result = wordBreak(wordList , word)\n",
    "print(result)"
   ]
  },
  {
   "cell_type": "markdown",
   "id": "56924167-c0e4-436b-9a3c-9ba8d07e1482",
   "metadata": {},
   "source": [
    "Problem 10 : N-Queens\n",
    "Implement a recursive function to solve the N Queens problem, where you have to place N queens on an N×N\n",
    "chessboard in such a way that no two queens threaten each other.\n",
    "n_queens(4)"
   ]
  },
  {
   "cell_type": "code",
   "execution_count": null,
   "id": "de571a2e-fe2e-4f8d-81bf-d291b341fb75",
   "metadata": {},
   "outputs": [],
   "source": []
  }
 ],
 "metadata": {
  "kernelspec": {
   "display_name": "Python 3 (ipykernel)",
   "language": "python",
   "name": "python3"
  },
  "language_info": {
   "codemirror_mode": {
    "name": "ipython",
    "version": 3
   },
   "file_extension": ".py",
   "mimetype": "text/x-python",
   "name": "python",
   "nbconvert_exporter": "python",
   "pygments_lexer": "ipython3",
   "version": "3.10.8"
  }
 },
 "nbformat": 4,
 "nbformat_minor": 5
}
