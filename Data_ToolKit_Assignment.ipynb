{
  "nbformat": 4,
  "nbformat_minor": 0,
  "metadata": {
    "colab": {
      "provenance": []
    },
    "kernelspec": {
      "name": "python3",
      "display_name": "Python 3"
    },
    "language_info": {
      "name": "python"
    }
  },
  "cells": [
    {
      "cell_type": "markdown",
      "source": [
        "1) Demonstrate three different methods for creating identical 2D arrays in NumPy. Provide the code for each\n",
        "method and the final output after each method"
      ],
      "metadata": {
        "id": "cG9D01Yd-t2L"
      }
    },
    {
      "cell_type": "markdown",
      "source": [
        "Method 1: Using numpy.array()\n",
        "You can directly define a 2D array by passing a nested list to np.array()."
      ],
      "metadata": {
        "id": "fO7qJfI6-CA6"
      }
    },
    {
      "cell_type": "code",
      "execution_count": 35,
      "metadata": {
        "colab": {
          "base_uri": "https://localhost:8080/"
        },
        "id": "6mEW--p190go",
        "outputId": "4de10e92-7aa8-451f-816b-470786a3239c"
      },
      "outputs": [
        {
          "output_type": "stream",
          "name": "stdout",
          "text": [
            "Method 1:\n",
            " [[1 2 3]\n",
            " [4 5 6]]\n"
          ]
        }
      ],
      "source": [
        "import numpy as np\n",
        "\n",
        "# Method 1\n",
        "array1 = np.array([[1, 2, 3], [4, 5, 6]])\n",
        "print(\"Method 1:\\n\", array1)\n"
      ]
    },
    {
      "cell_type": "markdown",
      "source": [
        "Method 2: Using numpy.full() with Shape and Fill Value\n",
        "You can create a 2D array by specifying the shape and a fill value."
      ],
      "metadata": {
        "id": "nG1B0yl7-H3x"
      }
    },
    {
      "cell_type": "code",
      "source": [
        "# Method 2\n",
        "array2 = np.full((2, 3), [[1, 2, 3], [4, 5, 6]])\n",
        "print(\"\\nMethod 2:\\n\", array2)\n"
      ],
      "metadata": {
        "colab": {
          "base_uri": "https://localhost:8080/"
        },
        "id": "ftiPAe3T-FfK",
        "outputId": "2c9efac0-b958-44ad-841a-8280ad807415"
      },
      "execution_count": 36,
      "outputs": [
        {
          "output_type": "stream",
          "name": "stdout",
          "text": [
            "\n",
            "Method 2:\n",
            " [[1 2 3]\n",
            " [4 5 6]]\n"
          ]
        }
      ]
    },
    {
      "cell_type": "markdown",
      "source": [
        "Method 3: Using numpy.zeros() or numpy.empty() and then Filling the Values\n",
        "You can initialize an empty 2D array and then assign values to its elements."
      ],
      "metadata": {
        "id": "UGCXFAxM-MaB"
      }
    },
    {
      "cell_type": "code",
      "source": [
        "# Method 3\n",
        "array3 = np.zeros((2, 3), dtype=int)\n",
        "array3[0, :] = [1, 2, 3]\n",
        "array3[1, :] = [4, 5, 6]\n",
        "print(\"\\nMethod 3:\\n\", array3)\n"
      ],
      "metadata": {
        "colab": {
          "base_uri": "https://localhost:8080/"
        },
        "id": "wKzlB9HE-JvZ",
        "outputId": "b4197164-6a76-4b98-edbc-7060fc69cef6"
      },
      "execution_count": 37,
      "outputs": [
        {
          "output_type": "stream",
          "name": "stdout",
          "text": [
            "\n",
            "Method 3:\n",
            " [[1 2 3]\n",
            " [4 5 6]]\n"
          ]
        }
      ]
    },
    {
      "cell_type": "markdown",
      "source": [
        "---"
      ],
      "metadata": {
        "id": "vu2oheWO-TNR"
      }
    },
    {
      "cell_type": "markdown",
      "source": [
        "2) Using the Numpy function, generate an array of 100 evenly spaced numbers between 1 and 10 and\n",
        "Reshape that 1D array into a 2D array."
      ],
      "metadata": {
        "id": "BRdUu2xd-UJA"
      }
    },
    {
      "cell_type": "code",
      "source": [
        "import numpy as np\n",
        "\n",
        "array_1d = np.linspace(1, 10, 100)\n",
        "\n",
        "array_2d = array_1d.reshape((10, 10))\n",
        "\n",
        "print(\"2D Array:\\n\", array_2d)\n"
      ],
      "metadata": {
        "colab": {
          "base_uri": "https://localhost:8080/"
        },
        "id": "Rsr9lzwt-PU5",
        "outputId": "eecaac84-cecc-4749-ca1b-076cdd97548e"
      },
      "execution_count": 38,
      "outputs": [
        {
          "output_type": "stream",
          "name": "stdout",
          "text": [
            "2D Array:\n",
            " [[ 1.          1.09090909  1.18181818  1.27272727  1.36363636  1.45454545\n",
            "   1.54545455  1.63636364  1.72727273  1.81818182]\n",
            " [ 1.90909091  2.          2.09090909  2.18181818  2.27272727  2.36363636\n",
            "   2.45454545  2.54545455  2.63636364  2.72727273]\n",
            " [ 2.81818182  2.90909091  3.          3.09090909  3.18181818  3.27272727\n",
            "   3.36363636  3.45454545  3.54545455  3.63636364]\n",
            " [ 3.72727273  3.81818182  3.90909091  4.          4.09090909  4.18181818\n",
            "   4.27272727  4.36363636  4.45454545  4.54545455]\n",
            " [ 4.63636364  4.72727273  4.81818182  4.90909091  5.          5.09090909\n",
            "   5.18181818  5.27272727  5.36363636  5.45454545]\n",
            " [ 5.54545455  5.63636364  5.72727273  5.81818182  5.90909091  6.\n",
            "   6.09090909  6.18181818  6.27272727  6.36363636]\n",
            " [ 6.45454545  6.54545455  6.63636364  6.72727273  6.81818182  6.90909091\n",
            "   7.          7.09090909  7.18181818  7.27272727]\n",
            " [ 7.36363636  7.45454545  7.54545455  7.63636364  7.72727273  7.81818182\n",
            "   7.90909091  8.          8.09090909  8.18181818]\n",
            " [ 8.27272727  8.36363636  8.45454545  8.54545455  8.63636364  8.72727273\n",
            "   8.81818182  8.90909091  9.          9.09090909]\n",
            " [ 9.18181818  9.27272727  9.36363636  9.45454545  9.54545455  9.63636364\n",
            "   9.72727273  9.81818182  9.90909091 10.        ]]\n"
          ]
        }
      ]
    },
    {
      "cell_type": "markdown",
      "source": [
        "---\n"
      ],
      "metadata": {
        "id": "LpMYqcL_-ez-"
      }
    },
    {
      "cell_type": "markdown",
      "source": [
        "3) Explain the following termsg\n",
        "M The difference in np.array, np.asarray and np.asanyarrayX\n",
        "M The difference between Deep copy and shallow copy."
      ],
      "metadata": {
        "id": "d5MKF0S6-iTa"
      }
    },
    {
      "cell_type": "markdown",
      "source": [
        "Let's go over each concept and clarify the differences:\n",
        "\n",
        "---\n",
        "\n",
        "### 1. Differences between `np.array`, `np.asarray`, and `np.asanyarray`\n",
        "\n",
        "These three functions are used to convert input data into NumPy arrays, but they behave differently in specific situations.\n",
        "\n",
        "- **`np.array`**:\n",
        "  - This function creates a new `ndarray` object from any input data, always copying the data unless explicitly specified with `copy=False`.\n",
        "  - It can convert inputs to base `ndarray` objects, which means any input subclass (e.g., `matrix`) will be cast to `ndarray`.\n"
      ],
      "metadata": {
        "id": "Z3D_1gJB-2aE"
      }
    },
    {
      "cell_type": "code",
      "source": [
        "import numpy as np\n",
        "\n",
        "original = np.matrix([[1, 2], [3, 4]])\n",
        "array = np.array(original)\n",
        "print(type(array))"
      ],
      "metadata": {
        "colab": {
          "base_uri": "https://localhost:8080/"
        },
        "id": "BAWFLcNj-9Bc",
        "outputId": "f441d002-206f-4f4d-94c2-6dfb98a895b1"
      },
      "execution_count": 39,
      "outputs": [
        {
          "output_type": "stream",
          "name": "stdout",
          "text": [
            "<class 'numpy.ndarray'>\n"
          ]
        }
      ]
    },
    {
      "cell_type": "markdown",
      "source": [
        "\n",
        "- **`np.asarray`**:\n",
        "  - This function converts the input to an array without copying if the input is already an `ndarray` (by default, `copy=False`).\n",
        "  - If you pass an `ndarray` (e.g., an existing array) as input, `np.asarray` will not create a new copy.\n",
        "  - However, like `np.array`, it converts subclasses (e.g., `matrix`) to base `ndarray`.\n"
      ],
      "metadata": {
        "id": "mXUP_WQb-_wy"
      }
    },
    {
      "cell_type": "code",
      "source": [
        "original = np.array([1, 2, 3])\n",
        "array = np.asarray(original)\n",
        "print(array is original)"
      ],
      "metadata": {
        "colab": {
          "base_uri": "https://localhost:8080/"
        },
        "id": "-oz1ucDB-a5a",
        "outputId": "ed4a27d3-5346-4903-d5b5-e225bebdbae2"
      },
      "execution_count": 40,
      "outputs": [
        {
          "output_type": "stream",
          "name": "stdout",
          "text": [
            "True\n"
          ]
        }
      ]
    },
    {
      "cell_type": "markdown",
      "source": [
        "\n",
        "\n",
        "- **`np.asanyarray`**:\n",
        "  - Similar to `np.asarray`, but it preserves subclasses of `ndarray` (such as `matrix`).\n",
        "  - If the input is already an `ndarray` or one of its subclasses, it does not make a copy, and the subclass type is retained.\n",
        "\n",
        "### 2. Difference between Deep Copy and Shallow Copy\n",
        "\n",
        "When copying objects in Python, there are two main types of copies: **shallow copies** and **deep copies**.\n",
        "\n",
        "- **Shallow Copy**:\n",
        "  - Creates a new object, but does not create copies of nested objects (e.g., lists within lists); instead, it references the original objects.\n",
        "  - Changes to mutable nested elements (like lists inside a copied list) will be reflected in both the original and the copied object.\n",
        "\n",
        "  ```python\n",
        "  import copy\n",
        "  \n",
        "  original = [[1, 2, 3], [4, 5, 6]]\n",
        "  shallow_copy = copy.copy(original)\n",
        "  \n",
        "  shallow_copy[0][0] = 99\n",
        "  print(original)  # Output: [[99, 2, 3], [4, 5, 6]]\n",
        "  ```\n",
        "\n",
        "- **Deep Copy**:\n",
        "  - Creates a new object and recursively copies all nested objects.\n",
        "  - Changes to nested elements in the deep copy will not affect the original object and vice versa.\n",
        "\n",
        "  ```python\n",
        "  import copy\n",
        "\n",
        "  original = [[1, 2, 3], [4, 5, 6]]\n",
        "  deep_copy = copy.deepcopy(original)\n",
        "\n",
        "  deep_copy[0][0] = 99\n",
        "  print(original)  # Output: [[1, 2, 3], [4, 5, 6]]\n",
        "  ```\n"
      ],
      "metadata": {
        "id": "Dg6Dnaaj_SX9"
      }
    },
    {
      "cell_type": "code",
      "source": [
        "original = np.matrix([[1, 2], [3, 4]])\n",
        "array = np.asanyarray(original)\n",
        "print(type(array))"
      ],
      "metadata": {
        "colab": {
          "base_uri": "https://localhost:8080/"
        },
        "id": "OGasGCcG_KyB",
        "outputId": "b67e73ed-3c7e-4404-9dec-53e283de1d08"
      },
      "execution_count": 41,
      "outputs": [
        {
          "output_type": "stream",
          "name": "stdout",
          "text": [
            "<class 'numpy.matrix'>\n"
          ]
        }
      ]
    },
    {
      "cell_type": "markdown",
      "source": [
        "\n",
        "\n",
        "### 2. Difference between Deep Copy and Shallow Copy\n",
        "\n",
        "When copying objects in Python, there are two main types of copies: **shallow copies** and **deep copies**.\n",
        "\n",
        "- **Shallow Copy**:\n",
        "  - Creates a new object, but does not create copies of nested objects (e.g., lists within lists); instead, it references the original objects.\n",
        "  - Changes to mutable nested elements (like lists inside a copied list) will be reflected in both the original and the copied object.\n",
        "\n",
        "\n",
        "\n",
        "- **Deep Copy**:\n",
        "  - Creates a new object and recursively copies all nested objects.\n",
        "  - Changes to nested elements in the deep copy will not affect the original object and vice versa.\n",
        "\n"
      ],
      "metadata": {
        "id": "ESp559f6_eU3"
      }
    },
    {
      "cell_type": "code",
      "source": [
        "import copy\n",
        "\n",
        "original = [[1, 2, 3], [4, 5, 6]]\n",
        "shallow_copy = copy.copy(original)\n",
        "\n",
        "shallow_copy[0][0] = 99\n",
        "print(original)  # Output: [[99, 2, 3], [4, 5, 6]]"
      ],
      "metadata": {
        "colab": {
          "base_uri": "https://localhost:8080/"
        },
        "id": "srxZwHMg_Xop",
        "outputId": "49bc1281-4aea-447e-deba-9e755eba3168"
      },
      "execution_count": 42,
      "outputs": [
        {
          "output_type": "stream",
          "name": "stdout",
          "text": [
            "[[99, 2, 3], [4, 5, 6]]\n"
          ]
        }
      ]
    },
    {
      "cell_type": "code",
      "source": [
        "import copy\n",
        "\n",
        "original = [[1, 2, 3], [4, 5, 6]]\n",
        "deep_copy = copy.deepcopy(original)\n",
        "\n",
        "deep_copy[0][0] = 99\n",
        "print(original)  # Output: [[1, 2, 3], [4, 5, 6]]"
      ],
      "metadata": {
        "colab": {
          "base_uri": "https://localhost:8080/"
        },
        "id": "NE8heTp__iP4",
        "outputId": "e0a43573-c52e-4fb5-cb9b-4a72a466f9a1"
      },
      "execution_count": 43,
      "outputs": [
        {
          "output_type": "stream",
          "name": "stdout",
          "text": [
            "[[1, 2, 3], [4, 5, 6]]\n"
          ]
        }
      ]
    },
    {
      "cell_type": "markdown",
      "source": [
        "---"
      ],
      "metadata": {
        "id": "QmI0hRQm_kjR"
      }
    },
    {
      "cell_type": "markdown",
      "source": [
        "4) Generate a 3x3 array with random floating-point numbers between 5 and 20. Then, round each number in\n",
        "the array to 2 decimal places."
      ],
      "metadata": {
        "id": "-s7cO4NB_sQ0"
      }
    },
    {
      "cell_type": "code",
      "source": [
        "import numpy as np\n",
        "\n",
        "# Generate a 3x3 array with random values between 5 and 20\n",
        "random_array = np.random.uniform(5, 20, (3, 3))\n",
        "\n",
        "# Round each element to 2 decimal places\n",
        "rounded_array = np.round(random_array, 2)\n",
        "\n",
        "print(\"Original Array:\\n\", random_array)\n",
        "print(\"\\nRounded Array:\\n\", rounded_array)\n"
      ],
      "metadata": {
        "colab": {
          "base_uri": "https://localhost:8080/"
        },
        "id": "giUSK_rR_qSY",
        "outputId": "364b88d0-9b1a-4923-d9bf-38bcbc817a87"
      },
      "execution_count": 44,
      "outputs": [
        {
          "output_type": "stream",
          "name": "stdout",
          "text": [
            "Original Array:\n",
            " [[ 9.56702611 17.58783683  8.56612739]\n",
            " [12.53584186 19.138754   14.50996547]\n",
            " [18.00934108 19.10314534 16.26147293]]\n",
            "\n",
            "Rounded Array:\n",
            " [[ 9.57 17.59  8.57]\n",
            " [12.54 19.14 14.51]\n",
            " [18.01 19.1  16.26]]\n"
          ]
        }
      ]
    },
    {
      "cell_type": "markdown",
      "source": [
        "---"
      ],
      "metadata": {
        "id": "2Qt0Uodj_6ao"
      }
    },
    {
      "cell_type": "markdown",
      "source": [
        "5) Create a NumPy array with random integers between 1 and 10 of shape (5, 6). After creating the array\n",
        "perform the following operations:\n",
        "\n",
        " a)Extract all even integers from array.\n",
        "\n",
        " b)Extract all odd integers from arrayX"
      ],
      "metadata": {
        "id": "fYQl5PRw_7Lz"
      }
    },
    {
      "cell_type": "code",
      "source": [
        "import numpy as np\n",
        "\n",
        "# Create a 5x6 array with random integers between 1 and 10\n",
        "array = np.random.randint(1, 11, (5, 6))\n",
        "\n",
        "# Extract all even integers from the array\n",
        "even_integers = array[array % 2 == 0]\n",
        "\n",
        "# Extract all odd integers from the array\n",
        "odd_integers = array[array % 2 != 0]\n",
        "\n",
        "print(\"Original Array:\\n\", array)\n",
        "print(\"\\nEven Integers:\\n\", even_integers)\n",
        "print(\"\\nOdd Integers:\\n\", odd_integers)\n"
      ],
      "metadata": {
        "colab": {
          "base_uri": "https://localhost:8080/"
        },
        "id": "jmSUq0aL_5Qz",
        "outputId": "0661d9fe-8eb9-46eb-c708-ee9a1236fb31"
      },
      "execution_count": 45,
      "outputs": [
        {
          "output_type": "stream",
          "name": "stdout",
          "text": [
            "Original Array:\n",
            " [[ 2  8  5  1  3  8]\n",
            " [ 5  1  3  7 10  3]\n",
            " [ 5 10 10  6  5  5]\n",
            " [10  9  2  6  8  1]\n",
            " [ 2  4 10  3  9  3]]\n",
            "\n",
            "Even Integers:\n",
            " [ 2  8  8 10 10 10  6 10  2  6  8  2  4 10]\n",
            "\n",
            "Odd Integers:\n",
            " [5 1 3 5 1 3 7 3 5 5 5 9 1 3 9 3]\n"
          ]
        }
      ]
    },
    {
      "cell_type": "markdown",
      "source": [
        "---"
      ],
      "metadata": {
        "id": "mkD8Vys-AMnC"
      }
    },
    {
      "cell_type": "markdown",
      "source": [
        "6) Create a 3D NumPy array of shape (3, 3, 3) containing random integers between 1 and 10. Perform the\n",
        "following operations:\n",
        "\n",
        " a) Find the indices of the maximum values along each depth level (third axis).\n",
        "\n",
        " b) Perform element-wise multiplication of between both array"
      ],
      "metadata": {
        "id": "F--YPqg8APLE"
      }
    },
    {
      "cell_type": "code",
      "source": [
        "import numpy as np\n",
        "\n",
        "# Create a 3D array of shape (3, 3, 3) with random integers between 1 and 10\n",
        "array = np.random.randint(1, 11, (3, 3, 3))\n",
        "\n",
        "# a) Find the indices of the maximum values along each depth level (third axis)\n",
        "max_indices = np.argmax(array, axis=2)\n",
        "\n",
        "# b) Perform element-wise multiplication of the array with itself\n",
        "elementwise_multiplication = array * array\n",
        "\n",
        "print(\"Original 3D Array:\\n\", array)\n",
        "print(\"\\nIndices of maximum values along each depth level:\\n\", max_indices)\n",
        "print(\"\\nElement-wise multiplication of the array:\\n\", elementwise_multiplication)\n"
      ],
      "metadata": {
        "colab": {
          "base_uri": "https://localhost:8080/"
        },
        "id": "Yu-KzABtALOQ",
        "outputId": "6a9b164a-b5ad-4938-f3df-d4ae37df90e0"
      },
      "execution_count": 46,
      "outputs": [
        {
          "output_type": "stream",
          "name": "stdout",
          "text": [
            "Original 3D Array:\n",
            " [[[ 5  9  3]\n",
            "  [10  9  8]\n",
            "  [ 9  3  4]]\n",
            "\n",
            " [[ 4  7  1]\n",
            "  [ 4  7  4]\n",
            "  [10  7  4]]\n",
            "\n",
            " [[ 3  3  3]\n",
            "  [ 7  5  7]\n",
            "  [ 1  5 10]]]\n",
            "\n",
            "Indices of maximum values along each depth level:\n",
            " [[1 0 0]\n",
            " [1 1 0]\n",
            " [0 0 2]]\n",
            "\n",
            "Element-wise multiplication of the array:\n",
            " [[[ 25  81   9]\n",
            "  [100  81  64]\n",
            "  [ 81   9  16]]\n",
            "\n",
            " [[ 16  49   1]\n",
            "  [ 16  49  16]\n",
            "  [100  49  16]]\n",
            "\n",
            " [[  9   9   9]\n",
            "  [ 49  25  49]\n",
            "  [  1  25 100]]]\n"
          ]
        }
      ]
    },
    {
      "cell_type": "markdown",
      "source": [
        "---"
      ],
      "metadata": {
        "id": "CZB7nuRFAgm5"
      }
    },
    {
      "cell_type": "markdown",
      "source": [
        "7) Clean and transform the 'Phone' column in the sample dataset to remove non-numeric characters and\n",
        "convert it to a numeric data type. Also display the table attributes and data types of each column"
      ],
      "metadata": {
        "id": "3JQWV9KJTUNw"
      }
    },
    {
      "cell_type": "code",
      "source": [
        "df = pd.read_csv('/content/drive/MyDrive/pw/People Data.csv')\n",
        "df.columns"
      ],
      "metadata": {
        "colab": {
          "base_uri": "https://localhost:8080/"
        },
        "id": "kQTQNoowTXGn",
        "outputId": "1f5254ea-4be9-4a6d-efd5-f79de91f1a38"
      },
      "execution_count": 69,
      "outputs": [
        {
          "output_type": "execute_result",
          "data": {
            "text/plain": [
              "Index(['Index', 'User Id', 'First Name', 'Last Name', 'Gender', 'Email',\n",
              "       'Phone', 'Date of birth', 'Job Title', 'Salary'],\n",
              "      dtype='object')"
            ]
          },
          "metadata": {},
          "execution_count": 69
        }
      ]
    },
    {
      "cell_type": "code",
      "source": [
        "df.info()"
      ],
      "metadata": {
        "colab": {
          "base_uri": "https://localhost:8080/"
        },
        "id": "mcRvdFoCT59U",
        "outputId": "84ccf66a-a257-4889-b0dc-e389c1273061"
      },
      "execution_count": 70,
      "outputs": [
        {
          "output_type": "stream",
          "name": "stdout",
          "text": [
            "<class 'pandas.core.frame.DataFrame'>\n",
            "RangeIndex: 1000 entries, 0 to 999\n",
            "Data columns (total 10 columns):\n",
            " #   Column         Non-Null Count  Dtype \n",
            "---  ------         --------------  ----- \n",
            " 0   Index          1000 non-null   int64 \n",
            " 1   User Id        1000 non-null   object\n",
            " 2   First Name     1000 non-null   object\n",
            " 3   Last Name      1000 non-null   object\n",
            " 4   Gender         1000 non-null   object\n",
            " 5   Email          1000 non-null   object\n",
            " 6   Phone          979 non-null    object\n",
            " 7   Date of birth  1000 non-null   object\n",
            " 8   Job Title      1000 non-null   object\n",
            " 9   Salary         1000 non-null   int64 \n",
            "dtypes: int64(2), object(8)\n",
            "memory usage: 78.2+ KB\n"
          ]
        }
      ]
    },
    {
      "cell_type": "code",
      "source": [
        "import pandas as pd\n",
        "import numpy as np\n",
        "\n",
        "\n",
        "df['Phone'] = df['Phone'].str.replace(r'\\D', '', regex=True)\n",
        "\n",
        "\n",
        "df['Phone'] = pd.to_numeric(df['Phone'], errors='coerce')\n",
        "\n",
        "print(df.info())\n"
      ],
      "metadata": {
        "colab": {
          "base_uri": "https://localhost:8080/"
        },
        "id": "yKON4OK2UBjb",
        "outputId": "74884e5f-3358-4272-afd9-0d8490964d2e"
      },
      "execution_count": 71,
      "outputs": [
        {
          "output_type": "stream",
          "name": "stdout",
          "text": [
            "<class 'pandas.core.frame.DataFrame'>\n",
            "RangeIndex: 1000 entries, 0 to 999\n",
            "Data columns (total 10 columns):\n",
            " #   Column         Non-Null Count  Dtype  \n",
            "---  ------         --------------  -----  \n",
            " 0   Index          1000 non-null   int64  \n",
            " 1   User Id        1000 non-null   object \n",
            " 2   First Name     1000 non-null   object \n",
            " 3   Last Name      1000 non-null   object \n",
            " 4   Gender         1000 non-null   object \n",
            " 5   Email          1000 non-null   object \n",
            " 6   Phone          979 non-null    float64\n",
            " 7   Date of birth  1000 non-null   object \n",
            " 8   Job Title      1000 non-null   object \n",
            " 9   Salary         1000 non-null   int64  \n",
            "dtypes: float64(1), int64(2), object(7)\n",
            "memory usage: 78.2+ KB\n",
            "None\n"
          ]
        }
      ]
    },
    {
      "cell_type": "markdown",
      "source": [
        "---"
      ],
      "metadata": {
        "id": "c1Y6oDQ8TWxx"
      }
    },
    {
      "cell_type": "markdown",
      "source": [
        "8) Perform the following tasks using people dataset:\n",
        "\n",
        " a) Read the 'data.csv' file using pandas, skipping the first 50 rows.\n",
        "\n",
        " b) Only read the columns: 'Last Name', ‘Gender’,’Email’,‘Phone’ and ‘Salary’ from the file.\n",
        "\n",
        " c) Display the first 10 rows of the filtered dataset.\n",
        "\n",
        " d) Extract the ‘Salary’' column as a Series and display its last 5 values"
      ],
      "metadata": {
        "id": "vip0Y4X1UaRK"
      }
    },
    {
      "cell_type": "code",
      "source": [
        "df.columns"
      ],
      "metadata": {
        "colab": {
          "base_uri": "https://localhost:8080/"
        },
        "id": "MRtAuFXYVJZm",
        "outputId": "a3af3d86-8e2f-4888-b3b0-c89f1d11730d"
      },
      "execution_count": 72,
      "outputs": [
        {
          "output_type": "execute_result",
          "data": {
            "text/plain": [
              "Index(['Index', 'User Id', 'First Name', 'Last Name', 'Gender', 'Email',\n",
              "       'Phone', 'Date of birth', 'Job Title', 'Salary'],\n",
              "      dtype='object')"
            ]
          },
          "metadata": {},
          "execution_count": 72
        }
      ]
    },
    {
      "cell_type": "code",
      "source": [
        "import pandas as pd\n",
        "\n",
        "# Load the file, skipping the first 50 rows\n",
        "df = pd.read_csv('/content/drive/MyDrive/pw/People Data.csv')\n",
        "\n",
        "print(\"Column names in the dataset:\")\n",
        "print(df.columns)\n",
        "\n",
        "df.columns = df.columns.str.strip()\n",
        "print(df.columns)\n",
        "\n",
        "try:\n",
        "    df_filtered = df[['Last Name', 'Gender', 'Email', 'Phone', 'Salary']]\n",
        "    print(\"\\nFirst 10 rows of the filtered dataset:\")\n",
        "    print(df_filtered.head(10))\n",
        "\n",
        "\n",
        "    salary_series = df_filtered['Salary']\n",
        "    print(\"\\nLast 5 values of the 'Salary' column:\")\n",
        "    print(salary_series.tail(5))\n",
        "\n",
        "except KeyError as e:\n",
        "    print(f\"\\nError: {e}\")\n",
        "    print(\"Ensure that column names match exactly. You might need to adjust based on Step 1 output.\")\n"
      ],
      "metadata": {
        "colab": {
          "base_uri": "https://localhost:8080/"
        },
        "id": "H458246-Uejf",
        "outputId": "7e35cc5b-459e-414b-e089-2316887e4db1"
      },
      "execution_count": 79,
      "outputs": [
        {
          "output_type": "stream",
          "name": "stdout",
          "text": [
            "Column names in the dataset:\n",
            "Index(['Index', 'User Id', 'First Name', 'Last Name', 'Gender', 'Email',\n",
            "       'Phone', 'Date of birth', 'Job Title', 'Salary'],\n",
            "      dtype='object')\n",
            "Index(['Index', 'User Id', 'First Name', 'Last Name', 'Gender', 'Email',\n",
            "       'Phone', 'Date of birth', 'Job Title', 'Salary'],\n",
            "      dtype='object')\n",
            "\n",
            "First 10 rows of the filtered dataset:\n",
            "  Last Name  Gender                          Email               Phone  Salary\n",
            "0   Mahoney    Male            pwarner@example.org        857.139.8239   90000\n",
            "1    Rivers  Female  fergusonkatherine@example.net                 NaN   80000\n",
            "2    Lowery  Female            fhoward@example.org       (599)782-0605   50000\n",
            "3    Hooper    Male          zjohnston@example.com                 NaN   65000\n",
            "4      Rice  Female               elin@example.net  (390)417-1635x3010  100000\n",
            "5  Caldwell    Male          kaitlin13@example.net          8537800927   50000\n",
            "6   Hoffman    Male         jeffharvey@example.com   093.655.7480x7895   60000\n",
            "7  Andersen    Male           alicia33@example.org          4709522945   65000\n",
            "8      Mays    Male             jake50@example.com        013.820.4758   50000\n",
            "9  Mitchell    Male      lanechristina@example.net  (560)903-5068x4985   50000\n",
            "\n",
            "Last 5 values of the 'Salary' column:\n",
            "995     90000\n",
            "996     50000\n",
            "997     60000\n",
            "998    100000\n",
            "999     90000\n",
            "Name: Salary, dtype: int64\n"
          ]
        }
      ]
    },
    {
      "cell_type": "markdown",
      "source": [
        "---"
      ],
      "metadata": {
        "id": "uz9arfqlUe07"
      }
    },
    {
      "cell_type": "markdown",
      "source": [
        "9)\n",
        " Filter and select rows from the People_Dataset, where the “Last Name' column contains the name 'Duke',\n",
        "'Gender' column contains the word Female and ‘Salary’ should be less than 85000"
      ],
      "metadata": {
        "id": "B4VU9hFaWf-I"
      }
    },
    {
      "cell_type": "code",
      "source": [
        "import pandas as pd\n",
        "\n",
        "# Load the dataset\n",
        "df = pd.read_csv('/content/drive/MyDrive/pw/People Data.csv')  # Make sure the path is correct\n",
        "\n",
        "# Apply the filter conditions\n",
        "filtered_df = df[(df['Last Name'] == 'Duke') &\n",
        "                 (df['Gender'] == 'Female') &\n",
        "                 (df['Salary'] < 85000)]\n",
        "\n",
        "# Display the filtered rows\n",
        "filtered_df"
      ],
      "metadata": {
        "colab": {
          "base_uri": "https://localhost:8080/",
          "height": 175
        },
        "id": "2X8ZdIhNWgZJ",
        "outputId": "f908331b-faf8-4002-f490-ab98e5ea6643"
      },
      "execution_count": 83,
      "outputs": [
        {
          "output_type": "execute_result",
          "data": {
            "text/plain": [
              "     Index          User Id First Name Last Name  Gender  \\\n",
              "45      46  99A502C175C4EBd     Olivia      Duke  Female   \n",
              "210    211  DF17975CC0a0373    Katrina      Duke  Female   \n",
              "457    458  dcE1B7DE83c1076      Traci      Duke  Female   \n",
              "729    730  c9b482D7aa3e682     Lonnie      Duke  Female   \n",
              "\n",
              "                        Email                   Phone Date of birth  \\\n",
              "45        diana26@example.net  001-366-475-8607x04350    13-10-1934   \n",
              "210       robin78@example.com            740.434.0212    21-09-1935   \n",
              "457  perryhoffman@example.org     +1-903-596-0995x489    11-02-1997   \n",
              "729   kevinkramer@example.net            982.692.6257    12-05-2015   \n",
              "\n",
              "           Job Title  Salary  \n",
              "45           Dentist   60000  \n",
              "210  Producer, radio   50000  \n",
              "457        Herbalist   50000  \n",
              "729     Nurse, adult   70000  "
            ],
            "text/html": [
              "\n",
              "  <div id=\"df-ea9a5029-eb27-4590-b645-8a2d19f8b32a\" class=\"colab-df-container\">\n",
              "    <div>\n",
              "<style scoped>\n",
              "    .dataframe tbody tr th:only-of-type {\n",
              "        vertical-align: middle;\n",
              "    }\n",
              "\n",
              "    .dataframe tbody tr th {\n",
              "        vertical-align: top;\n",
              "    }\n",
              "\n",
              "    .dataframe thead th {\n",
              "        text-align: right;\n",
              "    }\n",
              "</style>\n",
              "<table border=\"1\" class=\"dataframe\">\n",
              "  <thead>\n",
              "    <tr style=\"text-align: right;\">\n",
              "      <th></th>\n",
              "      <th>Index</th>\n",
              "      <th>User Id</th>\n",
              "      <th>First Name</th>\n",
              "      <th>Last Name</th>\n",
              "      <th>Gender</th>\n",
              "      <th>Email</th>\n",
              "      <th>Phone</th>\n",
              "      <th>Date of birth</th>\n",
              "      <th>Job Title</th>\n",
              "      <th>Salary</th>\n",
              "    </tr>\n",
              "  </thead>\n",
              "  <tbody>\n",
              "    <tr>\n",
              "      <th>45</th>\n",
              "      <td>46</td>\n",
              "      <td>99A502C175C4EBd</td>\n",
              "      <td>Olivia</td>\n",
              "      <td>Duke</td>\n",
              "      <td>Female</td>\n",
              "      <td>diana26@example.net</td>\n",
              "      <td>001-366-475-8607x04350</td>\n",
              "      <td>13-10-1934</td>\n",
              "      <td>Dentist</td>\n",
              "      <td>60000</td>\n",
              "    </tr>\n",
              "    <tr>\n",
              "      <th>210</th>\n",
              "      <td>211</td>\n",
              "      <td>DF17975CC0a0373</td>\n",
              "      <td>Katrina</td>\n",
              "      <td>Duke</td>\n",
              "      <td>Female</td>\n",
              "      <td>robin78@example.com</td>\n",
              "      <td>740.434.0212</td>\n",
              "      <td>21-09-1935</td>\n",
              "      <td>Producer, radio</td>\n",
              "      <td>50000</td>\n",
              "    </tr>\n",
              "    <tr>\n",
              "      <th>457</th>\n",
              "      <td>458</td>\n",
              "      <td>dcE1B7DE83c1076</td>\n",
              "      <td>Traci</td>\n",
              "      <td>Duke</td>\n",
              "      <td>Female</td>\n",
              "      <td>perryhoffman@example.org</td>\n",
              "      <td>+1-903-596-0995x489</td>\n",
              "      <td>11-02-1997</td>\n",
              "      <td>Herbalist</td>\n",
              "      <td>50000</td>\n",
              "    </tr>\n",
              "    <tr>\n",
              "      <th>729</th>\n",
              "      <td>730</td>\n",
              "      <td>c9b482D7aa3e682</td>\n",
              "      <td>Lonnie</td>\n",
              "      <td>Duke</td>\n",
              "      <td>Female</td>\n",
              "      <td>kevinkramer@example.net</td>\n",
              "      <td>982.692.6257</td>\n",
              "      <td>12-05-2015</td>\n",
              "      <td>Nurse, adult</td>\n",
              "      <td>70000</td>\n",
              "    </tr>\n",
              "  </tbody>\n",
              "</table>\n",
              "</div>\n",
              "    <div class=\"colab-df-buttons\">\n",
              "\n",
              "  <div class=\"colab-df-container\">\n",
              "    <button class=\"colab-df-convert\" onclick=\"convertToInteractive('df-ea9a5029-eb27-4590-b645-8a2d19f8b32a')\"\n",
              "            title=\"Convert this dataframe to an interactive table.\"\n",
              "            style=\"display:none;\">\n",
              "\n",
              "  <svg xmlns=\"http://www.w3.org/2000/svg\" height=\"24px\" viewBox=\"0 -960 960 960\">\n",
              "    <path d=\"M120-120v-720h720v720H120Zm60-500h600v-160H180v160Zm220 220h160v-160H400v160Zm0 220h160v-160H400v160ZM180-400h160v-160H180v160Zm440 0h160v-160H620v160ZM180-180h160v-160H180v160Zm440 0h160v-160H620v160Z\"/>\n",
              "  </svg>\n",
              "    </button>\n",
              "\n",
              "  <style>\n",
              "    .colab-df-container {\n",
              "      display:flex;\n",
              "      gap: 12px;\n",
              "    }\n",
              "\n",
              "    .colab-df-convert {\n",
              "      background-color: #E8F0FE;\n",
              "      border: none;\n",
              "      border-radius: 50%;\n",
              "      cursor: pointer;\n",
              "      display: none;\n",
              "      fill: #1967D2;\n",
              "      height: 32px;\n",
              "      padding: 0 0 0 0;\n",
              "      width: 32px;\n",
              "    }\n",
              "\n",
              "    .colab-df-convert:hover {\n",
              "      background-color: #E2EBFA;\n",
              "      box-shadow: 0px 1px 2px rgba(60, 64, 67, 0.3), 0px 1px 3px 1px rgba(60, 64, 67, 0.15);\n",
              "      fill: #174EA6;\n",
              "    }\n",
              "\n",
              "    .colab-df-buttons div {\n",
              "      margin-bottom: 4px;\n",
              "    }\n",
              "\n",
              "    [theme=dark] .colab-df-convert {\n",
              "      background-color: #3B4455;\n",
              "      fill: #D2E3FC;\n",
              "    }\n",
              "\n",
              "    [theme=dark] .colab-df-convert:hover {\n",
              "      background-color: #434B5C;\n",
              "      box-shadow: 0px 1px 3px 1px rgba(0, 0, 0, 0.15);\n",
              "      filter: drop-shadow(0px 1px 2px rgba(0, 0, 0, 0.3));\n",
              "      fill: #FFFFFF;\n",
              "    }\n",
              "  </style>\n",
              "\n",
              "    <script>\n",
              "      const buttonEl =\n",
              "        document.querySelector('#df-ea9a5029-eb27-4590-b645-8a2d19f8b32a button.colab-df-convert');\n",
              "      buttonEl.style.display =\n",
              "        google.colab.kernel.accessAllowed ? 'block' : 'none';\n",
              "\n",
              "      async function convertToInteractive(key) {\n",
              "        const element = document.querySelector('#df-ea9a5029-eb27-4590-b645-8a2d19f8b32a');\n",
              "        const dataTable =\n",
              "          await google.colab.kernel.invokeFunction('convertToInteractive',\n",
              "                                                    [key], {});\n",
              "        if (!dataTable) return;\n",
              "\n",
              "        const docLinkHtml = 'Like what you see? Visit the ' +\n",
              "          '<a target=\"_blank\" href=https://colab.research.google.com/notebooks/data_table.ipynb>data table notebook</a>'\n",
              "          + ' to learn more about interactive tables.';\n",
              "        element.innerHTML = '';\n",
              "        dataTable['output_type'] = 'display_data';\n",
              "        await google.colab.output.renderOutput(dataTable, element);\n",
              "        const docLink = document.createElement('div');\n",
              "        docLink.innerHTML = docLinkHtml;\n",
              "        element.appendChild(docLink);\n",
              "      }\n",
              "    </script>\n",
              "  </div>\n",
              "\n",
              "\n",
              "<div id=\"df-6fec9a24-0e5c-4da1-82bc-0cccfcedb455\">\n",
              "  <button class=\"colab-df-quickchart\" onclick=\"quickchart('df-6fec9a24-0e5c-4da1-82bc-0cccfcedb455')\"\n",
              "            title=\"Suggest charts\"\n",
              "            style=\"display:none;\">\n",
              "\n",
              "<svg xmlns=\"http://www.w3.org/2000/svg\" height=\"24px\"viewBox=\"0 0 24 24\"\n",
              "     width=\"24px\">\n",
              "    <g>\n",
              "        <path d=\"M19 3H5c-1.1 0-2 .9-2 2v14c0 1.1.9 2 2 2h14c1.1 0 2-.9 2-2V5c0-1.1-.9-2-2-2zM9 17H7v-7h2v7zm4 0h-2V7h2v10zm4 0h-2v-4h2v4z\"/>\n",
              "    </g>\n",
              "</svg>\n",
              "  </button>\n",
              "\n",
              "<style>\n",
              "  .colab-df-quickchart {\n",
              "      --bg-color: #E8F0FE;\n",
              "      --fill-color: #1967D2;\n",
              "      --hover-bg-color: #E2EBFA;\n",
              "      --hover-fill-color: #174EA6;\n",
              "      --disabled-fill-color: #AAA;\n",
              "      --disabled-bg-color: #DDD;\n",
              "  }\n",
              "\n",
              "  [theme=dark] .colab-df-quickchart {\n",
              "      --bg-color: #3B4455;\n",
              "      --fill-color: #D2E3FC;\n",
              "      --hover-bg-color: #434B5C;\n",
              "      --hover-fill-color: #FFFFFF;\n",
              "      --disabled-bg-color: #3B4455;\n",
              "      --disabled-fill-color: #666;\n",
              "  }\n",
              "\n",
              "  .colab-df-quickchart {\n",
              "    background-color: var(--bg-color);\n",
              "    border: none;\n",
              "    border-radius: 50%;\n",
              "    cursor: pointer;\n",
              "    display: none;\n",
              "    fill: var(--fill-color);\n",
              "    height: 32px;\n",
              "    padding: 0;\n",
              "    width: 32px;\n",
              "  }\n",
              "\n",
              "  .colab-df-quickchart:hover {\n",
              "    background-color: var(--hover-bg-color);\n",
              "    box-shadow: 0 1px 2px rgba(60, 64, 67, 0.3), 0 1px 3px 1px rgba(60, 64, 67, 0.15);\n",
              "    fill: var(--button-hover-fill-color);\n",
              "  }\n",
              "\n",
              "  .colab-df-quickchart-complete:disabled,\n",
              "  .colab-df-quickchart-complete:disabled:hover {\n",
              "    background-color: var(--disabled-bg-color);\n",
              "    fill: var(--disabled-fill-color);\n",
              "    box-shadow: none;\n",
              "  }\n",
              "\n",
              "  .colab-df-spinner {\n",
              "    border: 2px solid var(--fill-color);\n",
              "    border-color: transparent;\n",
              "    border-bottom-color: var(--fill-color);\n",
              "    animation:\n",
              "      spin 1s steps(1) infinite;\n",
              "  }\n",
              "\n",
              "  @keyframes spin {\n",
              "    0% {\n",
              "      border-color: transparent;\n",
              "      border-bottom-color: var(--fill-color);\n",
              "      border-left-color: var(--fill-color);\n",
              "    }\n",
              "    20% {\n",
              "      border-color: transparent;\n",
              "      border-left-color: var(--fill-color);\n",
              "      border-top-color: var(--fill-color);\n",
              "    }\n",
              "    30% {\n",
              "      border-color: transparent;\n",
              "      border-left-color: var(--fill-color);\n",
              "      border-top-color: var(--fill-color);\n",
              "      border-right-color: var(--fill-color);\n",
              "    }\n",
              "    40% {\n",
              "      border-color: transparent;\n",
              "      border-right-color: var(--fill-color);\n",
              "      border-top-color: var(--fill-color);\n",
              "    }\n",
              "    60% {\n",
              "      border-color: transparent;\n",
              "      border-right-color: var(--fill-color);\n",
              "    }\n",
              "    80% {\n",
              "      border-color: transparent;\n",
              "      border-right-color: var(--fill-color);\n",
              "      border-bottom-color: var(--fill-color);\n",
              "    }\n",
              "    90% {\n",
              "      border-color: transparent;\n",
              "      border-bottom-color: var(--fill-color);\n",
              "    }\n",
              "  }\n",
              "</style>\n",
              "\n",
              "  <script>\n",
              "    async function quickchart(key) {\n",
              "      const quickchartButtonEl =\n",
              "        document.querySelector('#' + key + ' button');\n",
              "      quickchartButtonEl.disabled = true;  // To prevent multiple clicks.\n",
              "      quickchartButtonEl.classList.add('colab-df-spinner');\n",
              "      try {\n",
              "        const charts = await google.colab.kernel.invokeFunction(\n",
              "            'suggestCharts', [key], {});\n",
              "      } catch (error) {\n",
              "        console.error('Error during call to suggestCharts:', error);\n",
              "      }\n",
              "      quickchartButtonEl.classList.remove('colab-df-spinner');\n",
              "      quickchartButtonEl.classList.add('colab-df-quickchart-complete');\n",
              "    }\n",
              "    (() => {\n",
              "      let quickchartButtonEl =\n",
              "        document.querySelector('#df-6fec9a24-0e5c-4da1-82bc-0cccfcedb455 button');\n",
              "      quickchartButtonEl.style.display =\n",
              "        google.colab.kernel.accessAllowed ? 'block' : 'none';\n",
              "    })();\n",
              "  </script>\n",
              "</div>\n",
              "\n",
              "  <div id=\"id_d0c0f28c-a942-4721-b77d-1cd6ff22284d\">\n",
              "    <style>\n",
              "      .colab-df-generate {\n",
              "        background-color: #E8F0FE;\n",
              "        border: none;\n",
              "        border-radius: 50%;\n",
              "        cursor: pointer;\n",
              "        display: none;\n",
              "        fill: #1967D2;\n",
              "        height: 32px;\n",
              "        padding: 0 0 0 0;\n",
              "        width: 32px;\n",
              "      }\n",
              "\n",
              "      .colab-df-generate:hover {\n",
              "        background-color: #E2EBFA;\n",
              "        box-shadow: 0px 1px 2px rgba(60, 64, 67, 0.3), 0px 1px 3px 1px rgba(60, 64, 67, 0.15);\n",
              "        fill: #174EA6;\n",
              "      }\n",
              "\n",
              "      [theme=dark] .colab-df-generate {\n",
              "        background-color: #3B4455;\n",
              "        fill: #D2E3FC;\n",
              "      }\n",
              "\n",
              "      [theme=dark] .colab-df-generate:hover {\n",
              "        background-color: #434B5C;\n",
              "        box-shadow: 0px 1px 3px 1px rgba(0, 0, 0, 0.15);\n",
              "        filter: drop-shadow(0px 1px 2px rgba(0, 0, 0, 0.3));\n",
              "        fill: #FFFFFF;\n",
              "      }\n",
              "    </style>\n",
              "    <button class=\"colab-df-generate\" onclick=\"generateWithVariable('filtered_df')\"\n",
              "            title=\"Generate code using this dataframe.\"\n",
              "            style=\"display:none;\">\n",
              "\n",
              "  <svg xmlns=\"http://www.w3.org/2000/svg\" height=\"24px\"viewBox=\"0 0 24 24\"\n",
              "       width=\"24px\">\n",
              "    <path d=\"M7,19H8.4L18.45,9,17,7.55,7,17.6ZM5,21V16.75L18.45,3.32a2,2,0,0,1,2.83,0l1.4,1.43a1.91,1.91,0,0,1,.58,1.4,1.91,1.91,0,0,1-.58,1.4L9.25,21ZM18.45,9,17,7.55Zm-12,3A5.31,5.31,0,0,0,4.9,8.1,5.31,5.31,0,0,0,1,6.5,5.31,5.31,0,0,0,4.9,4.9,5.31,5.31,0,0,0,6.5,1,5.31,5.31,0,0,0,8.1,4.9,5.31,5.31,0,0,0,12,6.5,5.46,5.46,0,0,0,6.5,12Z\"/>\n",
              "  </svg>\n",
              "    </button>\n",
              "    <script>\n",
              "      (() => {\n",
              "      const buttonEl =\n",
              "        document.querySelector('#id_d0c0f28c-a942-4721-b77d-1cd6ff22284d button.colab-df-generate');\n",
              "      buttonEl.style.display =\n",
              "        google.colab.kernel.accessAllowed ? 'block' : 'none';\n",
              "\n",
              "      buttonEl.onclick = () => {\n",
              "        google.colab.notebook.generateWithVariable('filtered_df');\n",
              "      }\n",
              "      })();\n",
              "    </script>\n",
              "  </div>\n",
              "\n",
              "    </div>\n",
              "  </div>\n"
            ],
            "application/vnd.google.colaboratory.intrinsic+json": {
              "type": "dataframe",
              "variable_name": "filtered_df",
              "repr_error": "0"
            }
          },
          "metadata": {},
          "execution_count": 83
        }
      ]
    },
    {
      "cell_type": "markdown",
      "source": [
        "---"
      ],
      "metadata": {
        "id": "j-om2heHWgtg"
      }
    },
    {
      "cell_type": "markdown",
      "source": [
        "10) Create a 7*5 Dataframe in Pandas using a series generated from 35 random integers between 1 to 6?"
      ],
      "metadata": {
        "id": "uYUXuFuxW1b5"
      }
    },
    {
      "cell_type": "code",
      "source": [
        "import pandas as pd\n",
        "import numpy as np\n",
        "\n",
        "# Generate a Series of 35 random integers between 1 and 6\n",
        "random_series = pd.Series(np.random.randint(1, 7, size=35))\n",
        "df = random_series.values.reshape(7, 5)\n",
        "df = pd.DataFrame(df, columns=[f'Col_{i+1}' for i in range(5)])\n",
        "\n",
        "df\n"
      ],
      "metadata": {
        "colab": {
          "base_uri": "https://localhost:8080/",
          "height": 269
        },
        "id": "Nopo4QvXW10D",
        "outputId": "59a14cae-712a-44ee-ac66-4b01fc4c81c7"
      },
      "execution_count": 85,
      "outputs": [
        {
          "output_type": "execute_result",
          "data": {
            "text/plain": [
              "   Col_1  Col_2  Col_3  Col_4  Col_5\n",
              "0      3      2      5      1      2\n",
              "1      1      3      1      4      6\n",
              "2      3      1      3      4      1\n",
              "3      1      2      1      6      1\n",
              "4      3      4      5      6      4\n",
              "5      4      1      5      5      4\n",
              "6      3      5      5      6      4"
            ],
            "text/html": [
              "\n",
              "  <div id=\"df-a5e2bf06-d3fb-4190-9e2b-bf18f631b9ca\" class=\"colab-df-container\">\n",
              "    <div>\n",
              "<style scoped>\n",
              "    .dataframe tbody tr th:only-of-type {\n",
              "        vertical-align: middle;\n",
              "    }\n",
              "\n",
              "    .dataframe tbody tr th {\n",
              "        vertical-align: top;\n",
              "    }\n",
              "\n",
              "    .dataframe thead th {\n",
              "        text-align: right;\n",
              "    }\n",
              "</style>\n",
              "<table border=\"1\" class=\"dataframe\">\n",
              "  <thead>\n",
              "    <tr style=\"text-align: right;\">\n",
              "      <th></th>\n",
              "      <th>Col_1</th>\n",
              "      <th>Col_2</th>\n",
              "      <th>Col_3</th>\n",
              "      <th>Col_4</th>\n",
              "      <th>Col_5</th>\n",
              "    </tr>\n",
              "  </thead>\n",
              "  <tbody>\n",
              "    <tr>\n",
              "      <th>0</th>\n",
              "      <td>3</td>\n",
              "      <td>2</td>\n",
              "      <td>5</td>\n",
              "      <td>1</td>\n",
              "      <td>2</td>\n",
              "    </tr>\n",
              "    <tr>\n",
              "      <th>1</th>\n",
              "      <td>1</td>\n",
              "      <td>3</td>\n",
              "      <td>1</td>\n",
              "      <td>4</td>\n",
              "      <td>6</td>\n",
              "    </tr>\n",
              "    <tr>\n",
              "      <th>2</th>\n",
              "      <td>3</td>\n",
              "      <td>1</td>\n",
              "      <td>3</td>\n",
              "      <td>4</td>\n",
              "      <td>1</td>\n",
              "    </tr>\n",
              "    <tr>\n",
              "      <th>3</th>\n",
              "      <td>1</td>\n",
              "      <td>2</td>\n",
              "      <td>1</td>\n",
              "      <td>6</td>\n",
              "      <td>1</td>\n",
              "    </tr>\n",
              "    <tr>\n",
              "      <th>4</th>\n",
              "      <td>3</td>\n",
              "      <td>4</td>\n",
              "      <td>5</td>\n",
              "      <td>6</td>\n",
              "      <td>4</td>\n",
              "    </tr>\n",
              "    <tr>\n",
              "      <th>5</th>\n",
              "      <td>4</td>\n",
              "      <td>1</td>\n",
              "      <td>5</td>\n",
              "      <td>5</td>\n",
              "      <td>4</td>\n",
              "    </tr>\n",
              "    <tr>\n",
              "      <th>6</th>\n",
              "      <td>3</td>\n",
              "      <td>5</td>\n",
              "      <td>5</td>\n",
              "      <td>6</td>\n",
              "      <td>4</td>\n",
              "    </tr>\n",
              "  </tbody>\n",
              "</table>\n",
              "</div>\n",
              "    <div class=\"colab-df-buttons\">\n",
              "\n",
              "  <div class=\"colab-df-container\">\n",
              "    <button class=\"colab-df-convert\" onclick=\"convertToInteractive('df-a5e2bf06-d3fb-4190-9e2b-bf18f631b9ca')\"\n",
              "            title=\"Convert this dataframe to an interactive table.\"\n",
              "            style=\"display:none;\">\n",
              "\n",
              "  <svg xmlns=\"http://www.w3.org/2000/svg\" height=\"24px\" viewBox=\"0 -960 960 960\">\n",
              "    <path d=\"M120-120v-720h720v720H120Zm60-500h600v-160H180v160Zm220 220h160v-160H400v160Zm0 220h160v-160H400v160ZM180-400h160v-160H180v160Zm440 0h160v-160H620v160ZM180-180h160v-160H180v160Zm440 0h160v-160H620v160Z\"/>\n",
              "  </svg>\n",
              "    </button>\n",
              "\n",
              "  <style>\n",
              "    .colab-df-container {\n",
              "      display:flex;\n",
              "      gap: 12px;\n",
              "    }\n",
              "\n",
              "    .colab-df-convert {\n",
              "      background-color: #E8F0FE;\n",
              "      border: none;\n",
              "      border-radius: 50%;\n",
              "      cursor: pointer;\n",
              "      display: none;\n",
              "      fill: #1967D2;\n",
              "      height: 32px;\n",
              "      padding: 0 0 0 0;\n",
              "      width: 32px;\n",
              "    }\n",
              "\n",
              "    .colab-df-convert:hover {\n",
              "      background-color: #E2EBFA;\n",
              "      box-shadow: 0px 1px 2px rgba(60, 64, 67, 0.3), 0px 1px 3px 1px rgba(60, 64, 67, 0.15);\n",
              "      fill: #174EA6;\n",
              "    }\n",
              "\n",
              "    .colab-df-buttons div {\n",
              "      margin-bottom: 4px;\n",
              "    }\n",
              "\n",
              "    [theme=dark] .colab-df-convert {\n",
              "      background-color: #3B4455;\n",
              "      fill: #D2E3FC;\n",
              "    }\n",
              "\n",
              "    [theme=dark] .colab-df-convert:hover {\n",
              "      background-color: #434B5C;\n",
              "      box-shadow: 0px 1px 3px 1px rgba(0, 0, 0, 0.15);\n",
              "      filter: drop-shadow(0px 1px 2px rgba(0, 0, 0, 0.3));\n",
              "      fill: #FFFFFF;\n",
              "    }\n",
              "  </style>\n",
              "\n",
              "    <script>\n",
              "      const buttonEl =\n",
              "        document.querySelector('#df-a5e2bf06-d3fb-4190-9e2b-bf18f631b9ca button.colab-df-convert');\n",
              "      buttonEl.style.display =\n",
              "        google.colab.kernel.accessAllowed ? 'block' : 'none';\n",
              "\n",
              "      async function convertToInteractive(key) {\n",
              "        const element = document.querySelector('#df-a5e2bf06-d3fb-4190-9e2b-bf18f631b9ca');\n",
              "        const dataTable =\n",
              "          await google.colab.kernel.invokeFunction('convertToInteractive',\n",
              "                                                    [key], {});\n",
              "        if (!dataTable) return;\n",
              "\n",
              "        const docLinkHtml = 'Like what you see? Visit the ' +\n",
              "          '<a target=\"_blank\" href=https://colab.research.google.com/notebooks/data_table.ipynb>data table notebook</a>'\n",
              "          + ' to learn more about interactive tables.';\n",
              "        element.innerHTML = '';\n",
              "        dataTable['output_type'] = 'display_data';\n",
              "        await google.colab.output.renderOutput(dataTable, element);\n",
              "        const docLink = document.createElement('div');\n",
              "        docLink.innerHTML = docLinkHtml;\n",
              "        element.appendChild(docLink);\n",
              "      }\n",
              "    </script>\n",
              "  </div>\n",
              "\n",
              "\n",
              "<div id=\"df-533f5e9a-cd9b-4343-8726-c3d3668648a8\">\n",
              "  <button class=\"colab-df-quickchart\" onclick=\"quickchart('df-533f5e9a-cd9b-4343-8726-c3d3668648a8')\"\n",
              "            title=\"Suggest charts\"\n",
              "            style=\"display:none;\">\n",
              "\n",
              "<svg xmlns=\"http://www.w3.org/2000/svg\" height=\"24px\"viewBox=\"0 0 24 24\"\n",
              "     width=\"24px\">\n",
              "    <g>\n",
              "        <path d=\"M19 3H5c-1.1 0-2 .9-2 2v14c0 1.1.9 2 2 2h14c1.1 0 2-.9 2-2V5c0-1.1-.9-2-2-2zM9 17H7v-7h2v7zm4 0h-2V7h2v10zm4 0h-2v-4h2v4z\"/>\n",
              "    </g>\n",
              "</svg>\n",
              "  </button>\n",
              "\n",
              "<style>\n",
              "  .colab-df-quickchart {\n",
              "      --bg-color: #E8F0FE;\n",
              "      --fill-color: #1967D2;\n",
              "      --hover-bg-color: #E2EBFA;\n",
              "      --hover-fill-color: #174EA6;\n",
              "      --disabled-fill-color: #AAA;\n",
              "      --disabled-bg-color: #DDD;\n",
              "  }\n",
              "\n",
              "  [theme=dark] .colab-df-quickchart {\n",
              "      --bg-color: #3B4455;\n",
              "      --fill-color: #D2E3FC;\n",
              "      --hover-bg-color: #434B5C;\n",
              "      --hover-fill-color: #FFFFFF;\n",
              "      --disabled-bg-color: #3B4455;\n",
              "      --disabled-fill-color: #666;\n",
              "  }\n",
              "\n",
              "  .colab-df-quickchart {\n",
              "    background-color: var(--bg-color);\n",
              "    border: none;\n",
              "    border-radius: 50%;\n",
              "    cursor: pointer;\n",
              "    display: none;\n",
              "    fill: var(--fill-color);\n",
              "    height: 32px;\n",
              "    padding: 0;\n",
              "    width: 32px;\n",
              "  }\n",
              "\n",
              "  .colab-df-quickchart:hover {\n",
              "    background-color: var(--hover-bg-color);\n",
              "    box-shadow: 0 1px 2px rgba(60, 64, 67, 0.3), 0 1px 3px 1px rgba(60, 64, 67, 0.15);\n",
              "    fill: var(--button-hover-fill-color);\n",
              "  }\n",
              "\n",
              "  .colab-df-quickchart-complete:disabled,\n",
              "  .colab-df-quickchart-complete:disabled:hover {\n",
              "    background-color: var(--disabled-bg-color);\n",
              "    fill: var(--disabled-fill-color);\n",
              "    box-shadow: none;\n",
              "  }\n",
              "\n",
              "  .colab-df-spinner {\n",
              "    border: 2px solid var(--fill-color);\n",
              "    border-color: transparent;\n",
              "    border-bottom-color: var(--fill-color);\n",
              "    animation:\n",
              "      spin 1s steps(1) infinite;\n",
              "  }\n",
              "\n",
              "  @keyframes spin {\n",
              "    0% {\n",
              "      border-color: transparent;\n",
              "      border-bottom-color: var(--fill-color);\n",
              "      border-left-color: var(--fill-color);\n",
              "    }\n",
              "    20% {\n",
              "      border-color: transparent;\n",
              "      border-left-color: var(--fill-color);\n",
              "      border-top-color: var(--fill-color);\n",
              "    }\n",
              "    30% {\n",
              "      border-color: transparent;\n",
              "      border-left-color: var(--fill-color);\n",
              "      border-top-color: var(--fill-color);\n",
              "      border-right-color: var(--fill-color);\n",
              "    }\n",
              "    40% {\n",
              "      border-color: transparent;\n",
              "      border-right-color: var(--fill-color);\n",
              "      border-top-color: var(--fill-color);\n",
              "    }\n",
              "    60% {\n",
              "      border-color: transparent;\n",
              "      border-right-color: var(--fill-color);\n",
              "    }\n",
              "    80% {\n",
              "      border-color: transparent;\n",
              "      border-right-color: var(--fill-color);\n",
              "      border-bottom-color: var(--fill-color);\n",
              "    }\n",
              "    90% {\n",
              "      border-color: transparent;\n",
              "      border-bottom-color: var(--fill-color);\n",
              "    }\n",
              "  }\n",
              "</style>\n",
              "\n",
              "  <script>\n",
              "    async function quickchart(key) {\n",
              "      const quickchartButtonEl =\n",
              "        document.querySelector('#' + key + ' button');\n",
              "      quickchartButtonEl.disabled = true;  // To prevent multiple clicks.\n",
              "      quickchartButtonEl.classList.add('colab-df-spinner');\n",
              "      try {\n",
              "        const charts = await google.colab.kernel.invokeFunction(\n",
              "            'suggestCharts', [key], {});\n",
              "      } catch (error) {\n",
              "        console.error('Error during call to suggestCharts:', error);\n",
              "      }\n",
              "      quickchartButtonEl.classList.remove('colab-df-spinner');\n",
              "      quickchartButtonEl.classList.add('colab-df-quickchart-complete');\n",
              "    }\n",
              "    (() => {\n",
              "      let quickchartButtonEl =\n",
              "        document.querySelector('#df-533f5e9a-cd9b-4343-8726-c3d3668648a8 button');\n",
              "      quickchartButtonEl.style.display =\n",
              "        google.colab.kernel.accessAllowed ? 'block' : 'none';\n",
              "    })();\n",
              "  </script>\n",
              "</div>\n",
              "\n",
              "  <div id=\"id_96526414-b33a-47a1-b4f5-48bba0dbb1a5\">\n",
              "    <style>\n",
              "      .colab-df-generate {\n",
              "        background-color: #E8F0FE;\n",
              "        border: none;\n",
              "        border-radius: 50%;\n",
              "        cursor: pointer;\n",
              "        display: none;\n",
              "        fill: #1967D2;\n",
              "        height: 32px;\n",
              "        padding: 0 0 0 0;\n",
              "        width: 32px;\n",
              "      }\n",
              "\n",
              "      .colab-df-generate:hover {\n",
              "        background-color: #E2EBFA;\n",
              "        box-shadow: 0px 1px 2px rgba(60, 64, 67, 0.3), 0px 1px 3px 1px rgba(60, 64, 67, 0.15);\n",
              "        fill: #174EA6;\n",
              "      }\n",
              "\n",
              "      [theme=dark] .colab-df-generate {\n",
              "        background-color: #3B4455;\n",
              "        fill: #D2E3FC;\n",
              "      }\n",
              "\n",
              "      [theme=dark] .colab-df-generate:hover {\n",
              "        background-color: #434B5C;\n",
              "        box-shadow: 0px 1px 3px 1px rgba(0, 0, 0, 0.15);\n",
              "        filter: drop-shadow(0px 1px 2px rgba(0, 0, 0, 0.3));\n",
              "        fill: #FFFFFF;\n",
              "      }\n",
              "    </style>\n",
              "    <button class=\"colab-df-generate\" onclick=\"generateWithVariable('df')\"\n",
              "            title=\"Generate code using this dataframe.\"\n",
              "            style=\"display:none;\">\n",
              "\n",
              "  <svg xmlns=\"http://www.w3.org/2000/svg\" height=\"24px\"viewBox=\"0 0 24 24\"\n",
              "       width=\"24px\">\n",
              "    <path d=\"M7,19H8.4L18.45,9,17,7.55,7,17.6ZM5,21V16.75L18.45,3.32a2,2,0,0,1,2.83,0l1.4,1.43a1.91,1.91,0,0,1,.58,1.4,1.91,1.91,0,0,1-.58,1.4L9.25,21ZM18.45,9,17,7.55Zm-12,3A5.31,5.31,0,0,0,4.9,8.1,5.31,5.31,0,0,0,1,6.5,5.31,5.31,0,0,0,4.9,4.9,5.31,5.31,0,0,0,6.5,1,5.31,5.31,0,0,0,8.1,4.9,5.31,5.31,0,0,0,12,6.5,5.46,5.46,0,0,0,6.5,12Z\"/>\n",
              "  </svg>\n",
              "    </button>\n",
              "    <script>\n",
              "      (() => {\n",
              "      const buttonEl =\n",
              "        document.querySelector('#id_96526414-b33a-47a1-b4f5-48bba0dbb1a5 button.colab-df-generate');\n",
              "      buttonEl.style.display =\n",
              "        google.colab.kernel.accessAllowed ? 'block' : 'none';\n",
              "\n",
              "      buttonEl.onclick = () => {\n",
              "        google.colab.notebook.generateWithVariable('df');\n",
              "      }\n",
              "      })();\n",
              "    </script>\n",
              "  </div>\n",
              "\n",
              "    </div>\n",
              "  </div>\n"
            ],
            "application/vnd.google.colaboratory.intrinsic+json": {
              "type": "dataframe",
              "variable_name": "df",
              "summary": "{\n  \"name\": \"df\",\n  \"rows\": 7,\n  \"fields\": [\n    {\n      \"column\": \"Col_1\",\n      \"properties\": {\n        \"dtype\": \"number\",\n        \"std\": 1,\n        \"min\": 1,\n        \"max\": 4,\n        \"num_unique_values\": 3,\n        \"samples\": [\n          3,\n          1,\n          4\n        ],\n        \"semantic_type\": \"\",\n        \"description\": \"\"\n      }\n    },\n    {\n      \"column\": \"Col_2\",\n      \"properties\": {\n        \"dtype\": \"number\",\n        \"std\": 1,\n        \"min\": 1,\n        \"max\": 5,\n        \"num_unique_values\": 5,\n        \"samples\": [\n          3,\n          5,\n          1\n        ],\n        \"semantic_type\": \"\",\n        \"description\": \"\"\n      }\n    },\n    {\n      \"column\": \"Col_3\",\n      \"properties\": {\n        \"dtype\": \"number\",\n        \"std\": 1,\n        \"min\": 1,\n        \"max\": 5,\n        \"num_unique_values\": 3,\n        \"samples\": [\n          5,\n          1,\n          3\n        ],\n        \"semantic_type\": \"\",\n        \"description\": \"\"\n      }\n    },\n    {\n      \"column\": \"Col_4\",\n      \"properties\": {\n        \"dtype\": \"number\",\n        \"std\": 1,\n        \"min\": 1,\n        \"max\": 6,\n        \"num_unique_values\": 4,\n        \"samples\": [\n          4,\n          5,\n          1\n        ],\n        \"semantic_type\": \"\",\n        \"description\": \"\"\n      }\n    },\n    {\n      \"column\": \"Col_5\",\n      \"properties\": {\n        \"dtype\": \"number\",\n        \"std\": 1,\n        \"min\": 1,\n        \"max\": 6,\n        \"num_unique_values\": 4,\n        \"samples\": [\n          6,\n          4,\n          2\n        ],\n        \"semantic_type\": \"\",\n        \"description\": \"\"\n      }\n    }\n  ]\n}"
            }
          },
          "metadata": {},
          "execution_count": 85
        }
      ]
    },
    {
      "cell_type": "markdown",
      "source": [
        "---"
      ],
      "metadata": {
        "id": "5cLQpdkmW2LW"
      }
    },
    {
      "cell_type": "markdown",
      "source": [
        "11) Create two different Series, each of length 50, with the following criteria:\n",
        "\n",
        "a) The first Series should contain random numbers ranging from 10 to 50.\n",
        "\n",
        "b) The second Series should contain random numbers ranging from 100 to 1000.\n",
        "\n",
        "c) Create a DataFrame by joining these Series by column, and, change the names of the columns to 'col1', 'col2', etc"
      ],
      "metadata": {
        "id": "VHWk3Fw2Awph"
      }
    },
    {
      "cell_type": "code",
      "source": [
        "import pandas as pd\n",
        "import numpy as np\n",
        "\n",
        "# a) First Series with random numbers ranging from 10 to 50\n",
        "series1 = pd.Series(np.random.randint(10, 51, 50))\n",
        "\n",
        "# b) Second Series with random numbers ranging from 100 to 1000\n",
        "series2 = pd.Series(np.random.randint(100, 1001, 50))\n",
        "\n",
        "# c) Create a DataFrame by joining these Series and rename columns\n",
        "df = pd.DataFrame({'col1': series1, 'col2': series2})\n",
        "\n",
        "print(\"DataFrame with renamed columns:\\n\", df)\n"
      ],
      "metadata": {
        "colab": {
          "base_uri": "https://localhost:8080/"
        },
        "id": "mITmd5rNAeBJ",
        "outputId": "5051ef96-c819-4d7d-ab41-994f12b5e9d2"
      },
      "execution_count": 47,
      "outputs": [
        {
          "output_type": "stream",
          "name": "stdout",
          "text": [
            "DataFrame with renamed columns:\n",
            "     col1  col2\n",
            "0     12   932\n",
            "1     43   513\n",
            "2     22   446\n",
            "3     25   250\n",
            "4     43   503\n",
            "5     33   489\n",
            "6     22   904\n",
            "7     15   695\n",
            "8     48   227\n",
            "9     11   584\n",
            "10    20   873\n",
            "11    16   448\n",
            "12    16   560\n",
            "13    48   254\n",
            "14    48   853\n",
            "15    21   183\n",
            "16    31   235\n",
            "17    12   280\n",
            "18    22   692\n",
            "19    39   513\n",
            "20    19   100\n",
            "21    18   827\n",
            "22    15   819\n",
            "23    11   942\n",
            "24    25   864\n",
            "25    22   743\n",
            "26    22   673\n",
            "27    31   423\n",
            "28    28   244\n",
            "29    35   980\n",
            "30    23   557\n",
            "31    40   696\n",
            "32    38   216\n",
            "33    31   841\n",
            "34    16   867\n",
            "35    46   924\n",
            "36    50   418\n",
            "37    36   660\n",
            "38    40   245\n",
            "39    15   985\n",
            "40    25   621\n",
            "41    47   592\n",
            "42    47   290\n",
            "43    41   179\n",
            "44    42   842\n",
            "45    26   306\n",
            "46    42   517\n",
            "47    20  1000\n",
            "48    22   328\n",
            "49    39   939\n"
          ]
        }
      ]
    },
    {
      "cell_type": "markdown",
      "source": [
        "---"
      ],
      "metadata": {
        "id": "gSTYP-hBBKS0"
      }
    },
    {
      "cell_type": "markdown",
      "source": [
        "12) Perform the following operations using people data set:\n",
        "\n",
        "a) Delete the 'Email', 'Phone', and 'Date of birth' columns from the dataset.\n",
        "\n",
        "b) Delete the rows containing any missing values.\n",
        "\n",
        "d) Print the final output also.\n"
      ],
      "metadata": {
        "id": "oBQBxTXGFd86"
      }
    },
    {
      "cell_type": "code",
      "source": [
        "import pandas as pd\n",
        "\n",
        "# Assuming 'people.csv' is the dataset file\n",
        "# Load the dataset\n",
        "df = pd.read_csv('/content/drive/MyDrive/pw/People Data.csv')\n",
        "\n",
        "# a) Delete the 'Email', 'Phone', and 'Date of birth' columns from the dataset\n",
        "df.drop(columns=['Email', 'Phone', 'Date of birth'], inplace=True)\n",
        "\n",
        "# b) Delete the rows containing any missing values\n",
        "df.dropna(inplace=True)\n",
        "\n",
        "# d) Print the final output\n",
        "df\n"
      ],
      "metadata": {
        "colab": {
          "base_uri": "https://localhost:8080/",
          "height": 424
        },
        "id": "jHilmRM6Fdri",
        "outputId": "31051e6c-6766-4782-b09e-2ea1f52188db"
      },
      "execution_count": 87,
      "outputs": [
        {
          "output_type": "execute_result",
          "data": {
            "text/plain": [
              "     Index          User Id First Name Last Name  Gender  \\\n",
              "0        1  8717bbf45cCDbEe     Shelia   Mahoney    Male   \n",
              "1        2  3d5AD30A4cD38ed         Jo    Rivers  Female   \n",
              "2        3  810Ce0F276Badec     Sheryl    Lowery  Female   \n",
              "3        4  BF2a889C00f0cE1    Whitney    Hooper    Male   \n",
              "4        5  9afFEafAe1CBBB9    Lindsey      Rice  Female   \n",
              "..     ...              ...        ...       ...     ...   \n",
              "995    996  fedF4c7Fd9e7cFa       Kurt    Bryant  Female   \n",
              "996    997  ECddaFEDdEc4FAB      Donna     Barry  Female   \n",
              "997    998  2adde51d8B8979E      Cathy  Mckinney  Female   \n",
              "998    999  Fb2FE369D1E171A   Jermaine    Phelps    Male   \n",
              "999   1000  8b756f6231DDC6e        Lee      Tran  Female   \n",
              "\n",
              "                           Job Title  Salary  \n",
              "0                  Probation officer   90000  \n",
              "1                             Dancer   80000  \n",
              "2                               Copy   50000  \n",
              "3           Counselling psychologist   65000  \n",
              "4                Biomedical engineer  100000  \n",
              "..                               ...     ...  \n",
              "995                Personnel officer   90000  \n",
              "996          Education administrator   50000  \n",
              "997  Commercial/residential surveyor   60000  \n",
              "998                 Ambulance person  100000  \n",
              "999       Nurse, learning disability   90000  \n",
              "\n",
              "[1000 rows x 7 columns]"
            ],
            "text/html": [
              "\n",
              "  <div id=\"df-bfe599d0-d3cd-4650-82f9-67f64cf81ca7\" class=\"colab-df-container\">\n",
              "    <div>\n",
              "<style scoped>\n",
              "    .dataframe tbody tr th:only-of-type {\n",
              "        vertical-align: middle;\n",
              "    }\n",
              "\n",
              "    .dataframe tbody tr th {\n",
              "        vertical-align: top;\n",
              "    }\n",
              "\n",
              "    .dataframe thead th {\n",
              "        text-align: right;\n",
              "    }\n",
              "</style>\n",
              "<table border=\"1\" class=\"dataframe\">\n",
              "  <thead>\n",
              "    <tr style=\"text-align: right;\">\n",
              "      <th></th>\n",
              "      <th>Index</th>\n",
              "      <th>User Id</th>\n",
              "      <th>First Name</th>\n",
              "      <th>Last Name</th>\n",
              "      <th>Gender</th>\n",
              "      <th>Job Title</th>\n",
              "      <th>Salary</th>\n",
              "    </tr>\n",
              "  </thead>\n",
              "  <tbody>\n",
              "    <tr>\n",
              "      <th>0</th>\n",
              "      <td>1</td>\n",
              "      <td>8717bbf45cCDbEe</td>\n",
              "      <td>Shelia</td>\n",
              "      <td>Mahoney</td>\n",
              "      <td>Male</td>\n",
              "      <td>Probation officer</td>\n",
              "      <td>90000</td>\n",
              "    </tr>\n",
              "    <tr>\n",
              "      <th>1</th>\n",
              "      <td>2</td>\n",
              "      <td>3d5AD30A4cD38ed</td>\n",
              "      <td>Jo</td>\n",
              "      <td>Rivers</td>\n",
              "      <td>Female</td>\n",
              "      <td>Dancer</td>\n",
              "      <td>80000</td>\n",
              "    </tr>\n",
              "    <tr>\n",
              "      <th>2</th>\n",
              "      <td>3</td>\n",
              "      <td>810Ce0F276Badec</td>\n",
              "      <td>Sheryl</td>\n",
              "      <td>Lowery</td>\n",
              "      <td>Female</td>\n",
              "      <td>Copy</td>\n",
              "      <td>50000</td>\n",
              "    </tr>\n",
              "    <tr>\n",
              "      <th>3</th>\n",
              "      <td>4</td>\n",
              "      <td>BF2a889C00f0cE1</td>\n",
              "      <td>Whitney</td>\n",
              "      <td>Hooper</td>\n",
              "      <td>Male</td>\n",
              "      <td>Counselling psychologist</td>\n",
              "      <td>65000</td>\n",
              "    </tr>\n",
              "    <tr>\n",
              "      <th>4</th>\n",
              "      <td>5</td>\n",
              "      <td>9afFEafAe1CBBB9</td>\n",
              "      <td>Lindsey</td>\n",
              "      <td>Rice</td>\n",
              "      <td>Female</td>\n",
              "      <td>Biomedical engineer</td>\n",
              "      <td>100000</td>\n",
              "    </tr>\n",
              "    <tr>\n",
              "      <th>...</th>\n",
              "      <td>...</td>\n",
              "      <td>...</td>\n",
              "      <td>...</td>\n",
              "      <td>...</td>\n",
              "      <td>...</td>\n",
              "      <td>...</td>\n",
              "      <td>...</td>\n",
              "    </tr>\n",
              "    <tr>\n",
              "      <th>995</th>\n",
              "      <td>996</td>\n",
              "      <td>fedF4c7Fd9e7cFa</td>\n",
              "      <td>Kurt</td>\n",
              "      <td>Bryant</td>\n",
              "      <td>Female</td>\n",
              "      <td>Personnel officer</td>\n",
              "      <td>90000</td>\n",
              "    </tr>\n",
              "    <tr>\n",
              "      <th>996</th>\n",
              "      <td>997</td>\n",
              "      <td>ECddaFEDdEc4FAB</td>\n",
              "      <td>Donna</td>\n",
              "      <td>Barry</td>\n",
              "      <td>Female</td>\n",
              "      <td>Education administrator</td>\n",
              "      <td>50000</td>\n",
              "    </tr>\n",
              "    <tr>\n",
              "      <th>997</th>\n",
              "      <td>998</td>\n",
              "      <td>2adde51d8B8979E</td>\n",
              "      <td>Cathy</td>\n",
              "      <td>Mckinney</td>\n",
              "      <td>Female</td>\n",
              "      <td>Commercial/residential surveyor</td>\n",
              "      <td>60000</td>\n",
              "    </tr>\n",
              "    <tr>\n",
              "      <th>998</th>\n",
              "      <td>999</td>\n",
              "      <td>Fb2FE369D1E171A</td>\n",
              "      <td>Jermaine</td>\n",
              "      <td>Phelps</td>\n",
              "      <td>Male</td>\n",
              "      <td>Ambulance person</td>\n",
              "      <td>100000</td>\n",
              "    </tr>\n",
              "    <tr>\n",
              "      <th>999</th>\n",
              "      <td>1000</td>\n",
              "      <td>8b756f6231DDC6e</td>\n",
              "      <td>Lee</td>\n",
              "      <td>Tran</td>\n",
              "      <td>Female</td>\n",
              "      <td>Nurse, learning disability</td>\n",
              "      <td>90000</td>\n",
              "    </tr>\n",
              "  </tbody>\n",
              "</table>\n",
              "<p>1000 rows × 7 columns</p>\n",
              "</div>\n",
              "    <div class=\"colab-df-buttons\">\n",
              "\n",
              "  <div class=\"colab-df-container\">\n",
              "    <button class=\"colab-df-convert\" onclick=\"convertToInteractive('df-bfe599d0-d3cd-4650-82f9-67f64cf81ca7')\"\n",
              "            title=\"Convert this dataframe to an interactive table.\"\n",
              "            style=\"display:none;\">\n",
              "\n",
              "  <svg xmlns=\"http://www.w3.org/2000/svg\" height=\"24px\" viewBox=\"0 -960 960 960\">\n",
              "    <path d=\"M120-120v-720h720v720H120Zm60-500h600v-160H180v160Zm220 220h160v-160H400v160Zm0 220h160v-160H400v160ZM180-400h160v-160H180v160Zm440 0h160v-160H620v160ZM180-180h160v-160H180v160Zm440 0h160v-160H620v160Z\"/>\n",
              "  </svg>\n",
              "    </button>\n",
              "\n",
              "  <style>\n",
              "    .colab-df-container {\n",
              "      display:flex;\n",
              "      gap: 12px;\n",
              "    }\n",
              "\n",
              "    .colab-df-convert {\n",
              "      background-color: #E8F0FE;\n",
              "      border: none;\n",
              "      border-radius: 50%;\n",
              "      cursor: pointer;\n",
              "      display: none;\n",
              "      fill: #1967D2;\n",
              "      height: 32px;\n",
              "      padding: 0 0 0 0;\n",
              "      width: 32px;\n",
              "    }\n",
              "\n",
              "    .colab-df-convert:hover {\n",
              "      background-color: #E2EBFA;\n",
              "      box-shadow: 0px 1px 2px rgba(60, 64, 67, 0.3), 0px 1px 3px 1px rgba(60, 64, 67, 0.15);\n",
              "      fill: #174EA6;\n",
              "    }\n",
              "\n",
              "    .colab-df-buttons div {\n",
              "      margin-bottom: 4px;\n",
              "    }\n",
              "\n",
              "    [theme=dark] .colab-df-convert {\n",
              "      background-color: #3B4455;\n",
              "      fill: #D2E3FC;\n",
              "    }\n",
              "\n",
              "    [theme=dark] .colab-df-convert:hover {\n",
              "      background-color: #434B5C;\n",
              "      box-shadow: 0px 1px 3px 1px rgba(0, 0, 0, 0.15);\n",
              "      filter: drop-shadow(0px 1px 2px rgba(0, 0, 0, 0.3));\n",
              "      fill: #FFFFFF;\n",
              "    }\n",
              "  </style>\n",
              "\n",
              "    <script>\n",
              "      const buttonEl =\n",
              "        document.querySelector('#df-bfe599d0-d3cd-4650-82f9-67f64cf81ca7 button.colab-df-convert');\n",
              "      buttonEl.style.display =\n",
              "        google.colab.kernel.accessAllowed ? 'block' : 'none';\n",
              "\n",
              "      async function convertToInteractive(key) {\n",
              "        const element = document.querySelector('#df-bfe599d0-d3cd-4650-82f9-67f64cf81ca7');\n",
              "        const dataTable =\n",
              "          await google.colab.kernel.invokeFunction('convertToInteractive',\n",
              "                                                    [key], {});\n",
              "        if (!dataTable) return;\n",
              "\n",
              "        const docLinkHtml = 'Like what you see? Visit the ' +\n",
              "          '<a target=\"_blank\" href=https://colab.research.google.com/notebooks/data_table.ipynb>data table notebook</a>'\n",
              "          + ' to learn more about interactive tables.';\n",
              "        element.innerHTML = '';\n",
              "        dataTable['output_type'] = 'display_data';\n",
              "        await google.colab.output.renderOutput(dataTable, element);\n",
              "        const docLink = document.createElement('div');\n",
              "        docLink.innerHTML = docLinkHtml;\n",
              "        element.appendChild(docLink);\n",
              "      }\n",
              "    </script>\n",
              "  </div>\n",
              "\n",
              "\n",
              "<div id=\"df-382983ab-7c43-4ef5-86f5-9d4fe1fbc6c7\">\n",
              "  <button class=\"colab-df-quickchart\" onclick=\"quickchart('df-382983ab-7c43-4ef5-86f5-9d4fe1fbc6c7')\"\n",
              "            title=\"Suggest charts\"\n",
              "            style=\"display:none;\">\n",
              "\n",
              "<svg xmlns=\"http://www.w3.org/2000/svg\" height=\"24px\"viewBox=\"0 0 24 24\"\n",
              "     width=\"24px\">\n",
              "    <g>\n",
              "        <path d=\"M19 3H5c-1.1 0-2 .9-2 2v14c0 1.1.9 2 2 2h14c1.1 0 2-.9 2-2V5c0-1.1-.9-2-2-2zM9 17H7v-7h2v7zm4 0h-2V7h2v10zm4 0h-2v-4h2v4z\"/>\n",
              "    </g>\n",
              "</svg>\n",
              "  </button>\n",
              "\n",
              "<style>\n",
              "  .colab-df-quickchart {\n",
              "      --bg-color: #E8F0FE;\n",
              "      --fill-color: #1967D2;\n",
              "      --hover-bg-color: #E2EBFA;\n",
              "      --hover-fill-color: #174EA6;\n",
              "      --disabled-fill-color: #AAA;\n",
              "      --disabled-bg-color: #DDD;\n",
              "  }\n",
              "\n",
              "  [theme=dark] .colab-df-quickchart {\n",
              "      --bg-color: #3B4455;\n",
              "      --fill-color: #D2E3FC;\n",
              "      --hover-bg-color: #434B5C;\n",
              "      --hover-fill-color: #FFFFFF;\n",
              "      --disabled-bg-color: #3B4455;\n",
              "      --disabled-fill-color: #666;\n",
              "  }\n",
              "\n",
              "  .colab-df-quickchart {\n",
              "    background-color: var(--bg-color);\n",
              "    border: none;\n",
              "    border-radius: 50%;\n",
              "    cursor: pointer;\n",
              "    display: none;\n",
              "    fill: var(--fill-color);\n",
              "    height: 32px;\n",
              "    padding: 0;\n",
              "    width: 32px;\n",
              "  }\n",
              "\n",
              "  .colab-df-quickchart:hover {\n",
              "    background-color: var(--hover-bg-color);\n",
              "    box-shadow: 0 1px 2px rgba(60, 64, 67, 0.3), 0 1px 3px 1px rgba(60, 64, 67, 0.15);\n",
              "    fill: var(--button-hover-fill-color);\n",
              "  }\n",
              "\n",
              "  .colab-df-quickchart-complete:disabled,\n",
              "  .colab-df-quickchart-complete:disabled:hover {\n",
              "    background-color: var(--disabled-bg-color);\n",
              "    fill: var(--disabled-fill-color);\n",
              "    box-shadow: none;\n",
              "  }\n",
              "\n",
              "  .colab-df-spinner {\n",
              "    border: 2px solid var(--fill-color);\n",
              "    border-color: transparent;\n",
              "    border-bottom-color: var(--fill-color);\n",
              "    animation:\n",
              "      spin 1s steps(1) infinite;\n",
              "  }\n",
              "\n",
              "  @keyframes spin {\n",
              "    0% {\n",
              "      border-color: transparent;\n",
              "      border-bottom-color: var(--fill-color);\n",
              "      border-left-color: var(--fill-color);\n",
              "    }\n",
              "    20% {\n",
              "      border-color: transparent;\n",
              "      border-left-color: var(--fill-color);\n",
              "      border-top-color: var(--fill-color);\n",
              "    }\n",
              "    30% {\n",
              "      border-color: transparent;\n",
              "      border-left-color: var(--fill-color);\n",
              "      border-top-color: var(--fill-color);\n",
              "      border-right-color: var(--fill-color);\n",
              "    }\n",
              "    40% {\n",
              "      border-color: transparent;\n",
              "      border-right-color: var(--fill-color);\n",
              "      border-top-color: var(--fill-color);\n",
              "    }\n",
              "    60% {\n",
              "      border-color: transparent;\n",
              "      border-right-color: var(--fill-color);\n",
              "    }\n",
              "    80% {\n",
              "      border-color: transparent;\n",
              "      border-right-color: var(--fill-color);\n",
              "      border-bottom-color: var(--fill-color);\n",
              "    }\n",
              "    90% {\n",
              "      border-color: transparent;\n",
              "      border-bottom-color: var(--fill-color);\n",
              "    }\n",
              "  }\n",
              "</style>\n",
              "\n",
              "  <script>\n",
              "    async function quickchart(key) {\n",
              "      const quickchartButtonEl =\n",
              "        document.querySelector('#' + key + ' button');\n",
              "      quickchartButtonEl.disabled = true;  // To prevent multiple clicks.\n",
              "      quickchartButtonEl.classList.add('colab-df-spinner');\n",
              "      try {\n",
              "        const charts = await google.colab.kernel.invokeFunction(\n",
              "            'suggestCharts', [key], {});\n",
              "      } catch (error) {\n",
              "        console.error('Error during call to suggestCharts:', error);\n",
              "      }\n",
              "      quickchartButtonEl.classList.remove('colab-df-spinner');\n",
              "      quickchartButtonEl.classList.add('colab-df-quickchart-complete');\n",
              "    }\n",
              "    (() => {\n",
              "      let quickchartButtonEl =\n",
              "        document.querySelector('#df-382983ab-7c43-4ef5-86f5-9d4fe1fbc6c7 button');\n",
              "      quickchartButtonEl.style.display =\n",
              "        google.colab.kernel.accessAllowed ? 'block' : 'none';\n",
              "    })();\n",
              "  </script>\n",
              "</div>\n",
              "\n",
              "  <div id=\"id_7c0ce342-cc6e-4f70-9def-8514e09b3888\">\n",
              "    <style>\n",
              "      .colab-df-generate {\n",
              "        background-color: #E8F0FE;\n",
              "        border: none;\n",
              "        border-radius: 50%;\n",
              "        cursor: pointer;\n",
              "        display: none;\n",
              "        fill: #1967D2;\n",
              "        height: 32px;\n",
              "        padding: 0 0 0 0;\n",
              "        width: 32px;\n",
              "      }\n",
              "\n",
              "      .colab-df-generate:hover {\n",
              "        background-color: #E2EBFA;\n",
              "        box-shadow: 0px 1px 2px rgba(60, 64, 67, 0.3), 0px 1px 3px 1px rgba(60, 64, 67, 0.15);\n",
              "        fill: #174EA6;\n",
              "      }\n",
              "\n",
              "      [theme=dark] .colab-df-generate {\n",
              "        background-color: #3B4455;\n",
              "        fill: #D2E3FC;\n",
              "      }\n",
              "\n",
              "      [theme=dark] .colab-df-generate:hover {\n",
              "        background-color: #434B5C;\n",
              "        box-shadow: 0px 1px 3px 1px rgba(0, 0, 0, 0.15);\n",
              "        filter: drop-shadow(0px 1px 2px rgba(0, 0, 0, 0.3));\n",
              "        fill: #FFFFFF;\n",
              "      }\n",
              "    </style>\n",
              "    <button class=\"colab-df-generate\" onclick=\"generateWithVariable('df')\"\n",
              "            title=\"Generate code using this dataframe.\"\n",
              "            style=\"display:none;\">\n",
              "\n",
              "  <svg xmlns=\"http://www.w3.org/2000/svg\" height=\"24px\"viewBox=\"0 0 24 24\"\n",
              "       width=\"24px\">\n",
              "    <path d=\"M7,19H8.4L18.45,9,17,7.55,7,17.6ZM5,21V16.75L18.45,3.32a2,2,0,0,1,2.83,0l1.4,1.43a1.91,1.91,0,0,1,.58,1.4,1.91,1.91,0,0,1-.58,1.4L9.25,21ZM18.45,9,17,7.55Zm-12,3A5.31,5.31,0,0,0,4.9,8.1,5.31,5.31,0,0,0,1,6.5,5.31,5.31,0,0,0,4.9,4.9,5.31,5.31,0,0,0,6.5,1,5.31,5.31,0,0,0,8.1,4.9,5.31,5.31,0,0,0,12,6.5,5.46,5.46,0,0,0,6.5,12Z\"/>\n",
              "  </svg>\n",
              "    </button>\n",
              "    <script>\n",
              "      (() => {\n",
              "      const buttonEl =\n",
              "        document.querySelector('#id_7c0ce342-cc6e-4f70-9def-8514e09b3888 button.colab-df-generate');\n",
              "      buttonEl.style.display =\n",
              "        google.colab.kernel.accessAllowed ? 'block' : 'none';\n",
              "\n",
              "      buttonEl.onclick = () => {\n",
              "        google.colab.notebook.generateWithVariable('df');\n",
              "      }\n",
              "      })();\n",
              "    </script>\n",
              "  </div>\n",
              "\n",
              "    </div>\n",
              "  </div>\n"
            ],
            "application/vnd.google.colaboratory.intrinsic+json": {
              "type": "dataframe",
              "variable_name": "df",
              "summary": "{\n  \"name\": \"df\",\n  \"rows\": 1000,\n  \"fields\": [\n    {\n      \"column\": \"Index\",\n      \"properties\": {\n        \"dtype\": \"number\",\n        \"std\": 288,\n        \"min\": 1,\n        \"max\": 1000,\n        \"num_unique_values\": 1000,\n        \"samples\": [\n          522,\n          738,\n          741\n        ],\n        \"semantic_type\": \"\",\n        \"description\": \"\"\n      }\n    },\n    {\n      \"column\": \"User Id\",\n      \"properties\": {\n        \"dtype\": \"string\",\n        \"num_unique_values\": 1000,\n        \"samples\": [\n          \"89FdFDb8Fa09efF\",\n          \"BBa02EC792cfFf3\",\n          \"b0E2bF69efAB9c5\"\n        ],\n        \"semantic_type\": \"\",\n        \"description\": \"\"\n      }\n    },\n    {\n      \"column\": \"First Name\",\n      \"properties\": {\n        \"dtype\": \"string\",\n        \"num_unique_values\": 526,\n        \"samples\": [\n          \"Maureen\",\n          \"Breanna\",\n          \"Ernest\"\n        ],\n        \"semantic_type\": \"\",\n        \"description\": \"\"\n      }\n    },\n    {\n      \"column\": \"Last Name\",\n      \"properties\": {\n        \"dtype\": \"string\",\n        \"num_unique_values\": 628,\n        \"samples\": [\n          \"Mendez\",\n          \"Callahan\",\n          \"Martinez\"\n        ],\n        \"semantic_type\": \"\",\n        \"description\": \"\"\n      }\n    },\n    {\n      \"column\": \"Gender\",\n      \"properties\": {\n        \"dtype\": \"category\",\n        \"num_unique_values\": 2,\n        \"samples\": [\n          \"Female\",\n          \"Male\"\n        ],\n        \"semantic_type\": \"\",\n        \"description\": \"\"\n      }\n    },\n    {\n      \"column\": \"Job Title\",\n      \"properties\": {\n        \"dtype\": \"string\",\n        \"num_unique_values\": 519,\n        \"samples\": [\n          \"Furniture designer\",\n          \"Field seismologist\"\n        ],\n        \"semantic_type\": \"\",\n        \"description\": \"\"\n      }\n    },\n    {\n      \"column\": \"Salary\",\n      \"properties\": {\n        \"dtype\": \"number\",\n        \"std\": 16136,\n        \"min\": 50000,\n        \"max\": 100000,\n        \"num_unique_values\": 8,\n        \"samples\": [\n          80000,\n          60000\n        ],\n        \"semantic_type\": \"\",\n        \"description\": \"\"\n      }\n    }\n  ]\n}"
            }
          },
          "metadata": {},
          "execution_count": 87
        }
      ]
    },
    {
      "cell_type": "markdown",
      "source": [
        "---"
      ],
      "metadata": {
        "id": "IFaUsipxFeZw"
      }
    },
    {
      "cell_type": "markdown",
      "source": [
        "13) Create two NumPy arrays, x and y, each containing 100 random float values between 0 and 1. Perform the\n",
        "following tasks using Matplotlib and NumPy:\n",
        "\n",
        "a) Create a scatter plot using x and y, setting the color of the points to red and the marker style to 'o'.\n",
        "\n",
        "b) Add a horizontal line at y = 0.5 using a dashed line style and label it as 'y = 0.5'.\n",
        "\n",
        "c) Add a vertical line at x = 0.5 using a dotted line style and label it as 'x = 0.5'.\n",
        "\n",
        "d) Label the x-axis as 'X-axis' and the y-axis as 'Y-axis'.\n",
        "\n",
        "e) Set the title of the plot as 'Advanced Scatter Plot of Random Values'.\n",
        "\n",
        "f) Display a legend for the scatter plot, the horizontal line, and the vertical line."
      ],
      "metadata": {
        "id": "ocAl0s3PBLLK"
      }
    },
    {
      "cell_type": "code",
      "source": [
        "import numpy as np\n",
        "import matplotlib.pyplot as plt\n",
        "\n",
        "# Create two arrays of random float values between 0 and 1\n",
        "x = np.random.rand(100)\n",
        "y = np.random.rand(100)\n",
        "\n",
        "plt.scatter(x, y, color='red', marker='o', label='Random Points')\n",
        "\n",
        "plt.axhline(y=0.5, color='blue', linestyle='--', label='y = 0.5')\n",
        "\n",
        "plt.axvline(x=0.5, color='green', linestyle=':', label='x = 0.5')\n",
        "\n",
        "plt.xlabel('X-axis')\n",
        "plt.ylabel('Y-axis')\n",
        "\n",
        "plt.title('Advanced Scatter Plot of Random Values')\n",
        "\n",
        "plt.legend()\n",
        "\n",
        "plt.show()\n"
      ],
      "metadata": {
        "colab": {
          "base_uri": "https://localhost:8080/",
          "height": 472
        },
        "id": "WlmNjFe_BI8g",
        "outputId": "ea83b056-9ccd-4862-de3f-63fe4461bb9e"
      },
      "execution_count": 48,
      "outputs": [
        {
          "output_type": "display_data",
          "data": {
            "text/plain": [
              "<Figure size 640x480 with 1 Axes>"
            ],
            "image/png": "[encoded data removed]"
          },
          "metadata": {}
        }
      ]
    },
    {
      "cell_type": "markdown",
      "source": [
        "---"
      ],
      "metadata": {
        "id": "Yvl13zyXBn3J"
      }
    },
    {
      "cell_type": "markdown",
      "source": [
        "14) Create a time-series dataset in a Pandas DataFrame with columns: 'Date', 'Temperature', 'Humidity' and\n",
        "Perform the following tasks using Matplotlib:\n",
        "\n",
        "a) Plot the 'Temperature' and 'Humidity' on the same plot with different y-axes (left y-axis for 'Temperature' and\n",
        "right y-axis for 'Humidity').\n",
        "\n",
        "b) Label the x-axis as 'Date'.\n",
        "\n",
        "c) Set the title of the plot as 'Temperature and Humidity Over Time'."
      ],
      "metadata": {
        "id": "4TQOGCXqB25c"
      }
    },
    {
      "cell_type": "code",
      "source": [
        "import pandas as pd\n",
        "import numpy as np\n",
        "import matplotlib.pyplot as plt\n",
        "\n",
        "# Generate a time-series dataset\n",
        "date_range = pd.date_range(start=\"2023-01-01\", periods=100, freq=\"D\")\n",
        "temperature = np.random.uniform(low=15, high=35, size=100)  # Random temperatures between 15 and 35 degrees\n",
        "humidity = np.random.uniform(low=30, high=80, size=100)  # Random humidity values between 30 and 80%\n",
        "\n",
        "df = pd.DataFrame({\n",
        "    'Date': date_range,\n",
        "    'Temperature': temperature,\n",
        "    'Humidity': humidity\n",
        "})\n",
        "\n",
        "df.set_index('Date', inplace=True)\n",
        "\n",
        "fig, ax1 = plt.subplots(figsize=(10, 6))\n",
        "\n",
        "ax1.plot(df.index, df['Temperature'], color='tab:red', label='Temperature')\n",
        "ax1.set_xlabel('Date')  # x-axis label\n",
        "ax1.set_ylabel('Temperature (°C)', color='tab:red')\n",
        "ax1.tick_params(axis='y', labelcolor='tab:red')\n",
        "\n",
        "ax2 = ax1.twinx()\n",
        "ax2.plot(df.index, df['Humidity'], color='tab:blue', label='Humidity')\n",
        "ax2.set_ylabel('Humidity (%)', color='tab:blue')\n",
        "ax2.tick_params(axis='y', labelcolor='tab:blue')\n",
        "\n",
        "plt.title('Temperature and Humidity Over Time')\n",
        "\n",
        "plt.show()\n"
      ],
      "metadata": {
        "colab": {
          "base_uri": "https://localhost:8080/",
          "height": 564
        },
        "id": "L1R86eYbBhU5",
        "outputId": "ae46f577-ebb7-432d-be50-7da1f9e8eb3c"
      },
      "execution_count": 49,
      "outputs": [
        {
          "output_type": "display_data",
          "data": {
            "text/plain": [
              "<Figure size 1000x600 with 2 Axes>"
            ],
            "image/png": "[encoded data removed]"
          },
          "metadata": {}
        }
      ]
    },
    {
      "cell_type": "markdown",
      "source": [
        "---"
      ],
      "metadata": {
        "id": "dhHlYuHtCJEr"
      }
    },
    {
      "cell_type": "markdown",
      "source": [
        "15)  Create a NumPy array data containing 1000 samples from a normal distribution. Perform the following\n",
        "tasks using Matplotlib:\n",
        "\n",
        "a) Plot a histogram of the data with 30 bins.\n",
        "\n",
        "b) Overlay a line plot representing the normal distribution's probability density function (PDF).\n",
        "\n",
        "c) Label the x-axis as 'Value' and the y-axis as 'Frequency/Probability'.\n",
        "\n",
        "d) Set the title of the plot as 'Histogram with PDF Overlay'."
      ],
      "metadata": {
        "id": "eI46SsspCJ5a"
      }
    },
    {
      "cell_type": "code",
      "source": [
        "import numpy as np\n",
        "import matplotlib.pyplot as plt\n",
        "from scipy.stats import norm\n",
        "\n",
        "data = np.random.normal(loc=0, scale=1, size=1000)\n",
        "\n",
        "plt.figure(figsize=(10, 6))\n",
        "count, bins, _ = plt.hist(data, bins=30, density=True, alpha=0.6, color='skyblue', label='Histogram')\n",
        "bin_centers = 0.5 * (bins[1:] + bins[:-1])\n",
        "pdf_values = norm.pdf(bin_centers, loc=np.mean(data), scale=np.std(data))\n",
        "plt.plot(bin_centers, pdf_values, color='darkred', label='Normal Distribution PDF')\n",
        "\n",
        "plt.xlabel('Value')\n",
        "plt.ylabel('Frequency/Probability')\n",
        "plt.title('Histogram with PDF Overlay')\n",
        "\n",
        "plt.legend()\n",
        "\n",
        "plt.show()\n"
      ],
      "metadata": {
        "colab": {
          "base_uri": "https://localhost:8080/",
          "height": 564
        },
        "id": "FeYUID38CB-a",
        "outputId": "76bc205a-f117-4a19-cd5a-aacd49cb38e0"
      },
      "execution_count": 50,
      "outputs": [
        {
          "output_type": "display_data",
          "data": {
            "text/plain": [
              "<Figure size 1000x600 with 1 Axes>"
            ],
            "image/png": "[encoded data removed]"
          },
          "metadata": {}
        }
      ]
    },
    {
      "cell_type": "markdown",
      "source": [
        "---"
      ],
      "metadata": {
        "id": "hnewZkZsCisn"
      }
    },
    {
      "cell_type": "markdown",
      "source": [
        "16) Set the title of the plot as 'Histogram with PDF Overlay'."
      ],
      "metadata": {
        "id": "f93opI-XCkIz"
      }
    },
    {
      "cell_type": "code",
      "source": [
        "import numpy as np\n",
        "import matplotlib.pyplot as plt\n",
        "from scipy.stats import norm\n",
        "\n",
        "data = np.random.normal(loc=0, scale=1, size=1000)\n",
        "\n",
        "plt.figure(figsize=(10, 6))\n",
        "count, bins, _ = plt.hist(data, bins=30, density=True, alpha=0.6, color='skyblue', label='Histogram')\n",
        "bin_centers = 0.5 * (bins[1:] + bins[:-1])\n",
        "pdf_values = norm.pdf(bin_centers, loc=np.mean(data), scale=np.std(data))\n",
        "plt.plot(bin_centers, pdf_values, color='darkred', label='Normal Distribution PDF')\n",
        "\n",
        "plt.xlabel('Value')\n",
        "plt.ylabel('Frequency/Probability')\n",
        "plt.title('Histogram with PDF Overlay')  # Correct title\n",
        "\n",
        "plt.legend()\n",
        "plt.show()\n"
      ],
      "metadata": {
        "colab": {
          "base_uri": "https://localhost:8080/",
          "height": 564
        },
        "id": "t3kRCkEQChcR",
        "outputId": "ab5d9458-d191-438d-ce46-f22ef094bb46"
      },
      "execution_count": 51,
      "outputs": [
        {
          "output_type": "display_data",
          "data": {
            "text/plain": [
              "<Figure size 1000x600 with 1 Axes>"
            ],
            "image/png": "[encoded data removed]"
          },
          "metadata": {}
        }
      ]
    },
    {
      "cell_type": "markdown",
      "source": [
        "---"
      ],
      "metadata": {
        "id": "qYD_dDETC3rx"
      }
    },
    {
      "cell_type": "markdown",
      "source": [
        "17) Create a Seaborn scatter plot of two random arrays, color points based on their position relative to the\n",
        "origin (quadrants), add a legend, label the axes, and set the title as 'Quadrant-wise Scatter Plot'."
      ],
      "metadata": {
        "id": "EfnivkU2C4wB"
      }
    },
    {
      "cell_type": "code",
      "source": [
        "import numpy as np\n",
        "import seaborn as sns\n",
        "import matplotlib.pyplot as plt\n",
        "import pandas as pd\n",
        "\n",
        "\n",
        "np.random.seed(0)\n",
        "x = np.random.randn(100)\n",
        "y = np.random.randn(100)\n",
        "\n",
        "# Create a DataFrame\n",
        "data = pd.DataFrame({'x': x, 'y': y})\n",
        "\n",
        "# Assign colors based on the quadrant\n",
        "def assign_quadrant(x, y):\n",
        "    if x >= 0 and y >= 0:\n",
        "        return 'Q1'  # First quadrant\n",
        "    elif x < 0 and y >= 0:\n",
        "        return 'Q2'  # Second quadrant\n",
        "    elif x < 0 and y < 0:\n",
        "        return 'Q3'  # Third quadrant\n",
        "    else:\n",
        "        return 'Q4'  # Fourth quadrant\n",
        "\n",
        "data['quadrant'] = data.apply(lambda row: assign_quadrant(row['x'], row['y']), axis=1)\n",
        "\n",
        "plt.figure(figsize=(8, 6))\n",
        "sns.scatterplot(data=data, x='x', y='y', hue='quadrant', palette=\"coolwarm\", s=100)\n",
        "plt.xlabel('X-Axis')\n",
        "plt.ylabel('Y-Axis')\n",
        "plt.title('Quadrant-wise Scatter Plot')\n",
        "plt.legend(title='Quadrant')\n",
        "plt.show()\n"
      ],
      "metadata": {
        "colab": {
          "base_uri": "https://localhost:8080/",
          "height": 564
        },
        "id": "Y2YZin4OC3WJ",
        "outputId": "49ceb5e0-a728-45f7-c409-225a192ea980"
      },
      "execution_count": 52,
      "outputs": [
        {
          "output_type": "display_data",
          "data": {
            "text/plain": [
              "<Figure size 800x600 with 1 Axes>"
            ],
            "image/png": "[encoded data removed]"
          },
          "metadata": {}
        }
      ]
    },
    {
      "cell_type": "markdown",
      "source": [
        "---"
      ],
      "metadata": {
        "id": "k2GU4zC6DQKi"
      }
    },
    {
      "cell_type": "markdown",
      "source": [
        "18) With Bokeh, plot a line chart of a sine wave function, add grid lines, label the axes, and set the title as 'Sine\n",
        "Wave Function."
      ],
      "metadata": {
        "id": "86nFxJDwDRFS"
      }
    },
    {
      "cell_type": "code",
      "source": [
        "from bokeh.plotting import figure, show, output_notebook\n",
        "import numpy as np\n",
        "\n",
        "# Generate sine wave data\n",
        "x = np.linspace(0, 4 * np.pi, 1000)\n",
        "y = np.sin(x)\n",
        "\n",
        "output_notebook()\n",
        "p = figure(title=\"Sine Wave Function\", x_axis_label='X-Axis', y_axis_label='Y-Axis')\n",
        "p.line(x, y, legend_label=\"Sine Wave\", line_width=2, color=\"blue\")\n",
        "\n",
        "p.grid.visible = True\n",
        "show(p)\n",
        "\n"
      ],
      "metadata": {
        "colab": {
          "base_uri": "https://localhost:8080/",
          "height": 617
        },
        "id": "WiNpzjr0DHVa",
        "outputId": "7d3e2d50-42af-4bd6-fae5-5f2875a58807"
      },
      "execution_count": 53,
      "outputs": [
        {
          "output_type": "display_data",
          "data": {
            "application/javascript": [
              "'use strict';\n",
              "(function(root) {\n",
              "  function now() {\n",
              "    return new Date();\n",
              "  }\n",
              "\n",
              "  const force = true;\n",
              "\n",
              "  if (typeof root._bokeh_onload_callbacks === \"undefined\" || force === true) {\n",
              "    root._bokeh_onload_callbacks = [];\n",
              "    root._bokeh_is_loading = undefined;\n",
              "  }\n",
              "\n",
              "const JS_MIME_TYPE = 'application/javascript';\n",
              "  const HTML_MIME_TYPE = 'text/html';\n",
              "  const EXEC_MIME_TYPE = 'application/vnd.bokehjs_exec.v0+json';\n",
              "  const CLASS_NAME = 'output_bokeh rendered_html';\n",
              "\n",
              "  /**\n",
              "   * Render data to the DOM node\n",
              "   */\n",
              "  function render(props, node) {\n",
              "    const script = document.createElement(\"script\");\n",
              "    node.appendChild(script);\n",
              "  }\n",
              "\n",
              "  /**\n",
              "   * Handle when an output is cleared or removed\n",
              "   */\n",
              "  function handleClearOutput(event, handle) {\n",
              "    function drop(id) {\n",
              "      const view = Bokeh.index.get_by_id(id)\n",
              "      if (view != null) {\n",
              "        view.model.document.clear()\n",
              "        Bokeh.index.delete(view)\n",
              "      }\n",
              "    }\n",
              "\n",
              "    const cell = handle.cell;\n",
              "\n",
              "    const id = cell.output_area._bokeh_element_id;\n",
              "    const server_id = cell.output_area._bokeh_server_id;\n",
              "\n",
              "    // Clean up Bokeh references\n",
              "    if (id != null) {\n",
              "      drop(id)\n",
              "    }\n",
              "\n",
              "    if (server_id !== undefined) {\n",
              "      // Clean up Bokeh references\n",
              "      const cmd_clean = \"from bokeh.io.state import curstate; print(curstate().uuid_to_server['\" + server_id + \"'].get_sessions()[0].document.roots[0]._id)\";\n",
              "      cell.notebook.kernel.execute(cmd_clean, {\n",
              "        iopub: {\n",
              "          output: function(msg) {\n",
              "            const id = msg.content.text.trim()\n",
              "            drop(id)\n",
              "          }\n",
              "        }\n",
              "      });\n",
              "      // Destroy server and session\n",
              "      const cmd_destroy = \"import bokeh.io.notebook as ion; ion.destroy_server('\" + server_id + \"')\";\n",
              "      cell.notebook.kernel.execute(cmd_destroy);\n",
              "    }\n",
              "  }\n",
              "\n",
              "  /**\n",
              "   * Handle when a new output is added\n",
              "   */\n",
              "  function handleAddOutput(event, handle) {\n",
              "    const output_area = handle.output_area;\n",
              "    const output = handle.output;\n",
              "\n",
              "    // limit handleAddOutput to display_data with EXEC_MIME_TYPE content only\n",
              "    if ((output.output_type != \"display_data\") || (!Object.prototype.hasOwnProperty.call(output.data, EXEC_MIME_TYPE))) {\n",
              "      return\n",
              "    }\n",
              "\n",
              "    const toinsert = output_area.element.find(\".\" + CLASS_NAME.split(' ')[0]);\n",
              "\n",
              "    if (output.metadata[EXEC_MIME_TYPE][\"id\"] !== undefined) {\n",
              "      toinsert[toinsert.length - 1].firstChild.textContent = output.data[JS_MIME_TYPE];\n",
              "      // store reference to embed id on output_area\n",
              "      output_area._bokeh_element_id = output.metadata[EXEC_MIME_TYPE][\"id\"];\n",
              "    }\n",
              "    if (output.metadata[EXEC_MIME_TYPE][\"server_id\"] !== undefined) {\n",
              "      const bk_div = document.createElement(\"div\");\n",
              "      bk_div.innerHTML = output.data[HTML_MIME_TYPE];\n",
              "      const script_attrs = bk_div.children[0].attributes;\n",
              "      for (let i = 0; i < script_attrs.length; i++) {\n",
              "        toinsert[toinsert.length - 1].firstChild.setAttribute(script_attrs[i].name, script_attrs[i].value);\n",
              "        toinsert[toinsert.length - 1].firstChild.textContent = bk_div.children[0].textContent\n",
              "      }\n",
              "      // store reference to server id on output_area\n",
              "      output_area._bokeh_server_id = output.metadata[EXEC_MIME_TYPE][\"server_id\"];\n",
              "    }\n",
              "  }\n",
              "\n",
              "  function register_renderer(events, OutputArea) {\n",
              "\n",
              "    function append_mime(data, metadata, element) {\n",
              "      // create a DOM node to render to\n",
              "      const toinsert = this.create_output_subarea(\n",
              "        metadata,\n",
              "        CLASS_NAME,\n",
              "        EXEC_MIME_TYPE\n",
              "      );\n",
              "      this.keyboard_manager.register_events(toinsert);\n",
              "      // Render to node\n",
              "      const props = {data: data, metadata: metadata[EXEC_MIME_TYPE]};\n",
              "      render(props, toinsert[toinsert.length - 1]);\n",
              "      element.append(toinsert);\n",
              "      return toinsert\n",
              "    }\n",
              "\n",
              "    /* Handle when an output is cleared or removed */\n",
              "    events.on('clear_output.CodeCell', handleClearOutput);\n",
              "    events.on('delete.Cell', handleClearOutput);\n",
              "\n",
              "    /* Handle when a new output is added */\n",
              "    events.on('output_added.OutputArea', handleAddOutput);\n",
              "\n",
              "    /**\n",
              "     * Register the mime type and append_mime function with output_area\n",
              "     */\n",
              "    OutputArea.prototype.register_mime_type(EXEC_MIME_TYPE, append_mime, {\n",
              "      /* Is output safe? */\n",
              "      safe: true,\n",
              "      /* Index of renderer in `output_area.display_order` */\n",
              "      index: 0\n",
              "    });\n",
              "  }\n",
              "\n",
              "  // register the mime type if in Jupyter Notebook environment and previously unregistered\n",
              "  if (root.Jupyter !== undefined) {\n",
              "    const events = require('base/js/events');\n",
              "    const OutputArea = require('notebook/js/outputarea').OutputArea;\n",
              "\n",
              "    if (OutputArea.prototype.mime_types().indexOf(EXEC_MIME_TYPE) == -1) {\n",
              "      register_renderer(events, OutputArea);\n",
              "    }\n",
              "  }\n",
              "  if (typeof (root._bokeh_timeout) === \"undefined\" || force === true) {\n",
              "    root._bokeh_timeout = Date.now() + 5000;\n",
              "    root._bokeh_failed_load = false;\n",
              "  }\n",
              "\n",
              "  const NB_LOAD_WARNING = {'data': {'text/html':\n",
              "     \"<div style='background-color: #fdd'>\\n\"+\n",
              "     \"<p>\\n\"+\n",
              "     \"BokehJS does not appear to have successfully loaded. If loading BokehJS from CDN, this \\n\"+\n",
              "     \"may be due to a slow or bad network connection. Possible fixes:\\n\"+\n",
              "     \"</p>\\n\"+\n",
              "     \"<ul>\\n\"+\n",
              "     \"<li>re-rerun `output_notebook()` to attempt to load from CDN again, or</li>\\n\"+\n",
              "     \"<li>use INLINE resources instead, as so:</li>\\n\"+\n",
              "     \"</ul>\\n\"+\n",
              "     \"<code>\\n\"+\n",
              "     \"from bokeh.resources import INLINE\\n\"+\n",
              "     \"output_notebook(resources=INLINE)\\n\"+\n",
              "     \"</code>\\n\"+\n",
              "     \"</div>\"}};\n",
              "\n",
              "  function display_loaded(error = null) {\n",
              "    const el = document.getElementById(null);\n",
              "    if (el != null) {\n",
              "      const html = (() => {\n",
              "        if (typeof root.Bokeh === \"undefined\") {\n",
              "          if (error == null) {\n",
              "            return \"BokehJS is loading ...\";\n",
              "          } else {\n",
              "            return \"BokehJS failed to load.\";\n",
              "          }\n",
              "        } else {\n",
              "          const prefix = `BokehJS ${root.Bokeh.version}`;\n",
              "          if (error == null) {\n",
              "            return `${prefix} successfully loaded.`;\n",
              "          } else {\n",
              "            return `${prefix} <b>encountered errors</b> while loading and may not function as expected.`;\n",
              "          }\n",
              "        }\n",
              "      })();\n",
              "      el.innerHTML = html;\n",
              "\n",
              "      if (error != null) {\n",
              "        const wrapper = document.createElement(\"div\");\n",
              "        wrapper.style.overflow = \"auto\";\n",
              "        wrapper.style.height = \"5em\";\n",
              "        wrapper.style.resize = \"vertical\";\n",
              "        const content = document.createElement(\"div\");\n",
              "        content.style.fontFamily = \"monospace\";\n",
              "        content.style.whiteSpace = \"pre-wrap\";\n",
              "        content.style.backgroundColor = \"rgb(255, 221, 221)\";\n",
              "        content.textContent = error.stack ?? error.toString();\n",
              "        wrapper.append(content);\n",
              "        el.append(wrapper);\n",
              "      }\n",
              "    } else if (Date.now() < root._bokeh_timeout) {\n",
              "      setTimeout(() => display_loaded(error), 100);\n",
              "    }\n",
              "  }\n",
              "\n",
              "  function run_callbacks() {\n",
              "    try {\n",
              "      root._bokeh_onload_callbacks.forEach(function(callback) {\n",
              "        if (callback != null)\n",
              "          callback();\n",
              "      });\n",
              "    } finally {\n",
              "      delete root._bokeh_onload_callbacks\n",
              "    }\n",
              "    console.debug(\"Bokeh: all callbacks have finished\");\n",
              "  }\n",
              "\n",
              "  function load_libs(css_urls, js_urls, callback) {\n",
              "    if (css_urls == null) css_urls = [];\n",
              "    if (js_urls == null) js_urls = [];\n",
              "\n",
              "    root._bokeh_onload_callbacks.push(callback);\n",
              "    if (root._bokeh_is_loading > 0) {\n",
              "      console.debug(\"Bokeh: BokehJS is being loaded, scheduling callback at\", now());\n",
              "      return null;\n",
              "    }\n",
              "    if (js_urls == null || js_urls.length === 0) {\n",
              "      run_callbacks();\n",
              "      return null;\n",
              "    }\n",
              "    console.debug(\"Bokeh: BokehJS not loaded, scheduling load and callback at\", now());\n",
              "    root._bokeh_is_loading = css_urls.length + js_urls.length;\n",
              "\n",
              "    function on_load() {\n",
              "      root._bokeh_is_loading--;\n",
              "      if (root._bokeh_is_loading === 0) {\n",
              "        console.debug(\"Bokeh: all BokehJS libraries/stylesheets loaded\");\n",
              "        run_callbacks()\n",
              "      }\n",
              "    }\n",
              "\n",
              "    function on_error(url) {\n",
              "      console.error(\"failed to load \" + url);\n",
              "    }\n",
              "\n",
              "    for (let i = 0; i < css_urls.length; i++) {\n",
              "      const url = css_urls[i];\n",
              "      const element = document.createElement(\"link\");\n",
              "      element.onload = on_load;\n",
              "      element.onerror = on_error.bind(null, url);\n",
              "      element.rel = \"stylesheet\";\n",
              "      element.type = \"text/css\";\n",
              "      element.href = url;\n",
              "      console.debug(\"Bokeh: injecting link tag for BokehJS stylesheet: \", url);\n",
              "      document.body.appendChild(element);\n",
              "    }\n",
              "\n",
              "    for (let i = 0; i < js_urls.length; i++) {\n",
              "      const url = js_urls[i];\n",
              "      const element = document.createElement('script');\n",
              "      element.onload = on_load;\n",
              "      element.onerror = on_error.bind(null, url);\n",
              "      element.async = false;\n",
              "      element.src = url;\n",
              "      console.debug(\"Bokeh: injecting script tag for BokehJS library: \", url);\n",
              "      document.head.appendChild(element);\n",
              "    }\n",
              "  };\n",
              "\n",
              "  function inject_raw_css(css) {\n",
              "    const element = document.createElement(\"style\");\n",
              "    element.appendChild(document.createTextNode(css));\n",
              "    document.body.appendChild(element);\n",
              "  }\n",
              "\n",
              "  const js_urls = [\"https://cdn.bokeh.org/bokeh/release/bokeh-3.4.3.min.js\", \"https://cdn.bokeh.org/bokeh/release/bokeh-gl-3.4.3.min.js\", \"https://cdn.bokeh.org/bokeh/release/bokeh-widgets-3.4.3.min.js\", \"https://cdn.bokeh.org/bokeh/release/bokeh-tables-3.4.3.min.js\", \"https://cdn.bokeh.org/bokeh/release/bokeh-mathjax-3.4.3.min.js\"];\n",
              "  const css_urls = [];\n",
              "\n",
              "  const inline_js = [    function(Bokeh) {\n",
              "      Bokeh.set_log_level(\"info\");\n",
              "    },\n",
              "function(Bokeh) {\n",
              "    }\n",
              "  ];\n",
              "\n",
              "  function run_inline_js() {\n",
              "    if (root.Bokeh !== undefined || force === true) {\n",
              "      try {\n",
              "            for (let i = 0; i < inline_js.length; i++) {\n",
              "      inline_js[i].call(root, root.Bokeh);\n",
              "    }\n",
              "\n",
              "      } catch (error) {throw error;\n",
              "      }} else if (Date.now() < root._bokeh_timeout) {\n",
              "      setTimeout(run_inline_js, 100);\n",
              "    } else if (!root._bokeh_failed_load) {\n",
              "      console.log(\"Bokeh: BokehJS failed to load within specified timeout.\");\n",
              "      root._bokeh_failed_load = true;\n",
              "    } else if (force !== true) {\n",
              "      const cell = $(document.getElementById(null)).parents('.cell').data().cell;\n",
              "      cell.output_area.append_execute_result(NB_LOAD_WARNING)\n",
              "    }\n",
              "  }\n",
              "\n",
              "  if (root._bokeh_is_loading === 0) {\n",
              "    console.debug(\"Bokeh: BokehJS loaded, going straight to plotting\");\n",
              "    run_inline_js();\n",
              "  } else {\n",
              "    load_libs(css_urls, js_urls, function() {\n",
              "      console.debug(\"Bokeh: BokehJS plotting callback run at\", now());\n",
              "      run_inline_js();\n",
              "    });\n",
              "  }\n",
              "}(window));"
            ],
            "application/vnd.bokehjs_load.v0+json": "'use strict';\n(function(root) {\n  function now() {\n    return new Date();\n  }\n\n  const force = true;\n\n  if (typeof root._bokeh_onload_callbacks === \"undefined\" || force === true) {\n    root._bokeh_onload_callbacks = [];\n    root._bokeh_is_loading = undefined;\n  }\n\n\n  if (typeof (root._bokeh_timeout) === \"undefined\" || force === true) {\n    root._bokeh_timeout = Date.now() + 5000;\n    root._bokeh_failed_load = false;\n  }\n\n  const NB_LOAD_WARNING = {'data': {'text/html':\n     \"<div style='background-color: #fdd'>\\n\"+\n     \"<p>\\n\"+\n     \"BokehJS does not appear to have successfully loaded. If loading BokehJS from CDN, this \\n\"+\n     \"may be due to a slow or bad network connection. Possible fixes:\\n\"+\n     \"</p>\\n\"+\n     \"<ul>\\n\"+\n     \"<li>re-rerun `output_notebook()` to attempt to load from CDN again, or</li>\\n\"+\n     \"<li>use INLINE resources instead, as so:</li>\\n\"+\n     \"</ul>\\n\"+\n     \"<code>\\n\"+\n     \"from bokeh.resources import INLINE\\n\"+\n     \"output_notebook(resources=INLINE)\\n\"+\n     \"</code>\\n\"+\n     \"</div>\"}};\n\n  function display_loaded(error = null) {\n    const el = document.getElementById(null);\n    if (el != null) {\n      const html = (() => {\n        if (typeof root.Bokeh === \"undefined\") {\n          if (error == null) {\n            return \"BokehJS is loading ...\";\n          } else {\n            return \"BokehJS failed to load.\";\n          }\n        } else {\n          const prefix = `BokehJS ${root.Bokeh.version}`;\n          if (error == null) {\n            return `${prefix} successfully loaded.`;\n          } else {\n            return `${prefix} <b>encountered errors</b> while loading and may not function as expected.`;\n          }\n        }\n      })();\n      el.innerHTML = html;\n\n      if (error != null) {\n        const wrapper = document.createElement(\"div\");\n        wrapper.style.overflow = \"auto\";\n        wrapper.style.height = \"5em\";\n        wrapper.style.resize = \"vertical\";\n        const content = document.createElement(\"div\");\n        content.style.fontFamily = \"monospace\";\n        content.style.whiteSpace = \"pre-wrap\";\n        content.style.backgroundColor = \"rgb(255, 221, 221)\";\n        content.textContent = error.stack ?? error.toString();\n        wrapper.append(content);\n        el.append(wrapper);\n      }\n    } else if (Date.now() < root._bokeh_timeout) {\n      setTimeout(() => display_loaded(error), 100);\n    }\n  }\n\n  function run_callbacks() {\n    try {\n      root._bokeh_onload_callbacks.forEach(function(callback) {\n        if (callback != null)\n          callback();\n      });\n    } finally {\n      delete root._bokeh_onload_callbacks\n    }\n    console.debug(\"Bokeh: all callbacks have finished\");\n  }\n\n  function load_libs(css_urls, js_urls, callback) {\n    if (css_urls == null) css_urls = [];\n    if (js_urls == null) js_urls = [];\n\n    root._bokeh_onload_callbacks.push(callback);\n    if (root._bokeh_is_loading > 0) {\n      console.debug(\"Bokeh: BokehJS is being loaded, scheduling callback at\", now());\n      return null;\n    }\n    if (js_urls == null || js_urls.length === 0) {\n      run_callbacks();\n      return null;\n    }\n    console.debug(\"Bokeh: BokehJS not loaded, scheduling load and callback at\", now());\n    root._bokeh_is_loading = css_urls.length + js_urls.length;\n\n    function on_load() {\n      root._bokeh_is_loading--;\n      if (root._bokeh_is_loading === 0) {\n        console.debug(\"Bokeh: all BokehJS libraries/stylesheets loaded\");\n        run_callbacks()\n      }\n    }\n\n    function on_error(url) {\n      console.error(\"failed to load \" + url);\n    }\n\n    for (let i = 0; i < css_urls.length; i++) {\n      const url = css_urls[i];\n      const element = document.createElement(\"link\");\n      element.onload = on_load;\n      element.onerror = on_error.bind(null, url);\n      element.rel = \"stylesheet\";\n      element.type = \"text/css\";\n      element.href = url;\n      console.debug(\"Bokeh: injecting link tag for BokehJS stylesheet: \", url);\n      document.body.appendChild(element);\n    }\n\n    for (let i = 0; i < js_urls.length; i++) {\n      const url = js_urls[i];\n      const element = document.createElement('script');\n      element.onload = on_load;\n      element.onerror = on_error.bind(null, url);\n      element.async = false;\n      element.src = url;\n      console.debug(\"Bokeh: injecting script tag for BokehJS library: \", url);\n      document.head.appendChild(element);\n    }\n  };\n\n  function inject_raw_css(css) {\n    const element = document.createElement(\"style\");\n    element.appendChild(document.createTextNode(css));\n    document.body.appendChild(element);\n  }\n\n  const js_urls = [\"https://cdn.bokeh.org/bokeh/release/bokeh-3.4.3.min.js\", \"https://cdn.bokeh.org/bokeh/release/bokeh-gl-3.4.3.min.js\", \"https://cdn.bokeh.org/bokeh/release/bokeh-widgets-3.4.3.min.js\", \"https://cdn.bokeh.org/bokeh/release/bokeh-tables-3.4.3.min.js\", \"https://cdn.bokeh.org/bokeh/release/bokeh-mathjax-3.4.3.min.js\"];\n  const css_urls = [];\n\n  const inline_js = [    function(Bokeh) {\n      Bokeh.set_log_level(\"info\");\n    },\nfunction(Bokeh) {\n    }\n  ];\n\n  function run_inline_js() {\n    if (root.Bokeh !== undefined || force === true) {\n      try {\n            for (let i = 0; i < inline_js.length; i++) {\n      inline_js[i].call(root, root.Bokeh);\n    }\n\n      } catch (error) {throw error;\n      }} else if (Date.now() < root._bokeh_timeout) {\n      setTimeout(run_inline_js, 100);\n    } else if (!root._bokeh_failed_load) {\n      console.log(\"Bokeh: BokehJS failed to load within specified timeout.\");\n      root._bokeh_failed_load = true;\n    } else if (force !== true) {\n      const cell = $(document.getElementById(null)).parents('.cell').data().cell;\n      cell.output_area.append_execute_result(NB_LOAD_WARNING)\n    }\n  }\n\n  if (root._bokeh_is_loading === 0) {\n    console.debug(\"Bokeh: BokehJS loaded, going straight to plotting\");\n    run_inline_js();\n  } else {\n    load_libs(css_urls, js_urls, function() {\n      console.debug(\"Bokeh: BokehJS plotting callback run at\", now());\n      run_inline_js();\n    });\n  }\n}(window));"
          },
          "metadata": {}
        },
        {
          "output_type": "display_data",
          "data": {
            "text/html": [
              "\n",
              "  <div id=\"c4eb4c6f-9fc5-42c1-a067-b4264b333af2\" data-root-id=\"p1295\" style=\"display: contents;\"></div>\n"
            ]
          },
          "metadata": {}
        },
        {
          "output_type": "display_data",
          "data": {
            "application/javascript": [
              "(function(root) {\n",
              "  function embed_document(root) {\n",
              "  const docs_json = {\"358bac4c-d5af-45a0-8a44-ccfb1b915655\":{\"version\":\"3.4.3\",\"title\":\"Bokeh Application\",\"roots\":[{\"type\":\"object\",\"name\":\"Figure\",\"id\":\"p1295\",\"attributes\":{\"x_range\":{\"type\":\"object\",\"name\":\"DataRange1d\",\"id\":\"p1296\"},\"y_range\":{\"type\":\"object\",\"name\":\"DataRange1d\",\"id\":\"p1297\"},\"x_scale\":{\"type\":\"object\",\"name\":\"LinearScale\",\"id\":\"p1305\"},\"y_scale\":{\"type\":\"object\",\"name\":\"LinearScale\",\"id\":\"p1306\"},\"title\":{\"type\":\"object\",\"name\":\"Title\",\"id\":\"p1298\",\"attributes\":{\"text\":\"Sine Wave Function\"}},\"renderers\":[{\"type\":\"object\",\"name\":\"GlyphRenderer\",\"id\":\"p1334\",\"attributes\":{\"data_source\":{\"type\":\"object\",\"name\":\"ColumnDataSource\",\"id\":\"p1328\",\"attributes\":{\"selected\":{\"type\":\"object\",\"name\":\"Selection\",\"id\":\"p1329\",\"attributes\":{\"indices\":[],\"line_indices\":[]}},\"selection_policy\":{\"type\":\"object\",\"name\":\"UnionRenderers\",\"id\":\"p1330\"},\"data\":{\"type\":\"map\",\"entries\":[[\"x\",{\"type\":\"ndarray\",\"array\":{\"type\":\"bytes\",\"data\":\"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\"},\"shape\":[1000],\"dtype\":\"float64\",\"order\":\"little\"}],[\"y\",{\"type\":\"ndarray\",\"array\":{\"type\":\"bytes\",\"data\":\"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\"},\"shape\":[1000],\"dtype\":\"float64\",\"order\":\"little\"}]]}}},\"view\":{\"type\":\"object\",\"name\":\"CDSView\",\"id\":\"p1335\",\"attributes\":{\"filter\":{\"type\":\"object\",\"name\":\"AllIndices\",\"id\":\"p1336\"}}},\"glyph\":{\"type\":\"object\",\"name\":\"Line\",\"id\":\"p1331\",\"attributes\":{\"x\":{\"type\":\"field\",\"field\":\"x\"},\"y\":{\"type\":\"field\",\"field\":\"y\"},\"line_color\":\"blue\",\"line_width\":2}},\"nonselection_glyph\":{\"type\":\"object\",\"name\":\"Line\",\"id\":\"p1332\",\"attributes\":{\"x\":{\"type\":\"field\",\"field\":\"x\"},\"y\":{\"type\":\"field\",\"field\":\"y\"},\"line_color\":\"blue\",\"line_alpha\":0.1,\"line_width\":2}},\"muted_glyph\":{\"type\":\"object\",\"name\":\"Line\",\"id\":\"p1333\",\"attributes\":{\"x\":{\"type\":\"field\",\"field\":\"x\"},\"y\":{\"type\":\"field\",\"field\":\"y\"},\"line_color\":\"blue\",\"line_alpha\":0.2,\"line_width\":2}}}}],\"toolbar\":{\"type\":\"object\",\"name\":\"Toolbar\",\"id\":\"p1304\",\"attributes\":{\"tools\":[{\"type\":\"object\",\"name\":\"PanTool\",\"id\":\"p1317\"},{\"type\":\"object\",\"name\":\"WheelZoomTool\",\"id\":\"p1318\",\"attributes\":{\"renderers\":\"auto\"}},{\"type\":\"object\",\"name\":\"BoxZoomTool\",\"id\":\"p1319\",\"attributes\":{\"overlay\":{\"type\":\"object\",\"name\":\"BoxAnnotation\",\"id\":\"p1320\",\"attributes\":{\"syncable\":false,\"level\":\"overlay\",\"visible\":false,\"left\":{\"type\":\"number\",\"value\":\"nan\"},\"right\":{\"type\":\"number\",\"value\":\"nan\"},\"top\":{\"type\":\"number\",\"value\":\"nan\"},\"bottom\":{\"type\":\"number\",\"value\":\"nan\"},\"left_units\":\"canvas\",\"right_units\":\"canvas\",\"top_units\":\"canvas\",\"bottom_units\":\"canvas\",\"line_color\":\"black\",\"line_alpha\":1.0,\"line_width\":2,\"line_dash\":[4,4],\"fill_color\":\"lightgrey\",\"fill_alpha\":0.5}}}},{\"type\":\"object\",\"name\":\"SaveTool\",\"id\":\"p1325\"},{\"type\":\"object\",\"name\":\"ResetTool\",\"id\":\"p1326\"},{\"type\":\"object\",\"name\":\"HelpTool\",\"id\":\"p1327\"}]}},\"left\":[{\"type\":\"object\",\"name\":\"LinearAxis\",\"id\":\"p1312\",\"attributes\":{\"ticker\":{\"type\":\"object\",\"name\":\"BasicTicker\",\"id\":\"p1313\",\"attributes\":{\"mantissas\":[1,2,5]}},\"formatter\":{\"type\":\"object\",\"name\":\"BasicTickFormatter\",\"id\":\"p1314\"},\"axis_label\":\"Y-Axis\",\"major_label_policy\":{\"type\":\"object\",\"name\":\"AllLabels\",\"id\":\"p1315\"}}}],\"below\":[{\"type\":\"object\",\"name\":\"LinearAxis\",\"id\":\"p1307\",\"attributes\":{\"ticker\":{\"type\":\"object\",\"name\":\"BasicTicker\",\"id\":\"p1308\",\"attributes\":{\"mantissas\":[1,2,5]}},\"formatter\":{\"type\":\"object\",\"name\":\"BasicTickFormatter\",\"id\":\"p1309\"},\"axis_label\":\"X-Axis\",\"major_label_policy\":{\"type\":\"object\",\"name\":\"AllLabels\",\"id\":\"p1310\"}}}],\"center\":[{\"type\":\"object\",\"name\":\"Grid\",\"id\":\"p1311\",\"attributes\":{\"axis\":{\"id\":\"p1307\"}}},{\"type\":\"object\",\"name\":\"Grid\",\"id\":\"p1316\",\"attributes\":{\"dimension\":1,\"axis\":{\"id\":\"p1312\"}}},{\"type\":\"object\",\"name\":\"Legend\",\"id\":\"p1337\",\"attributes\":{\"items\":[{\"type\":\"object\",\"name\":\"LegendItem\",\"id\":\"p1338\",\"attributes\":{\"label\":{\"type\":\"value\",\"value\":\"Sine Wave\"},\"renderers\":[{\"id\":\"p1334\"}]}}]}}]}}]}};\n",
              "  const render_items = [{\"docid\":\"358bac4c-d5af-45a0-8a44-ccfb1b915655\",\"roots\":{\"p1295\":\"c4eb4c6f-9fc5-42c1-a067-b4264b333af2\"},\"root_ids\":[\"p1295\"]}];\n",
              "  void root.Bokeh.embed.embed_items_notebook(docs_json, render_items);\n",
              "  }\n",
              "  if (root.Bokeh !== undefined) {\n",
              "    embed_document(root);\n",
              "  } else {\n",
              "    let attempts = 0;\n",
              "    const timer = setInterval(function(root) {\n",
              "      if (root.Bokeh !== undefined) {\n",
              "        clearInterval(timer);\n",
              "        embed_document(root);\n",
              "      } else {\n",
              "        attempts++;\n",
              "        if (attempts > 100) {\n",
              "          clearInterval(timer);\n",
              "          console.log(\"Bokeh: ERROR: Unable to run BokehJS code because BokehJS library is missing\");\n",
              "        }\n",
              "      }\n",
              "    }, 10, root)\n",
              "  }\n",
              "})(window);"
            ],
            "application/vnd.bokehjs_exec.v0+json": ""
          },
          "metadata": {
            "application/vnd.bokehjs_exec.v0+json": {
              "id": "p1295"
            }
          }
        }
      ]
    },
    {
      "cell_type": "markdown",
      "source": [
        "---"
      ],
      "metadata": {
        "id": "vocFy4fADZMF"
      }
    },
    {
      "cell_type": "markdown",
      "source": [
        "19) Using Bokeh, generate a bar chart of randomly generated categorical data, color bars based on their\n",
        "values, add hover tooltips to display exact values, label the axes, and set the title as 'Random Categorical\n",
        "Bar Chart."
      ],
      "metadata": {
        "id": "_gkeSIVSERrC"
      }
    },
    {
      "cell_type": "code",
      "source": [
        "from bokeh.plotting import figure, show, output_file\n",
        "from bokeh.io import output_notebook\n",
        "from bokeh.models import ColumnDataSource, HoverTool\n",
        "import numpy as np\n",
        "import pandas as pd\n",
        "\n",
        "# Generate random categorical data\n",
        "categories = ['Category A', 'Category B', 'Category C', 'Category D', 'Category E']\n",
        "values = np.random.randint(10, 100, size=5)  # Random values between 10 and 100 for each category\n",
        "\n",
        "# Create a DataFrame for better handling\n",
        "data = pd.DataFrame({\n",
        "    'categories': categories,\n",
        "    'values': values\n",
        "})\n",
        "\n",
        "# Convert the categories to a column data source\n",
        "source = ColumnDataSource(data=data)\n",
        "\n",
        "# Output to a file (HTML)\n",
        "output_file(\"random_categorical_bar_chart.html\")\n",
        "\n",
        "\n",
        "p = figure(x_range=categories, title=\"Random Categorical Bar Chart\",\n",
        "           x_axis_label='Category', y_axis_label='Value')\n",
        "p.vbar(x='categories', top='values', width=0.5, source=source, color=\"skyblue\", legend_field=\"categories\")\n",
        "\n",
        "hover = HoverTool()\n",
        "hover.tooltips = [(\"Category\", \"@categories\"), (\"Value\", \"@values\")]\n",
        "p.add_tools(hover)\n",
        "\n",
        "\n",
        "p.title.text_font_size = '16pt'\n",
        "p.xaxis.axis_label_text_font_size = '12pt'\n",
        "p.yaxis.axis_label_text_font_size = '12pt'\n",
        "p.grid.grid_line_color = \"white\"\n",
        "p.legend.title = 'Categories'\n",
        "show(p)\n"
      ],
      "metadata": {
        "colab": {
          "base_uri": "https://localhost:8080/",
          "height": 617
        },
        "id": "WZO8JhCBDYGA",
        "outputId": "c69cb5dd-82d1-40b6-c00a-69bc5d4ddb32"
      },
      "execution_count": 54,
      "outputs": [
        {
          "output_type": "display_data",
          "data": {
            "application/javascript": [
              "'use strict';\n",
              "(function(root) {\n",
              "  function now() {\n",
              "    return new Date();\n",
              "  }\n",
              "\n",
              "  const force = true;\n",
              "\n",
              "  if (typeof root._bokeh_onload_callbacks === \"undefined\" || force === true) {\n",
              "    root._bokeh_onload_callbacks = [];\n",
              "    root._bokeh_is_loading = undefined;\n",
              "  }\n",
              "\n",
              "const JS_MIME_TYPE = 'application/javascript';\n",
              "  const HTML_MIME_TYPE = 'text/html';\n",
              "  const EXEC_MIME_TYPE = 'application/vnd.bokehjs_exec.v0+json';\n",
              "  const CLASS_NAME = 'output_bokeh rendered_html';\n",
              "\n",
              "  /**\n",
              "   * Render data to the DOM node\n",
              "   */\n",
              "  function render(props, node) {\n",
              "    const script = document.createElement(\"script\");\n",
              "    node.appendChild(script);\n",
              "  }\n",
              "\n",
              "  /**\n",
              "   * Handle when an output is cleared or removed\n",
              "   */\n",
              "  function handleClearOutput(event, handle) {\n",
              "    function drop(id) {\n",
              "      const view = Bokeh.index.get_by_id(id)\n",
              "      if (view != null) {\n",
              "        view.model.document.clear()\n",
              "        Bokeh.index.delete(view)\n",
              "      }\n",
              "    }\n",
              "\n",
              "    const cell = handle.cell;\n",
              "\n",
              "    const id = cell.output_area._bokeh_element_id;\n",
              "    const server_id = cell.output_area._bokeh_server_id;\n",
              "\n",
              "    // Clean up Bokeh references\n",
              "    if (id != null) {\n",
              "      drop(id)\n",
              "    }\n",
              "\n",
              "    if (server_id !== undefined) {\n",
              "      // Clean up Bokeh references\n",
              "      const cmd_clean = \"from bokeh.io.state import curstate; print(curstate().uuid_to_server['\" + server_id + \"'].get_sessions()[0].document.roots[0]._id)\";\n",
              "      cell.notebook.kernel.execute(cmd_clean, {\n",
              "        iopub: {\n",
              "          output: function(msg) {\n",
              "            const id = msg.content.text.trim()\n",
              "            drop(id)\n",
              "          }\n",
              "        }\n",
              "      });\n",
              "      // Destroy server and session\n",
              "      const cmd_destroy = \"import bokeh.io.notebook as ion; ion.destroy_server('\" + server_id + \"')\";\n",
              "      cell.notebook.kernel.execute(cmd_destroy);\n",
              "    }\n",
              "  }\n",
              "\n",
              "  /**\n",
              "   * Handle when a new output is added\n",
              "   */\n",
              "  function handleAddOutput(event, handle) {\n",
              "    const output_area = handle.output_area;\n",
              "    const output = handle.output;\n",
              "\n",
              "    // limit handleAddOutput to display_data with EXEC_MIME_TYPE content only\n",
              "    if ((output.output_type != \"display_data\") || (!Object.prototype.hasOwnProperty.call(output.data, EXEC_MIME_TYPE))) {\n",
              "      return\n",
              "    }\n",
              "\n",
              "    const toinsert = output_area.element.find(\".\" + CLASS_NAME.split(' ')[0]);\n",
              "\n",
              "    if (output.metadata[EXEC_MIME_TYPE][\"id\"] !== undefined) {\n",
              "      toinsert[toinsert.length - 1].firstChild.textContent = output.data[JS_MIME_TYPE];\n",
              "      // store reference to embed id on output_area\n",
              "      output_area._bokeh_element_id = output.metadata[EXEC_MIME_TYPE][\"id\"];\n",
              "    }\n",
              "    if (output.metadata[EXEC_MIME_TYPE][\"server_id\"] !== undefined) {\n",
              "      const bk_div = document.createElement(\"div\");\n",
              "      bk_div.innerHTML = output.data[HTML_MIME_TYPE];\n",
              "      const script_attrs = bk_div.children[0].attributes;\n",
              "      for (let i = 0; i < script_attrs.length; i++) {\n",
              "        toinsert[toinsert.length - 1].firstChild.setAttribute(script_attrs[i].name, script_attrs[i].value);\n",
              "        toinsert[toinsert.length - 1].firstChild.textContent = bk_div.children[0].textContent\n",
              "      }\n",
              "      // store reference to server id on output_area\n",
              "      output_area._bokeh_server_id = output.metadata[EXEC_MIME_TYPE][\"server_id\"];\n",
              "    }\n",
              "  }\n",
              "\n",
              "  function register_renderer(events, OutputArea) {\n",
              "\n",
              "    function append_mime(data, metadata, element) {\n",
              "      // create a DOM node to render to\n",
              "      const toinsert = this.create_output_subarea(\n",
              "        metadata,\n",
              "        CLASS_NAME,\n",
              "        EXEC_MIME_TYPE\n",
              "      );\n",
              "      this.keyboard_manager.register_events(toinsert);\n",
              "      // Render to node\n",
              "      const props = {data: data, metadata: metadata[EXEC_MIME_TYPE]};\n",
              "      render(props, toinsert[toinsert.length - 1]);\n",
              "      element.append(toinsert);\n",
              "      return toinsert\n",
              "    }\n",
              "\n",
              "    /* Handle when an output is cleared or removed */\n",
              "    events.on('clear_output.CodeCell', handleClearOutput);\n",
              "    events.on('delete.Cell', handleClearOutput);\n",
              "\n",
              "    /* Handle when a new output is added */\n",
              "    events.on('output_added.OutputArea', handleAddOutput);\n",
              "\n",
              "    /**\n",
              "     * Register the mime type and append_mime function with output_area\n",
              "     */\n",
              "    OutputArea.prototype.register_mime_type(EXEC_MIME_TYPE, append_mime, {\n",
              "      /* Is output safe? */\n",
              "      safe: true,\n",
              "      /* Index of renderer in `output_area.display_order` */\n",
              "      index: 0\n",
              "    });\n",
              "  }\n",
              "\n",
              "  // register the mime type if in Jupyter Notebook environment and previously unregistered\n",
              "  if (root.Jupyter !== undefined) {\n",
              "    const events = require('base/js/events');\n",
              "    const OutputArea = require('notebook/js/outputarea').OutputArea;\n",
              "\n",
              "    if (OutputArea.prototype.mime_types().indexOf(EXEC_MIME_TYPE) == -1) {\n",
              "      register_renderer(events, OutputArea);\n",
              "    }\n",
              "  }\n",
              "  if (typeof (root._bokeh_timeout) === \"undefined\" || force === true) {\n",
              "    root._bokeh_timeout = Date.now() + 5000;\n",
              "    root._bokeh_failed_load = false;\n",
              "  }\n",
              "\n",
              "  const NB_LOAD_WARNING = {'data': {'text/html':\n",
              "     \"<div style='background-color: #fdd'>\\n\"+\n",
              "     \"<p>\\n\"+\n",
              "     \"BokehJS does not appear to have successfully loaded. If loading BokehJS from CDN, this \\n\"+\n",
              "     \"may be due to a slow or bad network connection. Possible fixes:\\n\"+\n",
              "     \"</p>\\n\"+\n",
              "     \"<ul>\\n\"+\n",
              "     \"<li>re-rerun `output_notebook()` to attempt to load from CDN again, or</li>\\n\"+\n",
              "     \"<li>use INLINE resources instead, as so:</li>\\n\"+\n",
              "     \"</ul>\\n\"+\n",
              "     \"<code>\\n\"+\n",
              "     \"from bokeh.resources import INLINE\\n\"+\n",
              "     \"output_notebook(resources=INLINE)\\n\"+\n",
              "     \"</code>\\n\"+\n",
              "     \"</div>\"}};\n",
              "\n",
              "  function display_loaded(error = null) {\n",
              "    const el = document.getElementById(null);\n",
              "    if (el != null) {\n",
              "      const html = (() => {\n",
              "        if (typeof root.Bokeh === \"undefined\") {\n",
              "          if (error == null) {\n",
              "            return \"BokehJS is loading ...\";\n",
              "          } else {\n",
              "            return \"BokehJS failed to load.\";\n",
              "          }\n",
              "        } else {\n",
              "          const prefix = `BokehJS ${root.Bokeh.version}`;\n",
              "          if (error == null) {\n",
              "            return `${prefix} successfully loaded.`;\n",
              "          } else {\n",
              "            return `${prefix} <b>encountered errors</b> while loading and may not function as expected.`;\n",
              "          }\n",
              "        }\n",
              "      })();\n",
              "      el.innerHTML = html;\n",
              "\n",
              "      if (error != null) {\n",
              "        const wrapper = document.createElement(\"div\");\n",
              "        wrapper.style.overflow = \"auto\";\n",
              "        wrapper.style.height = \"5em\";\n",
              "        wrapper.style.resize = \"vertical\";\n",
              "        const content = document.createElement(\"div\");\n",
              "        content.style.fontFamily = \"monospace\";\n",
              "        content.style.whiteSpace = \"pre-wrap\";\n",
              "        content.style.backgroundColor = \"rgb(255, 221, 221)\";\n",
              "        content.textContent = error.stack ?? error.toString();\n",
              "        wrapper.append(content);\n",
              "        el.append(wrapper);\n",
              "      }\n",
              "    } else if (Date.now() < root._bokeh_timeout) {\n",
              "      setTimeout(() => display_loaded(error), 100);\n",
              "    }\n",
              "  }\n",
              "\n",
              "  function run_callbacks() {\n",
              "    try {\n",
              "      root._bokeh_onload_callbacks.forEach(function(callback) {\n",
              "        if (callback != null)\n",
              "          callback();\n",
              "      });\n",
              "    } finally {\n",
              "      delete root._bokeh_onload_callbacks\n",
              "    }\n",
              "    console.debug(\"Bokeh: all callbacks have finished\");\n",
              "  }\n",
              "\n",
              "  function load_libs(css_urls, js_urls, callback) {\n",
              "    if (css_urls == null) css_urls = [];\n",
              "    if (js_urls == null) js_urls = [];\n",
              "\n",
              "    root._bokeh_onload_callbacks.push(callback);\n",
              "    if (root._bokeh_is_loading > 0) {\n",
              "      console.debug(\"Bokeh: BokehJS is being loaded, scheduling callback at\", now());\n",
              "      return null;\n",
              "    }\n",
              "    if (js_urls == null || js_urls.length === 0) {\n",
              "      run_callbacks();\n",
              "      return null;\n",
              "    }\n",
              "    console.debug(\"Bokeh: BokehJS not loaded, scheduling load and callback at\", now());\n",
              "    root._bokeh_is_loading = css_urls.length + js_urls.length;\n",
              "\n",
              "    function on_load() {\n",
              "      root._bokeh_is_loading--;\n",
              "      if (root._bokeh_is_loading === 0) {\n",
              "        console.debug(\"Bokeh: all BokehJS libraries/stylesheets loaded\");\n",
              "        run_callbacks()\n",
              "      }\n",
              "    }\n",
              "\n",
              "    function on_error(url) {\n",
              "      console.error(\"failed to load \" + url);\n",
              "    }\n",
              "\n",
              "    for (let i = 0; i < css_urls.length; i++) {\n",
              "      const url = css_urls[i];\n",
              "      const element = document.createElement(\"link\");\n",
              "      element.onload = on_load;\n",
              "      element.onerror = on_error.bind(null, url);\n",
              "      element.rel = \"stylesheet\";\n",
              "      element.type = \"text/css\";\n",
              "      element.href = url;\n",
              "      console.debug(\"Bokeh: injecting link tag for BokehJS stylesheet: \", url);\n",
              "      document.body.appendChild(element);\n",
              "    }\n",
              "\n",
              "    for (let i = 0; i < js_urls.length; i++) {\n",
              "      const url = js_urls[i];\n",
              "      const element = document.createElement('script');\n",
              "      element.onload = on_load;\n",
              "      element.onerror = on_error.bind(null, url);\n",
              "      element.async = false;\n",
              "      element.src = url;\n",
              "      console.debug(\"Bokeh: injecting script tag for BokehJS library: \", url);\n",
              "      document.head.appendChild(element);\n",
              "    }\n",
              "  };\n",
              "\n",
              "  function inject_raw_css(css) {\n",
              "    const element = document.createElement(\"style\");\n",
              "    element.appendChild(document.createTextNode(css));\n",
              "    document.body.appendChild(element);\n",
              "  }\n",
              "\n",
              "  const js_urls = [\"https://cdn.bokeh.org/bokeh/release/bokeh-3.4.3.min.js\", \"https://cdn.bokeh.org/bokeh/release/bokeh-gl-3.4.3.min.js\", \"https://cdn.bokeh.org/bokeh/release/bokeh-widgets-3.4.3.min.js\", \"https://cdn.bokeh.org/bokeh/release/bokeh-tables-3.4.3.min.js\", \"https://cdn.bokeh.org/bokeh/release/bokeh-mathjax-3.4.3.min.js\"];\n",
              "  const css_urls = [];\n",
              "\n",
              "  const inline_js = [    function(Bokeh) {\n",
              "      Bokeh.set_log_level(\"info\");\n",
              "    },\n",
              "function(Bokeh) {\n",
              "    }\n",
              "  ];\n",
              "\n",
              "  function run_inline_js() {\n",
              "    if (root.Bokeh !== undefined || force === true) {\n",
              "      try {\n",
              "            for (let i = 0; i < inline_js.length; i++) {\n",
              "      inline_js[i].call(root, root.Bokeh);\n",
              "    }\n",
              "\n",
              "      } catch (error) {throw error;\n",
              "      }} else if (Date.now() < root._bokeh_timeout) {\n",
              "      setTimeout(run_inline_js, 100);\n",
              "    } else if (!root._bokeh_failed_load) {\n",
              "      console.log(\"Bokeh: BokehJS failed to load within specified timeout.\");\n",
              "      root._bokeh_failed_load = true;\n",
              "    } else if (force !== true) {\n",
              "      const cell = $(document.getElementById(null)).parents('.cell').data().cell;\n",
              "      cell.output_area.append_execute_result(NB_LOAD_WARNING)\n",
              "    }\n",
              "  }\n",
              "\n",
              "  if (root._bokeh_is_loading === 0) {\n",
              "    console.debug(\"Bokeh: BokehJS loaded, going straight to plotting\");\n",
              "    run_inline_js();\n",
              "  } else {\n",
              "    load_libs(css_urls, js_urls, function() {\n",
              "      console.debug(\"Bokeh: BokehJS plotting callback run at\", now());\n",
              "      run_inline_js();\n",
              "    });\n",
              "  }\n",
              "}(window));"
            ],
            "application/vnd.bokehjs_load.v0+json": "'use strict';\n(function(root) {\n  function now() {\n    return new Date();\n  }\n\n  const force = true;\n\n  if (typeof root._bokeh_onload_callbacks === \"undefined\" || force === true) {\n    root._bokeh_onload_callbacks = [];\n    root._bokeh_is_loading = undefined;\n  }\n\n\n  if (typeof (root._bokeh_timeout) === \"undefined\" || force === true) {\n    root._bokeh_timeout = Date.now() + 5000;\n    root._bokeh_failed_load = false;\n  }\n\n  const NB_LOAD_WARNING = {'data': {'text/html':\n     \"<div style='background-color: #fdd'>\\n\"+\n     \"<p>\\n\"+\n     \"BokehJS does not appear to have successfully loaded. If loading BokehJS from CDN, this \\n\"+\n     \"may be due to a slow or bad network connection. Possible fixes:\\n\"+\n     \"</p>\\n\"+\n     \"<ul>\\n\"+\n     \"<li>re-rerun `output_notebook()` to attempt to load from CDN again, or</li>\\n\"+\n     \"<li>use INLINE resources instead, as so:</li>\\n\"+\n     \"</ul>\\n\"+\n     \"<code>\\n\"+\n     \"from bokeh.resources import INLINE\\n\"+\n     \"output_notebook(resources=INLINE)\\n\"+\n     \"</code>\\n\"+\n     \"</div>\"}};\n\n  function display_loaded(error = null) {\n    const el = document.getElementById(null);\n    if (el != null) {\n      const html = (() => {\n        if (typeof root.Bokeh === \"undefined\") {\n          if (error == null) {\n            return \"BokehJS is loading ...\";\n          } else {\n            return \"BokehJS failed to load.\";\n          }\n        } else {\n          const prefix = `BokehJS ${root.Bokeh.version}`;\n          if (error == null) {\n            return `${prefix} successfully loaded.`;\n          } else {\n            return `${prefix} <b>encountered errors</b> while loading and may not function as expected.`;\n          }\n        }\n      })();\n      el.innerHTML = html;\n\n      if (error != null) {\n        const wrapper = document.createElement(\"div\");\n        wrapper.style.overflow = \"auto\";\n        wrapper.style.height = \"5em\";\n        wrapper.style.resize = \"vertical\";\n        const content = document.createElement(\"div\");\n        content.style.fontFamily = \"monospace\";\n        content.style.whiteSpace = \"pre-wrap\";\n        content.style.backgroundColor = \"rgb(255, 221, 221)\";\n        content.textContent = error.stack ?? error.toString();\n        wrapper.append(content);\n        el.append(wrapper);\n      }\n    } else if (Date.now() < root._bokeh_timeout) {\n      setTimeout(() => display_loaded(error), 100);\n    }\n  }\n\n  function run_callbacks() {\n    try {\n      root._bokeh_onload_callbacks.forEach(function(callback) {\n        if (callback != null)\n          callback();\n      });\n    } finally {\n      delete root._bokeh_onload_callbacks\n    }\n    console.debug(\"Bokeh: all callbacks have finished\");\n  }\n\n  function load_libs(css_urls, js_urls, callback) {\n    if (css_urls == null) css_urls = [];\n    if (js_urls == null) js_urls = [];\n\n    root._bokeh_onload_callbacks.push(callback);\n    if (root._bokeh_is_loading > 0) {\n      console.debug(\"Bokeh: BokehJS is being loaded, scheduling callback at\", now());\n      return null;\n    }\n    if (js_urls == null || js_urls.length === 0) {\n      run_callbacks();\n      return null;\n    }\n    console.debug(\"Bokeh: BokehJS not loaded, scheduling load and callback at\", now());\n    root._bokeh_is_loading = css_urls.length + js_urls.length;\n\n    function on_load() {\n      root._bokeh_is_loading--;\n      if (root._bokeh_is_loading === 0) {\n        console.debug(\"Bokeh: all BokehJS libraries/stylesheets loaded\");\n        run_callbacks()\n      }\n    }\n\n    function on_error(url) {\n      console.error(\"failed to load \" + url);\n    }\n\n    for (let i = 0; i < css_urls.length; i++) {\n      const url = css_urls[i];\n      const element = document.createElement(\"link\");\n      element.onload = on_load;\n      element.onerror = on_error.bind(null, url);\n      element.rel = \"stylesheet\";\n      element.type = \"text/css\";\n      element.href = url;\n      console.debug(\"Bokeh: injecting link tag for BokehJS stylesheet: \", url);\n      document.body.appendChild(element);\n    }\n\n    for (let i = 0; i < js_urls.length; i++) {\n      const url = js_urls[i];\n      const element = document.createElement('script');\n      element.onload = on_load;\n      element.onerror = on_error.bind(null, url);\n      element.async = false;\n      element.src = url;\n      console.debug(\"Bokeh: injecting script tag for BokehJS library: \", url);\n      document.head.appendChild(element);\n    }\n  };\n\n  function inject_raw_css(css) {\n    const element = document.createElement(\"style\");\n    element.appendChild(document.createTextNode(css));\n    document.body.appendChild(element);\n  }\n\n  const js_urls = [\"https://cdn.bokeh.org/bokeh/release/bokeh-3.4.3.min.js\", \"https://cdn.bokeh.org/bokeh/release/bokeh-gl-3.4.3.min.js\", \"https://cdn.bokeh.org/bokeh/release/bokeh-widgets-3.4.3.min.js\", \"https://cdn.bokeh.org/bokeh/release/bokeh-tables-3.4.3.min.js\", \"https://cdn.bokeh.org/bokeh/release/bokeh-mathjax-3.4.3.min.js\"];\n  const css_urls = [];\n\n  const inline_js = [    function(Bokeh) {\n      Bokeh.set_log_level(\"info\");\n    },\nfunction(Bokeh) {\n    }\n  ];\n\n  function run_inline_js() {\n    if (root.Bokeh !== undefined || force === true) {\n      try {\n            for (let i = 0; i < inline_js.length; i++) {\n      inline_js[i].call(root, root.Bokeh);\n    }\n\n      } catch (error) {throw error;\n      }} else if (Date.now() < root._bokeh_timeout) {\n      setTimeout(run_inline_js, 100);\n    } else if (!root._bokeh_failed_load) {\n      console.log(\"Bokeh: BokehJS failed to load within specified timeout.\");\n      root._bokeh_failed_load = true;\n    } else if (force !== true) {\n      const cell = $(document.getElementById(null)).parents('.cell').data().cell;\n      cell.output_area.append_execute_result(NB_LOAD_WARNING)\n    }\n  }\n\n  if (root._bokeh_is_loading === 0) {\n    console.debug(\"Bokeh: BokehJS loaded, going straight to plotting\");\n    run_inline_js();\n  } else {\n    load_libs(css_urls, js_urls, function() {\n      console.debug(\"Bokeh: BokehJS plotting callback run at\", now());\n      run_inline_js();\n    });\n  }\n}(window));"
          },
          "metadata": {}
        },
        {
          "output_type": "display_data",
          "data": {
            "text/html": [
              "\n",
              "  <div id=\"b884b0e7-710e-4726-a1b8-4b7bbc419518\" data-root-id=\"p1346\" style=\"display: contents;\"></div>\n"
            ]
          },
          "metadata": {}
        },
        {
          "output_type": "display_data",
          "data": {
            "application/javascript": [
              "(function(root) {\n",
              "  function embed_document(root) {\n",
              "  const docs_json = {\"0c371365-028d-4a62-bc6d-1c94d2b2634f\":{\"version\":\"3.4.3\",\"title\":\"Bokeh Application\",\"roots\":[{\"type\":\"object\",\"name\":\"Figure\",\"id\":\"p1346\",\"attributes\":{\"x_range\":{\"type\":\"object\",\"name\":\"FactorRange\",\"id\":\"p1356\",\"attributes\":{\"factors\":[\"Category A\",\"Category B\",\"Category C\",\"Category D\",\"Category E\"]}},\"y_range\":{\"type\":\"object\",\"name\":\"DataRange1d\",\"id\":\"p1348\"},\"x_scale\":{\"type\":\"object\",\"name\":\"CategoricalScale\",\"id\":\"p1357\"},\"y_scale\":{\"type\":\"object\",\"name\":\"LinearScale\",\"id\":\"p1358\"},\"title\":{\"type\":\"object\",\"name\":\"Title\",\"id\":\"p1349\",\"attributes\":{\"text\":\"Random Categorical Bar Chart\",\"text_font_size\":\"16pt\"}},\"renderers\":[{\"type\":\"object\",\"name\":\"GlyphRenderer\",\"id\":\"p1386\",\"attributes\":{\"data_source\":{\"type\":\"object\",\"name\":\"ColumnDataSource\",\"id\":\"p1343\",\"attributes\":{\"selected\":{\"type\":\"object\",\"name\":\"Selection\",\"id\":\"p1344\",\"attributes\":{\"indices\":[],\"line_indices\":[]}},\"selection_policy\":{\"type\":\"object\",\"name\":\"UnionRenderers\",\"id\":\"p1345\"},\"data\":{\"type\":\"map\",\"entries\":[[\"index\",{\"type\":\"ndarray\",\"array\":{\"type\":\"bytes\",\"data\":\"AAAAAAEAAAACAAAAAwAAAAQAAAA=\"},\"shape\":[5],\"dtype\":\"int32\",\"order\":\"little\"}],[\"categories\",{\"type\":\"ndarray\",\"array\":[\"Category A\",\"Category B\",\"Category C\",\"Category D\",\"Category E\"],\"shape\":[5],\"dtype\":\"object\",\"order\":\"little\"}],[\"values\",{\"type\":\"ndarray\",\"array\":{\"type\":\"bytes\",\"data\":\"LQAAAEQAAAA7AAAAUwAAADYAAAA=\"},\"shape\":[5],\"dtype\":\"int32\",\"order\":\"little\"}]]}}},\"view\":{\"type\":\"object\",\"name\":\"CDSView\",\"id\":\"p1387\",\"attributes\":{\"filter\":{\"type\":\"object\",\"name\":\"AllIndices\",\"id\":\"p1388\"}}},\"glyph\":{\"type\":\"object\",\"name\":\"VBar\",\"id\":\"p1383\",\"attributes\":{\"x\":{\"type\":\"field\",\"field\":\"categories\"},\"width\":{\"type\":\"value\",\"value\":0.5},\"top\":{\"type\":\"field\",\"field\":\"values\"},\"line_color\":{\"type\":\"value\",\"value\":\"skyblue\"},\"fill_color\":{\"type\":\"value\",\"value\":\"skyblue\"},\"hatch_color\":{\"type\":\"value\",\"value\":\"skyblue\"}}},\"nonselection_glyph\":{\"type\":\"object\",\"name\":\"VBar\",\"id\":\"p1384\",\"attributes\":{\"x\":{\"type\":\"field\",\"field\":\"categories\"},\"width\":{\"type\":\"value\",\"value\":0.5},\"top\":{\"type\":\"field\",\"field\":\"values\"},\"line_color\":{\"type\":\"value\",\"value\":\"skyblue\"},\"line_alpha\":{\"type\":\"value\",\"value\":0.1},\"fill_color\":{\"type\":\"value\",\"value\":\"skyblue\"},\"fill_alpha\":{\"type\":\"value\",\"value\":0.1},\"hatch_color\":{\"type\":\"value\",\"value\":\"skyblue\"},\"hatch_alpha\":{\"type\":\"value\",\"value\":0.1}}},\"muted_glyph\":{\"type\":\"object\",\"name\":\"VBar\",\"id\":\"p1385\",\"attributes\":{\"x\":{\"type\":\"field\",\"field\":\"categories\"},\"width\":{\"type\":\"value\",\"value\":0.5},\"top\":{\"type\":\"field\",\"field\":\"values\"},\"line_color\":{\"type\":\"value\",\"value\":\"skyblue\"},\"line_alpha\":{\"type\":\"value\",\"value\":0.2},\"fill_color\":{\"type\":\"value\",\"value\":\"skyblue\"},\"fill_alpha\":{\"type\":\"value\",\"value\":0.2},\"hatch_color\":{\"type\":\"value\",\"value\":\"skyblue\"},\"hatch_alpha\":{\"type\":\"value\",\"value\":0.2}}}}}],\"toolbar\":{\"type\":\"object\",\"name\":\"Toolbar\",\"id\":\"p1355\",\"attributes\":{\"tools\":[{\"type\":\"object\",\"name\":\"PanTool\",\"id\":\"p1369\"},{\"type\":\"object\",\"name\":\"WheelZoomTool\",\"id\":\"p1370\",\"attributes\":{\"renderers\":\"auto\"}},{\"type\":\"object\",\"name\":\"BoxZoomTool\",\"id\":\"p1371\",\"attributes\":{\"overlay\":{\"type\":\"object\",\"name\":\"BoxAnnotation\",\"id\":\"p1372\",\"attributes\":{\"syncable\":false,\"level\":\"overlay\",\"visible\":false,\"left\":{\"type\":\"number\",\"value\":\"nan\"},\"right\":{\"type\":\"number\",\"value\":\"nan\"},\"top\":{\"type\":\"number\",\"value\":\"nan\"},\"bottom\":{\"type\":\"number\",\"value\":\"nan\"},\"left_units\":\"canvas\",\"right_units\":\"canvas\",\"top_units\":\"canvas\",\"bottom_units\":\"canvas\",\"line_color\":\"black\",\"line_alpha\":1.0,\"line_width\":2,\"line_dash\":[4,4],\"fill_color\":\"lightgrey\",\"fill_alpha\":0.5}}}},{\"type\":\"object\",\"name\":\"SaveTool\",\"id\":\"p1377\"},{\"type\":\"object\",\"name\":\"ResetTool\",\"id\":\"p1378\"},{\"type\":\"object\",\"name\":\"HelpTool\",\"id\":\"p1379\"},{\"type\":\"object\",\"name\":\"HoverTool\",\"id\":\"p1391\",\"attributes\":{\"renderers\":\"auto\",\"tooltips\":[[\"Category\",\"@categories\"],[\"Value\",\"@values\"]]}}]}},\"left\":[{\"type\":\"object\",\"name\":\"LinearAxis\",\"id\":\"p1364\",\"attributes\":{\"ticker\":{\"type\":\"object\",\"name\":\"BasicTicker\",\"id\":\"p1365\",\"attributes\":{\"mantissas\":[1,2,5]}},\"formatter\":{\"type\":\"object\",\"name\":\"BasicTickFormatter\",\"id\":\"p1366\"},\"axis_label\":\"Value\",\"axis_label_text_font_size\":\"12pt\",\"major_label_policy\":{\"type\":\"object\",\"name\":\"AllLabels\",\"id\":\"p1367\"}}}],\"below\":[{\"type\":\"object\",\"name\":\"CategoricalAxis\",\"id\":\"p1359\",\"attributes\":{\"ticker\":{\"type\":\"object\",\"name\":\"CategoricalTicker\",\"id\":\"p1360\"},\"formatter\":{\"type\":\"object\",\"name\":\"CategoricalTickFormatter\",\"id\":\"p1361\"},\"axis_label\":\"Category\",\"axis_label_text_font_size\":\"12pt\",\"major_label_policy\":{\"type\":\"object\",\"name\":\"AllLabels\",\"id\":\"p1362\"}}}],\"center\":[{\"type\":\"object\",\"name\":\"Grid\",\"id\":\"p1363\",\"attributes\":{\"axis\":{\"id\":\"p1359\"},\"grid_line_color\":\"white\"}},{\"type\":\"object\",\"name\":\"Grid\",\"id\":\"p1368\",\"attributes\":{\"dimension\":1,\"axis\":{\"id\":\"p1364\"},\"grid_line_color\":\"white\"}},{\"type\":\"object\",\"name\":\"Legend\",\"id\":\"p1389\",\"attributes\":{\"title\":\"Categories\",\"items\":[{\"type\":\"object\",\"name\":\"LegendItem\",\"id\":\"p1390\",\"attributes\":{\"label\":{\"type\":\"field\",\"field\":\"categories\"},\"renderers\":[{\"id\":\"p1386\"}]}}]}}]}}]}};\n",
              "  const render_items = [{\"docid\":\"0c371365-028d-4a62-bc6d-1c94d2b2634f\",\"roots\":{\"p1346\":\"b884b0e7-710e-4726-a1b8-4b7bbc419518\"},\"root_ids\":[\"p1346\"]}];\n",
              "  void root.Bokeh.embed.embed_items_notebook(docs_json, render_items);\n",
              "  }\n",
              "  if (root.Bokeh !== undefined) {\n",
              "    embed_document(root);\n",
              "  } else {\n",
              "    let attempts = 0;\n",
              "    const timer = setInterval(function(root) {\n",
              "      if (root.Bokeh !== undefined) {\n",
              "        clearInterval(timer);\n",
              "        embed_document(root);\n",
              "      } else {\n",
              "        attempts++;\n",
              "        if (attempts > 100) {\n",
              "          clearInterval(timer);\n",
              "          console.log(\"Bokeh: ERROR: Unable to run BokehJS code because BokehJS library is missing\");\n",
              "        }\n",
              "      }\n",
              "    }, 10, root)\n",
              "  }\n",
              "})(window);"
            ],
            "application/vnd.bokehjs_exec.v0+json": ""
          },
          "metadata": {
            "application/vnd.bokehjs_exec.v0+json": {
              "id": "p1346"
            }
          }
        }
      ]
    },
    {
      "cell_type": "markdown",
      "source": [
        "---"
      ],
      "metadata": {
        "id": "Ifxb7-rHEjuC"
      }
    },
    {
      "cell_type": "markdown",
      "source": [
        "20) Using Plotly, create a basic line plot of a randomly generated dataset, label the axes, and set the title as\n",
        "'Simple Line Plot."
      ],
      "metadata": {
        "id": "IQQgkTsWEqGJ"
      }
    },
    {
      "cell_type": "code",
      "source": [
        "import plotly.graph_objects as go\n",
        "import numpy as np\n",
        "\n",
        "x = np.linspace(0, 10, 100)\n",
        "y = np.random.random(100) * 10\n",
        "\n",
        "fig = go.Figure()\n",
        "fig.add_trace(go.Scatter(x=x, y=y, mode='lines', name='Random Data'))\n",
        "\n",
        "fig.update_layout(\n",
        "    title='Simple Line Plot',\n",
        "    xaxis_title='X-axis',\n",
        "    yaxis_title='Y-axis'\n",
        ")\n",
        "fig.show()\n"
      ],
      "metadata": {
        "colab": {
          "base_uri": "https://localhost:8080/",
          "height": 542
        },
        "id": "cHaePmUcEc_K",
        "outputId": "145c69dd-5a73-45ac-fde8-f92039cecdd5"
      },
      "execution_count": 55,
      "outputs": [
        {
          "output_type": "display_data",
          "data": {
            "text/html": [
              "<html>\n",
              "<head><meta charset=\"utf-8\" /></head>\n",
              "<body>\n",
              "    <div>            <script src=\"https://cdnjs.cloudflare.com/ajax/libs/mathjax/2.7.5/MathJax.js?config=TeX-AMS-MML_SVG\"></script><script type=\"text/javascript\">if (window.MathJax && window.MathJax.Hub && window.MathJax.Hub.Config) {window.MathJax.Hub.Config({SVG: {font: \"STIX-Web\"}});}</script>                <script type=\"text/javascript\">window.PlotlyConfig = {MathJaxConfig: 'local'};</script>\n",
              "        <script charset=\"utf-8\" src=\"https://cdn.plot.ly/plotly-2.35.2.min.js\"></script>                <div id=\"de26346f-8049-440b-b2e2-c002a7698ff1\" class=\"plotly-graph-div\" style=\"height:525px; width:100%;\"></div>            <script type=\"text/javascript\">                                    window.PLOTLYENV=window.PLOTLYENV || {};                                    if (document.getElementById(\"de26346f-8049-440b-b2e2-c002a7698ff1\")) {                    Plotly.newPlot(                        \"de26346f-8049-440b-b2e2-c002a7698ff1\",                        [{\"mode\":\"lines\",\"name\":\"Random Data\",\"x\":[0.0,0.10101010101010101,0.20202020202020202,0.30303030303030304,0.40404040404040403,0.5050505050505051,0.6060606060606061,0.7070707070707071,0.8080808080808081,0.9090909090909091,1.0101010101010102,1.1111111111111112,1.2121212121212122,1.3131313131313131,1.4141414141414141,1.5151515151515151,1.6161616161616161,1.7171717171717171,1.8181818181818181,1.9191919191919191,2.0202020202020203,2.121212121212121,2.2222222222222223,2.323232323232323,2.4242424242424243,2.525252525252525,2.6262626262626263,2.727272727272727,2.8282828282828283,2.929292929292929,3.0303030303030303,3.131313131313131,3.2323232323232323,3.3333333333333335,3.4343434343434343,3.5353535353535355,3.6363636363636362,3.7373737373737375,3.8383838383838382,3.9393939393939394,4.040404040404041,4.141414141414141,4.242424242424242,4.343434343434343,4.444444444444445,4.545454545454545,4.646464646464646,4.747474747474747,4.848484848484849,4.94949494949495,5.05050505050505,5.151515151515151,5.252525252525253,5.353535353535354,5.454545454545454,5.555555555555555,5.656565656565657,5.757575757575758,5.858585858585858,5.959595959595959,6.0606060606060606,6.161616161616162,6.262626262626262,6.363636363636363,6.4646464646464645,6.565656565656566,6.666666666666667,6.767676767676767,6.8686868686868685,6.96969696969697,7.070707070707071,7.171717171717171,7.2727272727272725,7.373737373737374,7.474747474747475,7.575757575757575,7.6767676767676765,7.777777777777778,7.878787878787879,7.979797979797979,8.080808080808081,8.181818181818182,8.282828282828282,8.383838383838384,8.484848484848484,8.585858585858587,8.686868686868687,8.787878787878787,8.88888888888889,8.98989898989899,9.09090909090909,9.191919191919192,9.292929292929292,9.393939393939394,9.494949494949495,9.595959595959595,9.696969696969697,9.797979797979798,9.8989898989899,10.0],\"y\":[0.6303828966937675,5.556492427701452,0.09240073486540767,8.330380975093908,9.84329434348122,7.034947841347021,1.8163120049204873,5.123934632959037,5.804471371881301,7.875421559550259,6.064754600685757,2.184028548119228,4.551688151933373,8.788697417774708,4.922682415051587,7.155611574590398,4.861595603111977,7.08548150020003,4.9814022550747,8.445500794719424,1.943422229429832,7.733260096105699,9.742586638572329,8.623097773502831,7.804266511040135,9.850322788832358,7.53569606672163,0.04048106368426341,2.694794339581177,4.104921380944569,4.2822383211640815,2.978418185550563,4.0113234155862765,1.2065699118611972,9.806996740240193,4.06120492981311,5.692107600936255,3.436055031480987,7.8887277771946405,4.113724140379379,3.592714170600857,3.994989103160902,3.0183087592751656,7.752197774666111,9.26212930176315,3.2531030515899637,9.528706723868426,0.13948395933415347,5.334656817509289,3.0458203067590772,8.828599980437911,2.506227201938854,6.774118294719442,8.104240912598907,4.321480499248166,7.521345209879337,8.296022479277191,3.7903377210381817,0.9654960982745808,2.5613957741471225,5.919351581884497,4.7647720054983065,4.879345689871769,4.585145522366506,5.245926207548479,4.420153177948701,8.5263492378234,4.334389744693558,8.268703682806414,5.093420653681867,0.8637698037064123,6.6003986222294895,2.0659460707526947,8.472753225073781,6.813591290967357,1.7836734931031717,0.6985901733934607,0.09688170796795847,8.920496580813289,1.334652095813622,7.791919742513885,9.251634258375487,7.151787489637425,4.908186128508779,4.694983029278751,8.827092893929041,4.884100599403899,4.1456748514945305,1.7411195222713227,4.75289441908616,7.836479651212873,5.564294271917406,1.5986708206070577,1.4382936568105598,6.49463029783935,5.392235974137527,3.2568476641681543,1.4701389488880123,1.5987006714292529,1.2941233742225133],\"type\":\"scatter\"}],                        {\"template\":{\"data\":{\"histogram2dcontour\":[{\"type\":\"histogram2dcontour\",\"colorbar\":{\"outlinewidth\":0,\"ticks\":\"\"},\"colorscale\":[[0.0,\"#0d0887\"],[0.1111111111111111,\"#46039f\"],[0.2222222222222222,\"#7201a8\"],[0.3333333333333333,\"#9c179e\"],[0.4444444444444444,\"#bd3786\"],[0.5555555555555556,\"#d8576b\"],[0.6666666666666666,\"#ed7953\"],[0.7777777777777778,\"#fb9f3a\"],[0.8888888888888888,\"#fdca26\"],[1.0,\"#f0f921\"]]}],\"choropleth\":[{\"type\":\"choropleth\",\"colorbar\":{\"outlinewidth\":0,\"ticks\":\"\"}}],\"histogram2d\":[{\"type\":\"histogram2d\",\"colorbar\":{\"outlinewidth\":0,\"ticks\":\"\"},\"colorscale\":[[0.0,\"#0d0887\"],[0.1111111111111111,\"#46039f\"],[0.2222222222222222,\"#7201a8\"],[0.3333333333333333,\"#9c179e\"],[0.4444444444444444,\"#bd3786\"],[0.5555555555555556,\"#d8576b\"],[0.6666666666666666,\"#ed7953\"],[0.7777777777777778,\"#fb9f3a\"],[0.8888888888888888,\"#fdca26\"],[1.0,\"#f0f921\"]]}],\"heatmap\":[{\"type\":\"heatmap\",\"colorbar\":{\"outlinewidth\":0,\"ticks\":\"\"},\"colorscale\":[[0.0,\"#0d0887\"],[0.1111111111111111,\"#46039f\"],[0.2222222222222222,\"#7201a8\"],[0.3333333333333333,\"#9c179e\"],[0.4444444444444444,\"#bd3786\"],[0.5555555555555556,\"#d8576b\"],[0.6666666666666666,\"#ed7953\"],[0.7777777777777778,\"#fb9f3a\"],[0.8888888888888888,\"#fdca26\"],[1.0,\"#f0f921\"]]}],\"heatmapgl\":[{\"type\":\"heatmapgl\",\"colorbar\":{\"outlinewidth\":0,\"ticks\":\"\"},\"colorscale\":[[0.0,\"#0d0887\"],[0.1111111111111111,\"#46039f\"],[0.2222222222222222,\"#7201a8\"],[0.3333333333333333,\"#9c179e\"],[0.4444444444444444,\"#bd3786\"],[0.5555555555555556,\"#d8576b\"],[0.6666666666666666,\"#ed7953\"],[0.7777777777777778,\"#fb9f3a\"],[0.8888888888888888,\"#fdca26\"],[1.0,\"#f0f921\"]]}],\"contourcarpet\":[{\"type\":\"contourcarpet\",\"colorbar\":{\"outlinewidth\":0,\"ticks\":\"\"}}],\"contour\":[{\"type\":\"contour\",\"colorbar\":{\"outlinewidth\":0,\"ticks\":\"\"},\"colorscale\":[[0.0,\"#0d0887\"],[0.1111111111111111,\"#46039f\"],[0.2222222222222222,\"#7201a8\"],[0.3333333333333333,\"#9c179e\"],[0.4444444444444444,\"#bd3786\"],[0.5555555555555556,\"#d8576b\"],[0.6666666666666666,\"#ed7953\"],[0.7777777777777778,\"#fb9f3a\"],[0.8888888888888888,\"#fdca26\"],[1.0,\"#f0f921\"]]}],\"surface\":[{\"type\":\"surface\",\"colorbar\":{\"outlinewidth\":0,\"ticks\":\"\"},\"colorscale\":[[0.0,\"#0d0887\"],[0.1111111111111111,\"#46039f\"],[0.2222222222222222,\"#7201a8\"],[0.3333333333333333,\"#9c179e\"],[0.4444444444444444,\"#bd3786\"],[0.5555555555555556,\"#d8576b\"],[0.6666666666666666,\"#ed7953\"],[0.7777777777777778,\"#fb9f3a\"],[0.8888888888888888,\"#fdca26\"],[1.0,\"#f0f921\"]]}],\"mesh3d\":[{\"type\":\"mesh3d\",\"colorbar\":{\"outlinewidth\":0,\"ticks\":\"\"}}],\"scatter\":[{\"fillpattern\":{\"fillmode\":\"overlay\",\"size\":10,\"solidity\":0.2},\"type\":\"scatter\"}],\"parcoords\":[{\"type\":\"parcoords\",\"line\":{\"colorbar\":{\"outlinewidth\":0,\"ticks\":\"\"}}}],\"scatterpolargl\":[{\"type\":\"scatterpolargl\",\"marker\":{\"colorbar\":{\"outlinewidth\":0,\"ticks\":\"\"}}}],\"bar\":[{\"error_x\":{\"color\":\"#2a3f5f\"},\"error_y\":{\"color\":\"#2a3f5f\"},\"marker\":{\"line\":{\"color\":\"#E5ECF6\",\"width\":0.5},\"pattern\":{\"fillmode\":\"overlay\",\"size\":10,\"solidity\":0.2}},\"type\":\"bar\"}],\"scattergeo\":[{\"type\":\"scattergeo\",\"marker\":{\"colorbar\":{\"outlinewidth\":0,\"ticks\":\"\"}}}],\"scatterpolar\":[{\"type\":\"scatterpolar\",\"marker\":{\"colorbar\":{\"outlinewidth\":0,\"ticks\":\"\"}}}],\"histogram\":[{\"marker\":{\"pattern\":{\"fillmode\":\"overlay\",\"size\":10,\"solidity\":0.2}},\"type\":\"histogram\"}],\"scattergl\":[{\"type\":\"scattergl\",\"marker\":{\"colorbar\":{\"outlinewidth\":0,\"ticks\":\"\"}}}],\"scatter3d\":[{\"type\":\"scatter3d\",\"line\":{\"colorbar\":{\"outlinewidth\":0,\"ticks\":\"\"}},\"marker\":{\"colorbar\":{\"outlinewidth\":0,\"ticks\":\"\"}}}],\"scattermapbox\":[{\"type\":\"scattermapbox\",\"marker\":{\"colorbar\":{\"outlinewidth\":0,\"ticks\":\"\"}}}],\"scatterternary\":[{\"type\":\"scatterternary\",\"marker\":{\"colorbar\":{\"outlinewidth\":0,\"ticks\":\"\"}}}],\"scattercarpet\":[{\"type\":\"scattercarpet\",\"marker\":{\"colorbar\":{\"outlinewidth\":0,\"ticks\":\"\"}}}],\"carpet\":[{\"aaxis\":{\"endlinecolor\":\"#2a3f5f\",\"gridcolor\":\"white\",\"linecolor\":\"white\",\"minorgridcolor\":\"white\",\"startlinecolor\":\"#2a3f5f\"},\"baxis\":{\"endlinecolor\":\"#2a3f5f\",\"gridcolor\":\"white\",\"linecolor\":\"white\",\"minorgridcolor\":\"white\",\"startlinecolor\":\"#2a3f5f\"},\"type\":\"carpet\"}],\"table\":[{\"cells\":{\"fill\":{\"color\":\"#EBF0F8\"},\"line\":{\"color\":\"white\"}},\"header\":{\"fill\":{\"color\":\"#C8D4E3\"},\"line\":{\"color\":\"white\"}},\"type\":\"table\"}],\"barpolar\":[{\"marker\":{\"line\":{\"color\":\"#E5ECF6\",\"width\":0.5},\"pattern\":{\"fillmode\":\"overlay\",\"size\":10,\"solidity\":0.2}},\"type\":\"barpolar\"}],\"pie\":[{\"automargin\":true,\"type\":\"pie\"}]},\"layout\":{\"autotypenumbers\":\"strict\",\"colorway\":[\"#636efa\",\"#EF553B\",\"#00cc96\",\"#ab63fa\",\"#FFA15A\",\"#19d3f3\",\"#FF6692\",\"#B6E880\",\"#FF97FF\",\"#FECB52\"],\"font\":{\"color\":\"#2a3f5f\"},\"hovermode\":\"closest\",\"hoverlabel\":{\"align\":\"left\"},\"paper_bgcolor\":\"white\",\"plot_bgcolor\":\"#E5ECF6\",\"polar\":{\"bgcolor\":\"#E5ECF6\",\"angularaxis\":{\"gridcolor\":\"white\",\"linecolor\":\"white\",\"ticks\":\"\"},\"radialaxis\":{\"gridcolor\":\"white\",\"linecolor\":\"white\",\"ticks\":\"\"}},\"ternary\":{\"bgcolor\":\"#E5ECF6\",\"aaxis\":{\"gridcolor\":\"white\",\"linecolor\":\"white\",\"ticks\":\"\"},\"baxis\":{\"gridcolor\":\"white\",\"linecolor\":\"white\",\"ticks\":\"\"},\"caxis\":{\"gridcolor\":\"white\",\"linecolor\":\"white\",\"ticks\":\"\"}},\"coloraxis\":{\"colorbar\":{\"outlinewidth\":0,\"ticks\":\"\"}},\"colorscale\":{\"sequential\":[[0.0,\"#0d0887\"],[0.1111111111111111,\"#46039f\"],[0.2222222222222222,\"#7201a8\"],[0.3333333333333333,\"#9c179e\"],[0.4444444444444444,\"#bd3786\"],[0.5555555555555556,\"#d8576b\"],[0.6666666666666666,\"#ed7953\"],[0.7777777777777778,\"#fb9f3a\"],[0.8888888888888888,\"#fdca26\"],[1.0,\"#f0f921\"]],\"sequentialminus\":[[0.0,\"#0d0887\"],[0.1111111111111111,\"#46039f\"],[0.2222222222222222,\"#7201a8\"],[0.3333333333333333,\"#9c179e\"],[0.4444444444444444,\"#bd3786\"],[0.5555555555555556,\"#d8576b\"],[0.6666666666666666,\"#ed7953\"],[0.7777777777777778,\"#fb9f3a\"],[0.8888888888888888,\"#fdca26\"],[1.0,\"#f0f921\"]],\"diverging\":[[0,\"#8e0152\"],[0.1,\"#c51b7d\"],[0.2,\"#de77ae\"],[0.3,\"#f1b6da\"],[0.4,\"#fde0ef\"],[0.5,\"#f7f7f7\"],[0.6,\"#e6f5d0\"],[0.7,\"#b8e186\"],[0.8,\"#7fbc41\"],[0.9,\"#4d9221\"],[1,\"#276419\"]]},\"xaxis\":{\"gridcolor\":\"white\",\"linecolor\":\"white\",\"ticks\":\"\",\"title\":{\"standoff\":15},\"zerolinecolor\":\"white\",\"automargin\":true,\"zerolinewidth\":2},\"yaxis\":{\"gridcolor\":\"white\",\"linecolor\":\"white\",\"ticks\":\"\",\"title\":{\"standoff\":15},\"zerolinecolor\":\"white\",\"automargin\":true,\"zerolinewidth\":2},\"scene\":{\"xaxis\":{\"backgroundcolor\":\"#E5ECF6\",\"gridcolor\":\"white\",\"linecolor\":\"white\",\"showbackground\":true,\"ticks\":\"\",\"zerolinecolor\":\"white\",\"gridwidth\":2},\"yaxis\":{\"backgroundcolor\":\"#E5ECF6\",\"gridcolor\":\"white\",\"linecolor\":\"white\",\"showbackground\":true,\"ticks\":\"\",\"zerolinecolor\":\"white\",\"gridwidth\":2},\"zaxis\":{\"backgroundcolor\":\"#E5ECF6\",\"gridcolor\":\"white\",\"linecolor\":\"white\",\"showbackground\":true,\"ticks\":\"\",\"zerolinecolor\":\"white\",\"gridwidth\":2}},\"shapedefaults\":{\"line\":{\"color\":\"#2a3f5f\"}},\"annotationdefaults\":{\"arrowcolor\":\"#2a3f5f\",\"arrowhead\":0,\"arrowwidth\":1},\"geo\":{\"bgcolor\":\"white\",\"landcolor\":\"#E5ECF6\",\"subunitcolor\":\"white\",\"showland\":true,\"showlakes\":true,\"lakecolor\":\"white\"},\"title\":{\"x\":0.05},\"mapbox\":{\"style\":\"light\"}}},\"title\":{\"text\":\"Simple Line Plot\"},\"xaxis\":{\"title\":{\"text\":\"X-axis\"}},\"yaxis\":{\"title\":{\"text\":\"Y-axis\"}}},                        {\"responsive\": true}                    ).then(function(){\n",
              "                            \n",
              "var gd = document.getElementById('de26346f-8049-440b-b2e2-c002a7698ff1');\n",
              "var x = new MutationObserver(function (mutations, observer) {{\n",
              "        var display = window.getComputedStyle(gd).display;\n",
              "        if (!display || display === 'none') {{\n",
              "            console.log([gd, 'removed!']);\n",
              "            Plotly.purge(gd);\n",
              "            observer.disconnect();\n",
              "        }}\n",
              "}});\n",
              "\n",
              "// Listen for the removal of the full notebook cells\n",
              "var notebookContainer = gd.closest('#notebook-container');\n",
              "if (notebookContainer) {{\n",
              "    x.observe(notebookContainer, {childList: true});\n",
              "}}\n",
              "\n",
              "// Listen for the clearing of the current output cell\n",
              "var outputEl = gd.closest('.output');\n",
              "if (outputEl) {{\n",
              "    x.observe(outputEl, {childList: true});\n",
              "}}\n",
              "\n",
              "                        })                };                            </script>        </div>\n",
              "</body>\n",
              "</html>"
            ]
          },
          "metadata": {}
        }
      ]
    },
    {
      "cell_type": "markdown",
      "source": [
        "---"
      ],
      "metadata": {
        "id": "fanSb6gfE0qW"
      }
    },
    {
      "cell_type": "markdown",
      "source": [
        "21) Using Plotly, create an interactive pie chart of randomly generated data, add labels and percentages, set\n",
        "the title as 'Interactive Pie Chart'."
      ],
      "metadata": {
        "id": "q8b75IROE1fE"
      }
    },
    {
      "cell_type": "code",
      "source": [
        "import plotly.graph_objects as go\n",
        "import numpy as np\n",
        "\n",
        "labels = ['Category A', 'Category B', 'Category C', 'Category D', 'Category E']\n",
        "values = np.random.randint(10, 50, size=5)  # Random values between 10 and 50\n",
        "\n",
        "fig = go.Figure(data=[go.Pie(\n",
        "    labels=labels,\n",
        "    values=values,\n",
        "    textinfo='label+percent',\n",
        "    hoverinfo='label+percent+value',\n",
        ")])\n",
        "\n",
        "fig.update_layout(title='Interactive Pie Chart')\n",
        "\n",
        "fig.show()\n"
      ],
      "metadata": {
        "colab": {
          "base_uri": "https://localhost:8080/",
          "height": 542
        },
        "id": "OoJ5SV_9Eubp",
        "outputId": "53b5ba18-4871-4c20-c38e-18d26d9bae7a"
      },
      "execution_count": 56,
      "outputs": [
        {
          "output_type": "display_data",
          "data": {
            "text/html": [
              "<html>\n",
              "<head><meta charset=\"utf-8\" /></head>\n",
              "<body>\n",
              "    <div>            <script src=\"https://cdnjs.cloudflare.com/ajax/libs/mathjax/2.7.5/MathJax.js?config=TeX-AMS-MML_SVG\"></script><script type=\"text/javascript\">if (window.MathJax && window.MathJax.Hub && window.MathJax.Hub.Config) {window.MathJax.Hub.Config({SVG: {font: \"STIX-Web\"}});}</script>                <script type=\"text/javascript\">window.PlotlyConfig = {MathJaxConfig: 'local'};</script>\n",
              "        <script charset=\"utf-8\" src=\"https://cdn.plot.ly/plotly-2.35.2.min.js\"></script>                <div id=\"533a67e8-bb66-40ae-a10d-248ddd478efd\" class=\"plotly-graph-div\" style=\"height:525px; width:100%;\"></div>            <script type=\"text/javascript\">                                    window.PLOTLYENV=window.PLOTLYENV || {};                                    if (document.getElementById(\"533a67e8-bb66-40ae-a10d-248ddd478efd\")) {                    Plotly.newPlot(                        \"533a67e8-bb66-40ae-a10d-248ddd478efd\",                        [{\"hoverinfo\":\"label+percent+value\",\"labels\":[\"Category A\",\"Category B\",\"Category C\",\"Category D\",\"Category E\"],\"textinfo\":\"label+percent\",\"values\":[23,40,33,44,45],\"type\":\"pie\"}],                        {\"template\":{\"data\":{\"histogram2dcontour\":[{\"type\":\"histogram2dcontour\",\"colorbar\":{\"outlinewidth\":0,\"ticks\":\"\"},\"colorscale\":[[0.0,\"#0d0887\"],[0.1111111111111111,\"#46039f\"],[0.2222222222222222,\"#7201a8\"],[0.3333333333333333,\"#9c179e\"],[0.4444444444444444,\"#bd3786\"],[0.5555555555555556,\"#d8576b\"],[0.6666666666666666,\"#ed7953\"],[0.7777777777777778,\"#fb9f3a\"],[0.8888888888888888,\"#fdca26\"],[1.0,\"#f0f921\"]]}],\"choropleth\":[{\"type\":\"choropleth\",\"colorbar\":{\"outlinewidth\":0,\"ticks\":\"\"}}],\"histogram2d\":[{\"type\":\"histogram2d\",\"colorbar\":{\"outlinewidth\":0,\"ticks\":\"\"},\"colorscale\":[[0.0,\"#0d0887\"],[0.1111111111111111,\"#46039f\"],[0.2222222222222222,\"#7201a8\"],[0.3333333333333333,\"#9c179e\"],[0.4444444444444444,\"#bd3786\"],[0.5555555555555556,\"#d8576b\"],[0.6666666666666666,\"#ed7953\"],[0.7777777777777778,\"#fb9f3a\"],[0.8888888888888888,\"#fdca26\"],[1.0,\"#f0f921\"]]}],\"heatmap\":[{\"type\":\"heatmap\",\"colorbar\":{\"outlinewidth\":0,\"ticks\":\"\"},\"colorscale\":[[0.0,\"#0d0887\"],[0.1111111111111111,\"#46039f\"],[0.2222222222222222,\"#7201a8\"],[0.3333333333333333,\"#9c179e\"],[0.4444444444444444,\"#bd3786\"],[0.5555555555555556,\"#d8576b\"],[0.6666666666666666,\"#ed7953\"],[0.7777777777777778,\"#fb9f3a\"],[0.8888888888888888,\"#fdca26\"],[1.0,\"#f0f921\"]]}],\"heatmapgl\":[{\"type\":\"heatmapgl\",\"colorbar\":{\"outlinewidth\":0,\"ticks\":\"\"},\"colorscale\":[[0.0,\"#0d0887\"],[0.1111111111111111,\"#46039f\"],[0.2222222222222222,\"#7201a8\"],[0.3333333333333333,\"#9c179e\"],[0.4444444444444444,\"#bd3786\"],[0.5555555555555556,\"#d8576b\"],[0.6666666666666666,\"#ed7953\"],[0.7777777777777778,\"#fb9f3a\"],[0.8888888888888888,\"#fdca26\"],[1.0,\"#f0f921\"]]}],\"contourcarpet\":[{\"type\":\"contourcarpet\",\"colorbar\":{\"outlinewidth\":0,\"ticks\":\"\"}}],\"contour\":[{\"type\":\"contour\",\"colorbar\":{\"outlinewidth\":0,\"ticks\":\"\"},\"colorscale\":[[0.0,\"#0d0887\"],[0.1111111111111111,\"#46039f\"],[0.2222222222222222,\"#7201a8\"],[0.3333333333333333,\"#9c179e\"],[0.4444444444444444,\"#bd3786\"],[0.5555555555555556,\"#d8576b\"],[0.6666666666666666,\"#ed7953\"],[0.7777777777777778,\"#fb9f3a\"],[0.8888888888888888,\"#fdca26\"],[1.0,\"#f0f921\"]]}],\"surface\":[{\"type\":\"surface\",\"colorbar\":{\"outlinewidth\":0,\"ticks\":\"\"},\"colorscale\":[[0.0,\"#0d0887\"],[0.1111111111111111,\"#46039f\"],[0.2222222222222222,\"#7201a8\"],[0.3333333333333333,\"#9c179e\"],[0.4444444444444444,\"#bd3786\"],[0.5555555555555556,\"#d8576b\"],[0.6666666666666666,\"#ed7953\"],[0.7777777777777778,\"#fb9f3a\"],[0.8888888888888888,\"#fdca26\"],[1.0,\"#f0f921\"]]}],\"mesh3d\":[{\"type\":\"mesh3d\",\"colorbar\":{\"outlinewidth\":0,\"ticks\":\"\"}}],\"scatter\":[{\"fillpattern\":{\"fillmode\":\"overlay\",\"size\":10,\"solidity\":0.2},\"type\":\"scatter\"}],\"parcoords\":[{\"type\":\"parcoords\",\"line\":{\"colorbar\":{\"outlinewidth\":0,\"ticks\":\"\"}}}],\"scatterpolargl\":[{\"type\":\"scatterpolargl\",\"marker\":{\"colorbar\":{\"outlinewidth\":0,\"ticks\":\"\"}}}],\"bar\":[{\"error_x\":{\"color\":\"#2a3f5f\"},\"error_y\":{\"color\":\"#2a3f5f\"},\"marker\":{\"line\":{\"color\":\"#E5ECF6\",\"width\":0.5},\"pattern\":{\"fillmode\":\"overlay\",\"size\":10,\"solidity\":0.2}},\"type\":\"bar\"}],\"scattergeo\":[{\"type\":\"scattergeo\",\"marker\":{\"colorbar\":{\"outlinewidth\":0,\"ticks\":\"\"}}}],\"scatterpolar\":[{\"type\":\"scatterpolar\",\"marker\":{\"colorbar\":{\"outlinewidth\":0,\"ticks\":\"\"}}}],\"histogram\":[{\"marker\":{\"pattern\":{\"fillmode\":\"overlay\",\"size\":10,\"solidity\":0.2}},\"type\":\"histogram\"}],\"scattergl\":[{\"type\":\"scattergl\",\"marker\":{\"colorbar\":{\"outlinewidth\":0,\"ticks\":\"\"}}}],\"scatter3d\":[{\"type\":\"scatter3d\",\"line\":{\"colorbar\":{\"outlinewidth\":0,\"ticks\":\"\"}},\"marker\":{\"colorbar\":{\"outlinewidth\":0,\"ticks\":\"\"}}}],\"scattermapbox\":[{\"type\":\"scattermapbox\",\"marker\":{\"colorbar\":{\"outlinewidth\":0,\"ticks\":\"\"}}}],\"scatterternary\":[{\"type\":\"scatterternary\",\"marker\":{\"colorbar\":{\"outlinewidth\":0,\"ticks\":\"\"}}}],\"scattercarpet\":[{\"type\":\"scattercarpet\",\"marker\":{\"colorbar\":{\"outlinewidth\":0,\"ticks\":\"\"}}}],\"carpet\":[{\"aaxis\":{\"endlinecolor\":\"#2a3f5f\",\"gridcolor\":\"white\",\"linecolor\":\"white\",\"minorgridcolor\":\"white\",\"startlinecolor\":\"#2a3f5f\"},\"baxis\":{\"endlinecolor\":\"#2a3f5f\",\"gridcolor\":\"white\",\"linecolor\":\"white\",\"minorgridcolor\":\"white\",\"startlinecolor\":\"#2a3f5f\"},\"type\":\"carpet\"}],\"table\":[{\"cells\":{\"fill\":{\"color\":\"#EBF0F8\"},\"line\":{\"color\":\"white\"}},\"header\":{\"fill\":{\"color\":\"#C8D4E3\"},\"line\":{\"color\":\"white\"}},\"type\":\"table\"}],\"barpolar\":[{\"marker\":{\"line\":{\"color\":\"#E5ECF6\",\"width\":0.5},\"pattern\":{\"fillmode\":\"overlay\",\"size\":10,\"solidity\":0.2}},\"type\":\"barpolar\"}],\"pie\":[{\"automargin\":true,\"type\":\"pie\"}]},\"layout\":{\"autotypenumbers\":\"strict\",\"colorway\":[\"#636efa\",\"#EF553B\",\"#00cc96\",\"#ab63fa\",\"#FFA15A\",\"#19d3f3\",\"#FF6692\",\"#B6E880\",\"#FF97FF\",\"#FECB52\"],\"font\":{\"color\":\"#2a3f5f\"},\"hovermode\":\"closest\",\"hoverlabel\":{\"align\":\"left\"},\"paper_bgcolor\":\"white\",\"plot_bgcolor\":\"#E5ECF6\",\"polar\":{\"bgcolor\":\"#E5ECF6\",\"angularaxis\":{\"gridcolor\":\"white\",\"linecolor\":\"white\",\"ticks\":\"\"},\"radialaxis\":{\"gridcolor\":\"white\",\"linecolor\":\"white\",\"ticks\":\"\"}},\"ternary\":{\"bgcolor\":\"#E5ECF6\",\"aaxis\":{\"gridcolor\":\"white\",\"linecolor\":\"white\",\"ticks\":\"\"},\"baxis\":{\"gridcolor\":\"white\",\"linecolor\":\"white\",\"ticks\":\"\"},\"caxis\":{\"gridcolor\":\"white\",\"linecolor\":\"white\",\"ticks\":\"\"}},\"coloraxis\":{\"colorbar\":{\"outlinewidth\":0,\"ticks\":\"\"}},\"colorscale\":{\"sequential\":[[0.0,\"#0d0887\"],[0.1111111111111111,\"#46039f\"],[0.2222222222222222,\"#7201a8\"],[0.3333333333333333,\"#9c179e\"],[0.4444444444444444,\"#bd3786\"],[0.5555555555555556,\"#d8576b\"],[0.6666666666666666,\"#ed7953\"],[0.7777777777777778,\"#fb9f3a\"],[0.8888888888888888,\"#fdca26\"],[1.0,\"#f0f921\"]],\"sequentialminus\":[[0.0,\"#0d0887\"],[0.1111111111111111,\"#46039f\"],[0.2222222222222222,\"#7201a8\"],[0.3333333333333333,\"#9c179e\"],[0.4444444444444444,\"#bd3786\"],[0.5555555555555556,\"#d8576b\"],[0.6666666666666666,\"#ed7953\"],[0.7777777777777778,\"#fb9f3a\"],[0.8888888888888888,\"#fdca26\"],[1.0,\"#f0f921\"]],\"diverging\":[[0,\"#8e0152\"],[0.1,\"#c51b7d\"],[0.2,\"#de77ae\"],[0.3,\"#f1b6da\"],[0.4,\"#fde0ef\"],[0.5,\"#f7f7f7\"],[0.6,\"#e6f5d0\"],[0.7,\"#b8e186\"],[0.8,\"#7fbc41\"],[0.9,\"#4d9221\"],[1,\"#276419\"]]},\"xaxis\":{\"gridcolor\":\"white\",\"linecolor\":\"white\",\"ticks\":\"\",\"title\":{\"standoff\":15},\"zerolinecolor\":\"white\",\"automargin\":true,\"zerolinewidth\":2},\"yaxis\":{\"gridcolor\":\"white\",\"linecolor\":\"white\",\"ticks\":\"\",\"title\":{\"standoff\":15},\"zerolinecolor\":\"white\",\"automargin\":true,\"zerolinewidth\":2},\"scene\":{\"xaxis\":{\"backgroundcolor\":\"#E5ECF6\",\"gridcolor\":\"white\",\"linecolor\":\"white\",\"showbackground\":true,\"ticks\":\"\",\"zerolinecolor\":\"white\",\"gridwidth\":2},\"yaxis\":{\"backgroundcolor\":\"#E5ECF6\",\"gridcolor\":\"white\",\"linecolor\":\"white\",\"showbackground\":true,\"ticks\":\"\",\"zerolinecolor\":\"white\",\"gridwidth\":2},\"zaxis\":{\"backgroundcolor\":\"#E5ECF6\",\"gridcolor\":\"white\",\"linecolor\":\"white\",\"showbackground\":true,\"ticks\":\"\",\"zerolinecolor\":\"white\",\"gridwidth\":2}},\"shapedefaults\":{\"line\":{\"color\":\"#2a3f5f\"}},\"annotationdefaults\":{\"arrowcolor\":\"#2a3f5f\",\"arrowhead\":0,\"arrowwidth\":1},\"geo\":{\"bgcolor\":\"white\",\"landcolor\":\"#E5ECF6\",\"subunitcolor\":\"white\",\"showland\":true,\"showlakes\":true,\"lakecolor\":\"white\"},\"title\":{\"x\":0.05},\"mapbox\":{\"style\":\"light\"}}},\"title\":{\"text\":\"Interactive Pie Chart\"}},                        {\"responsive\": true}                    ).then(function(){\n",
              "                            \n",
              "var gd = document.getElementById('533a67e8-bb66-40ae-a10d-248ddd478efd');\n",
              "var x = new MutationObserver(function (mutations, observer) {{\n",
              "        var display = window.getComputedStyle(gd).display;\n",
              "        if (!display || display === 'none') {{\n",
              "            console.log([gd, 'removed!']);\n",
              "            Plotly.purge(gd);\n",
              "            observer.disconnect();\n",
              "        }}\n",
              "}});\n",
              "\n",
              "// Listen for the removal of the full notebook cells\n",
              "var notebookContainer = gd.closest('#notebook-container');\n",
              "if (notebookContainer) {{\n",
              "    x.observe(notebookContainer, {childList: true});\n",
              "}}\n",
              "\n",
              "// Listen for the clearing of the current output cell\n",
              "var outputEl = gd.closest('.output');\n",
              "if (outputEl) {{\n",
              "    x.observe(outputEl, {childList: true});\n",
              "}}\n",
              "\n",
              "                        })                };                            </script>        </div>\n",
              "</body>\n",
              "</html>"
            ]
          },
          "metadata": {}
        }
      ]
    },
    {
      "cell_type": "markdown",
      "source": [
        "#END"
      ],
      "metadata": {
        "id": "Lvyfk5GaFWjF"
      }
    }
  ]
}