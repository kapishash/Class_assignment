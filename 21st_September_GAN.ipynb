{
 "cells": [
  {
   "cell_type": "markdown",
   "id": "9a32fcb5-3bc9-4e5a-8158-fdfd2363a216",
   "metadata": {},
   "source": [
    "# Array Assignment"
   ]
  },
  {
   "cell_type": "markdown",
   "id": "fdad0799-1a5d-4442-9ee2-b9e29ce6078f",
   "metadata": {},
   "source": [
    "1. Given an array, check if it contains any duplicates or not.\n",
    "arr = [1, 2, 4, 2, 5, 9]\n",
    "Output = True"
   ]
  },
  {
   "cell_type": "code",
   "execution_count": 1,
   "id": "e794d04a-904e-4f6c-aca4-67f74754e77a",
   "metadata": {},
   "outputs": [
    {
     "name": "stdout",
     "output_type": "stream",
     "text": [
      "True\n"
     ]
    }
   ],
   "source": [
    "arr = [1, 2, 4, 2, 5, 9]\n",
    "output = len(arr) != len(set(arr))\n",
    "print(output)"
   ]
  },
  {
   "cell_type": "markdown",
   "id": "7edda2eb-ab4d-4f7d-b4bc-88e01aa3e47c",
   "metadata": {},
   "source": [
    "2. Given an array and an integer k, rotate the array to the right by k steps.\n",
    "arr = [1, 2, 3, 4, 5, 6, 7] k = 3\n",
    "Output = [5, 6, 7, 1, 2, 3, 4]"
   ]
  },
  {
   "cell_type": "code",
   "execution_count": 2,
   "id": "35af99a8-4944-4f4e-9ba8-484e23e5834a",
   "metadata": {},
   "outputs": [
    {
     "name": "stdout",
     "output_type": "stream",
     "text": [
      "[5, 6, 7, 1, 2, 3, 4]\n"
     ]
    }
   ],
   "source": [
    "arr = [1, 2, 3, 4, 5, 6, 7]\n",
    "k = 3\n",
    "n = len(arr)\n",
    "\n",
    "# Rotate the array to the right by k steps\n",
    "rotated_arr = arr[n - k:] + arr[:n - k]\n",
    "\n",
    "print(rotated_arr)"
   ]
  },
  {
   "cell_type": "markdown",
   "id": "75de497b-cff4-492c-ab74-3883476894aa",
   "metadata": {},
   "source": [
    "3. Reverse the given array in-place, means without using any extra data structure.\n",
    "arr = [2, 4, 5, 7, 9, 12]\n",
    "Output = [12, 9, 7, 5, 4, 2]"
   ]
  },
  {
   "cell_type": "code",
   "execution_count": 3,
   "id": "14ef5840-9bc0-4cd9-8406-182e613b1858",
   "metadata": {},
   "outputs": [
    {
     "name": "stdout",
     "output_type": "stream",
     "text": [
      "[12, 9, 7, 5, 4, 2]\n"
     ]
    }
   ],
   "source": [
    "arr = [2, 4, 5, 7, 9, 12]\n",
    "\n",
    "# Reverse the array in-place\n",
    "left = 0\n",
    "right = len(arr) - 1\n",
    "\n",
    "while left < right:\n",
    "    arr[left], arr[right] = arr[right], arr[left]\n",
    "    left += 1\n",
    "    right -= 1\n",
    "\n",
    "print(arr)"
   ]
  },
  {
   "cell_type": "markdown",
   "id": "2163e0f8-0b4e-4b5f-b797-b250891ee747",
   "metadata": {},
   "source": [
    "4. Given an array of integers, find the maximum element in an array\n",
    "arr = [10, 5, 20, 8, 15]\n",
    "Output = 20"
   ]
  },
  {
   "cell_type": "code",
   "execution_count": 4,
   "id": "27bba229-f851-44fe-9e04-0cafb134c19e",
   "metadata": {},
   "outputs": [
    {
     "name": "stdout",
     "output_type": "stream",
     "text": [
      "20\n"
     ]
    }
   ],
   "source": [
    "arr = [10, 5, 20, 8, 15]\n",
    "\n",
    "# Initialize maximum element to the first element of the array\n",
    "max_element = arr[0]\n",
    "\n",
    "for num in arr:\n",
    "    if num > max_element:\n",
    "        max_element = num\n",
    "\n",
    "print(max_element)"
   ]
  },
  {
   "cell_type": "markdown",
   "id": "8fd22e09-f8e9-4958-b4f6-3a13b05b225d",
   "metadata": {},
   "source": [
    "5. Given a sorted array, remove the duplicate element without using any extra data structure.\n",
    "arr = [1, 1, 2, 2, 2, 3, 3, 4, 4, 4, 5, 5]\n",
    "Output = [1, 2, 3, 4, 5]"
   ]
  },
  {
   "cell_type": "code",
   "execution_count": 5,
   "id": "c0d5a254-7a00-454a-b99d-7c92c2557bf3",
   "metadata": {},
   "outputs": [
    {
     "name": "stdout",
     "output_type": "stream",
     "text": [
      "[1, 2, 3, 4, 5]\n"
     ]
    }
   ],
   "source": [
    "arr = [1, 1, 2, 2, 2, 3, 3, 4, 4, 4, 5, 5]\n",
    "\n",
    "# Initialize index to keep track of the next non-duplicate element\n",
    "index = 0\n",
    "\n",
    "# Iterate through the array\n",
    "for i in range(1, len(arr)):\n",
    "    if arr[i] != arr[index]:\n",
    "        index += 1\n",
    "        arr[index] = arr[i]\n",
    "\n",
    "# Slice the array to remove duplicate elements\n",
    "arr = arr[:index + 1]\n",
    "\n",
    "print(arr)\n"
   ]
  },
  {
   "cell_type": "markdown",
   "id": "79c81dad-c6ba-4f8a-95da-55472d92b69c",
   "metadata": {},
   "source": [
    "# Thank You!"
   ]
  }
 ],
 "metadata": {
  "kernelspec": {
   "display_name": "Python 3 (ipykernel)",
   "language": "python",
   "name": "python3"
  },
  "language_info": {
   "codemirror_mode": {
    "name": "ipython",
    "version": 3
   },
   "file_extension": ".py",
   "mimetype": "text/x-python",
   "name": "python",
   "nbconvert_exporter": "python",
   "pygments_lexer": "ipython3",
   "version": "3.10.8"
  }
 },
 "nbformat": 4,
 "nbformat_minor": 5
}
