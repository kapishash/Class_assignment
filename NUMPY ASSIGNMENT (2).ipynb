{
 "cells": [
  {
   "cell_type": "code",
   "execution_count": 1,
   "id": "33391832-0eba-48f5-9ab7-1272d261c087",
   "metadata": {},
   "outputs": [],
   "source": [
    "import numpy  as np"
   ]
  },
  {
   "cell_type": "markdown",
   "id": "9226026c-f299-4bfb-84b8-d17c6df042a3",
   "metadata": {},
   "source": [
    "1. What is a Python library? Why do we use Python libraries?"
   ]
  },
  {
   "cell_type": "code",
   "execution_count": 121,
   "id": "0326a4d7-d575-4ec0-a1d2-2f763d21943a",
   "metadata": {},
   "outputs": [
    {
     "name": "stdout",
     "output_type": "stream",
     "text": [
      "A Python library is a collection of pre-written code, functions, and modules that can be imported and used in Python programs. As the code is already  writtern it is feasible to use and at a time millions of people use at once\n"
     ]
    }
   ],
   "source": [
    "print('A Python library is a collection of pre-written code, functions, and modules that can be imported and used in Python programs. As the code is already  writtern it is feasible to use and at a time millions of people use at once')"
   ]
  },
  {
   "cell_type": "markdown",
   "id": "db9be0d9-d020-4bea-a8ae-2c90e70951a9",
   "metadata": {},
   "source": [
    "2. What is the difference between Numpy array and List?"
   ]
  },
  {
   "cell_type": "raw",
   "id": "4cab7f4a-9fe4-43b6-ada3-a74e65d5fb2a",
   "metadata": {},
   "source": [
    "Ans :- 1.np array can only store 1 type data type at a time while list can store more one type of data type elements at a time,\n",
    "       2.math calculation in numpy is very fast as numpy is build on top of \"C/C++\" while calculations in list is pretty slow,\n",
    "        numpy is fast also beacuse of array data structure\n",
    "       3.numPy arrays are stored in contiguous blocks of memory, which makes them more efficient to access than Python lists.\n",
    "       4.numPy arrays provide a wide range of mathematical functions and operations for array manipulation, linear algebra, statistical operation,              while lists have a more general-purpose set of methods\n",
    "       "
   ]
  },
  {
   "cell_type": "markdown",
   "id": "ea14dded-bab8-41db-a43b-c4b6d73c203f",
   "metadata": {},
   "source": [
    "Find the shape, size and dimension of the following array?\n",
    "[[1, 2, 3, 4]\n",
    "[5, 6, 7, 8],\n",
    "[9, 10, 11, 12]]"
   ]
  },
  {
   "cell_type": "code",
   "execution_count": 4,
   "id": "2f9fe421-bb51-4bbb-b2b2-f1ee03927792",
   "metadata": {},
   "outputs": [
    {
     "data": {
      "text/plain": [
       "array([[ 1,  2,  3,  4],\n",
       "       [ 5,  6,  7,  8],\n",
       "       [ 9, 10, 11, 12]])"
      ]
     },
     "execution_count": 4,
     "metadata": {},
     "output_type": "execute_result"
    }
   ],
   "source": [
    "arr = np.array([[1,2,3,4],[5,6,7,8],[9,10,11,12]])\n",
    "arr"
   ]
  },
  {
   "cell_type": "code",
   "execution_count": 11,
   "id": "50cd857e-d10f-473d-bc5d-9efcc0747766",
   "metadata": {},
   "outputs": [
    {
     "name": "stdout",
     "output_type": "stream",
     "text": [
      "Shape of an array is: (3, 4)\n",
      "Size of an array is : 12\n",
      "Dimension of an array is : 2\n"
     ]
    }
   ],
   "source": [
    "print(f'Shape of an array is: {arr.shape}')\n",
    "print(f'Size of an array is : {arr.size}')\n",
    "print(f'Dimension of an array is : {arr.ndim}')"
   ]
  },
  {
   "cell_type": "markdown",
   "id": "1429afa8-9c6a-4b8a-a8f9-f320ac0430b1",
   "metadata": {},
   "source": [
    "Write python code to access the first row of the following array?\n",
    "[[1, 2, 3, 4]\n",
    "[5, 6, 7, 8],\n",
    "[9, 10, 11, 12]]"
   ]
  },
  {
   "cell_type": "code",
   "execution_count": 14,
   "id": "e9ddc447-7635-468b-8ba0-5b74f987a45a",
   "metadata": {},
   "outputs": [
    {
     "data": {
      "text/plain": [
       "array([[ 1,  2,  3,  4],\n",
       "       [ 5,  6,  7,  8],\n",
       "       [ 9, 10, 11, 12]])"
      ]
     },
     "execution_count": 14,
     "metadata": {},
     "output_type": "execute_result"
    }
   ],
   "source": [
    "arr = np.array([[1,2,3,4],[5,6,7,8],[9,10,11,12]])\n",
    "arr"
   ]
  },
  {
   "cell_type": "code",
   "execution_count": 15,
   "id": "c47f11b9-4df1-4bc2-ba3f-f0cc2e262a71",
   "metadata": {},
   "outputs": [
    {
     "name": "stdout",
     "output_type": "stream",
     "text": [
      "The first row of the array is [[1 2 3 4]]\n"
     ]
    }
   ],
   "source": [
    "print(f'The first row of the array is {arr[0:1]}')"
   ]
  },
  {
   "cell_type": "markdown",
   "id": "3e7d615f-ad4e-4438-9392-40d319500cd4",
   "metadata": {},
   "source": [
    "5. How do you access the element at the third row and fourth column from the given numpy array?\n",
    "[[1, 2, 3, 4]\n",
    "[5, 6, 7, 8],\n",
    "[9, 10, 11, 12]]"
   ]
  },
  {
   "cell_type": "code",
   "execution_count": 16,
   "id": "86a45091-e627-414c-bd43-81f116c398f7",
   "metadata": {},
   "outputs": [
    {
     "data": {
      "text/plain": [
       "array([[ 1,  2,  3,  4],\n",
       "       [ 5,  6,  7,  8],\n",
       "       [ 9, 10, 11, 12]])"
      ]
     },
     "execution_count": 16,
     "metadata": {},
     "output_type": "execute_result"
    }
   ],
   "source": [
    "arr = np.array([[1,2,3,4],[5,6,7,8],[9,10,11,12]])\n",
    "arr"
   ]
  },
  {
   "cell_type": "code",
   "execution_count": 29,
   "id": "7a3bbd79-f203-48f4-a594-495f3d29fbfd",
   "metadata": {},
   "outputs": [
    {
     "name": "stdout",
     "output_type": "stream",
     "text": [
      "The element at the third row and fourth column : [12]\n"
     ]
    }
   ],
   "source": [
    "print(f'The element at the third row and fourth column : {arr[2,3:]}')"
   ]
  },
  {
   "cell_type": "markdown",
   "id": "f1482c94-00eb-4be6-ab64-014032e2d788",
   "metadata": {},
   "source": [
    "6. Write code to extract all odd-indexed elements from the given numpy array?\n",
    "[[1, 2, 3, 4]\n",
    "[5, 6, 7, 8],\n",
    "[9, 10, 11, 12]]"
   ]
  },
  {
   "cell_type": "code",
   "execution_count": 30,
   "id": "67bcba39-c485-4de1-a65e-935ab69531fa",
   "metadata": {},
   "outputs": [
    {
     "data": {
      "text/plain": [
       "array([[ 1,  2,  3,  4],\n",
       "       [ 5,  6,  7,  8],\n",
       "       [ 9, 10, 11, 12]])"
      ]
     },
     "execution_count": 30,
     "metadata": {},
     "output_type": "execute_result"
    }
   ],
   "source": [
    "arr = np.array([[1,2,3,4],[5,6,7,8],[9,10,11,12]])\n",
    "arr"
   ]
  },
  {
   "cell_type": "markdown",
   "id": "0e524c83-ab41-43bd-9b13-e558131592fb",
   "metadata": {},
   "source": [
    "7. How can you generate a random 3x3 matrix with values between 0 and 1?"
   ]
  },
  {
   "cell_type": "code",
   "execution_count": 58,
   "id": "378bab75-f87d-4cc9-9f4a-c8045d54be51",
   "metadata": {},
   "outputs": [
    {
     "name": "stdout",
     "output_type": "stream",
     "text": [
      "[[1 1 1]\n",
      " [0 0 0]\n",
      " [0 1 0]]\n"
     ]
    }
   ],
   "source": [
    "mat = np.random.randint(2,size=(3,3))\n",
    "\n",
    "print(mat)"
   ]
  },
  {
   "cell_type": "markdown",
   "id": "192d3359-4329-4623-82a3-e1a118edde6b",
   "metadata": {},
   "source": [
    "9. Write code to increase the dimension of the following array?\n",
    "[[1, 2, 3, 4]\n",
    "[5, 6, 7, 8],\n",
    "[9, 10, 11, 12]]"
   ]
  },
  {
   "cell_type": "code",
   "execution_count": 60,
   "id": "dc76e70e-0cf9-46b4-bb95-394cd95d5631",
   "metadata": {},
   "outputs": [
    {
     "data": {
      "text/plain": [
       "2"
      ]
     },
     "execution_count": 60,
     "metadata": {},
     "output_type": "execute_result"
    }
   ],
   "source": [
    "arr = np.array([[1,2,3,4],[5,6,7,8],[9,10,11,12]])\n",
    "arr.ndim"
   ]
  },
  {
   "cell_type": "markdown",
   "id": "acea0e8b-6981-40b3-b2ea-35c9442aafff",
   "metadata": {},
   "source": [
    "10. How to transpose the following array in NumPy?\n",
    "[[1, 2, 3, 4]\n",
    "[5, 6, 7, 8],\n",
    "[9, 10, 11, 12]]"
   ]
  },
  {
   "cell_type": "code",
   "execution_count": 61,
   "id": "e8deeceb-4fea-4056-a270-36cff9855b75",
   "metadata": {},
   "outputs": [
    {
     "data": {
      "text/plain": [
       "array([[ 1,  2,  3,  4],\n",
       "       [ 5,  6,  7,  8],\n",
       "       [ 9, 10, 11, 12]])"
      ]
     },
     "execution_count": 61,
     "metadata": {},
     "output_type": "execute_result"
    }
   ],
   "source": [
    "arr = np.array([[1,2,3,4],[5,6,7,8],[9,10,11,12]])\n",
    "arr"
   ]
  },
  {
   "cell_type": "code",
   "execution_count": 68,
   "id": "44038755-76a1-48f0-a52e-0e685ac047e7",
   "metadata": {},
   "outputs": [
    {
     "name": "stdout",
     "output_type": "stream",
     "text": [
      "Transpose of the matrix is:\n"
     ]
    },
    {
     "data": {
      "text/plain": [
       "array([[ 1,  5,  9],\n",
       "       [ 2,  6, 10],\n",
       "       [ 3,  7, 11],\n",
       "       [ 4,  8, 12]])"
      ]
     },
     "execution_count": 68,
     "metadata": {},
     "output_type": "execute_result"
    }
   ],
   "source": [
    "print(f'Transpose of the matrix is:')\n",
    "arr.T"
   ]
  },
  {
   "cell_type": "markdown",
   "id": "750399ad-6ac8-4a61-973d-9030d3dbdd22",
   "metadata": {},
   "source": [
    "11. Consider the following matrix:\n",
    "Matrix A [[1, 2, 3, 4] [5, 6, 7, 8],[9, 10, 11, 12]]\n",
    "Matrix B [[1, 2, 3, 4] [5, 6, 7, 8],[9, 10, 11, 12]]\n",
    "\n",
    "Perform the following operation using Python1\n",
    "1. Index wiLe multiplicatio'\n",
    "2. Matix multiplication'\n",
    "3. Add both the matics\n",
    "4. Subtact matix B by A\n",
    "5. Divide Matix B by A"
   ]
  },
  {
   "cell_type": "code",
   "execution_count": 74,
   "id": "328283ae-550a-4016-bb76-8233a38e5c20",
   "metadata": {},
   "outputs": [],
   "source": [
    "A = np.array([[1,2,3,4],[5,6,7,8],[9,10,11,12]])\n",
    "B = np.array([[1,2,3,4],[5,6,7,8],[9,10,11,12]])"
   ]
  },
  {
   "cell_type": "code",
   "execution_count": 88,
   "id": "3718f26a-74e7-4709-878d-110a7cac5ab0",
   "metadata": {},
   "outputs": [
    {
     "name": "stdout",
     "output_type": "stream",
     "text": [
      "Index wise multiplication:\n",
      "[[  1   4   9  16]\n",
      " [ 25  36  49  64]\n",
      " [ 81 100 121 144]]\n"
     ]
    }
   ],
   "source": [
    "print('Index wise multiplication:')\n",
    "print(A * B)\n"
   ]
  },
  {
   "cell_type": "code",
   "execution_count": 85,
   "id": "4fbbda30-0b52-4c7c-85ac-3b48742f9f32",
   "metadata": {},
   "outputs": [
    {
     "name": "stdout",
     "output_type": "stream",
     "text": [
      "Matrix multiplication\n",
      "[[ 30  70 110]\n",
      " [ 70 174 278]\n",
      " [110 278 446]]\n"
     ]
    }
   ],
   "source": [
    "print('Matrix multiplication')\n",
    "print(np.dot(A, B.T))"
   ]
  },
  {
   "cell_type": "code",
   "execution_count": 86,
   "id": "14deda25-6577-4b7c-947d-5433a6f26a75",
   "metadata": {},
   "outputs": [
    {
     "name": "stdout",
     "output_type": "stream",
     "text": [
      "Addition of both matrix\n",
      "[[ 2  4  6  8]\n",
      " [10 12 14 16]\n",
      " [18 20 22 24]]\n"
     ]
    }
   ],
   "source": [
    "print('Addition of both matrix')\n",
    "print(A + B)"
   ]
  },
  {
   "cell_type": "code",
   "execution_count": 89,
   "id": "37c4762b-2655-4f64-b1aa-6b3acd8de02f",
   "metadata": {},
   "outputs": [
    {
     "name": "stdout",
     "output_type": "stream",
     "text": [
      "Sustraction of matrix:\n",
      "[[0 0 0 0]\n",
      " [0 0 0 0]\n",
      " [0 0 0 0]]\n"
     ]
    }
   ],
   "source": [
    "print('Sustraction of matrix:')\n",
    "print(B-A)"
   ]
  },
  {
   "cell_type": "code",
   "execution_count": 90,
   "id": "bc4ebc5f-ae36-4fd1-9b8f-acd1dd979629",
   "metadata": {},
   "outputs": [
    {
     "name": "stdout",
     "output_type": "stream",
     "text": [
      "Division of B by A:\n",
      "[[1. 1. 1. 1.]\n",
      " [1. 1. 1. 1.]\n",
      " [1. 1. 1. 1.]]\n"
     ]
    }
   ],
   "source": [
    "print('Division of B by A:')\n",
    "print(B/A)"
   ]
  },
  {
   "cell_type": "markdown",
   "id": "4b916536-90c6-4071-a444-7642460c8e2c",
   "metadata": {},
   "source": [
    "12. Which function in Numpy can be used to swap the byte order of an array?"
   ]
  },
  {
   "cell_type": "code",
   "execution_count": 119,
   "id": "2d5982af-d771-48b1-8207-815d2abb8272",
   "metadata": {},
   "outputs": [
    {
     "name": "stdout",
     "output_type": "stream",
     "text": [
      "['0x1', '0x2', '0x3', '0x4']\n",
      "[ 72057594037927936 144115188075855872 216172782113783808\n",
      " 288230376151711744]\n"
     ]
    },
    {
     "data": {
      "text/plain": [
       "['0x100000000000000',\n",
       " '0x200000000000000',\n",
       " '0x300000000000000',\n",
       " '0x400000000000000']"
      ]
     },
     "execution_count": 119,
     "metadata": {},
     "output_type": "execute_result"
    }
   ],
   "source": [
    "''' \"byteswap\" is a function used to swap the byte order.  for eg '''\n",
    "\n",
    "arr = np.array([1,2,3,4])\n",
    "print(list(map(hex, arr)))\n",
    "print(arr.byteswap(inplace = True))\n",
    "list(map(hex, arr))"
   ]
  },
  {
   "cell_type": "markdown",
   "id": "e4ff7904-c86b-4e76-8f40-c2bfab3de843",
   "metadata": {},
   "source": [
    "13. What is the significance of the np.linalg.inv function?"
   ]
  },
  {
   "cell_type": "code",
   "execution_count": 111,
   "id": "22a5fe38-0038-4dae-932d-cb08c568f456",
   "metadata": {},
   "outputs": [
    {
     "name": "stdout",
     "output_type": "stream",
     "text": [
      "[[1 2]\n",
      " [5 6]]\n",
      "Inverse of matrix A:\n",
      "[[-1.5   0.5 ]\n",
      " [ 1.25 -0.25]]\n"
     ]
    }
   ],
   "source": [
    "'''\"np.linalg.inv\" is a function in numpy library is used to find the inverse of the matrix. for eg'''\n",
    "A = np.array([[1,2],[5,6]])\n",
    "print(A)\n",
    "print('Inverse of matrix A:')\n",
    "print(np.linalg.inv(A))"
   ]
  },
  {
   "cell_type": "markdown",
   "id": "551230dd-e2e1-4aa4-a6e4-d0309282f7b8",
   "metadata": {},
   "source": [
    "14. What does the np.reshape function do, and how is it used?"
   ]
  },
  {
   "cell_type": "code",
   "execution_count": 112,
   "id": "2545f5cd-4208-4b3f-9afc-70436d4ede0f",
   "metadata": {},
   "outputs": [
    {
     "name": "stdout",
     "output_type": "stream",
     "text": [
      "Shape of matrix A :  (3, 4)\n",
      "After changing shape of matrix A :  (4, 3)\n"
     ]
    }
   ],
   "source": [
    "'''\"np.reshape\" is a function in numpy library used to change the shape the np array. for eg.'''\n",
    "\n",
    "A = np.array([[1,2,3,4],[5,6,7,8],[9,10,11,12]])\n",
    "print('Shape of matrix A : ',A.shape)\n",
    "B = A.reshape(4,3)\n",
    "print('After changing shape of matrix A : ',B.shape)"
   ]
  },
  {
   "cell_type": "markdown",
   "id": "087f205d-7a02-4f9a-acf6-7ec757de52b1",
   "metadata": {},
   "source": [
    "15. What is broadcasting in Numpy?"
   ]
  },
  {
   "cell_type": "markdown",
   "id": "79df4685-3de5-4915-b09c-af744c40eb36",
   "metadata": {},
   "source": [
    "Broadcasting is a powerful feature of NumPy that allows you to perform operations on arrays of different shapes. It works by automatically extending the smaller array to the shape of the larger array. This makes it possible to perform operations on arrays that would otherwise be incompatible."
   ]
  },
  {
   "cell_type": "code",
   "execution_count": null,
   "id": "6274b42a-0b00-4c21-bba8-8f12b0149db6",
   "metadata": {},
   "outputs": [],
   "source": []
  }
 ],
 "metadata": {
  "kernelspec": {
   "display_name": "Python 3 (ipykernel)",
   "language": "python",
   "name": "python3"
  },
  "language_info": {
   "codemirror_mode": {
    "name": "ipython",
    "version": 3
   },
   "file_extension": ".py",
   "mimetype": "text/x-python",
   "name": "python",
   "nbconvert_exporter": "python",
   "pygments_lexer": "ipython3",
   "version": "3.10.8"
  }
 },
 "nbformat": 4,
 "nbformat_minor": 5
}
