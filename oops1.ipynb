{
 "cells": [
  {
   "cell_type": "markdown",
   "id": "3c08e389-a6db-4e13-8abb-0138de3a7513",
   "metadata": {},
   "source": [
    "Problem 1: Bank Account Create a class representing a bank account with attributes like account number, account holder name, and balance. Implement methods to deposit and withdraw money from the account."
   ]
  },
  {
   "cell_type": "code",
   "execution_count": 1,
   "id": "c5327e59-f9be-4838-b700-2dd19286083b",
   "metadata": {},
   "outputs": [
    {
     "name": "stdout",
     "output_type": "stream",
     "text": [
      "Account Number: 123456789\n",
      "Account Holder: Rohit\n",
      "Balance: 0\n",
      "Deposited 1000 into account 123456789. New balance: 1000\n",
      "Withdrew 500 from account 123456789. New balance: 500\n",
      "Insufficient funds or invalid withdrawal amount.\n"
     ]
    }
   ],
   "source": [
    "class BankAccount:\n",
    "    def __init__(self, account_number, account_holder_name, balance=0):\n",
    "        self.account_number = account_number\n",
    "        self.account_holder_name = account_holder_name\n",
    "        self.balance = balance\n",
    "\n",
    "    def deposit(self, amount):\n",
    "        if amount > 0:\n",
    "            self.balance += amount\n",
    "            print(f\"Deposited {amount} into account {self.account_number}. New balance: {self.balance}\")\n",
    "        else:\n",
    "            print(\"Invalid deposit amount.\")\n",
    "\n",
    "    def withdraw(self, amount):\n",
    "        if 0 < amount <= self.balance:\n",
    "            self.balance -= amount\n",
    "            print(f\"Withdrew {amount} from account {self.account_number}. New balance: {self.balance}\")\n",
    "        else:\n",
    "            print(\"Insufficient funds or invalid withdrawal amount.\")\n",
    "\n",
    "    def __str__(self):\n",
    "        return f\"Account Number: {self.account_number}\\nAccount Holder: {self.account_holder_name}\\nBalance: {self.balance}\"\n",
    "\n",
    "\n",
    "account1 = BankAccount(\"123456789\", \"Rohit\")\n",
    "print(account1)\n",
    "\n",
    "account1.deposit(1000)\n",
    "account1.withdraw(500)\n",
    "account1.withdraw(600)\n"
   ]
  },
  {
   "cell_type": "markdown",
   "id": "a0350ffb-ae61-41c5-a1b3-d5c05422e83a",
   "metadata": {},
   "source": [
    " Employee Management Create a class representing an employee with attributes like employee ID, name, and salary. Implement methods to calculate the yearly bonus and display employee details."
   ]
  },
  {
   "cell_type": "code",
   "execution_count": 3,
   "id": "ea75cad0-fb9c-4fb5-8d74-bd7dee4a7abc",
   "metadata": {},
   "outputs": [
    {
     "name": "stdout",
     "output_type": "stream",
     "text": [
      "Employee ID: E123\n",
      "Name: Sakshi\n",
      "Salary: $50000.00\n",
      "Yearly Bonus: $5000.00\n"
     ]
    }
   ],
   "source": [
    "class Employee:\n",
    "    def __init__(self, employee_id, name, salary):\n",
    "        self.employee_id = employee_id\n",
    "        self.name = name\n",
    "        self.salary = salary\n",
    "\n",
    "    def calculate_yearly_bonus(self, bonus_percentage):\n",
    "        bonus_amount = (bonus_percentage / 100) * self.salary\n",
    "        return bonus_amount\n",
    "\n",
    "    def display_employee_details(self):\n",
    "        print(f\"Employee ID: {self.employee_id}\")\n",
    "        print(f\"Name: {self.name}\")\n",
    "        print(f\"Salary: ${self.salary:.2f}\")\n",
    "\n",
    "employee1 = Employee(\"E123\", \"Sakshi\", 50000)\n",
    "employee1.display_employee_details()\n",
    "\n",
    "bonus_percentage = 10  # 10% bonus\n",
    "yearly_bonus = employee1.calculate_yearly_bonus(bonus_percentage)\n",
    "print(f\"Yearly Bonus: ${yearly_bonus:.2f}\")\n"
   ]
  },
  {
   "cell_type": "markdown",
   "id": "ff1e1ffb-0eca-45ba-818f-6ac508bf7dd8",
   "metadata": {},
   "source": [
    "Problem 3: Vehicle Rental Create a class representing a vehicle rental system. Implement methods to rent a vehicle, return a vehicle, and display available vehicles."
   ]
  },
  {
   "cell_type": "code",
   "execution_count": 4,
   "id": "43723fe9-5ec9-46e7-a593-25bd4d7d9d00",
   "metadata": {},
   "outputs": [
    {
     "name": "stdout",
     "output_type": "stream",
     "text": [
      "Sorry, Registration Number: ABC123, Model: Toyota Camry is not available for rent.\n",
      "No vehicles available for rent.\n",
      "Vehicle Registration Number: ABC123, Model: Toyota Camry returned successfully.\n",
      "Sorry, Registration Number: XYZ789, Model: Honda Civic is not available for rent.\n",
      "Available Vehicles:\n",
      "Registration Number: ABC123, Model: Toyota Camry\n"
     ]
    }
   ],
   "source": [
    "class VehicleRentalSystem:\n",
    "    def __init__(self):\n",
    "        self.available_vehicles = []\n",
    "\n",
    "    def rent_vehicle(self, vehicle):\n",
    "        if vehicle in self.available_vehicles:\n",
    "            self.available_vehicles.remove(vehicle)\n",
    "            print(f\"Vehicle {vehicle} rented successfully.\")\n",
    "        else:\n",
    "            print(f\"Sorry, {vehicle} is not available for rent.\")\n",
    "\n",
    "    def return_vehicle(self, vehicle):\n",
    "        self.available_vehicles.append(vehicle)\n",
    "        print(f\"Vehicle {vehicle} returned successfully.\")\n",
    "\n",
    "    def display_available_vehicles(self):\n",
    "        if self.available_vehicles:\n",
    "            print(\"Available Vehicles:\")\n",
    "            for vehicle in self.available_vehicles:\n",
    "                print(vehicle)\n",
    "        else:\n",
    "            print(\"No vehicles available for rent.\")\n",
    "\n",
    "# Example usage\n",
    "class Vehicle:\n",
    "    def __init__(self, registration_number, model):\n",
    "        self.registration_number = registration_number\n",
    "        self.model = model\n",
    "\n",
    "    def __str__(self):\n",
    "        return f\"Registration Number: {self.registration_number}, Model: {self.model}\"\n",
    "\n",
    "rental_system = VehicleRentalSystem()\n",
    "\n",
    "vehicle1 = Vehicle(\"ABC123\", \"Toyota Camry\")\n",
    "vehicle2 = Vehicle(\"XYZ789\", \"Honda Civic\")\n",
    "\n",
    "rental_system.rent_vehicle(vehicle1)\n",
    "rental_system.display_available_vehicles()\n",
    "\n",
    "rental_system.return_vehicle(vehicle1)\n",
    "rental_system.rent_vehicle(vehicle2)\n",
    "rental_system.display_available_vehicles()\n"
   ]
  },
  {
   "cell_type": "markdown",
   "id": "62831ea8-ca1f-40e5-a77d-ba567bc880be",
   "metadata": {},
   "source": [
    "Library Catalog Create classes representing a library and a book. Implement methods to add books to the library, borrow books, and display available books."
   ]
  },
  {
   "cell_type": "code",
   "execution_count": 6,
   "id": "3c638e01-2799-44f6-8a74-c184bc7e257f",
   "metadata": {},
   "outputs": [
    {
     "name": "stdout",
     "output_type": "stream",
     "text": [
      "Book 'Python Programming' added to the library.\n",
      "Book 'Data Science Handbook' added to the library.\n",
      "Book 'Python Programming' borrowed successfully.\n",
      "Book 'Data Science Handbook' borrowed successfully.\n",
      "No books available in the library.\n"
     ]
    }
   ],
   "source": [
    "class Book:\n",
    "    def __init__(self, title, author, published_year):\n",
    "        self.title = title\n",
    "        self.author = author\n",
    "        self.published_year = published_year\n",
    "        self.available = True\n",
    "\n",
    "    def __str__(self):\n",
    "        return f\"Title: {self.title}, Author: {self.author}, Published Year: {self.published_year}, Available: {self.available}\"\n",
    "\n",
    "class Library:\n",
    "    def __init__(self):\n",
    "        self.catalog = []\n",
    "\n",
    "    def add_book(self, book):\n",
    "        self.catalog.append(book)\n",
    "        print(f\"Book '{book.title}' added to the library.\")\n",
    "\n",
    "    def borrow_book(self, title):\n",
    "        for book in self.catalog:\n",
    "            if book.title == title and book.available:\n",
    "                book.available = False\n",
    "                print(f\"Book '{title}' borrowed successfully.\")\n",
    "                return\n",
    "        print(f\"Sorry, '{title}' is not available for borrowing.\")\n",
    "\n",
    "    def display_available_books(self):\n",
    "        available_books = [book for book in self.catalog if book.available]\n",
    "        if available_books:\n",
    "            print(\"Available Books:\")\n",
    "            for book in available_books:\n",
    "                print(book)\n",
    "        else:\n",
    "            print(\"No books available in the library.\")\n",
    "\n",
    "# Example usage\n",
    "library = Library()\n",
    "\n",
    "book1 = Book(\"Python Programming\", \"Ruturaj\", 2020)\n",
    "book2 = Book(\"Data Science Handbook\", \"Rajesh\", 2019)\n",
    "\n",
    "library.add_book(book1)\n",
    "library.add_book(book2)\n",
    "\n",
    "library.borrow_book(\"Python Programming\")\n",
    "library.borrow_book(\"Data Science Handbook\")\n",
    "\n",
    "library.display_available_books()\n"
   ]
  },
  {
   "cell_type": "markdown",
   "id": "12f03a08-4222-4a54-bdf9-162b2136b827",
   "metadata": {},
   "source": [
    "Problem 5: Product Inventory Create classes representing a product and an inventory system. Implement methods to add products to the inventory, update product quantity, and display available products."
   ]
  },
  {
   "cell_type": "code",
   "execution_count": 7,
   "id": "08ce04e3-67ae-4200-85aa-32850e9f04bd",
   "metadata": {},
   "outputs": [
    {
     "name": "stdout",
     "output_type": "stream",
     "text": [
      "Product 'Laptop' added to inventory.\n",
      "Product 'Smartphone' added to inventory.\n",
      "Quantity of product 'Laptop' updated successfully.\n",
      "Quantity of product 'Smartphone' updated successfully.\n",
      "Available Products:\n",
      "Product: Laptop, Price: $1000.00, Quantity: 5\n",
      "Product: Smartphone, Price: $800.00, Quantity: 30\n"
     ]
    }
   ],
   "source": [
    "class Product:\n",
    "    def __init__(self, name, price, quantity):\n",
    "        self.name = name\n",
    "        self.price = price\n",
    "        self.quantity = quantity\n",
    "\n",
    "    def __str__(self):\n",
    "        return f\"Product: {self.name}, Price: ${self.price:.2f}, Quantity: {self.quantity}\"\n",
    "\n",
    "class Inventory:\n",
    "    def __init__(self):\n",
    "        self.products = []\n",
    "\n",
    "    def add_product(self, product):\n",
    "        self.products.append(product)\n",
    "        print(f\"Product '{product.name}' added to inventory.\")\n",
    "\n",
    "    def update_quantity(self, product_name, quantity_change):\n",
    "        for product in self.products:\n",
    "            if product.name == product_name:\n",
    "                product.quantity += quantity_change\n",
    "                print(f\"Quantity of product '{product_name}' updated successfully.\")\n",
    "                return\n",
    "        print(f\"Product '{product_name}' not found in inventory.\")\n",
    "\n",
    "    def display_available_products(self):\n",
    "        if self.products:\n",
    "            print(\"Available Products:\")\n",
    "            for product in self.products:\n",
    "                print(product)\n",
    "        else:\n",
    "            print(\"No products available in inventory.\")\n",
    "\n",
    "inventory = Inventory()\n",
    "\n",
    "product1 = Product(\"Laptop\", 1000, 10)\n",
    "product2 = Product(\"Smartphone\", 800, 20)\n",
    "\n",
    "inventory.add_product(product1)\n",
    "inventory.add_product(product2)\n",
    "\n",
    "inventory.update_quantity(\"Laptop\", -5)\n",
    "inventory.update_quantity(\"Smartphone\", 10)\n",
    "\n",
    "inventory.display_available_products()"
   ]
  },
  {
   "cell_type": "markdown",
   "id": "74e68507-24b5-464a-97c2-5936b893df01",
   "metadata": {},
   "source": [
    "Problem 6: Shape Calculation Create a class representing a shape with attributes like length, width, and height. Implement methods to calculate the area and perimeter of the shape."
   ]
  },
  {
   "cell_type": "code",
   "execution_count": 1,
   "id": "e5f8e936-685b-4723-8c0d-c3e0405803f8",
   "metadata": {},
   "outputs": [
    {
     "name": "stdout",
     "output_type": "stream",
     "text": [
      "Rectangle:\n",
      "Area: 20\n",
      "Perimeter: 18\n",
      "\n",
      "Triangle:\n",
      "Area: 6.0\n",
      "Perimeter: 12\n"
     ]
    }
   ],
   "source": [
    "class Shape:\n",
    "    def __init__(self, length, width, height):\n",
    "        self.length = length\n",
    "        self.width = width\n",
    "        self.height = height\n",
    "\n",
    "    def calculate_area(self):\n",
    "        raise NotImplementedError(\"Subclasses must implement calculate_area method\")\n",
    "\n",
    "    def calculate_perimeter(self):\n",
    "        raise NotImplementedError(\"Subclasses must implement calculate_perimeter method\")\n",
    "\n",
    "class Rectangle(Shape):\n",
    "    def calculate_area(self):\n",
    "        return self.length * self.width\n",
    "\n",
    "    def calculate_perimeter(self):\n",
    "        return 2 * (self.length + self.width)\n",
    "\n",
    "class Triangle(Shape):\n",
    "    def calculate_area(self):\n",
    "        s = (self.length + self.width + self.height) / 2\n",
    "        return (s * (s - self.length) * (s - self.width) * (s - self.height)) ** 0.5\n",
    "\n",
    "    def calculate_perimeter(self):\n",
    "        return self.length + self.width + self.height\n",
    "\n",
    "rectangle = Rectangle(5, 4, None)\n",
    "print(\"Rectangle:\")\n",
    "print(\"Area:\", rectangle.calculate_area())\n",
    "print(\"Perimeter:\", rectangle.calculate_perimeter())\n",
    "\n",
    "triangle = Triangle(3, 4, 5)\n",
    "print(\"\\nTriangle:\")\n",
    "print(\"Area:\", triangle.calculate_area())\n",
    "print(\"Perimeter:\", triangle.calculate_perimeter())\n"
   ]
  },
  {
   "cell_type": "markdown",
   "id": "35264142-8f75-4ba7-af0e-3ee6374d3770",
   "metadata": {},
   "source": [
    "Student Management Create a class representing a student with attributes like student ID, name, and grades. Implement methods to calculate the average grade and display student details."
   ]
  },
  {
   "cell_type": "code",
   "execution_count": 3,
   "id": "5888d134-3a4a-450e-ab96-6bc59baf751c",
   "metadata": {},
   "outputs": [
    {
     "name": "stdout",
     "output_type": "stream",
     "text": [
      "Student ID: S123\n",
      "Name: Ram\n",
      "Grades: 85, 90, 92\n",
      "Average Grade: 89.0\n",
      "\n",
      "Student ID: S456\n",
      "Name: Sham\n",
      "No grades available for this student.\n"
     ]
    }
   ],
   "source": [
    "class Student:\n",
    "    def __init__(self, student_id, name, grades):\n",
    "        self.student_id = student_id\n",
    "        self.name = name\n",
    "        self.grades = grades\n",
    "\n",
    "    def calculate_average_grade(self):\n",
    "        if self.grades:\n",
    "            return sum(self.grades) / len(self.grades)\n",
    "        else:\n",
    "            return 0\n",
    "\n",
    "    def display_student_details(self):\n",
    "        print(\"Student ID:\", self.student_id)\n",
    "        print(\"Name:\", self.name)\n",
    "        if self.grades:\n",
    "            print(\"Grades:\", \", \".join(map(str, self.grades)))\n",
    "            print(\"Average Grade:\", self.calculate_average_grade())\n",
    "        else:\n",
    "            print(\"No grades available for this student.\")\n",
    "\n",
    "# Example usage\n",
    "student1 = Student(\"S123\", \"Ram\", [85, 90, 92])\n",
    "student1.display_student_details()\n",
    "\n",
    "print()\n",
    "\n",
    "student2 = Student(\"S456\", \"Sham\", [])\n",
    "student2.display_student_details()\n"
   ]
  },
  {
   "cell_type": "markdown",
   "id": "4055d4c4-65bd-4c5d-85bb-d86538468755",
   "metadata": {},
   "source": [
    "Problem 8: Email Management Create a class representing an email with attributes like sender, recipient, and subject. Implement methods to send an email and display email details."
   ]
  },
  {
   "cell_type": "code",
   "execution_count": 4,
   "id": "da7f4a02-21bb-417b-832f-589322f433a1",
   "metadata": {},
   "outputs": [
    {
     "name": "stdout",
     "output_type": "stream",
     "text": [
      "Sender: sender@example.com\n",
      "Recipient: recipient@example.com\n",
      "Subject: Hello\n",
      "Body: This is a test email.\n",
      "Email sent from sender@example.com to recipient@example.com\n"
     ]
    }
   ],
   "source": [
    "class Email:\n",
    "    def __init__(self, sender, recipient, subject, body):\n",
    "        self.sender = sender\n",
    "        self.recipient = recipient\n",
    "        self.subject = subject\n",
    "        self.body = body\n",
    "\n",
    "    def send_email(self):\n",
    "        print(f\"Email sent from {self.sender} to {self.recipient}\")\n",
    "\n",
    "    def display_email_details(self):\n",
    "        print(\"Sender:\", self.sender)\n",
    "        print(\"Recipient:\", self.recipient)\n",
    "        print(\"Subject:\", self.subject)\n",
    "        print(\"Body:\", self.body)\n",
    "\n",
    "email = Email(\"sender@example.com\", \"recipient@example.com\", \"Hello\", \"This is a test email.\")\n",
    "email.display_email_details()\n",
    "email.send_email()\n"
   ]
  },
  {
   "cell_type": "markdown",
   "id": "e50f7c53-c96b-4f8e-87b6-ee03ca764c12",
   "metadata": {},
   "source": [
    "Problem 9: Social Media Profile Create a class representing a social media profile with attributes like username and posts. Implement methods to add posts, display posts, and search for posts by keyword."
   ]
  },
  {
   "cell_type": "code",
   "execution_count": 5,
   "id": "21bad142-5363-4939-b0ff-b6fbcb86889a",
   "metadata": {},
   "outputs": [
    {
     "name": "stdout",
     "output_type": "stream",
     "text": [
      "Post added successfully.\n",
      "Post added successfully.\n",
      "Post added successfully.\n",
      "Posts by user123:\n",
      "Post 1: Hello world!\n",
      "Post 2: This is a test post.\n",
      "Post 3: Python programming is fun.\n",
      "\n",
      "Posts containing keyword 'python':\n",
      "Post 1: Python programming is fun.\n"
     ]
    }
   ],
   "source": [
    "class SocialMediaProfile:\n",
    "    def __init__(self, username):\n",
    "        self.username = username\n",
    "        self.posts = []\n",
    "\n",
    "    def add_post(self, post):\n",
    "        self.posts.append(post)\n",
    "        print(\"Post added successfully.\")\n",
    "\n",
    "    def display_posts(self):\n",
    "        if self.posts:\n",
    "            print(f\"Posts by {self.username}:\")\n",
    "            for i, post in enumerate(self.posts, start=1):\n",
    "                print(f\"Post {i}: {post}\")\n",
    "        else:\n",
    "            print(\"No posts available.\")\n",
    "\n",
    "    def search_posts_by_keyword(self, keyword):\n",
    "        found_posts = [post for post in self.posts if keyword.lower() in post.lower()]\n",
    "        if found_posts:\n",
    "            print(f\"Posts containing keyword '{keyword}':\")\n",
    "            for i, post in enumerate(found_posts, start=1):\n",
    "                print(f\"Post {i}: {post}\")\n",
    "        else:\n",
    "            print(f\"No posts found containing keyword '{keyword}'.\")\n",
    "\n",
    "profile = SocialMediaProfile(\"user123\")\n",
    "\n",
    "profile.add_post(\"Hello world!\")\n",
    "profile.add_post(\"This is a test post.\")\n",
    "profile.add_post(\"Python programming is fun.\")\n",
    "\n",
    "profile.display_posts()\n",
    "\n",
    "print()\n",
    "\n",
    "profile.search_posts_by_keyword(\"python\")\n"
   ]
  },
  {
   "cell_type": "markdown",
   "id": "2909d563-896e-4e5f-98cd-fb3a3ed3e862",
   "metadata": {},
   "source": [
    "Problem 10: ToDo List Create a class representing a ToDo list with attributes like tasks and due dates. Implement methods to add tasks, mark tasks as completed, and display pending tasks."
   ]
  },
  {
   "cell_type": "code",
   "execution_count": 6,
   "id": "2fa3fbdd-4f8a-4702-acb3-c9c7dab1a0cf",
   "metadata": {},
   "outputs": [
    {
     "name": "stdout",
     "output_type": "stream",
     "text": [
      "Task added successfully.\n",
      "Task added successfully.\n",
      "Task added successfully.\n",
      "Pending Tasks:\n",
      "Task: Complete assignment, Due Date: 2024-05-15\n",
      "Task: Buy groceries, Due Date: 2024-05-10\n",
      "Task: Call client, Due Date: 2024-05-12\n",
      "\n",
      "Task 'Buy groceries' marked as completed.\n",
      "Task 'Send report' not found in the ToDo list.\n",
      "Pending Tasks:\n",
      "Task: Complete assignment, Due Date: 2024-05-15\n",
      "Task: Call client, Due Date: 2024-05-12\n"
     ]
    }
   ],
   "source": [
    "class ToDoList:\n",
    "    def __init__(self):\n",
    "        self.tasks = {}\n",
    "\n",
    "    def add_task(self, task, due_date):\n",
    "        self.tasks[task] = due_date\n",
    "        print(\"Task added successfully.\")\n",
    "\n",
    "    def mark_task_completed(self, task):\n",
    "        if task in self.tasks:\n",
    "            del self.tasks[task]\n",
    "            print(f\"Task '{task}' marked as completed.\")\n",
    "        else:\n",
    "            print(f\"Task '{task}' not found in the ToDo list.\")\n",
    "\n",
    "    def display_pending_tasks(self):\n",
    "        if self.tasks:\n",
    "            print(\"Pending Tasks:\")\n",
    "            for task, due_date in self.tasks.items():\n",
    "                print(f\"Task: {task}, Due Date: {due_date}\")\n",
    "        else:\n",
    "            print(\"No pending tasks in the ToDo list.\")\n",
    "\n",
    "# Example usage\n",
    "todo_list = ToDoList()\n",
    "\n",
    "todo_list.add_task(\"Complete assignment\", \"2024-05-15\")\n",
    "todo_list.add_task(\"Buy groceries\", \"2024-05-10\")\n",
    "todo_list.add_task(\"Call client\", \"2024-05-12\")\n",
    "\n",
    "todo_list.display_pending_tasks()\n",
    "\n",
    "print()\n",
    "\n",
    "todo_list.mark_task_completed(\"Buy groceries\")\n",
    "todo_list.mark_task_completed(\"Send report\")\n",
    "\n",
    "todo_list.display_pending_tasks()\n"
   ]
  },
  {
   "cell_type": "markdown",
   "id": "9c48e4f4-68a3-4baa-acbd-4a851bd85255",
   "metadata": {},
   "source": [
    "# Thank You!"
   ]
  }
 ],
 "metadata": {
  "kernelspec": {
   "display_name": "Python 3 (ipykernel)",
   "language": "python",
   "name": "python3"
  },
  "language_info": {
   "codemirror_mode": {
    "name": "ipython",
    "version": 3
   },
   "file_extension": ".py",
   "mimetype": "text/x-python",
   "name": "python",
   "nbconvert_exporter": "python",
   "pygments_lexer": "ipython3",
   "version": "3.10.8"
  }
 },
 "nbformat": 4,
 "nbformat_minor": 5
}
