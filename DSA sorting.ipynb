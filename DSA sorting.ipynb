{
 "cells": [
  {
   "cell_type": "markdown",
   "id": "dd204b93-e810-4a82-912c-e24787455c05",
   "metadata": {},
   "source": [
    "# Sorting Assignment"
   ]
  },
  {
   "cell_type": "markdown",
   "id": "55420378-8269-4e43-b577-ec4872e5e01f",
   "metadata": {},
   "source": [
    "Problem 1.Given an array of n numbers, give an algorithm which gives the element appearing maximum\n",
    "number of times?"
   ]
  },
  {
   "cell_type": "code",
   "execution_count": 1,
   "id": "51bdd7ea-fc02-4944-b3b2-0e8652ea7275",
   "metadata": {},
   "outputs": [
    {
     "name": "stdout",
     "output_type": "stream",
     "text": [
      "Element appearing maximum number of times: 2\n"
     ]
    }
   ],
   "source": [
    "def max_occurrence(arr):\n",
    "    # Initialize an empty dictionary to store element counts\n",
    "    count_dict = {}\n",
    "    \n",
    "    # Iterate through the array and count occurrences of each element\n",
    "    for num in arr:\n",
    "        if num in count_dict:\n",
    "            count_dict[num] += 1\n",
    "        else:\n",
    "            count_dict[num] = 1\n",
    "    max_count = max(count_dict.values())\n",
    "    max_element = max(count_dict, key=count_dict.get)\n",
    "    \n",
    "    return max_element\n",
    "\n",
    "# Test the function\n",
    "arr = [1, 2, 3, 4, 2, 2, 3, 2, 5, 5, 5]\n",
    "print(\"Element appearing maximum number of times:\", max_occurrence(arr))"
   ]
  },
  {
   "cell_type": "markdown",
   "id": "2de5cc06-d218-4fdf-8ec9-e226f1b89010",
   "metadata": {},
   "source": [
    "Problem 2 : We are given a list of n-1 integers and these integers are in the range of 1 to n . There are no\n",
    "duplicates in the list. One of the integers is missing in the list. Give an algorithm to find that element Ex:\n",
    "[1,2,4,6,3,7,8] 5 is the missing num."
   ]
  },
  {
   "cell_type": "code",
   "execution_count": null,
   "id": "7630f7b1-4409-4be3-b206-3495a950c12e",
   "metadata": {},
   "outputs": [
    {
     "name": "stdout",
     "output_type": "stream",
     "text": [
      "Missing number: 5\n"
     ]
    }
   ],
   "source": [
    "def find_missing_number(arr, n):\n",
    "    # Calculate the sum of all numbers from 1 to n\n",
    "    sum_all = n * (n + 1) // 2\n",
    "    sum_arr = sum(arr)\n",
    "    missing_number = sum_all - sum_arr\n",
    "    \n",
    "    return missing_number\n",
    "\n",
    "# Test the function\n",
    "arr = [1, 2, 4, 6, 3, 7, 8]\n",
    "n = len(arr) + 1\n",
    "print(\"Missing number:\", find_missing_number(arr, n))\n"
   ]
  },
  {
   "cell_type": "markdown",
   "id": "b4a8c334-12d1-402d-baf3-4ee175fba96d",
   "metadata": {},
   "source": [
    "Problem 3 : Given an array of n positive numbers. All numbers occurs even number of times except 1 which\n",
    "occurs odd number of times. Find that number in O(n) time and O(1) space. Ex: [1,2,3,2,3,1,3]. 3 is repeats odd\n",
    "times."
   ]
  },
  {
   "cell_type": "code",
   "execution_count": 4,
   "id": "892cdcc5-baaa-4290-80a3-66a7eb6e5f08",
   "metadata": {},
   "outputs": [
    {
     "name": "stdout",
     "output_type": "stream",
     "text": [
      "Number occurring odd number of times: 3\n"
     ]
    }
   ],
   "source": [
    "def find_odd_occurrence(arr):\n",
    "    result = 0\n",
    "    \n",
    "    for num in arr:\n",
    "        result ^= num\n",
    "    \n",
    "    return result\n",
    "\n",
    "# Test the function\n",
    "arr = [1, 2, 3, 2, 3, 1, 3]\n",
    "print(\"Number occurring odd number of times:\", find_odd_occurrence(arr))"
   ]
  },
  {
   "cell_type": "markdown",
   "id": "6972d319-e680-4f92-b4d2-b13f1be361c0",
   "metadata": {},
   "source": [
    "Problem 4 : Given an array of n elements. Find two elements in the array such that their sum is equal to given\n",
    "element K."
   ]
  },
  {
   "cell_type": "code",
   "execution_count": 5,
   "id": "5fc5d26f-4bfc-4535-aedc-47b3e4c4a98d",
   "metadata": {},
   "outputs": [
    {
     "name": "stdout",
     "output_type": "stream",
     "text": [
      "Pair with sum 10 : None\n"
     ]
    }
   ],
   "source": [
    "def find_pair_with_sum(arr, K):\n",
    "    # Initialize an empty set to store elements seen so far\n",
    "    seen = set()\n",
    "    \n",
    "    # Iterate through the array\n",
    "    for num in arr:\n",
    "        if K - num in seen:\n",
    "            return num, K - num\n",
    "            seen.add(num)\n",
    "    \n",
    "    return None\n",
    "\n",
    "# Test the function\n",
    "arr = [1, 2, 4, 6, 3, 7, 8]\n",
    "K = 10\n",
    "print(\"Pair with sum\", K, \":\", find_pair_with_sum(arr, K))\n"
   ]
  },
  {
   "cell_type": "markdown",
   "id": "f9f4a90a-a86e-4430-b08c-f058e4d912d1",
   "metadata": {},
   "source": [
    "Problem 5 : Given an array of both positive and negative numbers, find two numbers such that their sum is\n",
    "closest to 0. Ex: [ 1 ,60 ,-10, 70, -80,85]. Ans : -80,85."
   ]
  },
  {
   "cell_type": "code",
   "execution_count": 6,
   "id": "13f9e778-29bc-40d9-85ee-521d7a873e09",
   "metadata": {},
   "outputs": [
    {
     "name": "stdout",
     "output_type": "stream",
     "text": [
      "Pair with sum closest to 0: (-80, 85)\n"
     ]
    }
   ],
   "source": [
    "def closest_to_zero(arr):\n",
    "    # Sort the array\n",
    "    arr.sort()\n",
    "    \n",
    "    # Initialize pointers\n",
    "    left = 0\n",
    "    right = len(arr) - 1\n",
    "    \n",
    "    closest_sum = float('inf')\n",
    "    closest_pair = None\n",
    "    \n",
    "    while left < right:\n",
    "        curr_sum = arr[left] + arr[right]\n",
    "        \n",
    "        if abs(curr_sum) < abs(closest_sum):\n",
    "            closest_sum = curr_sum\n",
    "            closest_pair = (arr[left], arr[right])\n",
    "        \n",
    "        if curr_sum > 0:\n",
    "            right -= 1\n",
    "        else:\n",
    "            left += 1\n",
    "    \n",
    "    return closest_pair\n",
    "\n",
    "arr = [1, 60, -10, 70, -80, 85]\n",
    "print(\"Pair with sum closest to 0:\", closest_to_zero(arr))\n"
   ]
  },
  {
   "cell_type": "markdown",
   "id": "3712916c-eefd-4387-b61d-cbae222bca27",
   "metadata": {},
   "source": [
    "Problem 6 : Given an array of n elements . Find three elements such that their sum is equal to the given\n",
    "number."
   ]
  },
  {
   "cell_type": "code",
   "execution_count": 7,
   "id": "6a738b7f-d708-47f1-b72c-63463c8aa133",
   "metadata": {},
   "outputs": [
    {
     "name": "stdout",
     "output_type": "stream",
     "text": [
      "Three elements with sum 22 : (4, 8, 10)\n"
     ]
    }
   ],
   "source": [
    "def three_sum(arr, target):\n",
    "    # Sort the array\n",
    "    arr.sort()\n",
    "    n = len(arr)\n",
    "    \n",
    "    for i in range(n - 2):\n",
    "        left = i + 1\n",
    "        right = n - 1\n",
    "        \n",
    "        while left < right:\n",
    "            curr_sum = arr[i] + arr[left] + arr[right]\n",
    "            if curr_sum == target:\n",
    "                return arr[i], arr[left], arr[right]\n",
    "            elif curr_sum < target:\n",
    "                left += 1\n",
    "            else:\n",
    "                right -= 1\n",
    "    \n",
    "    return None\n",
    "\n",
    "arr = [1, 4, 45, 6, 10, 8]\n",
    "target = 22\n",
    "print(\"Three elements with sum\", target, \":\", three_sum(arr, target))\n"
   ]
  },
  {
   "cell_type": "markdown",
   "id": "065a7fe4-481a-4f1b-bc34-7b7ecc0589bd",
   "metadata": {},
   "source": [
    "Problem 7 : Given an array of n elements . Find three elements i, j, k in the array such that\n",
    "i * i + j * j = k*k."
   ]
  },
  {
   "cell_type": "code",
   "execution_count": 8,
   "id": "c7fb166b-1f2f-44d8-9d69-772e31972dc5",
   "metadata": {},
   "outputs": [
    {
     "name": "stdout",
     "output_type": "stream",
     "text": [
      "Pythagorean triplet: (1, 4, 6)\n"
     ]
    }
   ],
   "source": [
    "def find_pythagorean_triplet(arr):\n",
    "    squares = [x * x for x in arr]\n",
    "    \n",
    "    squares.sort()\n",
    "    \n",
    "    n = len(squares)\n",
    "    \n",
    "    for k in range(n - 1, -1, -1):\n",
    "        left = 0\n",
    "        right = k - 1\n",
    "        target = squares[k]\n",
    "        \n",
    "        while left < right:\n",
    "            curr_sum = squares[left] + squares[right]\n",
    "            if curr_sum == target:\n",
    "                return arr[left], arr[right], arr[k]\n",
    "            elif curr_sum < target:\n",
    "                left += 1\n",
    "            else:\n",
    "                right -= 1\n",
    "    \n",
    "    return None\n",
    "\n",
    "# Test the function\n",
    "arr = [3, 1, 4, 6, 5]\n",
    "print(\"Pythagorean triplet:\", find_pythagorean_triplet(arr))\n"
   ]
  },
  {
   "cell_type": "markdown",
   "id": "24e57746-2df4-4958-8da5-38d36c9e7201",
   "metadata": {},
   "source": [
    "Problem 8 : An element is a majority if it appears more than n/2 times. Give an algorithm takes an array of n\n",
    "element as argument and identifies a majority (if it exists)."
   ]
  },
  {
   "cell_type": "code",
   "execution_count": 9,
   "id": "fdcd27b4-fd40-4da2-a6c8-e94a094db587",
   "metadata": {},
   "outputs": [
    {
     "name": "stdout",
     "output_type": "stream",
     "text": [
      "Majority element: 4\n"
     ]
    }
   ],
   "source": [
    "def find_majority_element(arr):\n",
    "    # Initialize variables to store candidate and count\n",
    "    candidate = None\n",
    "    count = 0\n",
    "    \n",
    "    # Iterate through the array\n",
    "    for num in arr:\n",
    "        if count == 0:\n",
    "            candidate = num\n",
    "            count = 1\n",
    "        elif num == candidate:\n",
    "            count += 1\n",
    "        else:\n",
    "            count -= 1\n",
    "    \n",
    "    count = 0\n",
    "    for num in arr:\n",
    "        if num == candidate:\n",
    "            count += 1\n",
    "    \n",
    "    if count > len(arr) // 2:\n",
    "        return candidate\n",
    "    else:\n",
    "        return None\n",
    "\n",
    "# Test the function\n",
    "arr = [3, 3, 4, 2, 4, 4, 2, 4, 4]\n",
    "print(\"Majority element:\", find_majority_element(arr))"
   ]
  },
  {
   "cell_type": "markdown",
   "id": "232b7c63-b145-4660-b1cc-8a787b4a37b4",
   "metadata": {},
   "source": [
    "Problem 9 : Given n × n matrix, and in each row all 1’s are followed by 0’s. Find the row with the maximum\n",
    "number of 0’s."
   ]
  },
  {
   "cell_type": "code",
   "execution_count": 11,
   "id": "645424b0-0211-4650-84f4-b4ca8e202be5",
   "metadata": {},
   "outputs": [
    {
     "name": "stdout",
     "output_type": "stream",
     "text": [
      "Row with maximum zeros: 2\n"
     ]
    }
   ],
   "source": [
    "def find_row_with_max_zeros(matrix):\n",
    "    max_zeros_row = -1\n",
    "    max_zeros_count = 0\n",
    "    \n",
    "    for i, row in enumerate(matrix):\n",
    "        left = 0\n",
    "        right = len(row) - 1\n",
    "        zero_index = -1\n",
    "        \n",
    "        while left <= right:\n",
    "            mid = (left + right) // 2\n",
    "            if row[mid] == 0:\n",
    "                zero_index = mid\n",
    "                right = mid - 1\n",
    "            else:\n",
    "                left = mid + 1\n",
    "        \n",
    "        zeros_count = len(row) - zero_index\n",
    "        \n",
    "        if zeros_count > max_zeros_count:\n",
    "            max_zeros_count = zeros_count\n",
    "            max_zeros_row = i\n",
    "    \n",
    "    return max_zeros_row\n",
    "\n",
    "# Test the function\n",
    "matrix = [\n",
    "    [1, 1, 1, 0, 0],\n",
    "    [1, 1, 0, 0, 0],\n",
    "    [1, 0, 0, 0, 0],\n",
    "    [1, 1, 1, 1, 0],\n",
    "    [1, 1, 1, 0, 0]\n",
    "]\n",
    "print(\"Row with maximum zeros:\", find_row_with_max_zeros(matrix))"
   ]
  },
  {
   "cell_type": "markdown",
   "id": "62508f7f-6198-46d2-92d0-ae9994632363",
   "metadata": {},
   "source": [
    "Problem 10 : Sort an array of 0’s, 1’s and 2’s [or R’s, G’s and B’s]: Given an array A[] consisting of 0’s, 1’s and\n",
    "2’s, give an algorithm for sorting A[].The algorithm should put all 0’s first, then all 1’s and finally all 2’s at the\n",
    "end. Example Input = {0,1,1,0,1,2,1,2,0,0,0,1}, Output = {0,0,0,0,0,1,1,1,1,1,2,2}"
   ]
  },
  {
   "cell_type": "code",
   "execution_count": 12,
   "id": "7099e81e-212a-42a3-a9ec-ad12e982111c",
   "metadata": {},
   "outputs": [
    {
     "name": "stdout",
     "output_type": "stream",
     "text": [
      "Sorted array: [0, 0, 0, 0, 0, 1, 1, 1, 1, 1, 2, 2]\n"
     ]
    }
   ],
   "source": [
    "def sort_colors(nums):\n",
    "    # Initialize pointers for the three sections: 0's, 1's, and 2's\n",
    "    low = 0  # Pointer for 0's section\n",
    "    mid = 0  # Pointer for 1's section\n",
    "    high = len(nums) - 1  # Pointer for 2's section\n",
    "    \n",
    "    while mid <= high:\n",
    "        if nums[mid] == 0:\n",
    "            nums[low], nums[mid] = nums[mid], nums[low]\n",
    "            low += 1\n",
    "            mid += 1\n",
    "        elif nums[mid] == 1:\n",
    "            # Move mid pointer forward\n",
    "            mid += 1\n",
    "        else:\n",
    "            nums[mid], nums[high] = nums[high], nums[mid]\n",
    "            high -= 1\n",
    "    \n",
    "    return nums\n",
    "\n",
    "# Test the function\n",
    "nums = [0, 1, 1, 0, 1, 2, 1, 2, 0, 0, 0, 1]\n",
    "print(\"Sorted array:\", sort_colors(nums))\n"
   ]
  },
  {
   "cell_type": "markdown",
   "id": "92089d67-5d53-48f0-9578-d36467cb982a",
   "metadata": {},
   "source": [
    "# Thank you !"
   ]
  }
 ],
 "metadata": {
  "kernelspec": {
   "display_name": "Python 3 (ipykernel)",
   "language": "python",
   "name": "python3"
  },
  "language_info": {
   "codemirror_mode": {
    "name": "ipython",
    "version": 3
   },
   "file_extension": ".py",
   "mimetype": "text/x-python",
   "name": "python",
   "nbconvert_exporter": "python",
   "pygments_lexer": "ipython3",
   "version": "3.10.8"
  }
 },
 "nbformat": 4,
 "nbformat_minor": 5
}
