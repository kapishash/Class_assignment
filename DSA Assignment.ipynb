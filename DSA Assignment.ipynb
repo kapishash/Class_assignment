{
 "cells": [
  {
   "cell_type": "markdown",
   "id": "0d1ff979-bd15-45f0-94bf-cc1c966ae900",
   "metadata": {},
   "source": [
    "# DSA Assignment"
   ]
  },
  {
   "cell_type": "markdown",
   "id": "cb38b9bb-d0ea-4f64-b8da-4bf4fc13acd4",
   "metadata": {},
   "source": [
    "Reverse a singly linked list.\n",
    "\n",
    "Input: 1 -> 2 -> 3 -> 4 -> 5\n",
    "Output: 5 -> 4 -> 3 -> 2 -> 1"
   ]
  },
  {
   "cell_type": "code",
   "execution_count": 1,
   "id": "981057a2-3d54-43fe-9b79-5f9d5a3b1f41",
   "metadata": {},
   "outputs": [
    {
     "name": "stdout",
     "output_type": "stream",
     "text": [
      "Original linked list:\n",
      "1 -> 2 -> 3 -> 4 -> 5 -> None\n",
      "Reversed linked list:\n",
      "5 -> 4 -> 3 -> 2 -> 1 -> None\n"
     ]
    }
   ],
   "source": [
    "class ListNode:\n",
    "    def __init__(self, val=0, next=None):\n",
    "        self.val = val\n",
    "        self.next = next\n",
    "\n",
    "def reverse_linked_list(head):\n",
    "    prev = None\n",
    "    curr = head\n",
    "\n",
    "    while curr:\n",
    "        next_node = curr.next\n",
    "        curr.next = prev\n",
    "        prev = curr\n",
    "        curr = next_node\n",
    "\n",
    "    return prev\n",
    "\n",
    "# Example usage\n",
    "def print_linked_list(head):\n",
    "    while head:\n",
    "        print(head.val, end=\" -> \")\n",
    "        head = head.next\n",
    "    print(\"None\")\n",
    "\n",
    "# Create the linked list\n",
    "head = ListNode(1)\n",
    "head.next = ListNode(2)\n",
    "head.next.next = ListNode(3)\n",
    "head.next.next.next = ListNode(4)\n",
    "head.next.next.next.next = ListNode(5)\n",
    "\n",
    "print(\"Original linked list:\")\n",
    "print_linked_list(head)\n",
    "\n",
    "reversed_head = reverse_linked_list(head)\n",
    "\n",
    "print(\"Reversed linked list:\")\n",
    "print_linked_list(reversed_head)\n"
   ]
  },
  {
   "cell_type": "markdown",
   "id": "20ca246e-df49-46d1-9485-fc830c86b889",
   "metadata": {},
   "source": [
    "Problem 2: Merge two sorted linked lists into one sorted linked list.\n",
    "\n",
    "Input: List 1: 1 -> 3 -> 5, List 2: 2 -> 4 -> 6\n",
    "Output: 1 -> 2 -> 3 -> 4 -> 5 -> 6"
   ]
  },
  {
   "cell_type": "code",
   "execution_count": 2,
   "id": "7be9c298-fe0d-4667-9772-9a24c501f205",
   "metadata": {},
   "outputs": [
    {
     "name": "stdout",
     "output_type": "stream",
     "text": [
      "List 1:\n",
      "1 -> 3 -> 5 -> None\n",
      "List 2:\n",
      "2 -> 4 -> 6 -> None\n",
      "Merged list:\n",
      "1 -> 2 -> 3 -> 4 -> 5 -> 6 -> None\n"
     ]
    }
   ],
   "source": [
    "class ListNode:\n",
    "    def __init__(self, val=0, next=None):\n",
    "        self.val = val\n",
    "        self.next = next\n",
    "\n",
    "def merge_two_lists(l1, l2):\n",
    "    dummy = ListNode()\n",
    "    current = dummy\n",
    "\n",
    "    while l1 and l2:\n",
    "        if l1.val < l2.val:\n",
    "            current.next = l1\n",
    "            l1 = l1.next\n",
    "        else:\n",
    "            current.next = l2\n",
    "            l2 = l2.next\n",
    "        current = current.next\n",
    "\n",
    "    # Append remaining elements from either list\n",
    "    current.next = l1 if l1 else l2\n",
    "\n",
    "    return dummy.next\n",
    "\n",
    "# Example usage\n",
    "def print_linked_list(head):\n",
    "    while head:\n",
    "        print(head.val, end=\" -> \")\n",
    "        head = head.next\n",
    "    print(\"None\")\n",
    "\n",
    "# Create the linked lists\n",
    "list1 = ListNode(1)\n",
    "list1.next = ListNode(3)\n",
    "list1.next.next = ListNode(5)\n",
    "\n",
    "list2 = ListNode(2)\n",
    "list2.next = ListNode(4)\n",
    "list2.next.next = ListNode(6)\n",
    "\n",
    "print(\"List 1:\")\n",
    "print_linked_list(list1)\n",
    "\n",
    "print(\"List 2:\")\n",
    "print_linked_list(list2)\n",
    "\n",
    "merged_list = merge_two_lists(list1, list2)\n",
    "\n",
    "print(\"Merged list:\")\n",
    "print_linked_list(merged_list)\n"
   ]
  },
  {
   "cell_type": "markdown",
   "id": "8f37a001-00df-47f9-83cd-b9f405745a95",
   "metadata": {},
   "source": [
    "Problem 3: Remove the nth node from the end of a linked list.\n",
    "\n",
    "Input: 1 -> 2 -> 3 -> 4 -> 5, n = 2\n",
    "Output: 1 -> 2 -> 3 -> 5"
   ]
  },
  {
   "cell_type": "code",
   "execution_count": 3,
   "id": "821ca65b-02bd-4817-ae83-51822ecafc06",
   "metadata": {},
   "outputs": [
    {
     "name": "stdout",
     "output_type": "stream",
     "text": [
      "Original linked list:\n",
      "1 -> 2 -> 3 -> 4 -> 5 -> None\n",
      "Linked list after removing 2th node from the end:\n",
      "1 -> 2 -> 3 -> 5 -> None\n"
     ]
    }
   ],
   "source": [
    "class ListNode:\n",
    "    def __init__(self, val=0, next=None):\n",
    "        self.val = val\n",
    "        self.next = next\n",
    "\n",
    "def remove_nth_from_end(head, n):\n",
    "    dummy = ListNode(0)\n",
    "    dummy.next = head\n",
    "    fast = slow = dummy\n",
    "\n",
    "    # Move fast pointer n steps ahead\n",
    "    for _ in range(n + 1):\n",
    "        fast = fast.next\n",
    "\n",
    "    # Move fast and slow pointers until fast reaches the end\n",
    "    while fast:\n",
    "        fast = fast.next\n",
    "        slow = slow.next\n",
    "\n",
    "    # Remove the nth node from the end\n",
    "    slow.next = slow.next.next\n",
    "\n",
    "    return dummy.next\n",
    "\n",
    "# Example usage\n",
    "def print_linked_list(head):\n",
    "    while head:\n",
    "        print(head.val, end=\" -> \")\n",
    "        head = head.next\n",
    "    print(\"None\")\n",
    "\n",
    "# Create the linked list\n",
    "head = ListNode(1)\n",
    "head.next = ListNode(2)\n",
    "head.next.next = ListNode(3)\n",
    "head.next.next.next = ListNode(4)\n",
    "head.next.next.next.next = ListNode(5)\n",
    "\n",
    "print(\"Original linked list:\")\n",
    "print_linked_list(head)\n",
    "\n",
    "n = 2\n",
    "head = remove_nth_from_end(head, n)\n",
    "\n",
    "print(f\"Linked list after removing {n}th node from the end:\")\n",
    "print_linked_list(head)\n"
   ]
  },
  {
   "cell_type": "markdown",
   "id": "eaede4aa-6fef-4603-bf79-a8cb2b2659be",
   "metadata": {},
   "source": [
    "Problem 4: Find the intersection point of two linked lists.\n",
    "\n",
    "Input: List 1: 1 -> 2 -> 3 -> 4, List 2: 9 -> 8 -> 3 -> 4\n",
    "Output: Node with value 3"
   ]
  },
  {
   "cell_type": "code",
   "execution_count": 4,
   "id": "c428a541-46d8-41ee-bccd-4c304b440049",
   "metadata": {},
   "outputs": [
    {
     "name": "stdout",
     "output_type": "stream",
     "text": [
      "List 1:\n",
      "1 -> 2 -> 3 -> 4 -> None\n",
      "List 2:\n",
      "9 -> 8 -> 3 -> 4 -> None\n",
      "Intersection node value: 3\n"
     ]
    }
   ],
   "source": [
    "class ListNode:\n",
    "    def __init__(self, val=0, next=None):\n",
    "        self.val = val\n",
    "        self.next = next\n",
    "\n",
    "def get_intersection_node(headA, headB):\n",
    "    if not headA or not headB:\n",
    "        return None\n",
    "\n",
    "    # Pointers for both linked lists\n",
    "    ptrA = headA\n",
    "    ptrB = headB\n",
    "\n",
    "    # Traverse both lists until they intersect or reach the end\n",
    "    while ptrA != ptrB:\n",
    "        ptrA = ptrA.next if ptrA else headB\n",
    "        ptrB = ptrB.next if ptrB else headA\n",
    "\n",
    "    return ptrA\n",
    "\n",
    "# Example usage\n",
    "def print_linked_list(head):\n",
    "    while head:\n",
    "        print(head.val, end=\" -> \")\n",
    "        head = head.next\n",
    "    print(\"None\")\n",
    "\n",
    "# Create the linked lists\n",
    "list1 = ListNode(1)\n",
    "list1.next = ListNode(2)\n",
    "list1.next.next = ListNode(3)\n",
    "list1.next.next.next = ListNode(4)\n",
    "\n",
    "list2 = ListNode(9)\n",
    "list2.next = ListNode(8)\n",
    "list2.next.next = list1.next.next  # Intersection point\n",
    "\n",
    "print(\"List 1:\")\n",
    "print_linked_list(list1)\n",
    "\n",
    "print(\"List 2:\")\n",
    "print_linked_list(list2)\n",
    "\n",
    "intersection_node = get_intersection_node(list1, list2)\n",
    "\n",
    "if intersection_node:\n",
    "    print(f\"Intersection node value: {intersection_node.val}\")\n",
    "else:\n",
    "    print(\"No intersection found.\")\n"
   ]
  },
  {
   "cell_type": "markdown",
   "id": "32a524c1-f653-42d1-b79f-b6ad97716a6e",
   "metadata": {},
   "source": [
    "Problem 5: Remove duplicates from a sorted linked list.\n",
    "\n",
    "Input: 1 -> 1 -> 2 -> 3 -> 3\n",
    "Output: 1 -> 2 -> 3"
   ]
  },
  {
   "cell_type": "code",
   "execution_count": 5,
   "id": "5ab6a90e-cfa3-465f-9e3a-2b69debc3f0f",
   "metadata": {},
   "outputs": [
    {
     "name": "stdout",
     "output_type": "stream",
     "text": [
      "Original linked list:\n",
      "1 -> 1 -> 2 -> 3 -> 3 -> None\n",
      "Linked list after removing duplicates:\n",
      "1 -> 2 -> 3 -> None\n"
     ]
    }
   ],
   "source": [
    "class ListNode:\n",
    "    def __init__(self, val=0, next=None):\n",
    "        self.val = val\n",
    "        self.next = next\n",
    "\n",
    "def delete_duplicates(head):\n",
    "    current = head\n",
    "\n",
    "    while current and current.next:\n",
    "        if current.val == current.next.val:\n",
    "            current.next = current.next.next\n",
    "        else:\n",
    "            current = current.next\n",
    "\n",
    "    return head\n",
    "\n",
    "# Example usage\n",
    "def print_linked_list(head):\n",
    "    while head:\n",
    "        print(head.val, end=\" -> \")\n",
    "        head = head.next\n",
    "    print(\"None\")\n",
    "\n",
    "# Create the linked list\n",
    "head = ListNode(1)\n",
    "head.next = ListNode(1)\n",
    "head.next.next = ListNode(2)\n",
    "head.next.next.next = ListNode(3)\n",
    "head.next.next.next.next = ListNode(3)\n",
    "\n",
    "print(\"Original linked list:\")\n",
    "print_linked_list(head)\n",
    "\n",
    "head = delete_duplicates(head)\n",
    "\n",
    "print(\"Linked list after removing duplicates:\")\n",
    "print_linked_list(head)\n"
   ]
  },
  {
   "cell_type": "markdown",
   "id": "62e42e62-7784-4dc6-bf43-8e2ec6047f35",
   "metadata": {},
   "source": [
    "Problem 6: Add two numbers represented by linked lists (where each node contains a single digit).\n",
    "\n",
    "Input: List 1: 2 -> 4 -> 3, List 2: 5 -> 6 -> 4 (represents 342 + 465)\n",
    "Output: 7 -> 0 -> 8 (represents 807)"
   ]
  },
  {
   "cell_type": "code",
   "execution_count": 8,
   "id": "577f07f4-e8cb-4fea-8946-560f9a813d5c",
   "metadata": {},
   "outputs": [
    {
     "name": "stdout",
     "output_type": "stream",
     "text": [
      "List 1:\n",
      "2 -> 4 -> 3 -> None\n",
      "List 2:\n",
      "5 -> 6 -> 4 -> None\n",
      "Result of adding two numbers:\n",
      "7 -> 0 -> 8 -> None\n"
     ]
    }
   ],
   "source": [
    "class ListNode:\n",
    "    def __init__(self, val=0, next=None):\n",
    "        self.val = val\n",
    "        self.next = next\n",
    "\n",
    "def add_two_numbers(l1, l2):\n",
    "    dummy = ListNode()\n",
    "    current = dummy\n",
    "    carry = 0\n",
    "\n",
    "    while l1 or l2:\n",
    "        val1 = l1.val if l1 else 0\n",
    "        val2 = l2.val if l2 else 0\n",
    "\n",
    "        total = val1 + val2 + carry\n",
    "        carry = total // 10\n",
    "        current.next = ListNode(total % 10)\n",
    "        current = current.next\n",
    "\n",
    "        if l1:\n",
    "            l1 = l1.next\n",
    "        if l2:\n",
    "            l2 = l2.next\n",
    "\n",
    "    if carry:\n",
    "        current.next = ListNode(carry)\n",
    "\n",
    "    return dummy.next\n",
    "\n",
    "# Example usage\n",
    "def print_linked_list(head):\n",
    "    while head:\n",
    "        print(head.val, end=\" -> \")\n",
    "        head = head.next\n",
    "    print(\"None\")\n",
    "\n",
    "# Create the linked lists\n",
    "list1 = ListNode(2)\n",
    "list1.next = ListNode(4)\n",
    "list1.next.next = ListNode(3)\n",
    "\n",
    "list2 = ListNode(5)\n",
    "list2.next = ListNode(6)\n",
    "list2.next.next = ListNode(4)\n",
    "\n",
    "print(\"List 1:\")\n",
    "print_linked_list(list1)\n",
    "\n",
    "print(\"List 2:\")\n",
    "print_linked_list(list2)\n",
    "\n",
    "result = add_two_numbers(list1, list2)\n",
    "\n",
    "print(\"Result of adding two numbers:\")\n",
    "print_linked_list(result)"
   ]
  },
  {
   "cell_type": "markdown",
   "id": "f516615a-9ada-4a9c-8a1f-d80a27796ae3",
   "metadata": {},
   "source": [
    "Problem 7: Swap nodes in pairs in a linked list.\n",
    "\n",
    "Input: 1 -> 2 -> 3 -> 4\n",
    "Output: 2 -> 1 -> 4 -> 3"
   ]
  },
  {
   "cell_type": "code",
   "execution_count": 9,
   "id": "5cdb650f-9c2b-4c94-842b-37e114b54c7a",
   "metadata": {},
   "outputs": [
    {
     "name": "stdout",
     "output_type": "stream",
     "text": [
      "Original linked list:\n",
      "1 -> 2 -> 3 -> 4 -> None\n",
      "Linked list after swapping pairs:\n",
      "2 -> 1 -> 4 -> 3 -> None\n"
     ]
    }
   ],
   "source": [
    "class ListNode:\n",
    "    def __init__(self, val=0, next=None):\n",
    "        self.val = val\n",
    "        self.next = next\n",
    "\n",
    "def swap_pairs(head):\n",
    "    dummy = ListNode(0)\n",
    "    dummy.next = head\n",
    "    current = dummy\n",
    "\n",
    "    while current.next and current.next.next:\n",
    "        first_node = current.next\n",
    "        second_node = current.next.next\n",
    "\n",
    "        current.next = second_node\n",
    "        first_node.next = second_node.next\n",
    "        second_node.next = first_node\n",
    "\n",
    "        current = current.next.next\n",
    "\n",
    "    return dummy.next\n",
    "\n",
    "def print_linked_list(head):\n",
    "    while head:\n",
    "        print(head.val, end=\" -> \")\n",
    "        head = head.next\n",
    "    print(\"None\")\n",
    "\n",
    "head = ListNode(1)\n",
    "head.next = ListNode(2)\n",
    "head.next.next = ListNode(3)\n",
    "head.next.next.next = ListNode(4)\n",
    "\n",
    "print(\"Original linked list:\")\n",
    "print_linked_list(head)\n",
    "\n",
    "head = swap_pairs(head)\n",
    "\n",
    "print(\"Linked list after swapping pairs:\")\n",
    "print_linked_list(head)\n"
   ]
  },
  {
   "cell_type": "markdown",
   "id": "dd8db76f-8884-4d23-b9ac-89dd973ae890",
   "metadata": {},
   "source": [
    "Problem 8: Reverse nodes in a linked list in groups of k.\n",
    "\n",
    "Input: 1 -> 2 -> 3 -> 4 -> 5, k = 3\n",
    "Output: 3 -> 2 -> 1 -> 4 -> 5"
   ]
  },
  {
   "cell_type": "code",
   "execution_count": 12,
   "id": "01f69773-7db2-459f-a697-b1a369b6aa64",
   "metadata": {},
   "outputs": [
    {
     "name": "stdout",
     "output_type": "stream",
     "text": [
      "Original linked list:\n",
      "1 -> 2 -> 3 -> 4 -> 5 -> None\n",
      "Linked list after reversing nodes in groups of 3:\n",
      "3 -> 4 -> 5 -> None\n"
     ]
    }
   ],
   "source": [
    "class ListNode:\n",
    "    def __init__(self, val=0, next=None):\n",
    "        self.val = val\n",
    "        self.next = next\n",
    "\n",
    "def reverse_k_group(head, k):\n",
    "    def reverse_group(prev, start, end):\n",
    "        current = start\n",
    "        prev_node = None\n",
    "\n",
    "        while current != end:\n",
    "            next_node = current.next\n",
    "            current.next = prev_node\n",
    "            prev_node = current\n",
    "            current = next_node\n",
    "\n",
    "        return prev_node\n",
    "\n",
    "    dummy = ListNode(0)\n",
    "    dummy.next = head\n",
    "    prev = dummy\n",
    "\n",
    "    while True:\n",
    "        start = prev.next\n",
    "        end = prev\n",
    "\n",
    "        for _ in range(k):\n",
    "            if end is None:\n",
    "                return dummy.next\n",
    "            end = end.next\n",
    "\n",
    "        if end is None:\n",
    "            break\n",
    "\n",
    "        next_group = end.next\n",
    "        reverse_group(prev, start, end)\n",
    "        prev.next = end\n",
    "        start.next = next_group\n",
    "        prev = start\n",
    "\n",
    "    return dummy.next\n",
    "\n",
    "# Example usage\n",
    "def print_linked_list(head):\n",
    "    while head:\n",
    "        print(head.val, end=\" -> \")\n",
    "        head = head.next\n",
    "    print(\"None\")\n",
    "\n",
    "# Create the linked list\n",
    "head = ListNode(1)\n",
    "head.next = ListNode(2)\n",
    "head.next.next = ListNode(3)\n",
    "head.next.next.next = ListNode(4)\n",
    "head.next.next.next.next = ListNode(5)\n",
    "\n",
    "print(\"Original linked list:\")\n",
    "print_linked_list(head)\n",
    "\n",
    "k = 3\n",
    "head = reverse_k_group(head, k)\n",
    "\n",
    "print(f\"Linked list after reversing nodes in groups of {k}:\")\n",
    "print_linked_list(head)"
   ]
  },
  {
   "cell_type": "markdown",
   "id": "bc711405-e03a-437b-8dd2-938e26d48940",
   "metadata": {},
   "source": [
    "Problem 9: Determine if a linked list is a palindrome.\n",
    "\n",
    "Input: 1 -> 2 -> 2 -> 1\n",
    "Output: True"
   ]
  },
  {
   "cell_type": "code",
   "execution_count": 13,
   "id": "bee653c3-ae1e-495f-bea5-0f143631cae7",
   "metadata": {},
   "outputs": [
    {
     "name": "stdout",
     "output_type": "stream",
     "text": [
      "Is the linked list a palindrome?\n",
      "True\n"
     ]
    }
   ],
   "source": [
    "class ListNode:\n",
    "    def __init__(self, val=0, next=None):\n",
    "        self.val = val\n",
    "        self.next = next\n",
    "\n",
    "def is_palindrome(head):\n",
    "    # Function to reverse a linked list\n",
    "    def reverse_linked_list(node):\n",
    "        prev = None\n",
    "        current = node\n",
    "        while current:\n",
    "            next_node = current.next\n",
    "            current.next = prev\n",
    "            prev = current\n",
    "            current = next_node\n",
    "        return prev\n",
    "\n",
    "    slow = fast = head\n",
    "    # Find the middle of the list using slow and fast pointers\n",
    "    while fast and fast.next:\n",
    "        slow = slow.next\n",
    "        fast = fast.next.next\n",
    "\n",
    "    # Reverse the second half of the list\n",
    "    second_half_reversed = reverse_linked_list(slow)\n",
    "\n",
    "    # Compare the first half with the reversed second half\n",
    "    while second_half_reversed:\n",
    "        if head.val != second_half_reversed.val:\n",
    "            return False\n",
    "        head = head.next\n",
    "        second_half_reversed = second_half_reversed.next\n",
    "\n",
    "    return True\n",
    "\n",
    "# Example usage\n",
    "# Create the linked list\n",
    "head = ListNode(1)\n",
    "head.next = ListNode(2)\n",
    "head.next.next = ListNode(2)\n",
    "head.next.next.next = ListNode(1)\n",
    "\n",
    "print(\"Is the linked list a palindrome?\")\n",
    "print(is_palindrome(head))\n"
   ]
  },
  {
   "cell_type": "markdown",
   "id": "27ab6cc7-898d-49ea-8bba-1231d4063b32",
   "metadata": {},
   "source": [
    "Problem 10: Rotate a linked list to the right by k places.\n",
    "\n",
    "Input: 1 -> 2 -> 3 -> 4 -> 5, k = 2\n",
    "Output: 4 -> 5 -> 1 -> 2 -> 3"
   ]
  },
  {
   "cell_type": "code",
   "execution_count": 14,
   "id": "d7fe4eda-ebe6-4ee9-a22d-141001b9595b",
   "metadata": {},
   "outputs": [
    {
     "name": "stdout",
     "output_type": "stream",
     "text": [
      "Original linked list:\n",
      "1 -> 2 -> 3 -> 4 -> 5 -> None\n",
      "Linked list after rotating right by 2 places:\n",
      "4 -> 5 -> 1 -> 2 -> 3 -> None\n"
     ]
    }
   ],
   "source": [
    "class ListNode:\n",
    "    def __init__(self, val=0, next=None):\n",
    "        self.val = val\n",
    "        self.next = next\n",
    "\n",
    "def rotate_right(head, k):\n",
    "    if not head:\n",
    "        return None\n",
    "\n",
    "    # Calculate the length of the linked list and find the tail\n",
    "    length = 1\n",
    "    tail = head\n",
    "    while tail.next:\n",
    "        tail = tail.next\n",
    "        length += 1\n",
    "\n",
    "    # Adjust k to be within the range [0, length)\n",
    "    k %= length\n",
    "\n",
    "    # If k is 0, no rotation is needed\n",
    "    if k == 0:\n",
    "        return head\n",
    "\n",
    "    # Find the new tail after rotation\n",
    "    new_tail_position = length - k - 1\n",
    "    new_tail = head\n",
    "    for _ in range(new_tail_position):\n",
    "        new_tail = new_tail.next\n",
    "\n",
    "    # Rotate the linked list\n",
    "    new_head = new_tail.next\n",
    "    new_tail.next = None\n",
    "    tail.next = head\n",
    "\n",
    "    return new_head\n",
    "\n",
    "# Example usage\n",
    "def print_linked_list(head):\n",
    "    while head:\n",
    "        print(head.val, end=\" -> \")\n",
    "        head = head.next\n",
    "    print(\"None\")\n",
    "\n",
    "# Create the linked list\n",
    "head = ListNode(1)\n",
    "head.next = ListNode(2)\n",
    "head.next.next = ListNode(3)\n",
    "head.next.next.next = ListNode(4)\n",
    "head.next.next.next.next = ListNode(5)\n",
    "\n",
    "print(\"Original linked list:\")\n",
    "print_linked_list(head)\n",
    "\n",
    "k = 2\n",
    "head = rotate_right(head, k)\n",
    "\n",
    "print(f\"Linked list after rotating right by {k} places:\")\n",
    "print_linked_list(head)\n"
   ]
  },
  {
   "cell_type": "markdown",
   "id": "38afad32-c8dd-425d-bc66-40ba83069400",
   "metadata": {},
   "source": [
    "Problem 11: Flatten a multilevel doubly linked list.\n",
    "\n",
    "Input: 1 <-> 2 <-> 3 <-> 7 <-> 8 <-> 11 -> 12, 4 <-> 5 -> 9 -> 10, 6 -> 13\n",
    "Output: 1 <-> 2 <-> 3 <-> 4 <-> 5 <-> 6 <-> 7 <-> 8 <-> 9 <-> 10 <-> 11 <-> 12 <-> 13"
   ]
  },
  {
   "cell_type": "code",
   "execution_count": 15,
   "id": "bc08b8fd-92f2-47ed-8e87-91b8f8ccb0bf",
   "metadata": {},
   "outputs": [
    {
     "name": "stdout",
     "output_type": "stream",
     "text": [
      "Original multilevel doubly linked list:\n",
      "1 <-> 2 <-> 3 <-> 7 <-> 8 <-> 11 <-> 12 <-> None\n",
      "Flattened doubly linked list:\n",
      "1 <-> 2 <-> 3 <-> 4 <-> 5 <-> 9 <-> 10 <-> 7 <-> 8 <-> 6 <-> 13 <-> 11 <-> 12 <-> None\n"
     ]
    }
   ],
   "source": [
    "class Node:\n",
    "    def __init__(self, val=None, prev=None, next=None, child=None):\n",
    "        self.val = val\n",
    "        self.prev = prev\n",
    "        self.next = next\n",
    "        self.child = child\n",
    "\n",
    "def flatten(head):\n",
    "    if not head:\n",
    "        return None\n",
    "\n",
    "    dummy = Node(0, None, head, None)\n",
    "    current = dummy\n",
    "\n",
    "    stack = []\n",
    "    while current:\n",
    "        if current.child:\n",
    "            if current.next:\n",
    "                stack.append(current.next)\n",
    "            current.next = current.child\n",
    "            current.child.prev = current\n",
    "            current.child = None\n",
    "        elif not current.next and stack:\n",
    "            current.next = stack.pop()\n",
    "            if current.next:\n",
    "                current.next.prev = current\n",
    "\n",
    "        current = current.next\n",
    "\n",
    "    dummy.next.prev = None\n",
    "    return dummy.next\n",
    "\n",
    "# Helper function to print the doubly linked list\n",
    "def print_linked_list(head):\n",
    "    while head:\n",
    "        print(head.val, end=\" <-> \")\n",
    "        head = head.next\n",
    "    print(\"None\")\n",
    "\n",
    "# Create the multilevel doubly linked list\n",
    "head = Node(1)\n",
    "head.next = Node(2)\n",
    "head.next.prev = head\n",
    "head.next.next = Node(3)\n",
    "head.next.next.prev = head.next\n",
    "head.next.next.next = Node(7)\n",
    "head.next.next.next.prev = head.next.next\n",
    "head.next.next.next.next = Node(8)\n",
    "head.next.next.next.next.prev = head.next.next.next\n",
    "head.next.next.next.next.next = Node(11)\n",
    "head.next.next.next.next.next.prev = head.next.next.next.next\n",
    "head.next.next.next.next.next.next = Node(12)\n",
    "head.next.next.next.next.next.next.prev = head.next.next.next.next.next\n",
    "\n",
    "head.next.next.child = Node(4)\n",
    "head.next.next.child.next = Node(5)\n",
    "head.next.next.child.next.prev = head.next.next.child\n",
    "head.next.next.child.next.next = Node(9)\n",
    "head.next.next.child.next.next.prev = head.next.next.child.next\n",
    "head.next.next.child.next.next.next = Node(10)\n",
    "head.next.next.child.next.next.next.prev = head.next.next.child.next.next\n",
    "\n",
    "head.next.next.next.next.child = Node(6)\n",
    "head.next.next.next.next.child.next = Node(13)\n",
    "head.next.next.next.next.child.next.prev = head.next.next.next.next.child\n",
    "\n",
    "print(\"Original multilevel doubly linked list:\")\n",
    "print_linked_list(head)\n",
    "\n",
    "head = flatten(head)\n",
    "\n",
    "print(\"Flattened doubly linked list:\")\n",
    "print_linked_list(head)\n"
   ]
  },
  {
   "cell_type": "markdown",
   "id": "6d475f8b-d496-414f-9bfd-6d67058e8584",
   "metadata": {},
   "source": [
    "Problem 12: Rearrange a linked list such that all even positioned nodes are placed at the end.\n",
    "\n",
    "Input: 1 -> 2 -> 3 -> 4 -> 5\n",
    "Output: 1 -> 3 -> 5 -> 2 -> 4"
   ]
  },
  {
   "cell_type": "code",
   "execution_count": 16,
   "id": "32d292da-09e7-452f-8973-3801313b58ad",
   "metadata": {},
   "outputs": [
    {
     "name": "stdout",
     "output_type": "stream",
     "text": [
      "Original linked list:\n",
      "1 -> 2 -> 3 -> 4 -> 5 -> None\n",
      "Linked list after rearranging:\n",
      "1 -> 3 -> 5 -> 2 -> 4 -> None\n"
     ]
    }
   ],
   "source": [
    "class ListNode:\n",
    "    def __init__(self, val=0, next=None):\n",
    "        self.val = val\n",
    "        self.next = next\n",
    "\n",
    "def rearrange_linked_list(head):\n",
    "    if not head or not head.next:\n",
    "        return head\n",
    "\n",
    "    odd = head\n",
    "    even = head.next\n",
    "    even_head = even\n",
    "\n",
    "    while even and even.next:\n",
    "        odd.next = even.next\n",
    "        odd = odd.next\n",
    "        even.next = odd.next\n",
    "        even = even.next\n",
    "\n",
    "    odd.next = even_head\n",
    "\n",
    "    return head\n",
    "\n",
    "# Example usage\n",
    "def print_linked_list(head):\n",
    "    while head:\n",
    "        print(head.val, end=\" -> \")\n",
    "        head = head.next\n",
    "    print(\"None\")\n",
    "\n",
    "# Create the linked list\n",
    "head = ListNode(1)\n",
    "head.next = ListNode(2)\n",
    "head.next.next = ListNode(3)\n",
    "head.next.next.next = ListNode(4)\n",
    "head.next.next.next.next = ListNode(5)\n",
    "\n",
    "print(\"Original linked list:\")\n",
    "print_linked_list(head)\n",
    "\n",
    "head = rearrange_linked_list(head)\n",
    "\n",
    "print(\"Linked list after rearranging:\")\n",
    "print_linked_list(head)\n"
   ]
  },
  {
   "cell_type": "markdown",
   "id": "c45dfbe4-27ef-4632-8a39-7eeb7a0287b4",
   "metadata": {},
   "source": [
    "Problem 13: Given a non-negative number represented as a linked list, add one to it.\n",
    "\n",
    "Input: 1 -> 2 -> 3 (represents the number 123)\n",
    "Output: 1 -> 2 -> 4 (represents the number 124)"
   ]
  },
  {
   "cell_type": "code",
   "execution_count": 17,
   "id": "13e88630-a2c1-45ef-b406-5aced014da75",
   "metadata": {},
   "outputs": [
    {
     "name": "stdout",
     "output_type": "stream",
     "text": [
      "Original linked list:\n",
      "1 -> 2 -> 3 -> None\n",
      "Linked list after adding one:\n",
      "1 -> 2 -> 4 -> None\n"
     ]
    }
   ],
   "source": [
    "class ListNode:\n",
    "    def __init__(self, val=0, next=None):\n",
    "        self.val = val\n",
    "        self.next = next\n",
    "\n",
    "def add_one_to_linked_list(head):\n",
    "    # Function to reverse a linked list\n",
    "    def reverse_linked_list(node):\n",
    "        prev = None\n",
    "        current = node\n",
    "        while current:\n",
    "            next_node = current.next\n",
    "            current.next = prev\n",
    "            prev = current\n",
    "            current = next_node\n",
    "        return prev\n",
    "\n",
    "    # Reverse the linked list\n",
    "    head = reverse_linked_list(head)\n",
    "\n",
    "    current = head\n",
    "    carry = 1  # Start with 1 since we're adding one\n",
    "\n",
    "    while current:\n",
    "        current.val += carry\n",
    "        carry = current.val // 10  # Determine the carry\n",
    "        current.val %= 10  # Update the current node value to be less than 10\n",
    "\n",
    "        if not current.next and carry:\n",
    "            # If there's carry and we reach the end, add a new node\n",
    "            current.next = ListNode(carry)\n",
    "            break\n",
    "\n",
    "        current = current.next\n",
    "\n",
    "    # Reverse the linked list back to its original order\n",
    "    head = reverse_linked_list(head)\n",
    "\n",
    "    return head\n",
    "\n",
    "# Example usage\n",
    "def print_linked_list(head):\n",
    "    while head:\n",
    "        print(head.val, end=\" -> \")\n",
    "        head = head.next\n",
    "    print(\"None\")\n",
    "\n",
    "# Create the linked list representing the number 123\n",
    "head = ListNode(1)\n",
    "head.next = ListNode(2)\n",
    "head.next.next = ListNode(3)\n",
    "\n",
    "print(\"Original linked list:\")\n",
    "print_linked_list(head)\n",
    "\n",
    "head = add_one_to_linked_list(head)\n",
    "\n",
    "print(\"Linked list after adding one:\")\n",
    "print_linked_list(head)\n"
   ]
  },
  {
   "cell_type": "markdown",
   "id": "0b443ecb-5457-4eb4-baaf-fa15002f005a",
   "metadata": {},
   "source": [
    "Problem 14: Given a sorted array and a target value, return the index if the target is found. If not, return the\n",
    "index where it would be inserted.\n",
    "\n",
    "Input: nums = [1, 3, 5, 6], target = 5\n",
    "Output: 2"
   ]
  },
  {
   "cell_type": "code",
   "execution_count": 18,
   "id": "66613e1d-44a9-40d8-94d2-c8614bc48581",
   "metadata": {},
   "outputs": [
    {
     "name": "stdout",
     "output_type": "stream",
     "text": [
      "Index where target is found or would be inserted: 2\n"
     ]
    }
   ],
   "source": [
    "def search_insert(nums, target):\n",
    "    left, right = 0, len(nums) - 1\n",
    "\n",
    "    while left <= right:\n",
    "        mid = (left + right) // 2\n",
    "        if nums[mid] == target:\n",
    "            return mid\n",
    "        elif nums[mid] < target:\n",
    "            left = mid + 1\n",
    "        else:\n",
    "            right = mid - 1\n",
    "\n",
    "    return left\n",
    "\n",
    "# Example usage\n",
    "nums = [1, 3, 5, 6]\n",
    "target = 5\n",
    "\n",
    "print(\"Index where target is found or would be inserted:\", search_insert(nums, target))"
   ]
  },
  {
   "cell_type": "markdown",
   "id": "dec05ff7-7794-4b82-b4e2-098e147f4aa9",
   "metadata": {},
   "source": [
    "Problem 15: Find the minimum element in a rotated sorted array.\n",
    "\n",
    "Input: [4, 5, 6, 7, 0, 1, 2]\n",
    "Output: 0\n",
    "\n"
   ]
  },
  {
   "cell_type": "code",
   "execution_count": 20,
   "id": "4fa4c579-140b-4a92-8545-be9021c204e3",
   "metadata": {},
   "outputs": [
    {
     "name": "stdout",
     "output_type": "stream",
     "text": [
      "Minimum element in the rotated sorted array: 0\n"
     ]
    }
   ],
   "source": [
    "def find_min(nums):\n",
    "    left, right = 0, len(nums) - 1\n",
    "\n",
    "    while left < right:\n",
    "        mid = (left + right) // 2\n",
    "\n",
    "        if nums[mid] > nums[right]:\n",
    "            left = mid + 1\n",
    "        else:\n",
    "            right = mid\n",
    "\n",
    "    return nums[left]\n",
    "\n",
    "# Example usage\n",
    "nums = [4, 5, 6, 7, 0, 1, 2]\n",
    "\n",
    "print(\"Minimum element in the rotated sorted array:\", find_min(nums))\n"
   ]
  },
  {
   "cell_type": "markdown",
   "id": "27ee6e43-df0c-4883-99f1-2c669cba6ea6",
   "metadata": {},
   "source": [
    "Problem 16: Search for a target value in a rotated sorted array.\n",
    "\n",
    "Input: nums = [4, 5, 6, 7, 0, 1, 2], target = 0\n",
    "Output: 4"
   ]
  },
  {
   "cell_type": "code",
   "execution_count": 23,
   "id": "4f1e5f8c-eb99-4453-b8f7-ae9a1ebeca29",
   "metadata": {},
   "outputs": [
    {
     "name": "stdout",
     "output_type": "stream",
     "text": [
      "Index of the target value: 4\n"
     ]
    }
   ],
   "source": [
    "def search(nums, target):\n",
    "    left, right = 0, len(nums) - 1\n",
    "\n",
    "    while left <= right:\n",
    "        mid = (left + right) // 2\n",
    "\n",
    "        if nums[mid] == target:\n",
    "            return mid\n",
    "\n",
    "        if nums[left] <= nums[mid]:\n",
    "            if nums[left] <= target < nums[mid]:\n",
    "                right = mid - 1\n",
    "            else:\n",
    "                left = mid + 1\n",
    "        else:\n",
    "            if nums[mid] < target <= nums[right]:\n",
    "                left = mid + 1\n",
    "            else:\n",
    "                right = mid - 1\n",
    "\n",
    "    return -1\n",
    "\n",
    "nums = [4, 5, 6, 7, 0, 1, 2]\n",
    "target = 0\n",
    "\n",
    "print(\"Index of the target value:\", search(nums, target))"
   ]
  },
  {
   "cell_type": "markdown",
   "id": "38e810de-b7fa-4dd6-ae59-540dbbb9593d",
   "metadata": {},
   "source": [
    "Problem 17: Find the peak element in an array. A peak element is greater than its neighbors.\n",
    "\n",
    "Input: nums = [1, 2, 3, 1]\n",
    "Output: 2 (index of peak element)"
   ]
  },
  {
   "cell_type": "code",
   "execution_count": 25,
   "id": "46a83571-30bd-4b39-b2d7-ae66bc788189",
   "metadata": {},
   "outputs": [
    {
     "name": "stdout",
     "output_type": "stream",
     "text": [
      "Index of the peak element: 2\n"
     ]
    }
   ],
   "source": [
    "def find_peak_element(nums):\n",
    "    left, right = 0, len(nums) - 1\n",
    "\n",
    "    while left < right:\n",
    "        mid = (left + right) // 2\n",
    "\n",
    "        if nums[mid] < nums[mid + 1]:\n",
    "            left = mid + 1\n",
    "        else:\n",
    "            right = mid\n",
    "\n",
    "    return left\n",
    "\n",
    "# Example usage\n",
    "nums = [1, 2, 3, 1]\n",
    "\n",
    "print(\"Index of the peak element:\", find_peak_element(nums))\n"
   ]
  },
  {
   "cell_type": "markdown",
   "id": "ff775f8c-f905-498d-8a10-20ff1283f056",
   "metadata": {},
   "source": [
    "Problem 18: Given a m x n matrix where each row and column is sorted in ascending order, count the number\n",
    "of negative numbers.\n",
    "\n",
    "Input: grid = [[4, 3, 2, -1], [3, 2, 1, -1], [1, 1, -1, -2], [-1, -1, -2, -3]]\n",
    "Output: 8"
   ]
  },
  {
   "cell_type": "code",
   "execution_count": 26,
   "id": "bb47c5c7-01cb-4a91-b4bb-1c5d51a37db1",
   "metadata": {},
   "outputs": [
    {
     "name": "stdout",
     "output_type": "stream",
     "text": [
      "Number of negative numbers in the matrix: 8\n"
     ]
    }
   ],
   "source": [
    "def count_negatives(grid):\n",
    "    rows, cols = len(grid), len(grid[0])\n",
    "    count = 0\n",
    "    row, col = 0, cols - 1\n",
    "\n",
    "    while row < rows and col >= 0:\n",
    "        if grid[row][col] < 0:\n",
    "            count += rows - row\n",
    "            col -= 1\n",
    "        else:\n",
    "            row += 1\n",
    "\n",
    "    return count\n",
    "\n",
    "# Example usage\n",
    "grid = [\n",
    "    [4, 3, 2, -1],\n",
    "    [3, 2, 1, -1],\n",
    "    [1, 1, -1, -2],\n",
    "    [-1, -1, -2, -3]\n",
    "]\n",
    "\n",
    "print(\"Number of negative numbers in the matrix:\", count_negatives(grid))\n"
   ]
  },
  {
   "cell_type": "markdown",
   "id": "c7ef9897-2e91-4626-802d-5c4a90fd0004",
   "metadata": {},
   "source": [
    "Problem 19: Given a 2D matrix sorted in ascending order in each row, and the first integer of each row is\n",
    "greater than the last integer of the previous row, determine if a target value is present in the matrix.\n",
    "\n",
    "Input: matrix = [[1, 3, 5, 7], [10, 11, 16, 20], [23, 30, 34, 60]], target = 3\n",
    "Output: True"
   ]
  },
  {
   "cell_type": "code",
   "execution_count": 27,
   "id": "177cf2c5-e743-45eb-aeea-45acb653ef60",
   "metadata": {},
   "outputs": [
    {
     "name": "stdout",
     "output_type": "stream",
     "text": [
      "Is the target value present in the matrix? True\n"
     ]
    }
   ],
   "source": [
    "def search_matrix(matrix, target):\n",
    "    if not matrix:\n",
    "        return False\n",
    "\n",
    "    rows, cols = len(matrix), len(matrix[0])\n",
    "    left, right = 0, rows * cols - 1\n",
    "\n",
    "    while left <= right:\n",
    "        mid = (left + right) // 2\n",
    "        mid_val = matrix[mid // cols][mid % cols]\n",
    "\n",
    "        if mid_val == target:\n",
    "            return True\n",
    "        elif mid_val < target:\n",
    "            left = mid + 1\n",
    "        else:\n",
    "            right = mid - 1\n",
    "\n",
    "    return False\n",
    "\n",
    "# Example usage\n",
    "matrix = [\n",
    "    [1, 3, 5, 7],\n",
    "    [10, 11, 16, 20],\n",
    "    [23, 30, 34, 60]\n",
    "]\n",
    "target = 3\n",
    "\n",
    "print(\"Is the target value present in the matrix?\", search_matrix(matrix, target))\n"
   ]
  },
  {
   "cell_type": "markdown",
   "id": "08bab033-112d-4281-ba44-ba7d1a68593a",
   "metadata": {},
   "source": [
    "Problem 20: Find Median in Two Sorted Arrays\n",
    "Problem: Given two sorted arrays, find the median of the combined sorted array.\n",
    "\n",
    "Input: nums1 = [1, 3], nums2 = [2]\n",
    "Output: 2.0"
   ]
  },
  {
   "cell_type": "code",
   "execution_count": 29,
   "id": "6d8f4bd6-8522-46f9-90f6-1fa1ab19978a",
   "metadata": {},
   "outputs": [
    {
     "name": "stdout",
     "output_type": "stream",
     "text": [
      "Median of the combined sorted array: 2\n"
     ]
    }
   ],
   "source": [
    "def find_median_sorted_arrays(nums1, nums2):\n",
    "    merged = []\n",
    "    i, j = 0, 0\n",
    "\n",
    "    while i < len(nums1) and j < len(nums2):\n",
    "        if nums1[i] < nums2[j]:\n",
    "            merged.append(nums1[i])\n",
    "            i += 1\n",
    "        else:\n",
    "            merged.append(nums2[j])\n",
    "            j += 1\n",
    "\n",
    "    while i < len(nums1):\n",
    "        merged.append(nums1[i])\n",
    "        i += 1\n",
    "\n",
    "    while j < len(nums2):\n",
    "        merged.append(nums2[j])\n",
    "        j += 1\n",
    "\n",
    "    total_length = len(merged)\n",
    "    if total_length % 2 == 0:\n",
    "        mid = total_length // 2\n",
    "        return (merged[mid - 1] + merged[mid]) / 2\n",
    "    else:\n",
    "        return merged[total_length // 2]\n",
    "\n",
    "# Example usage\n",
    "nums1 = [1, 3]\n",
    "nums2 = [2]\n",
    "\n",
    "print(\"Median of the combined sorted array:\", find_median_sorted_arrays(nums1, nums2))\n"
   ]
  },
  {
   "cell_type": "markdown",
   "id": "c1f596aa-c6fb-444e-b247-790b2db2c582",
   "metadata": {},
   "source": [
    "Problem 21: Given a sorted character array and a target letter, find the smallest letter in the array that is\n",
    "greater than the target.\n",
    "\n",
    "Input: letters = ['c', 'f', 'j'], target = a\n",
    "Output: 'c'"
   ]
  },
  {
   "cell_type": "code",
   "execution_count": 31,
   "id": "834bfe6b-80fd-4dac-91a5-d5b4844587b1",
   "metadata": {},
   "outputs": [
    {
     "name": "stdout",
     "output_type": "stream",
     "text": [
      "Smallest letter greater than the target: c\n"
     ]
    }
   ],
   "source": [
    "def next_greatest_letter(letters, target):\n",
    "    left, right = 0, len(letters)\n",
    "\n",
    "    while left < right:\n",
    "        mid = left + (right - left) // 2\n",
    "\n",
    "        if letters[mid] <= target:\n",
    "            left = mid + 1\n",
    "        else:\n",
    "            right = mid\n",
    "\n",
    "    return letters[left % len(letters)]\n",
    "\n",
    "# Example usage\n",
    "letters = ['c', 'f', 'j']\n",
    "target = 'a'\n",
    "\n",
    "print(\"Smallest letter greater than the target:\", next_greatest_letter(letters, target))\n"
   ]
  },
  {
   "cell_type": "markdown",
   "id": "45ee238a-3fde-45ce-9f7b-f4ec1b4d3702",
   "metadata": {},
   "source": [
    "Problem 22: Given an array with n objects colored red, white, or blue, sort them in-place so that objects of\n",
    "the same color are adjacent, with the colors in the order red, white, and blue.\n",
    "\n",
    "Input: nums = [2, 0, 2, 1, 1, 0]\n",
    "Output: [0, 0, 1, 1, 2, 2]"
   ]
  },
  {
   "cell_type": "code",
   "execution_count": 32,
   "id": "b1bf70b7-3317-4ba2-9c65-da39a40a97ab",
   "metadata": {},
   "outputs": [
    {
     "name": "stdout",
     "output_type": "stream",
     "text": [
      "Original array: [2, 0, 2, 1, 1, 0]\n",
      "Sorted array: [0, 0, 1, 1, 2, 2]\n"
     ]
    }
   ],
   "source": [
    "def sort_colors(nums):\n",
    "    # Initialize pointers for the boundaries of the three color groups\n",
    "    left, mid, right = 0, 0, len(nums) - 1\n",
    "\n",
    "    while mid <= right:\n",
    "        if nums[mid] == 0:\n",
    "            nums[left], nums[mid] = nums[mid], nums[left]\n",
    "            left += 1\n",
    "            mid += 1\n",
    "        elif nums[mid] == 1:\n",
    "            mid += 1\n",
    "        else:\n",
    "            nums[mid], nums[right] = nums[right], nums[mid]\n",
    "            # Move the right pointer to the left\n",
    "            right -= 1\n",
    "\n",
    "# Example usage\n",
    "nums = [2, 0, 2, 1, 1, 0]\n",
    "print(\"Original array:\", nums)\n",
    "sort_colors(nums)\n",
    "print(\"Sorted array:\", nums)\n"
   ]
  },
  {
   "cell_type": "markdown",
   "id": "dd58c9f4-6350-4b60-a410-f81b8f3c1833",
   "metadata": {},
   "source": [
    "Problem 23: Find the kth largest element in an unsorted array.\n",
    "\n",
    "Input: nums = [3, 2, 1, 5, 6, 4], k = 2\n",
    "Output: 5"
   ]
  },
  {
   "cell_type": "code",
   "execution_count": 34,
   "id": "18c5b7b7-3081-4fd2-8c60-6b38e0ba6b19",
   "metadata": {},
   "outputs": [
    {
     "name": "stdout",
     "output_type": "stream",
     "text": [
      "The 2 largest element in the array is: 5\n"
     ]
    }
   ],
   "source": [
    "import heapq\n",
    "\n",
    "def find_kth_largest(nums, k):\n",
    "    heap = []\n",
    "\n",
    "    for num in nums:\n",
    "        heapq.heappush(heap, num)\n",
    "        if len(heap) > k:\n",
    "            heapq.heappop(heap)\n",
    "\n",
    "    return heap[0]\n",
    "\n",
    "# Example usage\n",
    "nums = [3, 2, 1, 5, 6, 4]\n",
    "k = 2\n",
    "\n",
    "print(\"The\", k, \"largest element in the array is:\", find_kth_largest(nums, k))\n"
   ]
  },
  {
   "cell_type": "markdown",
   "id": "97379e93-cb1c-46d9-ac70-85f7ba91946f",
   "metadata": {},
   "source": [
    "Problem 24: Given an unsorted array, reorder it in-place such that nums[0] <= nums[1] >= nums[2] <=nums[3]...\n",
    "\n",
    "Input: nums = [3, 5, 2, 1, 6, 4]\n",
    "Output: [3, 5, 1, 6, 2, 4]"
   ]
  },
  {
   "cell_type": "code",
   "execution_count": 35,
   "id": "45160273-fe38-478a-b8de-c378d96109fe",
   "metadata": {},
   "outputs": [
    {
     "name": "stdout",
     "output_type": "stream",
     "text": [
      "Original array: [3, 5, 2, 1, 6, 4]\n",
      "Wiggle sorted array: [1, 3, 2, 5, 4, 6]\n"
     ]
    }
   ],
   "source": [
    "def wiggle_sort(nums):\n",
    "    nums.sort()  # Sort the array\n",
    "\n",
    "    for i in range(1, len(nums) - 1, 2):\n",
    "        nums[i], nums[i + 1] = nums[i + 1], nums[i]\n",
    "\n",
    "# Example usage\n",
    "nums = [3, 5, 2, 1, 6, 4]\n",
    "print(\"Original array:\", nums)\n",
    "wiggle_sort(nums)\n",
    "print(\"Wiggle sorted array:\", nums)\n"
   ]
  },
  {
   "cell_type": "markdown",
   "id": "6561a2c9-c981-420b-b4db-f9b7aec21192",
   "metadata": {},
   "source": [
    "Problem 25: Given an array of integers, calculate the sum of all its elements.\n",
    "\n",
    "Input: [1, 2, 3, 4, 5]\n",
    "Output: 15"
   ]
  },
  {
   "cell_type": "code",
   "execution_count": 37,
   "id": "1c8c4d8a-f1be-435a-b0da-4a15d396fb4a",
   "metadata": {},
   "outputs": [
    {
     "name": "stdout",
     "output_type": "stream",
     "text": [
      "Sum of all elements in the array: 15\n"
     ]
    }
   ],
   "source": [
    "def calculate_sum(nums):\n",
    "    total_sum = 0\n",
    "    for num in nums:\n",
    "        total_sum += num\n",
    "    return total_sum\n",
    "\n",
    "# Example usage\n",
    "nums = [1, 2, 3, 4, 5]\n",
    "print(\"Sum of all elements in the array:\", calculate_sum(nums))\n"
   ]
  },
  {
   "cell_type": "markdown",
   "id": "7ef3e150-ff4a-4a9e-ac20-ca7fd69600d7",
   "metadata": {},
   "source": [
    "Problem 26: Find the maximum element in an array of integers.\n",
    "\n",
    "Input: [3, 7, 2, 9, 4, 1]\n",
    "Output: 9"
   ]
  },
  {
   "cell_type": "code",
   "execution_count": 38,
   "id": "1ae7bc4d-6e1f-4b47-9854-c7e6d0913e5a",
   "metadata": {},
   "outputs": [
    {
     "name": "stdout",
     "output_type": "stream",
     "text": [
      "Maximum element in the array: 9\n"
     ]
    }
   ],
   "source": [
    "def find_max(nums):\n",
    "    max_element = float('-inf')\n",
    "\n",
    "    for num in nums:\n",
    "        if num > max_element:\n",
    "            max_element = num\n",
    "\n",
    "    return max_element\n",
    "\n",
    "# Example usage\n",
    "nums = [3, 7, 2, 9, 4, 1]\n",
    "print(\"Maximum element in the array:\", find_max(nums))\n"
   ]
  },
  {
   "cell_type": "markdown",
   "id": "e6805c85-15f7-4bcd-9969-cf59d044cd9e",
   "metadata": {},
   "source": [
    "Problem 27: Implement linear search to find the index of a target element in an array.\n",
    "\n",
    "Input: [5, 3, 8, 2, 7, 4], target = 8\n",
    "Output: 2"
   ]
  },
  {
   "cell_type": "code",
   "execution_count": 39,
   "id": "e3925a0c-5ed5-487c-991d-d40270272911",
   "metadata": {},
   "outputs": [
    {
     "name": "stdout",
     "output_type": "stream",
     "text": [
      "Index of the target element: 2\n"
     ]
    }
   ],
   "source": [
    "def linear_search(nums, target):\n",
    "    for i in range(len(nums)):\n",
    "        if nums[i] == target:\n",
    "            return i\n",
    "    return -1  # Target not found\n",
    "\n",
    "# Example usage\n",
    "nums = [5, 3, 8, 2, 7, 4]\n",
    "target = 8\n",
    "index = linear_search(nums, target)\n",
    "\n",
    "if index != -1:\n",
    "    print(\"Index of the target element:\", index)\n",
    "else:\n",
    "    print(\"Target element not found in the array.\")\n"
   ]
  },
  {
   "cell_type": "markdown",
   "id": "3a29c872-308d-4604-9f26-b60b70d60449",
   "metadata": {},
   "source": [
    "Problem 28 Calculate the factorial of a given number.\n",
    "\n",
    "Input: 5\n",
    "Output: 120 (as 5! = 5 * 4 * 3 * 2 * 1 = 120)"
   ]
  },
  {
   "cell_type": "code",
   "execution_count": 40,
   "id": "840bdba0-84d3-4ba5-ac2e-a0e81ba9843a",
   "metadata": {},
   "outputs": [
    {
     "name": "stdout",
     "output_type": "stream",
     "text": [
      "Factorial of 5 : 120\n"
     ]
    }
   ],
   "source": [
    "def factorial(n):\n",
    "    result = 1\n",
    "    for i in range(1, n + 1):\n",
    "        result *= i\n",
    "    return result\n",
    "\n",
    "# Example usage\n",
    "num = 5\n",
    "print(\"Factorial of\", num, \":\", factorial(num))\n"
   ]
  },
  {
   "cell_type": "markdown",
   "id": "b5ac1d91-aab4-41bf-ad5b-5b57601b8562",
   "metadata": {},
   "source": [
    "Problem 30: Generate the Fibonacci series up to a given number n.\n",
    "\n",
    "Input: 8\n",
    "Output: [0, 1, 1, 2, 3, 5, 8, 13]"
   ]
  },
  {
   "cell_type": "code",
   "execution_count": 41,
   "id": "10427a9c-b34e-41b6-ad70-7939e563fa6f",
   "metadata": {},
   "outputs": [
    {
     "name": "stdout",
     "output_type": "stream",
     "text": [
      "Fibonacci series up to 8 : [0, 1, 1, 2, 3, 5, 8]\n"
     ]
    }
   ],
   "source": [
    "def generate_fibonacci_series(n):\n",
    "    fibonacci_series = [0, 1]\n",
    "    while fibonacci_series[-1] + fibonacci_series[-2] <= n:\n",
    "        fibonacci_series.append(fibonacci_series[-1] + fibonacci_series[-2])\n",
    "    return fibonacci_series\n",
    "\n",
    "# Example usage\n",
    "n = 8\n",
    "print(\"Fibonacci series up to\", n, \":\", generate_fibonacci_series(n))\n"
   ]
  },
  {
   "cell_type": "markdown",
   "id": "cd29943d-e6ae-4848-a05a-8f3774c96dbf",
   "metadata": {},
   "source": [
    "Problem 31: Calculate the power of a number using recursion.\n",
    "\n",
    "Input: base = 3, exponent = 4\n",
    "Output: 81 (as 3^4 = 3 * 3 * 3 * 3 = 81)"
   ]
  },
  {
   "cell_type": "code",
   "execution_count": 43,
   "id": "c5c21c49-503b-4631-8f42-a47a4dffb3a1",
   "metadata": {},
   "outputs": [
    {
     "name": "stdout",
     "output_type": "stream",
     "text": [
      "Result of 3 ^ 4 : 81\n"
     ]
    }
   ],
   "source": [
    "def power(base, exponent):\n",
    "    if exponent == 0:\n",
    "        return 1\n",
    "    return base * power(base, exponent - 1)\n",
    "\n",
    "# Example usage\n",
    "base = 3\n",
    "exponent = 4\n",
    "print(\"Result of\", base, \"^\", exponent, \":\", power(base, exponent))\n"
   ]
  },
  {
   "cell_type": "markdown",
   "id": "5d6629d0-9539-4460-8ad9-5f7ae84c9240",
   "metadata": {},
   "source": [
    "Problem 32: Reverse a given string.\n",
    "\n",
    "Input: \"hello\"\n",
    "Output: \"olleh\""
   ]
  },
  {
   "cell_type": "code",
   "execution_count": 44,
   "id": "324fff9f-c14e-4447-aa9f-f90b7965e708",
   "metadata": {},
   "outputs": [
    {
     "name": "stdout",
     "output_type": "stream",
     "text": [
      "Reversed string: olleh\n"
     ]
    }
   ],
   "source": [
    "def reverse_string(s):\n",
    "    return s[::-1]\n",
    "\n",
    "# Example usage\n",
    "input_string = \"hello\"\n",
    "print(\"Reversed string:\", reverse_string(input_string))\n"
   ]
  },
  {
   "cell_type": "markdown",
   "id": "9a18d304-c72c-4d35-8895-409e15605cfb",
   "metadata": {},
   "source": [
    "# Thank You !"
   ]
  }
 ],
 "metadata": {
  "kernelspec": {
   "display_name": "Python 3 (ipykernel)",
   "language": "python",
   "name": "python3"
  },
  "language_info": {
   "codemirror_mode": {
    "name": "ipython",
    "version": 3
   },
   "file_extension": ".py",
   "mimetype": "text/x-python",
   "name": "python",
   "nbconvert_exporter": "python",
   "pygments_lexer": "ipython3",
   "version": "3.10.8"
  }
 },
 "nbformat": 4,
 "nbformat_minor": 5
}
