{
 "cells": [
  {
   "cell_type": "markdown",
   "id": "556af8e1-e9e5-42c8-8655-e455efcd14e1",
   "metadata": {},
   "source": [
    "# Recurssion Assignment"
   ]
  },
  {
   "cell_type": "markdown",
   "id": "bd9a33dc-3413-416c-8294-ea2b08b23144",
   "metadata": {},
   "source": [
    "Q.1 Can you explain the logic and working of the Tower of Hanoi algorithm by writing a Java program?\n",
    "How does the recursion work, and how are the movements of disks between rods accomplished?"
   ]
  },
  {
   "cell_type": "markdown",
   "id": "cf1930c4-0392-43ff-89b8-033a181c1087",
   "metadata": {},
   "source": [
    "The Tower of Hanoi is a classic problem in computer science that involves moving a stack of disks from one rod to another, with the constraint that only one disk can be moved at a time and a larger disk cannot be placed on top of a smaller one. Here's a Java program to solve the Tower of Hanoi problem using recursion:"
   ]
  },
  {
   "cell_type": "code",
   "execution_count": 1,
   "id": "666a07f3-41a4-491d-af0b-1a195122337f",
   "metadata": {},
   "outputs": [
    {
     "ename": "SyntaxError",
     "evalue": "invalid syntax (3745225152.py, line 1)",
     "output_type": "error",
     "traceback": [
      "\u001b[0;36m  Cell \u001b[0;32mIn[1], line 1\u001b[0;36m\u001b[0m\n\u001b[0;31m    public class TowerOfHanoi {\u001b[0m\n\u001b[0m           ^\u001b[0m\n\u001b[0;31mSyntaxError\u001b[0m\u001b[0;31m:\u001b[0m invalid syntax\n"
     ]
    }
   ],
   "source": [
    "public class TowerOfHanoi {\n",
    "    public static void main(String[] args) {\n",
    "        int numDisks = 3;\n",
    "        char sourceRod = 'A';\n",
    "        char destinationRod = 'C';\n",
    "        char auxiliaryRod = 'B';\n",
    "        \n",
    "        System.out.println(\"Steps to solve Tower of Hanoi with \" + numDisks + \" disks:\");\n",
    "        solveTowerOfHanoi(numDisks, sourceRod, destinationRod, auxiliaryRod);\n",
    "    }\n",
    "    \n",
    "    public static void solveTowerOfHanoi(int numDisks, char source, char destination, char auxiliary) {\n",
    "        if (numDisks == 1) {\n",
    "            System.out.println(\"Move disk 1 from rod \" + source + \" to rod \" + destination);\n",
    "            return;\n",
    "        }\n",
    "        \n",
    "        solveTowerOfHanoi(numDisks - 1, source, auxiliary, destination);\n",
    "        System.out.println(\"Move disk \" + numDisks + \" from rod \" + source + \" to rod \" + destination);\n",
    "        solveTowerOfHanoi(numDisks - 1, auxiliary, destination, source);\n",
    "    }\n",
    "}\n"
   ]
  },
  {
   "cell_type": "markdown",
   "id": "3d5c6f49-5ae5-4acb-aa87-a8e5539d2e8e",
   "metadata": {},
   "source": [
    "Q.2 Given two strings word1 and word2, return the minimum number of operations required to convert word1\n",
    "to word2.\n",
    "Example 1:\n",
    "Input: word1 = \"horse\", word2 = \"ros\"\n",
    "Output: 3\n",
    "Explanation:\n",
    "horse -> rorse (replace 'h' with 'r')\n",
    "rorse -> rose (remove 'r')\n",
    "rose -> ros (remove 'e')"
   ]
  },
  {
   "cell_type": "code",
   "execution_count": 3,
   "id": "008b726f-d8b1-4994-afe0-6e88a8577a72",
   "metadata": {},
   "outputs": [
    {
     "name": "stdout",
     "output_type": "stream",
     "text": [
      "3\n"
     ]
    }
   ],
   "source": [
    "def minDistance(word1, word2):\n",
    "    m, n = len(word1), len(word2)\n",
    "    \n",
    "    # Initialize a 2D array to store the edit distances\n",
    "    dp = [[0] * (n + 1) for _ in range(m + 1)]\n",
    "    \n",
    "    # Initialize the first row and column of the dp array\n",
    "    for i in range(m + 1):\n",
    "        dp[i][0] = i\n",
    "    for j in range(n + 1):\n",
    "        dp[0][j] = j\n",
    "    \n",
    "    for i in range(1, m + 1):\n",
    "        for j in range(1, n + 1):\n",
    "            if word1[i - 1] == word2[j - 1]:\n",
    "                dp[i][j] = dp[i - 1][j - 1]\n",
    "            else:\n",
    "                dp[i][j] = min(dp[i - 1][j - 1], dp[i - 1][j], dp[i][j - 1]) + 1\n",
    "    \n",
    "    return dp[m][n]\n",
    "\n",
    "word1 = \"horse\"\n",
    "word2 = \"ros\"\n",
    "print(minDistance(word1, word2))\n"
   ]
  },
  {
   "cell_type": "markdown",
   "id": "52707dfa-d05b-4b32-bcf8-232caff7b63e",
   "metadata": {},
   "source": [
    "Q. 3 Print the max value of the array [ 13, 1, -3, 22, 5]."
   ]
  },
  {
   "cell_type": "code",
   "execution_count": 4,
   "id": "12b5e889-dbbd-415c-97ea-1f658b3b06cc",
   "metadata": {},
   "outputs": [
    {
     "name": "stdout",
     "output_type": "stream",
     "text": [
      "Max value: 22\n"
     ]
    }
   ],
   "source": [
    "def max_value(arr):\n",
    "    # Base case: If the array has only one element, return that element\n",
    "    if len(arr) == 1:\n",
    "        return arr[0]\n",
    "    \n",
    "    # Recursively find the maximum value of the rest of the array\n",
    "    max_rest = max_value(arr[1:])\n",
    "    \n",
    "    # Compare the first element with the maximum value of the rest of the array\n",
    "    return arr[0] if arr[0] > max_rest else max_rest\n",
    "\n",
    "# Test the function\n",
    "arr = [13, 1, -3, 22, 5]\n",
    "print(\"Max value:\", max_value(arr))  # Output: 22\n"
   ]
  },
  {
   "cell_type": "markdown",
   "id": "8df05acc-a4f7-4e0b-8d74-bc9516a7edc4",
   "metadata": {},
   "source": [
    "Q.4 Find the sum of the values of the array [92, 23, 15, -20, 10]."
   ]
  },
  {
   "cell_type": "code",
   "execution_count": 5,
   "id": "f86444ba-17d8-4fab-af9e-ed3f21a319d9",
   "metadata": {},
   "outputs": [
    {
     "name": "stdout",
     "output_type": "stream",
     "text": [
      "Sum of array: 120\n"
     ]
    }
   ],
   "source": [
    "def array_sum(arr):\n",
    "    # Base case: If the array has only one element, return that element\n",
    "    if len(arr) == 1:\n",
    "        return arr[0]\n",
    "    # Recursively find the sum of the rest of the array\n",
    "    rest_sum = array_sum(arr[1:])\n",
    "    return arr[0] + rest_sum\n",
    "\n",
    "# Test the function\n",
    "arr = [92, 23, 15, -20, 10]\n",
    "print(\"Sum of array:\", array_sum(arr))"
   ]
  },
  {
   "cell_type": "markdown",
   "id": "79dfe2bd-d707-475a-af15-ba2670c773a1",
   "metadata": {},
   "source": [
    "Q.5 Given a number n. Print if it is an armstrong number or not.An armstrong number is a number if the sum\n",
    "of every digit in that number raised to the power of total digits in that number is equal to the number."
   ]
  },
  {
   "cell_type": "code",
   "execution_count": 10,
   "id": "01a01789-40a2-43d8-b676-5fd63cdb458c",
   "metadata": {},
   "outputs": [
    {
     "name": "stdout",
     "output_type": "stream",
     "text": [
      "Is 153 an Armstrong number? Yes\n",
      "Is 134 an Armstrong number? No\n"
     ]
    }
   ],
   "source": [
    "def is_armstrong(n):\n",
    "    # Convert the number to a string to count the number of digits\n",
    "    num_str = str(n)\n",
    "    num_digits = len(num_str)\n",
    "    armstrong_sum = sum(int(digit) ** num_digits for digit in num_str)\n",
    "    return armstrong_sum == n\n",
    "\n",
    "# Test the function\n",
    "input1 = 153\n",
    "input2 = 134\n",
    "print(\"Is\", input1, \"an Armstrong number?\", \"Yes\" if is_armstrong(input1) else \"No\")\n",
    "print(\"Is\", input2, \"an Armstrong number?\", \"Yes\" if is_armstrong(input2) else \"No\")"
   ]
  },
  {
   "cell_type": "markdown",
   "id": "5b77fe02-ebec-474d-922c-9d4335a37a55",
   "metadata": {},
   "source": [
    "# Thank You!"
   ]
  },
  {
   "cell_type": "code",
   "execution_count": null,
   "id": "dde37f70-8bf0-4f06-865f-2d5f626c533f",
   "metadata": {},
   "outputs": [],
   "source": []
  }
 ],
 "metadata": {
  "kernelspec": {
   "display_name": "Python 3 (ipykernel)",
   "language": "python",
   "name": "python3"
  },
  "language_info": {
   "codemirror_mode": {
    "name": "ipython",
    "version": 3
   },
   "file_extension": ".py",
   "mimetype": "text/x-python",
   "name": "python",
   "nbconvert_exporter": "python",
   "pygments_lexer": "ipython3",
   "version": "3.10.8"
  }
 },
 "nbformat": 4,
 "nbformat_minor": 5
}
