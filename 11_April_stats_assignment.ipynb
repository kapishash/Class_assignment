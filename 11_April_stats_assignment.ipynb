{
  "nbformat": 4,
  "nbformat_minor": 0,
  "metadata": {
    "colab": {
      "provenance": []
    },
    "kernelspec": {
      "name": "python3",
      "display_name": "Python 3"
    },
    "language_info": {
      "name": "python"
    }
  },
  "cells": [
    {
      "cell_type": "markdown",
      "source": [
        "1) Generate a list o> R00 integers containing values between 90 to R30 and store it in the variable `int_list`.\n",
        "A>ter generating the list, find the following:\n",
        "\n",
        "  \n",
        "\n",
        "  (i) Write a Python function to calculate the mean of a given list of numbers.\n",
        "\n",
        "Create a function to find the median of a list of numbers.\n",
        "\n",
        "  \n",
        "\n",
        "  (ii) Develop a program to compute the mode of a list of integers.\n",
        "\n",
        "  \n",
        "\n",
        "  (iii) Implement a function to calculate the weighted mean of a list of values and their corresponding weights.\n",
        "\n",
        "  \n",
        "\n",
        "  (iv) Write a Python function to find the geometric mean of a list of positive numbers.\n",
        "\n",
        "  \n",
        "\n",
        "  (v) Create a program to calculate the harmonic mean of a list of values.\n",
        "\n",
        "  \n",
        "\n",
        "  (vi) Build a function to determine the midrange of a list of numbers (average of the minimum and maximum).\n",
        "\n",
        "  \n",
        "\n",
        "  (vii) Implement a Python program to find the trimmed mean of a list, excluding a certain percentage of\n",
        "outliers.\n"
      ],
      "metadata": {
        "id": "OE1L2aPPpvFO"
      }
    },
    {
      "cell_type": "code",
      "execution_count": 1,
      "metadata": {
        "id": "O5_EuXu0prSv"
      },
      "outputs": [],
      "source": [
        "import random\n",
        "\n",
        "# Generate a list of 100 integers between 90 and 130\n",
        "int_list = [random.randint(90, 130) for _ in range(100)]\n"
      ]
    },
    {
      "cell_type": "code",
      "source": [
        "# Function to calculate the mean of a list\n",
        "def calculate_mean(numbers):\n",
        "    return sum(numbers) / len(numbers)\n",
        "\n",
        "mean = calculate_mean(int_list)\n",
        "mean\n"
      ],
      "metadata": {
        "colab": {
          "base_uri": "https://localhost:8080/"
        },
        "id": "aYFlLeGdqHCd",
        "outputId": "84647e9b-86a6-4f6b-e63d-fa24659359e7"
      },
      "execution_count": 2,
      "outputs": [
        {
          "output_type": "execute_result",
          "data": {
            "text/plain": [
              "110.32"
            ]
          },
          "metadata": {},
          "execution_count": 2
        }
      ]
    },
    {
      "cell_type": "code",
      "source": [
        "# Function to calculate the median of a list\n",
        "def calculate_median(numbers):\n",
        "    sorted_numbers = sorted(numbers)\n",
        "    n = len(numbers)\n",
        "    middle = n // 2\n",
        "\n",
        "    if n % 2 == 0:  # even number of elements\n",
        "        median = (sorted_numbers[middle - 1] + sorted_numbers[middle]) / 2\n",
        "    else:  # odd number of elements\n",
        "        median = sorted_numbers[middle]\n",
        "    return median\n",
        "\n",
        "median = calculate_median(int_list)\n",
        "median"
      ],
      "metadata": {
        "colab": {
          "base_uri": "https://localhost:8080/"
        },
        "id": "hJNi3Oj4qK_k",
        "outputId": "acf993de-fd3f-4d2f-c8f6-f7232735b908"
      },
      "execution_count": 3,
      "outputs": [
        {
          "output_type": "execute_result",
          "data": {
            "text/plain": [
              "111.0"
            ]
          },
          "metadata": {},
          "execution_count": 3
        }
      ]
    },
    {
      "cell_type": "code",
      "source": [
        "from collections import Counter\n",
        "\n",
        "# Function to calculate the mode of a list\n",
        "def calculate_mode(numbers):\n",
        "    count = Counter(numbers)\n",
        "    max_count = max(count.values())\n",
        "    mode = [key for key, value in count.items() if value == max_count]\n",
        "    return mode\n",
        "\n",
        "mode = calculate_mode(int_list)\n",
        "mode"
      ],
      "metadata": {
        "colab": {
          "base_uri": "https://localhost:8080/"
        },
        "id": "bHXB-jsGqV9g",
        "outputId": "ca28deaf-5842-463c-ba43-d4aeca55b934"
      },
      "execution_count": 4,
      "outputs": [
        {
          "output_type": "execute_result",
          "data": {
            "text/plain": [
              "[117]"
            ]
          },
          "metadata": {},
          "execution_count": 4
        }
      ]
    },
    {
      "cell_type": "code",
      "source": [
        "# Function to calculate the weighted mean of a list\n",
        "def calculate_weighted_mean(values, weights):\n",
        "    weighted_sum = sum(value * weight for value, weight in zip(values, weights))\n",
        "    total_weight = sum(weights)\n",
        "    return weighted_sum / total_weight\n",
        "\n",
        "# Example usage (random weights)\n",
        "weights = [random.uniform(1, 3) for _ in range(100)]\n",
        "weighted_mean = calculate_weighted_mean(int_list, weights)\n",
        "\n",
        "weighted_mean"
      ],
      "metadata": {
        "colab": {
          "base_uri": "https://localhost:8080/"
        },
        "id": "YnY3bTxdqc9j",
        "outputId": "081ac5c1-27f1-450a-b869-5e83e337b360"
      },
      "execution_count": 5,
      "outputs": [
        {
          "output_type": "execute_result",
          "data": {
            "text/plain": [
              "110.28202953914176"
            ]
          },
          "metadata": {},
          "execution_count": 5
        }
      ]
    },
    {
      "cell_type": "code",
      "source": [
        "import math\n",
        "\n",
        "# Function to calculate the geometric mean of a list of positive numbers\n",
        "def calculate_geometric_mean(numbers):\n",
        "    product = math.prod(numbers)\n",
        "    return product ** (1 / len(numbers))\n",
        "\n",
        "# Ensure all numbers are positive\n",
        "geometric_mean = calculate_geometric_mean([num for num in int_list if num > 0])\n",
        "geometric_mean"
      ],
      "metadata": {
        "colab": {
          "base_uri": "https://localhost:8080/"
        },
        "id": "XkbSuI1Uqjfk",
        "outputId": "7e43aa08-a2a5-4ba0-f013-42f4bf58284e"
      },
      "execution_count": 6,
      "outputs": [
        {
          "output_type": "execute_result",
          "data": {
            "text/plain": [
              "109.68404544203102"
            ]
          },
          "metadata": {},
          "execution_count": 6
        }
      ]
    },
    {
      "cell_type": "code",
      "source": [
        "# Function to calculate the harmonic mean of a list\n",
        "def calculate_harmonic_mean(numbers):\n",
        "    return len(numbers) / sum(1 / num for num in numbers)\n",
        "\n",
        "harmonic_mean = calculate_harmonic_mean(int_list)\n",
        "harmonic_mean"
      ],
      "metadata": {
        "colab": {
          "base_uri": "https://localhost:8080/"
        },
        "id": "9MfiVQ_Sqom8",
        "outputId": "35d68498-56d7-4576-bd34-ebdb6b47e26c"
      },
      "execution_count": 7,
      "outputs": [
        {
          "output_type": "execute_result",
          "data": {
            "text/plain": [
              "109.04204777191524"
            ]
          },
          "metadata": {},
          "execution_count": 7
        }
      ]
    },
    {
      "cell_type": "code",
      "source": [
        "# Function to calculate the midrange of a list\n",
        "def calculate_midrange(numbers):\n",
        "    return (min(numbers) + max(numbers)) / 2\n",
        "\n",
        "midrange = calculate_midrange(int_list)\n",
        "midrange"
      ],
      "metadata": {
        "colab": {
          "base_uri": "https://localhost:8080/"
        },
        "id": "n85oEFTZqr3j",
        "outputId": "0176a6db-ce74-4c6f-968a-d16124413916"
      },
      "execution_count": 8,
      "outputs": [
        {
          "output_type": "execute_result",
          "data": {
            "text/plain": [
              "110.5"
            ]
          },
          "metadata": {},
          "execution_count": 8
        }
      ]
    },
    {
      "cell_type": "code",
      "source": [
        "# Function to calculate the trimmed mean, excluding a certain percentage of outliers\n",
        "def calculate_trimmed_mean(numbers, percentage):\n",
        "    trimmed_count = int(len(numbers) * percentage / 100)\n",
        "    sorted_numbers = sorted(numbers)\n",
        "    trimmed_numbers = sorted_numbers[trimmed_count: -trimmed_count]\n",
        "    return calculate_mean(trimmed_numbers)\n",
        "\n",
        "# Example: Calculate trimmed mean by excluding 10% of the smallest and largest values\n",
        "trimmed_mean = calculate_trimmed_mean(int_list, 10)\n",
        "trimmed_mean"
      ],
      "metadata": {
        "colab": {
          "base_uri": "https://localhost:8080/"
        },
        "id": "Y6JkMFXxquzj",
        "outputId": "066dd8e9-f9b4-442f-dbcc-cdfd5f77034f"
      },
      "execution_count": 9,
      "outputs": [
        {
          "output_type": "execute_result",
          "data": {
            "text/plain": [
              "110.425"
            ]
          },
          "metadata": {},
          "execution_count": 9
        }
      ]
    },
    {
      "cell_type": "markdown",
      "source": [
        " 2. Generate a list o> 500 integers containing values between 200 to 300 and store it in the variable `int_list2`.\n",
        "A>ter generating the list, find the following:\n",
        "\n",
        "\n",
        "  (i) Compare the given list of visualization for the given data:\n",
        "\n",
        "    \n",
        "\n",
        "    1. Frequency & Gaussian distribution\n",
        "\n",
        "    2. Frequency smoothened KDE plot\n",
        "\n",
        "    3. Gaussian distribution & smoothened KDE plot\n",
        "\n",
        "\n",
        "  (ii) Write a Python function to calculate the range of a given list of numbers.\n",
        "\n",
        "\n",
        "  (iii) Create a program to find the variance and standard deviation of a list of numbers.\n",
        "\n",
        "\n",
        "  (iv) Implement a function to compute the interquartile range (IQR) of a list of values.\n",
        "\n",
        "\n",
        "  (v) Build a program to calculate the coefficient of variation for a dataset.\n",
        "\n",
        "  \n",
        "\n",
        "  (vi) Write a Python function to find the mean absolute deviation (MAD) of a list of numbers.\n",
        "\n",
        "\n",
        "  (vii) Create a program to calculate the quartile deviation of a list of values.\n",
        "\n",
        "  \n",
        "\n",
        "  (viii) Implement a function to find the range-based coefficient of dispersion for a dataset."
      ],
      "metadata": {
        "id": "1AeIalWSq5VC"
      }
    },
    {
      "cell_type": "code",
      "source": [
        "import random\n",
        "\n",
        "# Generate a list of 500 integers between 200 and 300\n",
        "int_list2 = [random.randint(200, 300) for _ in range(500)]\n"
      ],
      "metadata": {
        "id": "j3bmbVd8qyR8"
      },
      "execution_count": 10,
      "outputs": []
    },
    {
      "cell_type": "code",
      "source": [
        "import matplotlib.pyplot as plt\n",
        "import seaborn as sns\n",
        "import numpy as np\n",
        "\n",
        "# Frequency plot with Gaussian distribution overlay\n",
        "plt.figure(figsize=(10, 6))\n",
        "sns.histplot(int_list2, kde=False, color='blue', bins=30, stat='density')\n",
        "mu, sigma = np.mean(int_list2), np.std(int_list2)\n",
        "x = np.linspace(min(int_list2), max(int_list2), 100)\n",
        "gaussian = (1 / (sigma * np.sqrt(2 * np.pi))) * np.exp(-(x - mu) ** 2 / (2 * sigma ** 2))\n",
        "plt.plot(x, gaussian, color='red', label='Gaussian Distribution')\n",
        "plt.title(\"Frequency & Gaussian Distribution\")\n",
        "plt.legend()\n",
        "plt.show()\n"
      ],
      "metadata": {
        "colab": {
          "base_uri": "https://localhost:8080/",
          "height": 545
        },
        "id": "HJpXrNMtrDqT",
        "outputId": "0efaa3f5-cd3a-4803-f280-97df1b85b275"
      },
      "execution_count": 11,
      "outputs": [
        {
          "output_type": "display_data",
          "data": {
            "text/plain": [
              "<Figure size 1000x600 with 1 Axes>"
            ],
            "image/png": "[encoded data removed]"
          },
          "metadata": {}
        }
      ]
    },
    {
      "cell_type": "code",
      "source": [
        "# Frequency plot with KDE overlay\n",
        "plt.figure(figsize=(10, 6))\n",
        "sns.histplot(int_list2, kde=True, color='blue', bins=30)\n",
        "plt.title(\"Frequency with KDE\")\n",
        "plt.show()\n"
      ],
      "metadata": {
        "colab": {
          "base_uri": "https://localhost:8080/",
          "height": 545
        },
        "id": "I40aGiw3rGKz",
        "outputId": "0406d1c8-50a9-4168-ce53-deecaae89a82"
      },
      "execution_count": 12,
      "outputs": [
        {
          "output_type": "display_data",
          "data": {
            "text/plain": [
              "<Figure size 1000x600 with 1 Axes>"
            ],
            "image/png": "[encoded data removed]"
          },
          "metadata": {}
        }
      ]
    },
    {
      "cell_type": "code",
      "source": [
        "\n",
        "# Gaussian Distribution and KDE Plot\n",
        "plt.figure(figsize=(10, 6))\n",
        "sns.kdeplot(int_list2, color='green', label='KDE')\n",
        "plt.plot(x, gaussian, color='red', label='Gaussian Distribution')\n",
        "plt.title(\"Gaussian Distribution & Smoothened KDE Plot\")\n",
        "plt.legend()\n",
        "plt.show()\n"
      ],
      "metadata": {
        "colab": {
          "base_uri": "https://localhost:8080/",
          "height": 545
        },
        "id": "8W5lVdDirHmi",
        "outputId": "af2a7bca-c0ab-4e18-84d4-6799afeec468"
      },
      "execution_count": 13,
      "outputs": [
        {
          "output_type": "display_data",
          "data": {
            "text/plain": [
              "<Figure size 1000x600 with 1 Axes>"
            ],
            "image/png": "[encoded data removed]"
          },
          "metadata": {}
        }
      ]
    },
    {
      "cell_type": "code",
      "source": [
        "# Function to calculate the range of a list of numbers\n",
        "def calculate_range(numbers):\n",
        "    return max(numbers) - min(numbers)\n",
        "\n",
        "range_value = calculate_range(int_list2)\n",
        "range_value"
      ],
      "metadata": {
        "colab": {
          "base_uri": "https://localhost:8080/"
        },
        "id": "2e4DNvmKrL9L",
        "outputId": "8cfe0597-2dfe-4bcd-a79a-54ce0c463a25"
      },
      "execution_count": 14,
      "outputs": [
        {
          "output_type": "execute_result",
          "data": {
            "text/plain": [
              "100"
            ]
          },
          "metadata": {},
          "execution_count": 14
        }
      ]
    },
    {
      "cell_type": "code",
      "source": [
        "# Function to calculate the variance and standard deviation\n",
        "def calculate_variance_std(numbers):\n",
        "    mean = sum(numbers) / len(numbers)\n",
        "    variance = sum((x - mean) ** 2 for x in numbers) / len(numbers)\n",
        "    std_dev = variance ** 0.5\n",
        "    return variance, std_dev\n",
        "\n",
        "variance, std_dev = calculate_variance_std(int_list2)\n",
        "print(f'variance: {variance}, std_dev: {std_dev}')"
      ],
      "metadata": {
        "colab": {
          "base_uri": "https://localhost:8080/"
        },
        "id": "tmzge6D0rOET",
        "outputId": "a5f5e27d-15ca-4e1e-ba03-a21d224133b4"
      },
      "execution_count": 15,
      "outputs": [
        {
          "output_type": "stream",
          "name": "stdout",
          "text": [
            "variance: 850.932064, std_dev: 29.17073986034636\n"
          ]
        }
      ]
    },
    {
      "cell_type": "code",
      "source": [
        "# Function to calculate the interquartile range (IQR)\n",
        "def calculate_iqr(numbers):\n",
        "    sorted_numbers = sorted(numbers)\n",
        "    q1 = np.percentile(sorted_numbers, 25)\n",
        "    q3 = np.percentile(sorted_numbers, 75)\n",
        "    return q3 - q1\n",
        "\n",
        "iqr = calculate_iqr(int_list2)\n",
        "iqr"
      ],
      "metadata": {
        "colab": {
          "base_uri": "https://localhost:8080/"
        },
        "id": "593qyt0yrarb",
        "outputId": "943736f9-8676-4637-e187-72d73b1caf01"
      },
      "execution_count": 16,
      "outputs": [
        {
          "output_type": "execute_result",
          "data": {
            "text/plain": [
              "49.25"
            ]
          },
          "metadata": {},
          "execution_count": 16
        }
      ]
    },
    {
      "cell_type": "code",
      "source": [
        "# Function to calculate the coefficient of variation\n",
        "def calculate_coefficient_of_variation(numbers):\n",
        "    mean = calculate_mean(numbers)\n",
        "    std_dev = np.std(numbers)\n",
        "    return std_dev / mean\n",
        "\n",
        "coefficient_of_variation = calculate_coefficient_of_variation(int_list2)\n",
        "coefficient_of_variation"
      ],
      "metadata": {
        "colab": {
          "base_uri": "https://localhost:8080/"
        },
        "id": "yP5Agrm1rdWT",
        "outputId": "9d4bb783-aced-4f25-82ad-1b19bb76edbd"
      },
      "execution_count": 17,
      "outputs": [
        {
          "output_type": "execute_result",
          "data": {
            "text/plain": [
              "0.11689617807018544"
            ]
          },
          "metadata": {},
          "execution_count": 17
        }
      ]
    },
    {
      "cell_type": "code",
      "source": [
        "# Function to calculate the mean absolute deviation (MAD)\n",
        "def calculate_mad(numbers):\n",
        "    mean = calculate_mean(numbers)\n",
        "    return sum(abs(x - mean) for x in numbers) / len(numbers)\n",
        "\n",
        "mad = calculate_mad(int_list2)\n",
        "mad"
      ],
      "metadata": {
        "colab": {
          "base_uri": "https://localhost:8080/"
        },
        "id": "rjRCyiCnrgWc",
        "outputId": "e5af7b81-4e47-484c-b5ba-6dd128b01254"
      },
      "execution_count": 18,
      "outputs": [
        {
          "output_type": "execute_result",
          "data": {
            "text/plain": [
              "25.268704000000003"
            ]
          },
          "metadata": {},
          "execution_count": 18
        }
      ]
    },
    {
      "cell_type": "code",
      "source": [
        "# Function to calculate the quartile deviation (Q3 - Q1) / 2\n",
        "def calculate_quartile_deviation(numbers):\n",
        "    sorted_numbers = sorted(numbers)\n",
        "    q1 = np.percentile(sorted_numbers, 25)\n",
        "    q3 = np.percentile(sorted_numbers, 75)\n",
        "    return (q3 - q1) / 2\n",
        "\n",
        "quartile_deviation = calculate_quartile_deviation(int_list2)\n",
        "quartile_deviation"
      ],
      "metadata": {
        "colab": {
          "base_uri": "https://localhost:8080/"
        },
        "id": "4ZQ5kWxGrj2z",
        "outputId": "686bf656-687a-4d66-8463-9c404a74e357"
      },
      "execution_count": 19,
      "outputs": [
        {
          "output_type": "execute_result",
          "data": {
            "text/plain": [
              "24.625"
            ]
          },
          "metadata": {},
          "execution_count": 19
        }
      ]
    },
    {
      "cell_type": "code",
      "source": [
        "# Function to calculate range-based coefficient of dispersion\n",
        "def calculate_range_coefficient_of_dispersion(numbers):\n",
        "    range_value = calculate_range(numbers)\n",
        "    mean = calculate_mean(numbers)\n",
        "    return range_value / mean\n",
        "\n",
        "range_coefficient_of_dispersion = calculate_range_coefficient_of_dispersion(int_list2)\n",
        "range_coefficient_of_dispersion"
      ],
      "metadata": {
        "colab": {
          "base_uri": "https://localhost:8080/"
        },
        "id": "hxiIijRkrnfy",
        "outputId": "8e0835ec-aac4-41a1-b8be-5d3e0125360f"
      },
      "execution_count": 20,
      "outputs": [
        {
          "output_type": "execute_result",
          "data": {
            "text/plain": [
              "0.40073093322219727"
            ]
          },
          "metadata": {},
          "execution_count": 20
        }
      ]
    },
    {
      "cell_type": "markdown",
      "source": [
        "3)  Write a Python class representing a discrete random variable with methods to calculate its expected\n",
        "value and variance."
      ],
      "metadata": {
        "id": "k1JSe4BSrrsf"
      }
    },
    {
      "cell_type": "code",
      "source": [
        "class DiscreteRandomVariable:\n",
        "    def __init__(self, values, probabilities):\n",
        "        if len(values) != len(probabilities):\n",
        "            raise ValueError(\"Values and probabilities must have the same length.\")\n",
        "\n",
        "        if not (0 <= sum(probabilities) <= 1):\n",
        "            raise ValueError(\"Probabilities must sum to 1.\")\n",
        "\n",
        "        self.values = values\n",
        "        self.probabilities = probabilities\n",
        "\n",
        "    def expected_value(self):\n",
        "        return sum(value * prob for value, prob in zip(self.values, self.probabilities))\n",
        "\n",
        "    def variance(self):\n",
        "        mean = self.expected_value()\n",
        "        return sum(prob * (value - mean) ** 2 for value, prob in zip(self.values, self.probabilities))\n",
        "\n",
        "\n",
        "# Example usage\n",
        "values = [1, 2, 3, 4, 5]  # Possible values of the random variable\n",
        "probabilities = [0.1, 0.2, 0.3, 0.2, 0.2]  # Corresponding probabilities\n",
        "\n",
        "random_var = DiscreteRandomVariable(values, probabilities)\n",
        "\n",
        "expected_value = random_var.expected_value()\n",
        "variance = random_var.variance()\n",
        "\n",
        "print(f\"Expected Value: {expected_value}\")\n",
        "print(f\"Variance: {variance}\")\n"
      ],
      "metadata": {
        "colab": {
          "base_uri": "https://localhost:8080/"
        },
        "id": "87jlwAoMrqZb",
        "outputId": "aff491cc-84ce-4b1e-8f4d-d7d7a804be21"
      },
      "execution_count": 21,
      "outputs": [
        {
          "output_type": "stream",
          "name": "stdout",
          "text": [
            "Expected Value: 3.2\n",
            "Variance: 1.56\n"
          ]
        }
      ]
    },
    {
      "cell_type": "markdown",
      "source": [
        "4) Implement a program to simulate the rolling of a fair six-sided die and calculate the expected value and\n",
        "variance o6 the outcomes."
      ],
      "metadata": {
        "id": "6g5dKXLIsEeA"
      }
    },
    {
      "cell_type": "code",
      "source": [
        "import random\n",
        "\n",
        "class DiceSimulation:\n",
        "    def __init__(self, num_rolls=1000):\n",
        "        self.num_rolls = num_rolls\n",
        "        self.outcomes = []\n",
        "\n",
        "    def roll_dice(self):\n",
        "        for _ in range(self.num_rolls):\n",
        "            die1 = random.randint(1, 6)\n",
        "            die2 = random.randint(1, 6)\n",
        "            self.outcomes.append(die1 + die2)  # Sum of the two dice\n",
        "\n",
        "    def expected_value(self):\n",
        "        return sum(self.outcomes) / len(self.outcomes)\n",
        "\n",
        "    def variance(self):\n",
        "        mean = self.expected_value()\n",
        "        return sum((x - mean) ** 2 for x in self.outcomes) / len(self.outcomes)\n",
        "\n",
        "# Simulate rolling two six-sided dice\n",
        "dice_sim = DiceSimulation(num_rolls=10000)\n",
        "dice_sim.roll_dice()\n",
        "\n",
        "# Calculate expected value and variance\n",
        "expected_value = dice_sim.expected_value()\n",
        "variance = dice_sim.variance()\n",
        "\n",
        "print(f\"Expected Value of the dice outcomes: {expected_value}\")\n",
        "print(f\"Variance of the dice outcomes: {variance}\")\n"
      ],
      "metadata": {
        "colab": {
          "base_uri": "https://localhost:8080/"
        },
        "id": "4SMi1-tEr9Sr",
        "outputId": "0c556946-430e-4f7e-fff8-c8cf0d96350c"
      },
      "execution_count": 22,
      "outputs": [
        {
          "output_type": "stream",
          "name": "stdout",
          "text": [
            "Expected Value of the dice outcomes: 7.0301\n",
            "Variance of the dice outcomes: 5.836993989999062\n"
          ]
        }
      ]
    },
    {
      "cell_type": "markdown",
      "source": [
        "5) Create a Python 6unction to generate random samples 6rom a given probability distribution (e.g.,\n",
        "binomial, Poisson) and calculate their mean and variance."
      ],
      "metadata": {
        "id": "wnW5OyKbsTzg"
      }
    },
    {
      "cell_type": "code",
      "source": [
        "import numpy as np\n",
        "\n",
        "def generate_samples(distribution, params, num_samples=1000):\n",
        "\n",
        "    if distribution == 'binomial':\n",
        "        n, p = params  # n = number of trials, p = probability of success\n",
        "        samples = np.random.binomial(n, p, num_samples)\n",
        "    elif distribution == 'poisson':\n",
        "        lam = params[0]  # lambda (rate of occurrences)\n",
        "        samples = np.random.poisson(lam, num_samples)\n",
        "    else:\n",
        "        raise ValueError(\"Unsupported distribution type. Use 'binomial' or 'poisson'.\")\n",
        "\n",
        "    mean = np.mean(samples)\n",
        "    variance = np.var(samples)\n",
        "\n",
        "    return mean, variance, samples\n",
        "\n",
        "\n",
        "mean_binomial, variance_binomial, binomial_samples = generate_samples('binomial', (10, 0.5), 1000)\n",
        "print(f\"Binomial Distribution -> Mean: {mean_binomial}, Variance: {variance_binomial}\")\n",
        "\n",
        "mean_poisson, variance_poisson, poisson_samples = generate_samples('poisson', (4,), 1000)\n",
        "print(f\"Poisson Distribution -> Mean: {mean_poisson}, Variance: {variance_poisson}\")\n"
      ],
      "metadata": {
        "colab": {
          "base_uri": "https://localhost:8080/"
        },
        "id": "pIWsyJ-3sOFU",
        "outputId": "038df582-9b47-418c-e66f-7ec76fb7cfc7"
      },
      "execution_count": 23,
      "outputs": [
        {
          "output_type": "stream",
          "name": "stdout",
          "text": [
            "Binomial Distribution -> Mean: 5.049, Variance: 2.626599\n",
            "Poisson Distribution -> Mean: 4.021, Variance: 3.7525589999999993\n"
          ]
        }
      ]
    },
    {
      "cell_type": "markdown",
      "source": [
        "6) Write a Python script to generate random numbers from a Gaussian (normal) distribution and compute\n",
        "the mean, variance, and standard deviation of the samples."
      ],
      "metadata": {
        "id": "29Zv5pk3sm7T"
      }
    },
    {
      "cell_type": "code",
      "source": [
        "import numpy as np\n",
        "\n",
        "def gaussian_statistics(mean, std_dev, num_samples=1000):\n",
        "\n",
        "    samples = np.random.normal(loc=mean, scale=std_dev, size=num_samples)\n",
        "\n",
        "\n",
        "    calculated_mean = np.mean(samples)\n",
        "    calculated_variance = np.var(samples)\n",
        "    calculated_std_dev = np.std(samples)\n",
        "\n",
        "    return calculated_mean, calculated_variance, calculated_std_dev, samples\n",
        "\n",
        "# Example usage\n",
        "mean = 0\n",
        "std_dev = 1\n",
        "num_samples = 10000\n",
        "\n",
        "\n",
        "calculated_mean, calculated_variance, calculated_std_dev, gaussian_samples = gaussian_statistics(mean, std_dev, num_samples)\n",
        "\n",
        "# Print the results\n",
        "print(f\"Generated Gaussian Samples -> Mean: {calculated_mean}\")\n",
        "print(f\"Generated Gaussian Samples -> Variance: {calculated_variance}\")\n",
        "print(f\"Generated Gaussian Samples -> Standard Deviation: {calculated_std_dev}\")\n"
      ],
      "metadata": {
        "colab": {
          "base_uri": "https://localhost:8080/"
        },
        "id": "IyieCPLcsmwt",
        "outputId": "0717fab0-d4ed-4168-e8c9-4ecd17d3c222"
      },
      "execution_count": 24,
      "outputs": [
        {
          "output_type": "stream",
          "name": "stdout",
          "text": [
            "Generated Gaussian Samples -> Mean: -0.004517058013913433\n",
            "Generated Gaussian Samples -> Variance: 0.9883419669706144\n",
            "Generated Gaussian Samples -> Standard Deviation: 0.9941538950135509\n"
          ]
        }
      ]
    },
    {
      "cell_type": "markdown",
      "source": [
        "7) Use seaborn library to load tips dataset. Find the 6ollowing 6rom the dataset 6or the columns total_bill\n",
        "and tip`:\n",
        "\n",
        "  \n",
        "\n",
        "  (1) Write a Python function that calculates their skewness.\n",
        "\n",
        "\n",
        "  (2) Create a program that determines whether the columns exhibit positive skewness, negative skewness, or is\n",
        "approximately symmetric.\n",
        "\n",
        "\n",
        "  (3) Write a function that calculates the covariance between two columns.\n",
        "\n",
        "\n",
        "  (4) Implement a Python program that calculates the Pearson correlation coefficient between two columns.\n",
        "\n",
        "\n",
        "  (5) Write a script to visualize the correlation between two specific columns in a Pandas DataFrame using\n",
        "scatter plots."
      ],
      "metadata": {
        "id": "43_6cIfds9k1"
      }
    },
    {
      "cell_type": "code",
      "source": [
        "import seaborn as sns\n",
        "import pandas as pd\n",
        "import numpy as np\n",
        "import matplotlib.pyplot as plt\n",
        "from scipy.stats import skew, pearsonr\n",
        "\n",
        "# Load the tips dataset\n",
        "tips = sns.load_dataset(\"tips\")\n",
        "\n",
        "# Display the first few rows\n",
        "print(tips.head())\n"
      ],
      "metadata": {
        "colab": {
          "base_uri": "https://localhost:8080/"
        },
        "id": "MMFssN2Tskaj",
        "outputId": "767def08-1e4c-458a-8ff3-c81c75a574d5"
      },
      "execution_count": 25,
      "outputs": [
        {
          "output_type": "stream",
          "name": "stdout",
          "text": [
            "   total_bill   tip     sex smoker  day    time  size\n",
            "0       16.99  1.01  Female     No  Sun  Dinner     2\n",
            "1       10.34  1.66    Male     No  Sun  Dinner     3\n",
            "2       21.01  3.50    Male     No  Sun  Dinner     3\n",
            "3       23.68  3.31    Male     No  Sun  Dinner     2\n",
            "4       24.59  3.61  Female     No  Sun  Dinner     4\n"
          ]
        }
      ]
    },
    {
      "cell_type": "code",
      "source": [
        "def calculate_skewness(column):\n",
        "    return skew(column)\n",
        "\n",
        "\n",
        "total_bill_skewness = calculate_skewness(tips['total_bill'])\n",
        "tip_skewness = calculate_skewness(tips['tip'])\n",
        "\n",
        "print(f\"Skewness of total_bill: {total_bill_skewness}\")\n",
        "print(f\"Skewness of tip: {tip_skewness}\")\n"
      ],
      "metadata": {
        "colab": {
          "base_uri": "https://localhost:8080/"
        },
        "id": "05LCWbF6teFj",
        "outputId": "8f3ddc2c-f048-48e0-d52b-0a7cfbca7a8d"
      },
      "execution_count": 26,
      "outputs": [
        {
          "output_type": "stream",
          "name": "stdout",
          "text": [
            "Skewness of total_bill: 1.1262346334818638\n",
            "Skewness of tip: 1.4564266884221506\n"
          ]
        }
      ]
    },
    {
      "cell_type": "code",
      "source": [
        "def skewness_type(skewness_value):\n",
        "    if skewness_value > 0:\n",
        "        return \"Positive Skewness\"\n",
        "    elif skewness_value < 0:\n",
        "        return \"Negative Skewness\"\n",
        "    else:\n",
        "        return \"Approximately Symmetric\"\n",
        "\n",
        "\n",
        "total_bill_skew_type = skewness_type(total_bill_skewness)\n",
        "tip_skew_type = skewness_type(tip_skewness)\n",
        "\n",
        "print(f\"Total Bill Skewness Type: {total_bill_skew_type}\")\n",
        "print(f\"Tip Skewness Type: {tip_skew_type}\")\n"
      ],
      "metadata": {
        "colab": {
          "base_uri": "https://localhost:8080/"
        },
        "id": "dO4h5Ju7thG6",
        "outputId": "fa96d908-68ef-4e06-fb62-b8715ab60886"
      },
      "execution_count": 27,
      "outputs": [
        {
          "output_type": "stream",
          "name": "stdout",
          "text": [
            "Total Bill Skewness Type: Positive Skewness\n",
            "Tip Skewness Type: Positive Skewness\n"
          ]
        }
      ]
    },
    {
      "cell_type": "code",
      "source": [
        "def calculate_covariance(column1, column2):\n",
        "    return np.cov(column1, column2)[0, 1]\n",
        "\n",
        "\n",
        "covariance = calculate_covariance(tips['total_bill'], tips['tip'])\n",
        "print(f\"Covariance between total_bill and tip: {covariance}\")\n"
      ],
      "metadata": {
        "colab": {
          "base_uri": "https://localhost:8080/"
        },
        "id": "dYWIOB6utljT",
        "outputId": "da2a88a4-0d06-4e41-ed1c-216f81e60799"
      },
      "execution_count": 28,
      "outputs": [
        {
          "output_type": "stream",
          "name": "stdout",
          "text": [
            "Covariance between total_bill and tip: 8.323501629224854\n"
          ]
        }
      ]
    },
    {
      "cell_type": "code",
      "source": [
        "def calculate_pearson_correlation(column1, column2):\n",
        "    return pearsonr(column1, column2)[0]\n",
        "\n",
        "\n",
        "pearson_corr = calculate_pearson_correlation(tips['total_bill'], tips['tip'])\n",
        "print(f\"Pearson Correlation between total_bill and tip: {pearson_corr}\")\n"
      ],
      "metadata": {
        "colab": {
          "base_uri": "https://localhost:8080/"
        },
        "id": "-Jpfv-KUtpEb",
        "outputId": "c826b50e-cb3f-42eb-9126-132c97ded285"
      },
      "execution_count": 29,
      "outputs": [
        {
          "output_type": "stream",
          "name": "stdout",
          "text": [
            "Pearson Correlation between total_bill and tip: 0.6757341092113647\n"
          ]
        }
      ]
    },
    {
      "cell_type": "code",
      "source": [
        "def plot_scatter(column1, column2, column1_name, column2_name):\n",
        "\n",
        "    plt.figure(figsize=(8, 6))\n",
        "    plt.scatter(column1, column2, alpha=0.5)\n",
        "    plt.title(f'Scatter Plot of {column1_name} vs {column2_name}')\n",
        "    plt.xlabel(column1_name)\n",
        "    plt.ylabel(column2_name)\n",
        "    plt.show()\n",
        "\n",
        "plot_scatter(tips['total_bill'], tips['tip'], 'Total Bill', 'Tip')\n"
      ],
      "metadata": {
        "colab": {
          "base_uri": "https://localhost:8080/",
          "height": 564
        },
        "id": "ovdZcE3rtsXs",
        "outputId": "268500d5-3924-4821-b754-a788f7563188"
      },
      "execution_count": 30,
      "outputs": [
        {
          "output_type": "display_data",
          "data": {
            "text/plain": [
              "<Figure size 800x600 with 1 Axes>"
            ],
            "image/png": "[encoded data removed]"
          },
          "metadata": {}
        }
      ]
    },
    {
      "cell_type": "markdown",
      "source": [
        "8) Write a Python function to calculate the probability density function (PDF) of a continuous random\n",
        "variable for a given normal distribution.\n"
      ],
      "metadata": {
        "id": "yC8CxGfxuAGw"
      }
    },
    {
      "cell_type": "code",
      "source": [
        "import numpy as np\n",
        "\n",
        "def normal_pdf(x, mean, std_dev):\n",
        "    coefficient = 1 / (std_dev * np.sqrt(2 * np.pi))\n",
        "\n",
        "\n",
        "    exponent = np.exp(- ((x - mean) ** 2) / (2 * std_dev ** 2))\n",
        "\n",
        "    return coefficient * exponent\n",
        "\n",
        "# Example usage\n",
        "mean = 0    # Mean of the distribution\n",
        "std_dev = 1  # Standard deviation of the distribution\n",
        "x = 1.0      # Point at which to calculate the PDF\n",
        "\n",
        "pdf_value = normal_pdf(x, mean, std_dev)\n",
        "print(f\"PDF of the normal distribution at x={x}: {pdf_value}\")\n"
      ],
      "metadata": {
        "colab": {
          "base_uri": "https://localhost:8080/"
        },
        "id": "nmtKXmNVt2Zr",
        "outputId": "d27bfa5f-5f2d-4ede-ef5c-adceec988137"
      },
      "execution_count": 31,
      "outputs": [
        {
          "output_type": "stream",
          "name": "stdout",
          "text": [
            "PDF of the normal distribution at x=1.0: 0.24197072451914337\n"
          ]
        }
      ]
    },
    {
      "cell_type": "markdown",
      "source": [
        "9) Create a program to calculate the cumulative distribution function (CDF) of exponential distribution."
      ],
      "metadata": {
        "id": "-W9kR5aOuYTn"
      }
    },
    {
      "cell_type": "code",
      "source": [
        "import numpy as np\n",
        "\n",
        "def exponential_cdf(x, rate):\n",
        "    if x < 0:\n",
        "        return 0\n",
        "    else:\n",
        "        return 1 - np.exp(-rate * x)\n",
        "\n",
        "# Example usage\n",
        "rate = 0.5  # λ = 0.5 (This means the mean is 1/λ = 2)\n",
        "x = 3.0     # Point at which to calculate the CDF\n",
        "\n",
        "cdf_value = exponential_cdf(x, rate)\n",
        "print(f\"CDF of the exponential distribution at x={x}: {cdf_value}\")\n"
      ],
      "metadata": {
        "colab": {
          "base_uri": "https://localhost:8080/"
        },
        "id": "xICFo8FNuOV2",
        "outputId": "cf6140ad-1167-4e0d-f749-4ecea69e14a0"
      },
      "execution_count": 32,
      "outputs": [
        {
          "output_type": "stream",
          "name": "stdout",
          "text": [
            "CDF of the exponential distribution at x=3.0: 0.7768698398515702\n"
          ]
        }
      ]
    },
    {
      "cell_type": "markdown",
      "source": [
        "10) Write a Python 6function to calculate the probability mass function (PMF) of Poisson distribution"
      ],
      "metadata": {
        "id": "c0DE9fE_uk9P"
      }
    },
    {
      "cell_type": "code",
      "source": [
        "import math\n",
        "\n",
        "def poisson_pmf(k, lambd):\n",
        "    if k < 0:\n",
        "        return 0\n",
        "    else:\n",
        "\n",
        "        return (lambd ** k * math.exp(-lambd)) / math.factorial(k)\n",
        "\n",
        "# Example usage\n",
        "lambd = 4    # Average rate (λ = 4)\n",
        "k = 2        # Number of events (k = 2)\n",
        "\n",
        "pmf_value = poisson_pmf(k, lambd)\n",
        "print(f\"PMF of the Poisson distribution at k={k}: {pmf_value}\")\n"
      ],
      "metadata": {
        "colab": {
          "base_uri": "https://localhost:8080/"
        },
        "id": "Osr6rRBnugZ0",
        "outputId": "aa80889d-97ba-4209-8e9b-e5c24923c40a"
      },
      "execution_count": 33,
      "outputs": [
        {
          "output_type": "stream",
          "name": "stdout",
          "text": [
            "PMF of the Poisson distribution at k=2: 0.14652511110987343\n"
          ]
        }
      ]
    },
    {
      "cell_type": "markdown",
      "source": [
        "11) A company wants to test in a new website layout leads to a higher conversion rate (percentage oN visitors\n",
        "who make a purchase). They collect data Nrom the old and new layouts to compare.\n",
        "\n",
        "\n",
        "To generate the data use the following command:\n",
        "\n",
        "```python\n",
        "\n",
        "import <umpy as <p\n",
        "\n",
        "# 50 purchases out of 1000 visitors\n",
        "\n",
        "old_layout = <p.array([1] * 50 + [0] * 950)\n",
        "\n",
        "# 70 purchases out of 1000 visitors  \n",
        "\n",
        "<ew_layout = <p.array([1] * 70 + [0] * 930)\n",
        "\n",
        "  ```\n",
        "\n",
        "Apply z-test to find which layout is successful."
      ],
      "metadata": {
        "id": "F28axe2Pu12P"
      }
    },
    {
      "cell_type": "code",
      "source": [
        "import numpy as np\n",
        "from scipy import stats\n",
        "\n",
        "\n",
        "old_layout = np.array([1] * 50 + [0] * 950)\n",
        "new_layout = np.array([1] * 70 + [0] * 930)\n",
        "\n",
        "\n",
        "old_successes = np.sum(old_layout)\n",
        "old_n = len(old_layout)\n",
        "\n",
        "new_successes = np.sum(new_layout)\n",
        "new_n = len(new_layout)\n",
        "\n",
        "\n",
        "p_old = old_successes / old_n\n",
        "p_new = new_successes / new_n\n",
        "\n",
        "\n",
        "p_pooled = (old_successes + new_successes) / (old_n + new_n)\n",
        "\n",
        "# Calculate the Z-statistic\n",
        "z_statistic = (p_new - p_old) / np.sqrt(p_pooled * (1 - p_pooled) * (1 / old_n + 1 / new_n))\n",
        "\n",
        "# Calculate the p-value for a two-tailed test\n",
        "p_value = 2 * (1 - stats.norm.cdf(abs(z_statistic)))\n",
        "\n",
        "# Output the results\n",
        "print(f\"Old Layout Conversion Rate: {p_old:.4f}\")\n",
        "print(f\"New Layout Conversion Rate: {p_new:.4f}\")\n",
        "print(f\"Z-statistic: {z_statistic:.4f}\")\n",
        "print(f\"P-value: {p_value:.4f}\")\n",
        "\n",
        "# Conclusion\n",
        "alpha = 0.05  # Significance level\n",
        "if p_value < alpha:\n",
        "    print(\"Reject the null hypothesis: The new layout leads to a significantly higher conversion rate.\")\n",
        "else:\n",
        "    print(\"Fail to reject the null hypothesis: No significant difference in conversion rates between the layouts.\")\n"
      ],
      "metadata": {
        "colab": {
          "base_uri": "https://localhost:8080/"
        },
        "id": "m90IYh1but70",
        "outputId": "65a9318e-c5eb-4d0d-c08c-11cb0c1d4028"
      },
      "execution_count": 34,
      "outputs": [
        {
          "output_type": "stream",
          "name": "stdout",
          "text": [
            "Old Layout Conversion Rate: 0.0500\n",
            "New Layout Conversion Rate: 0.0700\n",
            "Z-statistic: 1.8831\n",
            "P-value: 0.0597\n",
            "Fail to reject the null hypothesis: No significant difference in conversion rates between the layouts.\n"
          ]
        }
      ]
    },
    {
      "cell_type": "markdown",
      "source": [
        "12) A tutoring service claims that its program improves students' exam scores. A sample on students who\n",
        "participated in the program was taken, and their scores beNore and aNter the program were recorded.\n",
        "\n",
        "\n",
        "Use the below code to generate samples of respective arrays of marks:\n",
        "\n",
        "```python\n",
        "\n",
        "before_program = np.array([75, 80, 85, 70, 90, 78, 92, 88, 82, 87])\n",
        "\n",
        "after_program = np.array([80, 85, 90, 80, 92, 80, 95, 90, 85, 88])\n",
        "\n",
        "```\n",
        "\n",
        "Use z-test to find if the claims made by tutor are true or false."
      ],
      "metadata": {
        "id": "nRs7xRr_vOwt"
      }
    },
    {
      "cell_type": "code",
      "source": [
        "import numpy as np\n",
        "from scipy import stats\n",
        "\n",
        "# Scores before and after the program\n",
        "before_program = np.array([75, 80, 85, 70, 90, 78, 92, 88, 82, 87])\n",
        "after_program = np.array([80, 85, 90, 80, 92, 80, 95, 90, 85, 88])\n",
        "\n",
        "differences = after_program - before_program\n",
        "\n",
        "mean_diff = np.mean(differences)\n",
        "std_diff = np.std(differences, ddof=1)  # ddof=1 for sample standard deviation\n",
        "n = len(differences)\n",
        "\n",
        "# Calculate the Z-statistic\n",
        "z_statistic = mean_diff / (std_diff / np.sqrt(n))\n",
        "\n",
        "\n",
        "p_value = 1 - stats.norm.cdf(z_statistic)\n",
        "\n",
        "\n",
        "print(f\"Mean Difference: {mean_diff:.4f}\")\n",
        "print(f\"Standard Deviation of Differences: {std_diff:.4f}\")\n",
        "print(f\"Z-statistic: {z_statistic:.4f}\")\n",
        "print(f\"P-value: {p_value:.4f}\")\n",
        "\n",
        "# Conclusion\n",
        "alpha = 0.05  # Significance level\n",
        "if p_value < alpha:\n",
        "    print(\"Reject the null hypothesis: The tutoring program significantly improves exam scores.\")\n",
        "else:\n",
        "    print(\"Fail to reject the null hypothesis: There is no significant improvement in exam scores due to the tutoring program.\")\n"
      ],
      "metadata": {
        "colab": {
          "base_uri": "https://localhost:8080/"
        },
        "id": "XsfKFWV7vN6J",
        "outputId": "d7cc4b7b-b6fe-4889-a137-13d3ec5b7c3d"
      },
      "execution_count": 35,
      "outputs": [
        {
          "output_type": "stream",
          "name": "stdout",
          "text": [
            "Mean Difference: 3.8000\n",
            "Standard Deviation of Differences: 2.6162\n",
            "Z-statistic: 4.5932\n",
            "P-value: 0.0000\n",
            "Reject the null hypothesis: The tutoring program significantly improves exam scores.\n"
          ]
        }
      ]
    },
    {
      "cell_type": "markdown",
      "source": [
        "13) A pharmaceutical company wants to determine in a new drug is effective in reducing blood pressure. They\n",
        "conduct a study and record blood pressure measurements beNore and aNter administering the drug.\n",
        "\n",
        "\n",
        "Use the below code to generate samples of respective arrays of blood pressure:\n",
        "\n",
        "\n",
        "```python\n",
        "\n",
        "before_drug = np.array([145, 150, 140, 135, 155, 160, 152, 148, 130, 138])\n",
        "\n",
        "after_drug = np.array([130, 140, 132, 128, 145, 148, 138, 136, 125, 130])\n",
        "\n",
        "  ```\n",
        "\n",
        "\n",
        "Implement z-test to find if the drug really works or not."
      ],
      "metadata": {
        "id": "QSm4MWkOvukS"
      }
    },
    {
      "cell_type": "code",
      "source": [
        "import numpy as np\n",
        "from scipy import stats\n",
        "\n",
        "# Blood pressure measurements before and after administering the drug\n",
        "before_drug = np.array([145, 150, 140, 135, 155, 160, 152, 148, 130, 138])\n",
        "after_drug = np.array([130, 140, 132, 128, 145, 148, 138, 136, 125, 130])\n",
        "\n",
        "# Calculate the differences\n",
        "differences = after_drug - before_drug\n",
        "\n",
        "\n",
        "mean_diff = np.mean(differences)\n",
        "std_diff = np.std(differences, ddof=1)\n",
        "n = len(differences)\n",
        "\n",
        "\n",
        "z_statistic = mean_diff / (std_diff / np.sqrt(n))\n",
        "\n",
        "\n",
        "p_value = stats.norm.cdf(z_statistic)\n",
        "\n",
        "# Output the results\n",
        "print(f\"Mean Difference: {mean_diff:.4f}\")\n",
        "print(f\"Standard Deviation of Differences: {std_diff:.4f}\")\n",
        "print(f\"Z-statistic: {z_statistic:.4f}\")\n",
        "print(f\"P-value: {p_value:.4f}\")\n",
        "\n",
        "# Conclusion\n",
        "alpha = 0.05  # Significance level\n",
        "if p_value < alpha:\n",
        "    print(\"Reject the null hypothesis: The drug significantly reduces blood pressure.\")\n",
        "else:\n",
        "    print(\"Fail to reject the null hypothesis: There is no significant reduction in blood pressure due to the drug.\")\n"
      ],
      "metadata": {
        "colab": {
          "base_uri": "https://localhost:8080/"
        },
        "id": "Eso-MU-9vt2s",
        "outputId": "1a98b35a-2ebe-4c01-ec10-509eef0fa152"
      },
      "execution_count": 36,
      "outputs": [
        {
          "output_type": "stream",
          "name": "stdout",
          "text": [
            "Mean Difference: -10.1000\n",
            "Standard Deviation of Differences: 3.1780\n",
            "Z-statistic: -10.0499\n",
            "P-value: 0.0000\n",
            "Reject the null hypothesis: The drug significantly reduces blood pressure.\n"
          ]
        }
      ]
    },
    {
      "cell_type": "markdown",
      "source": [
        "14) A customer service department claims that their average response time is less than 5 minutes A sample\n",
        "of recent customer interactions was taken, and the response times were recorded.\n",
        "\n",
        "\n",
        "Implement the below code to generate the array of response time:\n",
        "\n",
        "```python\n",
        "\n",
        "response_times = np.array([4.3, 3.8, 5.1, 4.9, 4.7, 4.2, 5.2, 4.5, 4.6, 4.4])\n",
        "\n",
        "```\n",
        "\n",
        "Implement z-test to find the claims made by customer service department are true or false."
      ],
      "metadata": {
        "id": "jCvFnbmYwNTT"
      }
    },
    {
      "cell_type": "code",
      "source": [
        "import numpy as np\n",
        "from scipy import stats\n",
        "\n",
        "# Array of response times\n",
        "response_times = np.array([4.3, 3.8, 5.1, 4.9, 4.7, 4.2, 5.2, 4.5, 4.6, 4.4])\n",
        "\n",
        "claimed_mean = 5.0\n",
        "\n",
        "# Calculate the sample mean and standard deviation\n",
        "sample_mean = np.mean(response_times)\n",
        "sample_std = np.std(response_times, ddof=1)  # Sample standard deviation\n",
        "n = len(response_times)\n",
        "\n",
        "# Calculate the Z-statistic\n",
        "z_statistic = (sample_mean - claimed_mean) / (sample_std / np.sqrt(n))\n",
        "\n",
        "\n",
        "p_value = stats.norm.cdf(z_statistic)\n",
        "\n",
        "\n",
        "print(f\"Sample Mean: {sample_mean:.4f}\")\n",
        "print(f\"Sample Standard Deviation: {sample_std:.4f}\")\n",
        "print(f\"Z-statistic: {z_statistic:.4f}\")\n",
        "print(f\"P-value: {p_value:.4f}\")\n",
        "\n",
        "\n",
        "alpha = 0.05  # Significance level\n",
        "if p_value < alpha:\n",
        "    print(\"Reject the null hypothesis: The average response time is significantly less than 5 minutes.\")\n",
        "else:\n",
        "    print(\"Fail to reject the null hypothesis: There is insufficient evidence to support that the average response time is less than 5 minutes.\")\n"
      ],
      "metadata": {
        "colab": {
          "base_uri": "https://localhost:8080/"
        },
        "id": "qzJ6re8PwM9i",
        "outputId": "957180b6-8bae-4965-f0ce-3906748ebb00"
      },
      "execution_count": 37,
      "outputs": [
        {
          "output_type": "stream",
          "name": "stdout",
          "text": [
            "Sample Mean: 4.5700\n",
            "Sample Standard Deviation: 0.4270\n",
            "Z-statistic: -3.1845\n",
            "P-value: 0.0007\n",
            "Reject the null hypothesis: The average response time is significantly less than 5 minutes.\n"
          ]
        }
      ]
    },
    {
      "cell_type": "markdown",
      "source": [
        "15) A company is testing two different website layouts to see which one leads to higher click-through ratesV\n",
        "Write a Python function to perform an A/B test analysis, including calculating the t-statistic, degrees of\n",
        "freedom, and p-value.\n",
        "\n",
        "\n",
        "Use the following data:\n",
        "\n",
        "python\n",
        "\n",
        "layout_a_clicks = [28, 32, 33, 29, 31, 34, 30, 35, 36, 37]\n",
        "\n",
        "layout_b_clicks = [40, 41, 38, 42, 39, 44, 43, 41, 45, 47]"
      ],
      "metadata": {
        "id": "v2l7cDPGwtyl"
      }
    },
    {
      "cell_type": "code",
      "source": [
        "import numpy as np\n",
        "from scipy import stats\n",
        "\n",
        "def ab_test_analysis(layout_a_clicks, layout_b_clicks):\n",
        "    # Calculate means and standard deviations\n",
        "    mean_a = np.mean(layout_a_clicks)\n",
        "    mean_b = np.mean(layout_b_clicks)\n",
        "    std_a = np.std(layout_a_clicks, ddof=1)\n",
        "    std_b = np.std(layout_b_clicks, ddof=1)\n",
        "\n",
        "\n",
        "    n_a = len(layout_a_clicks)\n",
        "    n_b = len(layout_b_clicks)\n",
        "\n",
        "    # Calculate the t-statistic\n",
        "    pooled_variance = ((std_a ** 2) / n_a) + ((std_b ** 2) / n_b)\n",
        "    t_statistic = (mean_a - mean_b) / np.sqrt(pooled_variance)\n",
        "\n",
        "    # Calculate degrees of freedom\n",
        "    degrees_of_freedom = n_a + n_b - 2\n",
        "\n",
        "    # Calculate the p-value (two-tailed)\n",
        "    p_value = stats.ttest_ind(layout_a_clicks, layout_b_clicks, equal_var=False).pvalue\n",
        "\n",
        "    return t_statistic, degrees_of_freedom, p_value\n",
        "\n",
        "layout_a_clicks = [28, 32, 33, 29, 31, 34, 30, 35, 36, 37]\n",
        "layout_b_clicks = [40, 41, 38, 42, 39, 44, 43, 41, 45, 47]\n",
        "\n",
        "# Perform A/B test analysis\n",
        "t_statistic, degrees_of_freedom, p_value = ab_test_analysis(layout_a_clicks, layout_b_clicks)\n",
        "\n",
        "# Output the results\n",
        "print(f\"T-statistic: {t_statistic:.4f}\")\n",
        "print(f\"Degrees of Freedom: {degrees_of_freedom}\")\n",
        "print(f\"P-value: {p_value:.4f}\")\n",
        "\n",
        "# Conclusion\n",
        "alpha = 0.05  # Significance level\n",
        "if p_value < alpha:\n",
        "    print(\"Reject the null hypothesis: There is a significant difference in click-through rates.\")\n",
        "else:\n",
        "    print(\"Fail to reject the null hypothesis: There is no significant difference in click-through rates.\")\n"
      ],
      "metadata": {
        "colab": {
          "base_uri": "https://localhost:8080/"
        },
        "id": "SaMTiEXCws9c",
        "outputId": "c13306c2-92af-4ffc-aef4-c8396986d9ca"
      },
      "execution_count": 38,
      "outputs": [
        {
          "output_type": "stream",
          "name": "stdout",
          "text": [
            "T-statistic: -7.2981\n",
            "Degrees of Freedom: 18\n",
            "P-value: 0.0000\n",
            "Reject the null hypothesis: There is a significant difference in click-through rates.\n"
          ]
        }
      ]
    },
    {
      "cell_type": "markdown",
      "source": [
        "16)  A pharmaceutical company wants to determine if a new drug is more effective than an existing drug in\n",
        "reducing cholesterol levels Create a program to analyze the clinical trial data and calculate the tstatistic and p-value for the treatment effect.\n",
        "\n",
        "\n",
        "Use the following data of cholestrol level:\n",
        "\n",
        "```python\n",
        "\n",
        "existing_drug_levels = [180, 182, 175, 185, 178, 176, 172, 184, 179, 183]\n",
        "\n",
        "new_drug_levels = [170, 172, 165, 168, 175, 173, 170, 178, 172, 176]\n",
        "\n"
      ],
      "metadata": {
        "id": "5d6CTFZ4yUU2"
      }
    },
    {
      "cell_type": "code",
      "source": [
        "import numpy as np\n",
        "from scipy import stats\n",
        "\n",
        "def analyze_cholesterol(existing_drug_levels, new_drug_levels):\n",
        "    # Calculate means and standard deviations\n",
        "    mean_existing = np.mean(existing_drug_levels)\n",
        "    mean_new = np.mean(new_drug_levels)\n",
        "    std_existing = np.std(existing_drug_levels, ddof=1)\n",
        "    std_new = np.std(new_drug_levels, ddof=1)\n",
        "\n",
        "\n",
        "    n_existing = len(existing_drug_levels)\n",
        "    n_new = len(new_drug_levels)\n",
        "\n",
        "\n",
        "    pooled_variance = ((std_existing ** 2) / n_existing) + ((std_new ** 2) / n_new)\n",
        "    t_statistic = (mean_existing - mean_new) / np.sqrt(pooled_variance)\n",
        "\n",
        "\n",
        "    degrees_of_freedom = n_existing + n_new - 2\n",
        "\n",
        "    # Calculate the p-value (two-tailed)\n",
        "    p_value = stats.ttest_ind(existing_drug_levels, new_drug_levels, equal_var=False).pvalue\n",
        "\n",
        "    return t_statistic, degrees_of_freedom, p_value\n",
        "\n",
        "# Cholesterol level data\n",
        "existing_drug_levels = [180, 182, 175, 185, 178, 176, 172, 184, 179, 183]\n",
        "new_drug_levels = [170, 172, 165, 168, 175, 173, 170, 178, 172, 176]\n",
        "\n",
        "# Perform analysis\n",
        "t_statistic, degrees_of_freedom, p_value = analyze_cholesterol(existing_drug_levels, new_drug_levels)\n",
        "\n",
        "# Output the results\n",
        "print(f\"T-statistic: {t_statistic:.4f}\")\n",
        "print(f\"Degrees of Freedom: {degrees_of_freedom}\")\n",
        "print(f\"P-value: {p_value:.4f}\")\n",
        "\n",
        "# Conclusion\n",
        "alpha = 0.05  # Significance level\n",
        "if p_value < alpha:\n",
        "    print(\"Reject the null hypothesis: The new drug is more effective in reducing cholesterol levels.\")\n",
        "else:\n",
        "    print(\"Fail to reject the null hypothesis: There is no significant difference in effectiveness between the drugs.\")\n"
      ],
      "metadata": {
        "colab": {
          "base_uri": "https://localhost:8080/"
        },
        "id": "Jj5OZnNjyShE",
        "outputId": "ac6fb16e-9b96-40b1-8c8f-c8352ad758db"
      },
      "execution_count": 39,
      "outputs": [
        {
          "output_type": "stream",
          "name": "stdout",
          "text": [
            "T-statistic: 4.1405\n",
            "Degrees of Freedom: 18\n",
            "P-value: 0.0006\n",
            "Reject the null hypothesis: The new drug is more effective in reducing cholesterol levels.\n"
          ]
        }
      ]
    },
    {
      "cell_type": "markdown",
      "source": [
        "17) A school district introduces an educational intervention program to improve math scoresV Write a Python\n",
        "function to analyze pre- and post-intervention test scores, calculating the t-statistic and p-value to\n",
        "deter:ine if the intervention had a significant i:pact.\n",
        "\n",
        "\n",
        "Use the following data of test score:\n",
        "\n",
        "\n",
        "  ```python\n",
        "\n",
        "  pre_intervention_scores = [80, 85, 90, 75, 88, 82, 92, 78, 85, 87]\n",
        "\n",
        "  post_intervention_scores = [90, 92, 88, 92, 95, 91, 96, 93, 89, 93]"
      ],
      "metadata": {
        "id": "YK-yIJGTy4vs"
      }
    },
    {
      "cell_type": "code",
      "source": [
        "import numpy as np\n",
        "from scipy import stats\n",
        "\n",
        "def analyze_intervention(pre_scores, post_scores):\n",
        "    # Calculate the differences between post and pre scores\n",
        "    differences = np.array(post_scores) - np.array(pre_scores)\n",
        "\n",
        "    # Calculate the mean and standard deviation of the differences\n",
        "    mean_diff = np.mean(differences)\n",
        "    std_diff = np.std(differences, ddof=1)  # Sample standard deviation\n",
        "    n = len(differences)\n",
        "\n",
        "    # Calculate the t-statistic\n",
        "    t_statistic = mean_diff / (std_diff / np.sqrt(n))\n",
        "\n",
        "    # Calculate degrees of freedom\n",
        "    degrees_of_freedom = n - 1\n",
        "\n",
        "    # Calculate the p-value (two-tailed)\n",
        "    p_value = stats.ttest_rel(pre_scores, post_scores).pvalue\n",
        "\n",
        "    return t_statistic, degrees_of_freedom, p_value\n",
        "\n",
        "\n",
        "pre_intervention_scores = [80, 85, 90, 75, 88, 82, 92, 78, 85, 87]\n",
        "post_intervention_scores = [90, 92, 88, 92, 95, 91, 96, 93, 89, 93]\n",
        "\n",
        "\n",
        "t_statistic, degrees_of_freedom, p_value = analyze_intervention(pre_intervention_scores, post_intervention_scores)\n",
        "\n",
        "print(f\"T-statistic: {t_statistic:.4f}\")\n",
        "print(f\"Degrees of Freedom: {degrees_of_freedom}\")\n",
        "print(f\"P-value: {p_value:.4f}\")\n",
        "\n",
        "# Conclusion\n",
        "alpha = 0.05  # Significance level\n",
        "if p_value < alpha:\n",
        "    print(\"Reject the null hypothesis: The intervention program had a significant impact on math scores.\")\n",
        "else:\n",
        "    print(\"Fail to reject the null hypothesis: There is no significant impact from the intervention program.\")\n"
      ],
      "metadata": {
        "colab": {
          "base_uri": "https://localhost:8080/"
        },
        "id": "O1MNGNEEy0J8",
        "outputId": "812f9319-3dc2-42ff-d022-9f8d94d5e33e"
      },
      "execution_count": 40,
      "outputs": [
        {
          "output_type": "stream",
          "name": "stdout",
          "text": [
            "T-statistic: 4.4284\n",
            "Degrees of Freedom: 9\n",
            "P-value: 0.0017\n",
            "Reject the null hypothesis: The intervention program had a significant impact on math scores.\n"
          ]
        }
      ]
    },
    {
      "cell_type": "markdown",
      "source": [
        "18) An HR department wants to investigate if there's a gender-based salary gap within the company. Develop\n",
        "a program to analyze salary data, calculate the t-statistic, and determine if there's a statistically\n",
        "significant difference between the average salaries of male and female employees.\n",
        "\n",
        "\n",
        "Use the below code to generate synthetic data\n",
        "```python\n",
        "\n",
        "# Generate synthetic salary data for male and female employees\n",
        "\n",
        "np.random.seed(0)  # For reproducibility\n",
        "\n",
        "male_salaries = np.random.normal(loc=50000, scale=10000, size=20)\n",
        "\n",
        "female_salaries = np.random.normal(loc=55000, scale=9000, size=20)"
      ],
      "metadata": {
        "id": "6ZFCYh50zRsY"
      }
    },
    {
      "cell_type": "code",
      "source": [
        "import numpy as np\n",
        "from scipy import stats\n",
        "\n",
        "# Generate synthetic salary data for male and female employees\n",
        "np.random.seed(0)\n",
        "male_salaries = np.random.normal(loc=50000, scale=10000, size=20)\n",
        "female_salaries = np.random.normal(loc=55000, scale=9000, size=20)\n",
        "\n",
        "def analyze_salary_gap(male_salaries, female_salaries):\n",
        "\n",
        "    mean_male = np.mean(male_salaries)\n",
        "    mean_female = np.mean(female_salaries)\n",
        "\n",
        "    std_male = np.std(male_salaries, ddof=1)\n",
        "    std_female = np.std(female_salaries, ddof=1)\n",
        "\n",
        "    n_male = len(male_salaries)\n",
        "    n_female = len(female_salaries)\n",
        "\n",
        "\n",
        "    t_statistic = (mean_male - mean_female) / np.sqrt((std_male**2 / n_male) + (std_female**2 / n_female))\n",
        "\n",
        "\n",
        "    degrees_of_freedom = n_male + n_female - 2\n",
        "\n",
        "\n",
        "    p_value = stats.ttest_ind(male_salaries, female_salaries).pvalue\n",
        "\n",
        "    return mean_male, mean_female, t_statistic, degrees_of_freedom, p_value\n",
        "\n",
        "\n",
        "mean_male, mean_female, t_statistic, degrees_of_freedom, p_value = analyze_salary_gap(male_salaries, female_salaries)\n",
        "\n",
        "# Output the results\n",
        "print(f\"Mean Male Salary: ${mean_male:.2f}\")\n",
        "print(f\"Mean Female Salary: ${mean_female:.2f}\")\n",
        "print(f\"T-statistic: {t_statistic:.4f}\")\n",
        "print(f\"Degrees of Freedom: {degrees_of_freedom}\")\n",
        "print(f\"P-value: {p_value:.4f}\")\n",
        "\n",
        "# Conclusion\n",
        "alpha = 0.05  # Significance level\n",
        "if p_value < alpha:\n",
        "    print(\"Reject the null hypothesis: There is a statistically significant difference in average salaries between male and female employees.\")\n",
        "else:\n",
        "    print(\"Fail to reject the null hypothesis: There is no statistically significant difference in average salaries between male and female employees.\")\n"
      ],
      "metadata": {
        "colab": {
          "base_uri": "https://localhost:8080/"
        },
        "id": "2261yuKzzNck",
        "outputId": "aaf2f9fa-daf1-4f25-9a7b-560ccf28a476"
      },
      "execution_count": 41,
      "outputs": [
        {
          "output_type": "stream",
          "name": "stdout",
          "text": [
            "Mean Male Salary: $55693.35\n",
            "Mean Female Salary: $55501.75\n",
            "T-statistic: 0.0611\n",
            "Degrees of Freedom: 38\n",
            "P-value: 0.9516\n",
            "Fail to reject the null hypothesis: There is no statistically significant difference in average salaries between male and female employees.\n"
          ]
        }
      ]
    },
    {
      "cell_type": "markdown",
      "source": [
        "19) A manufacturer produces two different versions of a product and wants to compare their quality scores.\n",
        "Create a Python function to analyze quality assessment data, calculate the t-statistic, and decide\n",
        "whether there's a significant difference in quality between the two versions.\n",
        "\n",
        "\n",
        "Use the following data\n",
        "```python\n",
        "\n",
        "version1_scores = [85, 88, 82, 89, 87, 84, 90, 88, 85, 86, 91, 83, 87, 84, 89, 86, 84, 88, 85, 86, 89, 90, 87, 88, 85]\n",
        "\n",
        "version2_scores = [80, 78, 83, 81, 79, 82, 76, 80, 78, 81, 77, 82, 80, 79, 82, 79, 80, 81, 79, 82, 79, 78, 80, 81, 82]"
      ],
      "metadata": {
        "id": "lh54GkCszq9i"
      }
    },
    {
      "cell_type": "code",
      "source": [
        "import numpy as np\n",
        "from scipy import stats\n",
        "\n",
        "# Data for version 1 and version 2 quality scores\n",
        "version1_scores = [85, 88, 82, 89, 87, 84, 90, 88, 85, 86, 91, 83, 87, 84, 89, 86, 84, 88, 85, 86, 89, 90, 87, 88, 85]\n",
        "version2_scores = [80, 78, 83, 81, 79, 82, 76, 80, 78, 81, 77, 82, 80, 79, 82, 79, 80, 81, 79, 82, 79, 78, 80, 81, 82]\n",
        "\n",
        "def analyze_quality_scores(version1_scores, version2_scores):\n",
        "    mean_version1 = np.mean(version1_scores)\n",
        "    mean_version2 = np.mean(version2_scores)\n",
        "\n",
        "    std_version1 = np.std(version1_scores, ddof=1)\n",
        "    std_version2 = np.std(version2_scores, ddof=1)\n",
        "\n",
        "    n_version1 = len(version1_scores)\n",
        "    n_version2 = len(version2_scores)\n",
        "\n",
        "\n",
        "    t_statistic = (mean_version1 - mean_version2) / np.sqrt((std_version1**2 / n_version1) + (std_version2**2 / n_version2))\n",
        "\n",
        "\n",
        "    degrees_of_freedom = n_version1 + n_version2 - 2\n",
        "\n",
        "\n",
        "    p_value = stats.ttest_ind(version1_scores, version2_scores).pvalue\n",
        "\n",
        "    return mean_version1, mean_version2, t_statistic, degrees_of_freedom, p_value\n",
        "\n",
        "\n",
        "mean_version1, mean_version2, t_statistic, degrees_of_freedom, p_value = analyze_quality_scores(version1_scores, version2_scores)\n",
        "\n",
        "# Output the results\n",
        "print(f\"Mean Quality Score (Version 1): {mean_version1:.2f}\")\n",
        "print(f\"Mean Quality Score (Version 2): {mean_version2:.2f}\")\n",
        "print(f\"T-statistic: {t_statistic:.4f}\")\n",
        "print(f\"Degrees of Freedom: {degrees_of_freedom}\")\n",
        "print(f\"P-value: {p_value:.4f}\")\n",
        "\n",
        "# Conclusion\n",
        "alpha = 0.05  # Significance level\n",
        "if p_value < alpha:\n",
        "    print(\"Reject the null hypothesis: There is a statistically significant difference in quality between the two versions.\")\n",
        "else:\n",
        "    print(\"Fail to reject the null hypothesis: There is no statistically significant difference in quality between the two versions.\")\n"
      ],
      "metadata": {
        "colab": {
          "base_uri": "https://localhost:8080/"
        },
        "id": "_5-MRrfQzqLw",
        "outputId": "768d972a-281f-45eb-eb44-dc2b75466244"
      },
      "execution_count": 42,
      "outputs": [
        {
          "output_type": "stream",
          "name": "stdout",
          "text": [
            "Mean Quality Score (Version 1): 86.64\n",
            "Mean Quality Score (Version 2): 79.96\n",
            "T-statistic: 11.3258\n",
            "Degrees of Freedom: 48\n",
            "P-value: 0.0000\n",
            "Reject the null hypothesis: There is a statistically significant difference in quality between the two versions.\n"
          ]
        }
      ]
    },
    {
      "cell_type": "markdown",
      "source": [
        " 20) A restaurant chain collects customer satisfaction scores for two different branches. Write a program to\n",
        "analyze the scores, calculate the t-statistic, and determine if there's a statistically significant difference in\n",
        "customer satisfaction between the branches.\n",
        "\n",
        "\n",
        "Use the below data of scores:\n",
        "\n",
        "  ```python\n",
        "\n",
        "branch_a_scores = [4, 5, 3, 4, 5, 4, 5, 3, 4, 4, 5, 4, 4, 3, 4, 5, 5, 4, 3, 4, 5, 4, 3, 5, 4, 4, 5, 3, 4, 5, 4]\n",
        "\n",
        "branch_b_scores = [3, 4, 2, 3, 4, 3, 4, 2, 3, 3, 4, 3, 3, 2, 3, 4, 4, 3, 2, 3, 4, 3, 2, 4, 3, 3, 4, 2, 3, 4, 3]"
      ],
      "metadata": {
        "id": "yoY0SMi90DQ1"
      }
    },
    {
      "cell_type": "code",
      "source": [
        "import numpy as np\n",
        "from scipy import stats\n",
        "\n",
        "\n",
        "branch_a_scores = [4, 5, 3, 4, 5, 4, 5, 3, 4, 4, 5, 4, 4, 3, 4, 5, 5, 4, 3, 4, 5, 4, 3, 5, 4, 4, 5, 3, 4, 5, 4]\n",
        "branch_b_scores = [3, 4, 2, 3, 4, 3, 4, 2, 3, 3, 4, 3, 3, 2, 3, 4, 4, 3, 2, 3, 4, 3, 2, 4, 3, 3, 4, 2, 3, 4, 3]\n",
        "\n",
        "def analyze_satisfaction_scores(branch_a, branch_b):\n",
        "    mean_branch_a = np.mean(branch_a)\n",
        "    mean_branch_b = np.mean(branch_b)\n",
        "\n",
        "    std_branch_a = np.std(branch_a, ddof=1)\n",
        "    std_branch_b = np.std(branch_b, ddof=1)\n",
        "\n",
        "    t_statistic, p_value = stats.ttest_ind(branch_a, branch_b)\n",
        "\n",
        "    return mean_branch_a, mean_branch_b, t_statistic, p_value\n",
        "\n",
        "\n",
        "mean_branch_a, mean_branch_b, t_statistic, p_value = analyze_satisfaction_scores(branch_a_scores, branch_b_scores)\n",
        "\n",
        "# Output the results\n",
        "print(f\"Mean Satisfaction Score (Branch A): {mean_branch_a:.2f}\")\n",
        "print(f\"Mean Satisfaction Score (Branch B): {mean_branch_b:.2f}\")\n",
        "print(f\"T-statistic: {t_statistic:.4f}\")\n",
        "print(f\"P-value: {p_value:.4f}\")\n",
        "\n",
        "# Conclusion\n",
        "alpha = 0.05  # Significance level\n",
        "if p_value < alpha:\n",
        "    print(\"Reject the null hypothesis: There is a statistically significant difference in customer satisfaction between the two branches.\")\n",
        "else:\n",
        "    print(\"Fail to reject the null hypothesis: There is no statistically significant difference in customer satisfaction between the two branches.\")\n"
      ],
      "metadata": {
        "id": "MPO-1MAK0CV9",
        "colab": {
          "base_uri": "https://localhost:8080/"
        },
        "outputId": "4506c94a-aa1e-41fd-9d1e-0bd189788cbe"
      },
      "execution_count": 43,
      "outputs": [
        {
          "output_type": "stream",
          "name": "stdout",
          "text": [
            "Mean Satisfaction Score (Branch A): 4.13\n",
            "Mean Satisfaction Score (Branch B): 3.13\n",
            "T-statistic: 5.4801\n",
            "P-value: 0.0000\n",
            "Reject the null hypothesis: There is a statistically significant difference in customer satisfaction between the two branches.\n"
          ]
        }
      ]
    },
    {
      "cell_type": "markdown",
      "source": [
        "21) A political analyst wants to determine if there is a significant association between age groups and voter\n",
        "pre@erences FCandidate A or Candidate B). They collect data From a sample of 500 voters and classify\n",
        "them into different age groups and candidate preferences. Perform a Chi-Square test to determine if\n",
        "there is a significant association between age groups and voter preferences.\n",
        "\n",
        "\n",
        "Use the below code to generate data:\n",
        "\n",
        "```python\n",
        "\n",
        "np.random.seed(0)\n",
        "\n",
        "age_groups = np.random.choice([ 18 30 , 31 50 , 51+', 51+'], size=30)\n",
        "\n",
        "voter_preferences = np.random.choice(['Candidate A', 'Candidate B'], size=30)"
      ],
      "metadata": {
        "id": "tuu0_tcP0FJb"
      }
    },
    {
      "cell_type": "code",
      "source": [
        "import numpy as np\n",
        "import pandas as pd\n",
        "from scipy.stats import chi2_contingency\n",
        "\n",
        "# Generate random data\n",
        "np.random.seed(0)\n",
        "\n",
        "age_groups = np.random.choice(['18-30', '31-50', '51+'], size=500)\n",
        "voter_preferences = np.random.choice(['Candidate A', 'Candidate B'], size=500)\n",
        "\n",
        "\n",
        "data = pd.DataFrame({'Age Group': age_groups, 'Voter Preference': voter_preferences})\n",
        "\n",
        "contingency_table = pd.crosstab(data['Age Group'], data['Voter Preference'])\n",
        "\n",
        "chi2_stat, p_value, dof, expected = chi2_contingency(contingency_table)\n",
        "\n",
        "# Output results\n",
        "print(\"Contingency Table:\")\n",
        "print(contingency_table)\n",
        "print(\"\\nChi-Square Statistic:\", chi2_stat)\n",
        "print(\"Degrees of Freedom:\", dof)\n",
        "print(\"P-value:\", p_value)\n",
        "\n",
        "# Interpretation\n",
        "alpha = 0.05\n",
        "if p_value < alpha:\n",
        "    print(\"Reject the null hypothesis: There is a significant association between age groups and voter preferences.\")\n",
        "else:\n",
        "    print(\"Fail to reject the null hypothesis: No significant association between age groups and voter preferences.\")\n"
      ],
      "metadata": {
        "colab": {
          "base_uri": "https://localhost:8080/"
        },
        "id": "fqeRpS5htkDS",
        "outputId": "3468308d-df50-4988-920e-b221aea669e0"
      },
      "execution_count": 44,
      "outputs": [
        {
          "output_type": "stream",
          "name": "stdout",
          "text": [
            "Contingency Table:\n",
            "Voter Preference  Candidate A  Candidate B\n",
            "Age Group                                 \n",
            "18-30                      95           87\n",
            "31-50                      87           82\n",
            "51+                        84           65\n",
            "\n",
            "Chi-Square Statistic: 0.8779923945254768\n",
            "Degrees of Freedom: 2\n",
            "P-value: 0.6446832311860852\n",
            "Fail to reject the null hypothesis: No significant association between age groups and voter preferences.\n"
          ]
        }
      ]
    },
    {
      "cell_type": "markdown",
      "source": [
        "22. A company conducted a customer satisfaction survey to determine if there is a significant relationship\n",
        "between product satisfaction levels (Satisfied, Neutral, Dissatisfied) and the region where customers are\n",
        "located (East, West, North, South). The survey data is summarized in a contingency table. Conduct a ChiSquare test to determine if there is a significant relationship between product satisfaction levels and\n",
        "customer regions.\n",
        "\n",
        "\n",
        "Sample data:\n",
        "\n",
        "```python\n",
        "\n",
        "Sample data: Product satisfaction levels (rows) vs. Customer regions (columns)\n",
        "\n",
        "data = np.array([[50, 30, 40, 20], [30, 40, 30, 50], [20, 30, 40, 30]])"
      ],
      "metadata": {
        "id": "DMtRSfSltwQw"
      }
    },
    {
      "cell_type": "code",
      "source": [
        "import numpy as np\n",
        "import pandas as pd\n",
        "from scipy.stats import chi2_contingency\n",
        "\n",
        "# Sample data: Product satisfaction levels (rows) vs. Customer regions (columns)\n",
        "data = np.array([[50, 30, 40, 20],  # Satisfied\n",
        "                 [30, 40, 30, 50],  # Neutral\n",
        "                 [20, 30, 40, 30]]) # Dissatisfied\n",
        "\n",
        "# Create a DataFrame for better readability (optional)\n",
        "satisfaction_levels = ['Satisfied', 'Neutral', 'Dissatisfied']\n",
        "regions = ['East', 'West', 'North', 'South']\n",
        "\n",
        "df = pd.DataFrame(data, index=satisfaction_levels, columns=regions)\n",
        "\n",
        "# Perform the Chi-Square test\n",
        "chi2_stat, p_value, dof, expected = chi2_contingency(data)\n",
        "\n",
        "# Output results\n",
        "print(\"Contingency Table:\")\n",
        "print(df)\n",
        "print(\"\\nChi-Square Statistic:\", chi2_stat)\n",
        "print(\"Degrees of Freedom:\", dof)\n",
        "print(\"P-value:\", p_value)\n",
        "\n",
        "# Interpretation\n",
        "alpha = 0.05\n",
        "if p_value < alpha:\n",
        "    print(\"Reject the null hypothesis: There is a significant relationship between product satisfaction levels and customer regions.\")\n",
        "else:\n",
        "    print(\"Fail to reject the null hypothesis: No significant relationship between product satisfaction levels and customer regions.\")\n"
      ],
      "metadata": {
        "colab": {
          "base_uri": "https://localhost:8080/"
        },
        "id": "zORsTwdDtsh7",
        "outputId": "2cc74de6-78a8-4495-f0c7-d6416799aff1"
      },
      "execution_count": 46,
      "outputs": [
        {
          "output_type": "stream",
          "name": "stdout",
          "text": [
            "Contingency Table:\n",
            "              East  West  North  South\n",
            "Satisfied       50    30     40     20\n",
            "Neutral         30    40     30     50\n",
            "Dissatisfied    20    30     40     30\n",
            "\n",
            "Chi-Square Statistic: 27.777056277056275\n",
            "Degrees of Freedom: 6\n",
            "P-value: 0.00010349448486004387\n",
            "Reject the null hypothesis: There is a significant relationship between product satisfaction levels and customer regions.\n"
          ]
        }
      ]
    },
    {
      "cell_type": "markdown",
      "source": [
        " 23. A company implemented an employee training program to improve job performance (Effective, Neutral,\n",
        "Ineffective). After the training, they collected data from a sample of employees and classified them based\n",
        "on their job performance before and after the training. Perform a Chi-Square test to determine if there is a\n",
        "significant difference between job performance levels before and after the training.\n",
        "\n",
        "\n",
        "Sample data:\n",
        "\n",
        "```python\n",
        "\n",
        "Sample data: Job performance levels before (rows) and after (columns) training\n",
        "\n",
        "data = np.array([[50, 30, 20], [30, 40, 30], [20, 30, 40]])"
      ],
      "metadata": {
        "id": "5c-0Wmtct_1E"
      }
    },
    {
      "cell_type": "code",
      "source": [
        "import numpy as np\n",
        "import pandas as pd\n",
        "from scipy.stats import chi2_contingency\n",
        "\n",
        "\n",
        "data = np.array([[50, 30, 20],\n",
        "                 [30, 40, 30],\n",
        "                 [20, 30, 40]])\n",
        "\n",
        "\n",
        "performance_levels = ['Effective', 'Neutral', 'Ineffective']\n",
        "time_points = ['Effective_After', 'Neutral_After', 'Ineffective_After']\n",
        "\n",
        "df = pd.DataFrame(data, index=performance_levels, columns=time_points)\n",
        "\n",
        "# Perform the Chi-Square test\n",
        "chi2_stat, p_value, dof, expected = chi2_contingency(data)\n",
        "\n",
        "# Output results\n",
        "print(\"Contingency Table:\")\n",
        "print(df)\n",
        "print(\"\\nChi-Square Statistic:\", chi2_stat)\n",
        "print(\"Degrees of Freedom:\", dof)\n",
        "print(\"P-value:\", p_value)\n",
        "\n",
        "# Interpretation\n",
        "alpha = 0.05\n",
        "if p_value < alpha:\n",
        "    print(\"Reject the null hypothesis: There is a significant difference in job performance levels before and after the training.\")\n",
        "else:\n",
        "    print(\"Fail to reject the null hypothesis: No significant difference in job performance levels before and after the training.\")\n"
      ],
      "metadata": {
        "colab": {
          "base_uri": "https://localhost:8080/"
        },
        "id": "Qv2KTm-Xt7Ri",
        "outputId": "ca019482-57f6-44cc-e87d-88035f9a18b9"
      },
      "execution_count": 47,
      "outputs": [
        {
          "output_type": "stream",
          "name": "stdout",
          "text": [
            "Contingency Table:\n",
            "             Effective_After  Neutral_After  Ineffective_After\n",
            "Effective                 50             30                 20\n",
            "Neutral                   30             40                 30\n",
            "Ineffective               20             30                 40\n",
            "\n",
            "Chi-Square Statistic: 22.161728395061726\n",
            "Degrees of Freedom: 4\n",
            "P-value: 0.00018609719479882557\n",
            "Reject the null hypothesis: There is a significant difference in job performance levels before and after the training.\n"
          ]
        }
      ]
    },
    {
      "cell_type": "markdown",
      "source": [
        " 24. A company produces three different versions of a product: Standard, Premium, and Deluxe. The\n",
        "company wants to determine if there is a significant difference in customer satisfaction scores among the\n",
        "three product versions. They conducted a survey and collected customer satisfaction scores for each\n",
        "version from a random sample of customers. Perform an ANOVA test to determine if there is a significant\n",
        "difference in customer satisfaction scores.\n",
        "\n",
        "\n",
        "  Use the following data:\n",
        "\n",
        "  ```python\n",
        "\n",
        "Sample data: Customer satisfaction scores for each product version\n",
        "\n",
        "  standard_scores = [80, 85, 90, 78, 88, 82, 92, 78, 85, 87]\n",
        "\n",
        "  premium_scores = [90, 92, 88, 92, 95, 91, 96, 93, 89, 93]\n",
        "\n",
        "  deluxe_scores = [95, 98, 92, 97, 96, 94, 98, 97, 92, 99]"
      ],
      "metadata": {
        "id": "-v0xWjKquKPe"
      }
    },
    {
      "cell_type": "code",
      "source": [
        "import numpy as np\n",
        "from scipy import stats\n",
        "\n",
        "\n",
        "standard_scores = [80, 85, 90, 78, 88, 82, 92, 78, 85, 87]\n",
        "premium_scores = [90, 92, 88, 92, 95, 91, 96, 93, 89, 93]\n",
        "deluxe_scores = [95, 98, 92, 97, 96, 94, 98, 97, 92, 99]\n",
        "\n",
        "# Perform one-way ANOVA\n",
        "f_stat, p_value = stats.f_oneway(standard_scores, premium_scores, deluxe_scores)\n",
        "\n",
        "# Output results\n",
        "print(\"F-Statistic:\", f_stat)\n",
        "print(\"P-Value:\", p_value)\n",
        "\n",
        "# Interpretation\n",
        "alpha = 0.05\n",
        "if p_value < alpha:\n",
        "    print(\"Reject the null hypothesis: There is a significant difference in customer satisfaction scores among the three product versions.\")\n",
        "else:\n",
        "    print(\"Fail to reject the null hypothesis: No significant difference in customer satisfaction scores among the three product versions.\")\n"
      ],
      "metadata": {
        "colab": {
          "base_uri": "https://localhost:8080/"
        },
        "id": "D38xZFZ2uPlj",
        "outputId": "3fa90147-1238-4888-d280-1deb38daa681"
      },
      "execution_count": 48,
      "outputs": [
        {
          "output_type": "stream",
          "name": "stdout",
          "text": [
            "F-Statistic: 27.03556231003039\n",
            "P-Value: 3.5786328857349003e-07\n",
            "Reject the null hypothesis: There is a significant difference in customer satisfaction scores among the three product versions.\n"
          ]
        }
      ]
    },
    {
      "cell_type": "markdown",
      "source": [
        "# END"
      ],
      "metadata": {
        "id": "WCG92V0XujOd"
      }
    }
  ]
}