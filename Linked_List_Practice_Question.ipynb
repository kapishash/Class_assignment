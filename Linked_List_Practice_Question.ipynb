{
  "nbformat": 4,
  "nbformat_minor": 0,
  "metadata": {
    "colab": {
      "provenance": []
    },
    "kernelspec": {
      "name": "python3",
      "display_name": "Python 3"
    },
    "language_info": {
      "name": "python"
    }
  },
  "cells": [
    {
      "cell_type": "markdown",
      "source": [
        "1) Define a doubly linked list."
      ],
      "metadata": {
        "id": "_YtatxIbXumt"
      }
    },
    {
      "cell_type": "markdown",
      "source": [
        "A **doubly linked list** is a type of linked data structure that consists of nodes where each node contains three parts:\n",
        "\n",
        "1. **Data**: The value or information stored in the node.\n",
        "2. **Next Pointer**: A reference or pointer to the next node in the sequence.\n",
        "3. **Previous Pointer**: A reference or pointer to the previous node in the sequence.\n",
        "\n",
        "### Key Characteristics:\n",
        "- **Bidirectional Traversal**: Unlike a singly linked list, a doubly linked list allows traversal in both forward and backward directions.\n",
        "- **Dynamic Size**: The size of the list can be dynamically adjusted as elements are added or removed.\n",
        "- **Efficient Insertion/Deletion**: Insertion and deletion of nodes are efficient and do not require shifting elements, as in arrays.\n",
        "\n",
        "### Advantages:\n",
        "- Easier to reverse the list compared to a singly linked list.\n",
        "- Can be traversed in both directions.\n",
        "- Provides greater flexibility in certain operations (like deletion of a node given its reference).\n",
        "\n",
        "### Disadvantages:\n",
        "- Requires extra memory for the `previous` pointer in each node.\n",
        "- Slightly more complex to implement and manage.\n"
      ],
      "metadata": {
        "id": "52nxWYrJX5Sl"
      }
    },
    {
      "cell_type": "markdown",
      "source": [
        "---"
      ],
      "metadata": {
        "id": "Xg9rev76X8qw"
      }
    },
    {
      "cell_type": "markdown",
      "source": [
        "2) Write a function to reverse a linked list in-place."
      ],
      "metadata": {
        "id": "oASTJCyxX9e2"
      }
    },
    {
      "cell_type": "code",
      "execution_count": 3,
      "metadata": {
        "colab": {
          "base_uri": "https://localhost:8080/"
        },
        "id": "-4wroEtCXixX",
        "outputId": "b6fc286f-5b01-439f-9405-c59533eb9191"
      },
      "outputs": [
        {
          "output_type": "stream",
          "name": "stdout",
          "text": [
            "Original List:\n",
            "1 -> 2 -> 3 -> 4 -> 5 -> None\n",
            "Reversed List:\n",
            "5 -> 4 -> 3 -> 2 -> 1 -> None\n"
          ]
        }
      ],
      "source": [
        "class Node:\n",
        "    def __init__(self, data):\n",
        "        self.data = data\n",
        "        self.next = None\n",
        "\n",
        "class LinkedList:\n",
        "    def __init__(self):\n",
        "        self.head = None\n",
        "\n",
        "    def append(self, data):\n",
        "        new_node = Node(data)\n",
        "        if not self.head:\n",
        "            self.head = new_node\n",
        "            return\n",
        "        current = self.head\n",
        "        while current.next:\n",
        "            current = current.next\n",
        "        current.next = new_node\n",
        "\n",
        "    def print_list(self):\n",
        "        current = self.head\n",
        "        while current:\n",
        "            print(current.data, end=\" -> \")\n",
        "            current = current.next\n",
        "        print(\"None\")\n",
        "\n",
        "    def reverse(self):\n",
        "        prev = None\n",
        "        current = self.head\n",
        "        while current:\n",
        "            next_node = current.next\n",
        "            current.next = prev\n",
        "            prev = current\n",
        "            current = next_node\n",
        "        self.head = prev\n",
        "\n",
        "\n",
        "ll = LinkedList()\n",
        "ll.append(1)\n",
        "ll.append(2)\n",
        "ll.append(3)\n",
        "ll.append(4)\n",
        "ll.append(5)\n",
        "\n",
        "print(\"Original List:\")\n",
        "ll.print_list()\n",
        "\n",
        "ll.reverse()\n",
        "\n",
        "print(\"Reversed List:\")\n",
        "ll.print_list()\n"
      ]
    },
    {
      "cell_type": "markdown",
      "source": [
        "---"
      ],
      "metadata": {
        "id": "CqTpaa_6YV3g"
      }
    },
    {
      "cell_type": "markdown",
      "source": [
        "3) Detect cycle in a linked list"
      ],
      "metadata": {
        "id": "bfLXdIxjYWec"
      }
    },
    {
      "cell_type": "code",
      "source": [
        "class Node:\n",
        "    def __init__(self, data):\n",
        "        self.data = data\n",
        "        self.next = None\n",
        "\n",
        "class LinkedList:\n",
        "    def __init__(self):\n",
        "        self.head = None\n",
        "\n",
        "    def append(self, data):\n",
        "        new_node = Node(data)\n",
        "        if not self.head:\n",
        "            self.head = new_node\n",
        "            return\n",
        "        current = self.head\n",
        "        while current.next:\n",
        "            current = current.next\n",
        "        current.next = new_node\n",
        "\n",
        "    def print_list(self):\n",
        "        current = self.head\n",
        "        while current:\n",
        "            print(current.data, end=\" -> \")\n",
        "            current = current.next\n",
        "        print(\"None\")\n",
        "\n",
        "    def detect_cycle(self):\n",
        "        slow = self.head\n",
        "        fast = self.head\n",
        "\n",
        "        while fast and fast.next:\n",
        "            slow = slow.next           # Move slow pointer by one step\n",
        "            fast = fast.next.next      # Move fast pointer by two steps\n",
        "\n",
        "            if slow == fast:           # Cycle detected\n",
        "                print(\"Cycle detected!\")\n",
        "                return True\n",
        "\n",
        "        print(\"No cycle detected.\")\n",
        "        return False\n",
        "\n",
        "    def create_cycle(self, position):\n",
        "        \"\"\"Creates a cycle in the linked list at the given position (0-indexed).\"\"\"\n",
        "        if position < 0:\n",
        "            return\n",
        "\n",
        "        cycle_node = None\n",
        "        current = self.head\n",
        "        count = 0\n",
        "        while current and current.next:\n",
        "            if count == position:\n",
        "                cycle_node = current\n",
        "            current = current.next\n",
        "            count += 1\n",
        "        if cycle_node:\n",
        "            current.next = cycle_node  # Create the cycle\n",
        "\n",
        "\n",
        "ll = LinkedList()\n",
        "ll.append(1)\n",
        "ll.append(2)\n",
        "ll.append(3)\n",
        "ll.append(4)\n",
        "ll.append(5)\n",
        "\n",
        "print(\"Original List:\")\n",
        "ll.print_list()\n",
        "\n",
        "ll.create_cycle(2)  # Creating a cycle at position 2\n",
        "\n",
        "if ll.detect_cycle():\n",
        "    print(\"The list contains a cycle.\")\n",
        "else:\n",
        "    print(\"The list does not contain a cycle.\")\n"
      ],
      "metadata": {
        "colab": {
          "base_uri": "https://localhost:8080/"
        },
        "id": "6gjsc2zSYJ71",
        "outputId": "cd445594-78fa-4260-f990-b827b10f8378"
      },
      "execution_count": 4,
      "outputs": [
        {
          "output_type": "stream",
          "name": "stdout",
          "text": [
            "Original List:\n",
            "1 -> 2 -> 3 -> 4 -> 5 -> None\n",
            "Cycle detected!\n",
            "The list contains a cycle.\n"
          ]
        }
      ]
    },
    {
      "cell_type": "markdown",
      "source": [
        "---"
      ],
      "metadata": {
        "id": "Jgw0gwr-YdlN"
      }
    },
    {
      "cell_type": "markdown",
      "source": [
        "4) Merge two sorted linked list into one\n",
        "\n",
        "1->3->5->6->null and 2->4->6->8->null should be merged to make\n",
        "\n",
        "1->2->3->4->5->6->7->8"
      ],
      "metadata": {
        "id": "V-ajMpomYefC"
      }
    },
    {
      "cell_type": "code",
      "source": [
        "class Node:\n",
        "    def __init__(self, data):\n",
        "        self.data = data\n",
        "        self.next = None\n",
        "\n",
        "class LinkedList:\n",
        "    def __init__(self):\n",
        "        self.head = None\n",
        "\n",
        "    def append(self, data):\n",
        "        new_node = Node(data)\n",
        "        if not self.head:\n",
        "            self.head = new_node\n",
        "            return\n",
        "        current = self.head\n",
        "        while current.next:\n",
        "            current = current.next\n",
        "        current.next = new_node\n",
        "\n",
        "    def print_list(self):\n",
        "        current = self.head\n",
        "        while current:\n",
        "            print(current.data, end=\" -> \")\n",
        "            current = current.next\n",
        "        print(\"None\")\n",
        "\n",
        "    @staticmethod\n",
        "    def merge_sorted_lists(list1, list2):\n",
        "        # Create a dummy node to start the merged list\n",
        "        dummy = Node(0)\n",
        "        current = dummy\n",
        "\n",
        "        p1 = list1.head\n",
        "        p2 = list2.head\n",
        "\n",
        "        # Merge the two lists\n",
        "        while p1 and p2:\n",
        "            if p1.data < p2.data:\n",
        "                current.next = p1\n",
        "                p1 = p1.next\n",
        "            else:\n",
        "                current.next = p2\n",
        "                p2 = p2.next\n",
        "            current = current.next\n",
        "\n",
        "        # If any elements are left in either list, append them\n",
        "        if p1:\n",
        "            current.next = p1\n",
        "        if p2:\n",
        "            current.next = p2\n",
        "\n",
        "        return LinkedList.from_head(dummy.next)\n",
        "\n",
        "    @staticmethod\n",
        "    def from_head(head):\n",
        "        new_list = LinkedList()\n",
        "        current = head\n",
        "        while current:\n",
        "            new_list.append(current.data)\n",
        "            current = current.next\n",
        "        return new_list\n",
        "\n",
        "\n",
        "\n",
        "list1 = LinkedList()\n",
        "list1.append(1)\n",
        "list1.append(3)\n",
        "list1.append(5)\n",
        "list1.append(6)\n",
        "\n",
        "# List 2: 2 -> 4 -> 6 -> 8\n",
        "list2 = LinkedList()\n",
        "list2.append(2)\n",
        "list2.append(4)\n",
        "list2.append(6)\n",
        "list2.append(8)\n",
        "\n",
        "print(\"List 1:\")\n",
        "list1.print_list()\n",
        "\n",
        "print(\"List 2:\")\n",
        "list2.print_list()\n",
        "\n",
        "# Merge the two lists\n",
        "merged_list = LinkedList.merge_sorted_lists(list1, list2)\n",
        "\n",
        "print(\"Merged List:\")\n",
        "merged_list.print_list()\n"
      ],
      "metadata": {
        "colab": {
          "base_uri": "https://localhost:8080/"
        },
        "id": "r3Acpvi4YbQy",
        "outputId": "6f7916ce-52d0-4f32-a56d-c7cf68934995"
      },
      "execution_count": 5,
      "outputs": [
        {
          "output_type": "stream",
          "name": "stdout",
          "text": [
            "List 1:\n",
            "1 -> 3 -> 5 -> 6 -> None\n",
            "List 2:\n",
            "2 -> 4 -> 6 -> 8 -> None\n",
            "Merged List:\n",
            "1 -> 2 -> 3 -> 4 -> 5 -> 6 -> 6 -> 8 -> None\n"
          ]
        }
      ]
    },
    {
      "cell_type": "markdown",
      "source": [
        "---"
      ],
      "metadata": {
        "id": "cF9THXeuYtX0"
      }
    },
    {
      "cell_type": "markdown",
      "source": [
        "5) Write a function to remove nth node from the end in a linked list\n",
        "\n",
        "1->2->3->4->5->6, removing 2nd node from end will return 1->2->3->4->6"
      ],
      "metadata": {
        "id": "KjXbzc6xYuWy"
      }
    },
    {
      "cell_type": "code",
      "source": [
        "\n",
        "class Node:\n",
        "    def __init__(self, data):\n",
        "        self.data = data\n",
        "        self.next = None\n",
        "\n",
        "class LinkedList:\n",
        "    def __init__(self):\n",
        "        self.head = None\n",
        "\n",
        "    def append(self, data):\n",
        "        new_node = Node(data)\n",
        "        if not self.head:\n",
        "            self.head = new_node\n",
        "            return\n",
        "        current = self.head\n",
        "        while current.next:\n",
        "            current = current.next\n",
        "        current.next = new_node\n",
        "\n",
        "    def print_list(self):\n",
        "        current = self.head\n",
        "        while current:\n",
        "            print(current.data, end=\" -> \")\n",
        "            current = current.next\n",
        "        print(\"None\")\n",
        "\n",
        "    def remove_nth_from_end(self, n):\n",
        "        # Create a dummy node that helps in edge case for removing the head node\n",
        "        dummy = Node(0)\n",
        "        dummy.next = self.head\n",
        "        fast = slow = dummy\n",
        "\n",
        "        # Move fast pointer n+1 steps ahead (so the gap between slow and fast is n nodes)\n",
        "        for _ in range(n + 1):\n",
        "            if fast:\n",
        "                fast = fast.next\n",
        "\n",
        "        # Move both fast and slow until fast reaches the end of the list\n",
        "        while fast:\n",
        "            fast = fast.next\n",
        "            slow = slow.next\n",
        "\n",
        "        # Remove the nth node from the end\n",
        "        slow.next = slow.next.next\n",
        "\n",
        "        # Set the new head of the list\n",
        "        self.head = dummy.next\n",
        "\n",
        "\n",
        "ll = LinkedList()\n",
        "ll.append(1)\n",
        "ll.append(2)\n",
        "ll.append(3)\n",
        "ll.append(4)\n",
        "ll.append(5)\n",
        "ll.append(6)\n",
        "\n",
        "print(\"Original List:\")\n",
        "ll.print_list()\n",
        "\n",
        "\n",
        "ll.remove_nth_from_end(2)\n",
        "\n",
        "print(\"List after removing 2nd node from the end:\")\n",
        "ll.print_list()\n"
      ],
      "metadata": {
        "colab": {
          "base_uri": "https://localhost:8080/"
        },
        "id": "ECZ9KzQxYsgk",
        "outputId": "bdf91ab3-1345-4a5e-9154-1d1ab90a3d25"
      },
      "execution_count": 7,
      "outputs": [
        {
          "output_type": "stream",
          "name": "stdout",
          "text": [
            "Original List:\n",
            "1 -> 2 -> 3 -> 4 -> 5 -> 6 -> None\n",
            "List after removing 2nd node from the end:\n",
            "1 -> 2 -> 3 -> 4 -> 6 -> None\n"
          ]
        }
      ]
    },
    {
      "cell_type": "markdown",
      "source": [
        "---"
      ],
      "metadata": {
        "id": "Wl_YCLWMZBy7"
      }
    },
    {
      "cell_type": "markdown",
      "source": [
        "6) Remove duplicates from a sorted linked list\n",
        "\n",
        "1->2->3->3->4->4->4->5  should be changed to 1->2->3->4->5"
      ],
      "metadata": {
        "id": "95DucYRtZGg-"
      }
    },
    {
      "cell_type": "code",
      "source": [
        "class Node:\n",
        "    def __init__(self, data):\n",
        "        self.data = data\n",
        "        self.next = None\n",
        "\n",
        "class LinkedList:\n",
        "    def __init__(self):\n",
        "        self.head = None\n",
        "\n",
        "    def append(self, data):\n",
        "        new_node = Node(data)\n",
        "        if not self.head:\n",
        "            self.head = new_node\n",
        "            return\n",
        "        current = self.head\n",
        "        while current.next:\n",
        "            current = current.next\n",
        "        current.next = new_node\n",
        "\n",
        "    def print_list(self):\n",
        "        current = self.head\n",
        "        while current:\n",
        "            print(current.data, end=\" -> \")\n",
        "            current = current.next\n",
        "        print(\"None\")\n",
        "\n",
        "    def remove_duplicates(self):\n",
        "        current = self.head\n",
        "        while current and current.next:\n",
        "            if current.data == current.next.data:\n",
        "                # Skip the duplicate node\n",
        "                current.next = current.next.next\n",
        "            else:\n",
        "                # Move to the next node\n",
        "                current = current.next\n",
        "\n",
        "ll = LinkedList()\n",
        "ll.append(1)\n",
        "ll.append(2)\n",
        "ll.append(3)\n",
        "ll.append(3)\n",
        "ll.append(4)\n",
        "ll.append(4)\n",
        "ll.append(4)\n",
        "ll.append(5)\n",
        "\n",
        "print(\"Original List:\")\n",
        "ll.print_list()\n",
        "\n",
        "# Remove duplicates\n",
        "ll.remove_duplicates()\n",
        "\n",
        "print(\"List after removing duplicates:\")\n",
        "ll.print_list()\n"
      ],
      "metadata": {
        "colab": {
          "base_uri": "https://localhost:8080/"
        },
        "id": "76rMvkFBY_I7",
        "outputId": "b8318f87-1908-43b0-b9f3-818a508ffd5d"
      },
      "execution_count": 8,
      "outputs": [
        {
          "output_type": "stream",
          "name": "stdout",
          "text": [
            "Original List:\n",
            "1 -> 2 -> 3 -> 3 -> 4 -> 4 -> 4 -> 5 -> None\n",
            "List after removing duplicates:\n",
            "1 -> 2 -> 3 -> 4 -> 5 -> None\n"
          ]
        }
      ]
    },
    {
      "cell_type": "markdown",
      "source": [
        "---"
      ],
      "metadata": {
        "id": "iDV43slMZTjU"
      }
    },
    {
      "cell_type": "markdown",
      "source": [
        "7) Find the intersection of the two linked lists\n",
        "\n",
        "1->2->3->4->8->6->9  5->1->6->7  , intersection 1->6"
      ],
      "metadata": {
        "id": "Lj4V_RB7Zb9j"
      }
    },
    {
      "cell_type": "code",
      "source": [
        "class Node:\n",
        "    def __init__(self, data):\n",
        "        self.data = data\n",
        "        self.next = None\n",
        "\n",
        "class LinkedList:\n",
        "    def __init__(self):\n",
        "        self.head = None\n",
        "\n",
        "    def append(self, data):\n",
        "        new_node = Node(data)\n",
        "        if not self.head:\n",
        "            self.head = new_node\n",
        "            return\n",
        "        current = self.head\n",
        "        while current.next:\n",
        "            current = current.next\n",
        "        current.next = new_node\n",
        "\n",
        "    def print_list(self):\n",
        "        current = self.head\n",
        "        while current:\n",
        "            print(current.data, end=\" -> \")\n",
        "            current = current.next\n",
        "        print(\"None\")\n",
        "\n",
        "    def get_length(self):\n",
        "        current = self.head\n",
        "        length = 0\n",
        "        while current:\n",
        "            length += 1\n",
        "            current = current.next\n",
        "        return length\n",
        "\n",
        "    def find_intersection(self, list2):\n",
        "        # Get the lengths of both lists\n",
        "        len1 = self.get_length()\n",
        "        len2 = list2.get_length()\n",
        "\n",
        "        # Set pointers to the head of both lists\n",
        "        p1 = self.head\n",
        "        p2 = list2.head\n",
        "\n",
        "        # Move the pointer of the longer list ahead by the difference in lengths\n",
        "        if len1 > len2:\n",
        "            for _ in range(len1 - len2):\n",
        "                p1 = p1.next\n",
        "        elif len2 > len1:\n",
        "            for _ in range(len2 - len1):\n",
        "                p2 = p2.next\n",
        "\n",
        "        # Traverse both lists together and check for intersection\n",
        "        while p1 and p2:\n",
        "            if p1 == p2:\n",
        "                return p1  # Intersection node found\n",
        "            p1 = p1.next\n",
        "            p2 = p2.next\n",
        "\n",
        "        return None  # No intersection found\n",
        "\n",
        "\n",
        "list1 = LinkedList()\n",
        "list1.append(1)\n",
        "list1.append(2)\n",
        "list1.append(3)\n",
        "list1.append(4)\n",
        "intersection_node = Node(6)  # Common node\n",
        "list1.append(8)\n",
        "list1.append(intersection_node.data)  # Adding intersection node (6)\n",
        "list1.append(9)\n",
        "\n",
        "# Second list: 5 -> 1 -> 6 -> 7\n",
        "list2 = LinkedList()\n",
        "list2.append(5)\n",
        "list2.append(1)\n",
        "list2.append(intersection_node.data)  # Adding intersection node (6)\n",
        "list2.append(7)\n",
        "\n",
        "print(\"List 1:\")\n",
        "list1.print_list()\n",
        "\n",
        "print(\"List 2:\")\n",
        "list2.print_list()\n",
        "\n",
        "# Find intersection\n",
        "intersection = list1.find_intersection(list2)\n",
        "\n",
        "if intersection:\n",
        "    print(f\"Intersection at node with data: {intersection.data}\")\n",
        "else:\n",
        "    print(\"No intersection found.\")\n"
      ],
      "metadata": {
        "colab": {
          "base_uri": "https://localhost:8080/"
        },
        "id": "xPcDQLCrZShD",
        "outputId": "ecdb8312-b40a-4d1a-ad7f-667b8c9f9cb0"
      },
      "execution_count": 9,
      "outputs": [
        {
          "output_type": "stream",
          "name": "stdout",
          "text": [
            "List 1:\n",
            "1 -> 2 -> 3 -> 4 -> 8 -> 6 -> 9 -> None\n",
            "List 2:\n",
            "5 -> 1 -> 6 -> 7 -> None\n",
            "No intersection found.\n"
          ]
        }
      ]
    },
    {
      "cell_type": "markdown",
      "source": [
        "---"
      ],
      "metadata": {
        "id": "NdL844GfZikc"
      }
    },
    {
      "cell_type": "markdown",
      "source": [
        "8) Rotate a linked list by k positions to the right\n",
        "\n",
        "1->2->3->4->8->6->9 , after rotating for 2 times becomes , 3->4->8->6->9->1->2"
      ],
      "metadata": {
        "id": "D6UgLoEIZlk2"
      }
    },
    {
      "cell_type": "code",
      "source": [
        "class Node:\n",
        "    def __init__(self, data):\n",
        "        self.data = data\n",
        "        self.next = None\n",
        "\n",
        "class LinkedList:\n",
        "    def __init__(self):\n",
        "        self.head = None\n",
        "\n",
        "    def append(self, data):\n",
        "        new_node = Node(data)\n",
        "        if not self.head:\n",
        "            self.head = new_node\n",
        "            return\n",
        "        current = self.head\n",
        "        while current.next:\n",
        "            current = current.next\n",
        "        current.next = new_node\n",
        "\n",
        "    def print_list(self):\n",
        "        current = self.head\n",
        "        while current:\n",
        "            print(current.data, end=\" -> \")\n",
        "            current = current.next\n",
        "        print(\"None\")\n",
        "\n",
        "    def get_length(self):\n",
        "        current = self.head\n",
        "        length = 0\n",
        "        while current:\n",
        "            length += 1\n",
        "            current = current.next\n",
        "        return length\n",
        "\n",
        "    def rotate(self, k):\n",
        "        # If the list is empty or k is 0, no rotation is needed\n",
        "        if not self.head or k == 0:\n",
        "            return\n",
        "\n",
        "        # Get the length of the list\n",
        "        length = self.get_length()\n",
        "\n",
        "        # If k is larger than the length, rotate only k % length times\n",
        "        k = k % length\n",
        "        if k == 0:\n",
        "            return\n",
        "\n",
        "        # Find the (length - k)th node (this will be the new tail)\n",
        "        current = self.head\n",
        "        for _ in range(length - k - 1):\n",
        "            current = current.next\n",
        "\n",
        "        # current is now the new tail, and current.next is the new head\n",
        "        new_head = current.next\n",
        "        current.next = None\n",
        "\n",
        "        # Traverse to the end of the list to link it to the old head\n",
        "        tail = new_head\n",
        "        while tail.next:\n",
        "            tail = tail.next\n",
        "        tail.next = self.head\n",
        "\n",
        "        # Update the head to the new head\n",
        "        self.head = new_head\n",
        "\n",
        "\n",
        "ll = LinkedList()\n",
        "ll.append(1)\n",
        "ll.append(2)\n",
        "ll.append(3)\n",
        "ll.append(4)\n",
        "ll.append(8)\n",
        "ll.append(6)\n",
        "ll.append(9)\n",
        "\n",
        "print(\"Original List:\")\n",
        "ll.print_list()\n",
        "\n",
        "# Rotate the list by 2 positions\n",
        "ll.rotate(2)\n",
        "\n",
        "print(\"List after rotating by 2 positions:\")\n",
        "ll.print_list()\n"
      ],
      "metadata": {
        "colab": {
          "base_uri": "https://localhost:8080/"
        },
        "id": "YsXVUP5FZhl1",
        "outputId": "5feb53f6-3060-4c0d-82bc-20341bf40f69"
      },
      "execution_count": 10,
      "outputs": [
        {
          "output_type": "stream",
          "name": "stdout",
          "text": [
            "Original List:\n",
            "1 -> 2 -> 3 -> 4 -> 8 -> 6 -> 9 -> None\n",
            "List after rotating by 2 positions:\n",
            "6 -> 9 -> 1 -> 2 -> 3 -> 4 -> 8 -> None\n"
          ]
        }
      ]
    },
    {
      "cell_type": "markdown",
      "source": [
        "---"
      ],
      "metadata": {
        "id": "B6h-lUgkZzeV"
      }
    },
    {
      "cell_type": "markdown",
      "source": [
        "9) Add Two Numbers Represented by LinkedLists:\n",
        "\n",
        "Given two non-empty linked lists representing two non-negative integers, where the digits are stored in\n",
        "reverse order, add the two numbers and return it as a linked list"
      ],
      "metadata": {
        "id": "ddJNUT7NZ1Ei"
      }
    },
    {
      "cell_type": "code",
      "source": [
        "class Node:\n",
        "    def __init__(self, data):\n",
        "        self.data = data\n",
        "        self.next = None\n",
        "\n",
        "class LinkedList:\n",
        "    def __init__(self):\n",
        "        self.head = None\n",
        "\n",
        "    def append(self, data):\n",
        "        new_node = Node(data)\n",
        "        if not self.head:\n",
        "            self.head = new_node\n",
        "            return\n",
        "        current = self.head\n",
        "        while current.next:\n",
        "            current = current.next\n",
        "        current.next = new_node\n",
        "\n",
        "    def print_list(self):\n",
        "        current = self.head\n",
        "        while current:\n",
        "            print(current.data, end=\" -> \")\n",
        "            current = current.next\n",
        "        print(\"None\")\n",
        "\n",
        "    def add_two_numbers(self, list2):\n",
        "        # Initialize pointers and carry\n",
        "        p1 = self.head\n",
        "        p2 = list2.head\n",
        "        carry = 0\n",
        "        result = LinkedList()\n",
        "\n",
        "        # Traverse both lists and add corresponding digits\n",
        "        while p1 or p2 or carry:\n",
        "            # Get the values of the current nodes, if available\n",
        "            val1 = p1.data if p1 else 0\n",
        "            val2 = p2.data if p2 else 0\n",
        "\n",
        "            # Sum the digits and the carry\n",
        "            total = val1 + val2 + carry\n",
        "\n",
        "            # Update the carry for the next digit\n",
        "            carry = total // 10\n",
        "\n",
        "            # The digit to store in the result\n",
        "            result.append(total % 10)\n",
        "\n",
        "            # Move to the next nodes in both lists, if available\n",
        "            if p1:\n",
        "                p1 = p1.next\n",
        "            if p2:\n",
        "                p2 = p2.next\n",
        "\n",
        "        return result\n",
        "\n",
        "\n",
        "list1 = LinkedList()\n",
        "list1.append(2)\n",
        "list1.append(4)\n",
        "list1.append(3)\n",
        "\n",
        "# Second list: 5 -> 6 -> 4 (Represents number 465)\n",
        "list2 = LinkedList()\n",
        "list2.append(5)\n",
        "list2.append(6)\n",
        "list2.append(4)\n",
        "\n",
        "print(\"List 1:\")\n",
        "list1.print_list()\n",
        "\n",
        "print(\"List 2:\")\n",
        "list2.print_list()\n",
        "\n",
        "# Add the two numbers\n",
        "result = list1.add_two_numbers(list2)\n",
        "\n",
        "print(\"Resultant List after addition:\")\n",
        "result.print_list()\n"
      ],
      "metadata": {
        "colab": {
          "base_uri": "https://localhost:8080/"
        },
        "id": "LJfd-ZSjZyUL",
        "outputId": "0ea1f64e-1011-4466-bfb8-4f550c518eeb"
      },
      "execution_count": 11,
      "outputs": [
        {
          "output_type": "stream",
          "name": "stdout",
          "text": [
            "List 1:\n",
            "2 -> 4 -> 3 -> None\n",
            "List 2:\n",
            "5 -> 6 -> 4 -> None\n",
            "Resultant List after addition:\n",
            "7 -> 0 -> 8 -> None\n"
          ]
        }
      ]
    },
    {
      "cell_type": "markdown",
      "source": [
        "---"
      ],
      "metadata": {
        "id": "6jUhEZKzaEpT"
      }
    },
    {
      "cell_type": "markdown",
      "source": [
        "10) Clone a Linked List with next and Random Pointer\n",
        "\n",
        "Given a linked list of size N where each node has two links: one pointer points to the next node and the\n",
        "second pointer points to any node in the list. The task is to create a clone of this linked list in O(N) time.\n",
        "\n",
        "\n",
        "Note: The pointer pointing to the next node is ‘next‘ pointer and the one pointing to an arbitrary node is\n",
        "called ‘arbit’ pointer as it can point to any arbitrary node in the linked list"
      ],
      "metadata": {
        "id": "3zK6hbnlaMl0"
      }
    },
    {
      "cell_type": "code",
      "source": [
        "class Node:\n",
        "    def __init__(self, data):\n",
        "        self.data = data\n",
        "        self.next = None\n",
        "        self.arbit = None\n",
        "\n",
        "class LinkedList:\n",
        "    def __init__(self):\n",
        "        self.head = None\n",
        "\n",
        "    def append(self, data):\n",
        "        new_node = Node(data)\n",
        "        if not self.head:\n",
        "            self.head = new_node\n",
        "            return\n",
        "        current = self.head\n",
        "        while current.next:\n",
        "            current = current.next\n",
        "        current.next = new_node\n",
        "\n",
        "    def print_list(self):\n",
        "        current = self.head\n",
        "        while current:\n",
        "            print(f\"Data: {current.data}, Arbit: {current.arbit.data if current.arbit else None}\")\n",
        "            current = current.next\n",
        "\n",
        "    def clone_list(self):\n",
        "        if not self.head:\n",
        "            return None\n",
        "\n",
        "        # Step 1: Insert cloned nodes after each original node\n",
        "        current = self.head\n",
        "        while current:\n",
        "            new_node = Node(current.data)\n",
        "            new_node.next = current.next\n",
        "            current.next = new_node\n",
        "            current = new_node.next  # Move to the next original node\n",
        "\n",
        "        # Step 2: Set arbit pointers for the cloned nodes\n",
        "        current = self.head\n",
        "        while current:\n",
        "            if current.arbit:\n",
        "                current.next.arbit = current.arbit.next  # Set arbit pointer for the clone\n",
        "            current = current.next.next  # Move to the next original node\n",
        "\n",
        "        # Step 3: Separate the original and cloned lists\n",
        "        original = self.head\n",
        "        cloned_head = self.head.next\n",
        "        cloned_current = cloned_head\n",
        "\n",
        "        while original:\n",
        "            original.next = original.next.next  # Restore the original list\n",
        "            if cloned_current.next:\n",
        "                cloned_current.next = cloned_current.next.next  # Move the cloned list pointer\n",
        "                cloned_current = cloned_current.next\n",
        "            original = original.next\n",
        "\n",
        "        return cloned_head\n",
        "\n",
        "ll = LinkedList()\n",
        "ll.append(1)\n",
        "ll.append(2)\n",
        "ll.append(3)\n",
        "ll.append(4)\n",
        "\n",
        "# Set arbit pointers\n",
        "ll.head.arbit = ll.head.next.next  # 1 -> 3\n",
        "ll.head.next.arbit = ll.head  # 2 -> 1\n",
        "ll.head.next.next.arbit = ll.head.next.next.next  # 3 -> 4\n",
        "ll.head.next.next.next.arbit = ll.head.next  # 4 -> 2\n",
        "\n",
        "print(\"Original List with Arbit Pointers:\")\n",
        "ll.print_list()\n",
        "\n",
        "# Clone the list\n",
        "cloned_ll = LinkedList()\n",
        "cloned_head = ll.clone_list()\n",
        "\n",
        "print(\"\\nCloned List with Arbit Pointers:\")\n",
        "cloned_ll.head = cloned_head\n",
        "cloned_ll.print_list()\n"
      ],
      "metadata": {
        "colab": {
          "base_uri": "https://localhost:8080/"
        },
        "id": "pI5B2SB1aD6E",
        "outputId": "d068ed69-6250-419e-b4b6-3a53be57c8f0"
      },
      "execution_count": 12,
      "outputs": [
        {
          "output_type": "stream",
          "name": "stdout",
          "text": [
            "Original List with Arbit Pointers:\n",
            "Data: 1, Arbit: 3\n",
            "Data: 2, Arbit: 1\n",
            "Data: 3, Arbit: 4\n",
            "Data: 4, Arbit: 2\n",
            "\n",
            "Cloned List with Arbit Pointers:\n",
            "Data: 1, Arbit: 3\n",
            "Data: 2, Arbit: 1\n",
            "Data: 3, Arbit: 4\n",
            "Data: 4, Arbit: 2\n"
          ]
        }
      ]
    },
    {
      "cell_type": "markdown",
      "source": [
        "#END"
      ],
      "metadata": {
        "id": "xswiAMzRaWD3"
      }
    }
  ]
}