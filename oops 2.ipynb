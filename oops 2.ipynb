{
 "cells": [
  {
   "cell_type": "markdown",
   "id": "23c8c51d-b39d-49a4-94e7-6ab5925de94b",
   "metadata": {},
   "source": [
    "# Constructor:"
   ]
  },
  {
   "cell_type": "markdown",
   "id": "d0f8bbf7-3134-46e1-a869-f77c334419d4",
   "metadata": {},
   "source": [
    "1. What is a constructor in Python? Explain its purpose and usage."
   ]
  },
  {
   "cell_type": "markdown",
   "id": "a13f5470-ce1b-453d-9477-bb98e90f01ba",
   "metadata": {},
   "source": [
    "Constructors in Python is a special class method for creating and initializing an object instance at that class. In Python every class has a constructor; it's not required to define explicitly. The purpose of the constructor is to construct an object and assign a value to the object's members."
   ]
  },
  {
   "cell_type": "markdown",
   "id": "1f46072d-1639-4160-a579-d880c6735210",
   "metadata": {},
   "source": [
    "2. Differentiate between a parameterless constructor and a parameterized constructor in Python."
   ]
  },
  {
   "cell_type": "markdown",
   "id": "9b130119-ff05-4a86-8979-3ab7205219bb",
   "metadata": {},
   "source": [
    "A parameterized constructor is a constructor that takes one or more arguments. It is used to create an object with custom values for its attributes. Non-Parameterized Constructor: A non-parameterized constructor is a constructor that does not take any arguments."
   ]
  },
  {
   "cell_type": "markdown",
   "id": "4906ae0c-dc5e-479b-8ab7-a44bd5b54fb1",
   "metadata": {},
   "source": [
    "3. How do you define a constructor in a Python class? Provide an example."
   ]
  },
  {
   "cell_type": "markdown",
   "id": "6b2cdcc9-bc0c-4428-bbcb-743ed698f1e1",
   "metadata": {},
   "source": [
    "In Python, a constructor is a special method used for initializing newly created objects. It is called automatically when a new instance of the class is created. The constructor method in Python is named __init__()."
   ]
  },
  {
   "cell_type": "code",
   "execution_count": 13,
   "id": "9655a5d8-9436-45a6-b8dd-2d5cc9fccaf1",
   "metadata": {},
   "outputs": [
    {
     "name": "stdout",
     "output_type": "stream",
     "text": [
      "Raj\n",
      "30\n"
     ]
    }
   ],
   "source": [
    "class Person:\n",
    "    def __init__(self, name, age):\n",
    "        self.name = name\n",
    "        self.age = age\n",
    "\n",
    "person1 = Person(\"Raj\", 30)\n",
    "\n",
    "print(person1.name) \n",
    "print(person1.age)  \n"
   ]
  },
  {
   "cell_type": "markdown",
   "id": "708eb754-db97-47ae-8867-5cb5b9a8c464",
   "metadata": {},
   "source": [
    "4. Explain the `__init__` method in Python and its role in constructors."
   ]
  },
  {
   "cell_type": "markdown",
   "id": "74e5d6c1-09eb-481f-a14f-85c64fdb9c79",
   "metadata": {},
   "source": [
    "In Python, __init__ is an instance method that initializes a newly created object. It takes the object as its first argument followed by additional arguments. The method takes the object as its first argument (self), followed by any additional arguments that need to be passed to it."
   ]
  },
  {
   "cell_type": "markdown",
   "id": "95f7d3c8-bd0c-46fe-a76e-a3e3b9307c0e",
   "metadata": {},
   "source": [
    "5. In a class named `Person`, create a constructor that initializes the `name` and `age` attributes. Provide an\n",
    "example of creating an object of this class."
   ]
  },
  {
   "cell_type": "code",
   "execution_count": 4,
   "id": "0a851c1e-3e56-427d-8d24-4b3356e8f9ea",
   "metadata": {},
   "outputs": [],
   "source": [
    "class Person:\n",
    "    def __init__(self, name, age):\n",
    "        self.name = name\n",
    "        self.age = age\n",
    "\n",
    "\n",
    "person1 = Person(\"John\", 25)"
   ]
  },
  {
   "cell_type": "markdown",
   "id": "2a897ec3-353a-4f53-8e4d-21fb0561c634",
   "metadata": {},
   "source": [
    "6. How can you call a constructor explicitly in Python? Give an example."
   ]
  },
  {
   "cell_type": "code",
   "execution_count": 10,
   "id": "65042670-54c7-44db-8fa1-9687835921d2",
   "metadata": {},
   "outputs": [
    {
     "name": "stdout",
     "output_type": "stream",
     "text": [
      "Alice\n",
      "30\n"
     ]
    }
   ],
   "source": [
    "class Person:\n",
    "    def __init__(self, name, age):\n",
    "        self.name = name\n",
    "        self.age = age\n",
    "\n",
    "\n",
    "person2 = Person.__new__(Person)\n",
    "person2.__init__(\"Alice\", 30)\n",
    "\n",
    "print(person2.name)  \n",
    "print(person2.age)"
   ]
  },
  {
   "cell_type": "markdown",
   "id": "0e726c0d-c392-49a1-a68d-480616262229",
   "metadata": {},
   "source": [
    "7. What is the significance of the `self` parameter in Python constructors? Explain with an example. "
   ]
  },
  {
   "cell_type": "code",
   "execution_count": 12,
   "id": "507ae479-bcea-48f1-9f3a-9d3f19b054a5",
   "metadata": {},
   "outputs": [
    {
     "name": "stdout",
     "output_type": "stream",
     "text": [
      "John\n",
      "30\n",
      "Hi, my name is John and I am 25 years old.\n",
      "Hi, my name is Alice and I am 30 years old.\n"
     ]
    }
   ],
   "source": [
    "'''In Python, the self parameter in constructors (and other methods) refers to the instance of the class itself. \n",
    "It is a convention in Python to use self as the first parameter in method definitions to access and modify attributes of the current object. \n",
    "When a constructor is called, self allows you to set attributes specific to that instance.'''\n",
    "\n",
    "class Person:\n",
    "    def __init__(self, name, age):\n",
    "        self.name = name\n",
    "        self.age = age\n",
    "\n",
    "    def introduce(self):\n",
    "        print(f\"Hi, my name is {self.name} and I am {self.age} years old.\")\n",
    "\n",
    "person1 = Person(\"John\", 25)\n",
    "person2 = Person(\"Alice\", 30)\n",
    "\n",
    "print(person1.name)  \n",
    "print(person2.age)   \n",
    "\n",
    "person1.introduce()  \n",
    "person2.introduce()  "
   ]
  },
  {
   "cell_type": "markdown",
   "id": "00cdab98-6ea2-49b7-9fb7-7bc2cdf9818c",
   "metadata": {},
   "source": [
    "8. Discuss the concept of default constructors in Python. When are they used?"
   ]
  },
  {
   "cell_type": "code",
   "execution_count": 13,
   "id": "a7a34e29-edd7-41cf-acb7-a6a14412b97d",
   "metadata": {},
   "outputs": [],
   "source": [
    "class MyClass:\n",
    "    pass\n",
    "\n",
    "obj = MyClass()"
   ]
  },
  {
   "cell_type": "markdown",
   "id": "21600e2c-aa8d-4bbf-8b33-95a3437b3de8",
   "metadata": {},
   "source": [
    "9. Create a Python class called `Rectangle` with a constructor that initializes the `width` and `height`\n",
    "attributes. Provide a method to calculate the area of the rectangle."
   ]
  },
  {
   "cell_type": "code",
   "execution_count": 20,
   "id": "1f1b0078-9cc9-408e-9ce3-514608ef029c",
   "metadata": {},
   "outputs": [
    {
     "name": "stdout",
     "output_type": "stream",
     "text": [
      "Area of the rectangle:  6\n"
     ]
    }
   ],
   "source": [
    "class Rectangle:\n",
    "    def __init__(self, width, height):\n",
    "        self.width = width\n",
    "        self.height = height\n",
    "        \n",
    "    def calculate_area(self):\n",
    "        return self.width * self.height\n",
    "    \n",
    "# eg\n",
    "area = Rectangle(3,2)\n",
    "print('Area of the rectangle: ', area.calculate_area())"
   ]
  },
  {
   "cell_type": "markdown",
   "id": "4f0adb6d-da48-4da7-a7bf-15fec3f27ecc",
   "metadata": {},
   "source": [
    "10. How can you have multiple constructors in a Python class? Explain with an example."
   ]
  },
  {
   "cell_type": "code",
   "execution_count": 21,
   "id": "afa4a7cd-5e66-411b-8544-4644ce5f350b",
   "metadata": {},
   "outputs": [
    {
     "name": "stdout",
     "output_type": "stream",
     "text": [
      "Rectangle width: 5\n",
      "Rectangle height: 7\n",
      "Square width: 4\n",
      "Square height: 4\n"
     ]
    }
   ],
   "source": [
    "class Rectangle:\n",
    "    def __init__(self, width, height):\n",
    "        self.width = width\n",
    "        self.height = height\n",
    "\n",
    "    @classmethod\n",
    "    def create_square(cls, side_length):\n",
    "        return cls(side_length, side_length)\n",
    "\n",
    "\n",
    "rectangle = Rectangle(5, 7)\n",
    "print(\"Rectangle width:\", rectangle.width)\n",
    "print(\"Rectangle height:\", rectangle.height)\n",
    "\n",
    "square = Rectangle.create_square(4)\n",
    "print(\"Square width:\", square.width)\n",
    "print(\"Square height:\", square.height)"
   ]
  },
  {
   "cell_type": "markdown",
   "id": "187331fe-7b43-4fe1-815c-4154440355ae",
   "metadata": {},
   "source": [
    "11. What is method overloading, and how is it related to constructors in Python?"
   ]
  },
  {
   "cell_type": "markdown",
   "id": "ce4fc6a1-52d2-4f63-8ccb-f86ef269b621",
   "metadata": {},
   "source": [
    "Method overloading is a feature in object-oriented programming that allows a class to have multiple methods with the same name but with different parameters or different implementations.\n",
    "Regarding constructors in Python, since Python doesn't support method overloading in the traditional sense, you cannot have multiple constructors with different parameter lists."
   ]
  },
  {
   "cell_type": "markdown",
   "id": "a5edec4c-e791-4385-a638-981e5570c123",
   "metadata": {},
   "source": [
    "12. Explain the use of the `super()` function in Python constructors. Provide an example."
   ]
  },
  {
   "cell_type": "markdown",
   "id": "688986ac-ddd5-410e-8602-b3c8aabd2977",
   "metadata": {},
   "source": [
    "In Python, the super() function is used to call the constructor or other methods of the base class (also known as the superclass) from a subclass. This is particularly useful when you want to extend the functionality of a parent class in a subclass while still retaining the behavior of the parent class."
   ]
  },
  {
   "cell_type": "code",
   "execution_count": 28,
   "id": "bf3e3304-13c2-48d2-a498-6e4f4b1f7096",
   "metadata": {},
   "outputs": [
    {
     "name": "stdout",
     "output_type": "stream",
     "text": [
      "Name: Rakesh\n",
      "Age: 25\n"
     ]
    }
   ],
   "source": [
    "class Parent:\n",
    "    def __init__(self, name):\n",
    "        self.name = name\n",
    "\n",
    "    def display(self):\n",
    "        print(\"Name:\", self.name)\n",
    "\n",
    "class Child(Parent):\n",
    "    def __init__(self, name, age):\n",
    "        super().__init__(name)\n",
    "        self.age = age\n",
    "\n",
    "    def display(self):\n",
    "        super().display()\n",
    "        print(\"Age:\", self.age)\n",
    "\n",
    "child = Child(\"Rakesh\", 25)\n",
    "\n",
    "child.display()"
   ]
  },
  {
   "cell_type": "markdown",
   "id": "9b3fee39-523e-47f1-9742-3e53de95e41c",
   "metadata": {},
   "source": [
    "13. Create a class called `Book` with a constructor that initializes the `title`, `author`, and `published_year`\n",
    "attributes. Provide a method to display book details."
   ]
  },
  {
   "cell_type": "code",
   "execution_count": 29,
   "id": "420321c2-01a8-462b-a73f-684a9249a97b",
   "metadata": {},
   "outputs": [
    {
     "name": "stdout",
     "output_type": "stream",
     "text": [
      "Title: The Great Gatsby\n",
      "Author: F. Scott Fitzgerald\n",
      "Published Year: 1925\n"
     ]
    }
   ],
   "source": [
    "class Book:\n",
    "    def __init__(self, title, author, published_year):\n",
    "        self.title = title\n",
    "        self.author = author\n",
    "        self.published_year = published_year\n",
    "\n",
    "    def display_details(self):\n",
    "        print(\"Title:\", self.title)\n",
    "        print(\"Author:\", self.author)\n",
    "        print(\"Published Year:\", self.published_year)\n",
    "\n",
    "book = Book(\"The Great Gatsby\", \"F. Scott Fitzgerald\", 1925)\n",
    "\n",
    "# Displaying book details\n",
    "book.display_details()"
   ]
  },
  {
   "cell_type": "markdown",
   "id": "e4b99a62-2cf7-4ae8-8af8-4e703b1c54e0",
   "metadata": {},
   "source": [
    "14. Discuss the differences between constructors and regular methods in Python classes."
   ]
  },
  {
   "cell_type": "markdown",
   "id": "63a3181c-60f2-4173-8d7f-d8f13a1518f1",
   "metadata": {},
   "source": [
    "Constructors and regular methods in Python classes serve different purposes and have distinct characteristics. Here are the key differences between them:\n",
    "\n",
    "Initialization:\n",
    "Constructors: Constructors are special methods used for initializing objects of a class. They are automatically called when a new instance of the class is created. In Python,constructors are defined using the init method.\n",
    "Regular methods: Regular methods perform specific actions or operations on objects of a class. They are defined using normal method syntax and can be called on instances of the class after they have been initialized.\n",
    "\n",
    "\n",
    "Invocation:\n",
    "Constructors: Constructors are invoked automatically when a new object of the class is created using the class name followed by parentheses. They initialize the object's attributes or perform any necessary setup operations.\n",
    "Regular methods: Regular methods are invoked explicitly by calling them on instances of the class using the dot notation (object.method()).\n",
    "\n",
    "\n",
    "Return value:\n",
    "Constructors: Constructors typically do not return any value explicitly. Their primary purpose is to initialize the object's state.\n",
    "Regular methods: Regular methods can return values as needed based on their implementation.\n",
    "\n",
    "\n",
    "Usage:\n",
    "Constructors: Constructors are primarily used to initialize instance variables or perform any setup tasks required when creating objects of a class. They are used to ensure that every object starts with a consistent state.\n",
    "Regular methods: Regular methods are used to define the behavior or actions that objects of the class can perform. They can manipulate the object's attributes, perform calculations, or interact with other objects.\n",
    "\n",
    "\n",
    "Naming convention:\n",
    "Constructors: Constructors in Python are conventionally named init, although you can technically name them anything you like.\n",
    "Regular methods: Regular methods can have any name that adheres to the rules for naming identifiers in Python."
   ]
  },
  {
   "cell_type": "markdown",
   "id": "5d6455d9-96ba-4e6b-9101-47b8b9668527",
   "metadata": {},
   "source": [
    "15. Explain the role of the `self` parameter in instance variable initialization within a constructor."
   ]
  },
  {
   "cell_type": "markdown",
   "id": "7561ddf7-c8ac-4b3e-a176-d8aa1990f0da",
   "metadata": {},
   "source": [
    "the self parameter in a constructor (or any method) refers to the instance of the class itself. It acts as a reference to the current object being operated on. When initializing instance variables within a constructor, the self parameter is used to bind those variables to the specific instance being created."
   ]
  },
  {
   "cell_type": "code",
   "execution_count": 32,
   "id": "27718511-acf9-416f-bf37-af6e6ed6b2d4",
   "metadata": {},
   "outputs": [
    {
     "name": "stdout",
     "output_type": "stream",
     "text": [
      "Name: Rohit\n",
      "Age: 15\n"
     ]
    }
   ],
   "source": [
    "class Person:\n",
    "    def __init__(self, name, age):\n",
    "        self.name = name    # Initializing instance variable 'name'\n",
    "        self.age = age      # Initializing instance variable 'age'\n",
    "\n",
    "    def display_info(self):\n",
    "        print(\"Name:\", self.name)\n",
    "        print(\"Age:\", self.age)\n",
    "\n",
    "# Creating an object of the Person class\n",
    "person1 = Person(\"Rohit\", 15)\n",
    "\n",
    "# Calling the display_info method to display instance variables\n",
    "person1.display_info()"
   ]
  },
  {
   "cell_type": "markdown",
   "id": "dfab1f81-3331-4455-87c8-b7646a9ee933",
   "metadata": {},
   "source": [
    "16. How do you prevent a class from having multiple instances by using constructors in Python? Provide an\n",
    "example."
   ]
  },
  {
   "cell_type": "markdown",
   "id": "63b83ee9-9ace-4d3b-9a10-6cf81007720f",
   "metadata": {},
   "source": [
    "To prevent a class from having multiple instances in Python, you can use a class variable to keep track of whether an instance has been created or not. Then, in the constructor, you can check this class variable to ensure that only one instance is created."
   ]
  },
  {
   "cell_type": "code",
   "execution_count": 35,
   "id": "8f046384-16d0-4d01-892c-cedd580119b8",
   "metadata": {},
   "outputs": [
    {
     "name": "stdout",
     "output_type": "stream",
     "text": [
      "10\n",
      "10\n",
      "True\n"
     ]
    }
   ],
   "source": [
    "class Singleton:\n",
    "    instance = None   # Class variable to hold the single instance\n",
    "\n",
    "    def __new__(cls, *args, **kwargs):\n",
    "        if cls.instance is None:\n",
    "            cls.instance = super().__new__(cls)\n",
    "        return cls.instance\n",
    "\n",
    "    def __init__(self, value):\n",
    "        if not hasattr(self, 'initialized'):\n",
    "            self.value = value\n",
    "            self.initialized = True\n",
    "\n",
    "\n",
    "singleton1 = Singleton(10)\n",
    "singleton2 = Singleton(20)\n",
    "\n",
    "print(singleton1.value)\n",
    "print(singleton2.value)\n",
    "print(singleton1 is singleton2)"
   ]
  },
  {
   "cell_type": "markdown",
   "id": "e11de6ce-b0ea-4d21-bb48-eb90a1307ef8",
   "metadata": {},
   "source": [
    "17. Create a Python class called `Student` with a constructor that takes a list of subjects as a parameter and\n",
    "initializes the `subjects` attribute."
   ]
  },
  {
   "cell_type": "code",
   "execution_count": 37,
   "id": "9882e011-aaa2-408f-9466-bdc82078740e",
   "metadata": {},
   "outputs": [
    {
     "name": "stdout",
     "output_type": "stream",
     "text": [
      "Subjects: ['Math', 'Science', 'History']\n"
     ]
    }
   ],
   "source": [
    "class Student:\n",
    "    def __init__(self, subjects):\n",
    "        self.subjects = subjects\n",
    "\n",
    "# Creating an object of the Student class\n",
    "student = Student([\"Math\", \"Science\", \"History\"])\n",
    "\n",
    "# Accessing and printing the subjects attribute\n",
    "print(\"Subjects:\", student.subjects)"
   ]
  },
  {
   "cell_type": "markdown",
   "id": "bf6296ce-9bea-45b8-98cc-67408b4dd09e",
   "metadata": {},
   "source": [
    "18. What is the purpose of the `__del__` method in Python classes, and how does it relate to constructors?"
   ]
  },
  {
   "cell_type": "markdown",
   "id": "f38a8b5c-4faf-444b-abfd-7e5d954df53a",
   "metadata": {},
   "source": [
    "The __del__ method in Python classes is a special method used for performing cleanup actions or releasing resources when an object is about to be destroyed or garbage collected. It is the destructor method in Python and is called automatically just before an object is deleted from memory.\n",
    "\n",
    "The purpose of the del method is to provide a way to clean up resources or perform any finalization tasks associated with an object before it is removed from memory."
   ]
  },
  {
   "cell_type": "markdown",
   "id": "c465ec2e-ef8b-48c8-bc2f-7e37fbdd42ec",
   "metadata": {},
   "source": [
    "19. Explain the use of constructor chaining in Python. Provide a practical example."
   ]
  },
  {
   "cell_type": "markdown",
   "id": "1333f0e5-e76c-44f3-b362-67b895ed0fc7",
   "metadata": {},
   "source": [
    "Constructor chaining in Python refers to the process of one constructor calling another constructor within the same class or from its parent class. This allows you to avoid code duplication by reusing initialization logic from other constructors.\n"
   ]
  },
  {
   "cell_type": "code",
   "execution_count": 39,
   "id": "7052d9da-b2d5-4a38-8dfe-d663708b0658",
   "metadata": {},
   "outputs": [
    {
     "name": "stdout",
     "output_type": "stream",
     "text": [
      "Initializing Vehicle: Toyota\n",
      "Initializing Car: Toyota Unknown\n"
     ]
    }
   ],
   "source": [
    "class Vehicle:\n",
    "    def __init__(self, brand):\n",
    "        self.brand = brand\n",
    "        print(f\"Initializing Vehicle: {self.brand}\")\n",
    "\n",
    "class Car(Vehicle):\n",
    "    def __init__(self, brand, model):\n",
    "        super().__init__(brand)\n",
    "        self.model = model\n",
    "        print(f\"Initializing Car: {self.brand} {self.model}\")\n",
    "\n",
    "    @classmethod\n",
    "    def from_brand(cls, brand):\n",
    "        return cls(brand, \"Unknown\")\n",
    "\n",
    "car = Car.from_brand(\"Toyota\")"
   ]
  },
  {
   "cell_type": "markdown",
   "id": "7ee37173-e41c-41da-bfde-e257f3882006",
   "metadata": {},
   "source": [
    "20. Create a Python class called `Car` with a default constructor that initializes the `make` and `model`\n",
    "attributes. Provide a method to display car information."
   ]
  },
  {
   "cell_type": "code",
   "execution_count": 40,
   "id": "98a37984-53bf-4ea5-a377-5bf138ca541a",
   "metadata": {},
   "outputs": [
    {
     "name": "stdout",
     "output_type": "stream",
     "text": [
      "Make: Toyota\n",
      "Model: Camry\n"
     ]
    }
   ],
   "source": [
    "class Car:\n",
    "    def __init__(self, make, model):\n",
    "        self.make = make\n",
    "        self.model = model\n",
    "\n",
    "    def display_info(self):\n",
    "        print(\"Make:\", self.make)\n",
    "        print(\"Model:\", self.model)\n",
    "\n",
    "# Creating an object of the Car class\n",
    "car = Car(\"Toyota\", \"Camry\")\n",
    "\n",
    "# Displaying car information\n",
    "car.display_info()"
   ]
  },
  {
   "cell_type": "markdown",
   "id": "d988e992-ab39-4914-bfa3-905286aa0716",
   "metadata": {},
   "source": [
    "# Inheritance:"
   ]
  },
  {
   "cell_type": "markdown",
   "id": "8d98f0c6-c3e4-44e8-93af-400207a9b907",
   "metadata": {},
   "source": [
    "1. What is inheritance in Python? Explain its significance in object-oriented programming."
   ]
  },
  {
   "cell_type": "markdown",
   "id": "d22ed751-516d-4522-925f-144c874e0592",
   "metadata": {},
   "source": [
    "Inheritance is a mechanism by which a new class (subclass) can inherit attributes and methods from an existing class (superclass or parent class). The subclass can then extend or modify the behavior of the superclass by adding new methods or overriding existing methods."
   ]
  },
  {
   "cell_type": "markdown",
   "id": "8298d991-ea9c-4cbe-a3d8-e13d66ed66be",
   "metadata": {},
   "source": [
    "2. Differentiate between single inheritance and multiple inheritance in Python. Provide examples for each."
   ]
  },
  {
   "cell_type": "markdown",
   "id": "9ed9febd-b8ea-463f-b04d-dbe581b47b5d",
   "metadata": {},
   "source": [
    "# Single Inheritance\n",
    "\n",
    "In single inheritance, a subclass inherits from only one superclass.\n",
    "It forms a simple parent-child relationship where the subclass inherits attributes and methods from a single superclass.\n",
    "Single inheritance is straightforward and easy to understand.\n",
    "\n",
    "# Multiple Inheritance \n",
    "\n",
    "In multiple inheritance, a subclass inherits from multiple superclasses.\n",
    "It allows a subclass to inherit attributes and methods from multiple parent classes, forming a more complex inheritance hierarchy.\n",
    "Multiple inheritance provides flexibility but can lead to ambiguity and the diamond problem if not handled carefully."
   ]
  },
  {
   "cell_type": "code",
   "execution_count": 42,
   "id": "60301c7f-9994-4556-8f1e-f57447ffaa31",
   "metadata": {},
   "outputs": [
    {
     "name": "stdout",
     "output_type": "stream",
     "text": [
      "Animal speaks\n",
      "Dog barks\n",
      "------------------------------------------------------------------------------------------------\n",
      "Animal speaks\n",
      "Bird chirps\n",
      "Parrot flies\n"
     ]
    }
   ],
   "source": [
    "# single inheritance eg\n",
    "\n",
    "class Animal:\n",
    "    def speak(self):\n",
    "        print(\"Animal speaks\")\n",
    "\n",
    "class Dog(Animal):\n",
    "    def bark(self):\n",
    "        print(\"Dog barks\")\n",
    "\n",
    "dog = Dog()\n",
    "dog.speak()\n",
    "dog.bark()\n",
    "\n",
    "print('------------------------------------------------------------------------------------------------')\n",
    "\n",
    "\n",
    "# multiple inheritance eg\n",
    "\n",
    "class Animal:\n",
    "    def speak(self):\n",
    "        print(\"Animal speaks\")\n",
    "\n",
    "class Bird:\n",
    "    def chirp(self):\n",
    "        print(\"Bird chirps\")\n",
    "\n",
    "class Parrot(Animal, Bird):\n",
    "    def fly(self):\n",
    "        print(\"Parrot flies\")\n",
    "\n",
    "parrot = Parrot()\n",
    "parrot.speak()\n",
    "parrot.chirp()\n",
    "parrot.fly()"
   ]
  },
  {
   "cell_type": "markdown",
   "id": "25cd77f6-da86-4c4c-a3d8-687b6a3c0a0c",
   "metadata": {},
   "source": [
    "3. Create a Python class called `Vehicle` with attributes `color` and `speed`. Then, create a child class called\n",
    "`Car` that inherits from `Vehicle` and adds a `brand` attribute. Provide an example of creating a `Car` object."
   ]
  },
  {
   "cell_type": "code",
   "execution_count": 43,
   "id": "7fdb884c-6657-4617-a835-e0a95a47a58f",
   "metadata": {},
   "outputs": [
    {
     "name": "stdout",
     "output_type": "stream",
     "text": [
      "Color: Red\n",
      "Speed: 100\n",
      "Brand: Toyota\n"
     ]
    }
   ],
   "source": [
    "class Vehicle:\n",
    "    def __init__(self, color, speed):\n",
    "        self.color = color\n",
    "        self.speed = speed\n",
    "\n",
    "class Car(Vehicle):\n",
    "    def __init__(self, color, speed, brand):\n",
    "        super().__init__(color, speed)\n",
    "        self.brand = brand\n",
    "\n",
    "# Creating a Car object\n",
    "car = Car(\"Red\", 100, \"Toyota\")\n",
    "\n",
    "# Accessing attributes of the Car object\n",
    "print(\"Color:\", car.color)   # Output: Color: Red\n",
    "print(\"Speed:\", car.speed)   # Output: Speed: 100\n",
    "print(\"Brand:\", car.brand)   # Output: Brand: Toyota"
   ]
  },
  {
   "cell_type": "markdown",
   "id": "a2437ae0-f3b5-4ffa-8bfa-a9f41f435c91",
   "metadata": {},
   "source": [
    "4. Explain the concept of method overriding in inheritance. Provide a practical example."
   ]
  },
  {
   "cell_type": "markdown",
   "id": "76f8ee95-b3a5-4a73-9542-fb3893a32020",
   "metadata": {},
   "source": [
    "Method overriding in inheritance is a concept where a subclass provides a specific implementation of a method that is already defined in its superclass. This allows the subclass to customize the behavior of inherited methods to suit its own requirements."
   ]
  },
  {
   "cell_type": "code",
   "execution_count": 45,
   "id": "dd09f92c-5fb3-40b2-92a4-af432d7a7da7",
   "metadata": {},
   "outputs": [
    {
     "name": "stdout",
     "output_type": "stream",
     "text": [
      "Animal speaks\n",
      "Dog barks\n"
     ]
    }
   ],
   "source": [
    "class Animal:\n",
    "    def speak(self):\n",
    "        print(\"Animal speaks\")\n",
    "\n",
    "class Dog(Animal):\n",
    "    def speak(self):\n",
    "        print(\"Dog barks\")\n",
    "\n",
    "animal = Animal()\n",
    "dog = Dog()\n",
    "\n",
    "animal.speak()\n",
    "dog.speak()"
   ]
  },
  {
   "cell_type": "markdown",
   "id": "15c50712-638a-4467-a50b-53010fa2f3bd",
   "metadata": {},
   "source": [
    "5. How can you access the methods and attributes of a parent class from a child class in Python? Give an\n",
    "example."
   ]
  },
  {
   "cell_type": "markdown",
   "id": "b09ba496-f707-439f-8f83-39b14b99421c",
   "metadata": {},
   "source": [
    "you can access the methods and attributes of a parent class from a child class using the super() function or by directly referencing the parent class name. Here's an example demonstrating both approaches:"
   ]
  },
  {
   "cell_type": "code",
   "execution_count": 48,
   "id": "fed289df-e0ec-44d8-b1f9-1689e7d001a0",
   "metadata": {},
   "outputs": [
    {
     "name": "stdout",
     "output_type": "stream",
     "text": [
      "Parent method\n",
      "Parent method\n",
      "Parent attribute: Parent attribute\n"
     ]
    }
   ],
   "source": [
    "class Parent:\n",
    "    def __init__(self):\n",
    "        self.parent_attribute = \"Parent attribute\"\n",
    "\n",
    "    def parent_method(self):\n",
    "        print(\"Parent method\")\n",
    "\n",
    "class Child(Parent):\n",
    "    def __init__(self):\n",
    "        super().__init__()\n",
    "\n",
    "    def child_method(self):\n",
    "        super().parent_method()\n",
    "        \n",
    "        print(\"Parent attribute:\", self.parent_attribute)\n",
    "\n",
    "child = Child()\n",
    "\n",
    "child.parent_method()\n",
    "child.child_method() "
   ]
  },
  {
   "cell_type": "markdown",
   "id": "2b4104fa-e698-4dc5-8473-559f92338cf9",
   "metadata": {},
   "source": [
    "6. Discuss the use of the `super()` function in Python inheritance. When and why is it used? Provide an\n",
    "example."
   ]
  },
  {
   "cell_type": "markdown",
   "id": "d355904a-c9e1-4b79-b4d4-5d38f4c4b0fd",
   "metadata": {},
   "source": [
    "the super() function is used to call methods and constructors from the parent class (superclass) within the child class (subclass). It provides a way to access and invoke methods and constructors of the superclass without explicitly naming the superclass.\n",
    "\n",
    "The primary purpose of super() is to facilitate cooperative multiple inheritance and ensure proper method resolution order (MRO) when dealing with complex inheritance hierarchies. It allows child classes to extend or customize the behavior of methods defined in the parent class while preserving the functionality of the parent class."
   ]
  },
  {
   "cell_type": "markdown",
   "id": "b4888826-337d-4563-b251-f45cdad19218",
   "metadata": {},
   "source": [
    "Here's a breakdown of when and why super() is used:\n",
    "\n",
    "Calling parent class methods: In a subclass, you may want to call a method defined in the parent class. Instead of explicitly naming the parent class, you can use super() to call the method, which ensures that the method resolution order is maintained.\n",
    "\n",
    "Calling parent class constructor: In a subclass, you may want to call the constructor of the parent class to initialize inherited attributes. super() is used to call the parent class constructor with appropriate arguments.\n",
    "\n",
    "Cooperative multiple inheritance: When dealing with multiple inheritance, super() helps in resolving method calls in a consistent and predictable manner by following the method resolution order (MRO) defined by the C3 linearization algorithm."
   ]
  },
  {
   "cell_type": "code",
   "execution_count": 50,
   "id": "16aca678-1211-4f07-b67e-1a32d5a0e716",
   "metadata": {},
   "outputs": [
    {
     "name": "stdout",
     "output_type": "stream",
     "text": [
      "Species: Canine\n",
      "Breed: Labrador\n",
      "Generic animal sound\n",
      "Woof!\n"
     ]
    }
   ],
   "source": [
    "class Animal:\n",
    "    def __init__(self, species):\n",
    "        self.species = species\n",
    "\n",
    "    def sound(self):\n",
    "        print(\"Generic animal sound\")\n",
    "\n",
    "class Dog(Animal):\n",
    "    def __init__(self, species, breed):\n",
    "        super().__init__(species)\n",
    "        self.breed = breed\n",
    "\n",
    "    def sound(self):\n",
    "        super().sound()\n",
    "        print(\"Woof!\")\n",
    "\n",
    "dog = Dog(\"Canine\", \"Labrador\")\n",
    "\n",
    "print(\"Species:\", dog.species)\n",
    "print(\"Breed:\", dog.breed)   \n",
    "dog.sound()     "
   ]
  },
  {
   "cell_type": "markdown",
   "id": "14655223-b846-4bcb-97c8-dd89069b6dd6",
   "metadata": {},
   "source": [
    "7. Create a Python class called `Animal` with a method `speak()`. Then, create child classes `Dog` and `Cat` that inherit from `Animal` and override the `speak()` method. provide an example using these classes.\n"
   ]
  },
  {
   "cell_type": "code",
   "execution_count": 51,
   "id": "f4cd491c-1d10-4cb1-826a-c590fecdbb2b",
   "metadata": {},
   "outputs": [
    {
     "name": "stdout",
     "output_type": "stream",
     "text": [
      "Dog barks\n",
      "Cat meows\n"
     ]
    }
   ],
   "source": [
    "class Animal:\n",
    "    def speak(self):\n",
    "        print(\"Animal speaks\")\n",
    "\n",
    "class Dog(Animal):\n",
    "    def speak(self):\n",
    "        print(\"Dog barks\")\n",
    "\n",
    "class Cat(Animal):\n",
    "    def speak(self):\n",
    "        print(\"Cat meows\")\n",
    "\n",
    "dog = Dog()\n",
    "cat = Cat()\n",
    "\n",
    "dog.speak()\n",
    "cat.speak()"
   ]
  },
  {
   "cell_type": "markdown",
   "id": "974df4a7-5b32-4733-858a-7afe04b3ef84",
   "metadata": {},
   "source": [
    "8. Explain the role of the isinstance() function in Python and how it relates to inheritance."
   ]
  },
  {
   "cell_type": "markdown",
   "id": "c7aa7448-64eb-471d-af99-4b2c8a6baf1c",
   "metadata": {},
   "source": [
    "The isinstance() function in Python is used to determine whether an object is an instance of a particular class or any of its subclasses. It takes two arguments: the object to be checked and the class (or a tuple of classes) to check against.\n",
    "\n",
    "The isinstance() function is often used in scenarios where you need to perform different actions based on the type of an object. It allows you to handle objects polymorphically, treating objects of different classes in a uniform manner based on their shared inheritance hierarchy."
   ]
  },
  {
   "cell_type": "markdown",
   "id": "a789e890-147f-41ae-b15c-ea5a5abac259",
   "metadata": {},
   "source": [
    "Checking inheritance relationships: You can use isinstance() to check whether an object is an instance of a specific class or any of its subclasses. This is useful when you want to handle objects of different classes uniformly based on their shared superclass.\n",
    "Polymorphism: isinstance() facilitates polymorphism by allowing you to write code that behaves differently based on the type of the object, regardless of its specific subclass. This promotes flexibility and extensibility in object-oriented design."
   ]
  },
  {
   "cell_type": "code",
   "execution_count": 53,
   "id": "5671fe57-da65-4436-a49f-a675f023e0b7",
   "metadata": {},
   "outputs": [
    {
     "name": "stdout",
     "output_type": "stream",
     "text": [
      "True\n",
      "True\n",
      "True\n",
      "True\n",
      "True\n",
      "False\n"
     ]
    }
   ],
   "source": [
    "class Animal:\n",
    "    pass\n",
    "\n",
    "class Dog(Animal):\n",
    "    pass\n",
    "\n",
    "class Cat(Animal):\n",
    "    pass\n",
    "\n",
    "class Bird:\n",
    "    pass\n",
    "\n",
    "dog = Dog()\n",
    "cat = Cat()\n",
    "bird = Bird()\n",
    "\n",
    "print(isinstance(dog, Dog))      \n",
    "print(isinstance(dog, Animal))     \n",
    "print(isinstance(cat, Cat))        \n",
    "print(isinstance(cat, Animal))     \n",
    "print(isinstance(bird, Bird))      \n",
    "print(isinstance(bird, Animal))    "
   ]
  },
  {
   "cell_type": "markdown",
   "id": "3062a5fe-f8db-49d0-b9a6-e6f91776aef3",
   "metadata": {},
   "source": [
    "9. What is the purpose of the `issubclass()` function in Python? Provide an example."
   ]
  },
  {
   "cell_type": "markdown",
   "id": "4437f1d6-29a4-4aea-9fa0-bc44d759c0a8",
   "metadata": {},
   "source": [
    "The issubclass() function is used to check whether a given class is a subclass of another class. It takes two arguments: the class to be checked and the class (or a tuple of classes) to check against.\n",
    "\n",
    "The issubclass() function is useful when you need to verify the inheritance relationship between classes programmatically. It allows you to determine whether one class is derived from another, directly or indirectly."
   ]
  },
  {
   "cell_type": "code",
   "execution_count": 55,
   "id": "b0ec0a2d-c045-4d63-823b-4010fd57cd0f",
   "metadata": {},
   "outputs": [
    {
     "name": "stdout",
     "output_type": "stream",
     "text": [
      "True\n",
      "True\n",
      "False\n",
      "True\n"
     ]
    }
   ],
   "source": [
    "class Animal:\n",
    "    pass\n",
    "\n",
    "class Dog(Animal):\n",
    "    pass\n",
    "\n",
    "class Cat(Animal):\n",
    "    pass\n",
    "\n",
    "class Bird:\n",
    "    pass\n",
    "\n",
    "# Using issubclass() to check inheritance relationships\n",
    "print(issubclass(Dog, Animal))     \n",
    "print(issubclass(Cat, Animal))     \n",
    "print(issubclass(Bird, Animal))    \n",
    "print(issubclass(Animal, object))  "
   ]
  },
  {
   "cell_type": "markdown",
   "id": "55024e14-a6f8-4fa7-adba-d64cd9760b5a",
   "metadata": {},
   "source": [
    "10. Discuss the concept of constructor inheritance in Python. How are constructors inherited in child classes?"
   ]
  },
  {
   "cell_type": "markdown",
   "id": "04d0f6dd-494d-4e78-95aa-247ac68ae0ee",
   "metadata": {},
   "source": [
    "constructors are inherited by child classes just like any other method. When a child class is instantiated, Python looks for an init() method in the child class. If it finds one, it will use that constructor. If not, Python will walk up the inheritance chain and use the constructor of the first parent class it encounters.\n",
    "\n",
    "Constructor inheritance works similarly to method inheritance, but there are a few key points to keep in mind:\n",
    "\n",
    "1. Implicit constructor inheritance: If a child class does not define its own init() method, it automatically inherits the constructor from its parent class.\n",
    "\n",
    "2. Explicit constructor inheritance: If a child class defines its own init() method but wants to also use the constructor of its parent class, it can explicitly call the parent class constructor using super().init().\n",
    "\n",
    "3. Constructor chaining: If a child class explicitly calls the constructor of its parent class using super().init(), it allows for constructor chaining, ensuring that both the parent and child class constructors are executed."
   ]
  },
  {
   "cell_type": "code",
   "execution_count": 56,
   "id": "48e0f644-cfe2-4c44-a844-bd7fd529b275",
   "metadata": {},
   "outputs": [
    {
     "name": "stdout",
     "output_type": "stream",
     "text": [
      "Parent constructor\n",
      "Child constructor\n"
     ]
    }
   ],
   "source": [
    "class Parent:\n",
    "    def __init__(self):\n",
    "        print(\"Parent constructor\")\n",
    "\n",
    "class Child(Parent):\n",
    "    def __init__(self):\n",
    "        super().__init__() \n",
    "        print(\"Child constructor\")\n",
    "\n",
    "child = Child()\n"
   ]
  },
  {
   "cell_type": "markdown",
   "id": "328ba236-b8a9-4238-bac2-8a1af9027b9e",
   "metadata": {},
   "source": [
    "11. Create a Python class called `Shape` with a method `area()` that calculates the area of a shape. Then, create child classes `Circle` and `Rectangle` that inherit from `Shape` and implement the `area()` method\n",
    "accordingly. Provide an example."
   ]
  },
  {
   "cell_type": "code",
   "execution_count": 58,
   "id": "825ec788-de4a-4255-ae61-2e6f027bfa0c",
   "metadata": {},
   "outputs": [
    {
     "name": "stdout",
     "output_type": "stream",
     "text": [
      "Area of the circle: 78.53981633974483\n",
      "Area of the rectangle: 24\n"
     ]
    }
   ],
   "source": [
    "import math\n",
    "\n",
    "class Shape:\n",
    "    def area(self):\n",
    "        pass\n",
    "    \n",
    "class Circle(Shape):\n",
    "    def __init__(self, radius):\n",
    "        self.radius = radius\n",
    "\n",
    "    def area(self):\n",
    "        return math.pi * self.radius ** 2\n",
    "\n",
    "class Rectangle(Shape):\n",
    "    def __init__(self, width, height):\n",
    "        self.width = width\n",
    "        self.height = height\n",
    "\n",
    "    def area(self):\n",
    "        return self.width * self.height\n",
    "\n",
    "circle = Circle(5)\n",
    "rectangle = Rectangle(4, 6)\n",
    "\n",
    "print(\"Area of the circle:\", circle.area())        \n",
    "print(\"Area of the rectangle:\", rectangle.area())  "
   ]
  },
  {
   "cell_type": "markdown",
   "id": "2789bd96-35cb-4a05-a40b-5511e7cfa5d8",
   "metadata": {},
   "source": [
    "12. Explain the use of abstract base classes (ABCs) in Python and how they relate to inheritance. Provide an\n",
    "example using the `abc` module."
   ]
  },
  {
   "cell_type": "markdown",
   "id": "c28e8e8b-ec30-434e-b945-3154e98eeada",
   "metadata": {},
   "source": [
    "Abstract Base Classes (ABCs) are classes that are designed to be subclassed but not instantiated directly. They serve as templates or blueprints for other classes, defining a set of methods that must be implemented by subclasses. ABCs enforce a particular interface or behavior for subclasses, ensuring that they provide specific functionality.\n",
    "\n",
    "The abc module in Python provides tools for defining and working with ABCs. The ABC class in the abc module is used as a metaclass for defining abstract base classes. Abstract methods are defined using the @abstractmethod decorator, indicating that they must be implemented by subclasses.\n"
   ]
  },
  {
   "cell_type": "code",
   "execution_count": 59,
   "id": "89e28f04-519b-4862-afcb-3b953cd71fcc",
   "metadata": {},
   "outputs": [
    {
     "name": "stdout",
     "output_type": "stream",
     "text": [
      "Area of the circle: 78.53981633974483\n",
      "Area of the rectangle: 24\n"
     ]
    }
   ],
   "source": [
    "from abc import ABC, abstractmethod\n",
    "\n",
    "class Shape(ABC):\n",
    "    @abstractmethod\n",
    "    def area(self):\n",
    "        pass\n",
    "\n",
    "class Circle(Shape):\n",
    "    def __init__(self, radius):\n",
    "        self.radius = radius\n",
    "\n",
    "    def area(self):\n",
    "        import math\n",
    "        return math.pi * self.radius ** 2\n",
    "\n",
    "class Rectangle(Shape):\n",
    "    def __init__(self, width, height):\n",
    "        self.width = width\n",
    "        self.height = height\n",
    "\n",
    "    def area(self):\n",
    "        return self.width * self.height\n",
    "\n",
    "circle = Circle(5)\n",
    "rectangle = Rectangle(4, 6)\n",
    "\n",
    "# Calculating and printing the area of the shapes\n",
    "print(\"Area of the circle:\", circle.area())       \n",
    "print(\"Area of the rectangle:\", rectangle.area())"
   ]
  },
  {
   "cell_type": "markdown",
   "id": "ea423821-988e-4963-af1e-6f1a7551775f",
   "metadata": {},
   "source": [
    "13. How can you prevent a child class from modifying certain attributes or methods inherited from a parent\n",
    "class in Python?"
   ]
  },
  {
   "cell_type": "markdown",
   "id": "4dfb497b-7ccf-4cfe-ad82-100d2a382828",
   "metadata": {},
   "source": [
    "you can prevent a child class from modifying certain attributes or methods inherited from a parent class by using name mangling or by marking those attributes or methods as private.\n",
    "\n",
    "1. Name mangling: Python uses name mangling to make an attribute or method \"private\" by adding a prefix of double underscores (__) to their names. This makes it harder for child classes to accidentally override or modify these attributes or methods. However, it does not completely prevent modification.\n",
    "\n",
    "2. Private attributes/methods: By convention, attributes or methods prefixed with a single underscore (_) are considered \"protected\" and should not be accessed or modified directly by child classes. While not enforced by the language, it serves as a signal to developers that these attributes or methods are intended for internal use and should not be modified by child classes."
   ]
  },
  {
   "cell_type": "code",
   "execution_count": 60,
   "id": "76c2362b-4707-4be9-9d5e-d799c8e72c29",
   "metadata": {},
   "outputs": [
    {
     "name": "stdout",
     "output_type": "stream",
     "text": [
      "Protected method\n"
     ]
    }
   ],
   "source": [
    "class Parent:\n",
    "    def __init__(self):\n",
    "        self.__private_attr = 10\n",
    "        self._protected_attr = 20\n",
    "\n",
    "    def __private_method(self):\n",
    "        print(\"Private method\")\n",
    "\n",
    "    def _protected_method(self):\n",
    "        print(\"Protected method\")\n",
    "\n",
    "class Child(Parent):\n",
    "    def __init__(self):\n",
    "        super().__init__()\n",
    "        self._protected_attr = 200\n",
    "\n",
    "        self._protected_method()\n",
    "\n",
    "child = Child()\n"
   ]
  },
  {
   "cell_type": "markdown",
   "id": "c350f5ac-008e-4362-8227-a3f39c8af102",
   "metadata": {},
   "source": [
    "14. Create a Python class called `Employee` with attributes `name` and `salary`. Then, create a child class\n",
    "`Manager` that inherits from `Employee` and adds an attribute `department`. Provide an example."
   ]
  },
  {
   "cell_type": "code",
   "execution_count": 61,
   "id": "5a2a9b5d-5cc5-442e-89e2-bf2c0ac686b1",
   "metadata": {},
   "outputs": [
    {
     "name": "stdout",
     "output_type": "stream",
     "text": [
      "Name: John Doe\n",
      "Salary: 50000\n",
      "Department: HR\n"
     ]
    }
   ],
   "source": [
    "class Employee:\n",
    "    def __init__(self, name, salary):\n",
    "        self.name = name\n",
    "        self.salary = salary\n",
    "\n",
    "class Manager(Employee):\n",
    "    def __init__(self, name, salary, department):\n",
    "        super().__init__(name, salary)\n",
    "        self.department = department\n",
    "\n",
    "manager = Manager(\"John Doe\", 50000, \"HR\")\n",
    "\n",
    "print(\"Name:\", manager.name)\n",
    "print(\"Salary:\", manager.salary)\n",
    "print(\"Department:\", manager.department) \n"
   ]
  },
  {
   "cell_type": "markdown",
   "id": "452f36ca-78ab-4b39-9742-f1ba637a3ea8",
   "metadata": {},
   "source": [
    "15. Discuss the concept of method overloading in Python inheritance. How does it differ from method\n",
    "overriding?"
   ]
  },
  {
   "cell_type": "markdown",
   "id": "60ad8ebb-7bff-4ba4-b1b1-5e7a85567428",
   "metadata": {},
   "source": [
    "method overloading refers to defining multiple methods with the same name but with different parameters or arguments within the same class. When a method is called, Python determines which version of the method to execute based on the number and types of arguments provided.\n"
   ]
  },
  {
   "cell_type": "markdown",
   "id": "ed7aba3d-a048-482d-8f80-08b8fc08c9cb",
   "metadata": {},
   "source": [
    "1. Method Overloading:\n",
    "   - Involves defining multiple methods with the same name but different parameters within the same class.\n",
    "   - Decision on which method to execute is made at compile time or runtime based on the number and types of arguments provided.\n",
    "   - Supported in Python through dynamic typing and default argument values.\n",
    "\n",
    "2. Method Overriding:\n",
    "   - Involves providing a new implementation for an existing method in a subclass that is already defined in the superclass.\n",
    "   - Decision on which method to execute is made at runtime based on the object's type (polymorphism).\n",
    "   - Supported in Python through inheritance and dynamic dispatch.\n"
   ]
  },
  {
   "cell_type": "code",
   "execution_count": null,
   "id": "7775646d-7488-438e-ba27-79b0f11e0589",
   "metadata": {},
   "outputs": [],
   "source": [
    "class MathOperations:\n",
    "    def add(self, x, y):\n",
    "        return x + y\n",
    "\n",
    "    def add(self, x, y, z):\n",
    "        return x + y + z\n",
    "\n",
    "math_ops = MathOperations()\n",
    "\n",
    "result1 = math_ops.add(2, 3)\n",
    "print(\"Result with two arguments:\", result1)\n",
    "\n",
    "\n",
    "result2 = math_ops.add(2, 3, 4)\n",
    "print(\"Result with three arguments:\", result2)\n"
   ]
  },
  {
   "cell_type": "markdown",
   "id": "c3e8b94d-ba3a-4673-a772-7893c2232914",
   "metadata": {},
   "source": [
    "16. Explain the purpose of the `__init__()` method in Python inheritance and how it is utilized in child classes."
   ]
  },
  {
   "cell_type": "markdown",
   "id": "e7ecf22e-cf5e-4f96-a6af-edac12023cd1",
   "metadata": {},
   "source": [
    "the init() method serves as a constructor for classes. It is called automatically when an object of the class is created. The primary purpose of the init() method is to initialize the object's attributes and perform any setup required for the object to be in a valid state.\n",
    "\n",
    "When a child class inherits from a parent class, it can have its own init() method to initialize its own attributes, as well as any attributes inherited from the parent class. In the child class's init() method, it can optionally call the init() method of the parent class using super().init() to initialize inherited attributes from the parent class.\n",
    "\n",
    "1. Defining attributes: Child classes can define their own attributes in their init() method to represent specific characteristics or properties of the child class.\n",
    "\n",
    "2. Initializing inherited attributes: Child classes can call the init() method of the parent class using super().init() to initialize attributes inherited from the parent class. This ensures that the object is properly initialized with attributes from both the child and parent classes.\n",
    "\n",
    "3. Customization and extension: Child classes can customize the initialization process by providing additional arguments or performing additional setup specific to the child class. They can also extend the behavior of the parent class by adding new attributes or overriding inherited attributes.\n"
   ]
  },
  {
   "cell_type": "code",
   "execution_count": 68,
   "id": "86fee43b-f83e-4dc2-bfb5-6d9f9ff56da7",
   "metadata": {},
   "outputs": [
    {
     "name": "stdout",
     "output_type": "stream",
     "text": [
      "Species: Canine\n",
      "Breed: Labrador\n"
     ]
    }
   ],
   "source": [
    "class Animal:\n",
    "    def __init__(self, species):\n",
    "        self.species = species\n",
    "\n",
    "class Dog(Animal):\n",
    "    def __init__(self, species, breed):\n",
    "        super().__init__(species)\n",
    "        self.breed = breed\n",
    "\n",
    "dog = Dog(\"Canine\", \"Labrador\")\n",
    "\n",
    "print(\"Species:\", dog.species)\n",
    "print(\"Breed:\", dog.breed) "
   ]
  },
  {
   "cell_type": "markdown",
   "id": "f1d996f3-8f2b-48ae-9681-6f192e56dd16",
   "metadata": {},
   "source": [
    "17. Create a Python class called `Bird` with a method `fly()`. Then, create child classes `Eagle` and `Sparrow` that inherit from `Bird` and implement the `fly()` method differently. Provide an example of using these\n",
    "classes."
   ]
  },
  {
   "cell_type": "code",
   "execution_count": 69,
   "id": "ebc13aab-7da0-492a-b242-516b0314d775",
   "metadata": {},
   "outputs": [
    {
     "name": "stdout",
     "output_type": "stream",
     "text": [
      "Eagle is soaring high\n",
      "Sparrow is fluttering around\n"
     ]
    }
   ],
   "source": [
    "class Bird:\n",
    "    def fly(self):\n",
    "        pass\n",
    "class Eagle(Bird):\n",
    "    def fly(self):\n",
    "        return \"Eagle is soaring high\"\n",
    "\n",
    "class Sparrow(Bird):\n",
    "    def fly(self):\n",
    "        return \"Sparrow is fluttering around\"\n",
    "\n",
    "eagle = Eagle()\n",
    "sparrow = Sparrow()\n",
    "\n",
    "print(eagle.fly()) \n",
    "print(sparrow.fly())"
   ]
  },
  {
   "cell_type": "markdown",
   "id": "c48157a8-e435-4e48-884b-aee3b530d75d",
   "metadata": {},
   "source": [
    "18. What is the \"diamond problem\" in multiple inheritance, and how does Python address it?"
   ]
  },
  {
   "cell_type": "markdown",
   "id": "96e18f88-44fa-4690-a335-e55fa811be22",
   "metadata": {},
   "source": [
    "It occurs when a class inherits from two or more classes that have a common ancestor. If the common ancestor class contains methods or attributes that are overridden in the descendant classes, it can lead to ambiguity in method resolution."
   ]
  },
  {
   "cell_type": "markdown",
   "id": "49778733-6e6a-4654-bc08-d1713dab841a",
   "metadata": {},
   "source": [
    "19. Discuss the concept of \"is-a\" and \"has-a\" relationships in inheritance, and provide examples of each."
   ]
  },
  {
   "cell_type": "markdown",
   "id": "66baa8a7-c7d2-45dc-b2c4-c0abfd55df9f",
   "metadata": {},
   "source": [
    "In object-oriented programming, inheritance is used to model relationships between classes, and two common types of relationships are \"is-a\" and \"has-a\".\n",
    "\n",
    "1. \"Is-a\" relationship:\n",
    "   - In an \"is-a\" relationship, a class is considered to be a specialization or subtype of another class. It signifies that an object of the subclass is also an object of the superclass.\n",
    "   - This relationship is typically represented by inheritance, where the subclass inherits from the superclass, inheriting its attributes and methods and possibly adding new ones or overriding existing ones.\n",
    "   \n",
    "2. \"Has-a\" relationship:\n",
    "   - In a \"has-a\" relationship, one class contains an instance of another class as one of its attributes. It signifies that an object of the containing class has or possesses an object of the contained class.\n",
    "   - This relationship is typically represented by composition, where the containing class has a reference to an instance of the contained class as one of its attributes."
   ]
  },
  {
   "cell_type": "code",
   "execution_count": 72,
   "id": "96d6ad8f-3f96-4bc1-9d9d-7080f1e5b9ed",
   "metadata": {},
   "outputs": [],
   "source": [
    "# 'Is- a '\n",
    "\n",
    "class Animal:\n",
    "   def eat(self):\n",
    "        print(\"Animal is eating\")\n",
    "\n",
    "class Dog(Animal):\n",
    "    def bark(self):\n",
    "        print(\"Dog is barking\")\n",
    "\n",
    "\n",
    "\n",
    "# 'Has - a'\n",
    "class Engine:\n",
    "    def start(self):\n",
    "        print(\"Engine started\")\n",
    "\n",
    "class Car:\n",
    "    def __init__(self):\n",
    "        self.engine = Engine()\n",
    "\n",
    "   "
   ]
  },
  {
   "cell_type": "markdown",
   "id": "95f933ed-4e8f-4861-afb8-903eafc3597e",
   "metadata": {},
   "source": [
    "20. Create a Python class hierarchy for a university system. Start with a base class `Person` and create child\n",
    "classes `Student` and `Professor`, each with their own attributes and methods. Provide an example of using\n",
    "these classes in a university context."
   ]
  },
  {
   "cell_type": "code",
   "execution_count": 74,
   "id": "a11bb85f-850b-4397-bab1-c1f030c77e37",
   "metadata": {},
   "outputs": [
    {
     "name": "stdout",
     "output_type": "stream",
     "text": [
      "Mukesh is studying\n",
      "Dr. Raj is teaching\n"
     ]
    }
   ],
   "source": [
    "class Person:\n",
    "    def __init__(self, name, age):\n",
    "        self.name = name\n",
    "        self.age = age\n",
    "\n",
    "class Student(Person):\n",
    "    def __init__(self, name, age, student_id):\n",
    "        super().__init__(name, age)\n",
    "        self.student_id = student_id\n",
    "\n",
    "    def study(self):\n",
    "        print(f\"{self.name} is studying\")\n",
    "\n",
    "class Professor(Person):\n",
    "    def __init__(self, name, age, department):\n",
    "        super().__init__(name, age)\n",
    "        self.department = department\n",
    "\n",
    "    def teach(self):\n",
    "        print(f\"{self.name} is teaching\")\n",
    "\n",
    "# Example usage\n",
    "student1 = Student(\"Mukesh\", 20, \"S12345\")\n",
    "professor1 = Professor(\"Dr. Raj\", 45, \"Computer Science\")\n",
    "\n",
    "student1.study()\n",
    "professor1.teach()"
   ]
  },
  {
   "cell_type": "markdown",
   "id": "b5749e13-1f42-4ee5-9ad7-c631ee24ae5d",
   "metadata": {},
   "source": [
    "# Encapsulation:"
   ]
  },
  {
   "cell_type": "markdown",
   "id": "0398225f-7e4c-4c64-b039-65abbcfaa078",
   "metadata": {},
   "source": [
    "1. Explain the concept of encapsulation in Python. What is its role in object-oriented programming?"
   ]
  },
  {
   "cell_type": "markdown",
   "id": "96dc2fa1-4ab1-4aa5-a140-60681aaf0011",
   "metadata": {},
   "source": [
    "Encapsulation is one of the fundamental concepts in object-oriented programming (OOP) and refers to the bundling of data and methods that operate on that data into a single unit, known as a class. In encapsulation, the internal state of an object is hidden from the outside world, and access to it is restricted to methods defined within the class. Only the methods of the class can directly manipulate the internal state, while external code interacts with the object through a well-defined interface provided by the class.\n",
    "\n",
    "The main purposes and roles of encapsulation in object-oriented programming are:\n",
    "1)Data hiding\n",
    "2)Abstraction\n",
    "3)Modularity\n",
    "4)Security"
   ]
  },
  {
   "cell_type": "markdown",
   "id": "1fc48d2c-f73e-4bf9-a622-ff39cb238bf3",
   "metadata": {},
   "source": [
    "2. Describe the key principles of encapsulation, including access control and data hiding."
   ]
  },
  {
   "cell_type": "markdown",
   "id": "af1225ac-e6ec-413b-81ae-62bbe3097050",
   "metadata": {},
   "source": [
    "Access Control:\n",
    "Access control refers to the ability to restrict the visibility and accessibility of certain attributes and methods of a class from outside code.\n",
    "In encapsulation, access control allows the class to define which parts of its internal state and behavior are accessible to external code and which are hidden and accessible only internally.\n",
    "\n",
    "Data Hiding:\n",
    "Data hiding is the practice of concealing the internal state of an object from external code and allowing access only through controlled interfaces (methods).\n",
    "The main purpose of data hiding is to prevent direct access to the internal state of an object, which helps maintain the integrity and consistency of the data.\n",
    "By hiding the internal representation of an object, encapsulation allows for changes to the internal implementation without affecting the external code that uses the object. This promotes modularity and reduces the risk of unintended side effects.\n",
    "Data hiding is typically achieved by making the internal attributes of a class private or protected, thereby restricting direct access to them from outside code. External code can interact with the object only through public methods, which encapsulate the behavior and provide a controlled interface to access and modify the internal state."
   ]
  },
  {
   "cell_type": "markdown",
   "id": "865ffb71-1b0d-4cc9-a9de-6242f7b41bc0",
   "metadata": {},
   "source": [
    "3. How can you achieve encapsulation in Python classes? Provide an example."
   ]
  },
  {
   "cell_type": "markdown",
   "id": "10d15505-430a-4e56-83a1-5564a2dbeea3",
   "metadata": {},
   "source": [
    "\n",
    "Encapsulation in classes can be achieved by using access modifiers and following best practices to hide the internal state of objects and control access to them."
   ]
  },
  {
   "cell_type": "code",
   "execution_count": 2,
   "id": "49325179-4b0f-432f-9ec4-f6476d76285d",
   "metadata": {},
   "outputs": [
    {
     "name": "stdout",
     "output_type": "stream",
     "text": [
      "Name: Mukesh\n",
      "Updated Age: 25\n"
     ]
    }
   ],
   "source": [
    "class Person:\n",
    "    def __init__(self, name, age):\n",
    "        self._name = name   \n",
    "        self.__age = age   \n",
    "\n",
    "\n",
    "    def get_name(self):\n",
    "        return self._name\n",
    "\n",
    "\n",
    "    def get_age(self):\n",
    "        return self.__age\n",
    "\n",
    "\n",
    "    def set_age(self, age):\n",
    "        if age > 0:\n",
    "            self.__age = age\n",
    "        else:\n",
    "            print(\"Age must be a positive number\")\n",
    "\n",
    "\n",
    "person = Person(\"Mukesh\", 30)\n",
    "\n",
    "\n",
    "print(\"Name:\", person.get_name())\n",
    "\n",
    "person.set_age(25)\n",
    "print(\"Updated Age:\", person.get_age())\n",
    "\n",
    "\n"
   ]
  },
  {
   "cell_type": "markdown",
   "id": "d1fed7d8-5bd8-4773-937f-389c4e04464b",
   "metadata": {},
   "source": [
    "4. Discuss the difference between public, private, and protected access modifiers in Python."
   ]
  },
  {
   "cell_type": "markdown",
   "id": "389fd3bc-b91a-4a5f-a4d8-4a20e1b0a0e5",
   "metadata": {},
   "source": [
    "access modifiers are used to control the visibility and accessibility of attributes and methods within classes. While Python does not have strict access modifiers like some other languages, it follows conventions to indicate the intended level of access to attributes and methods. The common access modifiers in Python are public, private, and protected.\n",
    "\n",
    "Here's a brief overview of each access modifier:\n",
    "\n",
    "Public:\n",
    "Public attributes and methods are accessible from outside the class without any restrictions.\n",
    "In Python, attributes and methods without any access modifier are considered public by default.\n",
    "Public attributes and methods can be accessed and modified from anywhere, both inside and outside the class.\n",
    "\n",
    "\n",
    "Private:\n",
    "Private attributes and methods are accessible only within the class itself and not from outside.\n",
    "attributes and methods prefixed with double underscores (__) are considered private.\n",
    "Private attributes and methods are hidden from outside code to prevent accidental or unauthorized access and modification.\n",
    "Although Python does not enforce true encapsulation, it uses name mangling to make private attributes and methods less accessible from outside the class.\n",
    "\n",
    "\n",
    "Protected:\n",
    "Protected attributes and methods are intended for internal use within the class and its subclasses.\n",
    "attributes and methods prefixed with a single underscore (_) are considered protected.\n",
    "Protected attributes and methods are not truly protected from access outside the class, but the single underscore convention serves as a signal to developers that they are intended for internal use.\n",
    "By convention, protected attributes and methods should not be accessed or modified directly from outside the class, but they can still be accessed if needed."
   ]
  },
  {
   "cell_type": "markdown",
   "id": "e669d860-59c2-4adc-99ef-2d0fd3244d1b",
   "metadata": {},
   "source": [
    "5. Create a Python class called `Person` with a private attribute `__name`. Provide methods to get and set the\n",
    "name attribute."
   ]
  },
  {
   "cell_type": "code",
   "execution_count": 5,
   "id": "794a20a4-d0f7-4b5c-8200-8f6c8ab90fbf",
   "metadata": {},
   "outputs": [
    {
     "name": "stdout",
     "output_type": "stream",
     "text": [
      "Name: Jay\n",
      "Updated Name: Rohit\n"
     ]
    }
   ],
   "source": [
    "class Person:\n",
    "    def __init__(self, name):\n",
    "        self.__name = name\n",
    "\n",
    "    def get_name(self):\n",
    "        return self.__name\n",
    "\n",
    "    def set_name(self, name):\n",
    "        self.__name = name\n",
    "\n",
    "person = Person(\"Jay\")\n",
    "\n",
    "print(\"Name:\", person.get_name())\n",
    "person.set_name(\"Rohit\")\n",
    "\n",
    "print(\"Updated Name:\", person.get_name()) \n"
   ]
  },
  {
   "cell_type": "markdown",
   "id": "9cf66bbf-2e45-4073-9421-7c959814f50c",
   "metadata": {},
   "source": [
    "6. Explain the purpose of getter and setter methods in encapsulation. Provide examples."
   ]
  },
  {
   "cell_type": "markdown",
   "id": "a34b62e5-70e4-4123-98b3-5514cd1e940b",
   "metadata": {},
   "source": [
    "Getter and setter methods are used in encapsulation to provide controlled access to the attributes of a class. They allow external code to retrieve the values of attributes (getter methods) and modify the values of attributes (setter methods) using well-defined interfaces, rather than directly accessing or modifying the attributes."
   ]
  },
  {
   "cell_type": "code",
   "execution_count": 7,
   "id": "9924b2a9-8c27-47f1-be8c-4591a57701fd",
   "metadata": {},
   "outputs": [
    {
     "name": "stdout",
     "output_type": "stream",
     "text": [
      "Name: diya\n",
      "Updated Name: sakshi\n"
     ]
    }
   ],
   "source": [
    "class Person:\n",
    "    def __init__(self, name):\n",
    "        self._name = name\n",
    "\n",
    "    def get_name(self):\n",
    "        return self._name\n",
    "\n",
    "    def set_name(self, name):\n",
    "        self._name = name\n",
    "\n",
    "person = Person(\"diya\")\n",
    "print(\"Name:\", person.get_name())\n",
    "\n",
    "person.set_name(\"sakshi\")\n",
    "print(\"Updated Name:\", person.get_name())"
   ]
  },
  {
   "cell_type": "markdown",
   "id": "cb578561-152d-4ec4-8816-0156f94425de",
   "metadata": {},
   "source": [
    "7. What is name mangling in Python, and how does it affect encapsulation?"
   ]
  },
  {
   "cell_type": "markdown",
   "id": "111bf34f-0645-4723-8bee-d861fb7d3b4e",
   "metadata": {},
   "source": [
    "Name mangling is a mechanism used to make attributes and methods with double underscores (__) in their names more \"private\" by adding the class name as a prefix to their names. This is done to prevent name clashes in subclasses that might inadvertently override attributes or methods in the superclass."
   ]
  },
  {
   "cell_type": "code",
   "execution_count": 9,
   "id": "2966e5bd-d008-4955-a2e7-35d984d4d281",
   "metadata": {},
   "outputs": [
    {
     "name": "stdout",
     "output_type": "stream",
     "text": [
      "Raj\n"
     ]
    }
   ],
   "source": [
    "class MyClass:\n",
    "    def __init__(self):\n",
    "        self.__name = \"Raj\"\n",
    "\n",
    "    def get_name(self):\n",
    "        return self.__name\n",
    "\n",
    "obj = MyClass()\n",
    "\n",
    "print(obj._MyClass__name)"
   ]
  },
  {
   "cell_type": "markdown",
   "id": "8334038d-ba99-4f4e-83d6-7daa509ae86f",
   "metadata": {},
   "source": [
    "8. Create a Python class called `BankAccount` with private attributes for the account balance (`__balance`) and account number (`__account_number`). Provide method for depositing and withdrawing money."
   ]
  },
  {
   "cell_type": "code",
   "execution_count": 10,
   "id": "961705bf-a94d-4c15-a85d-13fe9256124f",
   "metadata": {},
   "outputs": [
    {
     "name": "stdout",
     "output_type": "stream",
     "text": [
      "Deposited $500. New balance: $1500\n",
      "Withdrew $200. New balance: $1300\n",
      "Account Balance: 1300\n",
      "Account Number: 123456789\n"
     ]
    }
   ],
   "source": [
    "class BankAccount:\n",
    "    def __init__(self, account_number, initial_balance=0):\n",
    "        self.__account_number = account_number\n",
    "        self.__balance = initial_balance\n",
    "\n",
    "    def deposit(self, amount):\n",
    "        if amount > 0:\n",
    "            self.__balance += amount\n",
    "            print(f\"Deposited ${amount}. New balance: ${self.__balance}\")\n",
    "        else:\n",
    "            print(\"Invalid deposit amount. Please enter a positive value.\")\n",
    "\n",
    "    def withdraw(self, amount):\n",
    "        if 0 < amount <= self.__balance:\n",
    "            self.__balance -= amount\n",
    "            print(f\"Withdrew ${amount}. New balance: ${self.__balance}\")\n",
    "        else:\n",
    "            print(\"Insufficient funds or invalid withdrawal amount.\")\n",
    "\n",
    "    def get_balance(self):\n",
    "        return self.__balance\n",
    "\n",
    "    def get_account_number(self):\n",
    "        return self.__account_number\n",
    "\n",
    "# Creating a BankAccount object\n",
    "account = BankAccount(\"123456789\", 1000)\n",
    "\n",
    "# Depositing money\n",
    "account.deposit(500)  \n",
    "\n",
    "# Withdrawing money\n",
    "account.withdraw(200)  \n",
    "\n",
    "\n",
    "print(\"Account Balance:\", account.get_balance()) \n",
    "print(\"Account Number:\", account.get_account_number())"
   ]
  },
  {
   "cell_type": "markdown",
   "id": "8f65c1ae-c511-486e-92c0-d7a8d00c7b90",
   "metadata": {},
   "source": [
    "9. Discuss the advantages of encapsulation in terms of code maintainability and security."
   ]
  },
  {
   "cell_type": "markdown",
   "id": "1a7e5a06-a717-47f7-904e-335c017223fd",
   "metadata": {},
   "source": [
    "private attributes are intended to be accessed and modified only within the class where they are defined. However, it is still possible to access private attributes from outside the class using name mangling. Name mangling is a mechanism that Python uses to make attributes and methods with double underscores (__) in their names more \"private\" by adding the class name as a prefix to their names."
   ]
  },
  {
   "cell_type": "code",
   "execution_count": 11,
   "id": "4e468e3e-2ce2-402a-9179-92a45364b51b",
   "metadata": {},
   "outputs": [
    {
     "name": "stdout",
     "output_type": "stream",
     "text": [
      "42\n"
     ]
    }
   ],
   "source": [
    "class MyClass:\n",
    "    def __init__(self):\n",
    "        self.__private_attribute = 42\n",
    "\n",
    "obj = MyClass()\n",
    "\n",
    "print(obj._MyClass__private_attribute)  \n"
   ]
  },
  {
   "cell_type": "markdown",
   "id": "4f072aeb-34e5-42b2-abc1-d9324f6b3f99",
   "metadata": {},
   "source": [
    "11. Create a Python class hierarchy for a school system, including classes for students, teachers, and courses,\n",
    "and implement encapsulation principles to protect sensitive information."
   ]
  },
  {
   "cell_type": "code",
   "execution_count": 13,
   "id": "d76dc49b-6fe2-4893-a568-4acc90fda527",
   "metadata": {},
   "outputs": [
    {
     "name": "stdout",
     "output_type": "stream",
     "text": [
      "Student: Rakesh Grade: 10th\n",
      "Teacher: Mr. Roy Subject: Math\n",
      "Course: Mathematics Teacher: Mr. Roy\n"
     ]
    }
   ],
   "source": [
    "class Student:\n",
    "    def __init__(self, student_id, name, age, grade):\n",
    "        self.__student_id = student_id  # Private attribute\n",
    "        self.__name = name              # Private attribute\n",
    "        self.__age = age                # Private attribute\n",
    "        self.__grade = grade            # Private attribute\n",
    "\n",
    "    def get_student_id(self):\n",
    "        return self.__student_id\n",
    "\n",
    "    def get_name(self):\n",
    "        return self.__name\n",
    "\n",
    "    def get_age(self):\n",
    "        return self.__age\n",
    "\n",
    "    def get_grade(self):\n",
    "        return self.__grade\n",
    "\n",
    "class Teacher:\n",
    "    def __init__(self, teacher_id, name, age, subject):\n",
    "        self.__teacher_id = teacher_id  # Private attribute\n",
    "        self.__name = name              # Private attribute\n",
    "        self.__age = age                # Private attribute\n",
    "        self.__subject = subject        # Private attribute\n",
    "\n",
    "    def get_teacher_id(self):\n",
    "        return self.__teacher_id\n",
    "\n",
    "    def get_name(self):\n",
    "        return self.__name\n",
    "\n",
    "    def get_age(self):\n",
    "        return self.__age\n",
    "\n",
    "    def get_subject(self):\n",
    "        return self.__subject\n",
    "\n",
    "class Course:\n",
    "    def __init__(self, course_id, name, teacher):\n",
    "        self.__course_id = course_id    # Private attribute\n",
    "        self.__name = name              # Private attribute\n",
    "        self.__teacher = teacher        # Private attribute\n",
    "\n",
    "    def get_course_id(self):\n",
    "        return self.__course_id\n",
    "\n",
    "    def get_name(self):\n",
    "        return self.__name\n",
    "\n",
    "    def get_teacher(self):\n",
    "        return self.__teacher\n",
    "\n",
    "# Creating objects for the school system\n",
    "student1 = Student(\"S123\", \"Rakesh\", 15, \"10th\")\n",
    "teacher1 = Teacher(\"T456\", \"Mr. Roy\", 35, \"Math\")\n",
    "course1 = Course(\"C001\", \"Mathematics\", teacher1)\n",
    "\n",
    "# Accessing information using getter methods\n",
    "print(\"Student:\", student1.get_name(), \"Grade:\", student1.get_grade())  \n",
    "print(\"Teacher:\", teacher1.get_name(), \"Subject:\", teacher1.get_subject())\n",
    "print(\"Course:\", course1.get_name(), \"Teacher:\", course1.get_teacher().get_name())\n"
   ]
  },
  {
   "cell_type": "markdown",
   "id": "6ea9d543-91f5-4fe3-92bd-f5c0c9bbd420",
   "metadata": {},
   "source": [
    "12. Explain the concept of property decorators in Python and how they relate to encapsulation."
   ]
  },
  {
   "cell_type": "markdown",
   "id": "997a1077-1475-4959-b67e-1569255cab8c",
   "metadata": {},
   "source": [
    "property decorators are a built-in feature that allows developers to define properties on classes. Properties are special attributes that are accessed and modified using getter, setter, and deleter methods, providing a way to encapsulate the access to attributes and add custom behavior when getting, setting, or deleting values.\n",
    "\n",
    "Getter Method: Retrieves the value of the property.\n",
    "\n",
    "Setter Method: Sets the value of the property.\n",
    "\n",
    "Deleter Method: Deletes the property."
   ]
  },
  {
   "cell_type": "code",
   "execution_count": 15,
   "id": "56eaf4b4-1589-46cd-9d03-39eff0fdd0be",
   "metadata": {},
   "outputs": [
    {
     "name": "stdout",
     "output_type": "stream",
     "text": [
      "None\n",
      "50\n"
     ]
    }
   ],
   "source": [
    "class MyClass:\n",
    "    def __init__(self):\n",
    "        self._value = None\n",
    "\n",
    "    @property\n",
    "    def value(self):\n",
    "        return self._value\n",
    "\n",
    "    @value.setter\n",
    "    def value(self, new_value):\n",
    "        self._value = new_value\n",
    "\n",
    "    @value.deleter\n",
    "    def value(self):\n",
    "        del self._value\n",
    "\n",
    "obj = MyClass()\n",
    "\n",
    "print(obj.value) \n",
    "\n",
    "obj.value = 50\n",
    "print(obj.value) \n",
    "\n",
    "del obj.value"
   ]
  },
  {
   "cell_type": "markdown",
   "id": "bd93feba-3fef-4ec1-b33b-ba39cc6c58af",
   "metadata": {},
   "source": [
    "13. What is data hiding, and why is it important in encapsulation? Provide examples."
   ]
  },
  {
   "cell_type": "markdown",
   "id": "1527ad46-0a71-4636-a6c9-a848258d20d3",
   "metadata": {},
   "source": [
    "\n",
    "Data hiding, also known as information hiding, is the practice of concealing the internal state of objects from outside code and allowing access only through controlled interfaces (methods). It is an important aspect of encapsulation in object-oriented programming because it helps maintain the integrity and security of the data by preventing direct access and manipulation from external code."
   ]
  },
  {
   "cell_type": "code",
   "execution_count": 20,
   "id": "ac2b8656-0a07-48c3-92db-c64b31d6587b",
   "metadata": {},
   "outputs": [],
   "source": [
    "class BankAccount:\n",
    "    def __init__(self):\n",
    "        self.__balance = 0  # Private attribute\n",
    "\n",
    "    def deposit(self, amount):\n",
    "        if amount > 0:\n",
    "            self.__balance += amount\n",
    "            print(f\"Deposited ${amount}. New balance: ${self.__balance}\")\n",
    "        else:\n",
    "            print(\"Invalid deposit amount. Please enter a positive value.\")\n",
    "\n",
    "    def withdraw(self, amount):\n",
    "        if 0 < amount <= self.__balance:\n",
    "            self.__balance -= amount\n",
    "            print(f\"Withdrew ${amount}. New balance: ${self.__balance}\")\n",
    "        else:\n",
    "            print(\"Insufficient funds or invalid withdrawal amount.\")\n",
    "\n",
    "    def get_balance(self):\n",
    "        return self.__balance\n",
    "\n",
    "# Creating a BankAccount object\n",
    "account = BankAccount()"
   ]
  },
  {
   "cell_type": "markdown",
   "id": "27e6d11a-b5c6-4c71-8f60-ffabce511395",
   "metadata": {},
   "source": [
    "14. Create a Python class called `Employee` with private attributes for salary (`__salary`) and employee ID (`__employee_id`). Provide a method to calculate yearly bonus."
   ]
  },
  {
   "cell_type": "code",
   "execution_count": 21,
   "id": "c919090a-d2d5-48ec-a1cc-c1238d4bf9aa",
   "metadata": {},
   "outputs": [
    {
     "name": "stdout",
     "output_type": "stream",
     "text": [
      "Employee ID: E123\n",
      "Salary: 50000\n",
      "Yearly Bonus: 5000.0\n"
     ]
    }
   ],
   "source": [
    "class Employee:\n",
    "    def __init__(self, employee_id, salary):\n",
    "        self.__employee_id = employee_id  # Private attribute\n",
    "        self.__salary = salary            # Private attribute\n",
    "\n",
    "    def calculate_yearly_bonus(self):\n",
    "        # Assume the bonus is 10% of the annual salary\n",
    "        bonus = 0.1 * self.__salary\n",
    "        return bonus\n",
    "\n",
    "    def get_employee_id(self):\n",
    "        return self.__employee_id\n",
    "\n",
    "    def get_salary(self):\n",
    "        return self.__salary\n",
    "\n",
    "employee = Employee(\"E123\", 50000)\n",
    "\n",
    "print(\"Employee ID:\", employee.get_employee_id())  \n",
    "print(\"Salary:\", employee.get_salary())            \n",
    "\n",
    "print(\"Yearly Bonus:\", employee.calculate_yearly_bonus()) "
   ]
  },
  {
   "cell_type": "markdown",
   "id": "4a0f7300-1189-400d-84c2-bca2c0467bbc",
   "metadata": {},
   "source": [
    "15. Discuss the use of accessors and mutators in encapsulation. How do they help maintain control over\n",
    "attribute access?"
   ]
  },
  {
   "cell_type": "markdown",
   "id": "1e31d3dc-0783-44a0-b596-e05712b589ff",
   "metadata": {},
   "source": [
    "Accessors and mutators are methods used in encapsulation to control access to attributes of a class. They help maintain control over attribute access by providing controlled interfaces for retrieving (accessors) and modifying (mutators) attribute values. These methods encapsulate the internal state of objects and enforce validation checks and constraints, promoting data integrity and security."
   ]
  },
  {
   "cell_type": "code",
   "execution_count": 22,
   "id": "1af8e6c5-08fc-44b4-af23-4f82627e5c68",
   "metadata": {},
   "outputs": [
    {
     "name": "stdout",
     "output_type": "stream",
     "text": [
      "Current balance: 0\n",
      "Deposited $1000. New balance: $1000\n",
      "Withdrew $500. New balance: $500\n"
     ]
    }
   ],
   "source": [
    "class BankAccount:\n",
    "    def __init__(self):\n",
    "        self.__balance = 0  # Private attribute\n",
    "\n",
    "    def get_balance(self):  # Accessor (getter method)\n",
    "        return self.__balance\n",
    "\n",
    "    def deposit(self, amount):  # Mutator (setter method)\n",
    "        if amount > 0:\n",
    "            self.__balance += amount\n",
    "            print(f\"Deposited ${amount}. New balance: ${self.__balance}\")\n",
    "        else:\n",
    "            print(\"Invalid deposit amount. Please enter a positive value.\")\n",
    "\n",
    "    def withdraw(self, amount):  # Mutator (setter method)\n",
    "        if 0 < amount <= self.__balance:\n",
    "            self.__balance -= amount\n",
    "            print(f\"Withdrew ${amount}. New balance: ${self.__balance}\")\n",
    "        else:\n",
    "            print(\"Insufficient funds or invalid withdrawal amount.\")\n",
    "\n",
    "account = BankAccount()\n",
    "\n",
    "print(\"Current balance:\", account.get_balance()) \n",
    "\n",
    "account.deposit(1000)  \n",
    "\n",
    "account.withdraw(500) "
   ]
  },
  {
   "cell_type": "markdown",
   "id": "eba864f0-70f5-415c-af81-1eb5a16d65d1",
   "metadata": {},
   "source": [
    "16. What are the potential drawbacks or disadvantages of using encapsulation in Python?"
   ]
  },
  {
   "cell_type": "markdown",
   "id": "d8cbffe9-3510-4323-adb0-86784ffe08c9",
   "metadata": {},
   "source": [
    "1.Overhead\n",
    "\n",
    "2.Performance Impact\n",
    "\n",
    "3.Complexity\n",
    "\n",
    "4.Verbose Syntax\n",
    "\n",
    "5.Limited Enforcement\n",
    "\n",
    "6.Potential for Misuse\n",
    "\n",
    "7.Testing Complexity\n"
   ]
  },
  {
   "cell_type": "markdown",
   "id": "16062634-b38d-49ed-bf1e-4ddebae48529",
   "metadata": {},
   "source": [
    "17. Create a Python class for a library system that encapsulates book information, including titles, authors,\n",
    "and availability status."
   ]
  },
  {
   "cell_type": "code",
   "execution_count": 23,
   "id": "d4d93c4e-ef0f-43db-8463-bd9886d89ea5",
   "metadata": {},
   "outputs": [
    {
     "name": "stdout",
     "output_type": "stream",
     "text": [
      "Book 'Harry Potter and the Philosopher's Stone' by J.K. Rowling has been borrowed.\n",
      "Book 'Harry Potter and the Philosopher's Stone' by J.K. Rowling is currently not available.\n",
      "Book 'Harry Potter and the Philosopher's Stone' by J.K. Rowling has been returned.\n",
      "Book 'Harry Potter and the Philosopher's Stone' by J.K. Rowling is already available.\n"
     ]
    }
   ],
   "source": [
    "class Book:\n",
    "    def __init__(self, title, author):\n",
    "        self.__title = title        # Private attribute for book title\n",
    "        self.__author = author      # Private attribute for author\n",
    "        self.__available = True     # Private attribute for availability status\n",
    "\n",
    "    def get_title(self):\n",
    "        return self.__title\n",
    "\n",
    "    def get_author(self):\n",
    "        return self.__author\n",
    "\n",
    "    def is_available(self):\n",
    "        return self.__available\n",
    "\n",
    "    def borrow_book(self):\n",
    "        if self.__available:\n",
    "            self.__available = False\n",
    "            print(f\"Book '{self.__title}' by {self.__author} has been borrowed.\")\n",
    "        else:\n",
    "            print(f\"Book '{self.__title}' by {self.__author} is currently not available.\")\n",
    "\n",
    "    def return_book(self):\n",
    "        if not self.__available:\n",
    "            self.__available = True\n",
    "            print(f\"Book '{self.__title}' by {self.__author} has been returned.\")\n",
    "        else:\n",
    "            print(f\"Book '{self.__title}' by {self.__author} is already available.\")\n",
    "\n",
    "# Example usage:\n",
    "book1 = Book(\"Harry Potter and the Philosopher's Stone\", \"J.K. Rowling\")\n",
    "book2 = Book(\"To Kill a Mockingbird\", \"Harper Lee\")\n",
    "\n",
    "book1.borrow_book()\n",
    "\n",
    "book1.borrow_book()\n",
    "\n",
    "book1.return_book()\n",
    "\n",
    "book1.return_book()\n"
   ]
  },
  {
   "cell_type": "markdown",
   "id": "7207c970-49c8-4b58-a245-cfd1095696a4",
   "metadata": {},
   "source": [
    "20. Create a Python class called `Customer` with private attributes for customer details like name, address,\n",
    "and contact information. Implement encapsulation to ensure data integrity and security."
   ]
  },
  {
   "cell_type": "code",
   "execution_count": 25,
   "id": "44123d8c-5045-4bbb-a0b9-8ce6d7513852",
   "metadata": {},
   "outputs": [
    {
     "name": "stdout",
     "output_type": "stream",
     "text": [
      "Customer Name: John Doe\n",
      "Customer Address: 123 Main St\n",
      "Customer Contact Info: john.doe@example.com\n",
      "Updated Customer Address: 456 Elm St\n",
      "Updated Customer Contact Info: john.doe@gmail.com\n"
     ]
    }
   ],
   "source": [
    "class Customer:\n",
    "    def __init__(self, name, address, contact_info):\n",
    "        self.__name = name                      # Private attribute for customer name\n",
    "        self.__address = address                # Private attribute for customer address\n",
    "        self.__contact_info = contact_info      # Private attribute for customer contact information\n",
    "\n",
    "    def get_name(self):\n",
    "        return self.__name\n",
    "\n",
    "    def get_address(self):\n",
    "        return self.__address\n",
    "\n",
    "    def get_contact_info(self):\n",
    "        return self.__contact_info\n",
    "\n",
    "    def update_address(self, new_address):\n",
    "        self.__address = new_address\n",
    "\n",
    "    def update_contact_info(self, new_contact_info):\n",
    "        self.__contact_info = new_contact_info\n",
    "\n",
    "customer = Customer(\"John Doe\", \"123 Main St\", \"john.doe@example.com\")\n",
    "\n",
    "print(\"Customer Name:\", customer.get_name())            \n",
    "print(\"Customer Address:\", customer.get_address())      \n",
    "print(\"Customer Contact Info:\", customer.get_contact_info())  \n",
    "\n",
    "customer.update_address(\"456 Elm St\")\n",
    "customer.update_contact_info(\"john.doe@gmail.com\")\n",
    "\n",
    "print(\"Updated Customer Address:\", customer.get_address())      \n",
    "print(\"Updated Customer Contact Info:\", customer.get_contact_info()) \n"
   ]
  },
  {
   "cell_type": "markdown",
   "id": "8172194c-9d09-42be-8d71-a2eb4e1b458b",
   "metadata": {},
   "source": [
    "# Polymorphism:"
   ]
  },
  {
   "cell_type": "markdown",
   "id": "354cb8c2-75d6-4925-a5dd-ba61021adba0",
   "metadata": {},
   "source": [
    "1. What is polymorphism in Python? Explain how it is related to object-oriented programming."
   ]
  },
  {
   "cell_type": "markdown",
   "id": "30600161-d511-4420-84af-2b44bc1883d3",
   "metadata": {},
   "source": [
    "Polymorphism is a fundamental concept in object-oriented programming (OOP) that allows objects of different classes to be treated as objects of a common superclass. It enables code to be written in a way that works with objects of multiple types, providing flexibility and extensibility in the design of software systems.\n",
    "\n",
    "In Python, polymorphism is closely related to inheritance, as it relies on inheritance hierarchies and the ability of subclasses to override methods defined in their superclass. There are two main forms of polymorphism in Python:\n",
    "\n",
    "Method Overriding: Method overriding occurs when a subclass provides a specific implementation of a method that is already defined in its superclass. When an overridden method is called on an object of the subclass, the subclass's implementation is invoked instead of the superclass's implementation. This allows different subclasses to customize the behavior of inherited methods to suit their specific needs.\n",
    "\n",
    "Duck Typing: Duck typing is a form of polymorphism where the suitability of an object for a particular operation is determined by the presence of certain methods or properties, rather than its specific class or inheritance hierarchy. If an object implements the required methods or properties, it can be used in a context that expects objects of a different type. This approach emphasizes the behavior of objects rather than their type, allowing for more flexible and dynamic code."
   ]
  },
  {
   "cell_type": "markdown",
   "id": "58ad7abb-0a5e-4f2c-86be-bb48e540e1d2",
   "metadata": {},
   "source": [
    "2. Describe the difference between compile-time polymorphism and runtime polymorphism in Python."
   ]
  },
  {
   "cell_type": "markdown",
   "id": "5cbc468d-01c6-4301-a11f-2fe5fca189cc",
   "metadata": {},
   "source": [
    "Compile-Time Polymorphism (Static Polymorphism):::\n",
    "\n",
    "Compile-time polymorphism refers to polymorphic behavior that is resolved at compile time.\n",
    "\n",
    "In statically-typed languages like C++ or Java, compile-time polymorphism is typically achieved through method overloading and function templates (C++) or method signatures (Java).\n",
    "\n",
    "Method overloading allows multiple methods with the same name but different parameter lists to coexist within the same class. The appropriate method to be invoked is determined based on the number and types of arguments at compile time.\n",
    "\n",
    "Since Python is dynamically typed and does not have method overloading in the same sense as statically-typed languages, compile-time polymorphism is less relevant in Python. Instead, Python relies more on runtime polymorphism.\n",
    "\n",
    "\n",
    "\n",
    "Runtime Polymorphism (Dynamic Polymorphism):::\n",
    "\n",
    "Runtime polymorphism refers to polymorphic behavior that is resolved at runtime.\n",
    "\n",
    "runtime polymorphism is typically achieved through method overriding, also known as dynamic dispatch.\n",
    "\n",
    "Method overriding allows a subclass to provide a specific implementation of a method that is already defined in its superclass. When a method is invoked on an object, the Python interpreter determines the appropriate implementation of the method based on the actual type of the object at runtime.\n",
    "\n",
    "Since Python is dynamically typed and supports duck typing, the suitability of an object for a particular operation is determined at runtime based on the presence of required methods or properties, rather than its specific class or inheritance hierarchy."
   ]
  },
  {
   "cell_type": "markdown",
   "id": "4fd305b0-efd5-40b8-83cb-e51a88f33dd9",
   "metadata": {},
   "source": [
    "3. Create a Python class hierarchy for shapes (e.g., circle, square, triangle) and demonstrate polymorphism\n",
    "through a common method, such as `calculate_area()`."
   ]
  },
  {
   "cell_type": "code",
   "execution_count": 26,
   "id": "f9ace262-1b21-4495-b452-8301bda03d8a",
   "metadata": {},
   "outputs": [
    {
     "name": "stdout",
     "output_type": "stream",
     "text": [
      "Area of Circle: 78.53981633974483\n",
      "Area of Square: 16\n",
      "Area of Triangle: 9.0\n"
     ]
    }
   ],
   "source": [
    "import math\n",
    "\n",
    "class Shape:\n",
    "    def calculate_area(self):\n",
    "        pass  # Placeholder method to be overridden by subclasses\n",
    "\n",
    "class Circle(Shape):\n",
    "    def __init__(self, radius):\n",
    "        self.radius = radius\n",
    "\n",
    "    def calculate_area(self):\n",
    "        return math.pi * self.radius ** 2\n",
    "\n",
    "class Square(Shape):\n",
    "    def __init__(self, side):\n",
    "        self.side = side\n",
    "\n",
    "    def calculate_area(self):\n",
    "        return self.side ** 2\n",
    "\n",
    "class Triangle(Shape):\n",
    "    def __init__(self, base, height):\n",
    "        self.base = base\n",
    "        self.height = height\n",
    "\n",
    "    def calculate_area(self):\n",
    "        return 0.5 * self.base * self.height\n",
    "\n",
    "# Example usage:\n",
    "shapes = [Circle(5), Square(4), Triangle(3, 6)]\n",
    "\n",
    "for shape in shapes:\n",
    "    print(f\"Area of {shape.__class__.__name__}: {shape.calculate_area()}\")\n"
   ]
  },
  {
   "cell_type": "markdown",
   "id": "94cd7338-fd74-4daf-8b9b-202d1ff5a954",
   "metadata": {},
   "source": [
    "4. Explain the concept of method overriding in polymorphism. Provide an example."
   ]
  },
  {
   "cell_type": "markdown",
   "id": "2a0297d0-a074-41a2-a16d-2f8e5514d549",
   "metadata": {},
   "source": [
    "Method overriding is a concept in object-oriented programming where a subclass provides a specific implementation of a method that is already defined in its superclass. When an overridden method is called on an object of the subclass, the subclass's implementation is invoked instead of the superclass's implementation. This allows different subclasses to customize the behavior of inherited methods to suit their specific needs."
   ]
  },
  {
   "cell_type": "code",
   "execution_count": 27,
   "id": "eb347009-7c7f-429e-90bd-56ef2c9373d4",
   "metadata": {},
   "outputs": [
    {
     "name": "stdout",
     "output_type": "stream",
     "text": [
      "Woof!\n",
      "Meow!\n"
     ]
    }
   ],
   "source": [
    "class Animal:\n",
    "    def make_sound(self):\n",
    "        return \"Generic animal sound\"\n",
    "\n",
    "class Dog(Animal):\n",
    "    def make_sound(self):\n",
    "        return \"Woof!\"\n",
    "\n",
    "class Cat(Animal):\n",
    "    def make_sound(self):\n",
    "        return \"Meow!\"\n",
    "\n",
    "# Example usage:\n",
    "dog = Dog()\n",
    "cat = Cat()\n",
    "\n",
    "print(dog.make_sound())\n",
    "print(cat.make_sound())\n"
   ]
  },
  {
   "cell_type": "markdown",
   "id": "54cd7598-c45b-4be7-83e6-5d01f988d432",
   "metadata": {},
   "source": [
    "6. Create a Python class called `Animal` with a method `speak()`. Then, create child classes like `Dog`, `Cat`, and `Bird`, each with their own `speak()` method. Demonstrate polymorphism by calling the `speak()` method\n",
    "on objects of different subclasses."
   ]
  },
  {
   "cell_type": "code",
   "execution_count": 28,
   "id": "c5fb2994-9445-4fc7-beaf-e8a6735611f2",
   "metadata": {},
   "outputs": [
    {
     "name": "stdout",
     "output_type": "stream",
     "text": [
      "Woof!\n",
      "Meow!\n",
      "Chirp!\n"
     ]
    }
   ],
   "source": [
    "class Animal:\n",
    "    def speak(self):\n",
    "        return \"Generic animal sound\"\n",
    "\n",
    "class Dog(Animal):\n",
    "    def speak(self):\n",
    "        return \"Woof!\"\n",
    "\n",
    "class Cat(Animal):\n",
    "    def speak(self):\n",
    "        return \"Meow!\"\n",
    "\n",
    "class Bird(Animal):\n",
    "    def speak(self):\n",
    "        return \"Chirp!\"\n",
    "\n",
    "# Example usage:\n",
    "def make_animal_speak(animal):\n",
    "    print(animal.speak())\n",
    "\n",
    "dog = Dog()\n",
    "cat = Cat()\n",
    "bird = Bird()\n",
    "\n",
    "make_animal_speak(dog)\n",
    "make_animal_speak(cat) \n",
    "make_animal_speak(bird) \n"
   ]
  },
  {
   "cell_type": "markdown",
   "id": "cad658a7-f417-48b2-8d4a-14db5b6d762a",
   "metadata": {},
   "source": [
    "7. Discuss the use of abstract methods and classes in achieving polymorphism in Python. Provide an example\n",
    "using the `abc` module."
   ]
  },
  {
   "cell_type": "raw",
   "id": "441122b6-4176-4230-b7bf-d2deabb26ae3",
   "metadata": {},
   "source": [
    "Abstract methods and classes play a crucial role in achieving polymorphism in Python by providing a way to define a common interface for subclasses to follow. Abstract methods are methods defined in a base class but not implemented, leaving the implementation to be provided by subclasses. Abstract classes are classes that contain one or more abstract methods and cannot be instantiated directly. Instead, they serve as blueprints for subclasses to implement."
   ]
  },
  {
   "cell_type": "code",
   "execution_count": 30,
   "id": "fd9025b8-97c4-4112-98fb-c58fbbe3fc7b",
   "metadata": {},
   "outputs": [
    {
     "name": "stdout",
     "output_type": "stream",
     "text": [
      "Woof!\n",
      "Meow!\n",
      "Chirp!\n"
     ]
    }
   ],
   "source": [
    "from abc import ABC, abstractmethod\n",
    "\n",
    "class Animal(ABC):\n",
    "    @abstractmethod\n",
    "    def speak(self):\n",
    "        pass\n",
    "\n",
    "class Dog(Animal):\n",
    "    def speak(self):\n",
    "        return \"Woof!\"\n",
    "\n",
    "class Cat(Animal):\n",
    "    def speak(self):\n",
    "        return \"Meow!\"\n",
    "\n",
    "class Bird(Animal):\n",
    "    def speak(self):\n",
    "        return \"Chirp!\"\n",
    "\n",
    "# Example usage:\n",
    "def make_animal_speak(animal):\n",
    "    print(animal.speak())\n",
    "\n",
    "dog = Dog()\n",
    "cat = Cat()\n",
    "bird = Bird()\n",
    "\n",
    "make_animal_speak(dog) \n",
    "make_animal_speak(cat) \n",
    "make_animal_speak(bird)"
   ]
  },
  {
   "cell_type": "markdown",
   "id": "0a3d7561-fc48-42e1-9dd6-665f0ba2a749",
   "metadata": {},
   "source": [
    "8. Create a Python class hierarchy for a vehicle system (e.g., car, bicycle, boat) and implement a polymorphic `start()` method that prints a message specific to each vehicle type."
   ]
  },
  {
   "cell_type": "code",
   "execution_count": 31,
   "id": "ea488c3a-fd20-416f-ba95-9aeef78b428c",
   "metadata": {},
   "outputs": [
    {
     "name": "stdout",
     "output_type": "stream",
     "text": [
      "Car started. Vroom vroom!\n",
      "Bicycle started. Pedal pedal!\n",
      "Boat started. Engine roar!\n"
     ]
    }
   ],
   "source": [
    "class Vehicle:\n",
    "    def start(self):\n",
    "        raise NotImplementedError(\"start() method not implemented in base class Vehicle\")\n",
    "\n",
    "class Car(Vehicle):\n",
    "    def start(self):\n",
    "        return \"Car started. Vroom vroom!\"\n",
    "\n",
    "class Bicycle(Vehicle):\n",
    "    def start(self):\n",
    "        return \"Bicycle started. Pedal pedal!\"\n",
    "\n",
    "class Boat(Vehicle):\n",
    "    def start(self):\n",
    "        return \"Boat started. Engine roar!\"\n",
    "\n",
    "# Example usage:\n",
    "def start_vehicle(vehicle):\n",
    "    print(vehicle.start())\n",
    "\n",
    "car = Car()\n",
    "bicycle = Bicycle()\n",
    "boat = Boat()\n",
    "\n",
    "start_vehicle(car)     \n",
    "start_vehicle(bicycle) \n",
    "start_vehicle(boat)     "
   ]
  },
  {
   "cell_type": "markdown",
   "id": "82cf3de8-7c63-4a90-b783-a1658318a6e0",
   "metadata": {},
   "source": [
    "10. What is the role of the `@abstractmethod` decorator in achieving polymorphism in Python? Provide an\n",
    "example."
   ]
  },
  {
   "cell_type": "markdown",
   "id": "e261788c-0e31-4e07-8103-5a21895b39c3",
   "metadata": {},
   "source": [
    "The @abstractmethod decorator is a crucial tool in achieving polymorphism in Python through the use of abstract methods. It is part of the abc module, which stands for \"Abstract Base Classes,\" and is used to define abstract methods within abstract classes. Abstract methods are methods that are declared in a base class but have no implementation, leaving it up to the subclasses to provide concrete implementations. This allows different subclasses to have their own behavior for the same method, promoting polymorphism."
   ]
  },
  {
   "cell_type": "code",
   "execution_count": 32,
   "id": "1d36e052-a962-4613-9c31-f2b5b8c3ba4e",
   "metadata": {},
   "outputs": [
    {
     "name": "stdout",
     "output_type": "stream",
     "text": [
      "Woof!\n",
      "Meow!\n"
     ]
    }
   ],
   "source": [
    "from abc import ABC, abstractmethod\n",
    "\n",
    "class Animal(ABC):\n",
    "    @abstractmethod\n",
    "    def speak(self):\n",
    "        pass\n",
    "\n",
    "class Dog(Animal):\n",
    "    def speak(self):\n",
    "        return \"Woof!\"\n",
    "\n",
    "class Cat(Animal):\n",
    "    def speak(self):\n",
    "        return \"Meow!\"\n",
    "\n",
    "# Example usage:\n",
    "def make_animal_speak(animal):\n",
    "    print(animal.speak())\n",
    "\n",
    "dog = Dog()\n",
    "cat = Cat()\n",
    "\n",
    "make_animal_speak(dog)  # Output: Woof!\n",
    "make_animal_speak(cat)  # Output: Meow!\n"
   ]
  },
  {
   "cell_type": "markdown",
   "id": "5368e259-6964-4746-974b-c0fe78c256f1",
   "metadata": {
    "tags": []
   },
   "source": [
    "11. Create a Python class called `Shape` with a polymorphic method `area()` that calculates the area of different shapes (e.g., circle, rectangle, triangle)."
   ]
  },
  {
   "cell_type": "code",
   "execution_count": 33,
   "id": "85f81d58-572b-4748-b091-5980beb25168",
   "metadata": {},
   "outputs": [
    {
     "name": "stdout",
     "output_type": "stream",
     "text": [
      "Area of circle: 78.53981633974483\n",
      "Area of rectangle: 24\n",
      "Area of triangle: 12.0\n"
     ]
    }
   ],
   "source": [
    "import math\n",
    "\n",
    "class Shape:\n",
    "    def area(self):\n",
    "        raise NotImplementedError(\"area() method not implemented in base class Shape\")\n",
    "\n",
    "class Circle(Shape):\n",
    "    def __init__(self, radius):\n",
    "        self.radius = radius\n",
    "\n",
    "    def area(self):\n",
    "        return math.pi * self.radius ** 2\n",
    "\n",
    "class Rectangle(Shape):\n",
    "    def __init__(self, width, height):\n",
    "        self.width = width\n",
    "        self.height = height\n",
    "\n",
    "    def area(self):\n",
    "        return self.width * self.height\n",
    "\n",
    "class Triangle(Shape):\n",
    "    def __init__(self, base, height):\n",
    "        self.base = base\n",
    "        self.height = height\n",
    "\n",
    "    def area(self):\n",
    "        return 0.5 * self.base * self.height\n",
    "\n",
    "# Example usage:\n",
    "circle = Circle(5)\n",
    "rectangle = Rectangle(4, 6)\n",
    "triangle = Triangle(3, 8)\n",
    "\n",
    "print(\"Area of circle:\", circle.area())   \n",
    "print(\"Area of rectangle:\", rectangle.area()) \n",
    "print(\"Area of triangle:\", triangle.area())  \n"
   ]
  },
  {
   "cell_type": "markdown",
   "id": "c1ad241a-f77c-4afe-b670-e65ffc811676",
   "metadata": {},
   "source": [
    "12. Discuss the benefits of polymorphism in terms of code reusability and flexibility in Python programs."
   ]
  },
  {
   "cell_type": "markdown",
   "id": "74f662e6-2538-4d14-94da-2990bae76862",
   "metadata": {},
   "source": [
    "Code Reusability:\n",
    "Polymorphism allows you to write reusable code that can work with objects of multiple types.\n",
    "By defining common interfaces and behaviors in base classes, you can reuse the same code with different subclasses without modification.\n",
    "This promotes modular and maintainable code, as you can encapsulate common functionality in base classes and reuse it across various subclasses.\n",
    "\n",
    "\n",
    "Flexibility:\n",
    "Polymorphism enables you to write flexible and adaptable code that can accommodate different types of objects at runtime.\n",
    "You can design your code to interact with objects based on their common interfaces rather than their specific implementations, allowing for greater flexibility and extensibility.\n",
    "This flexibility makes it easier to add new subclasses or modify existing ones without affecting the rest of the codebase, promoting scalability and ease of maintenance.\n",
    "\n",
    "\n",
    "Simplified Code Structure:\n",
    "Polymorphism allows you to write code that focuses on what needs to be done (the \"what\") rather than how it should be done (the \"how\").\n",
    "By abstracting away implementation details in base classes and interfaces, you can write cleaner and more concise code that is easier to understand and maintain.\n",
    "This separation of concerns leads to a more modular and organized code structure, where each class is responsible for its own specific functionality.\n",
    "\n",
    "Support for Dependency Injection:\n",
    "Polymorphism facilitates the use of dependency injection, a design pattern where objects are passed as dependencies rather than created internally.\n",
    "By coding to interfaces rather than concrete implementations, you can inject different objects into your code at runtime, promoting loose coupling and testability.\n",
    "This makes it easier to replace dependencies with mock objects for testing purposes or to swap out implementations with alternative versions without modifying the client code."
   ]
  },
  {
   "cell_type": "markdown",
   "id": "845509b0-edf0-4601-9767-ab37a428b637",
   "metadata": {},
   "source": [
    "13. Explain the use of the `super()` function in Python polymorphism. How does it help call methods of parent\n",
    "classes?"
   ]
  },
  {
   "cell_type": "markdown",
   "id": "f1856167-a41b-414d-a5c0-f224e814eb6a",
   "metadata": {},
   "source": [
    "Here's how the super() function works and how it helps call methods of parent classes in Python polymorphism:\n",
    "\n",
    "Accessing Parent Class Methods:\n",
    "Within a subclass, you can use the super() function to access methods of the superclass.\n",
    "By calling super().method_name(), you invoke the method method_name() defined in the superclass, allowing you to reuse and extend the behavior defined in the parent class.\n",
    "This enables you to implement method overriding while preserving the functionality of the superclass method.\n",
    "\n",
    "Passing Arguments:\n",
    "When calling a method using super(), you don't need to explicitly pass self as the first argument. Python automatically handles this for you.\n",
    "If the method in the parent class requires additional arguments, you can pass them directly to super(), and Python will forward them to the corresponding method in the superclass.\n",
    "\n",
    "Constructor Chaining:\n",
    "In addition to calling methods, super() is often used in constructor chaining to ensure that the constructors of all classes in the inheritance hierarchy are properly initialized.\n",
    "By calling super().__init__() in the constructor of a subclass, you invoke the constructor of the superclass, allowing you to initialize attributes and perform setup tasks defined in the parent class constructor.\n",
    "\n",
    "Support for Multiple Inheritance:\n",
    "When dealing with multiple inheritance, super() ensures that methods and constructors of all parent classes are called in the correct order according to the method resolution order (MRO).\n",
    "It helps avoid issues related to diamond inheritance and ensures that each class in the inheritance hierarchy is properly initialized and its methods are invoked as expected."
   ]
  },
  {
   "cell_type": "code",
   "execution_count": 35,
   "id": "9d18bd7d-1cf6-471e-b0e1-657de2717519",
   "metadata": {},
   "outputs": [
    {
     "name": "stdout",
     "output_type": "stream",
     "text": [
      "Woof! Generic animal sound\n"
     ]
    }
   ],
   "source": [
    "class Animal:\n",
    "    def speak(self):\n",
    "        return \"Generic animal sound\"\n",
    "\n",
    "class Dog(Animal):\n",
    "    def speak(self):\n",
    "        return \"Woof! \" + super().speak()\n",
    "\n",
    "dog = Dog()\n",
    "print(dog.speak()) "
   ]
  },
  {
   "cell_type": "markdown",
   "id": "0479e8ab-c529-4cab-82ae-455bcfdd6b93",
   "metadata": {},
   "source": [
    "14. Create a Python class hierarchy for a banking system with various account types (e.g., savings, checking, credit card) and demonstrate polymorphism by implementing a common `withdraw()` method"
   ]
  },
  {
   "cell_type": "code",
   "execution_count": 36,
   "id": "3e090550-2468-451b-8eff-d9cee1ead23c",
   "metadata": {},
   "outputs": [
    {
     "name": "stdout",
     "output_type": "stream",
     "text": [
      "Withdrawal of 2000 successful. Remaining balance: 3000\n",
      "Additional fee may be charged for excessive withdrawals\n",
      "Withdrawal of 4000 successful. Remaining balance: -1000\n",
      "Withdrawal of 3000 successful. Remaining balance: -1000\n"
     ]
    }
   ],
   "source": [
    "class Account:\n",
    "    def __init__(self, account_number, balance):\n",
    "        self.account_number = account_number\n",
    "        self.balance = balance\n",
    "\n",
    "    def withdraw(self, amount):\n",
    "        if amount <= self.balance:\n",
    "            self.balance -= amount\n",
    "            print(f\"Withdrawal of {amount} successful. Remaining balance: {self.balance}\")\n",
    "        else:\n",
    "            print(\"Insufficient funds\")\n",
    "\n",
    "\n",
    "class SavingsAccount(Account):\n",
    "    def __init__(self, account_number, balance, interest_rate):\n",
    "        super().__init__(account_number, balance)\n",
    "        self.interest_rate = interest_rate\n",
    "\n",
    "    def withdraw(self, amount):\n",
    "        super().withdraw(amount)  # Call withdraw method of parent class\n",
    "        print(\"Additional fee may be charged for excessive withdrawals\")\n",
    "\n",
    "\n",
    "class CheckingAccount(Account):\n",
    "    def __init__(self, account_number, balance, overdraft_limit):\n",
    "        super().__init__(account_number, balance)\n",
    "        self.overdraft_limit = overdraft_limit\n",
    "\n",
    "    def withdraw(self, amount):\n",
    "        if amount <= self.balance + self.overdraft_limit:\n",
    "            self.balance -= amount\n",
    "            print(f\"Withdrawal of {amount} successful. Remaining balance: {self.balance}\")\n",
    "        else:\n",
    "            print(\"Withdrawal exceeds overdraft limit\")\n",
    "\n",
    "\n",
    "class CreditCardAccount(Account):\n",
    "    def __init__(self, account_number, balance, credit_limit):\n",
    "        super().__init__(account_number, balance)\n",
    "        self.credit_limit = credit_limit\n",
    "\n",
    "    def withdraw(self, amount):\n",
    "        if amount <= self.balance + self.credit_limit:\n",
    "            self.balance -= amount\n",
    "            print(f\"Withdrawal of {amount} successful. Remaining balance: {self.balance}\")\n",
    "        else:\n",
    "            print(\"Withdrawal exceeds credit limit\")\n",
    "\n",
    "\n",
    "# Example usage:\n",
    "savings_account = SavingsAccount(\"SAV123\", 5000, 0.05)\n",
    "checking_account = CheckingAccount(\"CHK456\", 3000, 1000)\n",
    "credit_card_account = CreditCardAccount(\"CC789\", 2000, 5000)\n",
    "\n",
    "savings_account.withdraw(2000)     \n",
    "checking_account.withdraw(4000)      \n",
    "credit_card_account.withdraw(3000) "
   ]
  },
  {
   "cell_type": "markdown",
   "id": "189e4666-8b0a-4800-801e-a72e61eef12b",
   "metadata": {},
   "source": [
    "15. Describe the concept of operator overloading in Python and how it relates to polymorphism. Provide\n",
    "examples using operators like `+` and `*`."
   ]
  },
  {
   "cell_type": "markdown",
   "id": "40ac9d85-ac58-4a50-ae45-f8b2ef08bf78",
   "metadata": {},
   "source": [
    "Operator overloading is closely related to polymorphism, as it allows different types of objects to respond to the same operator in a way that is appropriate for the specific object type. This promotes code reuse, flexibility, and readability by enabling operators to exhibit polymorphic behavior, where their behavior depends on the type of operands involved.\n",
    "\n",
    "Here's how operator overloading relates to polymorphism:\n",
    "\n",
    "Unified Interface:\n",
    "Operator overloading allows you to provide a unified interface for objects of different types by defining custom behavior for operators.\n",
    "This enables you to use operators with user-defined objects in a way that makes sense for the specific object type, promoting polymorphic behavior.\n",
    "\n",
    "Dynamic Dispatch:\n",
    "When an operator is applied to objects of different types, Python dynamically dispatches the operation to the appropriate method based on the types of the operands.\n",
    "This dynamic dispatch mechanism allows for polymorphic behavior, where the same operator can exhibit different behavior depending on the types of objects involved.\n",
    "\n",
    "Enhanced Expressiveness:\n",
    "Operator overloading enhances the expressiveness of your code by allowing you to write intuitive and concise expressions using operators with user-defined objects.\n",
    "By defining custom behavior for operators, you can make your code more readable and maintainable, as it reflects the intended semantics of the operations being performed."
   ]
  },
  {
   "cell_type": "code",
   "execution_count": 37,
   "id": "f15c14d5-263a-4666-a900-7c83e6976af5",
   "metadata": {},
   "outputs": [
    {
     "name": "stdout",
     "output_type": "stream",
     "text": [
      "Result of addition: Vector(6, 8)\n",
      "Result of multiplication: Vector(4, 6)\n"
     ]
    }
   ],
   "source": [
    "class Vector:\n",
    "    def __init__(self, x, y):\n",
    "        self.x = x\n",
    "        self.y = y\n",
    "\n",
    "    def __add__(self, other):\n",
    "        return Vector(self.x + other.x, self.y + other.y)\n",
    "\n",
    "    def __mul__(self, scalar):\n",
    "        return Vector(self.x * scalar, self.y * scalar)\n",
    "\n",
    "    def __repr__(self):\n",
    "        return f\"Vector({self.x}, {self.y})\"\n",
    "\n",
    "v1 = Vector(2, 3)\n",
    "v2 = Vector(4, 5)\n",
    "\n",
    "result_addition = v1 + v2\n",
    "print(\"Result of addition:\", result_addition) \n",
    "\n",
    "result_multiplication = v1 * 2\n",
    "print(\"Result of multiplication:\", result_multiplication)\n"
   ]
  },
  {
   "cell_type": "markdown",
   "id": "55a6e5c1-d4e8-4b62-b61b-13c7b89d7875",
   "metadata": {},
   "source": [
    "16. What is dynamic polymorphism, and how is it achieved in Python?"
   ]
  },
  {
   "cell_type": "markdown",
   "id": "4030cf7c-1661-4b0d-aef9-a99ab8052751",
   "metadata": {},
   "source": [
    "\n",
    "Dynamic polymorphism, also known as runtime polymorphism, is a fundamental concept in object-oriented programming where the behavior of a method or function call is determined at runtime based on the type of the object being referenced. This allows different objects to respond to the same message or method call in different ways, depending on their specific implementations.\n",
    "\n",
    "Method Overriding:\n",
    "Method overriding allows a subclass to provide a specific implementation of a method that is already defined in its superclass.\n",
    "When a method is invoked on an object of a subclass, Python first searches for the method in the subclass. If the method is found, Python executes the subclass's implementation. Otherwise, it looks for the method in the superclass.\n",
    "\n",
    "Inheritance:\n",
    "Inheritance is the mechanism by which a subclass inherits properties and behaviors (methods) from its superclass(es).\n",
    "When an object of a subclass is referenced through a reference variable of its superclass type, Python treats the object polymorphically. It invokes the subclass's method if it overrides a method of the superclass, allowing for dynamic polymorphism.\n",
    "\n",
    "Dynamic Dispatch:\n",
    "Python uses dynamic dispatch to determine which method implementation to call at runtime based on the type of the object being referenced.\n",
    "When a method is called on an object, Python dynamically dispatches the call to the appropriate method implementation based on the actual type of the object, promoting dynamic polymorphic behavior."
   ]
  },
  {
   "cell_type": "markdown",
   "id": "e9361228-bb52-4f6e-a7ba-aaecf3f20e9f",
   "metadata": {},
   "source": [
    "17. Create a Python class hierarchy for employees in a company (e.g., manager, developer, designer) and implement polymorphism through a common `calculate_salary()` method."
   ]
  },
  {
   "cell_type": "code",
   "execution_count": 38,
   "id": "af4e1497-02dc-483f-b50d-3e9ef0170684",
   "metadata": {},
   "outputs": [
    {
     "name": "stdout",
     "output_type": "stream",
     "text": [
      "Rohit's salary: 70000\n",
      "Atharva's salary: 55000\n",
      "Saket's salary: 62000\n"
     ]
    }
   ],
   "source": [
    "class Employee:\n",
    "    def __init__(self, name, salary):\n",
    "        self.name = name\n",
    "        self.salary = salary\n",
    "\n",
    "    def calculate_salary(self):\n",
    "        return self.salary\n",
    "\n",
    "\n",
    "class Manager(Employee):\n",
    "    def __init__(self, name, salary, bonus):\n",
    "        super().__init__(name, salary)\n",
    "        self.bonus = bonus\n",
    "\n",
    "    def calculate_salary(self):\n",
    "        return super().calculate_salary() + self.bonus\n",
    "\n",
    "\n",
    "class Developer(Employee):\n",
    "    def __init__(self, name, salary, skill_bonus):\n",
    "        super().__init__(name, salary)\n",
    "        self.skill_bonus = skill_bonus\n",
    "\n",
    "    def calculate_salary(self):\n",
    "        return super().calculate_salary() + self.skill_bonus\n",
    "\n",
    "\n",
    "class Designer(Employee):\n",
    "    def __init__(self, name, salary, experience_bonus):\n",
    "        super().__init__(name, salary)\n",
    "        self.experience_bonus = experience_bonus\n",
    "\n",
    "    def calculate_salary(self):\n",
    "        return super().calculate_salary() + self.experience_bonus\n",
    "\n",
    "\n",
    "manager = Manager(\"Rohit\", 60000, 10000)\n",
    "developer = Developer(\"Atharva\", 50000, 5000)\n",
    "designer = Designer(\"Saket\", 55000, 7000)\n",
    "\n",
    "employees = [manager, developer, designer]\n",
    "\n",
    "for employee in employees:\n",
    "    print(f\"{employee.name}'s salary:\", employee.calculate_salary())\n"
   ]
  },
  {
   "cell_type": "markdown",
   "id": "6c073d85-a24d-4517-845e-28c65e429e57",
   "metadata": {},
   "source": [
    "18. Discuss the concept of function pointers and how they can be used to achieve polymorphism in Python."
   ]
  },
  {
   "cell_type": "markdown",
   "id": "6c5287ef-b238-44a1-b423-0d64908c6427",
   "metadata": {},
   "source": [
    " the concept of function pointers is closely related to the concept of first-class functions, which refers to treating functions as first-class citizens, meaning they can be assigned to variables, passed as arguments to other functions, and returned as values from other functions.\n",
    "\n",
    "Function Assignment:\n",
    "Functions can be assigned to variables just like any other data type. This allows you to reference functions by variable names.\n",
    "By assigning different functions to the same variable in different contexts, you can achieve polymorphic behavior, where the behavior of the variable depends on the assigned function.\n",
    "\n",
    "\n",
    "Function Passing:\n",
    "Functions can be passed as arguments to other functions. This allows you to pass different functions to the same function as arguments, enabling polymorphic behavior.\n",
    "The receiving function can then call the passed function, allowing for dynamic behavior based on the function arguments.\n",
    "\n",
    "\n",
    "Function Returning:\n",
    "Functions can be returned as values from other functions. This allows for creating higher-order functions that return different functions based on certain conditions, achieving polymorphic behavior.\n",
    "The calling code can then invoke the returned function, resulting in dynamic behavior determined by the returned function."
   ]
  },
  {
   "cell_type": "markdown",
   "id": "d872935e-9bcf-4170-9f8d-8fe2e469d343",
   "metadata": {},
   "source": [
    "19. Explain the role of interfaces and abstract classes in polymorphism, drawing comparisons between them."
   ]
  },
  {
   "cell_type": "markdown",
   "id": "a8cd2c0f-3800-4bc9-a7b0-25a90c6f66f4",
   "metadata": {},
   "source": [
    "Interfaces and abstract classes are both mechanisms used in object-oriented programming to achieve polymorphism and define contracts for classes to adhere to. While they serve similar purposes, they have distinct differences in terms of implementation and usage.\n",
    "\n"
   ]
  },
  {
   "cell_type": "markdown",
   "id": "36474881-307c-4e5a-b166-1a77baf5ecc8",
   "metadata": {},
   "source": [
    "20. Create a Python class for a zoo simulation, demonstrating polymorphism with different animal types (e.g., mammals, birds, reptiles)  and their behavior (eg. eating, sleaping, making sounds)."
   ]
  },
  {
   "cell_type": "code",
   "execution_count": 39,
   "id": "d6eadc97-4097-4b05-afad-b61914857d9a",
   "metadata": {},
   "outputs": [
    {
     "name": "stdout",
     "output_type": "stream",
     "text": [
      "Lion\n",
      "Mammal sound\n",
      "Mammal eating\n",
      "Mammal sleeping\n",
      "\n",
      "Eagle\n",
      "Bird sound\n",
      "Bird eating\n",
      "Bird sleeping\n",
      "\n",
      "Snake\n",
      "Reptile sound\n",
      "Reptile eating\n",
      "Reptile sleeping\n",
      "\n"
     ]
    }
   ],
   "source": [
    "class Animal:\n",
    "    def __init__(self, name):\n",
    "        self.name = name\n",
    "\n",
    "    def make_sound(self):\n",
    "        pass\n",
    "\n",
    "    def eat(self):\n",
    "        pass\n",
    "\n",
    "    def sleep(self):\n",
    "        pass\n",
    "\n",
    "class Mammal(Animal):\n",
    "    def make_sound(self):\n",
    "        return \"Mammal sound\"\n",
    "\n",
    "    def eat(self):\n",
    "        return \"Mammal eating\"\n",
    "\n",
    "    def sleep(self):\n",
    "        return \"Mammal sleeping\"\n",
    "\n",
    "class Bird(Animal):\n",
    "    def make_sound(self):\n",
    "        return \"Bird sound\"\n",
    "\n",
    "    def eat(self):\n",
    "        return \"Bird eating\"\n",
    "\n",
    "    def sleep(self):\n",
    "        return \"Bird sleeping\"\n",
    "\n",
    "class Reptile(Animal):\n",
    "    def make_sound(self):\n",
    "        return \"Reptile sound\"\n",
    "\n",
    "    def eat(self):\n",
    "        return \"Reptile eating\"\n",
    "\n",
    "    def sleep(self):\n",
    "        return \"Reptile sleeping\"\n",
    "\n",
    "# Zoo simulation\n",
    "mammal = Mammal(\"Lion\")\n",
    "bird = Bird(\"Eagle\")\n",
    "reptile = Reptile(\"Snake\")\n",
    "\n",
    "animals = [mammal, bird, reptile]\n",
    "\n",
    "for animal in animals:\n",
    "    print(animal.name)\n",
    "    print(animal.make_sound())\n",
    "    print(animal.eat())\n",
    "    print(animal.sleep())\n",
    "    print()\n"
   ]
  },
  {
   "cell_type": "markdown",
   "id": "802680e1-5ce3-40ef-8323-14731dbc6e17",
   "metadata": {},
   "source": [
    "# Abstraction:"
   ]
  },
  {
   "cell_type": "markdown",
   "id": "6ec7f24b-1f3c-4185-815f-20f5888289aa",
   "metadata": {},
   "source": [
    "1. What is abstraction in Python, and how does it relate to object-oriented programming?"
   ]
  },
  {
   "cell_type": "markdown",
   "id": "4e174b54-90af-4b9e-9b38-573bd1a69ccc",
   "metadata": {},
   "source": [
    "Abstraction in Python, as well as in object-oriented programming (OOP) in general, is a fundamental concept that involves hiding the complex implementation details of a system while exposing only the essential features or functionalities to the users. It allows developers to focus on what an object does rather than how it does it. Abstraction simplifies the complexity of systems by providing a high-level view or interface.\n",
    "\n"
   ]
  },
  {
   "cell_type": "markdown",
   "id": "ddf04dbd-8799-49c8-8f3a-f5734099e414",
   "metadata": {},
   "source": [
    "2. Describe the benefits of abstraction in terms of code organization and complexity reduction."
   ]
  },
  {
   "cell_type": "markdown",
   "id": "fc79e697-cd57-40a6-bbdf-b5d8bf9eb019",
   "metadata": {},
   "source": [
    "Modularity:\n",
    "Abstraction encourages modular design by breaking down complex systems into smaller, more manageable components.\n",
    "By encapsulating related functionality within classes, methods, and modules, abstraction allows developers to organize code into logical units, making it easier to understand, maintain, and extend.\n",
    "\n",
    "Encapsulation:\n",
    "Abstraction promotes encapsulation, which involves bundling data and behavior together within classes and hiding the internal implementation details from the outside world.\n",
    "Encapsulation prevents external code from directly accessing or modifying the internal state of objects, reducing the risk of unintended side effects and improving code reliability.\n",
    "\n",
    "Simplified Interface:\n",
    "Abstraction provides a simplified interface for interacting with complex systems.\n",
    "By exposing only the essential features and hiding the implementation details, abstraction makes it easier for users to understand how to use a system without needing to understand its internal workings.\n",
    "\n",
    "Code Reusability:\n",
    "Abstraction promotes code reusability by allowing developers to define common functionality once and reuse it in multiple contexts.\n",
    "By encapsulating functionality within classes and modules, developers can reuse code across different parts of an application or even in different applications, reducing duplication and saving development time.\n",
    "\n",
    "Ease of Maintenance:\n",
    "Abstraction facilitates ease of maintenance by isolating changes to specific components of a system.\n",
    "When a change is needed, developers can focus on the relevant abstraction layer without needing to understand or modify the entire system, minimizing the risk of introducing bugs and speeding up the maintenance process.\n",
    "\n",
    "Scalability:\n",
    "Abstraction supports scalability by enabling systems to grow and evolve over time without becoming overly complex.\n",
    "By breaking down systems into smaller, more manageable components, abstraction allows developers to add new features, refactor existing code, and adapt to changing requirements more effectively."
   ]
  },
  {
   "cell_type": "markdown",
   "id": "e70e227c-593f-4bd4-ab79-33c10658484e",
   "metadata": {},
   "source": [
    "3. Create a Python class called `Shape` with an abstract method `calculate_area()`. Then, create child classes (e.g., `Circle`, `Rectangle`) that implement the `calculate_area()` method. Provide an example of\n",
    "using these classes."
   ]
  },
  {
   "cell_type": "code",
   "execution_count": 2,
   "id": "027943b1-cd0f-41e7-b018-5f61adb4bba3",
   "metadata": {},
   "outputs": [
    {
     "name": "stdout",
     "output_type": "stream",
     "text": [
      "Area of the circle: 78.5\n",
      "Area of the rectangle: 24\n"
     ]
    }
   ],
   "source": [
    "from abc import ABC, abstractmethod\n",
    "\n",
    "class Shape(ABC):\n",
    "    @abstractmethod\n",
    "    def calculate_area(self):\n",
    "        pass\n",
    "\n",
    "class Circle(Shape):\n",
    "    def __init__(self, radius):\n",
    "        self.radius = radius\n",
    "\n",
    "    def calculate_area(self):\n",
    "        return 3.14 * self.radius ** 2\n",
    "\n",
    "class Rectangle(Shape):\n",
    "    def __init__(self, width, height):\n",
    "        self.width = width\n",
    "        self.height = height\n",
    "\n",
    "    def calculate_area(self):\n",
    "        return self.width * self.height\n",
    "\n",
    "circle = Circle(5)\n",
    "rectangle = Rectangle(4, 6)\n",
    "\n",
    "print(\"Area of the circle:\", circle.calculate_area())       \n",
    "print(\"Area of the rectangle:\", rectangle.calculate_area())\n"
   ]
  },
  {
   "cell_type": "markdown",
   "id": "2620554d-8edd-4ef9-8a45-a69114b0dce7",
   "metadata": {},
   "source": [
    "4. Explain the concept of abstract classes in Python and how they are defined using the `abc` module. Provide\n",
    "an example."
   ]
  },
  {
   "cell_type": "markdown",
   "id": "98079b0d-45fd-4acd-8be6-df5f8176a34e",
   "metadata": {},
   "source": [
    "Abstract classes serve as blueprints for other classes and cannot be instantiated on their own. They typically contain one or more abstract methods, which are methods without implementations. Abstract classes are used to define a common interface for a group of related classes, ensuring that all subclasses implement certain methods."
   ]
  },
  {
   "cell_type": "code",
   "execution_count": 5,
   "id": "a86aca37-e1b1-4252-87ce-4c71000b1f96",
   "metadata": {},
   "outputs": [
    {
     "name": "stdout",
     "output_type": "stream",
     "text": [
      "Implementation of abstract_method\n",
      "This is a concrete method\n"
     ]
    }
   ],
   "source": [
    "from abc import ABC, abstractmethod\n",
    "\n",
    "class AbstractClass(ABC):  # Subclass of ABC\n",
    "    @abstractmethod\n",
    "    def abstract_method(self):\n",
    "        pass\n",
    "\n",
    "    def concrete_method(self):\n",
    "        return \"This is a concrete method\"\n",
    "\n",
    "\n",
    "class ConcreteClass(AbstractClass):\n",
    "    def abstract_method(self):\n",
    "        return \"Implementation of abstract_method\"\n",
    "\n",
    "concrete_instance = ConcreteClass()\n",
    "print(concrete_instance.abstract_method()) \n",
    "print(concrete_instance.concrete_method())\n"
   ]
  },
  {
   "cell_type": "markdown",
   "id": "e19f8da7-2fdc-47ae-816c-703b9a7b3204",
   "metadata": {},
   "source": [
    "5. How do abstract classes differ from regular classes in Python? Discuss their use cases."
   ]
  },
  {
   "cell_type": "markdown",
   "id": "da58fd63-57ab-42ac-a935-f7f2a1a74cd4",
   "metadata": {},
   "source": [
    "Abstract Classes:\n",
    "Abstract classes cannot be instantiated directly. They are designed to serve as base classes for other classes.\n",
    "Abstract classes may contain one or more abstract methods, which are methods without implementations. Subclasses must provide implementations for these abstract methods.\n",
    "Abstract classes are defined using the abc (Abstract Base Classes) module and the ABC (Abstract Base Class) class.\n",
    "\n",
    "Use cases:\n",
    "Defining a common interface or blueprint for a group of related classes.\n",
    "Enforcing a contract that all subclasses must adhere to by implementing specific methods.\n",
    "Encapsulating shared functionality or behavior that can be reused by multiple subclasses.\n",
    "\n",
    "\n",
    "Regular Classes:\n",
    "Regular classes can be instantiated directly, and they can have both abstract and concrete methods with implementations.\n",
    "Regular classes are used to create objects with specific attributes and behavior.\n",
    "Regular classes do not require the abc module or abstractmethod decorator.\n",
    "\n",
    "Use cases:\n",
    "Creating objects with specific attributes and behavior tailored to a particular use case.\n",
    "Implementing concrete functionality that does not need to be overridden by subclasses.\n",
    "Organizing code into logical units with methods and attributes."
   ]
  },
  {
   "cell_type": "markdown",
   "id": "c114a81b-d1e9-4a9b-8348-d695129ee867",
   "metadata": {},
   "source": [
    "6. Create a Python class for a bank account and demonstrate abstraction by hiding the account balance and\n",
    "providing methods to deposit and withdraw funds."
   ]
  },
  {
   "cell_type": "code",
   "execution_count": 7,
   "id": "fd99cac2-99ba-4624-a67a-360eb1c96892",
   "metadata": {},
   "outputs": [
    {
     "name": "stdout",
     "output_type": "stream",
     "text": [
      "Initial balance: 1000\n",
      "Deposited 500 units. New balance: 1500\n",
      "Withdrew 200 units. New balance: 1300\n",
      "Insufficient funds or invalid withdrawal amount.\n",
      "Final balance: 1300\n"
     ]
    }
   ],
   "source": [
    "class BankAccount:\n",
    "    def __init__(self, initial_balance=0):\n",
    "        self._balance = initial_balance\n",
    "\n",
    "    def deposit(self, amount):\n",
    "        \"\"\"Deposit funds into the account.\"\"\"\n",
    "        if amount > 0:\n",
    "            self._balance += amount\n",
    "            print(f\"Deposited {amount} units. New balance: {self._balance}\")\n",
    "        else:\n",
    "            print(\"Invalid deposit amount.\")\n",
    "\n",
    "    def withdraw(self, amount):\n",
    "        \"\"\"Withdraw funds from the account.\"\"\"\n",
    "        if 0 < amount <= self._balance:\n",
    "            self._balance -= amount\n",
    "            print(f\"Withdrew {amount} units. New balance: {self._balance}\")\n",
    "        else:\n",
    "            print(\"Insufficient funds or invalid withdrawal amount.\")\n",
    "\n",
    "    def get_balance(self):\n",
    "        \"\"\"Get the current account balance.\"\"\"\n",
    "        return self._balance\n",
    "\n",
    "account = BankAccount(1000) \n",
    "\n",
    "print(\"Initial balance:\", account.get_balance())  \n",
    "\n",
    "account.deposit(500)  # Deposit 500 units\n",
    "account.withdraw(200)  # Withdraw 200 units\n",
    "account.withdraw(2000)  # Attempt to withdraw more than the balance\n",
    "\n",
    "print(\"Final balance:\", account.get_balance()) \n"
   ]
  },
  {
   "cell_type": "markdown",
   "id": "5708beea-15fb-4ef4-a6a1-37ab3b2de8ae",
   "metadata": {},
   "source": [
    "7. Discuss the concept of interface classes in Python and their role in achieving abstraction."
   ]
  },
  {
   "cell_type": "markdown",
   "id": "9658895c-a482-45ed-893b-1fa0abc39a44",
   "metadata": {},
   "source": [
    " interface classes are classes that define a set of methods without providing their implementation. They serve as blueprints or contracts that specify what methods a class must implement, without dictating how those methods should be implemented. Interface classes play a crucial role in achieving abstraction by hiding the implementation details and promoting loose coupling between components of a system."
   ]
  },
  {
   "cell_type": "markdown",
   "id": "b8accfe7-7024-499a-8b4d-329ebd53a202",
   "metadata": {},
   "source": [
    "Defining Contracts:\n",
    "Interface classes define contracts that specify a set of methods that must be implemented by classes that adhere to the interface.\n",
    "By defining contracts, interface classes establish a common interface that allows objects of different classes to be treated uniformly based on their shared behavior.\n",
    "\n",
    "Hiding Implementation Details:\n",
    "Interface classes focus on what methods a class should have rather than how those methods should be implemented.\n",
    "By hiding implementation details, interface classes promote abstraction by allowing users to interact with objects through a simplified and standardized interface.\n",
    "\n",
    "Enforcing Consistency:\n",
    "Interface classes enforce consistency across classes by ensuring that all classes that implement the interface provide the same set of methods.\n",
    "This helps maintain code consistency and makes it easier to understand and work with different parts of a system.\n",
    "\n",
    "Promoting Polymorphism:\n",
    "Interface classes promote polymorphism by allowing objects of different classes to be treated uniformly if they adhere to the same interface.\n",
    "This enables code reuse and flexibility, as objects can be substituted with others that provide the same interface without affecting the overall behavior of the system.\n",
    "\n",
    "Achieving Loose Coupling:\n",
    "Interface classes help achieve loose coupling between components of a system by decoupling the interface from its implementations.\n",
    "This allows classes to evolve independently, as long as they adhere to the specified interface."
   ]
  },
  {
   "cell_type": "markdown",
   "id": "9e9f3a2a-ffe1-46d9-9cc3-acb077e41500",
   "metadata": {},
   "source": [
    "8. Create a Python class hierarchy for animals and implement abstraction by defining common methods (eg, `eat()`, `sleep()`) in an abstract base class.\n"
   ]
  },
  {
   "cell_type": "code",
   "execution_count": 8,
   "id": "445aef1f-5ab0-4b60-b592-4a77952c82fe",
   "metadata": {},
   "outputs": [
    {
     "name": "stdout",
     "output_type": "stream",
     "text": [
      "Buddy is eating like a dog.\n",
      "Buddy is sleeping like a dog.\n",
      "Whiskers is eating like a cat.\n",
      "Whiskers is sleeping like a cat.\n"
     ]
    }
   ],
   "source": [
    "from abc import ABC, abstractmethod\n",
    "\n",
    "class Animal(ABC):\n",
    "    def __init__(self, name):\n",
    "        self.name = name\n",
    "\n",
    "    @abstractmethod\n",
    "    def eat(self):\n",
    "        pass\n",
    "\n",
    "    @abstractmethod\n",
    "    def sleep(self):\n",
    "        pass\n",
    "\n",
    "class Dog(Animal):\n",
    "    def eat(self):\n",
    "        return f\"{self.name} is eating like a dog.\"\n",
    "\n",
    "    def sleep(self):\n",
    "        return f\"{self.name} is sleeping like a dog.\"\n",
    "\n",
    "class Cat(Animal):  \n",
    "    def eat(self):\n",
    "        return f\"{self.name} is eating like a cat.\"\n",
    "\n",
    "    def sleep(self):\n",
    "        return f\"{self.name} is sleeping like a cat.\"\n",
    "\n",
    "# Example usage:\n",
    "dog = Dog(\"Buddy\")\n",
    "cat = Cat(\"Whiskers\")\n",
    "\n",
    "print(dog.eat())   \n",
    "print(dog.sleep()) \n",
    "\n",
    "print(cat.eat())   \n",
    "print(cat.sleep()) "
   ]
  },
  {
   "cell_type": "markdown",
   "id": "96f7c77e-06bf-42c5-8c39-c3d9df97302a",
   "metadata": {},
   "source": [
    "9. Explain the significance of encapsulation in achieving abstraction. Provide examples."
   ]
  },
  {
   "cell_type": "markdown",
   "id": "e736eb7c-677f-4c8d-92ae-335479de1065",
   "metadata": {},
   "source": [
    "Encapsulation and abstraction are closely related concepts in object-oriented programming, and encapsulation plays a significant role in achieving abstraction. Encapsulation involves bundling data (attributes) and methods (functions) that operate on the data within a single unit, typically a class. This helps in hiding the internal details of how data is stored and manipulated, and exposing only the essential functionalities through well-defined interfaces. This abstraction allows users to interact with the object without needing to know its internal implementation details."
   ]
  },
  {
   "cell_type": "markdown",
   "id": "893f4991-4b9e-42d9-aa9b-c3dee1ba631a",
   "metadata": {},
   "source": [
    "10. What is the purpose of abstract methods, and how do they enforce abstraction in Python classes?"
   ]
  },
  {
   "cell_type": "markdown",
   "id": "d36051f0-6b59-4f59-af64-38ddf05acd6a",
   "metadata": {},
   "source": [
    "Abstract methods are methods defined in a class that have no implementation. They serve as placeholders or contracts that define a method's signature without providing any functionality. The purpose of abstract methods is to enforce certain behavior across subclasses by requiring concrete subclasses to provide their own implementations for these methods. Abstract methods play a key role in achieving abstraction and defining interfaces in Python classes."
   ]
  },
  {
   "cell_type": "markdown",
   "id": "8b65985c-ce6f-48aa-a79b-538eb40ea86d",
   "metadata": {},
   "source": [
    "Defining a Common Interface:\n",
    "Abstract methods define a common interface that subclasses must adhere to.\n",
    "By specifying the signature of a method without providing its implementation, abstract methods establish a contract that concrete subclasses must fulfill.\n",
    "\n",
    "Forcing Subclasses to Provide Implementations:\n",
    "Abstract methods act as placeholders that must be overridden by concrete subclasses.\n",
    "Subclasses that inherit from a class containing abstract methods are required to provide implementations for these methods. If a subclass fails to do so, it will raise an error at runtime.\n",
    "\n",
    "Promoting Polymorphism:\n",
    "Abstract methods promote polymorphism by allowing different subclasses to provide their own implementations for the same method signature.\n",
    "This enables objects of different subclasses to be treated uniformly based on their shared behavior, enhancing code reuse and flexibility.\n",
    "\n",
    "\n",
    "Hiding Implementation Details:\n",
    "Abstract methods help in hiding the internal implementation details of a class.\n",
    "By defining abstract methods, a class can specify what behavior it expects from its subclasses without revealing how that behavior should be implemented. This promotes abstraction by allowing users to interact with objects at a higher level without needing to know the specific implementation details.\n",
    "\n",
    "Enforcing Consistency and Contracts:\n",
    "Abstract methods enforce consistency and contracts across subclasses by ensuring that all subclasses provide implementations for the required methods.\n",
    "This helps in maintaining code consistency and adherence to specifications, making the codebase more robust and maintainable."
   ]
  },
  {
   "cell_type": "markdown",
   "id": "18186a9c-7cb6-44b9-aeb7-dc7e64029ad2",
   "metadata": {},
   "source": [
    "11. Create a Python class for a vehicle system and demonstrate abstraction by defining common methods (e.g., `start()`, `stop()`) in an abstract base class."
   ]
  },
  {
   "cell_type": "code",
   "execution_count": 9,
   "id": "545be2d3-7148-4333-b561-173d4c2f7f5e",
   "metadata": {},
   "outputs": [
    {
     "name": "stdout",
     "output_type": "stream",
     "text": [
      "Toyota is starting like a car.\n",
      "Toyota is stopping like a car.\n",
      "Mountain Bike is starting like a bicycle.\n",
      "Mountain Bike is stopping like a bicycle.\n",
      "Sailboat is starting like a boat.\n",
      "Sailboat is stopping like a boat.\n"
     ]
    }
   ],
   "source": [
    "from abc import ABC, abstractmethod\n",
    "\n",
    "class Vehicle(ABC):  # Abstract base class for vehicles\n",
    "    def __init__(self, name):\n",
    "        self.name = name\n",
    "\n",
    "    @abstractmethod\n",
    "    def start(self):\n",
    "        pass\n",
    "\n",
    "    @abstractmethod\n",
    "    def stop(self):\n",
    "        pass\n",
    "\n",
    "class Car(Vehicle):  \n",
    "    def start(self):\n",
    "        return f\"{self.name} is starting like a car.\"\n",
    "\n",
    "    def stop(self):\n",
    "        return f\"{self.name} is stopping like a car.\"\n",
    "\n",
    "class Bicycle(Vehicle):  \n",
    "    def start(self):\n",
    "        return f\"{self.name} is starting like a bicycle.\"\n",
    "\n",
    "    def stop(self):\n",
    "        return f\"{self.name} is stopping like a bicycle.\"\n",
    "\n",
    "class Boat(Vehicle):  \n",
    "    def start(self):\n",
    "        return f\"{self.name} is starting like a boat.\"\n",
    "\n",
    "    def stop(self):\n",
    "        return f\"{self.name} is stopping like a boat.\"\n",
    "\n",
    "# Example usage:\n",
    "car = Car(\"Toyota\")\n",
    "bicycle = Bicycle(\"Mountain Bike\")\n",
    "boat = Boat(\"Sailboat\")\n",
    "\n",
    "print(car.start())   \n",
    "print(car.stop())    \n",
    "\n",
    "print(bicycle.start())   \n",
    "print(bicycle.stop())    \n",
    "\n",
    "print(boat.start())   \n",
    "print(boat.stop())    \n"
   ]
  },
  {
   "cell_type": "markdown",
   "id": "44c89c13-c940-4c25-9eeb-2ea9f6d0210b",
   "metadata": {},
   "source": [
    "12. Describe the use of abstract properties in Python and how they can be employed in abstract classes."
   ]
  },
  {
   "cell_type": "markdown",
   "id": "ba1fe32c-a2de-4de3-9376-cf92ec76149f",
   "metadata": {},
   "source": [
    "Abstract properties in Python are properties defined in abstract base classes that require concrete subclasses to provide implementations for their getter and/or setter methods. They are used to enforce the presence of certain attributes in subclasses while allowing flexibility in their implementation details. Abstract properties are particularly useful in abstract classes where specific attributes need to be defined across subclasses, but their implementation may vary."
   ]
  },
  {
   "cell_type": "markdown",
   "id": "a6f844f6-1d30-4b54-a662-20594393974e",
   "metadata": {},
   "source": [
    "Defining Abstract Properties:\n",
    "Abstract properties are defined in abstract base classes using the @property decorator along with the @abstractmethod decorator.\n",
    "Abstract properties can have a getter method, a setter method, or both, depending on whether read-only or read-write access is desired.\n",
    "\n",
    "Requiring Implementations in Subclasses:\n",
    "Subclasses that inherit from an abstract class containing abstract properties are required to provide implementations for the getter and/or setter methods of these properties.\n",
    "This ensures that all subclasses adhere to a common interface and provide access to specific attributes, even though the implementation details may differ.\n",
    "\n",
    "Promoting Consistency and Contracts:\n",
    "Abstract properties promote consistency and contracts across subclasses by specifying the presence of certain attributes that must be provided by subclasses.\n",
    "This helps in maintaining code consistency and adherence to specifications, making the codebase more robust and maintainable.\n",
    "\n",
    "Enabling Flexibility in Implementation:\n",
    "While abstract properties enforce the presence of certain attributes, they allow flexibility in how these attributes are implemented in concrete subclasses.\n",
    "Concrete subclasses can define their own logic for the getter and setter methods of abstract properties, providing the required functionality while accommodating specific use cases or requirements.\n",
    "\n",
    "Facilitating Polymorphism:\n",
    "Abstract properties facilitate polymorphism by allowing different subclasses to provide their own implementations for the same property.\n",
    "This enables objects of different subclasses to be treated uniformly based on their shared attributes, enhancing code reuse and flexibility."
   ]
  },
  {
   "cell_type": "code",
   "execution_count": 11,
   "id": "33d816dd-d366-4753-9226-3a5f728e20d4",
   "metadata": {},
   "outputs": [
    {
     "name": "stdout",
     "output_type": "stream",
     "text": [
      "Circle area: 78.5\n",
      "Rectangle area: 24\n"
     ]
    }
   ],
   "source": [
    "# eg\n",
    "\n",
    "\n",
    "from abc import ABC, abstractmethod\n",
    "\n",
    "class Shape(ABC): \n",
    "    @property\n",
    "    @abstractmethod\n",
    "    def area(self):\n",
    "        pass\n",
    "\n",
    "class Circle(Shape):  \n",
    "    def __init__(self, radius):\n",
    "        self.radius = radius\n",
    "\n",
    "    @property\n",
    "    def area(self):\n",
    "        return 3.14 * self.radius ** 2\n",
    "\n",
    "class Rectangle(Shape):  \n",
    "    def __init__(self, width, height):\n",
    "        self.width = width\n",
    "        self.height = height\n",
    "\n",
    "    @property\n",
    "    def area(self):\n",
    "        return self.width * self.height\n",
    "\n",
    "circle = Circle(5)\n",
    "print(\"Circle area:\", circle.area)  \n",
    "\n",
    "rectangle = Rectangle(4, 6)\n",
    "print(\"Rectangle area:\", rectangle.area) \n"
   ]
  },
  {
   "cell_type": "markdown",
   "id": "65a8bc4e-f2d2-4fe3-b73c-7a2634456258",
   "metadata": {},
   "source": [
    "13. Create a Python class hierarchy for employees in a company (e.g., manager, developer, designer) and implement abstraction by defining a common `get_salary()` method."
   ]
  },
  {
   "cell_type": "code",
   "execution_count": 12,
   "id": "540483d8-3943-4e76-adc4-87c8744f68f2",
   "metadata": {},
   "outputs": [
    {
     "name": "stdout",
     "output_type": "stream",
     "text": [
      "The salary of Alice is $8000 per month.\n",
      "The salary of Bob is $6000 per month.\n",
      "The salary of Charlie is $7000 per month.\n"
     ]
    }
   ],
   "source": [
    "from abc import ABC, abstractmethod\n",
    "\n",
    "class Employee(ABC):  \n",
    "    def __init__(self, name, salary):\n",
    "        self.name = name\n",
    "        self.salary = salary\n",
    "\n",
    "    @abstractmethod\n",
    "    def get_salary(self):\n",
    "        pass\n",
    "\n",
    "class Manager(Employee):  \n",
    "    def get_salary(self):\n",
    "        return f\"The salary of {self.name} is ${self.salary} per month.\"\n",
    "\n",
    "class Developer(Employee):  \n",
    "    def get_salary(self):\n",
    "        return f\"The salary of {self.name} is ${self.salary} per month.\"\n",
    "\n",
    "class Designer(Employee):  \n",
    "    def get_salary(self):\n",
    "        return f\"The salary of {self.name} is ${self.salary} per month.\"\n",
    "\n",
    "# Example usage:\n",
    "manager = Manager(\"Alice\", 8000)\n",
    "developer = Developer(\"Bob\", 6000)\n",
    "designer = Designer(\"Charlie\", 7000)\n",
    "\n",
    "print(manager.get_salary())   \n",
    "print(developer.get_salary()) \n",
    "print(designer.get_salary())  \n"
   ]
  },
  {
   "cell_type": "markdown",
   "id": "dab8f3b2-9b24-4b21-88b0-6241de153b99",
   "metadata": {},
   "source": [
    "14. Discuss the differences between abstract classes and concrete classes in Python, including their\n",
    "instantiation."
   ]
  },
  {
   "cell_type": "markdown",
   "id": "0a1aa062-bd43-468f-a7ce-22f645e105df",
   "metadata": {},
   "source": [
    "Abstract Classes:\n",
    "Definition: Abstract classes are classes that cannot be instantiated directly. They serve as templates for other classes and often contain one or more abstract methods that must be implemented by concrete subclasses.\n",
    "Purpose: Abstract classes define a common interface or behavior that concrete subclasses must adhere to. They provide a way to enforce a contract or set of rules across multiple related classes.\n",
    "Instantiation: Abstract classes cannot be instantiated directly using the __init__() method. Instead, they are meant to be subclassed, and objects of concrete subclasses can be instantiated.\n",
    "Example: In Python, abstract classes are typically defined using the ABC (Abstract Base Class) class from the abc module, along with the @abstractmethod decorator to mark abstract methods.\n",
    "\n",
    "\n",
    "\n",
    "Concrete Classes:\n",
    "Definition: Concrete classes are classes that can be instantiated directly. They provide concrete implementations for all methods, including any abstract methods inherited from abstract base classes.\n",
    "Purpose: Concrete classes provide specific functionality or behavior. They can be instantiated to create objects that represent tangible entities or concepts.\n",
    "Instantiation: Concrete classes can be instantiated directly using the __init__() method. Objects of concrete classes can be created and used in the program.\n",
    "Example: Most classes in Python are concrete classes. They define complete implementations for all methods and attributes."
   ]
  },
  {
   "cell_type": "markdown",
   "id": "777bca54-e338-4aca-9283-e4f63f4a7d4a",
   "metadata": {},
   "source": [
    "15. Explain the concept of abstract data types (ADTs) and their role in achieving abstraction in Python.\n",
    "\n"
   ]
  },
  {
   "cell_type": "markdown",
   "id": "4939b8d8-fcea-4af9-b517-10ea39435e52",
   "metadata": {},
   "source": [
    "Abstract Data Types (ADTs) are mathematical models representing a collection of data values and a set of operations that can be performed on these values. ADTs provide a high-level abstraction of data structures, hiding the implementation details and focusing on the behavior and operations that can be performed on the data.\n",
    "\n",
    "\n",
    "\n",
    "ADTs are often implemented using classes, with methods representing the operations that can be performed on the data. Here's how ADTs contribute to achieving abstraction\n",
    "\n",
    "Encapsulation of Data and Operations:\n",
    "ADTs encapsulate both data and operations within a single unit (class).\n",
    "This encapsulation hides the internal representation of data and exposes only the necessary operations, promoting abstraction by allowing users to interact with the data at a higher level without needing to know its internal details.\n",
    "\n",
    "Defined Interfaces:\n",
    "ADTs provide well-defined interfaces that specify the operations that can be performed on the data.\n",
    "This defined interface serves as a contract between the ADT and its users, specifying how the data can be manipulated and accessed.\n",
    "\n",
    "Data Abstraction:\n",
    "ADTs abstract away the complexities of data representation and manipulation, focusing on the behavior and operations that are relevant to users.\n",
    "Users interact with ADTs using high-level operations, without needing to understand the specific implementation details of the data structure.\n",
    "\n",
    "Code Reusability:\n",
    "ADTs promote code reusability by encapsulating commonly used data structures and operations within reusable classes.\n",
    "Once implemented, ADTs can be reused in multiple contexts and applications, reducing redundancy and promoting modular code design.\n",
    "\n",
    "Flexibility and Extensibility:\n",
    "ADTs provide a flexible framework for organizing and manipulating data, allowing for easy extension and customization.\n",
    "New operations or variations of existing operations can be added to ADTs as needed, without affecting the external interface or behavior.\n",
    "\n",
    "Modularity and Maintainability:\n",
    "ADTs promote modularity by organizing related data and operations into separate units, making the codebase easier to understand, maintain, and debug.\n",
    "Changes to the internal implementation of an ADT do not affect its external interface, minimizing the impact of changes and facilitating code maintenance."
   ]
  },
  {
   "cell_type": "markdown",
   "id": "718dbd16-c5df-4a7c-a863-d7f76bdf7c18",
   "metadata": {},
   "source": [
    "16. Create a Python class for a computer system, demonstrating abstraction by defining common methods (eg. `power_on()`, `shutdown()`) in an abstract base class."
   ]
  },
  {
   "cell_type": "code",
   "execution_count": 15,
   "id": "7b0ac7df-24dd-4bd1-9f01-e23c130d1eae",
   "metadata": {},
   "outputs": [
    {
     "name": "stdout",
     "output_type": "stream",
     "text": [
      "Desktop PC is powering on like a desktop.\n",
      "Desktop PC is shutting down like a desktop.\n",
      "Laptop is powering on like a laptop.\n",
      "Laptop is shutting down like a laptop.\n"
     ]
    }
   ],
   "source": [
    "from abc import ABC, abstractmethod\n",
    "\n",
    "class ComputerSystem(ABC):\n",
    "    def __init__(self, name):\n",
    "        self.name = name\n",
    "\n",
    "    @abstractmethod\n",
    "    def power_on(self):\n",
    "        pass\n",
    "\n",
    "    @abstractmethod\n",
    "    def shutdown(self):\n",
    "        pass\n",
    "\n",
    "class Desktop(ComputerSystem):\n",
    "    def power_on(self):\n",
    "        return f\"{self.name} is powering on like a desktop.\"\n",
    "\n",
    "    def shutdown(self):\n",
    "        return f\"{self.name} is shutting down like a desktop.\"\n",
    "\n",
    "class Laptop(ComputerSystem):\n",
    "    def power_on(self):\n",
    "        return f\"{self.name} is powering on like a laptop.\"\n",
    "\n",
    "    def shutdown(self):\n",
    "        return f\"{self.name} is shutting down like a laptop.\"\n",
    "\n",
    "# Example usage:\n",
    "desktop = Desktop(\"Desktop PC\")\n",
    "laptop = Laptop(\"Laptop\")\n",
    "\n",
    "print(desktop.power_on())   \n",
    "print(desktop.shutdown())   \n",
    "\n",
    "print(laptop.power_on())    \n",
    "print(laptop.shutdown())    "
   ]
  },
  {
   "cell_type": "markdown",
   "id": "cc3055ff-58cd-48be-ae34-9ca06fda5984",
   "metadata": {},
   "source": [
    "17. Discuss the benefits of using abstraction in large-scale software development projects."
   ]
  },
  {
   "cell_type": "markdown",
   "id": "bdd6d44a-6cd9-4263-b647-4cfda15adfce",
   "metadata": {},
   "source": [
    "Modularity and Maintainability:\n",
    "Abstraction promotes modularity by breaking down complex systems into smaller, manageable components.\n",
    "Each component can be developed, tested, and maintained independently, leading to easier maintenance and updates over time.\n",
    "Changes to one component are less likely to have ripple effects throughout the entire system, reducing the risk of unintended side effects.\n",
    "\n",
    "Code Reusability:\n",
    "Abstraction encourages the creation of reusable components with well-defined interfaces.\n",
    "These components can be reused across different parts of the system or even in other projects, saving time and effort in development.\n",
    "Reusing existing components also improves consistency and reduces the likelihood of introducing bugs or inconsistencies.\n",
    "\n",
    "Encapsulation of Complexity:\n",
    "Abstraction allows developers to hide the implementation details of complex functionalities behind simpler interfaces.\n",
    "Users of these functionalities only need to understand how to interact with the provided interfaces, rather than the intricacies of the underlying implementation.\n",
    "This encapsulation of complexity makes the system easier to understand, use, and maintain, especially for developers who are not intimately familiar with every aspect of the system.\n",
    "\n",
    "\n",
    "Scalability and Extensibility:\n",
    "Abstraction provides a flexible foundation that can adapt to changing requirements and evolving business needs.\n",
    "New features can be added or existing features can be modified or extended without requiring significant changes to the overall architecture.\n",
    "Developers can build on existing abstractions and extend them as necessary, allowing the system to grow and evolve over time without becoming overly complex or unwieldy.\n",
    "\n",
    "Improved Collaboration:\n",
    "Abstraction encourages a clear separation of concerns, making it easier for teams of developers to work on different parts of the system concurrently.\n",
    "Developers can focus on implementing specific components or functionalities without needing to understand every detail of the entire system.\n",
    "Well-defined interfaces facilitate communication between different teams or individuals working on interconnected parts of the system.\n",
    "\n",
    "Reduced Cognitive Load:\n",
    "Abstraction hides unnecessary details and presents a simplified view of the system to developers and users.\n",
    "This reduces cognitive load by allowing developers to focus on high-level concepts and logic rather than getting bogged down in implementation details.\n",
    "Developers can more easily reason about and understand the system as a whole, leading to faster development and fewer errors."
   ]
  },
  {
   "cell_type": "markdown",
   "id": "b29db29f-5a69-4ee8-a623-c6a3fa36ca19",
   "metadata": {},
   "source": [
    "18. Explain how abstraction enhances code reusability and modularity in Python programs."
   ]
  },
  {
   "cell_type": "markdown",
   "id": "74ec823d-dae2-4a88-b896-4147fb079c82",
   "metadata": {},
   "source": [
    "Encapsulation of Complexity:\n",
    "Abstraction allows developers to encapsulate complex functionalities or data structures behind simplified interfaces.\n",
    "By hiding implementation details, abstraction reduces the cognitive load on developers and users, making it easier to understand and reuse existing code components.\n",
    "\n",
    "Defined Interfaces:\n",
    "Abstraction provides well-defined interfaces that specify how components interact with each other.\n",
    "These interfaces serve as contracts between different parts of the codebase, promoting code reuse by ensuring that components can be used interchangeably as long as they adhere to the specified interface.\n",
    "\n",
    "Reusable Components:\n",
    "Abstraction encourages the creation of reusable components that can be used across different parts of a Python program or even in different projects.\n",
    "By abstracting away implementation details, these components become more versatile and adaptable to various use cases, leading to increased code reuse and reduced redundancy.\n",
    "\n",
    "Modular Design:\n",
    "Abstraction promotes a modular design approach, where complex systems are broken down into smaller, more manageable components.\n",
    "Each module encapsulates a specific set of functionalities or data, making it easier to develop, test, and maintain independently.\n",
    "Modular design facilitates code reuse by allowing developers to mix and match existing components to build new features or extend existing ones.\n",
    "\n",
    "Separation of Concerns:\n",
    "Abstraction encourages the separation of concerns, where different aspects of a program are handled by distinct modules or components.\n",
    "Each component focuses on a specific responsibility, such as data storage, business logic, or user interface, reducing the complexity of individual components and promoting code reusability.\n",
    "\n",
    "Scalability and Extensibility:\n",
    "Abstraction provides a flexible foundation that can adapt to changing requirements and evolving business needs.\n",
    "As new features are added or existing features are modified, developers can leverage existing abstractions and extend them as necessary, rather than starting from scratch.\n",
    "This promotes code reusability and modularity by minimizing the need for redundant code and ensuring that changes can be made without affecting unrelated parts of the codebase."
   ]
  },
  {
   "cell_type": "markdown",
   "id": "a0c10f81-6aad-489d-b04e-15e6442872de",
   "metadata": {},
   "source": [
    "19. Create a Python class for a library system, implementing abstraction by defining common methods (e.g.,`add_book()`, `borrrow_book()`) in an abstract base class."
   ]
  },
  {
   "cell_type": "code",
   "execution_count": 19,
   "id": "111fa3e9-e296-445b-8ff9-edfd74db62ad",
   "metadata": {},
   "outputs": [
    {
     "name": "stdout",
     "output_type": "stream",
     "text": [
      "Book 'Python Programming' with ID 101 added to Public Library.\n",
      "Book 'Python Programming' with ID 101 borrowed from Public Library.\n",
      "Book 'Data Structures' with ID 201 added to University Library.\n",
      "Book 'Data Structures' with ID 201 borrowed from University Library.\n"
     ]
    }
   ],
   "source": [
    "from abc import ABC, abstractmethod\n",
    "\n",
    "class LibrarySystem(ABC):\n",
    "    def __init__(self, name):\n",
    "        self.name = name\n",
    "        self.books = {}  \n",
    "\n",
    "    @abstractmethod\n",
    "    def add_book(self, book_id, book_title):\n",
    "        pass\n",
    "\n",
    "    @abstractmethod\n",
    "    def borrow_book(self, book_id):\n",
    "        pass\n",
    "\n",
    "class PublicLibrary(LibrarySystem):\n",
    "    def add_book(self, book_id, book_title):\n",
    "        self.books[book_id] = book_title\n",
    "        return f\"Book '{book_title}' with ID {book_id} added to {self.name}.\"\n",
    "\n",
    "    def borrow_book(self, book_id):\n",
    "        if book_id in self.books:\n",
    "            book_title = self.books.pop(book_id)\n",
    "            return f\"Book '{book_title}' with ID {book_id} borrowed from {self.name}.\"\n",
    "        else:\n",
    "            return f\"Book with ID {book_id} not found in {self.name}.\"\n",
    "\n",
    "class UniversityLibrary(LibrarySystem):\n",
    "    def add_book(self, book_id, book_title):\n",
    "        self.books[book_id] = book_title\n",
    "        return f\"Book '{book_title}' with ID {book_id} added to {self.name}.\"\n",
    "\n",
    "    def borrow_book(self, book_id):\n",
    "        if book_id in self.books:\n",
    "            book_title = self.books.pop(book_id)\n",
    "            return f\"Book '{book_title}' with ID {book_id} borrowed from {self.name}.\"\n",
    "        else:\n",
    "            return f\"Book with ID {book_id} not found in {self.name}.\"\n",
    "\n",
    "# Example usage:\n",
    "public_library = PublicLibrary(\"Public Library\")\n",
    "university_library = UniversityLibrary(\"University Library\")\n",
    "\n",
    "print(public_library.add_book(101, \"Python Programming\"))  \n",
    "print(public_library.borrow_book(101))                   \n",
    "\n",
    "print(university_library.add_book(201, \"Data Structures\")) \n",
    "print(university_library.borrow_book(201))    "
   ]
  },
  {
   "cell_type": "markdown",
   "id": "a65f55f3-afa5-4186-82f1-e85ada58fa8b",
   "metadata": {},
   "source": [
    "20. Describe the concept of method abstraction in Python and how it relates to polymorphism."
   ]
  },
  {
   "cell_type": "markdown",
   "id": "3fa1e80d-46ce-4fcb-98cf-17325618589f",
   "metadata": {},
   "source": [
    "Method abstraction in Python involves defining methods in a way that their implementation details are hidden from the user, allowing the user to interact with the method through a simplified interface. This concept is closely related to polymorphism, which allows objects of different classes to be treated uniformly based on their common interface.\n",
    "\n",
    "Abstraction:\n",
    "Method abstraction hides the internal implementation details of a method, exposing only its interface or signature to the user.\n",
    "Users interact with the method through its interface, without needing to know how the method achieves its functionality internally.\n",
    "This abstraction simplifies the interaction with the method and promotes code readability and maintainability.\n",
    "\n",
    "Polymorphism:\n",
    "Polymorphism allows objects of different classes to be treated uniformly based on a common interface or behavior.\n",
    "In Python, polymorphism is often achieved through method overriding, where subclasses provide their own implementations of methods defined in a superclass.\n",
    "Users can invoke the same method on objects of different classes, and the appropriate implementation is automatically chosen based on the actual type of the object.\n",
    "\n",
    "Relation:\n",
    "Method abstraction and polymorphism are closely related because method abstraction facilitates polymorphic behavior.\n",
    "By abstracting away implementation details and exposing a common interface, method abstraction enables polymorphism by allowing different objects to respond to the same method invocation in a uniform manner.\n",
    "Users can interact with objects through their common interface, invoking methods without needing to know the specific class of the object. This promotes flexibility and extensibility in the code."
   ]
  },
  {
   "cell_type": "markdown",
   "id": "20a631d8-229e-4d88-9ad4-8724e3acdbf0",
   "metadata": {},
   "source": [
    "# Composition:"
   ]
  },
  {
   "cell_type": "markdown",
   "id": "63cc6a30-5dd7-4bab-91af-470bec5c7a73",
   "metadata": {},
   "source": [
    "1. Explain the concept of composition in Python and how it is used to build complex objects from simpler ones."
   ]
  },
  {
   "cell_type": "markdown",
   "id": "874addd7-e985-48f5-9383-eb49f8b95f6f",
   "metadata": {},
   "source": [
    "Composition in Python refers to the practice of creating complex objects by combining simpler objects as components. Instead of inheriting behavior from parent classes, as in inheritance, composition involves creating objects that contain other objects as attributes. These contained objects are often referred to as \"components\" or \"parts\".\n",
    "\n",
    "Creating Complex Objects:\n",
    "Composition allows you to create complex objects by combining simpler objects together.\n",
    "Each component object encapsulates a specific functionality or piece of data, and the complex object aggregates these components to form a cohesive whole.\n",
    "\n",
    "Encapsulation:\n",
    "Composition promotes encapsulation by encapsulating the functionality of each component within its own class.\n",
    "Each component is responsible for a specific task or aspect of the overall functionality, and its implementation details are hidden from the outside world.\n",
    "\n",
    "Flexibility and Reusability:\n",
    "Composition promotes flexibility and reusability by allowing components to be reused in different contexts.\n",
    "Since components are standalone objects with well-defined interfaces, they can be easily reused in other complex objects or even in unrelated parts of the codebase.\n",
    "\n",
    "Loose Coupling:\n",
    "Composition encourages loose coupling between objects, as complex objects rely on the interfaces of their components rather than their internal implementations.\n",
    "Changes to the implementation of a component do not affect the complex object as long as the interface remains the same, promoting maintainability and modularity.\n",
    "\n",
    "Dynamic Composition:\n",
    "Composition allows for dynamic composition of objects at runtime.\n",
    "Complex objects can dynamically create, add, remove, or replace components based on the current requirements or conditions, allowing for greater flexibility and adaptability.\n",
    "\n",
    "Example:\n",
    "For example, consider a Car object composed of Engine, Wheel, and Body components. Each component is responsible for its specific functionality (e.g., the Engine component handles propulsion, the Wheel component handles movement, and the Body component handles structure).\n",
    "By combining these components together, you can create a Car object that exhibits the behavior of a functioning vehicle."
   ]
  },
  {
   "cell_type": "markdown",
   "id": "7f9b74c1-b104-47f5-b934-c1cfa85421ca",
   "metadata": {},
   "source": [
    "2. Describe the difference between composition and inheritance in object-oriented programming."
   ]
  },
  {
   "cell_type": "markdown",
   "id": "94d1208f-1f35-4766-a01d-fa08941ee54f",
   "metadata": {},
   "source": [
    "Composition:\n",
    "Composition involves creating complex objects by combining simpler objects as components.\n",
    "In composition, a class contains instances of other classes as attributes, and these instances are responsible for providing specific functionality to the containing class.\n",
    "The containing class delegates tasks to its component objects, and the components encapsulate their own behavior and state.\n",
    "\n",
    "Composition promotes loose coupling between classes, as the containing class relies on the interfaces of its component objects rather than their internal implementations.\n",
    "Example: A Car class composed of Engine, Wheel, and Body components.\n",
    "\n",
    "Inheritance:\n",
    "Inheritance involves creating a new class (subclass) based on an existing class (superclass), where the subclass inherits the behavior and attributes of the superclass.\n",
    "Subclasses extend or specialize the behavior of the superclass by adding new methods or overriding existing ones.\n",
    "Inheritance promotes code reuse by allowing subclasses to inherit common functionality from their superclasses.\n",
    "However, inheritance can lead to tight coupling between classes, as changes to the superclass may affect all its subclasses.\n",
    "\n",
    "\n",
    "Example: A Square class inheriting from a Rectangle class, where both share common attributes and methods related to shapes with four sides."
   ]
  },
  {
   "cell_type": "markdown",
   "id": "a0b29633-e366-4ded-95c9-e7b28db4c6a3",
   "metadata": {},
   "source": [
    "3. Create a Python class called `Author` with attributes for name and birthdate. Then, create a `Book` class\n",
    "that contains an instance of `Author` as a composition. Provide an example of creating a `Book` object."
   ]
  },
  {
   "cell_type": "code",
   "execution_count": 1,
   "id": "a79507cc-a4ca-4cb4-90cd-0671b1f49a7b",
   "metadata": {},
   "outputs": [
    {
     "name": "stdout",
     "output_type": "stream",
     "text": [
      "Title: The Great Gatsby\n",
      "Author: F. Scott Fitzgerald\n",
      "Author Birthdate: September 24, 1896\n"
     ]
    }
   ],
   "source": [
    "class Author:\n",
    "    def __init__(self, name, birthdate):\n",
    "        self.name = name\n",
    "        self.birthdate = birthdate\n",
    "\n",
    "class Book:\n",
    "    def __init__(self, title, author_name, author_birthdate):\n",
    "        self.title = title\n",
    "        self.author = Author(author_name, author_birthdate)\n",
    "\n",
    "    def display_info(self):\n",
    "        print(f\"Title: {self.title}\")\n",
    "        print(f\"Author: {self.author.name}\")\n",
    "        print(f\"Author Birthdate: {self.author.birthdate}\")\n",
    "\n",
    "book1 = Book(\"The Great Gatsby\", \"F. Scott Fitzgerald\", \"September 24, 1896\")\n",
    "book1.display_info()\n"
   ]
  },
  {
   "cell_type": "markdown",
   "id": "9c94ddf7-d728-444d-a085-ba64aea6a4b7",
   "metadata": {},
   "source": [
    "4. Discuss the benefits of using composition over inheritance in Python, especially in terms of code flexibility\n",
    "and reusability."
   ]
  },
  {
   "cell_type": "markdown",
   "id": "98607641-aa42-41b3-8ad4-f8c38d454d9b",
   "metadata": {},
   "source": [
    "Using composition over inheritance in Python offers several benefits, particularly in terms of code flexibility and reusability:\n",
    "\n",
    "Flexibility:\n",
    "Composition allows for greater flexibility in designing class relationships compared to inheritance. With composition, you can dynamically change the behavior of an object by altering its components at runtime.\n",
    "Objects can be composed of different combinations of components, allowing for more versatile and adaptable designs.\n",
    "Unlike inheritance, which creates a fixed hierarchy of classes, composition allows classes to be composed and recomposed in various ways to meet changing requirements.\n",
    "\n",
    "Code Reusability:\n",
    "Composition promotes code reusability by allowing components to be reused in different contexts. Since components are standalone objects with well-defined interfaces, they can be easily reused in other compositions or in unrelated parts of the codebase.\n",
    "Components can be developed independently and tested in isolation, making them more modular and reusable.\n",
    "\n",
    "Reduced Coupling:\n",
    "Composition typically results in looser coupling between classes compared to inheritance. Inheritance can create tight coupling between classes, as subclasses are tightly bound to their superclasses.\n",
    "With composition, classes interact with each other through well-defined interfaces, reducing dependencies and promoting modularity.\n",
    "Changes to one component do not affect other components as long as their interfaces remain consistent, leading to more maintainable and adaptable code.\n",
    "\n",
    "Avoiding Fragile Base Class Problem:\n",
    "Composition helps avoid the \"fragile base class problem,\" where changes to a superclass can inadvertently break subclasses that rely on its implementation details.\n",
    "Since composition does not involve subclassing, changes to one class do not affect other classes that use it as a component.\n",
    "\n",
    "Better Code Organization:\n",
    "Composition encourages better code organization by promoting modular design principles. Components encapsulate specific functionalities or behaviors, making it easier to understand and maintain complex systems.\n",
    "Each class focuses on a single responsibility, leading to cleaner and more maintainable code.\n",
    "\n",
    "Promotes Dependency Injection:\n",
    "Composition facilitates dependency injection, allowing dependencies to be injected into objects rather than hardcoded within them.\n",
    "This promotes decoupling and testability, as dependencies can be easily substituted or mocked during testing."
   ]
  },
  {
   "cell_type": "markdown",
   "id": "2b9f1011-f11e-4462-931b-976ebda8d751",
   "metadata": {},
   "source": [
    "5. How can you implement composition in Python classes? Provide examples of using composition to create\n",
    "complex objects."
   ]
  },
  {
   "cell_type": "markdown",
   "id": "452e935e-774e-4b46-81d1-1889697230b5",
   "metadata": {},
   "source": [
    "To implement composition in Python classes, you create a class that contains instances of other classes as attributes. These instances are typically referred to as \"components\" or \"parts\" and are responsible for providing specific functionality to the containing class. Here's how you can implement composition along with examples:"
   ]
  },
  {
   "cell_type": "code",
   "execution_count": 2,
   "id": "033c7147-060e-4be1-bd3e-6777dbf0628d",
   "metadata": {},
   "outputs": [
    {
     "name": "stdout",
     "output_type": "stream",
     "text": [
      "Car started.\n",
      "Engine started.\n"
     ]
    }
   ],
   "source": [
    "class Engine:\n",
    "    def start(self):\n",
    "        print(\"Engine started.\")\n",
    "\n",
    "class Car:\n",
    "    def __init__(self):\n",
    "        self.engine = Engine() \n",
    "    \n",
    "    def start(self):\n",
    "        print(\"Car started.\")\n",
    "        self.engine.start()  \n",
    "\n",
    "my_car = Car()\n",
    "my_car.start()\n"
   ]
  },
  {
   "cell_type": "markdown",
   "id": "8f9f08d3-fc45-4ba8-b6ed-8eae95c7320d",
   "metadata": {},
   "source": [
    "6. Create a Python class hierarchy for a music player system, using composition to represent playlists and\n",
    "songs."
   ]
  },
  {
   "cell_type": "code",
   "execution_count": 3,
   "id": "4502fde2-7f4e-4614-8409-e69ecb9c71de",
   "metadata": {},
   "outputs": [
    {
     "name": "stdout",
     "output_type": "stream",
     "text": [
      "Playing playlist: Favorites\n",
      "Playing 'Shape of You' by Ed Sheeran\n",
      "Playing 'Believer' by Imagine Dragons\n",
      "Playing playlist: Party Mix\n",
      "Playing 'Believer' by Imagine Dragons\n",
      "Playing 'Dance Monkey' by Tones and I\n"
     ]
    }
   ],
   "source": [
    "class Song:\n",
    "    def __init__(self, title, artist, duration):\n",
    "        self.title = title\n",
    "        self.artist = artist\n",
    "        self.duration = duration\n",
    "\n",
    "    def play(self):\n",
    "        print(f\"Playing '{self.title}' by {self.artist}\")\n",
    "\n",
    "class Playlist:\n",
    "    def __init__(self, name):\n",
    "        self.name = name\n",
    "        self.songs = []\n",
    "\n",
    "    def add_song(self, song):\n",
    "        self.songs.append(song)\n",
    "\n",
    "    def remove_song(self, song):\n",
    "        if song in self.songs:\n",
    "            self.songs.remove(song)\n",
    "            print(f\"Removed '{song.title}' from the playlist.\")\n",
    "        else:\n",
    "            print(f\"'{song.title}' is not in the playlist.\")\n",
    "\n",
    "    def play_all(self):\n",
    "        print(f\"Playing playlist: {self.name}\")\n",
    "        for song in self.songs:\n",
    "            song.play()\n",
    "\n",
    "song1 = Song(\"Shape of You\", \"Ed Sheeran\", \"4:23\")\n",
    "song2 = Song(\"Believer\", \"Imagine Dragons\", \"3:24\")\n",
    "song3 = Song(\"Dance Monkey\", \"Tones and I\", \"3:30\")\n",
    "\n",
    "playlist1 = Playlist(\"Favorites\")\n",
    "playlist1.add_song(song1)\n",
    "playlist1.add_song(song2)\n",
    "\n",
    "playlist2 = Playlist(\"Party Mix\")\n",
    "playlist2.add_song(song2)\n",
    "playlist2.add_song(song3)\n",
    "\n",
    "playlist1.play_all()\n",
    "playlist2.play_all()\n"
   ]
  },
  {
   "cell_type": "markdown",
   "id": "73e64bae-447a-4cf7-9d87-6f4e06fb5a01",
   "metadata": {},
   "source": [
    "7. Explain the concept of \"has-a\" relationships in composition and how it helps design software systems."
   ]
  },
  {
   "cell_type": "markdown",
   "id": "5141c88e-8f3b-46e9-9998-0152411d7c71",
   "metadata": {},
   "source": [
    "In object-oriented programming, the \"has-a\" relationship in composition refers to the relationship between classes where one class contains an instance of another class as a component or part. This relationship is often described as \"Class A has a Class B\" or \"Class A contains a Class B.\" Here's how the \"has-a\" relationship helps design software systems:\n",
    "\n",
    "Modularity and Encapsulation:\n",
    "The \"has-a\" relationship promotes modularity and encapsulation by allowing classes to be broken down into smaller, more manageable components.\n",
    "Each component encapsulates a specific functionality or behavior, and the containing class delegates tasks to its component objects, maintaining a clear separation of concerns.\n",
    "\n",
    "Code Reusability:\n",
    "Composition facilitates code reusability by allowing components to be reused in different contexts.\n",
    "Since components are standalone objects with well-defined interfaces, they can be easily reused in other compositions or in unrelated parts of the codebase, leading to more modular and reusable code.\n",
    "\n",
    "Flexibility and Adaptability:\n",
    "The \"has-a\" relationship provides flexibility and adaptability in designing software systems.\n",
    "Complex objects can be built dynamically by combining different components, allowing for versatile and adaptable designs that can evolve over time to meet changing requirements.\n",
    "\n",
    "Loose Coupling:\n",
    "Composition typically leads to looser coupling between classes compared to inheritance.\n",
    "Objects interact with each other through well-defined interfaces, reducing dependencies and promoting modularity.\n",
    "Changes to one component do not affect other components as long as their interfaces remain consistent, leading to more maintainable and adaptable code.\n",
    "\n",
    "Avoidance of Fragile Base Class Problem:\n",
    "Composition helps avoid the \"fragile base class problem,\" where changes to a superclass can inadvertently break subclasses that rely on its implementation details.\n",
    "Since composition does not involve subclassing, changes to one class do not affect other classes that use it as a component, reducing the risk of unintended side effects.\n",
    "\n",
    "Enhanced Testing and Debugging:\n",
    "Composition promotes better testing and debugging practices by allowing components to be tested and debugged in isolation.\n",
    "Each component can be tested independently, making it easier to identify and fix issues within the system."
   ]
  },
  {
   "cell_type": "markdown",
   "id": "f871e481-fd0c-4aeb-ad94-f9d124d3505a",
   "metadata": {},
   "source": [
    "8. Create a Python class for a computer system, using composition to represent components like CPU, RAM,\n",
    "and storage devices."
   ]
  },
  {
   "cell_type": "code",
   "execution_count": 4,
   "id": "07e27f04-39ec-4fd9-b2bd-b8e702fbbf6d",
   "metadata": {},
   "outputs": [
    {
     "name": "stdout",
     "output_type": "stream",
     "text": [
      "Computer Specifications:\n",
      "CPU: Intel, Cores: 8, Clock Speed: 3.5 GHz\n",
      "RAM: 16 GB, Speed: 3200 MHz\n",
      "Storage: 512 GB, Type: SSD\n"
     ]
    }
   ],
   "source": [
    "class CPU:\n",
    "    def __init__(self, brand, cores, clock_speed):\n",
    "        self.brand = brand\n",
    "        self.cores = cores\n",
    "        self.clock_speed = clock_speed\n",
    "\n",
    "    def info(self):\n",
    "        print(f\"CPU: {self.brand}, Cores: {self.cores}, Clock Speed: {self.clock_speed} GHz\")\n",
    "\n",
    "class RAM:\n",
    "    def __init__(self, capacity, speed):\n",
    "        self.capacity = capacity\n",
    "        self.speed = speed\n",
    "\n",
    "    def info(self):\n",
    "        print(f\"RAM: {self.capacity} GB, Speed: {self.speed} MHz\")\n",
    "\n",
    "class Storage:\n",
    "    def __init__(self, capacity, type):\n",
    "        self.capacity = capacity\n",
    "        self.type = type\n",
    "\n",
    "    def info(self):\n",
    "        print(f\"Storage: {self.capacity} GB, Type: {self.type}\")\n",
    "\n",
    "class Computer:\n",
    "    def __init__(self, cpu, ram, storage):\n",
    "        self.cpu = cpu\n",
    "        self.ram = ram\n",
    "        self.storage = storage\n",
    "\n",
    "    def specs(self):\n",
    "        print(\"Computer Specifications:\")\n",
    "        self.cpu.info()\n",
    "        self.ram.info()\n",
    "        self.storage.info()\n",
    "\n",
    "# Example usage\n",
    "cpu = CPU(\"Intel\", 8, 3.5)\n",
    "ram = RAM(16, 3200)\n",
    "storage = Storage(512, \"SSD\")\n",
    "\n",
    "my_computer = Computer(cpu, ram, storage)\n",
    "my_computer.specs()\n"
   ]
  },
  {
   "cell_type": "markdown",
   "id": "bc96a874-36e7-4201-9d6f-171e17f38640",
   "metadata": {},
   "source": [
    "9. Describe the concept of \"delegation\" in composition and how it simplifies the design of complex systems."
   ]
  },
  {
   "cell_type": "markdown",
   "id": "4c98e198-5f12-4b30-b51c-9dbb9c03bc62",
   "metadata": {},
   "source": [
    "In composition, delegation refers to the process of delegating tasks or responsibilities to component objects within a containing object. Instead of implementing functionality directly in the containing object, it delegates the task to one or more of its component objects, which are specialized to handle those tasks. This approach simplifies the design of complex systems in several ways:\n",
    "\n",
    "\n",
    "Modularity and Encapsulation:\n",
    "Delegation promotes modularity and encapsulation by allowing each component object to encapsulate a specific functionality or behavior.\n",
    "Each component object focuses on a single responsibility, making it easier to understand, maintain, and extend the codebase.\n",
    "\n",
    "Code Reusability:\n",
    "Delegation facilitates code reusability by allowing component objects to be reused in different contexts.\n",
    "Since components are standalone objects with well-defined interfaces, they can be easily reused in other compositions or in unrelated parts of the codebase, leading to more modular and reusable code.\n",
    "\n",
    "Flexibility and Adaptability:\n",
    "Delegation provides flexibility and adaptability in designing complex systems.\n",
    "Tasks can be dynamically delegated to different components based on runtime conditions or configuration settings, allowing for versatile and adaptable designs that can evolve over time to meet changing requirements.\n",
    "\n",
    "Reduced Complexity:\n",
    "Delegation helps reduce the complexity of the containing object by breaking down complex tasks into smaller, more manageable components.\n",
    "Each component is responsible for a specific aspect of functionality, leading to simpler and more focused code within the containing object.\n",
    "\n",
    "Loose Coupling:\n",
    "Delegation typically results in looser coupling between objects compared to other design patterns like inheritance.\n",
    "Objects interact with each other through well-defined interfaces, reducing dependencies and promoting modularity and flexibility.\n",
    "\n",
    "Enhanced Testing and Debugging:\n",
    "Delegation promotes better testing and debugging practices by allowing component objects to be tested and debugged in isolation.\n",
    "Each component can be tested independently, making it easier to identify and fix issues within the system."
   ]
  },
  {
   "cell_type": "markdown",
   "id": "066fc8fd-db74-400b-9974-09e1ee9c64f6",
   "metadata": {},
   "source": [
    "10. Create a Python class for a car, using composition to represent components like the engine, wheels, and\n",
    "transmission."
   ]
  },
  {
   "cell_type": "code",
   "execution_count": 5,
   "id": "243ac064-9a5b-471d-83c2-d5f4fa270e00",
   "metadata": {},
   "outputs": [
    {
     "name": "stdout",
     "output_type": "stream",
     "text": [
      "Toyota Camry started.\n",
      "Engine started.\n",
      "Toyota Camry is driving.\n",
      "Shifted to gear Drive.\n",
      "Wheel rotating.\n",
      "Wheel rotating.\n",
      "Wheel rotating.\n",
      "Wheel rotating.\n",
      "Toyota Camry stopped.\n",
      "Engine stopped.\n"
     ]
    }
   ],
   "source": [
    "class Engine:\n",
    "    def __init__(self, horsepower, cylinders):\n",
    "        self.horsepower = horsepower\n",
    "        self.cylinders = cylinders\n",
    "\n",
    "    def start(self):\n",
    "        print(\"Engine started.\")\n",
    "\n",
    "    def stop(self):\n",
    "        print(\"Engine stopped.\")\n",
    "\n",
    "class Wheel:\n",
    "    def __init__(self, size, material):\n",
    "        self.size = size\n",
    "        self.material = material\n",
    "\n",
    "    def rotate(self):\n",
    "        print(\"Wheel rotating.\")\n",
    "\n",
    "class Transmission:\n",
    "    def __init__(self, type):\n",
    "        self.type = type\n",
    "\n",
    "    def shift_gear(self, gear):\n",
    "        print(f\"Shifted to gear {gear}.\")\n",
    "\n",
    "class Car:\n",
    "    def __init__(self, make, model, year, engine, wheels, transmission):\n",
    "        self.make = make\n",
    "        self.model = model\n",
    "        self.year = year\n",
    "        self.engine = engine\n",
    "        self.wheels = wheels\n",
    "        self.transmission = transmission\n",
    "\n",
    "    def start(self):\n",
    "        print(f\"{self.make} {self.model} started.\")\n",
    "        self.engine.start()\n",
    "\n",
    "    def stop(self):\n",
    "        print(f\"{self.make} {self.model} stopped.\")\n",
    "        self.engine.stop()\n",
    "\n",
    "    def drive(self):\n",
    "        print(f\"{self.make} {self.model} is driving.\")\n",
    "        self.transmission.shift_gear(\"Drive\")\n",
    "        for wheel in self.wheels:\n",
    "            wheel.rotate()\n",
    "\n",
    "# Example usage\n",
    "engine = Engine(200, 4)\n",
    "wheels = [Wheel(18, \"Alloy\") for _ in range(4)]\n",
    "transmission = Transmission(\"Automatic\")\n",
    "\n",
    "my_car = Car(\"Toyota\", \"Camry\", 2022, engine, wheels, transmission)\n",
    "my_car.start()\n",
    "my_car.drive()\n",
    "my_car.stop()\n"
   ]
  },
  {
   "cell_type": "markdown",
   "id": "3458560e-dd70-43ab-b6c9-816a760c57e0",
   "metadata": {},
   "source": [
    "11. How can you encapsulate and hide the details of composed objects in Python classes to maintain\n",
    "abstraction?"
   ]
  },
  {
   "cell_type": "code",
   "execution_count": 6,
   "id": "769bfdc1-9448-401d-acb6-018ed6e522c4",
   "metadata": {},
   "outputs": [
    {
     "name": "stdout",
     "output_type": "stream",
     "text": [
      "Toyota Camry started.\n",
      "Engine started.\n",
      "Engine Horsepower: 200\n",
      "Toyota Camry stopped.\n",
      "Engine stopped.\n"
     ]
    }
   ],
   "source": [
    "class Engine:\n",
    "    def __init__(self, horsepower):\n",
    "        self.__horsepower = horsepower\n",
    "\n",
    "    def start(self):\n",
    "        print(\"Engine started.\")\n",
    "\n",
    "    def stop(self):\n",
    "        print(\"Engine stopped.\")\n",
    "\n",
    "    def get_horsepower(self):\n",
    "        return self.__horsepower\n",
    "\n",
    "class Car:\n",
    "    def __init__(self, make, model, engine_horsepower):\n",
    "        self.make = make\n",
    "        self.model = model\n",
    "        self.__engine = Engine(engine_horsepower)\n",
    "        \n",
    "\n",
    "    def start(self):\n",
    "        print(f\"{self.make} {self.model} started.\")\n",
    "        self.__engine.start()\n",
    "\n",
    "    def stop(self):\n",
    "        print(f\"{self.make} {self.model} stopped.\")\n",
    "        self.__engine.stop()\n",
    "\n",
    "    def get_engine_horsepower(self):\n",
    "        return self.__engine.get_horsepower()\n",
    "\n",
    "my_car = Car(\"Toyota\", \"Camry\", 200)\n",
    "my_car.start()\n",
    "print(\"Engine Horsepower:\", my_car.get_engine_horsepower())\n",
    "my_car.stop()\n"
   ]
  },
  {
   "cell_type": "markdown",
   "id": "76e2396d-fc0b-4bd7-8b45-acabdce6e607",
   "metadata": {},
   "source": [
    "12. Create a Python class for a university course, using composition to represent students, instructors, and\n",
    "course materials."
   ]
  },
  {
   "cell_type": "code",
   "execution_count": 7,
   "id": "d1a53489-334d-4d96-9fd0-7134cf2076e6",
   "metadata": {},
   "outputs": [
    {
     "name": "stdout",
     "output_type": "stream",
     "text": [
      "Course Code: CS101, Title: Introduction to Computer Science, Instructor: Instructor ID: 101, Name: Dr. Smith, Students: [<__main__.Student object at 0x7f3c23702410>, <__main__.Student object at 0x7f3c23700cd0>], Course Material: Textbook: Introduction to Python, Slides: Week 1 Slides\n"
     ]
    }
   ],
   "source": [
    "class Student:\n",
    "    def __init__(self, student_id, name):\n",
    "        self.student_id = student_id\n",
    "        self.name = name\n",
    "\n",
    "    def enroll(self, course):\n",
    "        course.add_student(self)\n",
    "\n",
    "    def __str__(self):\n",
    "        return f\"Student ID: {self.student_id}, Name: {self.name}\"\n",
    "\n",
    "class Instructor:\n",
    "    def __init__(self, instructor_id, name):\n",
    "        self.instructor_id = instructor_id\n",
    "        self.name = name\n",
    "\n",
    "    def assign_course(self, course):\n",
    "        course.set_instructor(self)\n",
    "\n",
    "    def __str__(self):\n",
    "        return f\"Instructor ID: {self.instructor_id}, Name: {self.name}\"\n",
    "\n",
    "class CourseMaterial:\n",
    "    def __init__(self, textbook, slides):\n",
    "        self.textbook = textbook\n",
    "        self.slides = slides\n",
    "\n",
    "    def __str__(self):\n",
    "        return f\"Textbook: {self.textbook}, Slides: {self.slides}\"\n",
    "\n",
    "class Course:\n",
    "    def __init__(self, course_code, title):\n",
    "        self.course_code = course_code\n",
    "        self.title = title\n",
    "        self.students = []\n",
    "        self.instructor = None\n",
    "        self.course_material = None\n",
    "\n",
    "    def add_student(self, student):\n",
    "        self.students.append(student)\n",
    "\n",
    "    def set_instructor(self, instructor):\n",
    "        self.instructor = instructor\n",
    "\n",
    "    def set_course_material(self, course_material):\n",
    "        self.course_material = course_material\n",
    "\n",
    "    def __str__(self):\n",
    "        return f\"Course Code: {self.course_code}, Title: {self.title}, Instructor: {self.instructor}, Students: {self.students}, Course Material: {self.course_material}\"\n",
    "\n",
    "# Example usage\n",
    "student1 = Student(1, \"Alice\")\n",
    "student2 = Student(2, \"Bob\")\n",
    "instructor = Instructor(101, \"Dr. Smith\")\n",
    "course_material = CourseMaterial(\"Introduction to Python\", \"Week 1 Slides\")\n",
    "course = Course(\"CS101\", \"Introduction to Computer Science\")\n",
    "student1.enroll(course)\n",
    "student2.enroll(course)\n",
    "instructor.assign_course(course)\n",
    "course.set_course_material(course_material)\n",
    "\n",
    "print(course)\n"
   ]
  },
  {
   "cell_type": "markdown",
   "id": "cf6f7b8b-dfdf-4946-a826-1650bede7166",
   "metadata": {},
   "source": [
    "13. Discuss the challenges and drawbacks of composition, such as increased complexity and potential for\n",
    "tight coupling between objects."
   ]
  },
  {
   "cell_type": "markdown",
   "id": "0b852860-9f12-4085-8d5b-4281290b0676",
   "metadata": {},
   "source": [
    "Increased Complexity: Using composition can sometimes lead to increased complexity in the codebase, especially when dealing with deeply nested compositions. Managing the relationships between different objects and understanding their interactions can become more challenging as the complexity of the composition grows.\n",
    "\n",
    "Potential for Tight Coupling: Composition can lead to tight coupling between objects if not implemented carefully. Tight coupling occurs when the behavior of one object relies heavily on the internal details of another object. This can make the code harder to maintain, refactor, and test since changes to one object may require modifications to many other objects.\n",
    "\n",
    "Object Lifecycle Management: When using composition, managing the lifecycle of composed objects can be complex. Objects must be created, initialized, and destroyed in a way that ensures proper resource management and avoids memory leaks or dangling references. Managing object lifecycles becomes more challenging when objects have complex dependencies or circular references.\n",
    "\n",
    "Performance Overhead: Composition can introduce performance overhead, especially when dealing with large object graphs. Each level of composition adds a layer of indirection and overhead, which can impact the runtime performance of the application. While this overhead may be negligible in many cases, it can become significant in performance-critical applications.\n",
    "\n",
    "Code Duplication: In some cases, composition may lead to code duplication if multiple objects share similar behavior or functionality. Each object may implement its own version of the same behavior, leading to redundant code and potential maintenance issues.\n",
    "\n",
    "Complexity of Object Creation: Creating and configuring objects in a composition can be complex, especially when dealing with dependencies between objects. Managing object creation and ensuring that objects are properly initialized with their dependencies can require careful design and implementation.\n",
    "\n",
    "\n",
    "Debugging and Error Handling: Debugging and error handling in a composition can be more challenging than in simpler designs. Identifying the root cause of bugs or errors may require tracing through multiple layers of composition, making it harder to isolate and fix issues."
   ]
  },
  {
   "cell_type": "markdown",
   "id": "ea9962e7-c482-45bc-bbe6-030118224f00",
   "metadata": {},
   "source": [
    "14. Create a Python class hierarchy for a restaurant system, using composition to represent menus, dishes,\n",
    "and ingredients."
   ]
  },
  {
   "cell_type": "code",
   "execution_count": 8,
   "id": "cefac8e2-8801-47c2-91e6-7e0fe09d958a",
   "metadata": {},
   "outputs": [
    {
     "name": "stdout",
     "output_type": "stream",
     "text": [
      "Menu: Italian Cuisine\n",
      "- Margherita Pizza: 2 Tomato, 200 Cheese, 300 Dough, 1 Basil\n",
      "- Chicken Curry: 300 Chicken, 150 Bell Pepper, 100 Onion, 50 Spices\n"
     ]
    }
   ],
   "source": [
    "class Ingredient:\n",
    "    def __init__(self, name, quantity):\n",
    "        self.name = name\n",
    "        self.quantity = quantity\n",
    "\n",
    "    def __str__(self):\n",
    "        return f\"{self.quantity} {self.name}\"\n",
    "\n",
    "class Dish:\n",
    "    def __init__(self, name, ingredients):\n",
    "        self.name = name\n",
    "        self.ingredients = ingredients\n",
    "\n",
    "    def __str__(self):\n",
    "        return f\"{self.name}: {', '.join(str(ingredient) for ingredient in self.ingredients)}\"\n",
    "\n",
    "class Menu:\n",
    "    def __init__(self, name, dishes):\n",
    "        self.name = name\n",
    "        self.dishes = dishes\n",
    "\n",
    "    def __str__(self):\n",
    "        menu_str = f\"Menu: {self.name}\\n\"\n",
    "        menu_str += \"\\n\".join(f\"- {dish}\" for dish in self.dishes)\n",
    "        return menu_str\n",
    "\n",
    "ingredient1 = Ingredient(\"Tomato\", 2)\n",
    "ingredient2 = Ingredient(\"Cheese\", 200)\n",
    "ingredient3 = Ingredient(\"Dough\", 300)\n",
    "ingredient4 = Ingredient(\"Basil\", 1)\n",
    "pizza = Dish(\"Margherita Pizza\", [ingredient1, ingredient2, ingredient3, ingredient4])\n",
    "\n",
    "ingredient5 = Ingredient(\"Chicken\", 300)\n",
    "ingredient6 = Ingredient(\"Bell Pepper\", 150)\n",
    "ingredient7 = Ingredient(\"Onion\", 100)\n",
    "ingredient8 = Ingredient(\"Spices\", 50)\n",
    "curry = Dish(\"Chicken Curry\", [ingredient5, ingredient6, ingredient7, ingredient8])\n",
    "\n",
    "menu = Menu(\"Italian Cuisine\", [pizza, curry])\n",
    "print(menu)\n"
   ]
  },
  {
   "cell_type": "markdown",
   "id": "fe6a9a16-8ce3-4140-91f2-3e1201946622",
   "metadata": {},
   "source": [
    "15. Explain how composition enhances code maintainability and modularity in Python programs."
   ]
  },
  {
   "cell_type": "markdown",
   "id": "ab1e21ea-16dd-4270-bf22-c76aa82c47bd",
   "metadata": {},
   "source": [
    "\n",
    "Composition enhances code maintainability and modularity in Python programs in several ways:\n",
    "\n",
    "Separation of Concerns: Composition allows you to break down complex systems into smaller, more manageable components. Each component is responsible for a specific aspect of the functionality, leading to a clear separation of concerns. This makes it easier to understand and maintain the codebase since each component focuses on a single task.\n",
    "\n",
    "Code Reusability: With composition, you can reuse existing components across different parts of your codebase. Instead of duplicating code or functionality, you can compose objects from reusable components, reducing redundancy and promoting code reusability. This leads to cleaner, more concise code that is easier to maintain and extend.\n",
    "\n",
    "Flexibility and Scalability: Composition makes it easier to add new features or modify existing ones without impacting the entire codebase. By composing objects from smaller, independent components, you can make changes to individual components without affecting other parts of the system. This promotes flexibility and scalability, allowing your codebase to evolve over time as requirements change.\n",
    "\n",
    "Encapsulation of Complexity: Composition allows you to encapsulate complex functionality within individual components. Each component hides its internal implementation details behind a well-defined interface, exposing only the functionality that is necessary for other components to interact with it. This encapsulation of complexity makes the codebase easier to understand and maintain, as developers can focus on high-level interactions without getting bogged down in implementation details.\n",
    "\n",
    "Modularity and Testing: Composition promotes modularity by encouraging you to design your codebase as a collection of loosely-coupled modules. Each module encapsulates a specific set of functionality, making it easier to reason about and test in isolation. This modular design makes it easier to write unit tests for individual components, leading to more robust and maintainable code."
   ]
  },
  {
   "cell_type": "markdown",
   "id": "06f93b24-9b97-42e7-9db7-945d4c3f048c",
   "metadata": {},
   "source": [
    "16. Create a Python class for a computer game character, using composition to represent attributes like\n",
    "weapons, armor, and inventory."
   ]
  },
  {
   "cell_type": "code",
   "execution_count": 9,
   "id": "ff96c604-f0ae-49e7-9d15-165e60773675",
   "metadata": {},
   "outputs": [
    {
     "name": "stdout",
     "output_type": "stream",
     "text": [
      "Character: Hero\n",
      "Weapon: Sword (Damage: 20)\n",
      "Armor: Shield (Defense: 10)\n",
      "Inventory:\n",
      "Health Potion\n",
      "Mana Potion\n"
     ]
    }
   ],
   "source": [
    "class Weapon:\n",
    "    def __init__(self, name, damage):\n",
    "        self.name = name\n",
    "        self.damage = damage\n",
    "\n",
    "    def __str__(self):\n",
    "        return f\"{self.name} (Damage: {self.damage})\"\n",
    "\n",
    "class Armor:\n",
    "    def __init__(self, name, defense):\n",
    "        self.name = name\n",
    "        self.defense = defense\n",
    "\n",
    "    def __str__(self):\n",
    "        return f\"{self.name} (Defense: {self.defense})\"\n",
    "\n",
    "class Inventory:\n",
    "    def __init__(self):\n",
    "        self.items = []\n",
    "\n",
    "    def add_item(self, item):\n",
    "        self.items.append(item)\n",
    "\n",
    "    def __str__(self):\n",
    "        if self.items:\n",
    "            return \"Inventory:\\n\" + \"\\n\".join(str(item) for item in self.items)\n",
    "        else:\n",
    "            return \"Inventory is empty\"\n",
    "\n",
    "class Character:\n",
    "    def __init__(self, name):\n",
    "        self.name = name\n",
    "        self.weapon = None\n",
    "        self.armor = None\n",
    "        self.inventory = Inventory()\n",
    "\n",
    "    def equip_weapon(self, weapon):\n",
    "        self.weapon = weapon\n",
    "\n",
    "    def equip_armor(self, armor):\n",
    "        self.armor = armor\n",
    "\n",
    "    def __str__(self):\n",
    "        character_str = f\"Character: {self.name}\\n\"\n",
    "        if self.weapon:\n",
    "            character_str += f\"Weapon: {self.weapon}\\n\"\n",
    "        if self.armor:\n",
    "            character_str += f\"Armor: {self.armor}\\n\"\n",
    "        character_str += str(self.inventory)\n",
    "        return character_str\n",
    "\n",
    "sword = Weapon(\"Sword\", 20)\n",
    "shield = Armor(\"Shield\", 10)\n",
    "character = Character(\"Hero\")\n",
    "character.equip_weapon(sword)\n",
    "character.equip_armor(shield)\n",
    "character.inventory.add_item(\"Health Potion\")\n",
    "character.inventory.add_item(\"Mana Potion\")\n",
    "print(character)\n"
   ]
  },
  {
   "cell_type": "markdown",
   "id": "02480859-78f2-43df-8508-be291a5ef77b",
   "metadata": {},
   "source": [
    "17. Describe the concept of \"aggregation\" in composition and how it differs from simple composition."
   ]
  },
  {
   "cell_type": "markdown",
   "id": "9cd4e2a8-980a-46c0-b6af-c82a822fe42c",
   "metadata": {},
   "source": [
    "In the context of object-oriented programming, \"aggregation\" is a form of composition where one object (the whole) contains references to other objects (the parts), but the lifecycle of the parts is not strictly tied to the lifecycle of the whole. This means that the parts can exist independently of the whole, and they can be shared among multiple wholes.\n",
    "\n",
    "Lifecycle Dependency: In simple composition, the lifecycle of the parts is tightly coupled with the lifecycle of the whole. This means that when the whole is destroyed, the parts are also destroyed. In contrast, in aggregation, the parts can exist independently of the whole. They may be created before the whole is created, and they may continue to exist after the whole is destroyed.\n",
    "\n",
    "Ownership: In simple composition, the whole owns the parts, and the parts typically cannot exist without the whole. In aggregation, the whole may contain references to the parts, but it does not necessarily own them. The parts may be shared among multiple wholes, and they may have their own independent lifecycle.\n",
    "\n",
    "Multiplicity: In aggregation, the relationship between the whole and the parts is often one-to-many or many-to-many, meaning that one whole can contain multiple parts, and one part can be shared among multiple wholes. In simple composition, the relationship is typically one-to-one, meaning that each whole contains exactly one part.\n",
    "\n",
    "Flexibility: Aggregation provides more flexibility than simple composition because it allows parts to be shared among multiple wholes. This can lead to more efficient use of resources and better support for complex relationships between objects."
   ]
  },
  {
   "cell_type": "markdown",
   "id": "98f401d1-5043-46e2-b0c8-0f489c3187e2",
   "metadata": {},
   "source": [
    "18. Create a Python class for a house, using composition to represent rooms, furniture, and appliances."
   ]
  },
  {
   "cell_type": "code",
   "execution_count": 10,
   "id": "5a2d11e4-e23b-41e1-8d15-25a0525a783e",
   "metadata": {},
   "outputs": [
    {
     "name": "stdout",
     "output_type": "stream",
     "text": [
      "House: My House\n",
      "Kitchen:\n",
      "Furniture:\n",
      "Table, Chairs\n",
      "Appliances:\n",
      "Refrigerator, Microwave\n",
      "\n",
      "Living Room:\n",
      "Furniture:\n",
      "Sofa, TV Stand\n",
      "Appliances:\n",
      "Television\n",
      "\n"
     ]
    }
   ],
   "source": [
    "class Furniture:\n",
    "    def __init__(self, name):\n",
    "        self.name = name\n",
    "\n",
    "    def __str__(self):\n",
    "        return f\"{self.name}\"\n",
    "\n",
    "class Appliance:\n",
    "    def __init__(self, name):\n",
    "        self.name = name\n",
    "\n",
    "    def __str__(self):\n",
    "        return f\"{self.name}\"\n",
    "\n",
    "class Room:\n",
    "    def __init__(self, name):\n",
    "        self.name = name\n",
    "        self.furniture = []\n",
    "        self.appliances = []\n",
    "\n",
    "    def add_furniture(self, furniture):\n",
    "        self.furniture.append(furniture)\n",
    "\n",
    "    def add_appliance(self, appliance):\n",
    "        self.appliances.append(appliance)\n",
    "\n",
    "    def __str__(self):\n",
    "        room_str = f\"{self.name}:\\n\"\n",
    "        if self.furniture:\n",
    "            room_str += \"Furniture:\\n\"\n",
    "            room_str += \", \".join(str(item) for item in self.furniture) + \"\\n\"\n",
    "        if self.appliances:\n",
    "            room_str += \"Appliances:\\n\"\n",
    "            room_str += \", \".join(str(item) for item in self.appliances) + \"\\n\"\n",
    "        return room_str\n",
    "\n",
    "class House:\n",
    "    def __init__(self, name):\n",
    "        self.name = name\n",
    "        self.rooms = []\n",
    "\n",
    "    def add_room(self, room):\n",
    "        self.rooms.append(room)\n",
    "\n",
    "    def __str__(self):\n",
    "        house_str = f\"House: {self.name}\\n\"\n",
    "        house_str += \"\\n\".join(str(room) for room in self.rooms)\n",
    "        return house_str\n",
    "\n",
    "kitchen = Room(\"Kitchen\")\n",
    "kitchen.add_furniture(Furniture(\"Table\"))\n",
    "kitchen.add_furniture(Furniture(\"Chairs\"))\n",
    "kitchen.add_appliance(Appliance(\"Refrigerator\"))\n",
    "kitchen.add_appliance(Appliance(\"Microwave\"))\n",
    "\n",
    "living_room = Room(\"Living Room\")\n",
    "living_room.add_furniture(Furniture(\"Sofa\"))\n",
    "living_room.add_furniture(Furniture(\"TV Stand\"))\n",
    "living_room.add_appliance(Appliance(\"Television\"))\n",
    "\n",
    "house = House(\"My House\")\n",
    "house.add_room(kitchen)\n",
    "house.add_room(living_room)\n",
    "\n",
    "print(house)"
   ]
  },
  {
   "cell_type": "markdown",
   "id": "5e39a67a-193a-4fc6-bed6-c75e86a73a40",
   "metadata": {},
   "source": [
    "19. How can you achieve flexibility in composed objects by allowing them to be replaced or modified\n",
    "dynamically at runtime?"
   ]
  },
  {
   "cell_type": "markdown",
   "id": "e4a67775-224c-4385-8978-ec6b48478506",
   "metadata": {},
   "source": [
    "Dynamic Composition: Implement dynamic composition by providing methods to add, remove, or replace components within the composed object. This allows you to modify the composition of the object at runtime based on changing requirements.\n",
    "\n",
    "Interfaces or Abstract Base Classes (ABCs): Define interfaces or abstract base classes for the components that can be composed within the object. This allows you to replace components with alternative implementations that adhere to the same interface, enabling runtime flexibility.\n",
    "\n",
    "Dependency Injection: Use dependency injection to inject components into the composed object at runtime. This allows you to decouple the creation and configuration of components from the composed object, making it easier to replace or modify components dynamically.\n",
    "\n",
    "Factory Pattern: Implement a factory pattern to dynamically create and configure components based on runtime conditions. This allows you to switch between different implementations of components at runtime, providing flexibility in the composition of the object.\n",
    "\n",
    "Decorator Pattern: Use the decorator pattern to dynamically add additional functionality to components or the composed object at runtime. This allows you to modify the behavior of the object without changing its structure, providing flexibility in functionality.\n",
    "\n",
    "Configuration Management: Use configuration files or settings to specify the composition of the object at runtime. This allows you to modify the composition of the object without modifying the code, providing flexibility in configuration."
   ]
  },
  {
   "cell_type": "markdown",
   "id": "adc371b6-12ea-4180-bac9-caca4a5e910d",
   "metadata": {},
   "source": [
    "20. Create a Python class for a social media application, using composition to represent users, posts, and\n",
    "comments."
   ]
  },
  {
   "cell_type": "code",
   "execution_count": 11,
   "id": "cac477a9-bb0f-4daf-8698-1f55f9fc1d22",
   "metadata": {},
   "outputs": [
    {
     "name": "stdout",
     "output_type": "stream",
     "text": [
      "User: Alice\n",
      "Posts:\n",
      "Alice:\n",
      "Hello, world!\n",
      "Comments:\n",
      "Charlie: Nice post!\n",
      "David: Keep up the good work!\n",
      "\n",
      "User: Bob\n",
      "Posts:\n",
      "Bob:\n",
      "Python is awesome!\n",
      "Comments:\n",
      "Eve: I agree!\n",
      "\n"
     ]
    }
   ],
   "source": [
    "class Comment:\n",
    "    def __init__(self, text, author):\n",
    "        self.text = text\n",
    "        self.author = author\n",
    "\n",
    "    def __str__(self):\n",
    "        return f\"{self.author}: {self.text}\"\n",
    "\n",
    "class Post:\n",
    "    def __init__(self, content, author):\n",
    "        self.content = content\n",
    "        self.author = author\n",
    "        self.comments = []\n",
    "\n",
    "    def add_comment(self, comment):\n",
    "        self.comments.append(comment)\n",
    "\n",
    "    def __str__(self):\n",
    "        post_str = f\"{self.author}:\\n{self.content}\\n\"\n",
    "        if self.comments:\n",
    "            post_str += \"Comments:\\n\"\n",
    "            post_str += \"\\n\".join(str(comment) for comment in self.comments) + \"\\n\"\n",
    "        return post_str\n",
    "\n",
    "class User:\n",
    "    def __init__(self, username):\n",
    "        self.username = username\n",
    "        self.posts = []\n",
    "\n",
    "    def create_post(self, content):\n",
    "        post = Post(content, self.username)\n",
    "        self.posts.append(post)\n",
    "        return post\n",
    "\n",
    "    def __str__(self):\n",
    "        return f\"User: {self.username}\\nPosts:\\n\" + \"\\n\".join(str(post) for post in self.posts)\n",
    "\n",
    "user1 = User(\"Alice\")\n",
    "user2 = User(\"Bob\")\n",
    "\n",
    "post1 = user1.create_post(\"Hello, world!\")\n",
    "post1.add_comment(Comment(\"Nice post!\", \"Charlie\"))\n",
    "post1.add_comment(Comment(\"Keep up the good work!\", \"David\"))\n",
    "\n",
    "post2 = user2.create_post(\"Python is awesome!\")\n",
    "post2.add_comment(Comment(\"I agree!\", \"Eve\"))\n",
    "\n",
    "print(user1)\n",
    "print(user2)"
   ]
  },
  {
   "cell_type": "markdown",
   "id": "fcd40ee6-bd60-47d1-ad85-454c7626733f",
   "metadata": {},
   "source": [
    "# Thank You!"
   ]
  }
 ],
 "metadata": {
  "kernelspec": {
   "display_name": "Python 3 (ipykernel)",
   "language": "python",
   "name": "python3"
  },
  "language_info": {
   "codemirror_mode": {
    "name": "ipython",
    "version": 3
   },
   "file_extension": ".py",
   "mimetype": "text/x-python",
   "name": "python",
   "nbconvert_exporter": "python",
   "pygments_lexer": "ipython3",
   "version": "3.10.8"
  }
 },
 "nbformat": 4,
 "nbformat_minor": 5
}
