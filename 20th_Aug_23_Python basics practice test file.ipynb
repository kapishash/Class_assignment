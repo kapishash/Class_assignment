{
 "cells": [
  {
   "cell_type": "markdown",
   "id": "faddd167-ce93-4157-93f2-0f915a763ace",
   "metadata": {},
   "source": [
    "# 20TH AUG ASSIGNMENT SOLUTION\n"
   ]
  },
  {
   "cell_type": "markdown",
   "id": "0d0e125b-7cf4-46c6-b590-1a5720fa2f7a",
   "metadata": {},
   "source": [
    "# I asked sudhanshu sir, if it is okay to not to write explanation for code\n",
    "# they said yes, the programmer understands the code so it is okay not write explanation"
   ]
  },
  {
   "cell_type": "markdown",
   "id": "06fa9cf6-7619-40ca-a50c-83c399a000b8",
   "metadata": {},
   "source": [
    "Q1.Write a program to reverse a string."
   ]
  },
  {
   "cell_type": "code",
   "execution_count": 1,
   "id": "28c26501-eb0a-4d4a-93ba-931272856812",
   "metadata": {},
   "outputs": [
    {
     "name": "stdin",
     "output_type": "stream",
     "text": [
      "Enter a string: pwskills\n"
     ]
    },
    {
     "name": "stdout",
     "output_type": "stream",
     "text": [
      "reverse of string is- sllikswp\n"
     ]
    }
   ],
   "source": [
    "s = input(\"Enter a string:\")\n",
    "rev_str = s[::-1]\n",
    "print(\"reverse of string is-\", rev_str)"
   ]
  },
  {
   "cell_type": "raw",
   "id": "219ee3e6-7b80-4c1a-853e-e47c7e024660",
   "metadata": {},
   "source": [
    "Q2. Check if a string is a palindrome."
   ]
  },
  {
   "cell_type": "code",
   "execution_count": 5,
   "id": "7672a87a-9988-449f-81f2-e28a481421c6",
   "metadata": {},
   "outputs": [
    {
     "name": "stdin",
     "output_type": "stream",
     "text": [
      "Enter a string: sdf\n"
     ]
    },
    {
     "name": "stdout",
     "output_type": "stream",
     "text": [
      "the string sdf is not palindrome\n"
     ]
    }
   ],
   "source": [
    "s = input(\"Enter a string:\")\n",
    "rev_str = s[::-1]\n",
    "\n",
    "if s == rev_str:\n",
    "    print(\"the string\",s,\"palindrome\")\n",
    "else:\n",
    "    print(\"the string\",s,\"is not palindrome\")"
   ]
  },
  {
   "cell_type": "raw",
   "id": "d0bac032-6a6a-4563-926b-44d3f0005acd",
   "metadata": {},
   "source": [
    "Q3. Convert a string to uppercase."
   ]
  },
  {
   "cell_type": "code",
   "execution_count": 6,
   "id": "72f8d751-7028-4ee2-afb2-25aa099b64c4",
   "metadata": {},
   "outputs": [
    {
     "name": "stdin",
     "output_type": "stream",
     "text": [
      "Enter a string: pwskills\n"
     ]
    },
    {
     "name": "stdout",
     "output_type": "stream",
     "text": [
      "the upper case of string is PWSKILLS\n"
     ]
    }
   ],
   "source": [
    "s = input(\"Enter a string:\")\n",
    "upper_of_string = s.upper()\n",
    "print('the upper case of string is',upper_of_string)"
   ]
  },
  {
   "cell_type": "raw",
   "id": "70a799e0-f1c5-488d-8f69-8c064cff436d",
   "metadata": {},
   "source": [
    "Q4. Convert a string to lowercase."
   ]
  },
  {
   "cell_type": "code",
   "execution_count": 7,
   "id": "1fd6691b-f41f-415e-b809-72172b7b221f",
   "metadata": {},
   "outputs": [
    {
     "name": "stdin",
     "output_type": "stream",
     "text": [
      "Enter a string: KAPISH\n"
     ]
    },
    {
     "name": "stdout",
     "output_type": "stream",
     "text": [
      "the upper case of string is kapish\n"
     ]
    }
   ],
   "source": [
    "s = input(\"Enter a string:\")\n",
    "lower_of_string = s.lower()\n",
    "print('the upper case of string is',lower_of_string)"
   ]
  },
  {
   "cell_type": "raw",
   "id": "b0494d65-d092-45bc-9116-8dae00dafe4a",
   "metadata": {},
   "source": [
    "Q5. Count the number of vowels in a string."
   ]
  },
  {
   "cell_type": "code",
   "execution_count": 15,
   "id": "588daf73-9d90-4888-a059-059d90c50e81",
   "metadata": {},
   "outputs": [
    {
     "name": "stdin",
     "output_type": "stream",
     "text": [
      "Enter a sentence: peskills\n"
     ]
    },
    {
     "name": "stdout",
     "output_type": "stream",
     "text": [
      "2\n"
     ]
    }
   ],
   "source": [
    "s = input(\"Enter a sentence:\")\n",
    "string = s.lower()\n",
    "\n",
    "vowels = set('aeiou')\n",
    "\n",
    "count_of_vowels = 0\n",
    "\n",
    "for i in string:\n",
    "    if i in vowels:\n",
    "        count_of_vowels = count_of_vowels + 1\n",
    "        \n",
    "print(count_of_vowels)"
   ]
  },
  {
   "cell_type": "raw",
   "id": "0c08fc7c-a0c5-4367-9c12-e01676bb0078",
   "metadata": {},
   "source": [
    "Q6. Count the number of consonants in a string."
   ]
  },
  {
   "cell_type": "code",
   "execution_count": 24,
   "id": "26cbef82-2bb0-4d84-9fe1-09f7d2191e99",
   "metadata": {},
   "outputs": [
    {
     "name": "stdin",
     "output_type": "stream",
     "text": [
      "Enter a sentence: pwskills\n"
     ]
    },
    {
     "name": "stdout",
     "output_type": "stream",
     "text": [
      "7 consonents in the string\n"
     ]
    }
   ],
   "source": [
    "s = input(\"Enter a sentence:\")\n",
    "string = s.lower()\n",
    "\n",
    "consonents = set('bcdfghjklmnpqrsvwxyz')\n",
    "\n",
    "count_of_consonents = 0\n",
    "\n",
    "for i in string:\n",
    "    if i in consonents:\n",
    "        count_of_consonents +=  1\n",
    "        \n",
    "print(count_of_consonents,'consonents in the string')\n"
   ]
  },
  {
   "cell_type": "raw",
   "id": "c4b69356-0dd0-4d82-89c1-982fdd865cb1",
   "metadata": {},
   "source": [
    "Q7. Remove all whitespaces from a string."
   ]
  },
  {
   "cell_type": "code",
   "execution_count": 23,
   "id": "da0a4929-1867-406f-b5d9-7d96d5190bdb",
   "metadata": {},
   "outputs": [
    {
     "name": "stdin",
     "output_type": "stream",
     "text": [
      "Enter a string: skjd sjhd kjasd\n"
     ]
    },
    {
     "name": "stdout",
     "output_type": "stream",
     "text": [
      "skjdsjhdkjasd\n"
     ]
    }
   ],
   "source": [
    "s = input(\"Enter a string:\")\n",
    "string = s.lower()\n",
    "ss = ''\n",
    "for i in string:\n",
    "    if i != ' ':\n",
    "        ss += i\n",
    "print(ss)"
   ]
  },
  {
   "cell_type": "raw",
   "id": "cf1fcf12-a0cf-48a2-8c08-6903424f5cd5",
   "metadata": {},
   "source": [
    "Q8. Find the length of a string without using the `len()` function."
   ]
  },
  {
   "cell_type": "code",
   "execution_count": 28,
   "id": "1456430c-2b07-4ca4-b4cc-7f04c40ead7c",
   "metadata": {},
   "outputs": [
    {
     "name": "stdin",
     "output_type": "stream",
     "text": [
      "Enter a string: pwskills\n"
     ]
    },
    {
     "name": "stdout",
     "output_type": "stream",
     "text": [
      "length of string is 8\n"
     ]
    }
   ],
   "source": [
    "s = input(\"Enter a string:\")\n",
    "\n",
    "length_of_string = 0\n",
    "\n",
    "for i in range(len(s)):\n",
    "    length_of_string += 1\n",
    "print('length of string is',length_of_string)"
   ]
  },
  {
   "cell_type": "raw",
   "id": "5009f72e-1765-48bc-b0dd-798ec8580406",
   "metadata": {},
   "source": [
    "Q9. Check if a string contains a specific word."
   ]
  },
  {
   "cell_type": "code",
   "execution_count": 32,
   "id": "3814497e-8a38-4376-8e0b-053f9cb3fe0f",
   "metadata": {},
   "outputs": [
    {
     "name": "stdin",
     "output_type": "stream",
     "text": [
      "Enter a string: hey its aakash\n",
      "Enter a string: prapti\n"
     ]
    },
    {
     "name": "stdout",
     "output_type": "stream",
     "text": [
      "The word is not present in a string\n"
     ]
    }
   ],
   "source": [
    "s = input(\"Enter a string:\")\n",
    "word = input(\"Enter a string:\")\n",
    "\n",
    "if word in s:\n",
    "    print(\"the word is presen in the string\")\n",
    "else:\n",
    "    print('The word is not present in a string')"
   ]
  },
  {
   "cell_type": "raw",
   "id": "2608e4c2-1d37-4f45-8cd3-e0de4d9daf7b",
   "metadata": {},
   "source": [
    "Q10. Replace a word in a string with another word."
   ]
  },
  {
   "cell_type": "code",
   "execution_count": 34,
   "id": "743b5c59-3a50-48e2-a8df-53c22a7045f3",
   "metadata": {},
   "outputs": [
    {
     "name": "stdin",
     "output_type": "stream",
     "text": [
      "enter a string pwskills is a good institute\n",
      "enter the word you want to replace:  good\n",
      "enter the word you want to replace with:  best\n"
     ]
    },
    {
     "data": {
      "text/plain": [
       "'pwskills is a best institute'"
      ]
     },
     "execution_count": 34,
     "metadata": {},
     "output_type": "execute_result"
    }
   ],
   "source": [
    "s = input(\"enter a string\")\n",
    "\n",
    "old_word = input('enter the word you want to replace: ')\n",
    "new_word = input('enter the word you want to replace with: ')\n",
    "\n",
    "s.replace(old_word, new_word)"
   ]
  },
  {
   "cell_type": "raw",
   "id": "8a2b73a5-ee6b-4a0e-b60f-e7e9fd2b4afe",
   "metadata": {},
   "source": [
    "Q11. Count the occurrences of a word in a string.\n"
   ]
  },
  {
   "cell_type": "code",
   "execution_count": 40,
   "id": "6c650ec1-2c75-4041-8f23-b0c14397c393",
   "metadata": {},
   "outputs": [
    {
     "name": "stdin",
     "output_type": "stream",
     "text": [
      "enter a string: i i i i i\n",
      "enter the word from string that you want to count occurance:  i\n"
     ]
    },
    {
     "data": {
      "text/plain": [
       "9"
      ]
     },
     "execution_count": 40,
     "metadata": {},
     "output_type": "execute_result"
    }
   ],
   "source": [
    "s = input(\"enter a string:\")\n",
    "\n",
    "word = input('enter the word from string that you want to count occurance: ')\n",
    "\n",
    "count_of_word = 0\n",
    "\n",
    "for i in range(len(s)):\n",
    "    if word in s:\n",
    "        count_of_word += 1\n",
    "    \n",
    "count_of_word"
   ]
  },
  {
   "cell_type": "raw",
   "id": "48b4f305-a3fc-4195-858b-b72ffe41c5c3",
   "metadata": {},
   "source": [
    "Q12. Find the first occurrence of a word in a string."
   ]
  },
  {
   "cell_type": "code",
   "execution_count": 41,
   "id": "1119c017-18c4-4873-a4fd-f50191699680",
   "metadata": {},
   "outputs": [
    {
     "name": "stdin",
     "output_type": "stream",
     "text": [
      "enter a string: kapish\n"
     ]
    },
    {
     "name": "stdout",
     "output_type": "stream",
     "text": [
      "The first occurance of a word is  k\n"
     ]
    }
   ],
   "source": [
    "s = input(\"enter a string:\")\n",
    "\n",
    "print('The first occurance of a word is ', s[0])"
   ]
  },
  {
   "cell_type": "raw",
   "id": "8aebf26e-404a-4929-b37a-ec8334dd63ad",
   "metadata": {},
   "source": [
    "Q13. Find the last occurrence of a word in a string."
   ]
  },
  {
   "cell_type": "code",
   "execution_count": 42,
   "id": "9f09a99a-3c00-4bb8-a96b-5bdc8b9d379a",
   "metadata": {},
   "outputs": [
    {
     "name": "stdin",
     "output_type": "stream",
     "text": [
      "enter a string: kpasij\n"
     ]
    },
    {
     "name": "stdout",
     "output_type": "stream",
     "text": [
      "The last occurance of a word is  j\n"
     ]
    }
   ],
   "source": [
    "s = input(\"enter a string:\")\n",
    "\n",
    "print('The last occurance of a word is ', s[-1])"
   ]
  },
  {
   "cell_type": "raw",
   "id": "3e95c800-68d6-476e-88aa-6841abab8f8f",
   "metadata": {},
   "source": [
    "Q14. Split a string into a list of words."
   ]
  },
  {
   "cell_type": "code",
   "execution_count": 51,
   "id": "56fa0e26-c311-450b-9469-2e3c8e3d73eb",
   "metadata": {},
   "outputs": [
    {
     "name": "stdin",
     "output_type": "stream",
     "text": [
      "enter a string: pw sk i ll s\n"
     ]
    },
    {
     "name": "stdout",
     "output_type": "stream",
     "text": [
      "['pw', 'sk', 'i', 'll', 's']\n"
     ]
    }
   ],
   "source": [
    "s = input(\"enter a string:\")\n",
    "list_of_words = s.split()\n",
    "\n",
    "print(list_of_words)"
   ]
  },
  {
   "cell_type": "raw",
   "id": "b27fd78f-1cb0-4092-9b8d-c57ede20d238",
   "metadata": {},
   "source": [
    "Q15. Join a list of words into a string."
   ]
  },
  {
   "cell_type": "code",
   "execution_count": 52,
   "id": "a5e1444a-c797-4dbf-85d4-0bcf021e41fc",
   "metadata": {},
   "outputs": [
    {
     "name": "stdout",
     "output_type": "stream",
     "text": [
      "pwski\n"
     ]
    }
   ],
   "source": [
    "l = ['pw', 'sk','i']\n",
    "s = ''\n",
    "for i in l:\n",
    "    s = s+i\n",
    "print(s)"
   ]
  },
  {
   "cell_type": "raw",
   "id": "a624a738-1439-4b11-ae11-42169a4fda8d",
   "metadata": {},
   "source": [
    "Q16. Convert a string where words are separated by spaces to one where words are separated by underscores."
   ]
  },
  {
   "cell_type": "code",
   "execution_count": 54,
   "id": "5a831839-c669-4965-bef3-c7bccfead7a4",
   "metadata": {},
   "outputs": [
    {
     "name": "stdin",
     "output_type": "stream",
     "text": [
      "enter a string: hey this is aakash\n"
     ]
    },
    {
     "name": "stdout",
     "output_type": "stream",
     "text": [
      "hey_this_is_aakash\n"
     ]
    }
   ],
   "source": [
    "s = input(\"enter a string:\")\n",
    "\n",
    "_seprated = s.replace(' ', '_')\n",
    "print(_seprated)"
   ]
  },
  {
   "cell_type": "raw",
   "id": "b1a74564-8a2b-4b18-9880-b401f0dcca57",
   "metadata": {},
   "source": [
    "Q17. Check if a string starts with a specific word or phrase."
   ]
  },
  {
   "cell_type": "code",
   "execution_count": 59,
   "id": "37c05caf-3666-4756-9307-894823a83eba",
   "metadata": {},
   "outputs": [
    {
     "name": "stdin",
     "output_type": "stream",
     "text": [
      "enter a string: pw skills\n",
      "enter a word that you want to check:  pw\n"
     ]
    },
    {
     "name": "stdout",
     "output_type": "stream",
     "text": [
      "The sentence starts with  pw\n"
     ]
    }
   ],
   "source": [
    "s = input(\"enter a string:\")\n",
    "word = input(\"enter a word that you want to check: \")\n",
    "\n",
    "split = s.split()\n",
    "if split[0] == word :\n",
    "    print(\"The sentence starts with \", word)\n",
    "else:\n",
    "    print('The word does not starts with ', word)"
   ]
  },
  {
   "cell_type": "raw",
   "id": "dc07ed62-8428-460a-bbb2-7b472eee5b19",
   "metadata": {},
   "source": [
    "Q18. Check if a string ends with a specific word or phrase."
   ]
  },
  {
   "cell_type": "code",
   "execution_count": 62,
   "id": "d2f251be-2b93-4522-bf9a-2673f47d93d9",
   "metadata": {},
   "outputs": [
    {
     "name": "stdin",
     "output_type": "stream",
     "text": [
      "enter a string: pw skills is\n",
      "enter a word that you want to check:  is\n"
     ]
    },
    {
     "name": "stdout",
     "output_type": "stream",
     "text": [
      "The sentence ends with word  is\n"
     ]
    }
   ],
   "source": [
    "s = input(\"enter a string:\")\n",
    "word = input(\"enter a word that you want to check: \")\n",
    "\n",
    "split = s.split()\n",
    "if split[-1] == word :\n",
    "    print(\"The sentence ends with word \", word)\n",
    "else:\n",
    "    print('The word does not ends with word ', word)"
   ]
  },
  {
   "cell_type": "raw",
   "id": "0369ba7e-f365-41e8-8c0e-4c059aa47817",
   "metadata": {},
   "source": [
    "19. Convert a string to title case (e.g., \"hello world\" to \"Hello World\")."
   ]
  },
  {
   "cell_type": "code",
   "execution_count": 64,
   "id": "50930777-35fe-4ddd-a095-926aef8eda51",
   "metadata": {},
   "outputs": [
    {
     "name": "stdin",
     "output_type": "stream",
     "text": [
      "enter a string: wow that is nice\n"
     ]
    },
    {
     "name": "stdout",
     "output_type": "stream",
     "text": [
      "Wow That Is Nice\n"
     ]
    }
   ],
   "source": [
    "s = input(\"enter a string:\")\n",
    "title_case = s.title()\n",
    "print(title_case)"
   ]
  },
  {
   "cell_type": "raw",
   "id": "3f8ea234-abcd-4466-8001-2947525f044c",
   "metadata": {},
   "source": [
    "Q20. Find the longest word in a string."
   ]
  },
  {
   "cell_type": "code",
   "execution_count": 66,
   "id": "1c0e9fc2-9c81-4b67-b04b-f8b924088859",
   "metadata": {},
   "outputs": [
    {
     "name": "stdin",
     "output_type": "stream",
     "text": [
      "enter a string: pw skills ia a great institute\n"
     ]
    },
    {
     "name": "stdout",
     "output_type": "stream",
     "text": [
      "The longest word is institute\n"
     ]
    }
   ],
   "source": [
    "s = input(\"enter a string:\")\n",
    "word_list = s.split()\n",
    "max_length = 0\n",
    "word = ''\n",
    "for i in word_list:\n",
    "    if len(i) > max_length:\n",
    "        max_length = len(i)\n",
    "        word = i\n",
    "        \n",
    "print('The longest word is',word)"
   ]
  },
  {
   "cell_type": "raw",
   "id": "f7b11d7f-3c93-417c-ae46-044bc43791a0",
   "metadata": {},
   "source": [
    "Q21. Find the shortest word in a string."
   ]
  },
  {
   "cell_type": "code",
   "execution_count": 77,
   "id": "94badc3b-d596-4ace-8dac-e2aa4ef83f9a",
   "metadata": {},
   "outputs": [
    {
     "name": "stdin",
     "output_type": "stream",
     "text": [
      "enter a string: pwskills is great institute\n"
     ]
    },
    {
     "name": "stdout",
     "output_type": "stream",
     "text": [
      "The shortest word is: is\n"
     ]
    }
   ],
   "source": [
    "s = input(\"enter a string:\")\n",
    "word_list = s.split()\n",
    "min_length = 10000\n",
    "word = ''\n",
    "for i in word_list:\n",
    "    if len(i) < min_length:\n",
    "        min_length = len(i)\n",
    "        word = i\n",
    "        \n",
    "print('The shortest word is:',word)"
   ]
  },
  {
   "cell_type": "raw",
   "id": "a7534eff-7548-498a-91d5-2a38fbdbf2d4",
   "metadata": {},
   "source": [
    "Q22. Reverse the order of words in a string."
   ]
  },
  {
   "cell_type": "code",
   "execution_count": 84,
   "id": "f96b7abb-9cd0-4419-9aae-92b45111d60c",
   "metadata": {},
   "outputs": [
    {
     "name": "stdin",
     "output_type": "stream",
     "text": [
      "enter a string: pwskills is great institute\n"
     ]
    },
    {
     "data": {
      "text/plain": [
       "' institute great is pwskills'"
      ]
     },
     "execution_count": 84,
     "metadata": {},
     "output_type": "execute_result"
    }
   ],
   "source": [
    "s = input(\"enter a string:\")\n",
    "\n",
    "old_order = s.split()\n",
    "new_order = old_order[::-1]\n",
    "new_string = ''\n",
    "\n",
    "for i in new_order :\n",
    "    new_string = new_string +' '+ i\n",
    "new_string\n"
   ]
  },
  {
   "cell_type": "raw",
   "id": "613f3f60-15a9-42ed-8347-4fdee2b1aac2",
   "metadata": {},
   "source": [
    "Q23. Check if a string is alphanumeric."
   ]
  },
  {
   "cell_type": "code",
   "execution_count": 89,
   "id": "66cdf1a0-3a9e-4562-a3a0-a0722e2a6ed3",
   "metadata": {},
   "outputs": [
    {
     "name": "stdin",
     "output_type": "stream",
     "text": [
      "enter a string: rajesh123\n"
     ]
    },
    {
     "name": "stdout",
     "output_type": "stream",
     "text": [
      "The string is alphanumeric\n"
     ]
    }
   ],
   "source": [
    "s = input(\"enter a string:\")\n",
    "\n",
    "alpha_num = s.isalnum()\n",
    "\n",
    "if alpha_num == True:\n",
    "    print(\"The string is alphanumeric\")\n",
    "else:\n",
    "    print(\"The string is not alphanumeric\")"
   ]
  },
  {
   "cell_type": "raw",
   "id": "fb5cf1ed-8832-48bc-bf8d-3b90961c7472",
   "metadata": {},
   "source": [
    "Q24. Extract all digits from a string."
   ]
  },
  {
   "cell_type": "code",
   "execution_count": 92,
   "id": "a62e599f-a940-4af2-b9eb-8cd8c21f9540",
   "metadata": {},
   "outputs": [
    {
     "name": "stdin",
     "output_type": "stream",
     "text": [
      "enter a string: sdf4\n"
     ]
    },
    {
     "data": {
      "text/plain": [
       "'4'"
      ]
     },
     "execution_count": 92,
     "metadata": {},
     "output_type": "execute_result"
    }
   ],
   "source": [
    "s = input(\"enter a string:\")\n",
    "numbers = ''\n",
    "\n",
    "for i in s:\n",
    "    if i.isdigit():\n",
    "        numbers += i\n",
    "        \n",
    "numbers"
   ]
  },
  {
   "cell_type": "raw",
   "id": "6b02741c-93b3-48df-8ea0-2506c23d9d93",
   "metadata": {},
   "source": [
    "Q25. Extract all alphabets from a string."
   ]
  },
  {
   "cell_type": "code",
   "execution_count": 100,
   "id": "d9162625-1e7a-4461-bf4a-d670eed78480",
   "metadata": {},
   "outputs": [
    {
     "name": "stdin",
     "output_type": "stream",
     "text": [
      "enter a string: hey123\n"
     ]
    },
    {
     "data": {
      "text/plain": [
       "'hey'"
      ]
     },
     "execution_count": 100,
     "metadata": {},
     "output_type": "execute_result"
    }
   ],
   "source": [
    "s = input(\"enter a string:\")\n",
    "alphabets = ''\n",
    "\n",
    "for i in s:\n",
    "    if i.isalpha():\n",
    "        alphabets += i\n",
    "        \n",
    "alphabets"
   ]
  },
  {
   "cell_type": "raw",
   "id": "60c71bb1-ee6d-4429-85df-7f69d400a14f",
   "metadata": {},
   "source": [
    "Q26. Count the number of uppercase letters in a string."
   ]
  },
  {
   "cell_type": "code",
   "execution_count": 98,
   "id": "bc3cb3ab-de4b-4a6d-bea5-458c0ef11aab",
   "metadata": {},
   "outputs": [
    {
     "name": "stdin",
     "output_type": "stream",
     "text": [
      "enter a string: Welcome To My Home\n"
     ]
    },
    {
     "name": "stdout",
     "output_type": "stream",
     "text": [
      "Upper case letter count:  4\n"
     ]
    }
   ],
   "source": [
    "s = input(\"enter a string:\")\n",
    "\n",
    "count_of_uppercase = 0\n",
    "\n",
    "for i in s:\n",
    "    if i.isupper():\n",
    "        count_of_uppercase += 1\n",
    "print('Upper case letter count: ',count_of_uppercase)"
   ]
  },
  {
   "cell_type": "raw",
   "id": "d264ec08-b5b5-4972-a689-dbc33b95b0e8",
   "metadata": {},
   "source": [
    "Q27. Count the number of lowercase letters in a string."
   ]
  },
  {
   "cell_type": "code",
   "execution_count": 101,
   "id": "060d5e74-2b6d-4fe4-b996-dac6159a7b06",
   "metadata": {},
   "outputs": [
    {
     "name": "stdin",
     "output_type": "stream",
     "text": [
      "enter a string: Welcome To My Home\n"
     ]
    },
    {
     "name": "stdout",
     "output_type": "stream",
     "text": [
      "Lowercase letter count:  11\n"
     ]
    }
   ],
   "source": [
    "s = input(\"enter a string:\")\n",
    "\n",
    "count_of_lowercase = 0\n",
    "\n",
    "for i in s:\n",
    "    if i.islower():\n",
    "        count_of_lowercase += 1\n",
    "print('Lowercase letter count: ',count_of_lowercase)"
   ]
  },
  {
   "cell_type": "raw",
   "id": "b369f144-e670-416d-bdcc-452f6d5798f5",
   "metadata": {},
   "source": [
    "Q28. Swap the case of each character in a string."
   ]
  },
  {
   "cell_type": "code",
   "execution_count": 104,
   "id": "e84e6db8-c91c-408f-8308-7fe032228291",
   "metadata": {},
   "outputs": [
    {
     "name": "stdin",
     "output_type": "stream",
     "text": [
      "enter a string: Welcome To My Home\n"
     ]
    },
    {
     "name": "stdout",
     "output_type": "stream",
     "text": [
      "result after swaping:  wELCOME tO mY hOME\n"
     ]
    }
   ],
   "source": [
    "s = input(\"enter a string:\")\n",
    "\n",
    "swap_of_char = s.swapcase()\n",
    "\n",
    "print('result after swaping: ',swap_of_char)"
   ]
  },
  {
   "cell_type": "raw",
   "id": "2e8a517c-ff8f-4f86-b7c0-7b41dd835073",
   "metadata": {},
   "source": [
    "Q29. Remove a specific word from a string."
   ]
  },
  {
   "cell_type": "code",
   "execution_count": 109,
   "id": "e60b2064-5490-461f-b29b-46a03fc543c9",
   "metadata": {},
   "outputs": [
    {
     "name": "stdin",
     "output_type": "stream",
     "text": [
      "enter a string: Welcome To My Home\n",
      "Enter the word that you want to remove:  To\n"
     ]
    },
    {
     "name": "stdout",
     "output_type": "stream",
     "text": [
      "Welcome  My Home\n"
     ]
    }
   ],
   "source": [
    "s = input(\"enter a string:\")\n",
    "\n",
    "word = input(\"Enter the word that you want to remove: \")\n",
    "\n",
    "sentence = s.replace(word,'')\n",
    "\n",
    "print(sentence)"
   ]
  },
  {
   "cell_type": "raw",
   "id": "19fc72b1-abc4-49e7-a7f9-4979d3d3df19",
   "metadata": {},
   "source": [
    "Q31. Extract the username from an email address string."
   ]
  },
  {
   "cell_type": "code",
   "execution_count": 5,
   "id": "e83c9c5f-df1c-43d0-843f-aaa0dfda3c7d",
   "metadata": {},
   "outputs": [
    {
     "name": "stdin",
     "output_type": "stream",
     "text": [
      "Enter your mail id pwskills@gmail.com\n"
     ]
    },
    {
     "name": "stdout",
     "output_type": "stream",
     "text": [
      "Username of mail id is : pwskills\n"
     ]
    }
   ],
   "source": [
    "mail = input('Enter your mail id')\n",
    "username = mail.split('@')\n",
    "\n",
    "print('Username of mail id is :',username[0])"
   ]
  },
  {
   "cell_type": "raw",
   "id": "30716fcd-b92b-4674-bc93-fec19f6fc61e",
   "metadata": {},
   "source": [
    "32. Extract the domain name from an email address string."
   ]
  },
  {
   "cell_type": "code",
   "execution_count": 6,
   "id": "f6f046c3-956e-420f-a581-442359e965ea",
   "metadata": {},
   "outputs": [
    {
     "name": "stdin",
     "output_type": "stream",
     "text": [
      "Enter your mail id pwskills@gmail.com\n"
     ]
    },
    {
     "name": "stdout",
     "output_type": "stream",
     "text": [
      "domain of mail id is : gmail.com\n"
     ]
    }
   ],
   "source": [
    "mail = input('Enter your mail id')\n",
    "domain = mail.split('@')\n",
    "\n",
    "print('domain of mail id is :',domain[1])"
   ]
  },
  {
   "cell_type": "raw",
   "id": "b922e759-eefa-4ec1-b1cb-076f9976ced2",
   "metadata": {},
   "source": [
    "33. Replace multiple spaces in a string with a single space."
   ]
  },
  {
   "cell_type": "code",
   "execution_count": 8,
   "id": "c180250d-bf7f-4527-99b6-281263d8c8f3",
   "metadata": {},
   "outputs": [
    {
     "name": "stdin",
     "output_type": "stream",
     "text": [
      "enter a string: pw       skills\n"
     ]
    },
    {
     "name": "stdout",
     "output_type": "stream",
     "text": [
      "pw skills\n"
     ]
    }
   ],
   "source": [
    "s = input(\"enter a string:\")\n",
    "string_split = s.split()\n",
    "new_string = ' '.join(string_split)\n",
    "\n",
    "print(new_string)"
   ]
  },
  {
   "cell_type": "raw",
   "id": "769cb241-1d39-4e2b-b7fa-a6e952561bd0",
   "metadata": {},
   "source": [
    "35. Extract the protocol (http or https) from a URL string."
   ]
  },
  {
   "cell_type": "code",
   "execution_count": 11,
   "id": "2c57aff7-e01e-47fa-be78-8a102a32f45b",
   "metadata": {},
   "outputs": [
    {
     "name": "stdin",
     "output_type": "stream",
     "text": [
      "Enter url https://lab.pwskills.com/my-labs\n"
     ]
    },
    {
     "name": "stdout",
     "output_type": "stream",
     "text": [
      "Protocol of url is: https\n"
     ]
    }
   ],
   "source": [
    "url = input(\"Enter url\")\n",
    "url_split = url.split(':')\n",
    "\n",
    "url_protocol = url_split[0]\n",
    "\n",
    "print('Protocol of url is:', url_protocol)"
   ]
  },
  {
   "cell_type": "raw",
   "id": "9b26dd73-4bda-4920-8c0a-bf27fbd89e50",
   "metadata": {},
   "source": [
    "36. Find the frequency of each character in a string."
   ]
  },
  {
   "cell_type": "code",
   "execution_count": 16,
   "id": "779c79c7-7e07-401f-9a5f-74e4a8474449",
   "metadata": {},
   "outputs": [
    {
     "name": "stdin",
     "output_type": "stream",
     "text": [
      "Enter a string: s\n"
     ]
    }
   ],
   "source": [
    "s = input(\"Enter a string:\")\n",
    "frequency = {}\n",
    "\n",
    "for i in s:\n",
    "    if i in frequency:\n",
    "        frequency[i] = +1\n",
    "    else:\n",
    "        frequency[i] = 1\n",
    "        "
   ]
  },
  {
   "cell_type": "raw",
   "id": "8ba19a97-a9ff-4a3b-b4f5-47136ef8dc46",
   "metadata": {},
   "source": [
    "37. Remove all punctuation from a string."
   ]
  },
  {
   "cell_type": "code",
   "execution_count": 19,
   "id": "25a409be-68bb-454f-9904-655193fff6db",
   "metadata": {},
   "outputs": [
    {
     "name": "stdin",
     "output_type": "stream",
     "text": [
      "Enter a string: hey! it's ravi's father\n"
     ]
    },
    {
     "name": "stdout",
     "output_type": "stream",
     "text": [
      "hey! it's ravi's father\n"
     ]
    }
   ],
   "source": [
    "s = input(\"Enter a string:\")\n",
    "punctuation = set(',:;-_.!?()''\"\"''','')\n",
    "\n",
    "new_word = ''\n",
    "\n",
    "for i in s:\n",
    "    if i != punctuation:\n",
    "        new_word += i\n",
    "    \n",
    "print(new_word)"
   ]
  },
  {
   "cell_type": "raw",
   "id": "42c651e6-69bd-480c-8e3f-278102d07a8d",
   "metadata": {},
   "source": [
    "38. Check if a string contains only digits."
   ]
  },
  {
   "cell_type": "code",
   "execution_count": 23,
   "id": "117ae7df-4dbd-498d-bb89-78031f28c61f",
   "metadata": {},
   "outputs": [
    {
     "name": "stdin",
     "output_type": "stream",
     "text": [
      "Enter a string: 9284235097\n"
     ]
    },
    {
     "name": "stdout",
     "output_type": "stream",
     "text": [
      "The string only contains digits\n"
     ]
    }
   ],
   "source": [
    "s = input(\"Enter a string:\")\n",
    "\n",
    "if s.isdigit():\n",
    "    print('The string only contains digits')\n",
    "else:\n",
    "    print('The string also contains alphabets')"
   ]
  },
  {
   "cell_type": "raw",
   "id": "afc11b21-5245-41e6-ba29-21981391ae0c",
   "metadata": {},
   "source": [
    "39. Check if a string contains only alphabets."
   ]
  },
  {
   "cell_type": "code",
   "execution_count": 27,
   "id": "4292e73e-3734-402f-917a-5e17cf887e65",
   "metadata": {},
   "outputs": [
    {
     "name": "stdin",
     "output_type": "stream",
     "text": [
      "Enter a string: pwkills\n"
     ]
    },
    {
     "name": "stdout",
     "output_type": "stream",
     "text": [
      "The string only contains alphabets.\n"
     ]
    }
   ],
   "source": [
    "s = input(\"Enter a string:\")\n",
    "\n",
    "if s.isalpha():\n",
    "    print('The string only contains alphabets.')\n",
    "else:\n",
    "    print('The string also contains numbers or special character.')"
   ]
  },
  {
   "cell_type": "raw",
   "id": "60eb4641-bb8c-41a3-a313-95f88c66fb5a",
   "metadata": {},
   "source": [
    "40. Convert a string to a list of characters."
   ]
  },
  {
   "cell_type": "code",
   "execution_count": 28,
   "id": "acc6ca7f-5f80-4628-9735-49adefbf9a74",
   "metadata": {},
   "outputs": [
    {
     "name": "stdin",
     "output_type": "stream",
     "text": [
      "Enter a string: sbi is the biggest psb bank in india.\n"
     ]
    },
    {
     "name": "stdout",
     "output_type": "stream",
     "text": [
      "List of character in a string: ['sbi', 'is', 'the', 'biggest', 'psb', 'bank', 'in', 'india.']\n"
     ]
    }
   ],
   "source": [
    "s = input(\"Enter a string:\")\n",
    "\n",
    "list_of_char = s.split()\n",
    "\n",
    "print('List of character in a string:',list_of_char)"
   ]
  },
  {
   "cell_type": "raw",
   "id": "92f7622c-3b49-452e-a953-89fa04a7fcee",
   "metadata": {},
   "source": [
    "41. Check if two strings are anagrams."
   ]
  },
  {
   "cell_type": "code",
   "execution_count": 29,
   "id": "3d556e58-e7a3-44b3-83c8-ca33c9c15cc3",
   "metadata": {},
   "outputs": [
    {
     "name": "stdin",
     "output_type": "stream",
     "text": [
      "Enter 1st letter: letter\n",
      "Enter 2nd letter: silent\n"
     ]
    }
   ],
   "source": [
    "s = input(\"Enter 1st letter:\")\n",
    "s1 = input(\"Enter 2nd letter:\")\n",
    "\n",
    "a = (sorted(s) == sorted(s1))\n",
    "    print(s,'and', s1 ,'are anagrams')"
   ]
  },
  {
   "cell_type": "raw",
   "id": "469d00c8-5dd5-4cb1-8486-63191f0e9526",
   "metadata": {},
   "source": [
    "44. Find the most frequent word in a string."
   ]
  },
  {
   "cell_type": "code",
   "execution_count": 33,
   "id": "25e9e1fc-27cc-441e-bc23-202da6c2c9e2",
   "metadata": {},
   "outputs": [
    {
     "name": "stdin",
     "output_type": "stream",
     "text": [
      "Enter a string:  it is not okay it\n"
     ]
    },
    {
     "name": "stdout",
     "output_type": "stream",
     "text": [
      "0\n"
     ]
    }
   ],
   "source": [
    "s = input(\"Enter a string: \")\n",
    "word_list = s.split()\n",
    "count = 0\n",
    "\n",
    "for i in word_list:\n",
    "    if i == word_list:\n",
    "        count +=1\n",
    "print(count)"
   ]
  },
  {
   "cell_type": "raw",
   "id": "7bb74239-86c0-4e9e-8bc0-1a0e4ad6b61d",
   "metadata": {},
   "source": [
    "45. Find all unique words in a string."
   ]
  },
  {
   "cell_type": "code",
   "execution_count": 38,
   "id": "e72f2a25-869f-456c-9004-c3d4ad3315b6",
   "metadata": {},
   "outputs": [
    {
     "name": "stdin",
     "output_type": "stream",
     "text": [
      "Enter a string:  it is not okay it\n"
     ]
    },
    {
     "name": "stdout",
     "output_type": "stream",
     "text": [
      "unique words in a string are: ['it', 'is', 'not', 'okay']\n"
     ]
    }
   ],
   "source": [
    "s = input(\"Enter a string: \")\n",
    "word_list = s.split()\n",
    "unique_word = []\n",
    "\n",
    "for i in word_list:\n",
    "    if i not in unique_word:\n",
    "        unique_word.append(i)\n",
    "    \n",
    "print('unique words in a string are:',unique_word)"
   ]
  },
  {
   "cell_type": "raw",
   "id": "7da66749-4557-47ac-bccb-35aa95577f92",
   "metadata": {},
   "source": [
    "47. Check if a string contains any special characters."
   ]
  },
  {
   "cell_type": "code",
   "execution_count": 48,
   "id": "7bac9dc8-fd73-4c09-ac5d-8c9bde3b8a61",
   "metadata": {},
   "outputs": [
    {
     "name": "stdin",
     "output_type": "stream",
     "text": [
      "Enter a string:  pwskills?\n"
     ]
    },
    {
     "name": "stdout",
     "output_type": "stream",
     "text": [
      "string contains special character\n"
     ]
    }
   ],
   "source": [
    "s = input(\"Enter a string: \")\n",
    "special_character = set(\"',./?:;!@&()#\")\n",
    "\n",
    "for i in s :\n",
    "    if i in special_character:\n",
    "        print(\"string contains special character\")"
   ]
  },
  {
   "cell_type": "raw",
   "id": "70038a37-a8b8-4c8f-9792-7a4c853fe340",
   "metadata": {},
   "source": [
    "48. Remove the nth word from a string."
   ]
  },
  {
   "cell_type": "code",
   "execution_count": 54,
   "id": "245cf3ce-bbe1-49a9-ba44-bbded50eea82",
   "metadata": {},
   "outputs": [
    {
     "name": "stdin",
     "output_type": "stream",
     "text": [
      "Enter a string:  my name is khan\n",
      "enter the which number of word you want to remove:  2\n"
     ]
    },
    {
     "name": "stdout",
     "output_type": "stream",
     "text": [
      "n a m e\n"
     ]
    }
   ],
   "source": [
    "s = input(\"Enter a string: \")\n",
    "n = int(input(\"enter the which number of word you want to remove: \"))\n",
    "\n",
    "word_list = s.split()\n",
    "\n",
    "word_removed = word_list.pop(n-1)\n",
    "\n",
    "new_sentence = ' '.join(word_removed)\n",
    "\n",
    "print(new_sentence)"
   ]
  },
  {
   "cell_type": "raw",
   "id": "0dd3014c-8fd3-42de-a15d-77fcececd7e6",
   "metadata": {},
   "source": [
    "50. Convert a CSV string to a list of lists."
   ]
  },
  {
   "cell_type": "code",
   "execution_count": null,
   "id": "f0e18d23-8059-4f1f-a66f-0daa974cde83",
   "metadata": {},
   "outputs": [],
   "source": [
    "csv_s = input('Enter csv string: ')\n",
    "split_csv = csv_s.split(',')\n",
    "csv_list = []\n",
    "\n",
    "csv.append\n"
   ]
  },
  {
   "cell_type": "markdown",
   "id": "33e67742-0576-420b-82cf-5c5b6af6c863",
   "metadata": {},
   "source": [
    "## List Based Practice Problem :"
   ]
  },
  {
   "cell_type": "raw",
   "id": "22e24006-513b-4ffc-a13d-74dd9661b5e2",
   "metadata": {},
   "source": [
    "1. Create a list with integers from 1 to 10."
   ]
  },
  {
   "cell_type": "code",
   "execution_count": 55,
   "id": "c5c96fdf-0904-439e-a7df-d98c4d09f093",
   "metadata": {},
   "outputs": [
    {
     "data": {
      "text/plain": [
       "[1, 2, 3, 4, 5, 6, 7, 8, 9, 10]"
      ]
     },
     "execution_count": 55,
     "metadata": {},
     "output_type": "execute_result"
    }
   ],
   "source": [
    "list(range(1,11))"
   ]
  },
  {
   "cell_type": "raw",
   "id": "b0ea1400-e2bc-44e6-88dd-f1117c074056",
   "metadata": {},
   "source": [
    "2. Find the length of a list without using the `len()` function."
   ]
  },
  {
   "cell_type": "code",
   "execution_count": 58,
   "id": "e5f996f0-0cf7-465e-884e-e793a19a4efe",
   "metadata": {},
   "outputs": [
    {
     "name": "stdout",
     "output_type": "stream",
     "text": [
      "length of the list is: 8\n"
     ]
    }
   ],
   "source": [
    "l = [1,2,3,3,4,5,5,6]\n",
    "count = 0\n",
    "\n",
    "for i in l:\n",
    "    count += 1\n",
    "print('length of the list is:',count)"
   ]
  },
  {
   "cell_type": "raw",
   "id": "1bf702de-7543-4e1a-bd43-26f820acd4bf",
   "metadata": {},
   "source": [
    "3. Append an element to the end of a list."
   ]
  },
  {
   "cell_type": "code",
   "execution_count": 61,
   "id": "509ff486-22b9-4a78-bc91-c88a91329693",
   "metadata": {},
   "outputs": [
    {
     "data": {
      "text/plain": [
       "['virat', 'rohit', 'msd']"
      ]
     },
     "execution_count": 61,
     "metadata": {},
     "output_type": "execute_result"
    }
   ],
   "source": [
    "l = ['virat', 'rohit']\n",
    "l.append('msd')\n",
    "l"
   ]
  },
  {
   "cell_type": "raw",
   "id": "548ffa00-dc6c-4343-a07f-80e94ebd8973",
   "metadata": {},
   "source": [
    "4. Insert an element at a specific index in a list."
   ]
  },
  {
   "cell_type": "code",
   "execution_count": 66,
   "id": "a0b6e4b6-9305-4488-9712-621e83872ffc",
   "metadata": {},
   "outputs": [
    {
     "name": "stdin",
     "output_type": "stream",
     "text": [
      "Enter element you want to insert: pwskills\n",
      "At which place you want to insert: 1\n"
     ]
    },
    {
     "name": "stdout",
     "output_type": "stream",
     "text": [
      "['pwskills', 1, 2, 3, 4, 5]\n"
     ]
    }
   ],
   "source": [
    "list1 = [1,2,3,4,5]\n",
    "\n",
    "element = (input(\"Enter element you want to insert:\"))\n",
    "place = int(input(\"At which place you want to insert:\"))\n",
    "list1.insert(place-1,element)\n",
    "\n",
    "print(list1)"
   ]
  },
  {
   "cell_type": "raw",
   "id": "58ff780d-bb02-4455-8044-b2c9aeb52cba",
   "metadata": {},
   "source": [
    "5. Remove an element from a list by its value."
   ]
  },
  {
   "cell_type": "code",
   "execution_count": 76,
   "id": "687ad160-36b4-4118-8b7c-eb4d637514c5",
   "metadata": {},
   "outputs": [
    {
     "name": "stdout",
     "output_type": "stream",
     "text": [
      "updated list:  [5, 10, 10, 25, 30]\n"
     ]
    }
   ],
   "source": [
    "list1 = [5,10,15,10,25,30]\n",
    "\n",
    "element_to_remove = 15\n",
    "\n",
    "list1.remove(element_to_remove)\n",
    "\n",
    "print('updated list: ',list1)"
   ]
  },
  {
   "cell_type": "raw",
   "id": "fe8b72c7-f0b2-46ad-8a77-9e56c40da3c0",
   "metadata": {},
   "source": [
    "6. Remove an element from a list by its index."
   ]
  },
  {
   "cell_type": "code",
   "execution_count": 84,
   "id": "065a67d6-7432-4852-a62f-ba180dbc0160",
   "metadata": {},
   "outputs": [
    {
     "name": "stdin",
     "output_type": "stream",
     "text": [
      "from which place you want to remove element: 2\n"
     ]
    },
    {
     "name": "stdout",
     "output_type": "stream",
     "text": [
      "updated list:  [5, 15, 20, 25, 30, 35, 40]\n"
     ]
    }
   ],
   "source": [
    "list1 = [5,10,15,20,25,30,35,40]\n",
    "\n",
    "place = int(input(\"from which place you want to remove element:\"))\n",
    "list1.pop(place-1)\n",
    "\n",
    "print('updated list: ',list1)"
   ]
  },
  {
   "cell_type": "raw",
   "id": "95590795-b3a5-4bbd-9ab3-aeed9512daa5",
   "metadata": {},
   "source": [
    "7. Check if an element exists in a list."
   ]
  },
  {
   "cell_type": "code",
   "execution_count": 92,
   "id": "63067bce-8bb0-472c-b561-961487465693",
   "metadata": {},
   "outputs": [
    {
     "name": "stdout",
     "output_type": "stream",
     "text": [
      "Element is in the list\n"
     ]
    }
   ],
   "source": [
    "list1 = [5,10,15,20,25,30,35,40]\n",
    "element = 10\n",
    "\n",
    "if element in list1:\n",
    "    print('Element is in the list')\n",
    "else:\n",
    "    print('Element is not in the list')"
   ]
  },
  {
   "cell_type": "raw",
   "id": "82651b40-dac8-4133-8438-4c377898c23d",
   "metadata": {},
   "source": [
    "8. Find the index of the first occurrence of an element in a list."
   ]
  },
  {
   "cell_type": "code",
   "execution_count": 96,
   "id": "eb95e6b6-ac8a-452f-be56-b8a0f2253758",
   "metadata": {},
   "outputs": [
    {
     "name": "stdout",
     "output_type": "stream",
     "text": [
      "Index of 1st occurance of element is : 1\n"
     ]
    }
   ],
   "source": [
    "list1 = [5,10,15,20,25,30,35,40,10]\n",
    "element = 10\n",
    "\n",
    "first_occurance = list1.index(element) \n",
    "print('Index of 1st occurance of element is :', first_occurance)"
   ]
  },
  {
   "cell_type": "raw",
   "id": "94165626-28d9-4ade-9d19-cf390a95ba2d",
   "metadata": {},
   "source": [
    "9. Count the occurrences of an element in a list."
   ]
  },
  {
   "cell_type": "code",
   "execution_count": 98,
   "id": "120c7958-4b74-4a97-8f0e-9c0764146bfb",
   "metadata": {},
   "outputs": [
    {
     "name": "stdout",
     "output_type": "stream",
     "text": [
      "Occurance of element in the list: 3 times\n"
     ]
    }
   ],
   "source": [
    "list1 = [5,10,15,20,25,30,35,40,10,100,10]\n",
    "element = 10\n",
    "count = 0\n",
    "for i in list1:\n",
    "    if element == i:\n",
    "        count +=1\n",
    "print('Occurance of element in the list:',count,'times')"
   ]
  },
  {
   "cell_type": "raw",
   "id": "7e4944d9-1f7e-48cd-9784-61a9d68d19d6",
   "metadata": {},
   "source": [
    "10. Reverse the order of elements in a list."
   ]
  },
  {
   "cell_type": "code",
   "execution_count": 101,
   "id": "179d442d-69d5-4b38-a467-b36401b6831c",
   "metadata": {},
   "outputs": [
    {
     "name": "stdout",
     "output_type": "stream",
     "text": [
      "The reverse order of the list is:  [40, 35, 30, 25, 20, 15, 10, 5]\n"
     ]
    }
   ],
   "source": [
    "list1 = [5,10,15,20,25,30,35,40]\n",
    "print('The reverse order of the list is: ',list1[::-1])"
   ]
  },
  {
   "cell_type": "raw",
   "id": "d1e7a25c-418e-4f6e-8b26-5c3910417298",
   "metadata": {},
   "source": [
    "11. Sort a list in ascending order."
   ]
  },
  {
   "cell_type": "code",
   "execution_count": 110,
   "id": "5f39b21f-0ceb-41e0-8d07-830f664d95cf",
   "metadata": {},
   "outputs": [
    {
     "name": "stdout",
     "output_type": "stream",
     "text": [
      "sorted list:  [0, 1, 3, 4, 6, 6, 8, 12, 33, 531]\n"
     ]
    }
   ],
   "source": [
    "list1 = [6,8,12,531,3,1,0,33,4,6]\n",
    "list1.sort()\n",
    "print('sorted list in ascending order: ',list1)"
   ]
  },
  {
   "cell_type": "raw",
   "id": "13f0f93c-e6b4-43e7-8ea5-d28e6b787a63",
   "metadata": {},
   "source": [
    "12. Sort a list in descending order."
   ]
  },
  {
   "cell_type": "code",
   "execution_count": 111,
   "id": "9fd72964-41bc-42ab-80d8-537b9d10c15d",
   "metadata": {},
   "outputs": [
    {
     "name": "stdout",
     "output_type": "stream",
     "text": [
      "sorted list in decending order:  [531, 33, 12, 8, 6, 6, 4, 3, 1, 0]\n"
     ]
    }
   ],
   "source": [
    "list1 = [6,8,12,531,3,1,0,33,4,6]\n",
    "list1.sort(reverse = True)\n",
    "print('sorted list in decending order: ',list1)"
   ]
  },
  {
   "cell_type": "raw",
   "id": "5415d2e9-9325-4e58-8863-46a1cdd9275d",
   "metadata": {},
   "source": [
    "13. Create a list of even numbers from 1 to 20."
   ]
  },
  {
   "cell_type": "code",
   "execution_count": 114,
   "id": "9810654e-c906-4c99-bb52-123a5d03a3b5",
   "metadata": {},
   "outputs": [
    {
     "name": "stdout",
     "output_type": "stream",
     "text": [
      "[2, 4, 6, 8, 10, 12, 14, 16, 18, 20]\n"
     ]
    }
   ],
   "source": [
    "even_num_list = []\n",
    "\n",
    "for i in range(2,21,2):\n",
    "    even_num_list.append(i)\n",
    "print(even_num_list)"
   ]
  },
  {
   "cell_type": "code",
   "execution_count": 115,
   "id": "b8065fc2-fab4-4a19-b38f-6f12e704eeec",
   "metadata": {},
   "outputs": [
    {
     "name": "stdout",
     "output_type": "stream",
     "text": [
      "[2, 4, 6, 8, 10, 12, 14, 16, 18, 20]\n"
     ]
    }
   ],
   "source": [
    "even_num_list = []\n",
    "\n",
    "for i in range(1,21):\n",
    "    if i%2 == 0:     \n",
    "        even_num_list.append(i)\n",
    "print(even_num_list)"
   ]
  },
  {
   "cell_type": "raw",
   "id": "f40b8bd7-b06c-48b7-8610-2d7e7467472d",
   "metadata": {},
   "source": [
    "14. Create a list of odd numbers from 1 to 20."
   ]
  },
  {
   "cell_type": "code",
   "execution_count": 116,
   "id": "3831ebbc-d8c3-4960-ab3d-4d49d8155252",
   "metadata": {},
   "outputs": [
    {
     "name": "stdout",
     "output_type": "stream",
     "text": [
      "[1, 3, 5, 7, 9, 11, 13, 15, 17, 19]\n"
     ]
    }
   ],
   "source": [
    "odd_num_list = []\n",
    "\n",
    "for i in range(1,20,2):\n",
    "    odd_num_list.append(i)\n",
    "print(odd_num_list)"
   ]
  },
  {
   "cell_type": "code",
   "execution_count": 117,
   "id": "b3e7f4d7-f2c6-439a-8e96-891d22f206ff",
   "metadata": {},
   "outputs": [
    {
     "name": "stdout",
     "output_type": "stream",
     "text": [
      "[1, 3, 5, 7, 9, 11, 13, 15, 17, 19]\n"
     ]
    }
   ],
   "source": [
    "even_num_list = []\n",
    "\n",
    "for i in range(1,21):\n",
    "    if i%2 != 0:     \n",
    "        even_num_list.append(i)\n",
    "print(even_num_list)"
   ]
  },
  {
   "cell_type": "raw",
   "id": "9587d677-865c-489f-8aba-f4dd38a4021c",
   "metadata": {},
   "source": [
    "15. Find the sum of all elements in a list."
   ]
  },
  {
   "cell_type": "code",
   "execution_count": 121,
   "id": "1abccb09-3bd5-470f-a12f-3274b364c7aa",
   "metadata": {},
   "outputs": [
    {
     "name": "stdout",
     "output_type": "stream",
     "text": [
      "110\n"
     ]
    }
   ],
   "source": [
    "l = [2, 4, 6, 8, 10, 12, 14, 16, 18, 20]\n",
    "sum = 0\n",
    "for i in l:\n",
    "    sum = sum + i\n",
    "print('sum of all element of list is : 'sum)"
   ]
  },
  {
   "cell_type": "raw",
   "id": "2d3609b8-46aa-489e-b953-56783c4d27f5",
   "metadata": {},
   "source": [
    "16. Find the maximum value in a list."
   ]
  },
  {
   "cell_type": "code",
   "execution_count": 124,
   "id": "f9eadbe6-6612-417b-aa6a-52f642aff242",
   "metadata": {},
   "outputs": [
    {
     "name": "stdout",
     "output_type": "stream",
     "text": [
      "max number in the list is:  531\n"
     ]
    }
   ],
   "source": [
    "l = [6,8,12,531,3,1,0,33,4,6]\n",
    "max_num = max(l)\n",
    "print('max number in the list is: ',max_num)"
   ]
  },
  {
   "cell_type": "raw",
   "id": "4b977d85-ace7-444a-9fb8-222b79ec58b0",
   "metadata": {},
   "source": [
    "17. Find the minimum value in a list."
   ]
  },
  {
   "cell_type": "code",
   "execution_count": 126,
   "id": "e3ac7b47-3a6f-4ae4-b942-88a7135cf63a",
   "metadata": {},
   "outputs": [
    {
     "name": "stdout",
     "output_type": "stream",
     "text": [
      "min number in the list is:  1\n"
     ]
    }
   ],
   "source": [
    "l = [6,8,12,531,3,1,33,4,6]\n",
    "min_num = min(l)\n",
    "print('min number in the list is: ',min_num)"
   ]
  },
  {
   "cell_type": "raw",
   "id": "e7b53a3d-0c18-491b-a9ae-dd954381c78f",
   "metadata": {},
   "source": [
    "18. Create a list of squares of numbers from 1 to 10."
   ]
  },
  {
   "cell_type": "code",
   "execution_count": 132,
   "id": "1dcc0636-ad76-4a91-b349-cfdef1e88441",
   "metadata": {},
   "outputs": [
    {
     "name": "stdout",
     "output_type": "stream",
     "text": [
      "list of square numbers from 1 to 10:  [1, 4, 9, 16, 25, 36, 49, 64, 81, 100]\n"
     ]
    }
   ],
   "source": [
    "squared_num = []\n",
    "\n",
    "for i in range(1,11):\n",
    "    square = i**2\n",
    "    squared_num.append(square)\n",
    "print('list of square numbers from 1 to 10: ',squared_num)"
   ]
  },
  {
   "cell_type": "raw",
   "id": "1e5440e6-04f3-4714-b846-81c5faded587",
   "metadata": {},
   "source": [
    "19. Create a list of random numbers."
   ]
  },
  {
   "cell_type": "code",
   "execution_count": 137,
   "id": "98858d31-3693-43de-b0b8-32f3b021207e",
   "metadata": {},
   "outputs": [
    {
     "name": "stdout",
     "output_type": "stream",
     "text": [
      "list of random number from 1 to 500 [42, 2, 32, 44, 46, 46, 6, 21, 40, 8]\n"
     ]
    }
   ],
   "source": [
    "import random\n",
    "l = []\n",
    "for i in range(10):\n",
    "    l.append(random.randint(1,50))\n",
    "print('list of random number from 1 to 500',l)"
   ]
  },
  {
   "cell_type": "raw",
   "id": "a6e5f04c-e3b0-439f-b944-30c33b89eeb9",
   "metadata": {},
   "source": [
    "20. Remove duplicates from a list."
   ]
  },
  {
   "cell_type": "code",
   "execution_count": 142,
   "id": "9451a83e-80a0-415e-b374-c878245b38b0",
   "metadata": {},
   "outputs": [
    {
     "name": "stdout",
     "output_type": "stream",
     "text": [
      "unique elements in the list: [1, 2, 4, 5, 6, 8, 12, 45, 55, 23]\n"
     ]
    }
   ],
   "source": [
    "l = [1,2,2,23,4,45,55,5,5,55,5,6,8,12]\n",
    "\n",
    "unique_list = list(set(l))\n",
    "print('unique elements in the list:',unique_list)"
   ]
  },
  {
   "cell_type": "code",
   "execution_count": 144,
   "id": "8b794dee-2a82-4330-835a-928c52660ebd",
   "metadata": {},
   "outputs": [
    {
     "name": "stdout",
     "output_type": "stream",
     "text": [
      "unique elements in the list: [1, 2, 23, 4, 45, 55, 5, 6, 8, 12]\n"
     ]
    }
   ],
   "source": [
    "l = [1,2,2,23,4,45,55,5,5,55,5,6,8,12]\n",
    "unique_list = []\n",
    "for i in l:\n",
    "    if i not in unique_list:\n",
    "        unique_list.append(i)\n",
    "print('unique elements in the list:',unique_list)"
   ]
  },
  {
   "cell_type": "raw",
   "id": "9052e6c4-12c8-41b6-b806-f4769bbce0f4",
   "metadata": {},
   "source": [
    "21. Find the common elements between two lists."
   ]
  },
  {
   "cell_type": "code",
   "execution_count": 146,
   "id": "b7d6a7e5-8945-4e5a-80e5-9e6d79788949",
   "metadata": {},
   "outputs": [
    {
     "name": "stdout",
     "output_type": "stream",
     "text": [
      "common element in l1 and l2 : [10, 30]\n"
     ]
    }
   ],
   "source": [
    "l1 = [1,10,2,20,3,30]\n",
    "l2 = [10,30,50,70]\n",
    "\n",
    "common_element = []\n",
    "for i in l1:\n",
    "    for j in l2:\n",
    "        if i == j:\n",
    "            common_element.append(i)\n",
    "            \n",
    "print('common element in l1 and l2 :',common_element)"
   ]
  },
  {
   "cell_type": "raw",
   "id": "374cd0f1-99bc-43c0-acc9-4efd68a66b19",
   "metadata": {},
   "source": [
    "23. Merge two lists."
   ]
  },
  {
   "cell_type": "code",
   "execution_count": 154,
   "id": "02c1c3eb-dc61-4046-b845-60fa5aa906e3",
   "metadata": {},
   "outputs": [
    {
     "name": "stdout",
     "output_type": "stream",
     "text": [
      "merged list:  [10, 30, 50, 70, 23, 1, 10, 2, 20, 3, 30]\n"
     ]
    }
   ],
   "source": [
    "l1 = [1,10,2,20,3,30]\n",
    "l2 = [10,30,50,70,23]\n",
    "\n",
    "merged_list = l2 + l1\n",
    "print('merged list: ',merged_list)"
   ]
  },
  {
   "cell_type": "raw",
   "id": "2c3c055f-899b-40ce-9554-ed19ed20b2fa",
   "metadata": {},
   "source": [
    "24. Multiply all elements in a list by 2."
   ]
  },
  {
   "cell_type": "code",
   "execution_count": 163,
   "id": "1b847d03-aa7f-4b62-ac0c-629b378072e2",
   "metadata": {},
   "outputs": [
    {
     "name": "stdout",
     "output_type": "stream",
     "text": [
      "After multiplying by 2 in each element of l1:  [2, 4, 6, 8, 10]\n"
     ]
    }
   ],
   "source": [
    "l1 = [1,2,3,4,5]\n",
    "l2 = [i * 2 for i in l1]\n",
    "print('After multiplying by 2 in each element of l1: ',l2)"
   ]
  },
  {
   "cell_type": "raw",
   "id": "a7baf2aa-cfdb-4860-9a15-4c8c46fe7ecd",
   "metadata": {},
   "source": [
    "25. Filter out all even numbers from a list."
   ]
  },
  {
   "cell_type": "code",
   "execution_count": 169,
   "id": "1af8f25b-7cd1-4099-b1de-15676273a56f",
   "metadata": {},
   "outputs": [
    {
     "name": "stdout",
     "output_type": "stream",
     "text": [
      "Every even element fromlist l:  [2, 2, 4, 6, 8, 12]\n"
     ]
    }
   ],
   "source": [
    "l = [1,2,2,23,4,45,55,5,5,55,5,6,8,12]\n",
    "l1 = []\n",
    "for i in l:\n",
    "    if i% 2 == 0:\n",
    "        l1.append(i)\n",
    "print('Every even element fromlist l: ',l1)"
   ]
  },
  {
   "cell_type": "raw",
   "id": "bf7af9c0-296a-428c-9416-fd4e1ed24932",
   "metadata": {},
   "source": [
    "26. Convert a list of strings to a list of integers."
   ]
  },
  {
   "cell_type": "code",
   "execution_count": 173,
   "id": "d430f2f5-a9df-4e96-b5aa-372da8dd93a1",
   "metadata": {},
   "outputs": [
    {
     "name": "stdout",
     "output_type": "stream",
     "text": [
      "list of strings to a list of integers [1, 2, 3, 4, 5]\n"
     ]
    }
   ],
   "source": [
    "l1 = ['1','2','3','4','5']\n",
    "l2 = []\n",
    "for i in l1:\n",
    "    x = int(i)\n",
    "    l2.append(x)\n",
    "\n",
    "print('list of strings to a list of integers:',l2)"
   ]
  },
  {
   "cell_type": "raw",
   "id": "fa1706eb-78e5-4065-ad1e-1b45e0286203",
   "metadata": {},
   "source": [
    "27. Convert a list of integers to a list of strings."
   ]
  },
  {
   "cell_type": "code",
   "execution_count": 175,
   "id": "fcc16808-05a9-4b72-b275-ac4cec64b0a7",
   "metadata": {},
   "outputs": [
    {
     "name": "stdout",
     "output_type": "stream",
     "text": [
      "list of integers to a list of strings : ['1', '2', '3', '4', '5']\n"
     ]
    }
   ],
   "source": [
    "l1 = [1,2,3,4,5]\n",
    "l2 = []\n",
    "for i in l1:\n",
    "    x = str(i)\n",
    "    l2.append(x)\n",
    "\n",
    "print('list of integers to a list of strings :',l2)"
   ]
  },
  {
   "cell_type": "raw",
   "id": "6732dba3-a9fa-4166-9311-6e3123585a98",
   "metadata": {},
   "source": [
    "28. Flatten a nested list."
   ]
  },
  {
   "cell_type": "code",
   "execution_count": 180,
   "id": "ac40892e-ad09-422d-8702-452f11a5e4df",
   "metadata": {},
   "outputs": [
    {
     "name": "stdout",
     "output_type": "stream",
     "text": [
      "[1, 2, 3, 4, 5, 6, 7, 8, 9]\n"
     ]
    }
   ],
   "source": [
    "l = [[1,2,3],[4,5,6],[7,8,9]]\n",
    "\n",
    "flatten_list = []\n",
    "\n",
    "for i in l:\n",
    "    for j in i:\n",
    "        flatten_list.append(j)\n",
    "print(flatten_list)"
   ]
  },
  {
   "cell_type": "raw",
   "id": "8a65b8a2-b51a-4921-83e3-f2b09098af20",
   "metadata": {},
   "source": [
    "29. Create a list of the first 10 Fibonacci numbers."
   ]
  },
  {
   "cell_type": "code",
   "execution_count": 186,
   "id": "476a1ab5-9392-4f8e-921e-542e0a681f38",
   "metadata": {},
   "outputs": [
    {
     "name": "stdout",
     "output_type": "stream",
     "text": [
      "[1, 2, 2, 2, 2, 2, 2, 2]\n"
     ]
    }
   ],
   "source": [
    "a = 0\n",
    "b = 1\n",
    "fib_list = []\n",
    "c = 0\n",
    "for i in range(2,10):\n",
    "    c = a + b\n",
    "    a = b\n",
    "    fib_list.append(c)\n",
    "print(fib_list)"
   ]
  },
  {
   "cell_type": "raw",
   "id": "3567c267-47e8-424c-87bb-70c6d428ab22",
   "metadata": {},
   "source": [
    "31. Rotate a list to the left by `n` positions."
   ]
  },
  {
   "cell_type": "code",
   "execution_count": 6,
   "id": "5fab6ab7-8842-42f4-9a9c-8fee65a23750",
   "metadata": {},
   "outputs": [
    {
     "name": "stdout",
     "output_type": "stream",
     "text": [
      "rotated list by 3 position: [4, 5, 6, 7, 8, 9, 1, 2, 3]\n"
     ]
    }
   ],
   "source": [
    "l = [1, 2, 3, 4, 5, 6, 7, 8, 9]\n",
    "rotate_position = 3\n",
    "rotate_list = l[rotate_position:] + l[:rotate_position]\n",
    "print('rotated list by 3 position:',rotate_list)"
   ]
  },
  {
   "cell_type": "raw",
   "id": "6563c20e-31de-4fea-8d46-fdd98373480b",
   "metadata": {},
   "source": [
    "32. Rotate a list to the right by `n` positions."
   ]
  },
  {
   "cell_type": "code",
   "execution_count": 5,
   "id": "8fa17997-5b00-4ffd-8df0-de3164b51e44",
   "metadata": {},
   "outputs": [
    {
     "name": "stdout",
     "output_type": "stream",
     "text": [
      "rotated list by 3 position: [7, 8, 9, 1, 2, 3, 4, 5, 6]\n"
     ]
    }
   ],
   "source": [
    "l = [1, 2, 3, 4, 5, 6, 7, 8, 9]\n",
    "rotate_position = 3\n",
    "rotate_list = l[-rotate_position:] + l[:-rotate_position]\n",
    "print('rotated list by 3 position:',rotate_list)"
   ]
  },
  {
   "cell_type": "raw",
   "id": "40ccc13e-2d38-4fa3-8dc1-da9707870fd3",
   "metadata": {},
   "source": [
    "33. Create a list of prime numbers up to 50."
   ]
  },
  {
   "cell_type": "code",
   "execution_count": 7,
   "id": "9059874f-b0bb-4d69-bee6-ddc3599c500c",
   "metadata": {},
   "outputs": [
    {
     "ename": "SyntaxError",
     "evalue": "invalid syntax (3235544590.py, line 6)",
     "output_type": "error",
     "traceback": [
      "\u001b[0;36m  Cell \u001b[0;32mIn[7], line 6\u001b[0;36m\u001b[0m\n\u001b[0;31m    if n/1 == n or\u001b[0m\n\u001b[0m                  ^\u001b[0m\n\u001b[0;31mSyntaxError\u001b[0m\u001b[0;31m:\u001b[0m invalid syntax\n"
     ]
    }
   ],
   "source": [
    "prime_num_list = []\n",
    "\n",
    "n = 50\n",
    "\n",
    "for i in range(n):\n",
    "    if n/1 == n or"
   ]
  },
  {
   "cell_type": "raw",
   "id": "a295d2aa-9cd5-4540-86d3-493df4c4c467",
   "metadata": {},
   "source": [
    "34. Split a list into chunks of size `n`."
   ]
  },
  {
   "cell_type": "code",
   "execution_count": 8,
   "id": "355d683b-9bf7-459a-87a8-39d717e4c73a",
   "metadata": {},
   "outputs": [
    {
     "ename": "AttributeError",
     "evalue": "'list' object has no attribute 'split'",
     "output_type": "error",
     "traceback": [
      "\u001b[0;31m---------------------------------------------------------------------------\u001b[0m",
      "\u001b[0;31mAttributeError\u001b[0m                            Traceback (most recent call last)",
      "Cell \u001b[0;32mIn[8], line 3\u001b[0m\n\u001b[1;32m      1\u001b[0m l \u001b[38;5;241m=\u001b[39m [\u001b[38;5;241m1\u001b[39m, \u001b[38;5;241m2\u001b[39m, \u001b[38;5;241m3\u001b[39m, \u001b[38;5;241m4\u001b[39m, \u001b[38;5;241m5\u001b[39m, \u001b[38;5;241m6\u001b[39m, \u001b[38;5;241m7\u001b[39m, \u001b[38;5;241m8\u001b[39m, \u001b[38;5;241m9\u001b[39m]\n\u001b[1;32m      2\u001b[0m n \u001b[38;5;241m=\u001b[39m \u001b[38;5;241m3\u001b[39m\n\u001b[0;32m----> 3\u001b[0m \u001b[43ml\u001b[49m\u001b[38;5;241;43m.\u001b[39;49m\u001b[43msplit\u001b[49m(\u001b[38;5;241m3\u001b[39m)\n",
      "\u001b[0;31mAttributeError\u001b[0m: 'list' object has no attribute 'split'"
     ]
    }
   ],
   "source": [
    "l = [1, 2, 3, 4, 5, 6, 7, 8, 9]\n",
    "n = 3\n"
   ]
  },
  {
   "cell_type": "raw",
   "id": "66daa692-fea9-4aca-8304-1980f80eac75",
   "metadata": {},
   "source": [
    "35. Find the second largest number in a list."
   ]
  },
  {
   "cell_type": "code",
   "execution_count": 12,
   "id": "cbf0bb1d-667d-4092-ab61-18a81c4fad30",
   "metadata": {},
   "outputs": [
    {
     "name": "stdout",
     "output_type": "stream",
     "text": [
      "Second largest number: 45\n"
     ]
    }
   ],
   "source": [
    "l = [1,2,2,23,4,45,55,5,5,55,5,6,8,12]\n",
    "sorted_list = sorted(set(l))\n",
    "\n",
    "if len(sorted_list) >= 2:\n",
    "    second_largest = sorted_list[-2]\n",
    "    print(\"Second largest number:\", second_largest)\n",
    "else:\n",
    "    print(\"The list does not contain enough elements.\")"
   ]
  },
  {
   "cell_type": "raw",
   "id": "5d936d97-73cf-4d2d-9dd4-b336aee99dc3",
   "metadata": {},
   "source": [
    "36. Replace every element in a list with its square."
   ]
  },
  {
   "cell_type": "code",
   "execution_count": 13,
   "id": "9b3c44e4-062b-4a8c-959d-aab4870fdf8f",
   "metadata": {},
   "outputs": [
    {
     "name": "stdout",
     "output_type": "stream",
     "text": [
      "[1, 4, 9, 16, 25, 36, 49, 64, 81]\n"
     ]
    }
   ],
   "source": [
    "l = [1, 2, 3, 4, 5, 6, 7, 8, 9]\n",
    "\n",
    "square_list = [i**2 for i in l]\n",
    "\n",
    "print(square_list)"
   ]
  },
  {
   "cell_type": "raw",
   "id": "a9226a44-a3c4-4bc2-a661-cfa3b1936dab",
   "metadata": {},
   "source": [
    "37. Convert a list to a dictionary where list elements become keys and their\n",
    "indices become values."
   ]
  },
  {
   "cell_type": "code",
   "execution_count": 17,
   "id": "8a71a524-5524-48c8-819b-15224042d09d",
   "metadata": {},
   "outputs": [
    {
     "name": "stdout",
     "output_type": "stream",
     "text": [
      "list converted to dictonary :  {1: 0, 2: 1, 3: 2, 4: 3, 5: 4, 6: 5, 7: 6, 8: 7, 9: 8}\n"
     ]
    }
   ],
   "source": [
    "l = [1, 2, 3, 4, 5, 6, 7, 8, 9]\n",
    "\n",
    "key_dict = {}\n",
    "\n",
    "for i in l:\n",
    "    if i not in key_dict:\n",
    "        key_dict[i] = l.index(i)\n",
    "print('list converted to dictonary : ',key_dict)"
   ]
  },
  {
   "cell_type": "raw",
   "id": "c892d3fb-b07f-493f-97f6-27ea5855159b",
   "metadata": {},
   "source": [
    "38. Shuffle the elements of a list randomly."
   ]
  },
  {
   "cell_type": "code",
   "execution_count": 26,
   "id": "d00d9e0b-5188-4ae6-9de9-6659b1bce8a7",
   "metadata": {},
   "outputs": [
    {
     "name": "stdout",
     "output_type": "stream",
     "text": [
      "random shuffled list [2, 7, 5, 3, 4, 9, 6, 1, 8]\n"
     ]
    }
   ],
   "source": [
    "import random\n",
    "\n",
    "l = [1, 2, 3, 4, 5, 6, 7, 8, 9]\n",
    "\n",
    "random.shuffle(l)\n",
    "print('random shuffled list',l)"
   ]
  },
  {
   "cell_type": "raw",
   "id": "eec8dac2-9332-4b29-9797-9ea7d83a39e8",
   "metadata": {},
   "source": [
    "39. Create a list of the first 10 factorial numbers."
   ]
  },
  {
   "cell_type": "code",
   "execution_count": 29,
   "id": "3eb798f1-982b-4f2f-83d6-1b4b12c39b3e",
   "metadata": {},
   "outputs": [
    {
     "name": "stdout",
     "output_type": "stream",
     "text": [
      "[1, 4, 9, 16, 25, 36, 49, 64, 81, 100]\n"
     ]
    }
   ],
   "source": [
    "fact_list = []\n",
    "\n",
    "for i in range(1,11):\n",
    "    fact_list.append(i*i)\n",
    "    \n",
    "print(fact_list)"
   ]
  },
  {
   "cell_type": "raw",
   "id": "53cba8f6-ad5c-4467-b10a-f5ae3ac7c927",
   "metadata": {},
   "source": [
    "40. Check if two lists have at least one element in common."
   ]
  },
  {
   "cell_type": "code",
   "execution_count": 54,
   "id": "fdd80b2b-3231-41db-8e14-3fff0c15ae9d",
   "metadata": {},
   "outputs": [
    {
     "name": "stdout",
     "output_type": "stream",
     "text": [
      "The lists have at least one common element.\n"
     ]
    }
   ],
   "source": [
    "l1 = [1,10,2,20,3,30]\n",
    "l2 = [10,30,50,70]\n",
    "\n",
    "common_element = []\n",
    "for i in l1:\n",
    "    for j in l2:\n",
    "        if i == j:\n",
    "            common_element.append(i)\n",
    "        \n",
    "if len(common_element) >= 1:\n",
    "    print(\"The lists have at least one common element.\")\n",
    "else:\n",
    "    print(\"The lists do not have any common elements.\")"
   ]
  },
  {
   "cell_type": "raw",
   "id": "9d7b11cc-7303-47ef-8385-e3ae3d34d3b6",
   "metadata": {},
   "source": [
    "41. Remove all elements from a list."
   ]
  },
  {
   "cell_type": "code",
   "execution_count": 57,
   "id": "6174c864-3e9d-4834-b7f3-6f3e1115f5a7",
   "metadata": {},
   "outputs": [
    {
     "name": "stdout",
     "output_type": "stream",
     "text": [
      "After removing all the elements from the list :  []\n"
     ]
    }
   ],
   "source": [
    "l = [1, 4, 9, 16, 25, 36, 49, 64, 81, 100]\n",
    "\n",
    "for i in range(len(l)):\n",
    "    l.pop()\n",
    "print('After removing all the elements from the list : ',l)"
   ]
  },
  {
   "cell_type": "raw",
   "id": "e2b3073b-8ad2-47bf-befe-599e5748bea7",
   "metadata": {},
   "source": [
    "42. Replace negative numbers in a list with 0."
   ]
  },
  {
   "cell_type": "code",
   "execution_count": 66,
   "id": "a7c7cbee-6f1d-423b-8163-06748027ac1e",
   "metadata": {},
   "outputs": [
    {
     "name": "stdout",
     "output_type": "stream",
     "text": [
      "List after replacing neative value with 0 :  [1, 4, 0, 16, 0, 0, 49, 64, 81, 0]\n"
     ]
    }
   ],
   "source": [
    "l = [1, 4, -9, 16, -25, -36, 49, 64, 81, -100]\n",
    "\n",
    "for i in range(len(l)):\n",
    "    if l[i] < 0:\n",
    "        l[i] = 0\n",
    "print('List after replacing neative value with 0 : ',l)"
   ]
  },
  {
   "cell_type": "raw",
   "id": "b0094242-97f4-42fb-b42d-770f929fcece",
   "metadata": {},
   "source": [
    "43. Convert a string into a list of words."
   ]
  },
  {
   "cell_type": "code",
   "execution_count": 78,
   "id": "db0f6307-c982-4d59-9be0-477a18194c77",
   "metadata": {},
   "outputs": [
    {
     "name": "stdin",
     "output_type": "stream",
     "text": [
      "Enter a sentence hey my name is rohan\n"
     ]
    },
    {
     "name": "stdout",
     "output_type": "stream",
     "text": [
      "After converting sentence into list of words :  ['hey', 'my', 'name', 'is', 'rohan']\n"
     ]
    }
   ],
   "source": [
    "s = input(\"Enter a sentence\")\n",
    "l = s.split()\n",
    "print('After converting sentence into list of words : ',l)"
   ]
  },
  {
   "cell_type": "raw",
   "id": "6c98fe78-3dbe-4b9c-a32c-fc2ce110a751",
   "metadata": {},
   "source": [
    "44. Convert a list of words into a string."
   ]
  },
  {
   "cell_type": "code",
   "execution_count": 81,
   "id": "98d68c1c-e51d-4fe4-b891-64cbb0321e4a",
   "metadata": {},
   "outputs": [
    {
     "name": "stdout",
     "output_type": "stream",
     "text": [
      "After converting list into sentence :  hey my name is rohan\n"
     ]
    }
   ],
   "source": [
    "l = ['hey', 'my', 'name', 'is', 'rohan']\n",
    "\n",
    "s = ' '.join(l)\n",
    "\n",
    "print('After converting list into sentence : ',s)"
   ]
  },
  {
   "cell_type": "raw",
   "id": "fbfb1e19-7fb9-4b48-af2e-8dc516936770",
   "metadata": {},
   "source": [
    "45. Create a list of the first `n` powers of 2."
   ]
  },
  {
   "cell_type": "code",
   "execution_count": 86,
   "id": "7989274b-693c-493c-9995-3b0efdb1afe5",
   "metadata": {},
   "outputs": [
    {
     "name": "stdout",
     "output_type": "stream",
     "text": [
      "List of first \"n\" power of 2 :  [0, 1, 4, 9, 16, 25, 36, 49, 64, 81, 100, 121, 144, 169, 196, 225, 256, 289, 324, 361, 400]\n"
     ]
    }
   ],
   "source": [
    "n = 20\n",
    "l = [i**2 for i in range(n+1)]\n",
    "\n",
    "# for i in range(n):\n",
    "print('List of first \"n\" power of 2 : ',l)"
   ]
  },
  {
   "cell_type": "raw",
   "id": "993b6c50-b457-4f22-be31-725202e13cbf",
   "metadata": {},
   "source": [
    "46. Find the longest string in a list of strings."
   ]
  },
  {
   "cell_type": "code",
   "execution_count": 87,
   "id": "0d3fdc33-096b-435b-9dd7-f3ce87454adf",
   "metadata": {},
   "outputs": [
    {
     "name": "stdout",
     "output_type": "stream",
     "text": [
      "Longest string: rohan\n"
     ]
    }
   ],
   "source": [
    "l = ['hey', 'my', 'name', 'is', 'rohan']\n",
    "\n",
    "longest_string = \"\"\n",
    "for i in  l:\n",
    "    if len(i) > len(longest_string):\n",
    "        longest_string = i\n",
    "\n",
    "print(\"Longest string:\", longest_string)"
   ]
  },
  {
   "cell_type": "raw",
   "id": "ad89f953-f89b-43d1-a6cd-3e3f903ddf46",
   "metadata": {},
   "source": [
    "47. Find the shortest string in a list of strings."
   ]
  },
  {
   "cell_type": "code",
   "execution_count": 90,
   "id": "160cb3dc-4232-4aca-8ae8-eb667d0f7300",
   "metadata": {},
   "outputs": [
    {
     "name": "stdout",
     "output_type": "stream",
     "text": [
      "Shortest String :  my\n"
     ]
    }
   ],
   "source": [
    "l = ['hey', 'my', 'name', 'is', 'rohan']\n",
    "\n",
    "shortest_string = l[0]\n",
    "for i in l:\n",
    "    if len(i) < len(shortest_string):\n",
    "        shortest_string = i\n",
    "\n",
    "        print('Shortest String : ', shortest_string)"
   ]
  },
  {
   "cell_type": "raw",
   "id": "14d67dc1-a1db-4dd1-97bb-55d54d085c3a",
   "metadata": {},
   "source": [
    "50. Swap two elements in a list by their indices."
   ]
  },
  {
   "cell_type": "code",
   "execution_count": 1,
   "id": "054ba065-9f2b-4005-8416-4407c2c221a3",
   "metadata": {},
   "outputs": [],
   "source": [
    "l = [1, 4, 0, 16, 0, 0, 49, 64, 81, 0]\n",
    "\n",
    "index1 = 3\n",
    "index2 = 7\n",
    "\n"
   ]
  },
  {
   "cell_type": "markdown",
   "id": "9bb410ee-923e-485d-a6f0-571a3afe5dea",
   "metadata": {},
   "source": [
    "# Tuple Based Practice Problem :"
   ]
  },
  {
   "cell_type": "raw",
   "id": "f611c245-35b6-4ece-9add-246c4ec2f533",
   "metadata": {},
   "source": [
    "1. Create a tuple with integers from 1 to 5."
   ]
  },
  {
   "cell_type": "code",
   "execution_count": 3,
   "id": "96fb5d90-0368-4b02-8459-c6cf0049b231",
   "metadata": {},
   "outputs": [
    {
     "name": "stdout",
     "output_type": "stream",
     "text": [
      "Tuple of range 1 to 5 :  (1, 2, 3, 4, 5)\n"
     ]
    }
   ],
   "source": [
    "t = (1,2,3,4,5)\n",
    "\n",
    "print('Tuple of range 1 to 5 : ',t)"
   ]
  },
  {
   "cell_type": "raw",
   "id": "b256b970-1166-4ef3-b1fb-d880cd33da03",
   "metadata": {},
   "source": [
    "2. Access the third element of a tuple."
   ]
  },
  {
   "cell_type": "code",
   "execution_count": 4,
   "id": "6105c216-1124-4eff-88c0-d2fda10a8476",
   "metadata": {},
   "outputs": [
    {
     "name": "stdout",
     "output_type": "stream",
     "text": [
      "Third element of tuple is :  5\n"
     ]
    }
   ],
   "source": [
    "t = (1,3,5,7,9)\n",
    "\n",
    "third_element = t[2]\n",
    "\n",
    "print('Third element of tuple is : ', third_element)"
   ]
  },
  {
   "cell_type": "raw",
   "id": "0779a29f-8ffb-4a28-8448-9bffdd357e7f",
   "metadata": {},
   "source": [
    "3. Find the length of a tuple without using the `len()` function."
   ]
  },
  {
   "cell_type": "code",
   "execution_count": 6,
   "id": "782f9591-3aac-4002-be95-4ad2c0aba39a",
   "metadata": {},
   "outputs": [
    {
     "name": "stdout",
     "output_type": "stream",
     "text": [
      "Length of the tuple is  :  5\n"
     ]
    }
   ],
   "source": [
    "t = (1,3,5,7,9)\n",
    "\n",
    "count = 0\n",
    "for i in t:\n",
    "    count += 1\n",
    "print('Length of the tuple is  : ',count)"
   ]
  },
  {
   "cell_type": "raw",
   "id": "5d47a7ad-2b19-4eb6-b61a-e55e74106d55",
   "metadata": {},
   "source": [
    "4. Count the occurrences of an element in a tuple."
   ]
  },
  {
   "cell_type": "code",
   "execution_count": 11,
   "id": "7aad9579-98aa-4909-b0d5-021fed74277f",
   "metadata": {},
   "outputs": [
    {
     "name": "stdout",
     "output_type": "stream",
     "text": [
      "The element 9 occurs 3 times in tuple\n"
     ]
    }
   ],
   "source": [
    "t = (1,3,9,5,3,7,9,0,9)\n",
    "\n",
    "element = 9\n",
    "count = 0\n",
    "\n",
    "for i in t:\n",
    "    if i == element:\n",
    "        count +=1\n",
    "print('The element', element, 'occurs',count,'times in tuple')"
   ]
  },
  {
   "cell_type": "raw",
   "id": "7dfbc746-9b39-45f3-91be-baf7fdb85383",
   "metadata": {},
   "source": [
    "5. Find the index of the first occurrence of an element in a tuple."
   ]
  },
  {
   "cell_type": "code",
   "execution_count": 17,
   "id": "9d143476-714e-4724-85ed-54e3bf935cb6",
   "metadata": {},
   "outputs": [
    {
     "name": "stdout",
     "output_type": "stream",
     "text": [
      "-1\n"
     ]
    }
   ],
   "source": [
    "t = (1,3,9,5,3,7,9,0,9)\n",
    "\n",
    "element = 3\n",
    "index = -1\n",
    "\n",
    "for i in l:\n",
    "    if i == element:\n",
    "        index = i\n",
    "print(index)"
   ]
  },
  {
   "cell_type": "raw",
   "id": "e68c2d03-03d2-44e9-a71a-016954295762",
   "metadata": {},
   "source": [
    "6. Check if an element exists in a tuple."
   ]
  },
  {
   "cell_type": "code",
   "execution_count": 22,
   "id": "9e31bdb7-76d5-4bfd-8643-c188ce30738c",
   "metadata": {},
   "outputs": [
    {
     "name": "stdout",
     "output_type": "stream",
     "text": [
      "The element  5 exists in tuple.\n"
     ]
    }
   ],
   "source": [
    "t = (1,3,9,5,3,7,9,0,9)\n",
    "\n",
    "element = 5\n",
    "\n",
    "if element in t:\n",
    "    print(\"The element \",element,\"exists in tuple.\")\n",
    "else:\n",
    "    print('The element',element,'do not exits in tuple.')"
   ]
  },
  {
   "cell_type": "raw",
   "id": "97de69f7-f530-4b66-9cb9-30a1bbef098e",
   "metadata": {},
   "source": [
    "7. Convert a tuple to a list.\n"
   ]
  },
  {
   "cell_type": "code",
   "execution_count": 27,
   "id": "48f1ba6b-fc5c-48c4-a2fb-6c51b3242ff4",
   "metadata": {},
   "outputs": [
    {
     "name": "stdout",
     "output_type": "stream",
     "text": [
      "Tuple converted to list :  [1, 3, 9, 5, 3, 7, 9, 0, 9]\n"
     ]
    }
   ],
   "source": [
    "t = (1,3,9,5,3,7,9,0,9)\n",
    "\n",
    "list1 = []\n",
    "\n",
    "for i in t:\n",
    "    list1.append(i)\n",
    "\n",
    "print('Tuple converted to list : ',list1)"
   ]
  },
  {
   "cell_type": "raw",
   "id": "c5d430a1-67c5-4c31-9e47-0fbd7c873bb9",
   "metadata": {},
   "source": [
    "8. Convert a list to a tuple."
   ]
  },
  {
   "cell_type": "code",
   "execution_count": 30,
   "id": "42e6b69c-4b46-4ef2-9da1-1de31f2deb1d",
   "metadata": {},
   "outputs": [
    {
     "name": "stdout",
     "output_type": "stream",
     "text": [
      "List converted to tuple :  (1, 3, 9, 5, 3, 7, 9, 0, 9)\n"
     ]
    }
   ],
   "source": [
    "list1 = [1, 3, 9, 5, 3, 7, 9, 0, 9]\n",
    "\n",
    "t = tuple(list1)\n",
    "\n",
    "print('List converted to tuple : ',t)"
   ]
  },
  {
   "cell_type": "raw",
   "id": "ff07f1a5-91b4-4e5f-ad4c-33ad8a38f358",
   "metadata": {},
   "source": [
    "9. Unpack the elements of a tuple into variables."
   ]
  },
  {
   "cell_type": "code",
   "execution_count": 32,
   "id": "1006daca-7c87-4d69-ad5b-602fa2b6e832",
   "metadata": {},
   "outputs": [
    {
     "name": "stdout",
     "output_type": "stream",
     "text": [
      "a: 1\n",
      "b: 3\n",
      "c: 9\n"
     ]
    }
   ],
   "source": [
    "t = (1, 3, 9)\n",
    "\n",
    "a, b, c = t\n",
    "print('a:',a)\n",
    "print('b:',b)\n",
    "print('c:',c)"
   ]
  },
  {
   "cell_type": "raw",
   "id": "ee6b7589-1ad2-4196-96f7-246c0c1ca47e",
   "metadata": {},
   "source": [
    "10. Create a tuple of even numbers from 1 to 10."
   ]
  },
  {
   "cell_type": "code",
   "execution_count": 34,
   "id": "41a30094-646a-43bd-b4de-9885a39808ad",
   "metadata": {},
   "outputs": [
    {
     "name": "stdout",
     "output_type": "stream",
     "text": [
      "Tuple of even numbers from 1 to 10:  (2, 4, 6, 8, 10)\n"
     ]
    }
   ],
   "source": [
    "l = []\n",
    "\n",
    "for i in range(1,11):\n",
    "    if i % 2 == 0:\n",
    "        l.append(i)\n",
    "    \n",
    "t = tuple(l)\n",
    "print('Tuple of even numbers from 1 to 10: ',t)"
   ]
  },
  {
   "cell_type": "raw",
   "id": "c23fb349-0864-482e-bfae-a1e8b7141a91",
   "metadata": {},
   "source": [
    "11. Create a tuple of odd numbers from 1 to 10."
   ]
  },
  {
   "cell_type": "code",
   "execution_count": 37,
   "id": "cabb0de2-d6ee-4733-83f1-1a5a338ba7d1",
   "metadata": {},
   "outputs": [
    {
     "name": "stdout",
     "output_type": "stream",
     "text": [
      "Tuple of odd numbers from 1 to 10:  (1, 3, 5, 7, 9)\n"
     ]
    }
   ],
   "source": [
    "l = []\n",
    "\n",
    "for i in range(1,10):\n",
    "    if i % 2 != 0:\n",
    "        l.append(i)\n",
    "    \n",
    "t = tuple(l)\n",
    "print('Tuple of odd numbers from 1 to 10: ',t)"
   ]
  },
  {
   "cell_type": "raw",
   "id": "b4347134-85c9-43bd-98aa-8072d360d828",
   "metadata": {},
   "source": [
    "12. Concatenate two tuples."
   ]
  },
  {
   "cell_type": "code",
   "execution_count": 40,
   "id": "d4b38acd-b8c5-468c-ac8f-b253a6cd8e1a",
   "metadata": {},
   "outputs": [
    {
     "name": "stdout",
     "output_type": "stream",
     "text": [
      "Concatenation of two tuples: (1, 2, 3, 4, 5, 6)\n"
     ]
    }
   ],
   "source": [
    "t1 = (1,2,3)\n",
    "t2 = (4,5,6)\n",
    "\n",
    "concenate_t = t1 + t2\n",
    "print('Concatenation of two tuples:',concenate_t)"
   ]
  },
  {
   "cell_type": "raw",
   "id": "49d946fa-47c9-44fa-bed9-e3edcae66227",
   "metadata": {},
   "source": [
    "13. Repeat a tuple three times."
   ]
  },
  {
   "cell_type": "code",
   "execution_count": null,
   "id": "458d0fba-a4f1-465c-9a73-42715e131403",
   "metadata": {},
   "outputs": [],
   "source": [
    "t1 = (1,2,3)\n",
    "\n",
    "t = t1"
   ]
  },
  {
   "cell_type": "raw",
   "id": "107eab94-13e9-463c-bcba-03662896fbf7",
   "metadata": {},
   "source": [
    "14. Check if a tuple is empty."
   ]
  },
  {
   "cell_type": "code",
   "execution_count": 3,
   "id": "5e08f63f-2f9b-4325-b5f0-f2f7388ba16a",
   "metadata": {},
   "outputs": [
    {
     "name": "stdout",
     "output_type": "stream",
     "text": [
      "Tuple is not empty\n"
     ]
    }
   ],
   "source": [
    "t = (1,2,3)\n",
    "\n",
    "if len(t) == 0:\n",
    "    print('Tuple is empty.')\n",
    "else:\n",
    "    print('Tuple is not empty')"
   ]
  },
  {
   "cell_type": "raw",
   "id": "fb71b554-62e6-4633-a16a-fd37943189bb",
   "metadata": {},
   "source": [
    "15. Create a nested tuple."
   ]
  },
  {
   "cell_type": "code",
   "execution_count": 8,
   "id": "b3c1d830-f966-4724-9449-7f663378f80c",
   "metadata": {},
   "outputs": [
    {
     "name": "stdout",
     "output_type": "stream",
     "text": [
      "Nested tuple :  ((1, 2), (3, 4))\n"
     ]
    }
   ],
   "source": [
    "t = ((1,2),(3,4))\n",
    "print('Nested tuple : ',t)"
   ]
  },
  {
   "cell_type": "raw",
   "id": "21d5ef5a-ad90-44d5-8b3e-d4264f06a2a9",
   "metadata": {},
   "source": [
    "16. Access the first element of a nested tuple."
   ]
  },
  {
   "cell_type": "code",
   "execution_count": 10,
   "id": "784aeea1-bd6d-4921-adb9-6e2bae2828b3",
   "metadata": {},
   "outputs": [
    {
     "name": "stdout",
     "output_type": "stream",
     "text": [
      "First element of nested tuple is:  (1, 2)\n"
     ]
    }
   ],
   "source": [
    "Nested_tuple = ((1, 2), (3, 4))\n",
    "\n",
    "first_element = Nested_tuple[0]\n",
    "\n",
    "print('First element of nested tuple is: ',first_element)"
   ]
  },
  {
   "cell_type": "raw",
   "id": "3bbb868a-a251-4e21-b70d-839c56ec4bf5",
   "metadata": {},
   "source": [
    "17. Create a tuple with a single element."
   ]
  },
  {
   "cell_type": "code",
   "execution_count": 14,
   "id": "9f429abf-941d-4224-9e8a-a9e404a589a3",
   "metadata": {},
   "outputs": [
    {
     "name": "stdout",
     "output_type": "stream",
     "text": [
      "Tuple with single element (39,)\n"
     ]
    }
   ],
   "source": [
    "t = (39,)\n",
    "\n",
    "print('Tuple with single element',t)\n"
   ]
  },
  {
   "cell_type": "raw",
   "id": "d75a9473-2c96-4e74-a5fd-89ef925ffdcf",
   "metadata": {},
   "source": [
    "18. Compare two tuples."
   ]
  },
  {
   "cell_type": "code",
   "execution_count": 15,
   "id": "4cf89994-b424-4903-af96-e7a3d5ffa10c",
   "metadata": {},
   "outputs": [
    {
     "name": "stdout",
     "output_type": "stream",
     "text": [
      "tuple1 == tuple2: False\n",
      "tuple1 != tuple2: True\n",
      "tuple1 < tuple2: True\n",
      "tuple1 <= tuple2: True\n",
      "tuple1 > tuple2: False\n",
      "tuple1 >= tuple2: False\n"
     ]
    }
   ],
   "source": [
    "t1 = (1,2,3)\n",
    "t2 = (4,5,6)\n",
    "\n",
    "print(\"tuple1 == tuple2:\", t1 == t2)  \n",
    "print(\"tuple1 != tuple2:\", t1 != t2)  \n",
    "print(\"tuple1 < tuple2:\", t1 < t2)   \n",
    "print(\"tuple1 <= tuple2:\", t1 <= t2) \n",
    "print(\"tuple1 > tuple2:\", t1 > t2)    \n",
    "print(\"tuple1 >= tuple2:\", t1 >= t2)  "
   ]
  },
  {
   "cell_type": "raw",
   "id": "d0a43641-dc84-4b14-a43c-56122e6819fd",
   "metadata": {},
   "source": [
    "19. Delete a tuple."
   ]
  },
  {
   "cell_type": "code",
   "execution_count": 22,
   "id": "6c6f4883-4f77-415c-ab4d-b19baece674d",
   "metadata": {},
   "outputs": [
    {
     "ename": "NameError",
     "evalue": "name 't1' is not defined",
     "output_type": "error",
     "traceback": [
      "\u001b[0;31m---------------------------------------------------------------------------\u001b[0m",
      "\u001b[0;31mNameError\u001b[0m                                 Traceback (most recent call last)",
      "Cell \u001b[0;32mIn[22], line 4\u001b[0m\n\u001b[1;32m      1\u001b[0m t1 \u001b[38;5;241m=\u001b[39m (\u001b[38;5;241m1\u001b[39m,\u001b[38;5;241m2\u001b[39m,\u001b[38;5;241m3\u001b[39m)\n\u001b[1;32m      3\u001b[0m \u001b[38;5;28;01mdel\u001b[39;00m t1\n\u001b[0;32m----> 4\u001b[0m \u001b[43mt1\u001b[49m\n",
      "\u001b[0;31mNameError\u001b[0m: name 't1' is not defined"
     ]
    }
   ],
   "source": [
    "t1 = (1,2,3)\n",
    "\n",
    "del t1\n",
    "t1"
   ]
  },
  {
   "cell_type": "raw",
   "id": "bfc28109-4eae-4bdd-8ca1-90ba24462902",
   "metadata": {},
   "source": [
    "20. Slice a tuple."
   ]
  },
  {
   "cell_type": "code",
   "execution_count": 25,
   "id": "b7b2a17e-6601-4e10-a886-bbb7123fd349",
   "metadata": {},
   "outputs": [
    {
     "name": "stdout",
     "output_type": "stream",
     "text": [
      "Sliced tuple:  (9, 5, 3, 7, 9)\n"
     ]
    }
   ],
   "source": [
    "t = (1, 3, 9, 5, 3, 7, 9, 0, 9)\n",
    "\n",
    "slice_t = t[2:7]\n",
    "\n",
    "print('Sliced tuple: ',slice_t)"
   ]
  },
  {
   "cell_type": "raw",
   "id": "0896565f-82c0-47cf-936b-fa03ee46d5ee",
   "metadata": {},
   "source": [
    "21. Find the maximum value in a tuple."
   ]
  },
  {
   "cell_type": "code",
   "execution_count": 28,
   "id": "e05ac955-db2e-43ca-b75b-8542ad4d05c1",
   "metadata": {},
   "outputs": [
    {
     "name": "stdout",
     "output_type": "stream",
     "text": [
      "Maximum value in the tuple is :  200\n"
     ]
    }
   ],
   "source": [
    "t = (1, 3, 9, 5, 3, 7, 9,  9,200, 7,67)\n",
    "\n",
    "print('Maximum value in the tuple is : ',max(t))"
   ]
  },
  {
   "cell_type": "raw",
   "id": "cadba88c-ce21-4454-937e-4bbf8ca198bb",
   "metadata": {},
   "source": [
    "22. Find the minimum value in a tuple."
   ]
  },
  {
   "cell_type": "code",
   "execution_count": 30,
   "id": "8c448fcf-ced6-4314-af38-3736d194973b",
   "metadata": {},
   "outputs": [
    {
     "name": "stdout",
     "output_type": "stream",
     "text": [
      "Minimum value in the tuple is :  1\n"
     ]
    }
   ],
   "source": [
    "t = (3, 9, 5, 3,1, 7, 9,  9,200, 7,67)\n",
    "\n",
    "print('Minimum value in the tuple is : ',min(t))"
   ]
  },
  {
   "cell_type": "raw",
   "id": "e8f3d185-e343-40ad-9452-115a3fe61daa",
   "metadata": {},
   "source": [
    "23. Convert a string to a tuple of characters."
   ]
  },
  {
   "cell_type": "code",
   "execution_count": 34,
   "id": "84c43c7c-6f42-40f0-b3ea-88308947aa8c",
   "metadata": {},
   "outputs": [
    {
     "name": "stdout",
     "output_type": "stream",
     "text": [
      "Tuple of characters: ('H', 'e', 'y', ' ', 't', 'h', 'e', 'r', 'e', ',', ' ', 'k', 'a', 'p', 'i', 's', 'h', ' ', 'h', 'e', 'r', 'e')\n"
     ]
    }
   ],
   "source": [
    "string = 'Hey there, kapish here'\n",
    "\n",
    "t1 = tuple(string)\n",
    "print('Tuple of characters:',t1)"
   ]
  },
  {
   "cell_type": "raw",
   "id": "2435a13c-edc1-4098-9b7a-817c49135635",
   "metadata": {},
   "source": [
    "24. Convert a tuple of characters to a string."
   ]
  },
  {
   "cell_type": "code",
   "execution_count": 38,
   "id": "bd86bddc-12b3-4f32-a77b-b206f89d3399",
   "metadata": {},
   "outputs": [
    {
     "name": "stdout",
     "output_type": "stream",
     "text": [
      "Tuple to string: Hey there, kapish here\n"
     ]
    }
   ],
   "source": [
    "t = ('H', 'e', 'y', ' ', 't', 'h', 'e', 'r', 'e', ',', ' ', 'k', 'a', 'p', 'i', 's', 'h', ' ', 'h', 'e', 'r', 'e')\n",
    "\n",
    "str_char = ''.join(t)\n",
    "\n",
    "print('Tuple to string:',str_char)\n"
   ]
  },
  {
   "cell_type": "raw",
   "id": "21701e7f-ea37-4a57-8b00-5a27c728f30d",
   "metadata": {},
   "source": [
    "25. Create a tuple from multiple data types."
   ]
  },
  {
   "cell_type": "code",
   "execution_count": 41,
   "id": "09e2f30a-80b0-4ef9-9600-0647c132b1b2",
   "metadata": {},
   "outputs": [
    {
     "name": "stdout",
     "output_type": "stream",
     "text": [
      "Tuple of multiple data types: (1, [1, 2, 3], ('pwskills', 'DSA'), {3, 5}, {'a': 1})\n"
     ]
    }
   ],
   "source": [
    "t = (1,[1,2,3],('pwskills','DSA'),{3,5},{'a': 1})\n",
    "\n",
    "print('Tuple of multiple data types:',t)"
   ]
  },
  {
   "cell_type": "raw",
   "id": "38d3c014-1bf1-41ae-b35e-e1d1b9350d01",
   "metadata": {},
   "source": [
    "26. Check if two tuples are identical."
   ]
  },
  {
   "cell_type": "code",
   "execution_count": 44,
   "id": "feb2e429-a8fb-4c73-8a6b-da370c80af78",
   "metadata": {},
   "outputs": [
    {
     "name": "stdout",
     "output_type": "stream",
     "text": [
      "Tuples are identical\n"
     ]
    }
   ],
   "source": [
    "t1 = (1,2,3)\n",
    "t2 = (1,2,3)\n",
    "\n",
    "if t1 == t2:\n",
    "    print('Tuples are identical')\n",
    "else:\n",
    "    print('Tuples are not identical')"
   ]
  },
  {
   "cell_type": "raw",
   "id": "c4955c00-4fb7-4c1f-826a-9f587b63be8f",
   "metadata": {},
   "source": [
    "27. Sort the elements of a tuple."
   ]
  },
  {
   "cell_type": "code",
   "execution_count": 53,
   "id": "3a8dda0b-c07b-4101-9453-0283811d648c",
   "metadata": {},
   "outputs": [
    {
     "name": "stdout",
     "output_type": "stream",
     "text": [
      "Tuple after sorting:  (1, 3, 3, 5, 7, 7, 9, 9, 9, 67, 200)\n"
     ]
    }
   ],
   "source": [
    "t = (1, 3, 9, 5, 3, 7, 9,  9,200, 7,67)\n",
    "\n",
    "l1 = list(t)\n",
    "l1.sort()\n",
    "t1 = tuple(l1)\n",
    "\n",
    "print('Tuple after sorting: ',t1)"
   ]
  },
  {
   "cell_type": "code",
   "execution_count": 57,
   "id": "f85c7b34-e87d-4b08-8b4e-12d2fb907ab9",
   "metadata": {},
   "outputs": [
    {
     "name": "stdout",
     "output_type": "stream",
     "text": [
      "Tuple after sorting:  (1, 3, 3, 5, 7, 7, 9, 9, 9, 67, 200)\n"
     ]
    }
   ],
   "source": [
    "t = (1, 3, 9, 5, 3, 7, 9,  9,200, 7,67)\n",
    "\n",
    "sort = tuple(sorted(t))\n",
    "print('Tuple after sorting: ',sort)"
   ]
  },
  {
   "cell_type": "raw",
   "id": "6d31525d-33b8-48ae-89c4-b8bc187f4c9d",
   "metadata": {},
   "source": [
    "28. Convert a tuple of integers to a tuple of strings."
   ]
  },
  {
   "cell_type": "code",
   "execution_count": 64,
   "id": "ddf8038c-7b64-442f-aafd-c8ed6cbe5f0b",
   "metadata": {},
   "outputs": [
    {
     "name": "stdout",
     "output_type": "stream",
     "text": [
      "Tuple of strings: ('1', '2', '3', '4', '5')\n"
     ]
    }
   ],
   "source": [
    "t = (1, 2, 3, 4, 5)\n",
    "\n",
    "tuple_of_strings = tuple(str(item) for item in t)\n",
    "\n",
    "print(\"Tuple of strings:\", tuple_of_strings)"
   ]
  },
  {
   "cell_type": "raw",
   "id": "cf1ac1d4-8b06-40c0-9aa4-7eb9a68dfcb2",
   "metadata": {},
   "source": [
    "29. Convert a tuple of strings to a tuple of integers."
   ]
  },
  {
   "cell_type": "code",
   "execution_count": 67,
   "id": "0a35fbef-f595-4906-8a34-a4d773c284e6",
   "metadata": {},
   "outputs": [
    {
     "name": "stdout",
     "output_type": "stream",
     "text": [
      "Tuple of integers: (1, 2, 3, 4, 5)\n"
     ]
    }
   ],
   "source": [
    "t = ('1', '2', '3', '4', '5')\n",
    "\n",
    "tuple_of_integer = tuple(int(item) for item in t)\n",
    "\n",
    "print(\"Tuple of integers:\", tuple_of_integer)"
   ]
  },
  {
   "cell_type": "raw",
   "id": "454fb76c-38f3-4c61-8c0f-b594ac6de89a",
   "metadata": {},
   "source": [
    "30. Merge two tuples."
   ]
  },
  {
   "cell_type": "code",
   "execution_count": 70,
   "id": "eac8da4b-9dce-40c1-990f-dddde4a61500",
   "metadata": {},
   "outputs": [
    {
     "name": "stdout",
     "output_type": "stream",
     "text": [
      "Merged tuple: (1, 2, 3, 4, 5, 6)\n"
     ]
    }
   ],
   "source": [
    "t1 = (1,2,3)\n",
    "t2 = (4,5,6)\n",
    "\n",
    "merged_tuple = t1 + t2\n",
    "\n",
    "print('Merged tuple:',merged_tuple)"
   ]
  },
  {
   "cell_type": "raw",
   "id": "631443fb-36fe-4548-bd02-7353ef799889",
   "metadata": {},
   "source": [
    "31. Flatten a nested tuple."
   ]
  },
  {
   "cell_type": "code",
   "execution_count": 75,
   "id": "78ba4490-e9cd-4d1e-98c5-1147ab974177",
   "metadata": {},
   "outputs": [
    {
     "ename": "TypeError",
     "evalue": "'int' object is not iterable",
     "output_type": "error",
     "traceback": [
      "\u001b[0;31m---------------------------------------------------------------------------\u001b[0m",
      "\u001b[0;31mTypeError\u001b[0m                                 Traceback (most recent call last)",
      "Cell \u001b[0;32mIn[75], line 5\u001b[0m\n\u001b[1;32m      3\u001b[0m \u001b[38;5;28;01mfor\u001b[39;00m i \u001b[38;5;129;01min\u001b[39;00m nested_tuple:\n\u001b[1;32m      4\u001b[0m     \u001b[38;5;28;01mfor\u001b[39;00m j \u001b[38;5;129;01min\u001b[39;00m i:\n\u001b[0;32m----> 5\u001b[0m         t \u001b[38;5;241m=\u001b[39m \u001b[38;5;28;43mtuple\u001b[39;49m\u001b[43m(\u001b[49m\u001b[43mj\u001b[49m\u001b[43m)\u001b[49m\n",
      "\u001b[0;31mTypeError\u001b[0m: 'int' object is not iterable"
     ]
    }
   ],
   "source": [
    "nested_tuple = ((1, 2), (3, 4))\n",
    "\n",
    "for i in nested_tuple:\n",
    "    for j in i:\n",
    "        "
   ]
  },
  {
   "cell_type": "raw",
   "id": "497c2610-623c-4b15-8629-b7097c8c6e8e",
   "metadata": {},
   "source": [
    "33. Check if a tuple is a palindrome."
   ]
  },
  {
   "cell_type": "code",
   "execution_count": 83,
   "id": "3ab40c7f-a468-4165-847d-d785518e11cf",
   "metadata": {},
   "outputs": [
    {
     "name": "stdout",
     "output_type": "stream",
     "text": [
      "Tuple is a palindrome.\n"
     ]
    }
   ],
   "source": [
    "t1 = (1,2,3,2,1)\n",
    "t2 = t1[::-1]\n",
    "\n",
    "if t1 == t2:\n",
    "    print('Tuple is a palindrome.')\n",
    "else:\n",
    "    print('Tuple is not palindrome.')\n"
   ]
  },
  {
   "cell_type": "raw",
   "id": "3cdad55d-6cbc-4391-bdbf-17f287d9d07b",
   "metadata": {},
   "source": [
    "34. Create a tuple of squares of numbers from 1 to 5."
   ]
  },
  {
   "cell_type": "code",
   "execution_count": 87,
   "id": "215acca7-632b-47fb-9b45-c5cfeb810ee0",
   "metadata": {},
   "outputs": [
    {
     "name": "stdout",
     "output_type": "stream",
     "text": [
      "squares of numbers from 1 to 5: (1, 4, 9, 16, 25)\n"
     ]
    }
   ],
   "source": [
    "t = tuple([i**2 for i in range(1,6)])\n",
    "print('squares of numbers from 1 to 5:',t)"
   ]
  },
  {
   "cell_type": "raw",
   "id": "10f83c8f-2f1b-4404-b82c-471d38bb808d",
   "metadata": {},
   "source": [
    "35. Filter out all even numbers from a tuple."
   ]
  },
  {
   "cell_type": "code",
   "execution_count": 91,
   "id": "560c0ea3-fd2a-490e-b4fe-e3295638c37d",
   "metadata": {},
   "outputs": [
    {
     "name": "stdout",
     "output_type": "stream",
     "text": [
      "Even numbers from a tuple:  (2, 4, 6)\n"
     ]
    }
   ],
   "source": [
    "t = (1, 2, 3, 4, 5, 6)\n",
    "l = []\n",
    "for i in t:\n",
    "    if i%2 == 0:\n",
    "        l.append(i)\n",
    "even_num_tuple = tuple(l)\n",
    "print('Even numbers from a tuple: ',even_num_tuple)"
   ]
  },
  {
   "cell_type": "raw",
   "id": "f77c11cc-3e7f-4a02-944f-a279c130e14c",
   "metadata": {},
   "source": [
    "36. Multiply all elements in a tuple by 2."
   ]
  },
  {
   "cell_type": "code",
   "execution_count": 94,
   "id": "078fcd7a-0f5c-4bcf-b713-0f6641aa1b6c",
   "metadata": {},
   "outputs": [
    {
     "name": "stdout",
     "output_type": "stream",
     "text": [
      "After multiplying all elements of tuple t by 2: (2, 4, 6, 8, 10, 12)\n"
     ]
    }
   ],
   "source": [
    "t = (1, 2, 3, 4, 5, 6)\n",
    "l = []\n",
    "\n",
    "for i in t:\n",
    "    l.append(i*2)\n",
    "t1 = tuple(l)\n",
    "print('After multiplying all elements of tuple t by 2:',t1)"
   ]
  },
  {
   "cell_type": "raw",
   "id": "bcaedd9d-ab21-4ed7-a779-9c7d7baf56ca",
   "metadata": {},
   "source": [
    "37. Create a tuple of random numbers."
   ]
  },
  {
   "cell_type": "code",
   "execution_count": 99,
   "id": "c53159a0-3355-4a79-bc52-cc1e3013624e",
   "metadata": {},
   "outputs": [
    {
     "name": "stdout",
     "output_type": "stream",
     "text": [
      "Tuple of random numbers (26, 14, 2, 36, 34, 15, 22, 16, 27, 49)\n"
     ]
    }
   ],
   "source": [
    "import random\n",
    "\n",
    "t = tuple(random.randint(1,50) for i in range(10))\n",
    "print('Tuple of random numbers',t)"
   ]
  },
  {
   "cell_type": "raw",
   "id": "c5497131-61ff-4cc5-a61e-40c016589d4d",
   "metadata": {},
   "source": [
    "38. Check if a tuple is sorted."
   ]
  },
  {
   "cell_type": "code",
   "execution_count": 102,
   "id": "1ca8b022-577b-4db4-9099-449ba6a16043",
   "metadata": {},
   "outputs": [
    {
     "data": {
      "text/plain": [
       "[2, 14, 15, 16, 22, 26, 27, 34, 36, 49]"
      ]
     },
     "execution_count": 102,
     "metadata": {},
     "output_type": "execute_result"
    }
   ],
   "source": [
    "t = (26, 14, 2, 36, 34, 15, 22, 16, 27, 49)\n",
    "\n",
    "sorted(t)"
   ]
  },
  {
   "cell_type": "raw",
   "id": "0975e6fd-b83b-4558-b17d-60752bce62c2",
   "metadata": {},
   "source": [
    "39. a tuple to the left by `n` positions."
   ]
  },
  {
   "cell_type": "code",
   "execution_count": 106,
   "id": "73fb5da4-865b-495c-8a74-595a7a740a61",
   "metadata": {},
   "outputs": [
    {
     "name": "stdout",
     "output_type": "stream",
     "text": [
      "rotated list by 3 position: (3, 4, 5, 6, 7, 8, 9, 1, 2)\n"
     ]
    }
   ],
   "source": [
    "t = (1, 2, 3, 4, 5, 6, 7, 8, 9)\n",
    "\n",
    "rotate_position = 2\n",
    "rotate_list = t[rotate_position:] + t[:rotate_position]\n",
    "\n",
    "print('rotated list by 3 position:',rotate_list)"
   ]
  },
  {
   "cell_type": "raw",
   "id": "02c742ea-7115-4468-bff1-25271032234d",
   "metadata": {},
   "source": [
    "40. Rotate a tuple to the right by `n` positions."
   ]
  },
  {
   "cell_type": "code",
   "execution_count": 109,
   "id": "e6b0b8b7-64ea-4fe5-b830-b54862ad44c5",
   "metadata": {},
   "outputs": [
    {
     "name": "stdout",
     "output_type": "stream",
     "text": [
      "rotated list by 3 position: (4, 5, 6, 7, 8, 9, 1, 2, 3, 4, 5, 6)\n"
     ]
    }
   ],
   "source": [
    "t = (1, 2, 3, 4, 5, 6, 7, 8, 9)\n",
    "\n",
    "rotate_position = 3\n",
    "rotate_list = t[rotate_position:] + t[:-rotate_position]\n",
    "\n",
    "print('rotated list by 3 position:',rotate_list)"
   ]
  },
  {
   "cell_type": "markdown",
   "id": "2be0bbea-0ea2-481a-8629-1969e6f0bc29",
   "metadata": {},
   "source": [
    "## Set Based Practice Problem :"
   ]
  },
  {
   "cell_type": "raw",
   "id": "32e02441-9d2d-42ba-ab35-6cd64875b81f",
   "metadata": {},
   "source": [
    "1. Create a set with integers from 1 to 5."
   ]
  },
  {
   "cell_type": "code",
   "execution_count": 5,
   "id": "5e490077-3054-49b1-8fc6-7832632a0de3",
   "metadata": {},
   "outputs": [
    {
     "name": "stdout",
     "output_type": "stream",
     "text": [
      "set with integers from 1 to 5:  {1, 2, 3, 4, 5}\n"
     ]
    }
   ],
   "source": [
    "s = set()\n",
    "\n",
    "for i in range(1,6):\n",
    "    s.add(i)\n",
    "print('set with integers from 1 to 5: ',s)"
   ]
  },
  {
   "cell_type": "raw",
   "id": "f815256f-2ca9-4831-b204-686e0c07cfbe",
   "metadata": {},
   "source": [
    "2. Add an element to a set."
   ]
  },
  {
   "cell_type": "code",
   "execution_count": 8,
   "id": "77a36726-6975-4b01-8064-106dbc110c38",
   "metadata": {},
   "outputs": [
    {
     "name": "stdout",
     "output_type": "stream",
     "text": [
      "After adding element to set: {1, 2, 3, 4}\n"
     ]
    }
   ],
   "source": [
    "s = {1,2,3}\n",
    "\n",
    "element = 4\n",
    "s.add(element)\n",
    "\n",
    "print('After adding element to set:',s)"
   ]
  },
  {
   "cell_type": "raw",
   "id": "85433f52-91d4-4a25-8cfc-e467783f6ecf",
   "metadata": {},
   "source": [
    "3. Remove an element from a set."
   ]
  },
  {
   "cell_type": "code",
   "execution_count": 18,
   "id": "2c1dae46-a757-45f0-a78b-2e0a9362f73e",
   "metadata": {},
   "outputs": [
    {
     "name": "stdout",
     "output_type": "stream",
     "text": [
      "Set after removing element:  {1, 2, 4}\n"
     ]
    }
   ],
   "source": [
    "s = {1, 2, 3, 4}\n",
    "\n",
    "element = 3\n",
    "\n",
    "s.remove(element)\n",
    "print('Set after removing element: ',s)"
   ]
  },
  {
   "cell_type": "raw",
   "id": "985fe4cb-64a8-4901-99eb-14a89f9ca2e6",
   "metadata": {},
   "source": [
    "4. Check if an element exists in a set."
   ]
  },
  {
   "cell_type": "code",
   "execution_count": 20,
   "id": "f482dc0c-9844-43f5-92d9-38de0eb6e19c",
   "metadata": {},
   "outputs": [
    {
     "name": "stdout",
     "output_type": "stream",
     "text": [
      "3 exists in a set\n"
     ]
    }
   ],
   "source": [
    "s = {1, 2, 3, 4}\n",
    "\n",
    "element = 3\n",
    "\n",
    "if element in s:\n",
    "    print(element,\"exists in a set\")"
   ]
  },
  {
   "cell_type": "raw",
   "id": "43829c80-d4f0-47aa-85a6-84b465a77b15",
   "metadata": {},
   "source": [
    "5. Find the length of a set without using the `len()` function."
   ]
  },
  {
   "cell_type": "code",
   "execution_count": 23,
   "id": "19fbb26c-7f55-4aa7-9950-ebb8175baa19",
   "metadata": {},
   "outputs": [
    {
     "name": "stdout",
     "output_type": "stream",
     "text": [
      "Length of set is:  8\n"
     ]
    }
   ],
   "source": [
    "s = {1, 2, 3, 4, 5, 6, 7, 8}\n",
    "\n",
    "count = 0\n",
    "for i in range(len(s)):\n",
    "    count +=1\n",
    "print('Length of set is: ',count)"
   ]
  },
  {
   "cell_type": "raw",
   "id": "ca2031aa-b4a3-4446-b06a-9dcc5c42694e",
   "metadata": {},
   "source": [
    "6. Clear all elements from a set."
   ]
  },
  {
   "cell_type": "code",
   "execution_count": 26,
   "id": "1f08f78b-af7e-47af-a9d7-0f7cf2245096",
   "metadata": {},
   "outputs": [
    {
     "name": "stdout",
     "output_type": "stream",
     "text": [
      "Set after removing all elements: set()\n"
     ]
    }
   ],
   "source": [
    "s = {1, 2, 3, 4, 5, 6, 7, 8}\n",
    "\n",
    "s.clear()\n",
    "print('Set after removing all elements:',s)"
   ]
  },
  {
   "cell_type": "raw",
   "id": "269e12c6-3f1f-431e-9b75-29a083b6a8f1",
   "metadata": {},
   "source": [
    "7. Create a set of even numbers from 1 to 10."
   ]
  },
  {
   "cell_type": "code",
   "execution_count": 30,
   "id": "a739d3b9-2ece-4d41-9237-9a99b9de0049",
   "metadata": {},
   "outputs": [
    {
     "name": "stdout",
     "output_type": "stream",
     "text": [
      "Set of even numbers from 1 to 10: {2, 4, 6, 8, 10}\n"
     ]
    }
   ],
   "source": [
    "s = set()\n",
    "\n",
    "for i in range(2,11,2):\n",
    "    s.add(i)\n",
    "print('Set of even numbers from 1 to 10:',s)"
   ]
  },
  {
   "cell_type": "raw",
   "id": "cbc1fb3a-5d06-45a7-930f-3f04f68ffc4c",
   "metadata": {},
   "source": [
    "8. Create a set of odd numbers from 1 to 10."
   ]
  },
  {
   "cell_type": "code",
   "execution_count": 31,
   "id": "5f3e2f5c-e010-4f14-a181-4ebf7510cfe8",
   "metadata": {},
   "outputs": [
    {
     "name": "stdout",
     "output_type": "stream",
     "text": [
      "Set of odd numbers from 1 to 10: {1, 3, 5, 7, 9}\n"
     ]
    }
   ],
   "source": [
    "s = set()\n",
    "\n",
    "for i in range(1,10,2):\n",
    "    s.add(i)\n",
    "print('Set of odd numbers from 1 to 10:',s)"
   ]
  },
  {
   "cell_type": "raw",
   "id": "7d506743-fd8d-4595-a1a8-16537dbd70ed",
   "metadata": {},
   "source": [
    "9. Find the union of two sets."
   ]
  },
  {
   "cell_type": "code",
   "execution_count": 47,
   "id": "7b513e77-2235-4235-a6b4-0183de6b344c",
   "metadata": {},
   "outputs": [
    {
     "name": "stdout",
     "output_type": "stream",
     "text": [
      "{1, 2, 3, 4}\n",
      "{3, 4, 5, 6}\n",
      "Union of set s1 and s2: {3, 4}\n"
     ]
    }
   ],
   "source": [
    "s1 = {1,2,3,4}\n",
    "s2 = {3,4,5,6}\n",
    "\n",
    "print(s1)\n",
    "print(s2)\n",
    "\n",
    "union_set = s1.intersection(s2)\n",
    "\n",
    "print('Union of set s1 and s2:',union_set)"
   ]
  },
  {
   "cell_type": "raw",
   "id": "8f9e933d-6d4e-4a2f-ae13-8cc6175715df",
   "metadata": {},
   "source": [
    "10. Find the intersection of two sets."
   ]
  },
  {
   "cell_type": "code",
   "execution_count": 48,
   "id": "bbe0a614-4176-48a2-ac6d-e4bf35f27c0a",
   "metadata": {},
   "outputs": [
    {
     "name": "stdout",
     "output_type": "stream",
     "text": [
      "{1, 2, 3, 4}\n",
      "{3, 4, 5, 6}\n",
      "Intersection of set s1 and s2: {3, 4}\n"
     ]
    }
   ],
   "source": [
    "s1 = {1,2,3,4}\n",
    "s2 = {3,4,5,6}\n",
    "\n",
    "intersection_set = s1.intersection(s2)\n",
    "\n",
    "print(s1)\n",
    "print(s2)\n",
    "print('Intersection of set s1 and s2:',intersection_set)"
   ]
  },
  {
   "cell_type": "raw",
   "id": "093a27d3-c1ed-4bf7-9a8c-9692a2f5deec",
   "metadata": {},
   "source": [
    "11. Find the difference between two sets."
   ]
  },
  {
   "cell_type": "code",
   "execution_count": 51,
   "id": "53d6b84e-7dd9-4585-8631-28cb4e6caab5",
   "metadata": {},
   "outputs": [
    {
     "name": "stdout",
     "output_type": "stream",
     "text": [
      "{1, 2, 3, 4}\n",
      "{3, 4, 5, 6}\n",
      "Difference of set s1 and s2: {1, 2}\n"
     ]
    }
   ],
   "source": [
    "set1 = {1, 2}\n",
    "set2 = {3, 4}\n",
    "\n",
    "print(s1)\n",
    "print(s2)\n",
    "\n",
    "print('Difference of set s1 and s2:',s1.difference(s2))"
   ]
  },
  {
   "cell_type": "raw",
   "id": "6a6db85b-b9d7-44d4-a948-9275608d8952",
   "metadata": {},
   "source": [
    "12. Check if a set is a subset of another set."
   ]
  },
  {
   "cell_type": "code",
   "execution_count": 61,
   "id": "f8e7caa6-0e36-4558-9733-37038a0d7ba9",
   "metadata": {},
   "outputs": [
    {
     "name": "stdout",
     "output_type": "stream",
     "text": [
      "{1, 2, 3, 4}\n",
      "{3, 4}\n",
      "Set s2 is subset of set s1\n"
     ]
    }
   ],
   "source": [
    "s1 = {1,2,3,4}\n",
    "s2 = {3,4}\n",
    "\n",
    "print(s1)\n",
    "print(s2)\n",
    "\n",
    "if s2.issubset(s1):\n",
    "    print('Set s2 is subset of set s1')\n",
    "else:\n",
    "    print('Set s2 is not a subset of set s1')"
   ]
  },
  {
   "cell_type": "raw",
   "id": "15ea23ac-8030-4a32-be53-49fa217ca6b3",
   "metadata": {},
   "source": [
    "13. Check if a set is a superset of another set."
   ]
  },
  {
   "cell_type": "code",
   "execution_count": 62,
   "id": "9c732ef6-f9e8-4493-89c3-d092af51dc67",
   "metadata": {},
   "outputs": [
    {
     "name": "stdout",
     "output_type": "stream",
     "text": [
      "{1, 2, 3, 4}\n",
      "{3, 4}\n",
      "Set s1 is super-set of s2\n"
     ]
    }
   ],
   "source": [
    "s1 = {1,2,3,4}\n",
    "s2 = {3,4}\n",
    "\n",
    "print(s1)\n",
    "print(s2)\n",
    "\n",
    "if s1.issuperset(s2):\n",
    "    print('Set s1 is super-set of s2')\n",
    "else:\n",
    "    print('Set s1 is not super-set of s2')"
   ]
  },
  {
   "cell_type": "raw",
   "id": "8635e4ea-1ce7-46cf-a92c-72e0c511337f",
   "metadata": {},
   "source": [
    "14. Create a set from a list."
   ]
  },
  {
   "cell_type": "code",
   "execution_count": 64,
   "id": "5845dbe6-cd7a-4217-b7de-05f03fa250df",
   "metadata": {},
   "outputs": [
    {
     "name": "stdout",
     "output_type": "stream",
     "text": [
      "Set from a list: {1, 2, 3, 4, 5}\n"
     ]
    }
   ],
   "source": [
    "list1 = [1,2,3,4,5]\n",
    "\n",
    "s = set(list1)\n",
    "\n",
    "print('Set from a list:',s)"
   ]
  },
  {
   "cell_type": "raw",
   "id": "22ace4ed-6ceb-4a37-a872-a019c5c3727b",
   "metadata": {},
   "source": [
    "15. Convert a set to a list."
   ]
  },
  {
   "cell_type": "code",
   "execution_count": 65,
   "id": "049dadf1-8aa6-4022-8f6d-98f41f6da46b",
   "metadata": {},
   "outputs": [
    {
     "data": {
      "text/plain": [
       "[1, 2, 3, 4, 5]"
      ]
     },
     "execution_count": 65,
     "metadata": {},
     "output_type": "execute_result"
    }
   ],
   "source": [
    "s = {1, 2, 3, 4, 5}\n",
    "\n",
    "l1 = list(s)\n",
    "l1"
   ]
  },
  {
   "cell_type": "raw",
   "id": "f86b3a8e-6d2e-4d42-842b-d4b6209b4ffa",
   "metadata": {},
   "source": [
    "16. Remove a random element from a set."
   ]
  },
  {
   "cell_type": "code",
   "execution_count": 73,
   "id": "949b253a-3d0d-4235-b5df-d0cf30530a50",
   "metadata": {},
   "outputs": [
    {
     "name": "stdout",
     "output_type": "stream",
     "text": [
      "Updated set after removing 67 : {1, 2, 5, 456, 8, 9, 13, 77}\n"
     ]
    }
   ],
   "source": [
    "import random\n",
    "\n",
    "s = {1,13,2,456,67,2,8,9,5,67,77}\n",
    "\n",
    "element = random.choice(list(s))\n",
    "\n",
    "s.remove(element)\n",
    "print(\"Updated set after removing\",element, \":\", s)"
   ]
  },
  {
   "cell_type": "raw",
   "id": "bed09c4d-b1a8-4744-8ad1-a989bac860f2",
   "metadata": {},
   "source": [
    "17. Pop an element from a set."
   ]
  },
  {
   "cell_type": "code",
   "execution_count": 2,
   "id": "023327f3-53a9-4ad9-bb4f-d48cf3a3bd74",
   "metadata": {},
   "outputs": [
    {
     "name": "stdout",
     "output_type": "stream",
     "text": [
      "Original set: {2, 67, 5, 456, 8, 9, 13, 77}\n",
      "Popped element: 1\n",
      "Set after popping : {2, 67, 5, 456, 8, 9, 13, 77}\n"
     ]
    }
   ],
   "source": [
    "s = {1,13,2,456,67,2,8,9,5,67,77}\n",
    "\n",
    "element = 67\n",
    "popped_element = s.pop()\n",
    "\n",
    "print('Original set:', s)\n",
    "print('Popped element:',popped_element)\n",
    "print('Set after popping :',s)"
   ]
  },
  {
   "cell_type": "raw",
   "id": "b1643e25-892f-42b8-a5cc-b35e6cd5040e",
   "metadata": {},
   "source": [
    "18. Check if two sets have no elements in common."
   ]
  },
  {
   "cell_type": "code",
   "execution_count": 5,
   "id": "8bc0dab2-0f87-4d2d-aa28-1348962069ea",
   "metadata": {},
   "outputs": [
    {
     "name": "stdout",
     "output_type": "stream",
     "text": [
      "The two sets have no elements in common.\n"
     ]
    }
   ],
   "source": [
    "s1 = {1, 2, 3, 4}\n",
    "s2 = {5, 6, 7, 8}\n",
    "\n",
    "common_elements = s1.intersection(s2)\n",
    "\n",
    "if not common_elements:\n",
    "     print(\"The two sets have no elements in common.\")\n",
    "else:\n",
    "    print(\"The two sets have common elements:\", common_elements)"
   ]
  },
  {
   "cell_type": "raw",
   "id": "efab873a-3011-4c78-845b-5ec199df12dd",
   "metadata": {},
   "source": [
    "19. Find the symmetric difference between two sets."
   ]
  },
  {
   "cell_type": "code",
   "execution_count": 6,
   "id": "0672b32b-6283-4711-880f-421d8b0dea3b",
   "metadata": {},
   "outputs": [
    {
     "name": "stdout",
     "output_type": "stream",
     "text": [
      "Symmetric Difference: {1, 2, 3, 6, 7, 8}\n"
     ]
    }
   ],
   "source": [
    "set1 = {1, 2, 3, 4, 5}\n",
    "set2 = {4, 5, 6, 7, 8}\n",
    "\n",
    "difference = set1 ^ set2\n",
    "\n",
    "print(\"Symmetric Difference:\",difference)"
   ]
  },
  {
   "cell_type": "raw",
   "id": "3789e237-0383-4799-b2fc-f8257101b2a0",
   "metadata": {},
   "source": [
    "20. Update a set with elements from another set."
   ]
  },
  {
   "cell_type": "code",
   "execution_count": 10,
   "id": "7b7d325e-a082-4384-99ac-ec01f61e888f",
   "metadata": {},
   "outputs": [
    {
     "data": {
      "text/plain": [
       "{1, 2, 3, 4, 5, 6, 7, 8}"
      ]
     },
     "execution_count": 10,
     "metadata": {},
     "output_type": "execute_result"
    }
   ],
   "source": [
    "s1 = {1, 2, 3, 4, 5}\n",
    "print('Set 1:', s1)\n",
    "s2 = {4, 5, 6, 7, 8}\n",
    "print('Set 2:', s2)\n",
    "\n",
    "s1.update(s2)\n",
    "\n",
    "print('')"
   ]
  },
  {
   "cell_type": "raw",
   "id": "9f2af344-a392-4e60-ad14-88419d0c591f",
   "metadata": {},
   "source": [
    "22. Check if two sets are identical."
   ]
  },
  {
   "cell_type": "code",
   "execution_count": 2,
   "id": "6a55bc46-990a-4c1c-aaed-c37f07c2347b",
   "metadata": {},
   "outputs": [
    {
     "name": "stdout",
     "output_type": "stream",
     "text": [
      "The sets are identical\n"
     ]
    }
   ],
   "source": [
    "s1 = {1, 2, 3, 4, 5}\n",
    "s2 = {5, 3, 4, 1, 2}\n",
    "\n",
    "if s1 == s2:\n",
    "    print('The sets are identical')\n",
    "else:\n",
    "    print('The sets are not identical')"
   ]
  },
  {
   "cell_type": "raw",
   "id": "e032ed96-26db-4754-ad9e-cc44bf187885",
   "metadata": {},
   "source": [
    "23. Create a frozen set."
   ]
  },
  {
   "cell_type": "code",
   "execution_count": 7,
   "id": "a1737f6e-c130-4e39-8bfa-0971b17ea354",
   "metadata": {},
   "outputs": [
    {
     "name": "stdout",
     "output_type": "stream",
     "text": [
      "Frozen set: frozenset({1, 2, 3, 4, 5})\n"
     ]
    }
   ],
   "source": [
    "s1 = [1, 2, 3, 4, 5]\n",
    "\n",
    "frozen_set = frozenset(s1)\n",
    "\n",
    "print('Frozen set:',frozen_set)"
   ]
  },
  {
   "cell_type": "raw",
   "id": "3de4c773-7361-4c1c-87e7-d04c330f7fbc",
   "metadata": {},
   "source": [
    "24. Check if a set is disjoint with another set."
   ]
  },
  {
   "cell_type": "code",
   "execution_count": 13,
   "id": "40e46372-a0a6-475d-8787-4ad2cbe4a8b7",
   "metadata": {},
   "outputs": [
    {
     "name": "stdout",
     "output_type": "stream",
     "text": [
      "Sets are disjoint.\n"
     ]
    }
   ],
   "source": [
    "s1 = {1, 2, 3, 4}\n",
    "s2 = {5, 6, 7, 8}\n",
    "\n",
    "disjoint = s1.isdisjoint(s2)\n",
    "\n",
    "if disjoint:\n",
    "    print(\"Sets are disjoint.\")\n",
    "else:\n",
    "    print(\"Sets are not disjoint\")"
   ]
  },
  {
   "cell_type": "raw",
   "id": "fe91f829-9740-4f35-aa36-59e230b36704",
   "metadata": {},
   "source": [
    "25. Create a set of squares of numbers from 1 to 5."
   ]
  },
  {
   "cell_type": "code",
   "execution_count": 19,
   "id": "d0663c19-edf6-421f-9783-2d0254e69850",
   "metadata": {},
   "outputs": [
    {
     "name": "stdout",
     "output_type": "stream",
     "text": [
      "Square set: {1, 2, 3, 4, 5}\n"
     ]
    }
   ],
   "source": [
    "l = []\n",
    "\n",
    "for i in range(1,6):\n",
    "    l.append(i)\n",
    "    \n",
    "square_set = set(l)\n",
    "print('Square set:', square_set)"
   ]
  },
  {
   "cell_type": "raw",
   "id": "3c33d6c4-ea2f-49da-b3c8-1ddeff5a16b9",
   "metadata": {},
   "source": [
    "26. Filter out all even numbers from a set."
   ]
  },
  {
   "cell_type": "code",
   "execution_count": 22,
   "id": "5cb0c7b3-1d61-49da-bdd8-0482cff52601",
   "metadata": {},
   "outputs": [
    {
     "name": "stdout",
     "output_type": "stream",
     "text": [
      "Even number from set s: {2, 34, 4, 678, 78, 24, 56}\n"
     ]
    }
   ],
   "source": [
    "s = {1,2,3,4,5,678,34,2,67,3,24,78,9,23,56,87,34,2}\n",
    "\n",
    "even_num = set()\n",
    "for i in s:\n",
    "    if i % 2 == 0:\n",
    "        even_num.add(i)\n",
    "    \n",
    "print('Even number from set s:',even_num)"
   ]
  },
  {
   "cell_type": "raw",
   "id": "fd226be7-5c88-4f93-9fdf-f3fb1290923c",
   "metadata": {},
   "source": [
    "27. Multiply all elements in a set by 2."
   ]
  },
  {
   "cell_type": "code",
   "execution_count": 30,
   "id": "5b915ded-3773-4d43-8c49-8a93cafe5565",
   "metadata": {},
   "outputs": [
    {
     "name": "stdout",
     "output_type": "stream",
     "text": [
      "After multiplying all elements in set by 2: {2, 4, 6, 8, 10, 12, 14, 16}\n"
     ]
    }
   ],
   "source": [
    "s = {1,2,3,4,5,6,7,8}\n",
    "\n",
    "multiply_set = set()\n",
    "\n",
    "for i in s:\n",
    "    multiple = i * 2\n",
    "    multiply_set.add(multiple)\n",
    "print('After multiplying all elements in set by 2:',multiply_set)"
   ]
  },
  {
   "cell_type": "raw",
   "id": "bae6c49c-64e0-455c-9e43-10513ef89f73",
   "metadata": {},
   "source": [
    "28. Create a set of random numbers."
   ]
  },
  {
   "cell_type": "code",
   "execution_count": 32,
   "id": "4853d883-0a59-4a76-8089-91143e73147e",
   "metadata": {},
   "outputs": [
    {
     "name": "stdout",
     "output_type": "stream",
     "text": [
      "set of random numbers: {33, 35, 37, 5, 7, 40, 12, 14, 26, 27, 31}\n"
     ]
    }
   ],
   "source": [
    "import random\n",
    "\n",
    "random_num_set = set()\n",
    "\n",
    "for i in range(11):\n",
    "    random_num = random.randint(1,50)\n",
    "    random_num_set.add(random_num)\n",
    "    \n",
    "print('set of random numbers:',random_num_set)"
   ]
  },
  {
   "cell_type": "raw",
   "id": "d1b84b5d-6508-4a78-92b0-23285f8f4fee",
   "metadata": {},
   "source": [
    "29. Check if a set is empty."
   ]
  },
  {
   "cell_type": "code",
   "execution_count": 37,
   "id": "be9229e9-15da-4260-b870-6c46b70c9c2f",
   "metadata": {},
   "outputs": [
    {
     "name": "stdout",
     "output_type": "stream",
     "text": [
      "The set is empty.\n"
     ]
    }
   ],
   "source": [
    "s = set()\n",
    "\n",
    "if len(s) == 0:\n",
    "    print('The set is empty.')\n",
    "else:\n",
    "    print('The set contains values')"
   ]
  },
  {
   "cell_type": "raw",
   "id": "da6a4568-3dd9-47a2-9482-94e6e264a43b",
   "metadata": {},
   "source": [
    "30. Create a nested set (hint: use frozenset)."
   ]
  },
  {
   "cell_type": "code",
   "execution_count": 38,
   "id": "397bea09-065a-40fe-b463-63c8ad7ab197",
   "metadata": {},
   "outputs": [
    {
     "name": "stdout",
     "output_type": "stream",
     "text": [
      "Nested Set: {frozenset({1, 2, 3, 4}), frozenset({8, 5, 6, 7})}\n"
     ]
    }
   ],
   "source": [
    "s1 = {1, 2, 3, 4, 5}\n",
    "s2 = {6, 7, 8, 9, 10}\n",
    "\n",
    "\n",
    "frozen_set1 = frozenset(set1)\n",
    "frozen_set2 = frozenset(set2)\n",
    "\n",
    "nested_set = {frozen_set1, frozen_set2}\n",
    "\n",
    "print(\"Nested Set:\", nested_set)"
   ]
  },
  {
   "cell_type": "raw",
   "id": "b589126f-2bbc-4329-8799-7c13dd8ad577",
   "metadata": {},
   "source": [
    "31. Remove an element from a set using the discard method."
   ]
  },
  {
   "cell_type": "code",
   "execution_count": 43,
   "id": "b2312e83-cc40-415a-91db-68ef566febe3",
   "metadata": {},
   "outputs": [
    {
     "name": "stdout",
     "output_type": "stream",
     "text": [
      "Set s1 after removing 3 : {1, 2, 4, 5}\n"
     ]
    }
   ],
   "source": [
    "s1 = {1, 2, 3, 4, 5}\n",
    "\n",
    "element = 3\n",
    "s1.discard(element)\n",
    "print('Set s1 after removing',element,':',s1)"
   ]
  },
  {
   "cell_type": "raw",
   "id": "5f4a3788-e397-4ea6-9388-c164c7ce8a31",
   "metadata": {},
   "source": [
    "32. Compare two sets."
   ]
  },
  {
   "cell_type": "code",
   "execution_count": 49,
   "id": "b78b4e07-79a4-4ffd-af07-020dfaf01f54",
   "metadata": {},
   "outputs": [
    {
     "name": "stdout",
     "output_type": "stream",
     "text": [
      "Union of set s1 and s2: {1, 2, 3, 4, 5, 6, 7, 8, 9, 10}\n",
      "Is s1 a subset of s2? False\n",
      "Is s1 a superset of s2: False\n",
      "Intersection of set s1 and s2: set()\n"
     ]
    }
   ],
   "source": [
    "s1 = {1, 2, 3, 4, 5}\n",
    "s2 = {6, 7, 8, 9, 10}\n",
    "\n",
    "print('Union of set s1 and s2:',s1.union(s2))\n",
    "print('Is s1 a subset of s2?',s1.issubset(s2))\n",
    "print('Is s1 a superset of s2:',s1.issuperset(s2))\n",
    "print('Intersection of set s1 and s2:',s1.intersection(s2))"
   ]
  },
  {
   "cell_type": "raw",
   "id": "afaa3860-6e5c-4d7c-a7da-f2d1875702a6",
   "metadata": {},
   "source": [
    "33. Create a set from a string."
   ]
  },
  {
   "cell_type": "code",
   "execution_count": 55,
   "id": "83c9a1c3-1171-466e-910e-70e8f53d5b78",
   "metadata": {},
   "outputs": [
    {
     "name": "stdout",
     "output_type": "stream",
     "text": [
      "{'d', 'e', 'w', 'o', 'l', 'r', ' ', 'h'}\n"
     ]
    }
   ],
   "source": [
    "s = \"hello world\"\n",
    "\n",
    "char_set = set(s)\n",
    "\n",
    "print(char_set)"
   ]
  },
  {
   "cell_type": "raw",
   "id": "d6be26b7-a7e1-40c5-bf12-399d898fcf88",
   "metadata": {},
   "source": [
    "34. Convert a set of strings to a set of integers."
   ]
  },
  {
   "cell_type": "code",
   "execution_count": 61,
   "id": "54bcae3a-3177-46fb-a5bd-c88d1c17d283",
   "metadata": {},
   "outputs": [
    {
     "name": "stdout",
     "output_type": "stream",
     "text": [
      "Set of strings to a set of integers: {1, 2, 3, 4}\n"
     ]
    }
   ],
   "source": [
    "s = {'1','2','3','4'}\n",
    "\n",
    "int_set = set()\n",
    "\n",
    "for i in s:\n",
    "    int_val = int(i)\n",
    "    int_set.add(int_val)\n",
    "    \n",
    "print('Set of strings to a set of integers:',int_set)"
   ]
  },
  {
   "cell_type": "raw",
   "id": "fdbe5191-7a09-44d0-bee8-99ee82d4f5e0",
   "metadata": {},
   "source": [
    "35. Convert a set of integers to a set of strings."
   ]
  },
  {
   "cell_type": "code",
   "execution_count": 65,
   "id": "648a87c5-e34f-4167-a6e3-51fc67935b84",
   "metadata": {},
   "outputs": [
    {
     "name": "stdout",
     "output_type": "stream",
     "text": [
      "Set of strings to a set of integers: {'4', '3', '1', '2'}\n"
     ]
    }
   ],
   "source": [
    "s = {1,2,3,4}\n",
    "\n",
    "str_set = set()\n",
    "\n",
    "for i in s:\n",
    "    str_val = str(i)\n",
    "    str_set.add(str_val)\n",
    "    \n",
    "print('Set of strings to a set of integers:',str_set)"
   ]
  },
  {
   "cell_type": "raw",
   "id": "31e0376f-dd95-4d99-885c-54c2b9452e30",
   "metadata": {},
   "source": [
    "36. Create a set from a tuple."
   ]
  },
  {
   "cell_type": "code",
   "execution_count": 68,
   "id": "424a6928-efdf-4ea1-a9fa-de4a74b906cb",
   "metadata": {},
   "outputs": [
    {
     "name": "stdout",
     "output_type": "stream",
     "text": [
      "Set from a tuple: {1, 2, 3, 4}\n"
     ]
    }
   ],
   "source": [
    "t = (1,2,3,4)\n",
    "\n",
    "set_ = set(t)\n",
    "\n",
    "print('Set from a tuple:',set_)"
   ]
  },
  {
   "cell_type": "raw",
   "id": "52692b9c-2328-4f4d-8ecc-6bcae68e36b7",
   "metadata": {},
   "source": [
    "37. Convert a set to a tuple."
   ]
  },
  {
   "cell_type": "code",
   "execution_count": 69,
   "id": "3ceb1f29-4ee4-485c-aad0-21c955c2d8bd",
   "metadata": {},
   "outputs": [
    {
     "name": "stdout",
     "output_type": "stream",
     "text": [
      "Tuple from a set: (1, 2, 3, 4)\n"
     ]
    }
   ],
   "source": [
    "t = {1,2,3,4}\n",
    "\n",
    "tuple_ = tuple(t)\n",
    "\n",
    "print('Tuple from a set:',tuple_)"
   ]
  },
  {
   "cell_type": "raw",
   "id": "f70df7eb-83ec-43f5-b666-71a4f100aa81",
   "metadata": {},
   "source": [
    "38. Find the maximum value in a set."
   ]
  },
  {
   "cell_type": "code",
   "execution_count": 72,
   "id": "13bf6d1b-56a8-4bb5-baba-ea1ccbab355d",
   "metadata": {},
   "outputs": [
    {
     "name": "stdout",
     "output_type": "stream",
     "text": [
      "The maximum value in set is:  40\n"
     ]
    }
   ],
   "source": [
    "s = {33, 35, 37, 5, 7, 40, 12, 14, 26, 27, 31}\n",
    "\n",
    "max_from_set = max(s)\n",
    "\n",
    "print('The maximum value in set is: ', max_from_set)"
   ]
  },
  {
   "cell_type": "raw",
   "id": "4956a3fa-19a0-4389-8ef3-f9f79086ef22",
   "metadata": {},
   "source": [
    "39. Find the minimum value in a set."
   ]
  },
  {
   "cell_type": "code",
   "execution_count": 73,
   "id": "e11fb097-6e58-4481-9a58-d86ac08ca139",
   "metadata": {},
   "outputs": [
    {
     "name": "stdout",
     "output_type": "stream",
     "text": [
      "The maximum value in set is:  5\n"
     ]
    }
   ],
   "source": [
    "s = {33, 35, 37, 5, 7, 40, 12, 14, 26, 27, 31}\n",
    "\n",
    "min_from_set = min(s)\n",
    "\n",
    "print('The maximum value in set is: ', min_from_set)"
   ]
  },
  {
   "cell_type": "raw",
   "id": "42ac23c7-045f-4e0c-a32c-214adac73f7e",
   "metadata": {},
   "source": [
    "40. Create a set from user input."
   ]
  },
  {
   "cell_type": "code",
   "execution_count": null,
   "id": "03efb552-08b1-427c-b5f1-0b4c3d2710e5",
   "metadata": {},
   "outputs": [],
   "source": [
    "user_set = set()\n",
    "\n",
    "print(\"Enter elements for the set (type 'done' to finish):\")\n",
    "while True:\n",
    "    user_input = input(\"> \") \n",
    "\n",
    "    if user_input.lower() == 'done':\n",
    "        break\n",
    "    user_set.add(user_input)\n",
    "\n",
    "print(\"Final set:\", user_set)"
   ]
  },
  {
   "cell_type": "raw",
   "id": "ec76c4df-b4cd-4c8f-9d82-686dc393a633",
   "metadata": {},
   "source": [
    "41. Check if the intersection of two sets is empty."
   ]
  },
  {
   "cell_type": "code",
   "execution_count": 4,
   "id": "7e39f00e-deb7-4fab-8360-7346db3cb8f0",
   "metadata": {},
   "outputs": [
    {
     "name": "stdout",
     "output_type": "stream",
     "text": [
      "The intersection of the two sets is empty.\n"
     ]
    }
   ],
   "source": [
    "s1 = {1, 2, 3, 4, 5}\n",
    "s2 = {6, 7, 8, 9, 10}\n",
    "\n",
    "intersection = s1.intersection(s2)\n",
    "\n",
    "if not intersection:\n",
    "    print('The intersection of the two sets is empty.')\n",
    "else:\n",
    "    print(\"The intersection of the two sets is not empty.\")"
   ]
  },
  {
   "cell_type": "raw",
   "id": "f8b91c45-8f8b-4ee0-8d33-cfdab3f5a7b2",
   "metadata": {},
   "source": [
    "43. Remove duplicates from a list using sets."
   ]
  },
  {
   "cell_type": "code",
   "execution_count": 6,
   "id": "41557a5b-cd1f-4fbe-b6cd-17b17ce3eac8",
   "metadata": {},
   "outputs": [
    {
     "name": "stdout",
     "output_type": "stream",
     "text": [
      "Set after removing all duplicates from list l {1, 2, 3, 4, 6, 7, 8}\n"
     ]
    }
   ],
   "source": [
    "l = [1,2,4,4,6,7,8,2,3,4]\n",
    "\n",
    "s = set(l)\n",
    "print('Set after removing all duplicates from list l',s)"
   ]
  },
  {
   "cell_type": "raw",
   "id": "fb3ee928-3a39-4b14-b5a9-13a915c5e514",
   "metadata": {},
   "source": [
    "45. Create a set of the first `n` powers of 2."
   ]
  },
  {
   "cell_type": "code",
   "execution_count": 8,
   "id": "bf1dde25-6086-4d88-b51f-959d567e3daa",
   "metadata": {},
   "outputs": [
    {
     "name": "stdout",
     "output_type": "stream",
     "text": [
      "Set of the first `n` powers of 2: {1, 4, 36, 9, 16, 25}\n"
     ]
    }
   ],
   "source": [
    "s = set()\n",
    "\n",
    "n = 6\n",
    "for i in range(1,n+1):\n",
    "    power2_set = i ** 2\n",
    "    s.add(power2_set)\n",
    "    \n",
    "print('Set of the first `n` powers of 2:',s)"
   ]
  },
  {
   "cell_type": "raw",
   "id": "e1bc70e5-76df-44ae-b0e9-52263ff7375a",
   "metadata": {},
   "source": [
    "46. Find the common elements between a set and a list."
   ]
  },
  {
   "cell_type": "code",
   "execution_count": 11,
   "id": "1e778b45-e779-44d7-88ec-f8fec4235e30",
   "metadata": {},
   "outputs": [
    {
     "name": "stdout",
     "output_type": "stream",
     "text": [
      "Common elements between set s and list l: {2, 3, 4, 6}\n"
     ]
    }
   ],
   "source": [
    "l = [2,4,6,2,3,66,32]\n",
    "s = {1, 2, 3, 4, 6, 7, 8}\n",
    "\n",
    "common_elements = set()\n",
    "\n",
    "for i in l:\n",
    "    for j in s:\n",
    "        if i == j:\n",
    "            common_elements.add(i)\n",
    "\n",
    "print('Common elements between set s and list l:',common_elements)"
   ]
  },
  {
   "cell_type": "raw",
   "id": "9bca639b-ebfc-494b-879e-3137157123f7",
   "metadata": {},
   "source": [
    "50. Merge multiple sets into one."
   ]
  },
  {
   "cell_type": "code",
   "execution_count": null,
   "id": "36321e2b-63ff-401d-87b0-a99f5bfbde47",
   "metadata": {},
   "outputs": [],
   "source": []
  }
 ],
 "metadata": {
  "kernelspec": {
   "display_name": "Python 3 (ipykernel)",
   "language": "python",
   "name": "python3"
  },
  "language_info": {
   "codemirror_mode": {
    "name": "ipython",
    "version": 3
   },
   "file_extension": ".py",
   "mimetype": "text/x-python",
   "name": "python",
   "nbconvert_exporter": "python",
   "pygments_lexer": "ipython3",
   "version": "3.10.8"
  }
 },
 "nbformat": 4,
 "nbformat_minor": 5
}
