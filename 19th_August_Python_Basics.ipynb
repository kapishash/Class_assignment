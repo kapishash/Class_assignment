{
 "cells": [
  {
   "cell_type": "markdown",
   "id": "b088070f-5927-4ab2-a183-1f2b994b4f25",
   "metadata": {},
   "source": [
    "# Start"
   ]
  },
  {
   "cell_type": "raw",
   "id": "f5766d06-6be7-467d-832c-3128080c59b8",
   "metadata": {},
   "source": [
    "19 aug 2023: python basics assignment"
   ]
  },
  {
   "cell_type": "raw",
   "id": "44f36432-429b-47fb-9fdc-5b775c39239f",
   "metadata": {},
   "source": [
    "TOPIC: Python Basics Variable"
   ]
  },
  {
   "cell_type": "raw",
   "id": "6a526b07-f463-4377-bcaa-3e4af49a3b92",
   "metadata": {},
   "source": [
    "Q1. Declare two variables, `x` and `y`, and assign them integer values. Swap the values of these variables without using any temporary variable."
   ]
  },
  {
   "cell_type": "code",
   "execution_count": 1,
   "id": "35ee68e9-d693-41ae-835b-e00f9ab998fe",
   "metadata": {},
   "outputs": [
    {
     "name": "stdout",
     "output_type": "stream",
     "text": [
      "Before swap x: 1 and y: 2\n",
      "After swap x: 2 and y: 1\n"
     ]
    }
   ],
   "source": [
    "# Step 1: Declare and initialize variables\n",
    "x = 1\n",
    "y = 2\n",
    "\n",
    "\n",
    "print('Before swap x:',x,'and y:', y)\n",
    "x,y = y, x #swapping the values\n",
    "print('After swap x:',x, 'and y:', y)\n",
    "\n",
    "\n"
   ]
  },
  {
   "cell_type": "raw",
   "id": "e4c8d583-dd2c-4631-aca0-64a213879943",
   "metadata": {},
   "source": [
    "Explanation: \n",
    "             In step 1 we assign values to variables 'x' and 'y', after assigining next step is to swap the values of variables, so for that we use \"x,y = y, x\" as this this will swap value of 'x' to 'y' and 'y' to 'x'."
   ]
  },
  {
   "cell_type": "markdown",
   "id": "162297ea-2763-4598-9277-c8579de51d4d",
   "metadata": {},
   "source": [
    "Q2. Create a program that calculates the area of a rectangle. Take the length and width as inputs from the user and store them in variables. Calculate and display the area."
   ]
  },
  {
   "cell_type": "code",
   "execution_count": 2,
   "id": "bc0d7c79-7a98-4cbb-b898-c02a975ee4ce",
   "metadata": {},
   "outputs": [
    {
     "name": "stdin",
     "output_type": "stream",
     "text": [
      "Enter the length of the rectangle:  10\n",
      "Enter the width of the rectangle:  10\n"
     ]
    },
    {
     "name": "stdout",
     "output_type": "stream",
     "text": [
      "The area of the rectangle is: 100.0\n"
     ]
    }
   ],
   "source": [
    "# Step 1: input from the user for length and width\n",
    "\n",
    "l = float(input(\"Enter the length of the rectangle: \")) # input for length\n",
    "w = float(input(\"Enter the width of the rectangle: \"))   # input for width \n",
    "\n",
    "# Step 2: Calculate the area of the rectangle using the formula: area = length * width\n",
    "area = l * w # Calculating the area by multiplying length and width\n",
    "\n",
    "print(\"The area of the rectangle is:\", area) # area of triangle"
   ]
  },
  {
   "cell_type": "raw",
   "id": "aa60d62e-d023-4202-9099-bb0e0ff831a8",
   "metadata": {},
   "source": [
    "Explanation: \n",
    "           Step 1.\n",
    "        Taking input from user and store in variable, length is stores in 'l' variable and width is stored in 'w' variable, and also converting it into float data type because by default input function data type is string.\n",
    "        \n",
    "          Step 2.\n",
    "        Now calculation part, the formula to find area of triangle is \"area = length * width\". So we calculate area using \"area = length * width\".\n",
    "        \n",
    "          Step 3.\n",
    "        Result is here using print() function we display the value of 'area of triangle'."
   ]
  },
  {
   "cell_type": "markdown",
   "id": "68241058-1cca-4dd4-9f76-12d92ac24a13",
   "metadata": {},
   "source": [
    "Q3.Write a Python program that converts temperatures from Celsius to Fahrenheit. Take the temperature in Celsius as input, store it in a variable, convert it to Fahrenheit, and display the result."
   ]
  },
  {
   "cell_type": "raw",
   "id": "671bfec0-9d0c-4ca1-8788-cd6387b5799e",
   "metadata": {},
   "source": [
    "# Step 1: input in Celsius from the user\n",
    "celsius_temp = float(input(\"Enter temperature in Celsius: \"))\n",
    "\n",
    "# Step 2: Converting Celsius to Fahrenheit using the formula: (C * 9/5) + 32\n",
    "fahrenheit_temperature = (celsius_temperature * 9/5) + 32\n",
    "\n",
    "print(\"Temprature in celsius\", celsius_temp,\"= \", fahrenheit_temperature ,\"Fahrenheit\")"
   ]
  },
  {
   "cell_type": "raw",
   "id": "84117de3-04aa-40be-bc9b-0c438ba8831b",
   "metadata": {},
   "source": [
    "Explanation:\n",
    "           Step 1.\n",
    "         In first step we take a input from user and store it in \"celsius_temp\" and convert it into float  because by default input function data type is string and temprature has decimal value.\n",
    "           Step 2.\n",
    "         In 2nd step, by using formula \"(C * 9/5) + 32\" we convert celsius temprature into fahrenheit temprature.\n",
    "          Step 3:\n",
    "         In 3rd step, by using print() function we display the temprature converted into Fahrenheit."
   ]
  },
  {
   "cell_type": "markdown",
   "id": "765d96b8-04bf-44e7-8f13-3b524c669f4a",
   "metadata": {},
   "source": [
    "TOPIC: String Based Questions"
   ]
  },
  {
   "cell_type": "raw",
   "id": "80679468-6bb4-45ac-8f31-c37e1eb75155",
   "metadata": {},
   "source": [
    "Q1. Write a Python program that takes a string as input and prints the length of the string."
   ]
  },
  {
   "cell_type": "code",
   "execution_count": 3,
   "id": "4b3aace3-e1a2-4ccb-8911-79d89600110b",
   "metadata": {},
   "outputs": [
    {
     "name": "stdin",
     "output_type": "stream",
     "text": [
      "Enter a string:  32542\n"
     ]
    },
    {
     "name": "stdout",
     "output_type": "stream",
     "text": [
      "5\n"
     ]
    }
   ],
   "source": [
    "# taking input drom user\n",
    "a = input(\"Enter a string: \")\n",
    "\n",
    "# Calculating length of a string\n",
    "string_length = len(a)\n",
    "\n",
    "print(string_length)"
   ]
  },
  {
   "cell_type": "raw",
   "id": "5eabcff2-7ce2-438c-9bec-3e68ecddaba1",
   "metadata": {},
   "source": [
    "Explanation:\n",
    "        Step 1:\n",
    "         In first step we take a input from user a string and store it into variable 'a'\n",
    "        Step 2:\n",
    "         In second step by using length function len(string) we calculate the lenght of the string\n",
    "        Step 3:\n",
    "         Now using print() function we display the length fo string"
   ]
  },
  {
   "cell_type": "raw",
   "id": "7df197b3-d791-4217-aaf0-371b4d56f7bb",
   "metadata": {},
   "source": [
    "Q2. Create a program that takes a sentence from the user and counts the number of vowels (a, e, i, o, u) in the string."
   ]
  },
  {
   "cell_type": "code",
   "execution_count": 4,
   "id": "4652bc52-782a-407b-a846-bded674f7c34",
   "metadata": {},
   "outputs": [
    {
     "name": "stdin",
     "output_type": "stream",
     "text": [
      "Enter a sentence:  my name is kaps\n"
     ]
    },
    {
     "name": "stdout",
     "output_type": "stream",
     "text": [
      "Number of vowels: 4\n"
     ]
    }
   ],
   "source": [
    "# Taking input from user\n",
    "sentence = input(\"Enter a sentence: \")\n",
    "\n",
    "#  Initialize a variable to count the vowels\n",
    "vowel_count = 0\n",
    "\n",
    "# Iterate through each character in the sentence\n",
    "for char in sentence:\n",
    "    char_lower = char.lower()  # Convert the character to lowercase to handle both uppercase and lowercase vowels\n",
    "\n",
    "    #  Check if the character is a vowel (a, e, i, o, u)\n",
    "    if char_lower in \"aeiou\":\n",
    "        vowel_count += 1     #  If the character is a vowel, increment the vowel_count variable\n",
    "\n",
    "print(\"Number of vowels:\", vowel_count)"
   ]
  },
  {
   "cell_type": "raw",
   "id": "4483de1c-4e85-443d-baf7-91860d4eb1e5",
   "metadata": {},
   "source": [
    "Explanation:\n",
    "         Step 1:\n",
    "            In first step we take a input from user using input function.\n",
    "         Step 2. \n",
    "            In second step we initialize a varible to count the vowels \"vowel_count\" to zero.\n",
    "        Step 3.\n",
    "            In third step to ensure we capture both uppercase and lowercase vowels, we convert the character to lowercase using the .lower() method and store it in the variable char_lower.\n",
    "        Step 4.\n",
    "            In forth step using if loop we check if the lowercase character is one of the vowels \"aeiou\" in string.\n",
    "        Step 5.\n",
    "            In fifth step we disply the number of vowels in input sentence."
   ]
  },
  {
   "cell_type": "raw",
   "id": "de461c43-faf1-43b3-84f6-e4520bf5a34c",
   "metadata": {},
   "source": [
    "Q3. Given a string, reverse the order of characters using string slicing and print the reversed string."
   ]
  },
  {
   "cell_type": "code",
   "execution_count": 5,
   "id": "20217cae-548a-4581-82d6-363ec0075c27",
   "metadata": {},
   "outputs": [
    {
     "name": "stdin",
     "output_type": "stream",
     "text": [
      "Enter a string:  derma roller\n"
     ]
    },
    {
     "name": "stdout",
     "output_type": "stream",
     "text": [
      "Reversed string: rellor amred\n"
     ]
    }
   ],
   "source": [
    "# Step 1: Get the input string from the user\n",
    "input_string = input(\"Enter a string: \")\n",
    "\n",
    "# Use string slicing to reverse the string\n",
    "reversed_string = input_string[::-1]\n",
    "\n",
    "print(\"Reversed string:\", reversed_string)"
   ]
  },
  {
   "cell_type": "raw",
   "id": "56c7855a-0f3d-4b47-acd6-63587d4ee388",
   "metadata": {},
   "source": [
    "Explanation:\n",
    "         Step 1: In first step we take a input from user using input function.\n",
    "        \n",
    "        Step 2: We will use string slicing to reverse the string by syntax: [start:end:step] \n",
    "        \n",
    "        Step 3: lastly we will print the reversed sentence using print() function"
   ]
  },
  {
   "cell_type": "raw",
   "id": "c88f7c6c-608d-48af-900c-56b4ccf3fe83",
   "metadata": {},
   "source": [
    "Q4. Write a program that takes a string as input and checks if it is a palindrome (reads the same forwards and backwards)."
   ]
  },
  {
   "cell_type": "raw",
   "id": "b244d75b-6f82-43e5-897d-d4d778a488bf",
   "metadata": {},
   "source": [
    "Q5. Create a program that takes a string as input and removes all the spaces from it. Print the modified string without spaces."
   ]
  },
  {
   "cell_type": "code",
   "execution_count": 6,
   "id": "4968cb35-bbb3-4098-a89a-64417c879b81",
   "metadata": {},
   "outputs": [
    {
     "name": "stdin",
     "output_type": "stream",
     "text": [
      "Enter a string:  this file was deleted\n"
     ]
    },
    {
     "name": "stdout",
     "output_type": "stream",
     "text": [
      "Modified string without spaces: thisfilewasdeleted\n"
     ]
    }
   ],
   "source": [
    "# Step 1: Take input from the user\n",
    "string = input(\"Enter a string: \")\n",
    "\n",
    "# Initialize an empty string to store the modified string without spaces\n",
    "modified_string = \"\"\n",
    "\n",
    "# Iterate through each character in the input string\n",
    "for char in string:\n",
    "    if char != \" \":\n",
    "        modified_string += char\n",
    "\n",
    "print(\"Modified string without spaces:\", modified_string)"
   ]
  },
  {
   "cell_type": "raw",
   "id": "7ba38bcb-431c-45d3-bf4f-199479058940",
   "metadata": {},
   "source": [
    "Explanation:\n",
    "         Step 1: In first step we take a input from user using input function.\n",
    "        \n",
    "         Step 2: In second Step we initialize an empty string to store modified string without spaces\n",
    "            \n",
    "         Step 3: In third step using for loop we iterate over characters in string, inside the loop, we check if the current character is not a space (denoted by \" \").\n",
    "                 If the character is not a space, we append it to the modified_string using the += operator."
   ]
  },
  {
   "cell_type": "markdown",
   "id": "d149874b-7d18-431f-9c43-df7ab82c766a",
   "metadata": {},
   "source": [
    "# End"
   ]
  }
 ],
 "metadata": {
  "kernelspec": {
   "display_name": "Python 3 (ipykernel)",
   "language": "python",
   "name": "python3"
  },
  "language_info": {
   "codemirror_mode": {
    "name": "ipython",
    "version": 3
   },
   "file_extension": ".py",
   "mimetype": "text/x-python",
   "name": "python",
   "nbconvert_exporter": "python",
   "pygments_lexer": "ipython3",
   "version": "3.10.8"
  }
 },
 "nbformat": 4,
 "nbformat_minor": 5
}
