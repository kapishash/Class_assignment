{
 "cells": [
  {
   "cell_type": "markdown",
   "id": "da1d0437-fe9c-47fd-9b9f-221b17a05140",
   "metadata": {},
   "source": [
    "# I asked sudhanshu sir, if it is okay to not to write explanation for code\n",
    "# they said yes, the programmer understands the code so it is okay not write explanation"
   ]
  },
  {
   "cell_type": "markdown",
   "id": "dfe8b312-f514-4c3d-a6fd-01f26ef5ff34",
   "metadata": {},
   "source": [
    "# Basic Level"
   ]
  },
  {
   "cell_type": "raw",
   "id": "ad9d5a6c-cb1d-4a49-beff-d5ca322bb865",
   "metadata": {},
   "source": [
    "Q1. Write a Python program to print the numbers from 1 to 10 using a `for` loop."
   ]
  },
  {
   "cell_type": "code",
   "execution_count": 26,
   "id": "4017b9b5-3f04-4d13-adca-9828ce6b4ed9",
   "metadata": {},
   "outputs": [
    {
     "name": "stdout",
     "output_type": "stream",
     "text": [
      "1\n",
      "2\n",
      "3\n",
      "4\n",
      "5\n",
      "6\n",
      "7\n",
      "8\n",
      "9\n",
      "10\n"
     ]
    }
   ],
   "source": [
    "for i in range(1,11):\n",
    "    print(i)"
   ]
  },
  {
   "cell_type": "raw",
   "id": "061ef08e-498b-4797-93d9-c18dddcd81f1",
   "metadata": {},
   "source": [
    "explanation:\n",
    "    this is simple question just using for loop with range (1,11) we can get 1 - 10"
   ]
  },
  {
   "cell_type": "raw",
   "id": "c0374542-c0b1-4bbe-960f-28178b90c3b5",
   "metadata": {},
   "source": [
    "Q2.Create a program that calculates the sum of all numbers in a list using a `for` loop."
   ]
  },
  {
   "cell_type": "code",
   "execution_count": 28,
   "id": "ebae0633-7d1e-4e09-8ec5-5d03df42a39a",
   "metadata": {},
   "outputs": [
    {
     "name": "stdin",
     "output_type": "stream",
     "text": [
      "How many numbers:  2\n",
      "Enter number  1\n",
      "Enter number  2\n"
     ]
    },
    {
     "name": "stdout",
     "output_type": "stream",
     "text": [
      "Sum of elements in given list is : 3\n"
     ]
    }
   ],
   "source": [
    "l = []\n",
    "num = int(input('How many numbers: '))\n",
    "for n in range(num):\n",
    "    numbers = int(input('Enter number '))\n",
    "    l.append(numbers)\n",
    "print(\"Sum of elements in given list is :\", sum(l))"
   ]
  },
  {
   "cell_type": "raw",
   "id": "42698652-31e6-4577-bd60-eff20574b92f",
   "metadata": {},
   "source": [
    "explanation:\n",
    "    start empty with list l \n",
    "    let num take input of how many numbers to calculate from user \n",
    "    by using for loop iterate over input from user\n",
    "    numbers will store the 1st, 2nd, ... input from user \n",
    "    using append method we add numbers to the list \n",
    "    and at last we print the result using sum() methid"
   ]
  },
  {
   "cell_type": "raw",
   "id": "e47d8e81-92e9-414a-bc98-53a0e6b71ba8",
   "metadata": {},
   "source": [
    "Q3. Write a program to print the characters of a string in reverse order using a `for` loop."
   ]
  },
  {
   "cell_type": "code",
   "execution_count": 29,
   "id": "492def81-22c5-4fcd-b8aa-919e05b12b4b",
   "metadata": {},
   "outputs": [
    {
     "name": "stdin",
     "output_type": "stream",
     "text": [
      "Enter a string: pwskils\n"
     ]
    },
    {
     "name": "stdout",
     "output_type": "stream",
     "text": [
      "slikswp\n"
     ]
    }
   ],
   "source": [
    "string = input(\"Enter a string:\")\n",
    "string_rev = \"\"\n",
    "for i in string:\n",
    "    string_rev = i + string_rev\n",
    "print(string_rev)"
   ]
  },
  {
   "cell_type": "raw",
   "id": "528c8d50-6422-4896-98cc-7f1e4a3227e1",
   "metadata": {},
   "source": [
    "explanation:\n",
    "    In 1st step we take input from user\n",
    "    In 2nd step we create a empty string var to store reverse of string\n",
    "    In 3rd step using for loop we iterate over string and add 1st letter to string_rev variable\n",
    "    at last using print function we will print the results"
   ]
  },
  {
   "cell_type": "raw",
   "id": "cdb5ea5a-f517-47e7-b77d-1e4b8c911920",
   "metadata": {},
   "source": [
    "Q4. Develop a program that finds the factorial of a given number using a `for` loop."
   ]
  },
  {
   "cell_type": "code",
   "execution_count": 30,
   "id": "2d88f647-a408-4859-a608-e41482cf7ad0",
   "metadata": {},
   "outputs": [
    {
     "name": "stdin",
     "output_type": "stream",
     "text": [
      "Enter a number:  2\n"
     ]
    },
    {
     "name": "stdout",
     "output_type": "stream",
     "text": [
      "Factorial of the given number is:  2\n"
     ]
    }
   ],
   "source": [
    "num = int (input (\"Enter a number: \"))\n",
    "\n",
    "factorial = 1\n",
    "if num >= 1:\n",
    "    for i in range (1, num+1):\n",
    "        factorial=factorial *i\n",
    "print(\"Factorial of the given number is: \", factorial)"
   ]
  },
  {
   "cell_type": "raw",
   "id": "ea5c47df-9962-458f-a520-033a854ec58e",
   "metadata": {},
   "source": [
    "explanation:\n",
    "    In 1st step we takr input from user\n",
    "    In 2nd step we assign factorial as 1\n",
    "    In 3rd step we check if num is > 1 or not if it is we iterate over the input range\n",
    "    In 4th step by using formula factorial=factorial *i we get factorial of input number"
   ]
  },
  {
   "cell_type": "raw",
   "id": "9be10016-9528-456d-99a5-b37110d354f3",
   "metadata": {},
   "source": [
    "Q5. Create a program to print the multiplication table of a given number using a `for` loop.\n"
   ]
  },
  {
   "cell_type": "code",
   "execution_count": 31,
   "id": "2a0cee62-31b2-4cdc-9411-89016a270641",
   "metadata": {},
   "outputs": [
    {
     "name": "stdin",
     "output_type": "stream",
     "text": [
      "Enter a number: 5\n"
     ]
    },
    {
     "name": "stdout",
     "output_type": "stream",
     "text": [
      "5\n",
      "10\n",
      "15\n",
      "20\n",
      "25\n",
      "30\n",
      "35\n",
      "40\n",
      "45\n",
      "50\n"
     ]
    }
   ],
   "source": [
    "num = int(input(\"Enter a number:\"))\n",
    "\n",
    "for i in range(1,11):\n",
    "    print(i*num)"
   ]
  },
  {
   "cell_type": "raw",
   "id": "1f61d7db-b78e-4f27-884d-7833690a8b44",
   "metadata": {},
   "source": [
    "explanation:\n",
    "    In 1st step we take a input from user \n",
    "    In 2nd step we we iterate over a range of first 10 natural numbers using for loop \n",
    "    In 3rd step we print the output"
   ]
  },
  {
   "cell_type": "raw",
   "id": "afaab4a4-dd64-4050-a9fc-f37312073601",
   "metadata": {},
   "source": [
    "Q6. Write a program that counts the number of even and odd numbers in a list using a `for` loop."
   ]
  },
  {
   "cell_type": "markdown",
   "id": "44d20b5e-8dde-4222-832f-5f1cfb6b55f6",
   "metadata": {},
   "source": [
    "##### l = []\n",
    "even_count = 0\n",
    "odd_count = 0\n",
    "num = int(input('How many numbers: '))\n",
    "for n in range(num):\n",
    "    numbers = int(input('Enter number '))\n",
    "    if n % 2 == 0:\n",
    "        even_count = even_count +1\n",
    "    else:\n",
    "        odd_count += 1\n",
    "print(\"the odd numbers in the list are\",odd_count,\"and even numbers in the list are\", even_count)"
   ]
  },
  {
   "cell_type": "raw",
   "id": "aa76cf5f-281e-4be8-a0a5-c1c105268442",
   "metadata": {},
   "source": [
    "explanation:\n",
    "    firstly we creater a empty list, create two variables even_count and odd_countand initialize them to 0\n",
    "    In 2nd step we take a input from user\n",
    "    In 3rd step using we go through num and accept values for our list\n",
    "    In 4th step we check if number is even or odd using(n % 2 == 0) and print the output"
   ]
  },
  {
   "cell_type": "raw",
   "id": "c285d99b-e1f8-427b-9aee-2f833ff9333e",
   "metadata": {},
   "source": [
    "Q7. Develop a program that prints the squares of numbers from 1 to 5 using a `for` loop."
   ]
  },
  {
   "cell_type": "code",
   "execution_count": 15,
   "id": "cc2be961-1562-4e33-8706-1e8c5e1480be",
   "metadata": {},
   "outputs": [
    {
     "name": "stdout",
     "output_type": "stream",
     "text": [
      "the square of 1 is 1\n",
      "the square of 2 is 4\n",
      "the square of 3 is 9\n",
      "the square of 4 is 16\n",
      "the square of 5 is 25\n"
     ]
    }
   ],
   "source": [
    "for i in range(1,6):\n",
    "    print(\"the square of\",i,\"is\",i*i)"
   ]
  },
  {
   "cell_type": "raw",
   "id": "15a38c89-087c-4f5d-a284-9d8c6a7bbee8",
   "metadata": {},
   "source": [
    "explanation:\n",
    "    In 1st step using for loop we iterate over range of (1,6).\n",
    "    In 2nd step we print the output using i*i formula"
   ]
  },
  {
   "cell_type": "raw",
   "id": "0051a926-9a4d-494e-8765-aacd8b7e619a",
   "metadata": {},
   "source": [
    "Q8. Create a program to find the length of a string without using the `len()` function."
   ]
  },
  {
   "cell_type": "code",
   "execution_count": 24,
   "id": "5822f403-aa57-4f5f-b077-159846f2bb8b",
   "metadata": {},
   "outputs": [
    {
     "name": "stdin",
     "output_type": "stream",
     "text": [
      "Enter a string: lolita\n"
     ]
    },
    {
     "name": "stdout",
     "output_type": "stream",
     "text": [
      "6\n"
     ]
    }
   ],
   "source": [
    "string = input(\"Enter a string:\")\n",
    "\n",
    "print(len(string))"
   ]
  },
  {
   "cell_type": "raw",
   "id": "0ad2337a-9b6c-4789-af55-d424d3963f9d",
   "metadata": {},
   "source": [
    "explanation:\n",
    "    In 1st step we accept a input from user\n",
    "    In 2nd step we print the result \"the length of the string \" using len() function"
   ]
  },
  {
   "cell_type": "raw",
   "id": "8c5ab8dc-1724-407a-9325-ebaf17b3e44d",
   "metadata": {},
   "source": [
    "Q9. Write a program that calculates the average of a list of numbers using a `for` loop."
   ]
  },
  {
   "cell_type": "code",
   "execution_count": 28,
   "id": "b41d4d84-c0c1-4b94-a39a-5ccde0eb0f70",
   "metadata": {},
   "outputs": [
    {
     "name": "stdout",
     "output_type": "stream",
     "text": [
      "10.8\n"
     ]
    }
   ],
   "source": [
    "numbers = [25, 8, 2, 9, 10]\n",
    "total = 0\n",
    "for num in numbers:\n",
    "    total += num\n",
    "average = total / len(numbers)\n",
    "print(average)"
   ]
  },
  {
   "cell_type": "raw",
   "id": "dcad0525-9539-41e6-b65a-2e929eb13a47",
   "metadata": {},
   "source": [
    "explanation:\n",
    "    let cosider a list numbers\n",
    "    we initialize total to 0\n",
    "    now using for loop we iterate over a list and find total of all components of list\n",
    "    in next step we yake average of total number and print the result\n",
    "    "
   ]
  },
  {
   "cell_type": "raw",
   "id": "c8a2e347-7f42-4b47-bdd6-ebc4700bb913",
   "metadata": {},
   "source": [
    "Q10. Develop a program that prints the first `n` Fibonacci numbers using a `for` loop."
   ]
  },
  {
   "cell_type": "code",
   "execution_count": 30,
   "id": "a0659883-94dc-45a9-acdf-84e818a40b8e",
   "metadata": {},
   "outputs": [
    {
     "name": "stdin",
     "output_type": "stream",
     "text": [
      "Enter a number 5\n"
     ]
    },
    {
     "name": "stdout",
     "output_type": "stream",
     "text": [
      "0 1 1 2 3 "
     ]
    }
   ],
   "source": [
    "n = int(input(\"Enter a number\"))\n",
    "\n",
    "a=0 \n",
    "b=1 \n",
    "if n<=0:\n",
    "    print(\"The Output of your input is\",a)\n",
    "else:\n",
    "    print(a,b,end=\" \")\n",
    "    for x in range(2,n):\n",
    "        c=a+b\n",
    "        print(c,end=\" \")\n",
    "        a=b\n",
    "        b=c"
   ]
  },
  {
   "cell_type": "markdown",
   "id": "853f0a11-73e6-4923-9b5b-aa98fb8b5ac4",
   "metadata": {},
   "source": [
    "# Intermediate Level"
   ]
  },
  {
   "cell_type": "raw",
   "id": "2195b9ff-1cc0-40df-8d3c-5e35341bde25",
   "metadata": {},
   "source": [
    "Q11. Write a program to check if a given list contains any duplicates using a `for` loop."
   ]
  },
  {
   "cell_type": "code",
   "execution_count": 33,
   "id": "a7e9ed6e-cc87-4862-9475-2704a49180f4",
   "metadata": {},
   "outputs": [
    {
     "name": "stdin",
     "output_type": "stream",
     "text": [
      "How many numbers:  1\n",
      "Enter number  4\n"
     ]
    },
    {
     "name": "stdout",
     "output_type": "stream",
     "text": [
      "[]\n"
     ]
    }
   ],
   "source": [
    "l = []\n",
    "uniqueList = []\n",
    "duplicateList = []\n",
    "num = int(input('How many numbers: '))\n",
    "for n in range(num):\n",
    "    numbers = int(input('Enter number '))\n",
    "    if i not in uniqueList:\n",
    "        uniqueList.append(i)\n",
    "    elif i not in duplicateList:\n",
    "        duplicateList.append(i)\n",
    "print(duplicateList)\n",
    "    "
   ]
  },
  {
   "cell_type": "raw",
   "id": "aaef9e60-34f2-4c39-8964-e8a902eb0d4b",
   "metadata": {},
   "source": [
    "12. Create a program that prints the prime numbers in a given range using a `for` loop."
   ]
  },
  {
   "cell_type": "code",
   "execution_count": null,
   "id": "b90d4a50-e19c-45e6-ade5-2b77a9694d3d",
   "metadata": {},
   "outputs": [],
   "source": [
    "for i in range(20):\n",
    "    "
   ]
  },
  {
   "cell_type": "code",
   "execution_count": null,
   "id": "cf743255-a162-4f72-9a0e-5c0ff604387a",
   "metadata": {},
   "outputs": [],
   "source": [
    "def is_prime(number):\n",
    "    if number <= 1:\n",
    "        return False\n",
    "    for i in range(2, int(number**0.5) + 1):\n",
    "        if number % i == 0:\n",
    "            return False\n",
    "    return True\n",
    "\n",
    "def print_primes_in_range(start, end):\n",
    "    for num in range(start, end + 1):\n",
    "        if is_prime(num):\n",
    "            print(num)\n",
    "\n",
    "start_range = int(input(\"Enter the starting range: \"))\n",
    "end_range = int(input(\"Enter the ending range: \"))\n",
    "\n",
    "print(\"Prime numbers in the range\", start_range, \"to\", end_range, \"are:\")\n",
    "print_primes_in_range(start_range, end_range)\n"
   ]
  },
  {
   "cell_type": "raw",
   "id": "b9a2fc75-ebed-451b-8bf4-af28496bb42b",
   "metadata": {},
   "source": [
    "13. Develop a program that counts the number of vowels in a string using a `for` loop."
   ]
  },
  {
   "cell_type": "code",
   "execution_count": 7,
   "id": "a31740bc-76c0-40f2-a99a-d065b923a2b2",
   "metadata": {},
   "outputs": [
    {
     "name": "stdout",
     "output_type": "stream",
     "text": [
      "5\n"
     ]
    }
   ],
   "source": [
    "s = 'Education'\n",
    "s1 = s.lower()\n",
    "\n",
    "vowels = set('aeiou')\n",
    "vowel_count = 0\n",
    "\n",
    "for i in s1:\n",
    "    if i in vowels:\n",
    "        vowel_count += 1\n",
    "        \n",
    "print(vowel_count)"
   ]
  },
  {
   "cell_type": "raw",
   "id": "7def0390-4baa-4667-b1c5-41333625c91b",
   "metadata": {},
   "source": [
    "14. Write a program to find the maximum element in a 2D list using a nested `for` loop."
   ]
  },
  {
   "cell_type": "code",
   "execution_count": 13,
   "id": "37bd4c8f-9c6e-4937-8a22-fa9bc44b5892",
   "metadata": {},
   "outputs": [
    {
     "name": "stdout",
     "output_type": "stream",
     "text": [
      "Maximum element from list l_2d: 2234\n"
     ]
    }
   ],
   "source": [
    "l_2d = [[1,67,23,789,21,45,23,2234,56]]\n",
    "\n",
    "for i in l_2d:\n",
    "    max_l2d = max(i)\n",
    "print('Maximum element from list l_2d:',max_l2d)"
   ]
  },
  {
   "cell_type": "raw",
   "id": "90358172-61ca-4c5f-965a-fec45554bfa5",
   "metadata": {},
   "source": [
    "15. Create a program that removes all occurrences of a specific element from a list using a `for` loop."
   ]
  },
  {
   "cell_type": "code",
   "execution_count": 19,
   "id": "5741fc70-89f7-4c3b-8043-b648a3c039a5",
   "metadata": {},
   "outputs": [
    {
     "name": "stdout",
     "output_type": "stream",
     "text": [
      "List after removing 7 from the list: [1, 2, 3, 4, 5, 6]\n"
     ]
    }
   ],
   "source": [
    "l = [1,2,7,3,4,5,6,7,7]\n",
    "\n",
    "element = 7\n",
    "l1 = []\n",
    "\n",
    "for i in l:\n",
    "    if i == element:\n",
    "        pass\n",
    "    else:\n",
    "        l1.append(i)\n",
    "print('List after removing',element,'from the list:',l1)"
   ]
  },
  {
   "cell_type": "raw",
   "id": "aabbf2a9-4623-4d8e-8816-6d675a99cfd6",
   "metadata": {},
   "source": [
    "16. Develop a program that generates a multiplication table for numbers from 1 to 5 using a nested `for` loop."
   ]
  },
  {
   "cell_type": "code",
   "execution_count": 8,
   "id": "8edc500b-8904-408a-814a-b8324fe19f66",
   "metadata": {},
   "outputs": [
    {
     "name": "stdout",
     "output_type": "stream",
     "text": [
      "multiplication table for  1\n",
      "1  *  1  =  1\n",
      "1  *  2  =  2\n",
      "1  *  3  =  3\n",
      "1  *  4  =  4\n",
      "1  *  5  =  5\n",
      "1  *  6  =  6\n",
      "1  *  7  =  7\n",
      "1  *  8  =  8\n",
      "1  *  9  =  9\n",
      "1  *  10  =  10\n",
      "\n",
      "multiplication table for  2\n",
      "2  *  1  =  2\n",
      "2  *  2  =  4\n",
      "2  *  3  =  6\n",
      "2  *  4  =  8\n",
      "2  *  5  =  10\n",
      "2  *  6  =  12\n",
      "2  *  7  =  14\n",
      "2  *  8  =  16\n",
      "2  *  9  =  18\n",
      "2  *  10  =  20\n",
      "\n",
      "multiplication table for  3\n",
      "3  *  1  =  3\n",
      "3  *  2  =  6\n",
      "3  *  3  =  9\n",
      "3  *  4  =  12\n",
      "3  *  5  =  15\n",
      "3  *  6  =  18\n",
      "3  *  7  =  21\n",
      "3  *  8  =  24\n",
      "3  *  9  =  27\n",
      "3  *  10  =  30\n",
      "\n",
      "multiplication table for  4\n",
      "4  *  1  =  4\n",
      "4  *  2  =  8\n",
      "4  *  3  =  12\n",
      "4  *  4  =  16\n",
      "4  *  5  =  20\n",
      "4  *  6  =  24\n",
      "4  *  7  =  28\n",
      "4  *  8  =  32\n",
      "4  *  9  =  36\n",
      "4  *  10  =  40\n",
      "\n",
      "multiplication table for  5\n",
      "5  *  1  =  5\n",
      "5  *  2  =  10\n",
      "5  *  3  =  15\n",
      "5  *  4  =  20\n",
      "5  *  5  =  25\n",
      "5  *  6  =  30\n",
      "5  *  7  =  35\n",
      "5  *  8  =  40\n",
      "5  *  9  =  45\n",
      "5  *  10  =  50\n",
      "\n"
     ]
    }
   ],
   "source": [
    "start = 1\n",
    "end = 5\n",
    "\n",
    "for i in range(start, end+1):\n",
    "    print('multiplication table for ',i)\n",
    "    for j in range(1,11):\n",
    "        product = i * j\n",
    "        print(i,' * ',j ,' = ', product )\n",
    "    print()    "
   ]
  },
  {
   "cell_type": "raw",
   "id": "44d323b5-07ef-475f-8bf3-a4b6a8722131",
   "metadata": {},
   "source": [
    "17. Write a program that converts a list of Fahrenheit temperatures to Celsius using a `for` loop."
   ]
  },
  {
   "cell_type": "code",
   "execution_count": 24,
   "id": "48237c39-3157-4882-acc4-272e6d81312b",
   "metadata": {},
   "outputs": [
    {
     "name": "stdout",
     "output_type": "stream",
     "text": [
      "Fahrenheit temperatures to Celsius : [10.0, 21.11111111111111, 32.22222222222222, 65.55555555555556, 76.66666666666667, 93.33333333333333]\n"
     ]
    }
   ],
   "source": [
    "temp_in_fahrenheit = [50,70,90,150,170,200] \n",
    "temp_in_celsius = []\n",
    "\n",
    "for i in temp_in_fahrenheit:\n",
    "    celsius_temp = ((i-32)*5)/9\n",
    "    temp_in_celsius.append(celsius_temp)\n",
    "    \n",
    "print('Fahrenheit temperatures to Celsius :',temp_in_celsius)"
   ]
  },
  {
   "cell_type": "raw",
   "id": "82e54511-3e90-4417-b852-fae347f82b8f",
   "metadata": {},
   "source": [
    "18. Create a program to print the common elements from two lists using a `for` loop."
   ]
  },
  {
   "cell_type": "code",
   "execution_count": 27,
   "id": "08f94593-38a6-46c3-adeb-bde50c2df5b4",
   "metadata": {},
   "outputs": [
    {
     "name": "stdout",
     "output_type": "stream",
     "text": [
      "Common elements from list l1 and list l2: [5, 6, 7]\n"
     ]
    }
   ],
   "source": [
    "l1 = [1,2,3,4,5,6,7]\n",
    "l2 = [5,6,7,8]\n",
    "\n",
    "common_element = []\n",
    "\n",
    "for i in l1:\n",
    "    for j in l2:\n",
    "        if j == i:\n",
    "            common_element.append(j)\n",
    "            \n",
    "print('Common elements from list l1 and list l2:',common_element)"
   ]
  },
  {
   "cell_type": "raw",
   "id": "1b58de0c-6134-4aaa-9467-b52f0e16a849",
   "metadata": {},
   "source": [
    "19. Develop a program that prints the pattern of right-angled triangles using a `for` loop. Use ‘*’ to draw the pattern"
   ]
  },
  {
   "cell_type": "code",
   "execution_count": 34,
   "id": "2584405b-b8ad-4514-acc0-05328d5b6af6",
   "metadata": {},
   "outputs": [
    {
     "name": "stdout",
     "output_type": "stream",
     "text": [
      "*\n",
      "**\n",
      "***\n",
      "****\n",
      "*****\n"
     ]
    }
   ],
   "source": [
    "for i in range(1,6):\n",
    "    print('*'*i)"
   ]
  },
  {
   "cell_type": "raw",
   "id": "792c40e3-8dd3-4d6a-ad80-a16985cea233",
   "metadata": {},
   "source": [
    "20. Write a program to find the greatest common divisor (GCD) of two numbers using a `for` loop."
   ]
  },
  {
   "cell_type": "markdown",
   "id": "9dc7fcb3-243c-4b50-970d-6993c560e6ba",
   "metadata": {},
   "source": [
    "## Advanced Level:"
   ]
  },
  {
   "cell_type": "raw",
   "id": "2cf94045-99a9-410b-8fd4-74a6c9e8af87",
   "metadata": {},
   "source": [
    " 21. Create a program that calculates the sum of the digits of numbers in a list using a list comprehension."
   ]
  },
  {
   "cell_type": "code",
   "execution_count": 35,
   "id": "35f54234-37d6-4931-875e-31a7ef1b6a5d",
   "metadata": {},
   "outputs": [
    {
     "name": "stdout",
     "output_type": "stream",
     "text": [
      "The sum of digits in 123  is 6\n",
      "The sum of digits in 456  is 15\n",
      "The sum of digits in 789  is 24\n",
      "The sum of digits in 42  is 6\n"
     ]
    }
   ],
   "source": [
    "l = [123, 456, 789, 42]\n",
    "\n",
    "def digit_sum(n):\n",
    "    return sum(int(digit) for digit in str(n) if digit.isdigit())\n",
    "\n",
    "\n",
    "digit_sums = [digit_sum(n) for n in l]\n",
    "\n",
    "for i, n in enumerate(l):\n",
    "    print(\"The sum of digits in\" ,n,\" is\", digit_sums[i])\n"
   ]
  },
  {
   "cell_type": "raw",
   "id": "6b608848-c445-4371-bb11-d737e4fae9ff",
   "metadata": {},
   "source": [
    "23. Develop a program that extracts unique elements from a list and stores them in a new list using a list comprehension."
   ]
  },
  {
   "cell_type": "code",
   "execution_count": 36,
   "id": "597393a0-7f41-41d0-a266-3d933d0f45f7",
   "metadata": {},
   "outputs": [
    {
     "name": "stdout",
     "output_type": "stream",
     "text": [
      "Original List: [1, 2, 2, 3, 4, 4, 5, 6]\n",
      "Unique List: [1, 2, 3, 4, 5, 6]\n"
     ]
    }
   ],
   "source": [
    "l = [1, 2, 2, 3, 4, 4, 5, 6]\n",
    "\n",
    "unique_list = list(set([x for x in l ]))\n",
    "\n",
    "print(\"Original List:\", l)\n",
    "print(\"Unique List:\", unique_list)\n"
   ]
  },
  {
   "cell_type": "raw",
   "id": "d86eb36f-2d57-4e1b-857b-16ce3570fae3",
   "metadata": {},
   "source": [
    "24. Create a program that generates a list of all palindromic numbers up to a specified limit using a list comprehension."
   ]
  },
  {
   "cell_type": "code",
   "execution_count": null,
   "id": "c07f5ae9-da76-4865-a99f-9bd36bb023cb",
   "metadata": {},
   "outputs": [],
   "source": [
    "def is_palindromic(number):\n",
    "    return str(number) == str(number)[::-1]\n",
    "\n",
    "limit = int(input(\"Enter the upper limit: \"))\n",
    "\n",
    "palindromic_numbers = [num for num in range(1, limit + 1) if is_palindromic(num)]\n",
    "\n",
    "print(\"Palindromic Numbers up to\", limit, \"are:\", palindromic_numbers)"
   ]
  },
  {
   "cell_type": "raw",
   "id": "5627850f-561e-4d6c-8484-7068b00eddf9",
   "metadata": {},
   "source": [
    "25. Write a program to flatten a nested list using list comprehension."
   ]
  },
  {
   "cell_type": "code",
   "execution_count": null,
   "id": "5b36f73e-5c18-44b7-8904-9171e953766c",
   "metadata": {},
   "outputs": [],
   "source": [
    "l1 = [[1,2],[3,4],[5,6,7,8]]\n",
    "\n",
    "flatten_list = [j for i in l1 for j in i]\n",
    "\n",
    "print('Original list: ',l1)\n",
    "print('Flatten list: ', flatten_list)"
   ]
  },
  {
   "cell_type": "raw",
   "id": "1bcda779-7bcb-4ebf-b4f9-ea33cdbd2b7f",
   "metadata": {},
   "source": [
    "26. Develop a program that computes the sum of even and odd numbers in a list separately using list comprehension."
   ]
  },
  {
   "cell_type": "code",
   "execution_count": null,
   "id": "7f37930e-c980-49f0-8f0f-d6da8f814311",
   "metadata": {},
   "outputs": [],
   "source": [
    "l = [1,23,45,67,7,89,23,234,565,67,8,34,45,6]\n",
    "\n",
    "sum_of_even = [i for i in l if i % 2 == 0]\n",
    "sum_of_odd = [j for j in l if j % 2 != 0]\n",
    "\n",
    "print('Sum of even numbers in list :',sum(sum_of_even))\n",
    "print('Sum of odd numbers in list :',sum(sum_of_odd))"
   ]
  },
  {
   "cell_type": "raw",
   "id": "08b9a37d-fc08-40fc-9023-e7b3a2e63685",
   "metadata": {},
   "source": [
    "27. Create a program that generates a list of squares of odd numbers between 1 and 10 using list comprehension."
   ]
  },
  {
   "cell_type": "code",
   "execution_count": 40,
   "id": "1b41af30-6e75-42b9-b27f-60aa0da5f01a",
   "metadata": {},
   "outputs": [
    {
     "name": "stdout",
     "output_type": "stream",
     "text": [
      "List of squares of odd numbers between 1 to 10:  [1, 9, 25, 49, 81]\n"
     ]
    }
   ],
   "source": [
    "sq_of_odd_num = [i**2 for i in range(1,10,2)]\n",
    "print('List of squares of odd numbers between 1 to 10: ',sq_of_odd_num)"
   ]
  },
  {
   "cell_type": "raw",
   "id": "efeaad6b-a46a-4a4c-8694-ac4194638bbb",
   "metadata": {},
   "source": [
    "28. Write a program that combines two lists into a dictionary using list comprehension."
   ]
  },
  {
   "cell_type": "code",
   "execution_count": 45,
   "id": "ea37b63f-a815-44db-b70a-0e0322e2af95",
   "metadata": {},
   "outputs": [
    {
     "name": "stdout",
     "output_type": "stream",
     "text": [
      "Combined Dictionary: {'name': 'satish', 'age': 23, 'city': 'Chennai'}\n"
     ]
    }
   ],
   "source": [
    "keys = ['name', 'age','city']\n",
    "values = ['satish',23,'Chennai']\n",
    "\n",
    "combined_dict = {keys[i]: values[i] for i in range(min(len(keys), len(values)))}\n",
    "\n",
    "print(\"Combined Dictionary:\", combined_dict)\n"
   ]
  },
  {
   "cell_type": "raw",
   "id": "eef60de8-33e8-4d31-a1b8-1b8f155e6519",
   "metadata": {},
   "source": [
    "29. Develop a program that extracts the vowels from a string and stores them in a list using list comprehension."
   ]
  },
  {
   "cell_type": "code",
   "execution_count": null,
   "id": "187e2011-68ea-40f8-b660-23bbd86612ad",
   "metadata": {},
   "outputs": [],
   "source": []
  },
  {
   "cell_type": "raw",
   "id": "4065a658-5a2f-434e-8fe0-6dae88b6ced7",
   "metadata": {},
   "source": [
    "30. Create a program that removes all non-numeric characters from a list of strings using list comprehension."
   ]
  },
  {
   "cell_type": "code",
   "execution_count": null,
   "id": "c62f3ce0-d70c-423d-90bc-4fa0e01f1d6a",
   "metadata": {},
   "outputs": [],
   "source": []
  },
  {
   "cell_type": "markdown",
   "id": "fb3cc166-528c-4734-a95d-99868c067a76",
   "metadata": {},
   "source": [
    "## Challenge Level:"
   ]
  },
  {
   "cell_type": "raw",
   "id": "f14e9e04-6c0e-4d10-9ee1-fb5c45f6c856",
   "metadata": {},
   "source": [
    "31. Write a program to generate a list of prime numbers using the Sieve of Eratosthenes algorithm and list comprehension."
   ]
  },
  {
   "cell_type": "code",
   "execution_count": 9,
   "id": "8bbe2317-221b-4924-aed2-58ae2dfe7894",
   "metadata": {},
   "outputs": [
    {
     "name": "stdin",
     "output_type": "stream",
     "text": [
      "Enter the upper limit for prime numbers:  20\n"
     ]
    },
    {
     "name": "stdout",
     "output_type": "stream",
     "text": [
      "Prime numbers up to 20 are: [2, 3, 5, 7, 11, 13, 17, 19]\n"
     ]
    }
   ],
   "source": [
    "def sieve_eratosthenes(n):\n",
    "    sieve = [True] * (n + 1)\n",
    "    sieve[0] = sieve[1] = False\n",
    "\n",
    "    for p in range(2, int(n**0.5) + 1):\n",
    "        if sieve[p]:\n",
    "            for i in range(p * p, n + 1, p):\n",
    "                sieve[i] = False\n",
    "\n",
    "    return [p for p in range(2, n + 1) if sieve[p]]\n",
    "\n",
    "limit = int(input(\"Enter the upper limit for prime numbers: \"))\n",
    "\n",
    "primes = sieve_eratosthenes(limit)\n",
    "print(\"Prime numbers up to\", limit, \"are:\", primes)"
   ]
  },
  {
   "cell_type": "raw",
   "id": "2f100c54-01b9-4c3e-9332-3f092f47f32a",
   "metadata": {},
   "source": [
    "32. Create a program that generates a list of all Pythagorean triplets up to a specified limit using list comprehension."
   ]
  },
  {
   "cell_type": "code",
   "execution_count": 2,
   "id": "50df618c-aa4d-4818-9e80-a5dcf0ae711a",
   "metadata": {},
   "outputs": [
    {
     "name": "stdin",
     "output_type": "stream",
     "text": [
      "Enter the upper limit for Pythagorean triplets:  55\n"
     ]
    },
    {
     "name": "stdout",
     "output_type": "stream",
     "text": [
      "Pythagorean triplets up to 55 are: [(3, 4, 5), (5, 12, 13), (6, 8, 10), (7, 24, 25), (8, 15, 17), (9, 12, 15), (9, 40, 41), (10, 24, 26), (12, 16, 20), (12, 35, 37), (14, 48, 50), (15, 20, 25), (15, 36, 39), (16, 30, 34), (18, 24, 30), (20, 21, 29), (20, 48, 52), (21, 28, 35), (24, 32, 40), (24, 45, 51), (27, 36, 45), (28, 45, 53), (30, 40, 50), (33, 44, 55)]\n"
     ]
    }
   ],
   "source": [
    "def pythagorean_triplets(limit):\n",
    "    triplets = [(a, b, c) for a in range(1, limit + 1) for b in range(a, limit + 1) for c in range(b, limit + 1) if a**2 + b**2 == c**2]\n",
    "    return triplets\n",
    "\n",
    "limit = int(input(\"Enter the upper limit for Pythagorean triplets: \"))\n",
    "\n",
    "pythagorean_triplets = pythagorean_triplets(limit)\n",
    "print(\"Pythagorean triplets up to\", limit, \"are:\", pythagorean_triplets)\n"
   ]
  },
  {
   "cell_type": "raw",
   "id": "5da6b468-89a6-473c-a230-08622243501a",
   "metadata": {},
   "source": [
    "33. Develop a program that generates a list of all possible combinations of two lists using list comprehension."
   ]
  },
  {
   "cell_type": "code",
   "execution_count": 3,
   "id": "b591a758-3a4e-40c2-a14a-106a6cfe29d3",
   "metadata": {},
   "outputs": [
    {
     "name": "stdout",
     "output_type": "stream",
     "text": [
      "All possible combinations of list1 and list2:\n",
      "(1, 'a')\n",
      "(1, 'b')\n",
      "(1, 'c')\n",
      "(2, 'a')\n",
      "(2, 'b')\n",
      "(2, 'c')\n",
      "(3, 'a')\n",
      "(3, 'b')\n",
      "(3, 'c')\n"
     ]
    }
   ],
   "source": [
    "list1 = [1, 2, 3]\n",
    "list2 = ['a', 'b', 'c']\n",
    "\n",
    "combinations = [(x, y) for x in list1 for y in list2]\n",
    "\n",
    "print(\"All possible combinations of list1 and list2:\")\n",
    "for combination in combinations:\n",
    "    print(combination)\n"
   ]
  },
  {
   "cell_type": "raw",
   "id": "0e6a613e-3f42-4f1a-a2da-d7ca91dc5e83",
   "metadata": {},
   "source": [
    "34. Write a program that calculates the mean, median, and mode of a list of numbers using list comprehension."
   ]
  },
  {
   "cell_type": "code",
   "execution_count": 4,
   "id": "32fa656d-aaf0-4416-ac3d-ff2602479ab4",
   "metadata": {},
   "outputs": [
    {
     "name": "stdout",
     "output_type": "stream",
     "text": [
      "List of Numbers: [1, 2, 3, 5, 7, 9, 2, 6, 8]\n",
      "Mean: 4.777777777777778\n",
      "Median: 5.0\n",
      "Mode: 2\n"
     ]
    }
   ],
   "source": [
    "l = [1,2,3,4,5,6,7]\n",
    "\n",
    "import statistics\n",
    "numbers = [1,2,3,5,7,9,2,6,8]\n",
    "\n",
    "\n",
    "mean = sum(numbers) / len(numbers)\n",
    "\n",
    "sorted_numbers = sorted(numbers)\n",
    "n = len(sorted_numbers)\n",
    "median = (sorted_numbers[n // 2] + sorted_numbers[(n - 1) // 2]) / 2\n",
    "\n",
    "mode = statistics.mode(numbers)\n",
    "\n",
    "# Print the results\n",
    "print(\"List of Numbers:\", numbers)\n",
    "print(\"Mean:\", mean)\n",
    "print(\"Median:\", median)\n",
    "print(\"Mode:\", mode)\n"
   ]
  },
  {
   "cell_type": "raw",
   "id": "ed827b94-6bef-4892-b623-7ee8bc061559",
   "metadata": {},
   "source": [
    "36. Develop a program that calculates the sum of the digits of a factorial of numbers from 1 to 5 using list comprehension."
   ]
  },
  {
   "cell_type": "code",
   "execution_count": 12,
   "id": "d0b23558-0165-4562-b562-bbf0297f5186",
   "metadata": {},
   "outputs": [
    {
     "name": "stdout",
     "output_type": "stream",
     "text": [
      "The sum of digits of 1 ! is  1\n",
      "The sum of digits of 2 ! is  2\n",
      "The sum of digits of 3 ! is  6\n",
      "The sum of digits of 4 ! is  6\n",
      "The sum of digits of 5 ! is  3\n"
     ]
    }
   ],
   "source": [
    "def factorial(n):   # function for factorial\n",
    "    if n == 0:\n",
    "        return 1\n",
    "    else:\n",
    "        return n * factorial(n - 1)\n",
    "\n",
    "factorial_sums = [sum(int(digit) for digit in str(factorial(num))) for num in range(1, 6)]    # list comprhension\n",
    "\n",
    "for num, factorial_sum in enumerate(factorial_sums, start=1):    \n",
    "    print(\"The sum of digits of\", num,\"! is \",factorial_sum)\n"
   ]
  },
  {
   "cell_type": "raw",
   "id": "4cf93c7c-d85c-42b6-9d1b-27eb3f7cb83a",
   "metadata": {},
   "source": [
    "37. Write a program that finds the longest word in a sentence using list comprehension."
   ]
  },
  {
   "cell_type": "code",
   "execution_count": 14,
   "id": "66c5409d-92ab-4436-9262-b8cae9290751",
   "metadata": {},
   "outputs": [
    {
     "name": "stdin",
     "output_type": "stream",
     "text": [
      "Enter a sentence:  this is the policy\n"
     ]
    },
    {
     "name": "stdout",
     "output_type": "stream",
     "text": [
      "The longest word in the sentence is: policy\n"
     ]
    }
   ],
   "source": [
    "s = input(\"Enter a sentence: \")\n",
    "\n",
    "words = s.split()\n",
    "longest_word = max(words, key=len)\n",
    "\n",
    "print(\"The longest word in the sentence is:\", longest_word)\n"
   ]
  },
  {
   "cell_type": "raw",
   "id": "24b156a9-6e62-4367-a0b0-2e0888179350",
   "metadata": {},
   "source": [
    "38. Create a program that filters a list of strings to include only those with more than three vowels using list\n",
    "comprehension."
   ]
  },
  {
   "cell_type": "code",
   "execution_count": 23,
   "id": "1fa5c17c-9962-4c44-8745-7d4a65f4ed7b",
   "metadata": {},
   "outputs": [
    {
     "name": "stdout",
     "output_type": "stream",
     "text": [
      "Original List of Strings: ['sun', 'education', 'mobile', 'samsung']\n",
      "Strings with more than three vowels: ['education']\n"
     ]
    }
   ],
   "source": [
    "def count_vowels(string):\n",
    "    vowels = \"AEIOUaeiou\"\n",
    "    return sum(1 for char in string if char in vowels)\n",
    "\n",
    "s = [\"sun\", \"education\", \"mobile\", \"samsung\"]\n",
    "\n",
    "filtered_strings = [string for string in s if count_vowels(string) > 3]\n",
    "\n",
    "print(\"Original List of Strings:\", s)\n",
    "print(\"Strings with more than three vowels:\", filtered_strings)\n"
   ]
  },
  {
   "cell_type": "raw",
   "id": "0021ace4-042d-4dd9-9693-77d33696d9f4",
   "metadata": {},
   "source": [
    "39. Develop a program that calculates the sum of the digits of numbers from 1 to 1000 using list comprehension."
   ]
  },
  {
   "cell_type": "code",
   "execution_count": 25,
   "id": "bda85acf-51a4-410c-9319-caf8329dc49a",
   "metadata": {},
   "outputs": [
    {
     "name": "stdout",
     "output_type": "stream",
     "text": [
      "The sum of the digits of numbers from 1 to 1000 is: 13501\n"
     ]
    }
   ],
   "source": [
    "def digit_sum(n):\n",
    "    return sum(int(digit) for digit in str(n))\n",
    "\n",
    "digit_sums = [digit_sum(n) for n in range(1, 1001)]\n",
    "\n",
    "total_sum = sum(digit_sums)\n",
    "\n",
    "print(\"The sum of the digits of numbers from 1 to 1000 is:\", total_sum)\n"
   ]
  }
 ],
 "metadata": {
  "kernelspec": {
   "display_name": "Python 3 (ipykernel)",
   "language": "python",
   "name": "python3"
  },
  "language_info": {
   "codemirror_mode": {
    "name": "ipython",
    "version": 3
   },
   "file_extension": ".py",
   "mimetype": "text/x-python",
   "name": "python",
   "nbconvert_exporter": "python",
   "pygments_lexer": "ipython3",
   "version": "3.10.8"
  }
 },
 "nbformat": 4,
 "nbformat_minor": 5
}
